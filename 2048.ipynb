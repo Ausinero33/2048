{
 "cells": [
  {
   "cell_type": "code",
   "execution_count": 165,
   "metadata": {},
   "outputs": [],
   "source": [
    "#IMPORTS\n",
    "from copy import deepcopy\n",
    "from typing import Tuple, List\n",
    "import numpy as np\n",
    "import random as rd\n",
    "import math\n",
    "from IPython.display import clear_output"
   ]
  },
  {
   "cell_type": "code",
   "execution_count": 166,
   "metadata": {},
   "outputs": [],
   "source": [
    "class Tablero:\n",
    "    def __init__(self, matrix):\n",
    "        self.setMatrix(matrix)\n",
    "        self.punt = 0\n",
    "    \n",
    "    def __eq__(self, other: 'Tablero') -> bool:\n",
    "        return (self.getMatrix()==other.getMatrix()).all()\n",
    "\n",
    "    def setMatrix(self, matrix) -> None:\n",
    "        self.matrix = deepcopy(np.array(matrix))\n",
    "    \n",
    "    def getMatrix(self) -> List[List]:\n",
    "        return deepcopy(self.matrix)\n",
    "    \n",
    "    def placeTile(self, row: int, col: int, tile: int) -> None:\n",
    "        self.matrix[row][col] = tile\n",
    "\n",
    "    def getNeighbors(self, i, j) -> List:\n",
    "        vecinos = []\n",
    "        for fil in range(-1, 2, +1):\n",
    "            for col in range(-1, 2, +1):\n",
    "                if i + fil >= 0 and i + fil < 4 and j + col >= 0 and j + col < 4:\n",
    "                    vecinos.append(self.matrix[i + fil][j + col])\n",
    "        return vecinos\n",
    "\n",
    "    def similitud(self) -> float:\n",
    "        sim = 0\n",
    "        for i in range(0,4):\n",
    "            for j in range(0,4):\n",
    "                if self.matrix[i][j]:\n",
    "                    sum = 0\n",
    "                    vecinos = self.getNeighbors(i, j)\n",
    "                    l = 0\n",
    "                    for v in vecinos:\n",
    "                        if v != 0:\n",
    "                            sum += abs(self.matrix[i][j] - v)\n",
    "                            l += 1\n",
    "                    if l != 0:\n",
    "                        sim += sum / l\n",
    "        return sim\n",
    "\n",
    "    def monotonia(self) -> int:\n",
    "        matrizMonotonia = np.array([\n",
    "            [7,6,5,4],\n",
    "            [6,4,3,3],\n",
    "            [5,3,3,2],\n",
    "            [4,3,2,1]\n",
    "        ])\n",
    "\n",
    "        return np.sum(np.multiply(self.matrix, matrizMonotonia))\n",
    "\n",
    "    def snake(self) -> int:\n",
    "        matrizSerpiente = np.array([\n",
    "            [2**15,2**8,2**7,2**0],\n",
    "            [2**14,2**9,2**6,2**1],\n",
    "            [2**13,2**10,2**5,2**2],\n",
    "            [2**12,2**11,2**4,2**3]\n",
    "        ])\n",
    "\n",
    "        return np.sum(np.multiply(self.matrix, matrizSerpiente))\n",
    "\n",
    "    def maxInCorner(self) -> int:\n",
    "        if(self.matrix[0][0] != self.maxNumber()):\n",
    "            return 0\n",
    "        return 1 \n",
    "\n",
    "    def celdasVacias(self):\n",
    "        return 16 - np.count_nonzero(self.matrix)\n",
    "\n",
    "    def maxNumber(self) -> int:\n",
    "        return self.matrix.max()\n",
    "\n",
    "    def max2048(self) -> int:\n",
    "        if self.maxNumber() == 2048:\n",
    "            return 10000\n",
    "        return 1\n",
    "\n",
    "    def utility(self, util: int) -> int:\n",
    "        score = 0\n",
    "        if not self.punt:\n",
    "            score = 1\n",
    "        else:\n",
    "            score = self.punt\n",
    "\n",
    "        if util == 1:\n",
    "            return score + self.monotonia() - self.similitud() + (math.log(score) * self.celdasVacias())\n",
    "        if util == 2:\n",
    "            return self.monotonia() - self.similitud() + (math.log(score) * self.celdasVacias())\n",
    "        if util == 3:\n",
    "            return score - self.similitud() + (math.log(score) * self.celdasVacias())\n",
    "        if util == 4:\n",
    "            return score + (self.celdasVacias() * math.log2(self.maxNumber())) + self.monotonia()\n",
    "        if util == 5:\n",
    "            return self.snake() * self.maxInCorner() * self.max2048()\n",
    "\n",
    "    # def desplazarCerosDer(self, sublista) -> list:\n",
    "    #     #Desplaza todos los 0 (celdas sin pieza) a la derecha. Ej: 0 2 2 0 -> 2 2 0 0\n",
    "    #     lista = [n for n in sublista if n != 0]\n",
    "    #     for i in range(0, len(sublista) - len(lista)):\n",
    "    #         lista.append(0)\n",
    "    #     return lista\n",
    "    \n",
    "    # def desplazarCerosIzq(self, sublista) -> list:\n",
    "    #     #Desplaza todos los 0 (celdas sin pieza) a la izquierda. Ej: 0 2 2 0 -> 0 0 2 2\n",
    "    #     lista = [n for n in sublista if n != 0]\n",
    "    #     for i in range(0, len(sublista) - len(lista)):\n",
    "    #         lista.insert(0, 0)\n",
    "    #     return lista\n",
    "\n",
    "    # def copiarColumna(self, columna: int, colCp: list) -> None:\n",
    "    #     for i in range(0, 4):\n",
    "    #         self.matrix[i][columna] = colCp[i]\n",
    "\n",
    "    # def up(self) -> None:\n",
    "    #     for i in range(0,4):\n",
    "    #         columna = self.matrix[:, i]\n",
    "    #         actual = 0\n",
    "    #         siguiente = 0\n",
    "    #         pos = 0\n",
    "    #         while pos <= 3:\n",
    "    #             columna = self.desplazarCerosDer(columna)\n",
    "    #             actual = columna[pos]\n",
    "    #             if pos + 1 > 3:\n",
    "    #                 break\n",
    "    #             siguiente = columna[pos + 1]\n",
    "    #             if not siguiente:\n",
    "    #                 pos += 1\n",
    "    #                 continue\n",
    "    #             if actual == siguiente:\n",
    "    #                 actual += siguiente\n",
    "    #                 self.punt += actual\n",
    "    #                 columna[pos + 1] = 0\n",
    "    #                 columna[pos] = actual\n",
    "    #             pos += 1\n",
    "    #         self.copiarColumna(i, columna)  \n",
    "    \n",
    "    # def down(self) -> None:\n",
    "    #     for i in range(0,4):\n",
    "    #         columna = self.matrix[:, i]\n",
    "    #         actual = 0\n",
    "    #         siguiente = 0\n",
    "    #         pos = 3\n",
    "    #         while pos >= 0:\n",
    "    #             columna = self.desplazarCerosIzq(columna)\n",
    "    #             actual = columna[pos]\n",
    "    #             if pos - 1 < 0:\n",
    "    #                 break\n",
    "    #             siguiente = columna[pos - 1]\n",
    "    #             if not siguiente:\n",
    "    #                 pos -= 1\n",
    "    #                 continue\n",
    "    #             if actual == siguiente:\n",
    "    #                 actual += siguiente\n",
    "    #                 self.punt += actual\n",
    "    #                 columna[pos - 1] = 0\n",
    "    #                 columna[pos] = actual\n",
    "    #             pos -= 1\n",
    "    #         self.copiarColumna(i, columna)  \n",
    "   \n",
    "    \n",
    "    # def left(self) -> None:\n",
    "    #     for i in range(0,4):\n",
    "    #         fila = self.matrix[i]\n",
    "    #         actual = 0\n",
    "    #         siguiente = 0\n",
    "    #         pos = 0\n",
    "    #         while pos <= 3:\n",
    "    #             fila = self.desplazarCerosDer(fila)\n",
    "    #             actual = fila[pos]\n",
    "    #             if pos + 1 > 3:\n",
    "    #                 break\n",
    "    #             siguiente = fila[pos + 1]\n",
    "    #             if not siguiente:\n",
    "    #                 pos += 1\n",
    "    #                 continue\n",
    "    #             if actual == siguiente:\n",
    "    #                 actual += siguiente\n",
    "    #                 self.punt += actual\n",
    "    #                 fila[pos + 1] = 0\n",
    "    #                 fila[pos] = actual\n",
    "    #             pos += 1\n",
    "    #         self.matrix[i] = fila\n",
    "    \n",
    "    # def right(self) -> None:\n",
    "    #     for i in range(0,4):\n",
    "    #         fila = self.matrix[i]\n",
    "    #         actual = 0\n",
    "    #         siguiente = 0\n",
    "    #         pos = 3\n",
    "    #         while pos >= 0:\n",
    "    #             fila = self.desplazarCerosIzq(fila)\n",
    "    #             actual = fila[pos]\n",
    "    #             if pos - 1 < 0:\n",
    "    #                 break\n",
    "    #             siguiente = fila[pos - 1]\n",
    "    #             if not siguiente:\n",
    "    #                 pos -= 1\n",
    "    #                 continue\n",
    "    #             if actual == siguiente:\n",
    "    #                 actual += siguiente\n",
    "    #                 self.punt += actual\n",
    "    #                 fila[pos - 1] = 0\n",
    "    #                 fila[pos] = actual\n",
    "    #             pos -= 1\n",
    "    #         self.matrix[i] = fila\n",
    "    \n",
    "    # def move(self, mv: int) -> None:\n",
    "    #     if not mv:\n",
    "    #         self.up()\n",
    "    #     elif mv == 1:\n",
    "    #         self.down()\n",
    "    #     elif mv == 2:\n",
    "    #         self.left()\n",
    "    #     else:\n",
    "    #         self.right()\n",
    "\n"
   ]
  },
  {
   "cell_type": "code",
   "execution_count": 167,
   "metadata": {},
   "outputs": [],
   "source": [
    "class Controlador:\n",
    "    def __init__(self, tablero: Tablero):\n",
    "        self.tablero = tablero\n",
    "        self.util = 5\n",
    "\n",
    "    def selfTab(self, tab: Tablero):\n",
    "        if tab is None:\n",
    "            return self.tablero\n",
    "        return tab\n",
    "\n",
    "    def setUtil(self, util: int) -> None:\n",
    "        self.util = util\n",
    "\n",
    "    def utility(self, tab: Tablero=None) -> None:\n",
    "        tab = self.selfTab(tab)\n",
    "        return tab.utility(self.util)\n",
    "\n",
    "    def placeTile(self, row: int, col: int, tile: int, tab: Tablero=None) -> None:\n",
    "        tab = self.selfTab(tab)\n",
    "        tab.placeTile(row, col, tile)\n",
    "\n",
    "    def canMoveUp(self, tab: Tablero=None) -> bool:\n",
    "        tab = self.selfTab(tab)\n",
    "        for col in range(4):\n",
    "            for fil in range(3, 0, -1):\n",
    "                if(tab.matrix[fil][col] and\n",
    "                   (tab.matrix[fil-1][col] == 0 or\n",
    "                   tab.matrix[fil-1][col] == tab.matrix[fil][col])):\n",
    "                    return True\n",
    "        return False\n",
    "\n",
    "    def canMoveDown(self, tab: Tablero=None) -> bool:\n",
    "        tab = self.selfTab(tab)\n",
    "        for col in range(4):\n",
    "            for fil in range(0, 3, +1):\n",
    "                if(tab.matrix[fil][col] and\n",
    "                   (tab.matrix[fil+1][col] == 0 or\n",
    "                   tab.matrix[fil+1][col] == tab.matrix[fil][col])):\n",
    "                    return True\n",
    "        return False\n",
    "\n",
    "    def canMoveLeft(self, tab: Tablero=None) -> bool:\n",
    "        tab = self.selfTab(tab)\n",
    "        for fil in range(4):\n",
    "            for col in range(3, 0, -1):\n",
    "                if(tab.matrix[fil][col] and\n",
    "                   (tab.matrix[fil][col-1] == 0 or\n",
    "                   tab.matrix[fil][col-1] == tab.matrix[fil][col])):\n",
    "                    return True\n",
    "        return False\n",
    "\n",
    "    def canMoveRight(self, tab: Tablero=None) -> bool:\n",
    "        tab = self.selfTab(tab)\n",
    "        for fil in range(4):\n",
    "            for col in range(0, 3, +1):\n",
    "                if(tab.matrix[fil][col] and\n",
    "                   (tab.matrix[fil][col+1] == 0 or\n",
    "                   tab.matrix[fil][col+1] == tab.matrix[fil][col])):\n",
    "                    return True\n",
    "        return False\n",
    "\n",
    "    def canMove(self, mov: int) -> bool:\n",
    "        if not mov:\n",
    "            return self.canMoveUp(self.tablero)\n",
    "        if mov == 1:\n",
    "            return self.canMoveDown(self.tablero)\n",
    "        if mov == 2:\n",
    "            return self.canMoveLeft(self.tablero)\n",
    "        if mov == 3:\n",
    "            return self.canMoveRight(self.tablero)\n",
    "    \n",
    "    def getAvailableMovesForMax(self, tab: Tablero=None) -> List[int]:\n",
    "        tab = self.selfTab(tab)\n",
    "        mov = []\n",
    "\n",
    "        if self.canMoveUp(tab):\n",
    "            mov.append(0)\n",
    "        if self.canMoveLeft(tab):\n",
    "            mov.append(2)\n",
    "        if self.canMoveDown(tab):\n",
    "            mov.append(1)\n",
    "        if self.canMoveRight(tab):\n",
    "            mov.append(3)\n",
    "        \n",
    "        return mov\n",
    "    \n",
    "    def getAvailableMovesForMin(self, tab: Tablero=None) -> List[Tuple[int]]:\n",
    "        tab = self.selfTab(tab)\n",
    "        mov = []\n",
    "\n",
    "        for i in range(0,4):\n",
    "            for j in range(0,4):\n",
    "                if not self.tablero.matrix[i][j]:\n",
    "                    mov.append((i, j, 4))\n",
    "                    mov.append((i, j, 2))\n",
    "        return mov\n",
    "\n",
    "    def getChildren(self, str: str, tab: Tablero=None) -> List:\n",
    "        tab = self.selfTab(tab)\n",
    "        lista = []\n",
    "        if str == \"max\":\n",
    "            for i in self.getAvailableMovesForMax(tab):\n",
    "                copia = Tablero(tab.getMatrix())\n",
    "                self.move(i, copia)\n",
    "                lista.append(copia)\n",
    "            return lista\n",
    "        else:\n",
    "            for i in self.getAvailableMovesForMin(tab):\n",
    "                copia = Tablero(tab.getMatrix())\n",
    "                self.placeTile(i[0], i[1], i[2], copia)\n",
    "                lista.append(copia)\n",
    "            return lista\n",
    "\n",
    "\n",
    "    def isTerminal(self, who: str, tab: Tablero=None) -> bool:\n",
    "        tab = self.selfTab(tab)\n",
    "        if who == \"max\":\n",
    "            if self.canMoveUp(tab):\n",
    "                return False\n",
    "            if self.canMoveDown(tab):\n",
    "                return False\n",
    "            if self.canMoveLeft(tab):\n",
    "                return False\n",
    "            if self.canMoveRight(tab):\n",
    "                return False\n",
    "        else:\n",
    "            if 0 in tab.matrix:\n",
    "                return False\n",
    "        return True\n",
    "\n",
    "  \n",
    "    def isGameOver(self, tab: Tablero=None) -> bool:\n",
    "        tab = self.selfTab(tab)\n",
    "        return self.isTerminal(\"max\", tab) #and self.isTerminal(\"max\")\n",
    "\n",
    "    def desplazarCerosDer(self, sublista) -> list:\n",
    "        #Desplaza todos los 0 (celdas sin pieza) a la derecha. Ej: 0 2 2 0 -> 2 2 0 0\n",
    "        lista = [n for n in sublista if n != 0]\n",
    "        for i in range(0, len(sublista) - len(lista)):\n",
    "            lista.append(0)\n",
    "        return lista\n",
    "    \n",
    "    def desplazarCerosIzq(self, sublista) -> list:\n",
    "        #Desplaza todos los 0 (celdas sin pieza) a la izquierda. Ej: 0 2 2 0 -> 0 0 2 2\n",
    "        lista = [n for n in sublista if n != 0]\n",
    "        for i in range(0, len(sublista) - len(lista)):\n",
    "            lista.insert(0, 0)\n",
    "        return lista\n",
    "\n",
    "    def copiarColumna(self, columna: int, colCp: list) -> None:\n",
    "        for i in range(0, 4):\n",
    "            self.tablero.matrix[i][columna] = colCp[i]\n",
    "                \n",
    "    def up(self, tab: Tablero=None) -> None:\n",
    "        tab = self.selfTab(tab)\n",
    "        for i in range(0,4):\n",
    "            columna = tab.matrix[:, i]\n",
    "            actual = 0\n",
    "            siguiente = 0\n",
    "            pos = 0\n",
    "            while pos <= 3:\n",
    "                columna = self.desplazarCerosDer(columna)\n",
    "                actual = columna[pos]\n",
    "                if pos + 1 > 3:\n",
    "                    break\n",
    "                siguiente = columna[pos + 1]\n",
    "                if not siguiente:\n",
    "                    pos += 1\n",
    "                    continue\n",
    "                if actual == siguiente:\n",
    "                    actual += siguiente\n",
    "                    tab.punt += actual\n",
    "                    columna[pos + 1] = 0\n",
    "                    columna[pos] = actual\n",
    "                pos += 1\n",
    "            self.copiarColumna(i, columna)  \n",
    "    \n",
    "    def down(self, tab: Tablero=None) -> None:\n",
    "        tab = self.selfTab(tab)\n",
    "        for i in range(0,4):\n",
    "            columna = tab.matrix[:, i]\n",
    "            actual = 0\n",
    "            siguiente = 0\n",
    "            pos = 3\n",
    "            while pos >= 0:\n",
    "                columna = self.desplazarCerosIzq(columna)\n",
    "                actual = columna[pos]\n",
    "                if pos - 1 < 0:\n",
    "                    break\n",
    "                siguiente = columna[pos - 1]\n",
    "                if not siguiente:\n",
    "                    pos -= 1\n",
    "                    continue\n",
    "                if actual == siguiente:\n",
    "                    actual += siguiente\n",
    "                    tab.punt += actual\n",
    "                    columna[pos - 1] = 0\n",
    "                    columna[pos] = actual\n",
    "                pos -= 1\n",
    "            self.copiarColumna(i, columna)  \n",
    "   \n",
    "    \n",
    "    def left(self, tab: Tablero=None) -> None:\n",
    "        tab = self.selfTab(tab)\n",
    "        for i in range(0,4):\n",
    "            fila = tab.matrix[i]\n",
    "            actual = 0\n",
    "            siguiente = 0\n",
    "            pos = 0\n",
    "            while pos <= 3:\n",
    "                fila = self.desplazarCerosDer(fila)\n",
    "                actual = fila[pos]\n",
    "                if pos + 1 > 3:\n",
    "                    break\n",
    "                siguiente = fila[pos + 1]\n",
    "                if not siguiente:\n",
    "                    pos += 1\n",
    "                    continue\n",
    "                if actual == siguiente:\n",
    "                    actual += siguiente\n",
    "                    tab.punt += actual\n",
    "                    fila[pos + 1] = 0\n",
    "                    fila[pos] = actual\n",
    "                pos += 1\n",
    "            tab.matrix[i] = fila\n",
    "    \n",
    "    def right(self, tab: Tablero=None) -> None:\n",
    "        tab = self.selfTab(tab)\n",
    "        for i in range(0,4):\n",
    "            fila = tab.matrix[i]\n",
    "            actual = 0\n",
    "            siguiente = 0\n",
    "            pos = 3\n",
    "            while pos >= 0:\n",
    "                fila = self.desplazarCerosIzq(fila)\n",
    "                actual = fila[pos]\n",
    "                if pos - 1 < 0:\n",
    "                    break\n",
    "                siguiente = fila[pos - 1]\n",
    "                if not siguiente:\n",
    "                    pos -= 1\n",
    "                    continue\n",
    "                if actual == siguiente:\n",
    "                    actual += siguiente\n",
    "                    tab.punt += actual\n",
    "                    fila[pos - 1] = 0\n",
    "                    fila[pos] = actual\n",
    "                pos -= 1\n",
    "            tab.matrix[i] = fila\n",
    "    \n",
    "    def move(self, mv: int, tab: Tablero=None) -> None:\n",
    "        tab = self.selfTab(tab)\n",
    "        if not mv:\n",
    "            self.up(tab)\n",
    "        elif mv == 1:\n",
    "            self.down(tab)\n",
    "        elif mv == 2:\n",
    "            self.left(tab)\n",
    "        else:\n",
    "            self.right(tab)\n",
    "\n",
    "    def getMoveTo(self, hijo: 'Tablero', tab: Tablero=None) -> int:\n",
    "        tab = self.selfTab(tab)\n",
    "        if self.canMoveUp():\n",
    "            g = Tablero(tab.getMatrix())\n",
    "            self.up(g)\n",
    "            if g == hijo:\n",
    "                return 0\n",
    "        if self.canMoveDown():\n",
    "            g = Tablero(tab.getMatrix())\n",
    "            self.down(g)\n",
    "            if g == hijo:\n",
    "                return 1\n",
    "        if self.canMoveLeft():\n",
    "            g = Tablero(tab.getMatrix())\n",
    "            self.left(g)\n",
    "            if g == hijo:\n",
    "                return 2\n",
    "        return 3\n",
    "\n",
    "    def maximize(self, alfa, beta, p: int, tab: Tablero=None) -> Tuple['Tablero', int]:\n",
    "        tab = self.selfTab(tab)\n",
    "        if self.isTerminal(\"max\", tab) or not p:\n",
    "            return(None, self.utility(tab))\n",
    "        (estadoMaximo, puntiacionMaxima) = (None, -999)\n",
    "\n",
    "        p -= 1\n",
    "        for hijo in self.getChildren(\"max\", tab):\n",
    "            (_, puntuacion) = self.minimize(alfa, beta, p, hijo)\n",
    "            if puntuacion > puntiacionMaxima:\n",
    "                (estadoMaximo, puntiacionMaxima) = (hijo, puntuacion)\n",
    "            if puntiacionMaxima >= beta:\n",
    "                break\n",
    "            if puntiacionMaxima > alfa:\n",
    "                alfa = puntiacionMaxima\n",
    "\n",
    "        return (estadoMaximo, puntiacionMaxima)\n",
    "\n",
    "    def minimize(self, alfa, beta, p: int, tab: Tablero=None) -> Tuple['Tablero', int]:\n",
    "        tab = self.selfTab(tab)\n",
    "        if self.isTerminal(\"min\", tab) or not p:\n",
    "            return(None, self.utility(tab))\n",
    "        (estadoMinimo, puntuacionMinima) = (None, math.inf)\n",
    "\n",
    "        p -= 1\n",
    "        for hijo in self.getChildren(\"min\", tab):\n",
    "            (_, puntuacion) = self.maximize(alfa, beta, p, hijo)\n",
    "            if puntuacion < puntuacionMinima:\n",
    "                (estadoMinimo, puntuacionMinima) = (hijo, puntuacion)\n",
    "            if puntuacionMinima <= alfa:\n",
    "                break\n",
    "            if puntuacionMinima < beta:\n",
    "                beta = puntuacionMinima\n",
    "\n",
    "        return (estadoMinimo, puntuacionMinima)\n",
    "\n",
    "    def getBestMove(self, estado: 'Tablero', profundidad: int = 3) -> int:\n",
    "        (hijo, _) = self.maximize(-999, math.inf, profundidad, estado)\n",
    "        return self.getMoveTo(estado, hijo)\n",
    "\n",
    "    def isWin(self, tab: Tablero=None) -> bool:\n",
    "        tab = self.selfTab(tab)\n",
    "        return 2048 in tab.matrix\n",
    "\n",
    "    def getFreeTiles(self, tab: Tablero=None) -> List[Tuple]:\n",
    "        tab = self.selfTab(tab)\n",
    "        lista = []\n",
    "        for i in range(4):\n",
    "            for j in range(4):\n",
    "                if not tab.matrix[i][j]:\n",
    "                    lista.append((i, j))\n",
    "        return lista\n",
    "\n",
    "\n",
    "    def placeTileRandom(self) -> None:\n",
    "        movs = self.getFreeTiles()\n",
    "        num = 0\n",
    "        randNum = rd.randint(0,9)\n",
    "        if not randNum:\n",
    "            num = 4\n",
    "        else:\n",
    "            num = 2\n",
    "        rand = rd.randint(0, len(movs) - 1)\n",
    "        self.placeTile(movs[rand][0], movs[rand][1], num)\n",
    "    "
   ]
  },
  {
   "cell_type": "code",
   "execution_count": 168,
   "metadata": {},
   "outputs": [],
   "source": [
    "from IPython.display import HTML, display, clear_output\n",
    "from IPython.html.widgets.interaction import interact"
   ]
  },
  {
   "cell_type": "code",
   "execution_count": 169,
   "metadata": {},
   "outputs": [],
   "source": [
    "class Visor:\n",
    "    def __init__(self, tablero: Tablero):\n",
    "        self.tablero = tablero\n",
    "    \n",
    "    def initHtml(self):\n",
    "        self.html = '<svg height=\"400\" width=\"400\">'\n",
    "\n",
    "    def draw(self):\n",
    "        pos = {\n",
    "            0: \"12.5\",\n",
    "            1: \"37.5\",\n",
    "            2: \"62.5\",\n",
    "            3: \"87.5\"\n",
    "        }\n",
    "\n",
    "        colores = {\n",
    "            0: \"silver\",\n",
    "            2: \"ivory\",\n",
    "            4: \"antiquewhite\",\n",
    "            8: \"lightsalmon\",\n",
    "            16: \"darksalmon\",\n",
    "            32: \"tomato\",\n",
    "            64: \"orangered\",\n",
    "            128: \"wheat\",\n",
    "            256: \"yellow\",\n",
    "            512: \"gold\",\n",
    "            1024: \"goldenrod\",\n",
    "            2048: \"orange\"\n",
    "        }\n",
    "\n",
    "        self.initHtml()\n",
    "        \n",
    "        for i in range(4):\n",
    "            for j in range(4):\n",
    "                self.html += '<rect x=\"{:d}\" y=\"{:d}\" width=\"{:d}\" height=\"{:d}\" stroke=\"white\" stroke-width=\"5px\" fill=\"{:s}\"/>'.format(j * 100, i * 100, 100, 100, colores[self.tablero.matrix[i][j]])\n",
    "                if self.tablero.matrix[i][j]:\n",
    "                    self.html += '<text x=\"{:s}%\" y=\"{:s}%\" dominant-baseline=\"middle\" text-anchor=\"middle\" font-size=\"24\">{:d}</text>'.format(pos[j], pos[i], self.tablero.matrix[i][j])\n",
    "        self.html += '</svg>'\n",
    "        display(HTML(self.html))"
   ]
  },
  {
   "cell_type": "code",
   "execution_count": 170,
   "metadata": {},
   "outputs": [],
   "source": [
    "import time"
   ]
  },
  {
   "cell_type": "code",
   "execution_count": null,
   "metadata": {},
   "outputs": [],
   "source": [
    "!pip install -U ipykernel"
   ]
  },
  {
   "cell_type": "code",
   "execution_count": 171,
   "metadata": {
    "scrolled": false
   },
   "outputs": [
    {
     "name": "stdout",
     "output_type": "stream",
     "text": [
      "Introduce una M para jugar en modo manual, o una A para el modo automático: \n",
      "Selecciona heurística:\n",
      "1) Clase6 1\n",
      "2) Clase6 2\n",
      "3) Clase6 3\n",
      "4) Clase6 4\n",
      "5) Snake (Por defecto)\n",
      "Heurística: \n"
     ]
    },
    {
     "data": {
      "text/html": [
       "<svg height=\"400\" width=\"400\"><rect x=\"0\" y=\"0\" width=\"100\" height=\"100\" stroke=\"white\" stroke-width=\"5px\" fill=\"silver\"/><rect x=\"100\" y=\"0\" width=\"100\" height=\"100\" stroke=\"white\" stroke-width=\"5px\" fill=\"ivory\"/><text x=\"37.5%\" y=\"12.5%\" dominant-baseline=\"middle\" text-anchor=\"middle\" font-size=\"24\">2</text><rect x=\"200\" y=\"0\" width=\"100\" height=\"100\" stroke=\"white\" stroke-width=\"5px\" fill=\"silver\"/><rect x=\"300\" y=\"0\" width=\"100\" height=\"100\" stroke=\"white\" stroke-width=\"5px\" fill=\"silver\"/><rect x=\"0\" y=\"100\" width=\"100\" height=\"100\" stroke=\"white\" stroke-width=\"5px\" fill=\"silver\"/><rect x=\"100\" y=\"100\" width=\"100\" height=\"100\" stroke=\"white\" stroke-width=\"5px\" fill=\"silver\"/><rect x=\"200\" y=\"100\" width=\"100\" height=\"100\" stroke=\"white\" stroke-width=\"5px\" fill=\"silver\"/><rect x=\"300\" y=\"100\" width=\"100\" height=\"100\" stroke=\"white\" stroke-width=\"5px\" fill=\"silver\"/><rect x=\"0\" y=\"200\" width=\"100\" height=\"100\" stroke=\"white\" stroke-width=\"5px\" fill=\"silver\"/><rect x=\"100\" y=\"200\" width=\"100\" height=\"100\" stroke=\"white\" stroke-width=\"5px\" fill=\"silver\"/><rect x=\"200\" y=\"200\" width=\"100\" height=\"100\" stroke=\"white\" stroke-width=\"5px\" fill=\"ivory\"/><text x=\"62.5%\" y=\"62.5%\" dominant-baseline=\"middle\" text-anchor=\"middle\" font-size=\"24\">2</text><rect x=\"300\" y=\"200\" width=\"100\" height=\"100\" stroke=\"white\" stroke-width=\"5px\" fill=\"silver\"/><rect x=\"0\" y=\"300\" width=\"100\" height=\"100\" stroke=\"white\" stroke-width=\"5px\" fill=\"silver\"/><rect x=\"100\" y=\"300\" width=\"100\" height=\"100\" stroke=\"white\" stroke-width=\"5px\" fill=\"silver\"/><rect x=\"200\" y=\"300\" width=\"100\" height=\"100\" stroke=\"white\" stroke-width=\"5px\" fill=\"silver\"/><rect x=\"300\" y=\"300\" width=\"100\" height=\"100\" stroke=\"white\" stroke-width=\"5px\" fill=\"silver\"/></svg>"
      ],
      "text/plain": [
       "<IPython.core.display.HTML object>"
      ]
     },
     "metadata": {},
     "output_type": "display_data"
    },
    {
     "name": "stdout",
     "output_type": "stream",
     "text": [
      "\n",
      "Movimiento: Arriba\n",
      "Puntuacion: 0\n",
      "Numero de movimientos: 1\n"
     ]
    },
    {
     "data": {
      "text/html": [
       "<svg height=\"400\" width=\"400\"><rect x=\"0\" y=\"0\" width=\"100\" height=\"100\" stroke=\"white\" stroke-width=\"5px\" fill=\"antiquewhite\"/><text x=\"12.5%\" y=\"12.5%\" dominant-baseline=\"middle\" text-anchor=\"middle\" font-size=\"24\">4</text><rect x=\"100\" y=\"0\" width=\"100\" height=\"100\" stroke=\"white\" stroke-width=\"5px\" fill=\"silver\"/><rect x=\"200\" y=\"0\" width=\"100\" height=\"100\" stroke=\"white\" stroke-width=\"5px\" fill=\"silver\"/><rect x=\"300\" y=\"0\" width=\"100\" height=\"100\" stroke=\"white\" stroke-width=\"5px\" fill=\"ivory\"/><text x=\"87.5%\" y=\"12.5%\" dominant-baseline=\"middle\" text-anchor=\"middle\" font-size=\"24\">2</text><rect x=\"0\" y=\"100\" width=\"100\" height=\"100\" stroke=\"white\" stroke-width=\"5px\" fill=\"silver\"/><rect x=\"100\" y=\"100\" width=\"100\" height=\"100\" stroke=\"white\" stroke-width=\"5px\" fill=\"silver\"/><rect x=\"200\" y=\"100\" width=\"100\" height=\"100\" stroke=\"white\" stroke-width=\"5px\" fill=\"silver\"/><rect x=\"300\" y=\"100\" width=\"100\" height=\"100\" stroke=\"white\" stroke-width=\"5px\" fill=\"silver\"/><rect x=\"0\" y=\"200\" width=\"100\" height=\"100\" stroke=\"white\" stroke-width=\"5px\" fill=\"silver\"/><rect x=\"100\" y=\"200\" width=\"100\" height=\"100\" stroke=\"white\" stroke-width=\"5px\" fill=\"silver\"/><rect x=\"200\" y=\"200\" width=\"100\" height=\"100\" stroke=\"white\" stroke-width=\"5px\" fill=\"silver\"/><rect x=\"300\" y=\"200\" width=\"100\" height=\"100\" stroke=\"white\" stroke-width=\"5px\" fill=\"silver\"/><rect x=\"0\" y=\"300\" width=\"100\" height=\"100\" stroke=\"white\" stroke-width=\"5px\" fill=\"silver\"/><rect x=\"100\" y=\"300\" width=\"100\" height=\"100\" stroke=\"white\" stroke-width=\"5px\" fill=\"silver\"/><rect x=\"200\" y=\"300\" width=\"100\" height=\"100\" stroke=\"white\" stroke-width=\"5px\" fill=\"silver\"/><rect x=\"300\" y=\"300\" width=\"100\" height=\"100\" stroke=\"white\" stroke-width=\"5px\" fill=\"silver\"/></svg>"
      ],
      "text/plain": [
       "<IPython.core.display.HTML object>"
      ]
     },
     "metadata": {},
     "output_type": "display_data"
    },
    {
     "name": "stdout",
     "output_type": "stream",
     "text": [
      "\n",
      "Movimiento: Arriba\n",
      "Puntuacion: 0\n",
      "Numero de movimientos: 2\n"
     ]
    },
    {
     "data": {
      "text/html": [
       "<svg height=\"400\" width=\"400\"><rect x=\"0\" y=\"0\" width=\"100\" height=\"100\" stroke=\"white\" stroke-width=\"5px\" fill=\"antiquewhite\"/><text x=\"12.5%\" y=\"12.5%\" dominant-baseline=\"middle\" text-anchor=\"middle\" font-size=\"24\">4</text><rect x=\"100\" y=\"0\" width=\"100\" height=\"100\" stroke=\"white\" stroke-width=\"5px\" fill=\"ivory\"/><text x=\"37.5%\" y=\"12.5%\" dominant-baseline=\"middle\" text-anchor=\"middle\" font-size=\"24\">2</text><rect x=\"200\" y=\"0\" width=\"100\" height=\"100\" stroke=\"white\" stroke-width=\"5px\" fill=\"silver\"/><rect x=\"300\" y=\"0\" width=\"100\" height=\"100\" stroke=\"white\" stroke-width=\"5px\" fill=\"silver\"/><rect x=\"0\" y=\"100\" width=\"100\" height=\"100\" stroke=\"white\" stroke-width=\"5px\" fill=\"silver\"/><rect x=\"100\" y=\"100\" width=\"100\" height=\"100\" stroke=\"white\" stroke-width=\"5px\" fill=\"silver\"/><rect x=\"200\" y=\"100\" width=\"100\" height=\"100\" stroke=\"white\" stroke-width=\"5px\" fill=\"silver\"/><rect x=\"300\" y=\"100\" width=\"100\" height=\"100\" stroke=\"white\" stroke-width=\"5px\" fill=\"silver\"/><rect x=\"0\" y=\"200\" width=\"100\" height=\"100\" stroke=\"white\" stroke-width=\"5px\" fill=\"antiquewhite\"/><text x=\"12.5%\" y=\"62.5%\" dominant-baseline=\"middle\" text-anchor=\"middle\" font-size=\"24\">4</text><rect x=\"100\" y=\"200\" width=\"100\" height=\"100\" stroke=\"white\" stroke-width=\"5px\" fill=\"silver\"/><rect x=\"200\" y=\"200\" width=\"100\" height=\"100\" stroke=\"white\" stroke-width=\"5px\" fill=\"silver\"/><rect x=\"300\" y=\"200\" width=\"100\" height=\"100\" stroke=\"white\" stroke-width=\"5px\" fill=\"silver\"/><rect x=\"0\" y=\"300\" width=\"100\" height=\"100\" stroke=\"white\" stroke-width=\"5px\" fill=\"silver\"/><rect x=\"100\" y=\"300\" width=\"100\" height=\"100\" stroke=\"white\" stroke-width=\"5px\" fill=\"silver\"/><rect x=\"200\" y=\"300\" width=\"100\" height=\"100\" stroke=\"white\" stroke-width=\"5px\" fill=\"silver\"/><rect x=\"300\" y=\"300\" width=\"100\" height=\"100\" stroke=\"white\" stroke-width=\"5px\" fill=\"silver\"/></svg>"
      ],
      "text/plain": [
       "<IPython.core.display.HTML object>"
      ]
     },
     "metadata": {},
     "output_type": "display_data"
    },
    {
     "name": "stdout",
     "output_type": "stream",
     "text": [
      "\n",
      "Movimiento: Derecha\n",
      "Puntuacion: 0\n",
      "Numero de movimientos: 3\n"
     ]
    },
    {
     "data": {
      "text/html": [
       "<svg height=\"400\" width=\"400\"><rect x=\"0\" y=\"0\" width=\"100\" height=\"100\" stroke=\"white\" stroke-width=\"5px\" fill=\"silver\"/><rect x=\"100\" y=\"0\" width=\"100\" height=\"100\" stroke=\"white\" stroke-width=\"5px\" fill=\"silver\"/><rect x=\"200\" y=\"0\" width=\"100\" height=\"100\" stroke=\"white\" stroke-width=\"5px\" fill=\"ivory\"/><text x=\"62.5%\" y=\"12.5%\" dominant-baseline=\"middle\" text-anchor=\"middle\" font-size=\"24\">2</text><rect x=\"300\" y=\"0\" width=\"100\" height=\"100\" stroke=\"white\" stroke-width=\"5px\" fill=\"silver\"/><rect x=\"0\" y=\"100\" width=\"100\" height=\"100\" stroke=\"white\" stroke-width=\"5px\" fill=\"silver\"/><rect x=\"100\" y=\"100\" width=\"100\" height=\"100\" stroke=\"white\" stroke-width=\"5px\" fill=\"silver\"/><rect x=\"200\" y=\"100\" width=\"100\" height=\"100\" stroke=\"white\" stroke-width=\"5px\" fill=\"silver\"/><rect x=\"300\" y=\"100\" width=\"100\" height=\"100\" stroke=\"white\" stroke-width=\"5px\" fill=\"silver\"/><rect x=\"0\" y=\"200\" width=\"100\" height=\"100\" stroke=\"white\" stroke-width=\"5px\" fill=\"silver\"/><rect x=\"100\" y=\"200\" width=\"100\" height=\"100\" stroke=\"white\" stroke-width=\"5px\" fill=\"silver\"/><rect x=\"200\" y=\"200\" width=\"100\" height=\"100\" stroke=\"white\" stroke-width=\"5px\" fill=\"silver\"/><rect x=\"300\" y=\"200\" width=\"100\" height=\"100\" stroke=\"white\" stroke-width=\"5px\" fill=\"silver\"/><rect x=\"0\" y=\"300\" width=\"100\" height=\"100\" stroke=\"white\" stroke-width=\"5px\" fill=\"silver\"/><rect x=\"100\" y=\"300\" width=\"100\" height=\"100\" stroke=\"white\" stroke-width=\"5px\" fill=\"silver\"/><rect x=\"200\" y=\"300\" width=\"100\" height=\"100\" stroke=\"white\" stroke-width=\"5px\" fill=\"lightsalmon\"/><text x=\"62.5%\" y=\"87.5%\" dominant-baseline=\"middle\" text-anchor=\"middle\" font-size=\"24\">8</text><rect x=\"300\" y=\"300\" width=\"100\" height=\"100\" stroke=\"white\" stroke-width=\"5px\" fill=\"ivory\"/><text x=\"87.5%\" y=\"87.5%\" dominant-baseline=\"middle\" text-anchor=\"middle\" font-size=\"24\">2</text></svg>"
      ],
      "text/plain": [
       "<IPython.core.display.HTML object>"
      ]
     },
     "metadata": {},
     "output_type": "display_data"
    },
    {
     "name": "stdout",
     "output_type": "stream",
     "text": [
      "\n",
      "Movimiento: Derecha\n",
      "Puntuacion: 0\n",
      "Numero de movimientos: 4\n"
     ]
    },
    {
     "data": {
      "text/html": [
       "<svg height=\"400\" width=\"400\"><rect x=\"0\" y=\"0\" width=\"100\" height=\"100\" stroke=\"white\" stroke-width=\"5px\" fill=\"silver\"/><rect x=\"100\" y=\"0\" width=\"100\" height=\"100\" stroke=\"white\" stroke-width=\"5px\" fill=\"silver\"/><rect x=\"200\" y=\"0\" width=\"100\" height=\"100\" stroke=\"white\" stroke-width=\"5px\" fill=\"silver\"/><rect x=\"300\" y=\"0\" width=\"100\" height=\"100\" stroke=\"white\" stroke-width=\"5px\" fill=\"silver\"/><rect x=\"0\" y=\"100\" width=\"100\" height=\"100\" stroke=\"white\" stroke-width=\"5px\" fill=\"silver\"/><rect x=\"100\" y=\"100\" width=\"100\" height=\"100\" stroke=\"white\" stroke-width=\"5px\" fill=\"silver\"/><rect x=\"200\" y=\"100\" width=\"100\" height=\"100\" stroke=\"white\" stroke-width=\"5px\" fill=\"silver\"/><rect x=\"300\" y=\"100\" width=\"100\" height=\"100\" stroke=\"white\" stroke-width=\"5px\" fill=\"silver\"/><rect x=\"0\" y=\"200\" width=\"100\" height=\"100\" stroke=\"white\" stroke-width=\"5px\" fill=\"ivory\"/><text x=\"12.5%\" y=\"62.5%\" dominant-baseline=\"middle\" text-anchor=\"middle\" font-size=\"24\">2</text><rect x=\"100\" y=\"200\" width=\"100\" height=\"100\" stroke=\"white\" stroke-width=\"5px\" fill=\"silver\"/><rect x=\"200\" y=\"200\" width=\"100\" height=\"100\" stroke=\"white\" stroke-width=\"5px\" fill=\"silver\"/><rect x=\"300\" y=\"200\" width=\"100\" height=\"100\" stroke=\"white\" stroke-width=\"5px\" fill=\"ivory\"/><text x=\"87.5%\" y=\"62.5%\" dominant-baseline=\"middle\" text-anchor=\"middle\" font-size=\"24\">2</text><rect x=\"0\" y=\"300\" width=\"100\" height=\"100\" stroke=\"white\" stroke-width=\"5px\" fill=\"silver\"/><rect x=\"100\" y=\"300\" width=\"100\" height=\"100\" stroke=\"white\" stroke-width=\"5px\" fill=\"silver\"/><rect x=\"200\" y=\"300\" width=\"100\" height=\"100\" stroke=\"white\" stroke-width=\"5px\" fill=\"lightsalmon\"/><text x=\"62.5%\" y=\"87.5%\" dominant-baseline=\"middle\" text-anchor=\"middle\" font-size=\"24\">8</text><rect x=\"300\" y=\"300\" width=\"100\" height=\"100\" stroke=\"white\" stroke-width=\"5px\" fill=\"ivory\"/><text x=\"87.5%\" y=\"87.5%\" dominant-baseline=\"middle\" text-anchor=\"middle\" font-size=\"24\">2</text></svg>"
      ],
      "text/plain": [
       "<IPython.core.display.HTML object>"
      ]
     },
     "metadata": {},
     "output_type": "display_data"
    },
    {
     "name": "stdout",
     "output_type": "stream",
     "text": [
      "\n",
      "Movimiento: Derecha\n",
      "Puntuacion: 0\n",
      "Numero de movimientos: 5\n"
     ]
    },
    {
     "data": {
      "text/html": [
       "<svg height=\"400\" width=\"400\"><rect x=\"0\" y=\"0\" width=\"100\" height=\"100\" stroke=\"white\" stroke-width=\"5px\" fill=\"silver\"/><rect x=\"100\" y=\"0\" width=\"100\" height=\"100\" stroke=\"white\" stroke-width=\"5px\" fill=\"silver\"/><rect x=\"200\" y=\"0\" width=\"100\" height=\"100\" stroke=\"white\" stroke-width=\"5px\" fill=\"antiquewhite\"/><text x=\"62.5%\" y=\"12.5%\" dominant-baseline=\"middle\" text-anchor=\"middle\" font-size=\"24\">4</text><rect x=\"300\" y=\"0\" width=\"100\" height=\"100\" stroke=\"white\" stroke-width=\"5px\" fill=\"silver\"/><rect x=\"0\" y=\"100\" width=\"100\" height=\"100\" stroke=\"white\" stroke-width=\"5px\" fill=\"silver\"/><rect x=\"100\" y=\"100\" width=\"100\" height=\"100\" stroke=\"white\" stroke-width=\"5px\" fill=\"silver\"/><rect x=\"200\" y=\"100\" width=\"100\" height=\"100\" stroke=\"white\" stroke-width=\"5px\" fill=\"silver\"/><rect x=\"300\" y=\"100\" width=\"100\" height=\"100\" stroke=\"white\" stroke-width=\"5px\" fill=\"silver\"/><rect x=\"0\" y=\"200\" width=\"100\" height=\"100\" stroke=\"white\" stroke-width=\"5px\" fill=\"silver\"/><rect x=\"100\" y=\"200\" width=\"100\" height=\"100\" stroke=\"white\" stroke-width=\"5px\" fill=\"silver\"/><rect x=\"200\" y=\"200\" width=\"100\" height=\"100\" stroke=\"white\" stroke-width=\"5px\" fill=\"silver\"/><rect x=\"300\" y=\"200\" width=\"100\" height=\"100\" stroke=\"white\" stroke-width=\"5px\" fill=\"silver\"/><rect x=\"0\" y=\"300\" width=\"100\" height=\"100\" stroke=\"white\" stroke-width=\"5px\" fill=\"silver\"/><rect x=\"100\" y=\"300\" width=\"100\" height=\"100\" stroke=\"white\" stroke-width=\"5px\" fill=\"ivory\"/><text x=\"37.5%\" y=\"87.5%\" dominant-baseline=\"middle\" text-anchor=\"middle\" font-size=\"24\">2</text><rect x=\"200\" y=\"300\" width=\"100\" height=\"100\" stroke=\"white\" stroke-width=\"5px\" fill=\"lightsalmon\"/><text x=\"62.5%\" y=\"87.5%\" dominant-baseline=\"middle\" text-anchor=\"middle\" font-size=\"24\">8</text><rect x=\"300\" y=\"300\" width=\"100\" height=\"100\" stroke=\"white\" stroke-width=\"5px\" fill=\"antiquewhite\"/><text x=\"87.5%\" y=\"87.5%\" dominant-baseline=\"middle\" text-anchor=\"middle\" font-size=\"24\">4</text></svg>"
      ],
      "text/plain": [
       "<IPython.core.display.HTML object>"
      ]
     },
     "metadata": {},
     "output_type": "display_data"
    },
    {
     "name": "stdout",
     "output_type": "stream",
     "text": [
      "\n",
      "Movimiento: Derecha\n",
      "Puntuacion: 0\n",
      "Numero de movimientos: 6\n"
     ]
    },
    {
     "data": {
      "text/html": [
       "<svg height=\"400\" width=\"400\"><rect x=\"0\" y=\"0\" width=\"100\" height=\"100\" stroke=\"white\" stroke-width=\"5px\" fill=\"silver\"/><rect x=\"100\" y=\"0\" width=\"100\" height=\"100\" stroke=\"white\" stroke-width=\"5px\" fill=\"silver\"/><rect x=\"200\" y=\"0\" width=\"100\" height=\"100\" stroke=\"white\" stroke-width=\"5px\" fill=\"silver\"/><rect x=\"300\" y=\"0\" width=\"100\" height=\"100\" stroke=\"white\" stroke-width=\"5px\" fill=\"silver\"/><rect x=\"0\" y=\"100\" width=\"100\" height=\"100\" stroke=\"white\" stroke-width=\"5px\" fill=\"silver\"/><rect x=\"100\" y=\"100\" width=\"100\" height=\"100\" stroke=\"white\" stroke-width=\"5px\" fill=\"silver\"/><rect x=\"200\" y=\"100\" width=\"100\" height=\"100\" stroke=\"white\" stroke-width=\"5px\" fill=\"silver\"/><rect x=\"300\" y=\"100\" width=\"100\" height=\"100\" stroke=\"white\" stroke-width=\"5px\" fill=\"silver\"/><rect x=\"0\" y=\"200\" width=\"100\" height=\"100\" stroke=\"white\" stroke-width=\"5px\" fill=\"silver\"/><rect x=\"100\" y=\"200\" width=\"100\" height=\"100\" stroke=\"white\" stroke-width=\"5px\" fill=\"silver\"/><rect x=\"200\" y=\"200\" width=\"100\" height=\"100\" stroke=\"white\" stroke-width=\"5px\" fill=\"ivory\"/><text x=\"62.5%\" y=\"62.5%\" dominant-baseline=\"middle\" text-anchor=\"middle\" font-size=\"24\">2</text><rect x=\"300\" y=\"200\" width=\"100\" height=\"100\" stroke=\"white\" stroke-width=\"5px\" fill=\"antiquewhite\"/><text x=\"87.5%\" y=\"62.5%\" dominant-baseline=\"middle\" text-anchor=\"middle\" font-size=\"24\">4</text><rect x=\"0\" y=\"300\" width=\"100\" height=\"100\" stroke=\"white\" stroke-width=\"5px\" fill=\"silver\"/><rect x=\"100\" y=\"300\" width=\"100\" height=\"100\" stroke=\"white\" stroke-width=\"5px\" fill=\"ivory\"/><text x=\"37.5%\" y=\"87.5%\" dominant-baseline=\"middle\" text-anchor=\"middle\" font-size=\"24\">2</text><rect x=\"200\" y=\"300\" width=\"100\" height=\"100\" stroke=\"white\" stroke-width=\"5px\" fill=\"lightsalmon\"/><text x=\"62.5%\" y=\"87.5%\" dominant-baseline=\"middle\" text-anchor=\"middle\" font-size=\"24\">8</text><rect x=\"300\" y=\"300\" width=\"100\" height=\"100\" stroke=\"white\" stroke-width=\"5px\" fill=\"antiquewhite\"/><text x=\"87.5%\" y=\"87.5%\" dominant-baseline=\"middle\" text-anchor=\"middle\" font-size=\"24\">4</text></svg>"
      ],
      "text/plain": [
       "<IPython.core.display.HTML object>"
      ]
     },
     "metadata": {},
     "output_type": "display_data"
    },
    {
     "name": "stdout",
     "output_type": "stream",
     "text": [
      "\n",
      "Movimiento: Derecha\n",
      "Puntuacion: 16\n",
      "Numero de movimientos: 7\n"
     ]
    },
    {
     "data": {
      "text/html": [
       "<svg height=\"400\" width=\"400\"><rect x=\"0\" y=\"0\" width=\"100\" height=\"100\" stroke=\"white\" stroke-width=\"5px\" fill=\"silver\"/><rect x=\"100\" y=\"0\" width=\"100\" height=\"100\" stroke=\"white\" stroke-width=\"5px\" fill=\"silver\"/><rect x=\"200\" y=\"0\" width=\"100\" height=\"100\" stroke=\"white\" stroke-width=\"5px\" fill=\"silver\"/><rect x=\"300\" y=\"0\" width=\"100\" height=\"100\" stroke=\"white\" stroke-width=\"5px\" fill=\"silver\"/><rect x=\"0\" y=\"100\" width=\"100\" height=\"100\" stroke=\"white\" stroke-width=\"5px\" fill=\"silver\"/><rect x=\"100\" y=\"100\" width=\"100\" height=\"100\" stroke=\"white\" stroke-width=\"5px\" fill=\"ivory\"/><text x=\"37.5%\" y=\"37.5%\" dominant-baseline=\"middle\" text-anchor=\"middle\" font-size=\"24\">2</text><rect x=\"200\" y=\"100\" width=\"100\" height=\"100\" stroke=\"white\" stroke-width=\"5px\" fill=\"silver\"/><rect x=\"300\" y=\"100\" width=\"100\" height=\"100\" stroke=\"white\" stroke-width=\"5px\" fill=\"silver\"/><rect x=\"0\" y=\"200\" width=\"100\" height=\"100\" stroke=\"white\" stroke-width=\"5px\" fill=\"silver\"/><rect x=\"100\" y=\"200\" width=\"100\" height=\"100\" stroke=\"white\" stroke-width=\"5px\" fill=\"silver\"/><rect x=\"200\" y=\"200\" width=\"100\" height=\"100\" stroke=\"white\" stroke-width=\"5px\" fill=\"silver\"/><rect x=\"300\" y=\"200\" width=\"100\" height=\"100\" stroke=\"white\" stroke-width=\"5px\" fill=\"ivory\"/><text x=\"87.5%\" y=\"62.5%\" dominant-baseline=\"middle\" text-anchor=\"middle\" font-size=\"24\">2</text><rect x=\"0\" y=\"300\" width=\"100\" height=\"100\" stroke=\"white\" stroke-width=\"5px\" fill=\"silver\"/><rect x=\"100\" y=\"300\" width=\"100\" height=\"100\" stroke=\"white\" stroke-width=\"5px\" fill=\"silver\"/><rect x=\"200\" y=\"300\" width=\"100\" height=\"100\" stroke=\"white\" stroke-width=\"5px\" fill=\"ivory\"/><text x=\"62.5%\" y=\"87.5%\" dominant-baseline=\"middle\" text-anchor=\"middle\" font-size=\"24\">2</text><rect x=\"300\" y=\"300\" width=\"100\" height=\"100\" stroke=\"white\" stroke-width=\"5px\" fill=\"darksalmon\"/><text x=\"87.5%\" y=\"87.5%\" dominant-baseline=\"middle\" text-anchor=\"middle\" font-size=\"24\">16</text></svg>"
      ],
      "text/plain": [
       "<IPython.core.display.HTML object>"
      ]
     },
     "metadata": {},
     "output_type": "display_data"
    },
    {
     "name": "stdout",
     "output_type": "stream",
     "text": [
      "\n",
      "Movimiento: Derecha\n",
      "Puntuacion: 20\n",
      "Numero de movimientos: 8\n"
     ]
    },
    {
     "data": {
      "text/html": [
       "<svg height=\"400\" width=\"400\"><rect x=\"0\" y=\"0\" width=\"100\" height=\"100\" stroke=\"white\" stroke-width=\"5px\" fill=\"silver\"/><rect x=\"100\" y=\"0\" width=\"100\" height=\"100\" stroke=\"white\" stroke-width=\"5px\" fill=\"ivory\"/><text x=\"37.5%\" y=\"12.5%\" dominant-baseline=\"middle\" text-anchor=\"middle\" font-size=\"24\">2</text><rect x=\"200\" y=\"0\" width=\"100\" height=\"100\" stroke=\"white\" stroke-width=\"5px\" fill=\"silver\"/><rect x=\"300\" y=\"0\" width=\"100\" height=\"100\" stroke=\"white\" stroke-width=\"5px\" fill=\"silver\"/><rect x=\"0\" y=\"100\" width=\"100\" height=\"100\" stroke=\"white\" stroke-width=\"5px\" fill=\"silver\"/><rect x=\"100\" y=\"100\" width=\"100\" height=\"100\" stroke=\"white\" stroke-width=\"5px\" fill=\"silver\"/><rect x=\"200\" y=\"100\" width=\"100\" height=\"100\" stroke=\"white\" stroke-width=\"5px\" fill=\"silver\"/><rect x=\"300\" y=\"100\" width=\"100\" height=\"100\" stroke=\"white\" stroke-width=\"5px\" fill=\"silver\"/><rect x=\"0\" y=\"200\" width=\"100\" height=\"100\" stroke=\"white\" stroke-width=\"5px\" fill=\"silver\"/><rect x=\"100\" y=\"200\" width=\"100\" height=\"100\" stroke=\"white\" stroke-width=\"5px\" fill=\"silver\"/><rect x=\"200\" y=\"200\" width=\"100\" height=\"100\" stroke=\"white\" stroke-width=\"5px\" fill=\"silver\"/><rect x=\"300\" y=\"200\" width=\"100\" height=\"100\" stroke=\"white\" stroke-width=\"5px\" fill=\"ivory\"/><text x=\"87.5%\" y=\"62.5%\" dominant-baseline=\"middle\" text-anchor=\"middle\" font-size=\"24\">2</text><rect x=\"0\" y=\"300\" width=\"100\" height=\"100\" stroke=\"white\" stroke-width=\"5px\" fill=\"silver\"/><rect x=\"100\" y=\"300\" width=\"100\" height=\"100\" stroke=\"white\" stroke-width=\"5px\" fill=\"silver\"/><rect x=\"200\" y=\"300\" width=\"100\" height=\"100\" stroke=\"white\" stroke-width=\"5px\" fill=\"antiquewhite\"/><text x=\"62.5%\" y=\"87.5%\" dominant-baseline=\"middle\" text-anchor=\"middle\" font-size=\"24\">4</text><rect x=\"300\" y=\"300\" width=\"100\" height=\"100\" stroke=\"white\" stroke-width=\"5px\" fill=\"darksalmon\"/><text x=\"87.5%\" y=\"87.5%\" dominant-baseline=\"middle\" text-anchor=\"middle\" font-size=\"24\">16</text></svg>"
      ],
      "text/plain": [
       "<IPython.core.display.HTML object>"
      ]
     },
     "metadata": {},
     "output_type": "display_data"
    },
    {
     "name": "stdout",
     "output_type": "stream",
     "text": [
      "\n",
      "Movimiento: Derecha\n",
      "Puntuacion: 20\n",
      "Numero de movimientos: 9\n"
     ]
    },
    {
     "data": {
      "text/html": [
       "<svg height=\"400\" width=\"400\"><rect x=\"0\" y=\"0\" width=\"100\" height=\"100\" stroke=\"white\" stroke-width=\"5px\" fill=\"silver\"/><rect x=\"100\" y=\"0\" width=\"100\" height=\"100\" stroke=\"white\" stroke-width=\"5px\" fill=\"ivory\"/><text x=\"37.5%\" y=\"12.5%\" dominant-baseline=\"middle\" text-anchor=\"middle\" font-size=\"24\">2</text><rect x=\"200\" y=\"0\" width=\"100\" height=\"100\" stroke=\"white\" stroke-width=\"5px\" fill=\"silver\"/><rect x=\"300\" y=\"0\" width=\"100\" height=\"100\" stroke=\"white\" stroke-width=\"5px\" fill=\"silver\"/><rect x=\"0\" y=\"100\" width=\"100\" height=\"100\" stroke=\"white\" stroke-width=\"5px\" fill=\"silver\"/><rect x=\"100\" y=\"100\" width=\"100\" height=\"100\" stroke=\"white\" stroke-width=\"5px\" fill=\"silver\"/><rect x=\"200\" y=\"100\" width=\"100\" height=\"100\" stroke=\"white\" stroke-width=\"5px\" fill=\"silver\"/><rect x=\"300\" y=\"100\" width=\"100\" height=\"100\" stroke=\"white\" stroke-width=\"5px\" fill=\"silver\"/><rect x=\"0\" y=\"200\" width=\"100\" height=\"100\" stroke=\"white\" stroke-width=\"5px\" fill=\"silver\"/><rect x=\"100\" y=\"200\" width=\"100\" height=\"100\" stroke=\"white\" stroke-width=\"5px\" fill=\"silver\"/><rect x=\"200\" y=\"200\" width=\"100\" height=\"100\" stroke=\"white\" stroke-width=\"5px\" fill=\"silver\"/><rect x=\"300\" y=\"200\" width=\"100\" height=\"100\" stroke=\"white\" stroke-width=\"5px\" fill=\"ivory\"/><text x=\"87.5%\" y=\"62.5%\" dominant-baseline=\"middle\" text-anchor=\"middle\" font-size=\"24\">2</text><rect x=\"0\" y=\"300\" width=\"100\" height=\"100\" stroke=\"white\" stroke-width=\"5px\" fill=\"silver\"/><rect x=\"100\" y=\"300\" width=\"100\" height=\"100\" stroke=\"white\" stroke-width=\"5px\" fill=\"ivory\"/><text x=\"37.5%\" y=\"87.5%\" dominant-baseline=\"middle\" text-anchor=\"middle\" font-size=\"24\">2</text><rect x=\"200\" y=\"300\" width=\"100\" height=\"100\" stroke=\"white\" stroke-width=\"5px\" fill=\"antiquewhite\"/><text x=\"62.5%\" y=\"87.5%\" dominant-baseline=\"middle\" text-anchor=\"middle\" font-size=\"24\">4</text><rect x=\"300\" y=\"300\" width=\"100\" height=\"100\" stroke=\"white\" stroke-width=\"5px\" fill=\"darksalmon\"/><text x=\"87.5%\" y=\"87.5%\" dominant-baseline=\"middle\" text-anchor=\"middle\" font-size=\"24\">16</text></svg>"
      ],
      "text/plain": [
       "<IPython.core.display.HTML object>"
      ]
     },
     "metadata": {},
     "output_type": "display_data"
    },
    {
     "name": "stdout",
     "output_type": "stream",
     "text": [
      "\n",
      "Movimiento: Derecha\n",
      "Puntuacion: 28\n",
      "Numero de movimientos: 10\n"
     ]
    },
    {
     "data": {
      "text/html": [
       "<svg height=\"400\" width=\"400\"><rect x=\"0\" y=\"0\" width=\"100\" height=\"100\" stroke=\"white\" stroke-width=\"5px\" fill=\"silver\"/><rect x=\"100\" y=\"0\" width=\"100\" height=\"100\" stroke=\"white\" stroke-width=\"5px\" fill=\"silver\"/><rect x=\"200\" y=\"0\" width=\"100\" height=\"100\" stroke=\"white\" stroke-width=\"5px\" fill=\"silver\"/><rect x=\"300\" y=\"0\" width=\"100\" height=\"100\" stroke=\"white\" stroke-width=\"5px\" fill=\"silver\"/><rect x=\"0\" y=\"100\" width=\"100\" height=\"100\" stroke=\"white\" stroke-width=\"5px\" fill=\"silver\"/><rect x=\"100\" y=\"100\" width=\"100\" height=\"100\" stroke=\"white\" stroke-width=\"5px\" fill=\"silver\"/><rect x=\"200\" y=\"100\" width=\"100\" height=\"100\" stroke=\"white\" stroke-width=\"5px\" fill=\"silver\"/><rect x=\"300\" y=\"100\" width=\"100\" height=\"100\" stroke=\"white\" stroke-width=\"5px\" fill=\"silver\"/><rect x=\"0\" y=\"200\" width=\"100\" height=\"100\" stroke=\"white\" stroke-width=\"5px\" fill=\"ivory\"/><text x=\"12.5%\" y=\"62.5%\" dominant-baseline=\"middle\" text-anchor=\"middle\" font-size=\"24\">2</text><rect x=\"100\" y=\"200\" width=\"100\" height=\"100\" stroke=\"white\" stroke-width=\"5px\" fill=\"silver\"/><rect x=\"200\" y=\"200\" width=\"100\" height=\"100\" stroke=\"white\" stroke-width=\"5px\" fill=\"silver\"/><rect x=\"300\" y=\"200\" width=\"100\" height=\"100\" stroke=\"white\" stroke-width=\"5px\" fill=\"ivory\"/><text x=\"87.5%\" y=\"62.5%\" dominant-baseline=\"middle\" text-anchor=\"middle\" font-size=\"24\">2</text><rect x=\"0\" y=\"300\" width=\"100\" height=\"100\" stroke=\"white\" stroke-width=\"5px\" fill=\"silver\"/><rect x=\"100\" y=\"300\" width=\"100\" height=\"100\" stroke=\"white\" stroke-width=\"5px\" fill=\"silver\"/><rect x=\"200\" y=\"300\" width=\"100\" height=\"100\" stroke=\"white\" stroke-width=\"5px\" fill=\"lightsalmon\"/><text x=\"62.5%\" y=\"87.5%\" dominant-baseline=\"middle\" text-anchor=\"middle\" font-size=\"24\">8</text><rect x=\"300\" y=\"300\" width=\"100\" height=\"100\" stroke=\"white\" stroke-width=\"5px\" fill=\"darksalmon\"/><text x=\"87.5%\" y=\"87.5%\" dominant-baseline=\"middle\" text-anchor=\"middle\" font-size=\"24\">16</text></svg>"
      ],
      "text/plain": [
       "<IPython.core.display.HTML object>"
      ]
     },
     "metadata": {},
     "output_type": "display_data"
    },
    {
     "name": "stdout",
     "output_type": "stream",
     "text": [
      "\n",
      "Movimiento: Derecha\n",
      "Puntuacion: 28\n",
      "Numero de movimientos: 11\n"
     ]
    },
    {
     "data": {
      "text/html": [
       "<svg height=\"400\" width=\"400\"><rect x=\"0\" y=\"0\" width=\"100\" height=\"100\" stroke=\"white\" stroke-width=\"5px\" fill=\"silver\"/><rect x=\"100\" y=\"0\" width=\"100\" height=\"100\" stroke=\"white\" stroke-width=\"5px\" fill=\"silver\"/><rect x=\"200\" y=\"0\" width=\"100\" height=\"100\" stroke=\"white\" stroke-width=\"5px\" fill=\"ivory\"/><text x=\"62.5%\" y=\"12.5%\" dominant-baseline=\"middle\" text-anchor=\"middle\" font-size=\"24\">2</text><rect x=\"300\" y=\"0\" width=\"100\" height=\"100\" stroke=\"white\" stroke-width=\"5px\" fill=\"silver\"/><rect x=\"0\" y=\"100\" width=\"100\" height=\"100\" stroke=\"white\" stroke-width=\"5px\" fill=\"silver\"/><rect x=\"100\" y=\"100\" width=\"100\" height=\"100\" stroke=\"white\" stroke-width=\"5px\" fill=\"silver\"/><rect x=\"200\" y=\"100\" width=\"100\" height=\"100\" stroke=\"white\" stroke-width=\"5px\" fill=\"silver\"/><rect x=\"300\" y=\"100\" width=\"100\" height=\"100\" stroke=\"white\" stroke-width=\"5px\" fill=\"silver\"/><rect x=\"0\" y=\"200\" width=\"100\" height=\"100\" stroke=\"white\" stroke-width=\"5px\" fill=\"silver\"/><rect x=\"100\" y=\"200\" width=\"100\" height=\"100\" stroke=\"white\" stroke-width=\"5px\" fill=\"silver\"/><rect x=\"200\" y=\"200\" width=\"100\" height=\"100\" stroke=\"white\" stroke-width=\"5px\" fill=\"silver\"/><rect x=\"300\" y=\"200\" width=\"100\" height=\"100\" stroke=\"white\" stroke-width=\"5px\" fill=\"ivory\"/><text x=\"87.5%\" y=\"62.5%\" dominant-baseline=\"middle\" text-anchor=\"middle\" font-size=\"24\">2</text><rect x=\"0\" y=\"300\" width=\"100\" height=\"100\" stroke=\"white\" stroke-width=\"5px\" fill=\"silver\"/><rect x=\"100\" y=\"300\" width=\"100\" height=\"100\" stroke=\"white\" stroke-width=\"5px\" fill=\"ivory\"/><text x=\"37.5%\" y=\"87.5%\" dominant-baseline=\"middle\" text-anchor=\"middle\" font-size=\"24\">2</text><rect x=\"200\" y=\"300\" width=\"100\" height=\"100\" stroke=\"white\" stroke-width=\"5px\" fill=\"lightsalmon\"/><text x=\"62.5%\" y=\"87.5%\" dominant-baseline=\"middle\" text-anchor=\"middle\" font-size=\"24\">8</text><rect x=\"300\" y=\"300\" width=\"100\" height=\"100\" stroke=\"white\" stroke-width=\"5px\" fill=\"darksalmon\"/><text x=\"87.5%\" y=\"87.5%\" dominant-baseline=\"middle\" text-anchor=\"middle\" font-size=\"24\">16</text></svg>"
      ],
      "text/plain": [
       "<IPython.core.display.HTML object>"
      ]
     },
     "metadata": {},
     "output_type": "display_data"
    },
    {
     "name": "stdout",
     "output_type": "stream",
     "text": [
      "\n",
      "Movimiento: Derecha\n",
      "Puntuacion: 32\n",
      "Numero de movimientos: 12\n"
     ]
    },
    {
     "data": {
      "text/html": [
       "<svg height=\"400\" width=\"400\"><rect x=\"0\" y=\"0\" width=\"100\" height=\"100\" stroke=\"white\" stroke-width=\"5px\" fill=\"silver\"/><rect x=\"100\" y=\"0\" width=\"100\" height=\"100\" stroke=\"white\" stroke-width=\"5px\" fill=\"ivory\"/><text x=\"37.5%\" y=\"12.5%\" dominant-baseline=\"middle\" text-anchor=\"middle\" font-size=\"24\">2</text><rect x=\"200\" y=\"0\" width=\"100\" height=\"100\" stroke=\"white\" stroke-width=\"5px\" fill=\"silver\"/><rect x=\"300\" y=\"0\" width=\"100\" height=\"100\" stroke=\"white\" stroke-width=\"5px\" fill=\"silver\"/><rect x=\"0\" y=\"100\" width=\"100\" height=\"100\" stroke=\"white\" stroke-width=\"5px\" fill=\"silver\"/><rect x=\"100\" y=\"100\" width=\"100\" height=\"100\" stroke=\"white\" stroke-width=\"5px\" fill=\"silver\"/><rect x=\"200\" y=\"100\" width=\"100\" height=\"100\" stroke=\"white\" stroke-width=\"5px\" fill=\"silver\"/><rect x=\"300\" y=\"100\" width=\"100\" height=\"100\" stroke=\"white\" stroke-width=\"5px\" fill=\"silver\"/><rect x=\"0\" y=\"200\" width=\"100\" height=\"100\" stroke=\"white\" stroke-width=\"5px\" fill=\"silver\"/><rect x=\"100\" y=\"200\" width=\"100\" height=\"100\" stroke=\"white\" stroke-width=\"5px\" fill=\"silver\"/><rect x=\"200\" y=\"200\" width=\"100\" height=\"100\" stroke=\"white\" stroke-width=\"5px\" fill=\"silver\"/><rect x=\"300\" y=\"200\" width=\"100\" height=\"100\" stroke=\"white\" stroke-width=\"5px\" fill=\"antiquewhite\"/><text x=\"87.5%\" y=\"62.5%\" dominant-baseline=\"middle\" text-anchor=\"middle\" font-size=\"24\">4</text><rect x=\"0\" y=\"300\" width=\"100\" height=\"100\" stroke=\"white\" stroke-width=\"5px\" fill=\"silver\"/><rect x=\"100\" y=\"300\" width=\"100\" height=\"100\" stroke=\"white\" stroke-width=\"5px\" fill=\"ivory\"/><text x=\"37.5%\" y=\"87.5%\" dominant-baseline=\"middle\" text-anchor=\"middle\" font-size=\"24\">2</text><rect x=\"200\" y=\"300\" width=\"100\" height=\"100\" stroke=\"white\" stroke-width=\"5px\" fill=\"lightsalmon\"/><text x=\"62.5%\" y=\"87.5%\" dominant-baseline=\"middle\" text-anchor=\"middle\" font-size=\"24\">8</text><rect x=\"300\" y=\"300\" width=\"100\" height=\"100\" stroke=\"white\" stroke-width=\"5px\" fill=\"darksalmon\"/><text x=\"87.5%\" y=\"87.5%\" dominant-baseline=\"middle\" text-anchor=\"middle\" font-size=\"24\">16</text></svg>"
      ],
      "text/plain": [
       "<IPython.core.display.HTML object>"
      ]
     },
     "metadata": {},
     "output_type": "display_data"
    },
    {
     "name": "stdout",
     "output_type": "stream",
     "text": [
      "\n",
      "Movimiento: Derecha\n",
      "Puntuacion: 32\n",
      "Numero de movimientos: 13\n"
     ]
    },
    {
     "data": {
      "text/html": [
       "<svg height=\"400\" width=\"400\"><rect x=\"0\" y=\"0\" width=\"100\" height=\"100\" stroke=\"white\" stroke-width=\"5px\" fill=\"silver\"/><rect x=\"100\" y=\"0\" width=\"100\" height=\"100\" stroke=\"white\" stroke-width=\"5px\" fill=\"silver\"/><rect x=\"200\" y=\"0\" width=\"100\" height=\"100\" stroke=\"white\" stroke-width=\"5px\" fill=\"silver\"/><rect x=\"300\" y=\"0\" width=\"100\" height=\"100\" stroke=\"white\" stroke-width=\"5px\" fill=\"silver\"/><rect x=\"0\" y=\"100\" width=\"100\" height=\"100\" stroke=\"white\" stroke-width=\"5px\" fill=\"silver\"/><rect x=\"100\" y=\"100\" width=\"100\" height=\"100\" stroke=\"white\" stroke-width=\"5px\" fill=\"silver\"/><rect x=\"200\" y=\"100\" width=\"100\" height=\"100\" stroke=\"white\" stroke-width=\"5px\" fill=\"silver\"/><rect x=\"300\" y=\"100\" width=\"100\" height=\"100\" stroke=\"white\" stroke-width=\"5px\" fill=\"silver\"/><rect x=\"0\" y=\"200\" width=\"100\" height=\"100\" stroke=\"white\" stroke-width=\"5px\" fill=\"silver\"/><rect x=\"100\" y=\"200\" width=\"100\" height=\"100\" stroke=\"white\" stroke-width=\"5px\" fill=\"silver\"/><rect x=\"200\" y=\"200\" width=\"100\" height=\"100\" stroke=\"white\" stroke-width=\"5px\" fill=\"ivory\"/><text x=\"62.5%\" y=\"62.5%\" dominant-baseline=\"middle\" text-anchor=\"middle\" font-size=\"24\">2</text><rect x=\"300\" y=\"200\" width=\"100\" height=\"100\" stroke=\"white\" stroke-width=\"5px\" fill=\"antiquewhite\"/><text x=\"87.5%\" y=\"62.5%\" dominant-baseline=\"middle\" text-anchor=\"middle\" font-size=\"24\">4</text><rect x=\"0\" y=\"300\" width=\"100\" height=\"100\" stroke=\"white\" stroke-width=\"5px\" fill=\"silver\"/><rect x=\"100\" y=\"300\" width=\"100\" height=\"100\" stroke=\"white\" stroke-width=\"5px\" fill=\"antiquewhite\"/><text x=\"37.5%\" y=\"87.5%\" dominant-baseline=\"middle\" text-anchor=\"middle\" font-size=\"24\">4</text><rect x=\"200\" y=\"300\" width=\"100\" height=\"100\" stroke=\"white\" stroke-width=\"5px\" fill=\"lightsalmon\"/><text x=\"62.5%\" y=\"87.5%\" dominant-baseline=\"middle\" text-anchor=\"middle\" font-size=\"24\">8</text><rect x=\"300\" y=\"300\" width=\"100\" height=\"100\" stroke=\"white\" stroke-width=\"5px\" fill=\"darksalmon\"/><text x=\"87.5%\" y=\"87.5%\" dominant-baseline=\"middle\" text-anchor=\"middle\" font-size=\"24\">16</text></svg>"
      ],
      "text/plain": [
       "<IPython.core.display.HTML object>"
      ]
     },
     "metadata": {},
     "output_type": "display_data"
    },
    {
     "name": "stdout",
     "output_type": "stream",
     "text": [
      "\n",
      "Movimiento: Abajo\n",
      "Puntuacion: 32\n",
      "Numero de movimientos: 14\n"
     ]
    },
    {
     "data": {
      "text/html": [
       "<svg height=\"400\" width=\"400\"><rect x=\"0\" y=\"0\" width=\"100\" height=\"100\" stroke=\"white\" stroke-width=\"5px\" fill=\"silver\"/><rect x=\"100\" y=\"0\" width=\"100\" height=\"100\" stroke=\"white\" stroke-width=\"5px\" fill=\"silver\"/><rect x=\"200\" y=\"0\" width=\"100\" height=\"100\" stroke=\"white\" stroke-width=\"5px\" fill=\"silver\"/><rect x=\"300\" y=\"0\" width=\"100\" height=\"100\" stroke=\"white\" stroke-width=\"5px\" fill=\"ivory\"/><text x=\"87.5%\" y=\"12.5%\" dominant-baseline=\"middle\" text-anchor=\"middle\" font-size=\"24\">2</text><rect x=\"0\" y=\"100\" width=\"100\" height=\"100\" stroke=\"white\" stroke-width=\"5px\" fill=\"silver\"/><rect x=\"100\" y=\"100\" width=\"100\" height=\"100\" stroke=\"white\" stroke-width=\"5px\" fill=\"silver\"/><rect x=\"200\" y=\"100\" width=\"100\" height=\"100\" stroke=\"white\" stroke-width=\"5px\" fill=\"silver\"/><rect x=\"300\" y=\"100\" width=\"100\" height=\"100\" stroke=\"white\" stroke-width=\"5px\" fill=\"silver\"/><rect x=\"0\" y=\"200\" width=\"100\" height=\"100\" stroke=\"white\" stroke-width=\"5px\" fill=\"silver\"/><rect x=\"100\" y=\"200\" width=\"100\" height=\"100\" stroke=\"white\" stroke-width=\"5px\" fill=\"silver\"/><rect x=\"200\" y=\"200\" width=\"100\" height=\"100\" stroke=\"white\" stroke-width=\"5px\" fill=\"ivory\"/><text x=\"62.5%\" y=\"62.5%\" dominant-baseline=\"middle\" text-anchor=\"middle\" font-size=\"24\">2</text><rect x=\"300\" y=\"200\" width=\"100\" height=\"100\" stroke=\"white\" stroke-width=\"5px\" fill=\"antiquewhite\"/><text x=\"87.5%\" y=\"62.5%\" dominant-baseline=\"middle\" text-anchor=\"middle\" font-size=\"24\">4</text><rect x=\"0\" y=\"300\" width=\"100\" height=\"100\" stroke=\"white\" stroke-width=\"5px\" fill=\"silver\"/><rect x=\"100\" y=\"300\" width=\"100\" height=\"100\" stroke=\"white\" stroke-width=\"5px\" fill=\"antiquewhite\"/><text x=\"37.5%\" y=\"87.5%\" dominant-baseline=\"middle\" text-anchor=\"middle\" font-size=\"24\">4</text><rect x=\"200\" y=\"300\" width=\"100\" height=\"100\" stroke=\"white\" stroke-width=\"5px\" fill=\"lightsalmon\"/><text x=\"62.5%\" y=\"87.5%\" dominant-baseline=\"middle\" text-anchor=\"middle\" font-size=\"24\">8</text><rect x=\"300\" y=\"300\" width=\"100\" height=\"100\" stroke=\"white\" stroke-width=\"5px\" fill=\"darksalmon\"/><text x=\"87.5%\" y=\"87.5%\" dominant-baseline=\"middle\" text-anchor=\"middle\" font-size=\"24\">16</text></svg>"
      ],
      "text/plain": [
       "<IPython.core.display.HTML object>"
      ]
     },
     "metadata": {},
     "output_type": "display_data"
    },
    {
     "name": "stdout",
     "output_type": "stream",
     "text": [
      "\n",
      "Movimiento: Derecha\n",
      "Puntuacion: 32\n",
      "Numero de movimientos: 15\n"
     ]
    },
    {
     "data": {
      "text/html": [
       "<svg height=\"400\" width=\"400\"><rect x=\"0\" y=\"0\" width=\"100\" height=\"100\" stroke=\"white\" stroke-width=\"5px\" fill=\"silver\"/><rect x=\"100\" y=\"0\" width=\"100\" height=\"100\" stroke=\"white\" stroke-width=\"5px\" fill=\"silver\"/><rect x=\"200\" y=\"0\" width=\"100\" height=\"100\" stroke=\"white\" stroke-width=\"5px\" fill=\"silver\"/><rect x=\"300\" y=\"0\" width=\"100\" height=\"100\" stroke=\"white\" stroke-width=\"5px\" fill=\"silver\"/><rect x=\"0\" y=\"100\" width=\"100\" height=\"100\" stroke=\"white\" stroke-width=\"5px\" fill=\"silver\"/><rect x=\"100\" y=\"100\" width=\"100\" height=\"100\" stroke=\"white\" stroke-width=\"5px\" fill=\"ivory\"/><text x=\"37.5%\" y=\"37.5%\" dominant-baseline=\"middle\" text-anchor=\"middle\" font-size=\"24\">2</text><rect x=\"200\" y=\"100\" width=\"100\" height=\"100\" stroke=\"white\" stroke-width=\"5px\" fill=\"silver\"/><rect x=\"300\" y=\"100\" width=\"100\" height=\"100\" stroke=\"white\" stroke-width=\"5px\" fill=\"ivory\"/><text x=\"87.5%\" y=\"37.5%\" dominant-baseline=\"middle\" text-anchor=\"middle\" font-size=\"24\">2</text><rect x=\"0\" y=\"200\" width=\"100\" height=\"100\" stroke=\"white\" stroke-width=\"5px\" fill=\"silver\"/><rect x=\"100\" y=\"200\" width=\"100\" height=\"100\" stroke=\"white\" stroke-width=\"5px\" fill=\"silver\"/><rect x=\"200\" y=\"200\" width=\"100\" height=\"100\" stroke=\"white\" stroke-width=\"5px\" fill=\"ivory\"/><text x=\"62.5%\" y=\"62.5%\" dominant-baseline=\"middle\" text-anchor=\"middle\" font-size=\"24\">2</text><rect x=\"300\" y=\"200\" width=\"100\" height=\"100\" stroke=\"white\" stroke-width=\"5px\" fill=\"antiquewhite\"/><text x=\"87.5%\" y=\"62.5%\" dominant-baseline=\"middle\" text-anchor=\"middle\" font-size=\"24\">4</text><rect x=\"0\" y=\"300\" width=\"100\" height=\"100\" stroke=\"white\" stroke-width=\"5px\" fill=\"silver\"/><rect x=\"100\" y=\"300\" width=\"100\" height=\"100\" stroke=\"white\" stroke-width=\"5px\" fill=\"antiquewhite\"/><text x=\"37.5%\" y=\"87.5%\" dominant-baseline=\"middle\" text-anchor=\"middle\" font-size=\"24\">4</text><rect x=\"200\" y=\"300\" width=\"100\" height=\"100\" stroke=\"white\" stroke-width=\"5px\" fill=\"lightsalmon\"/><text x=\"62.5%\" y=\"87.5%\" dominant-baseline=\"middle\" text-anchor=\"middle\" font-size=\"24\">8</text><rect x=\"300\" y=\"300\" width=\"100\" height=\"100\" stroke=\"white\" stroke-width=\"5px\" fill=\"darksalmon\"/><text x=\"87.5%\" y=\"87.5%\" dominant-baseline=\"middle\" text-anchor=\"middle\" font-size=\"24\">16</text></svg>"
      ],
      "text/plain": [
       "<IPython.core.display.HTML object>"
      ]
     },
     "metadata": {},
     "output_type": "display_data"
    },
    {
     "name": "stdout",
     "output_type": "stream",
     "text": [
      "\n",
      "Movimiento: Derecha\n",
      "Puntuacion: 36\n",
      "Numero de movimientos: 16\n"
     ]
    },
    {
     "data": {
      "text/html": [
       "<svg height=\"400\" width=\"400\"><rect x=\"0\" y=\"0\" width=\"100\" height=\"100\" stroke=\"white\" stroke-width=\"5px\" fill=\"silver\"/><rect x=\"100\" y=\"0\" width=\"100\" height=\"100\" stroke=\"white\" stroke-width=\"5px\" fill=\"silver\"/><rect x=\"200\" y=\"0\" width=\"100\" height=\"100\" stroke=\"white\" stroke-width=\"5px\" fill=\"silver\"/><rect x=\"300\" y=\"0\" width=\"100\" height=\"100\" stroke=\"white\" stroke-width=\"5px\" fill=\"silver\"/><rect x=\"0\" y=\"100\" width=\"100\" height=\"100\" stroke=\"white\" stroke-width=\"5px\" fill=\"silver\"/><rect x=\"100\" y=\"100\" width=\"100\" height=\"100\" stroke=\"white\" stroke-width=\"5px\" fill=\"silver\"/><rect x=\"200\" y=\"100\" width=\"100\" height=\"100\" stroke=\"white\" stroke-width=\"5px\" fill=\"silver\"/><rect x=\"300\" y=\"100\" width=\"100\" height=\"100\" stroke=\"white\" stroke-width=\"5px\" fill=\"ivory\"/><text x=\"87.5%\" y=\"37.5%\" dominant-baseline=\"middle\" text-anchor=\"middle\" font-size=\"24\">2</text><rect x=\"0\" y=\"200\" width=\"100\" height=\"100\" stroke=\"white\" stroke-width=\"5px\" fill=\"ivory\"/><text x=\"12.5%\" y=\"62.5%\" dominant-baseline=\"middle\" text-anchor=\"middle\" font-size=\"24\">2</text><rect x=\"100\" y=\"200\" width=\"100\" height=\"100\" stroke=\"white\" stroke-width=\"5px\" fill=\"silver\"/><rect x=\"200\" y=\"200\" width=\"100\" height=\"100\" stroke=\"white\" stroke-width=\"5px\" fill=\"antiquewhite\"/><text x=\"62.5%\" y=\"62.5%\" dominant-baseline=\"middle\" text-anchor=\"middle\" font-size=\"24\">4</text><rect x=\"300\" y=\"200\" width=\"100\" height=\"100\" stroke=\"white\" stroke-width=\"5px\" fill=\"antiquewhite\"/><text x=\"87.5%\" y=\"62.5%\" dominant-baseline=\"middle\" text-anchor=\"middle\" font-size=\"24\">4</text><rect x=\"0\" y=\"300\" width=\"100\" height=\"100\" stroke=\"white\" stroke-width=\"5px\" fill=\"silver\"/><rect x=\"100\" y=\"300\" width=\"100\" height=\"100\" stroke=\"white\" stroke-width=\"5px\" fill=\"antiquewhite\"/><text x=\"37.5%\" y=\"87.5%\" dominant-baseline=\"middle\" text-anchor=\"middle\" font-size=\"24\">4</text><rect x=\"200\" y=\"300\" width=\"100\" height=\"100\" stroke=\"white\" stroke-width=\"5px\" fill=\"lightsalmon\"/><text x=\"62.5%\" y=\"87.5%\" dominant-baseline=\"middle\" text-anchor=\"middle\" font-size=\"24\">8</text><rect x=\"300\" y=\"300\" width=\"100\" height=\"100\" stroke=\"white\" stroke-width=\"5px\" fill=\"darksalmon\"/><text x=\"87.5%\" y=\"87.5%\" dominant-baseline=\"middle\" text-anchor=\"middle\" font-size=\"24\">16</text></svg>"
      ],
      "text/plain": [
       "<IPython.core.display.HTML object>"
      ]
     },
     "metadata": {},
     "output_type": "display_data"
    },
    {
     "name": "stdout",
     "output_type": "stream",
     "text": [
      "\n",
      "Movimiento: Derecha\n",
      "Puntuacion: 44\n",
      "Numero de movimientos: 17\n"
     ]
    },
    {
     "data": {
      "text/html": [
       "<svg height=\"400\" width=\"400\"><rect x=\"0\" y=\"0\" width=\"100\" height=\"100\" stroke=\"white\" stroke-width=\"5px\" fill=\"ivory\"/><text x=\"12.5%\" y=\"12.5%\" dominant-baseline=\"middle\" text-anchor=\"middle\" font-size=\"24\">2</text><rect x=\"100\" y=\"0\" width=\"100\" height=\"100\" stroke=\"white\" stroke-width=\"5px\" fill=\"silver\"/><rect x=\"200\" y=\"0\" width=\"100\" height=\"100\" stroke=\"white\" stroke-width=\"5px\" fill=\"silver\"/><rect x=\"300\" y=\"0\" width=\"100\" height=\"100\" stroke=\"white\" stroke-width=\"5px\" fill=\"silver\"/><rect x=\"0\" y=\"100\" width=\"100\" height=\"100\" stroke=\"white\" stroke-width=\"5px\" fill=\"silver\"/><rect x=\"100\" y=\"100\" width=\"100\" height=\"100\" stroke=\"white\" stroke-width=\"5px\" fill=\"silver\"/><rect x=\"200\" y=\"100\" width=\"100\" height=\"100\" stroke=\"white\" stroke-width=\"5px\" fill=\"silver\"/><rect x=\"300\" y=\"100\" width=\"100\" height=\"100\" stroke=\"white\" stroke-width=\"5px\" fill=\"ivory\"/><text x=\"87.5%\" y=\"37.5%\" dominant-baseline=\"middle\" text-anchor=\"middle\" font-size=\"24\">2</text><rect x=\"0\" y=\"200\" width=\"100\" height=\"100\" stroke=\"white\" stroke-width=\"5px\" fill=\"silver\"/><rect x=\"100\" y=\"200\" width=\"100\" height=\"100\" stroke=\"white\" stroke-width=\"5px\" fill=\"silver\"/><rect x=\"200\" y=\"200\" width=\"100\" height=\"100\" stroke=\"white\" stroke-width=\"5px\" fill=\"silver\"/><rect x=\"300\" y=\"200\" width=\"100\" height=\"100\" stroke=\"white\" stroke-width=\"5px\" fill=\"lightsalmon\"/><text x=\"87.5%\" y=\"62.5%\" dominant-baseline=\"middle\" text-anchor=\"middle\" font-size=\"24\">8</text><rect x=\"0\" y=\"300\" width=\"100\" height=\"100\" stroke=\"white\" stroke-width=\"5px\" fill=\"ivory\"/><text x=\"12.5%\" y=\"87.5%\" dominant-baseline=\"middle\" text-anchor=\"middle\" font-size=\"24\">2</text><rect x=\"100\" y=\"300\" width=\"100\" height=\"100\" stroke=\"white\" stroke-width=\"5px\" fill=\"antiquewhite\"/><text x=\"37.5%\" y=\"87.5%\" dominant-baseline=\"middle\" text-anchor=\"middle\" font-size=\"24\">4</text><rect x=\"200\" y=\"300\" width=\"100\" height=\"100\" stroke=\"white\" stroke-width=\"5px\" fill=\"lightsalmon\"/><text x=\"62.5%\" y=\"87.5%\" dominant-baseline=\"middle\" text-anchor=\"middle\" font-size=\"24\">8</text><rect x=\"300\" y=\"300\" width=\"100\" height=\"100\" stroke=\"white\" stroke-width=\"5px\" fill=\"darksalmon\"/><text x=\"87.5%\" y=\"87.5%\" dominant-baseline=\"middle\" text-anchor=\"middle\" font-size=\"24\">16</text></svg>"
      ],
      "text/plain": [
       "<IPython.core.display.HTML object>"
      ]
     },
     "metadata": {},
     "output_type": "display_data"
    },
    {
     "name": "stdout",
     "output_type": "stream",
     "text": [
      "\n",
      "Movimiento: Derecha\n",
      "Puntuacion: 52\n",
      "Numero de movimientos: 18\n"
     ]
    },
    {
     "data": {
      "text/html": [
       "<svg height=\"400\" width=\"400\"><rect x=\"0\" y=\"0\" width=\"100\" height=\"100\" stroke=\"white\" stroke-width=\"5px\" fill=\"silver\"/><rect x=\"100\" y=\"0\" width=\"100\" height=\"100\" stroke=\"white\" stroke-width=\"5px\" fill=\"silver\"/><rect x=\"200\" y=\"0\" width=\"100\" height=\"100\" stroke=\"white\" stroke-width=\"5px\" fill=\"antiquewhite\"/><text x=\"62.5%\" y=\"12.5%\" dominant-baseline=\"middle\" text-anchor=\"middle\" font-size=\"24\">4</text><rect x=\"300\" y=\"0\" width=\"100\" height=\"100\" stroke=\"white\" stroke-width=\"5px\" fill=\"silver\"/><rect x=\"0\" y=\"100\" width=\"100\" height=\"100\" stroke=\"white\" stroke-width=\"5px\" fill=\"silver\"/><rect x=\"100\" y=\"100\" width=\"100\" height=\"100\" stroke=\"white\" stroke-width=\"5px\" fill=\"silver\"/><rect x=\"200\" y=\"100\" width=\"100\" height=\"100\" stroke=\"white\" stroke-width=\"5px\" fill=\"silver\"/><rect x=\"300\" y=\"100\" width=\"100\" height=\"100\" stroke=\"white\" stroke-width=\"5px\" fill=\"ivory\"/><text x=\"87.5%\" y=\"37.5%\" dominant-baseline=\"middle\" text-anchor=\"middle\" font-size=\"24\">2</text><rect x=\"0\" y=\"200\" width=\"100\" height=\"100\" stroke=\"white\" stroke-width=\"5px\" fill=\"silver\"/><rect x=\"100\" y=\"200\" width=\"100\" height=\"100\" stroke=\"white\" stroke-width=\"5px\" fill=\"silver\"/><rect x=\"200\" y=\"200\" width=\"100\" height=\"100\" stroke=\"white\" stroke-width=\"5px\" fill=\"silver\"/><rect x=\"300\" y=\"200\" width=\"100\" height=\"100\" stroke=\"white\" stroke-width=\"5px\" fill=\"lightsalmon\"/><text x=\"87.5%\" y=\"62.5%\" dominant-baseline=\"middle\" text-anchor=\"middle\" font-size=\"24\">8</text><rect x=\"0\" y=\"300\" width=\"100\" height=\"100\" stroke=\"white\" stroke-width=\"5px\" fill=\"silver\"/><rect x=\"100\" y=\"300\" width=\"100\" height=\"100\" stroke=\"white\" stroke-width=\"5px\" fill=\"lightsalmon\"/><text x=\"37.5%\" y=\"87.5%\" dominant-baseline=\"middle\" text-anchor=\"middle\" font-size=\"24\">8</text><rect x=\"200\" y=\"300\" width=\"100\" height=\"100\" stroke=\"white\" stroke-width=\"5px\" fill=\"lightsalmon\"/><text x=\"62.5%\" y=\"87.5%\" dominant-baseline=\"middle\" text-anchor=\"middle\" font-size=\"24\">8</text><rect x=\"300\" y=\"300\" width=\"100\" height=\"100\" stroke=\"white\" stroke-width=\"5px\" fill=\"darksalmon\"/><text x=\"87.5%\" y=\"87.5%\" dominant-baseline=\"middle\" text-anchor=\"middle\" font-size=\"24\">16</text></svg>"
      ],
      "text/plain": [
       "<IPython.core.display.HTML object>"
      ]
     },
     "metadata": {},
     "output_type": "display_data"
    },
    {
     "name": "stdout",
     "output_type": "stream",
     "text": [
      "\n",
      "Movimiento: Derecha\n",
      "Puntuacion: 68\n",
      "Numero de movimientos: 19\n"
     ]
    },
    {
     "data": {
      "text/html": [
       "<svg height=\"400\" width=\"400\"><rect x=\"0\" y=\"0\" width=\"100\" height=\"100\" stroke=\"white\" stroke-width=\"5px\" fill=\"silver\"/><rect x=\"100\" y=\"0\" width=\"100\" height=\"100\" stroke=\"white\" stroke-width=\"5px\" fill=\"silver\"/><rect x=\"200\" y=\"0\" width=\"100\" height=\"100\" stroke=\"white\" stroke-width=\"5px\" fill=\"ivory\"/><text x=\"62.5%\" y=\"12.5%\" dominant-baseline=\"middle\" text-anchor=\"middle\" font-size=\"24\">2</text><rect x=\"300\" y=\"0\" width=\"100\" height=\"100\" stroke=\"white\" stroke-width=\"5px\" fill=\"silver\"/><rect x=\"0\" y=\"100\" width=\"100\" height=\"100\" stroke=\"white\" stroke-width=\"5px\" fill=\"silver\"/><rect x=\"100\" y=\"100\" width=\"100\" height=\"100\" stroke=\"white\" stroke-width=\"5px\" fill=\"silver\"/><rect x=\"200\" y=\"100\" width=\"100\" height=\"100\" stroke=\"white\" stroke-width=\"5px\" fill=\"silver\"/><rect x=\"300\" y=\"100\" width=\"100\" height=\"100\" stroke=\"white\" stroke-width=\"5px\" fill=\"ivory\"/><text x=\"87.5%\" y=\"37.5%\" dominant-baseline=\"middle\" text-anchor=\"middle\" font-size=\"24\">2</text><rect x=\"0\" y=\"200\" width=\"100\" height=\"100\" stroke=\"white\" stroke-width=\"5px\" fill=\"silver\"/><rect x=\"100\" y=\"200\" width=\"100\" height=\"100\" stroke=\"white\" stroke-width=\"5px\" fill=\"silver\"/><rect x=\"200\" y=\"200\" width=\"100\" height=\"100\" stroke=\"white\" stroke-width=\"5px\" fill=\"antiquewhite\"/><text x=\"62.5%\" y=\"62.5%\" dominant-baseline=\"middle\" text-anchor=\"middle\" font-size=\"24\">4</text><rect x=\"300\" y=\"200\" width=\"100\" height=\"100\" stroke=\"white\" stroke-width=\"5px\" fill=\"lightsalmon\"/><text x=\"87.5%\" y=\"62.5%\" dominant-baseline=\"middle\" text-anchor=\"middle\" font-size=\"24\">8</text><rect x=\"0\" y=\"300\" width=\"100\" height=\"100\" stroke=\"white\" stroke-width=\"5px\" fill=\"silver\"/><rect x=\"100\" y=\"300\" width=\"100\" height=\"100\" stroke=\"white\" stroke-width=\"5px\" fill=\"silver\"/><rect x=\"200\" y=\"300\" width=\"100\" height=\"100\" stroke=\"white\" stroke-width=\"5px\" fill=\"darksalmon\"/><text x=\"62.5%\" y=\"87.5%\" dominant-baseline=\"middle\" text-anchor=\"middle\" font-size=\"24\">16</text><rect x=\"300\" y=\"300\" width=\"100\" height=\"100\" stroke=\"white\" stroke-width=\"5px\" fill=\"darksalmon\"/><text x=\"87.5%\" y=\"87.5%\" dominant-baseline=\"middle\" text-anchor=\"middle\" font-size=\"24\">16</text></svg>"
      ],
      "text/plain": [
       "<IPython.core.display.HTML object>"
      ]
     },
     "metadata": {},
     "output_type": "display_data"
    },
    {
     "name": "stdout",
     "output_type": "stream",
     "text": [
      "\n",
      "Movimiento: Derecha\n",
      "Puntuacion: 104\n",
      "Numero de movimientos: 20\n"
     ]
    },
    {
     "data": {
      "text/html": [
       "<svg height=\"400\" width=\"400\"><rect x=\"0\" y=\"0\" width=\"100\" height=\"100\" stroke=\"white\" stroke-width=\"5px\" fill=\"silver\"/><rect x=\"100\" y=\"0\" width=\"100\" height=\"100\" stroke=\"white\" stroke-width=\"5px\" fill=\"silver\"/><rect x=\"200\" y=\"0\" width=\"100\" height=\"100\" stroke=\"white\" stroke-width=\"5px\" fill=\"silver\"/><rect x=\"300\" y=\"0\" width=\"100\" height=\"100\" stroke=\"white\" stroke-width=\"5px\" fill=\"silver\"/><rect x=\"0\" y=\"100\" width=\"100\" height=\"100\" stroke=\"white\" stroke-width=\"5px\" fill=\"silver\"/><rect x=\"100\" y=\"100\" width=\"100\" height=\"100\" stroke=\"white\" stroke-width=\"5px\" fill=\"silver\"/><rect x=\"200\" y=\"100\" width=\"100\" height=\"100\" stroke=\"white\" stroke-width=\"5px\" fill=\"silver\"/><rect x=\"300\" y=\"100\" width=\"100\" height=\"100\" stroke=\"white\" stroke-width=\"5px\" fill=\"antiquewhite\"/><text x=\"87.5%\" y=\"37.5%\" dominant-baseline=\"middle\" text-anchor=\"middle\" font-size=\"24\">4</text><rect x=\"0\" y=\"200\" width=\"100\" height=\"100\" stroke=\"white\" stroke-width=\"5px\" fill=\"ivory\"/><text x=\"12.5%\" y=\"62.5%\" dominant-baseline=\"middle\" text-anchor=\"middle\" font-size=\"24\">2</text><rect x=\"100\" y=\"200\" width=\"100\" height=\"100\" stroke=\"white\" stroke-width=\"5px\" fill=\"silver\"/><rect x=\"200\" y=\"200\" width=\"100\" height=\"100\" stroke=\"white\" stroke-width=\"5px\" fill=\"antiquewhite\"/><text x=\"62.5%\" y=\"62.5%\" dominant-baseline=\"middle\" text-anchor=\"middle\" font-size=\"24\">4</text><rect x=\"300\" y=\"200\" width=\"100\" height=\"100\" stroke=\"white\" stroke-width=\"5px\" fill=\"lightsalmon\"/><text x=\"87.5%\" y=\"62.5%\" dominant-baseline=\"middle\" text-anchor=\"middle\" font-size=\"24\">8</text><rect x=\"0\" y=\"300\" width=\"100\" height=\"100\" stroke=\"white\" stroke-width=\"5px\" fill=\"silver\"/><rect x=\"100\" y=\"300\" width=\"100\" height=\"100\" stroke=\"white\" stroke-width=\"5px\" fill=\"silver\"/><rect x=\"200\" y=\"300\" width=\"100\" height=\"100\" stroke=\"white\" stroke-width=\"5px\" fill=\"silver\"/><rect x=\"300\" y=\"300\" width=\"100\" height=\"100\" stroke=\"white\" stroke-width=\"5px\" fill=\"tomato\"/><text x=\"87.5%\" y=\"87.5%\" dominant-baseline=\"middle\" text-anchor=\"middle\" font-size=\"24\">32</text></svg>"
      ],
      "text/plain": [
       "<IPython.core.display.HTML object>"
      ]
     },
     "metadata": {},
     "output_type": "display_data"
    },
    {
     "name": "stdout",
     "output_type": "stream",
     "text": [
      "\n",
      "Movimiento: Derecha\n",
      "Puntuacion: 104\n",
      "Numero de movimientos: 21\n"
     ]
    },
    {
     "data": {
      "text/html": [
       "<svg height=\"400\" width=\"400\"><rect x=\"0\" y=\"0\" width=\"100\" height=\"100\" stroke=\"white\" stroke-width=\"5px\" fill=\"silver\"/><rect x=\"100\" y=\"0\" width=\"100\" height=\"100\" stroke=\"white\" stroke-width=\"5px\" fill=\"silver\"/><rect x=\"200\" y=\"0\" width=\"100\" height=\"100\" stroke=\"white\" stroke-width=\"5px\" fill=\"silver\"/><rect x=\"300\" y=\"0\" width=\"100\" height=\"100\" stroke=\"white\" stroke-width=\"5px\" fill=\"silver\"/><rect x=\"0\" y=\"100\" width=\"100\" height=\"100\" stroke=\"white\" stroke-width=\"5px\" fill=\"silver\"/><rect x=\"100\" y=\"100\" width=\"100\" height=\"100\" stroke=\"white\" stroke-width=\"5px\" fill=\"silver\"/><rect x=\"200\" y=\"100\" width=\"100\" height=\"100\" stroke=\"white\" stroke-width=\"5px\" fill=\"silver\"/><rect x=\"300\" y=\"100\" width=\"100\" height=\"100\" stroke=\"white\" stroke-width=\"5px\" fill=\"antiquewhite\"/><text x=\"87.5%\" y=\"37.5%\" dominant-baseline=\"middle\" text-anchor=\"middle\" font-size=\"24\">4</text><rect x=\"0\" y=\"200\" width=\"100\" height=\"100\" stroke=\"white\" stroke-width=\"5px\" fill=\"silver\"/><rect x=\"100\" y=\"200\" width=\"100\" height=\"100\" stroke=\"white\" stroke-width=\"5px\" fill=\"silver\"/><rect x=\"200\" y=\"200\" width=\"100\" height=\"100\" stroke=\"white\" stroke-width=\"5px\" fill=\"silver\"/><rect x=\"300\" y=\"200\" width=\"100\" height=\"100\" stroke=\"white\" stroke-width=\"5px\" fill=\"lightsalmon\"/><text x=\"87.5%\" y=\"62.5%\" dominant-baseline=\"middle\" text-anchor=\"middle\" font-size=\"24\">8</text><rect x=\"0\" y=\"300\" width=\"100\" height=\"100\" stroke=\"white\" stroke-width=\"5px\" fill=\"ivory\"/><text x=\"12.5%\" y=\"87.5%\" dominant-baseline=\"middle\" text-anchor=\"middle\" font-size=\"24\">2</text><rect x=\"100\" y=\"300\" width=\"100\" height=\"100\" stroke=\"white\" stroke-width=\"5px\" fill=\"ivory\"/><text x=\"37.5%\" y=\"87.5%\" dominant-baseline=\"middle\" text-anchor=\"middle\" font-size=\"24\">2</text><rect x=\"200\" y=\"300\" width=\"100\" height=\"100\" stroke=\"white\" stroke-width=\"5px\" fill=\"antiquewhite\"/><text x=\"62.5%\" y=\"87.5%\" dominant-baseline=\"middle\" text-anchor=\"middle\" font-size=\"24\">4</text><rect x=\"300\" y=\"300\" width=\"100\" height=\"100\" stroke=\"white\" stroke-width=\"5px\" fill=\"tomato\"/><text x=\"87.5%\" y=\"87.5%\" dominant-baseline=\"middle\" text-anchor=\"middle\" font-size=\"24\">32</text></svg>"
      ],
      "text/plain": [
       "<IPython.core.display.HTML object>"
      ]
     },
     "metadata": {},
     "output_type": "display_data"
    },
    {
     "name": "stdout",
     "output_type": "stream",
     "text": [
      "\n",
      "Movimiento: Abajo\n",
      "Puntuacion: 104\n",
      "Numero de movimientos: 22\n"
     ]
    },
    {
     "data": {
      "text/html": [
       "<svg height=\"400\" width=\"400\"><rect x=\"0\" y=\"0\" width=\"100\" height=\"100\" stroke=\"white\" stroke-width=\"5px\" fill=\"silver\"/><rect x=\"100\" y=\"0\" width=\"100\" height=\"100\" stroke=\"white\" stroke-width=\"5px\" fill=\"ivory\"/><text x=\"37.5%\" y=\"12.5%\" dominant-baseline=\"middle\" text-anchor=\"middle\" font-size=\"24\">2</text><rect x=\"200\" y=\"0\" width=\"100\" height=\"100\" stroke=\"white\" stroke-width=\"5px\" fill=\"silver\"/><rect x=\"300\" y=\"0\" width=\"100\" height=\"100\" stroke=\"white\" stroke-width=\"5px\" fill=\"silver\"/><rect x=\"0\" y=\"100\" width=\"100\" height=\"100\" stroke=\"white\" stroke-width=\"5px\" fill=\"silver\"/><rect x=\"100\" y=\"100\" width=\"100\" height=\"100\" stroke=\"white\" stroke-width=\"5px\" fill=\"silver\"/><rect x=\"200\" y=\"100\" width=\"100\" height=\"100\" stroke=\"white\" stroke-width=\"5px\" fill=\"silver\"/><rect x=\"300\" y=\"100\" width=\"100\" height=\"100\" stroke=\"white\" stroke-width=\"5px\" fill=\"antiquewhite\"/><text x=\"87.5%\" y=\"37.5%\" dominant-baseline=\"middle\" text-anchor=\"middle\" font-size=\"24\">4</text><rect x=\"0\" y=\"200\" width=\"100\" height=\"100\" stroke=\"white\" stroke-width=\"5px\" fill=\"silver\"/><rect x=\"100\" y=\"200\" width=\"100\" height=\"100\" stroke=\"white\" stroke-width=\"5px\" fill=\"silver\"/><rect x=\"200\" y=\"200\" width=\"100\" height=\"100\" stroke=\"white\" stroke-width=\"5px\" fill=\"silver\"/><rect x=\"300\" y=\"200\" width=\"100\" height=\"100\" stroke=\"white\" stroke-width=\"5px\" fill=\"lightsalmon\"/><text x=\"87.5%\" y=\"62.5%\" dominant-baseline=\"middle\" text-anchor=\"middle\" font-size=\"24\">8</text><rect x=\"0\" y=\"300\" width=\"100\" height=\"100\" stroke=\"white\" stroke-width=\"5px\" fill=\"ivory\"/><text x=\"12.5%\" y=\"87.5%\" dominant-baseline=\"middle\" text-anchor=\"middle\" font-size=\"24\">2</text><rect x=\"100\" y=\"300\" width=\"100\" height=\"100\" stroke=\"white\" stroke-width=\"5px\" fill=\"ivory\"/><text x=\"37.5%\" y=\"87.5%\" dominant-baseline=\"middle\" text-anchor=\"middle\" font-size=\"24\">2</text><rect x=\"200\" y=\"300\" width=\"100\" height=\"100\" stroke=\"white\" stroke-width=\"5px\" fill=\"antiquewhite\"/><text x=\"62.5%\" y=\"87.5%\" dominant-baseline=\"middle\" text-anchor=\"middle\" font-size=\"24\">4</text><rect x=\"300\" y=\"300\" width=\"100\" height=\"100\" stroke=\"white\" stroke-width=\"5px\" fill=\"tomato\"/><text x=\"87.5%\" y=\"87.5%\" dominant-baseline=\"middle\" text-anchor=\"middle\" font-size=\"24\">32</text></svg>"
      ],
      "text/plain": [
       "<IPython.core.display.HTML object>"
      ]
     },
     "metadata": {},
     "output_type": "display_data"
    },
    {
     "name": "stdout",
     "output_type": "stream",
     "text": [
      "\n",
      "Movimiento: Derecha\n",
      "Puntuacion: 112\n",
      "Numero de movimientos: 23\n"
     ]
    },
    {
     "data": {
      "text/html": [
       "<svg height=\"400\" width=\"400\"><rect x=\"0\" y=\"0\" width=\"100\" height=\"100\" stroke=\"white\" stroke-width=\"5px\" fill=\"silver\"/><rect x=\"100\" y=\"0\" width=\"100\" height=\"100\" stroke=\"white\" stroke-width=\"5px\" fill=\"silver\"/><rect x=\"200\" y=\"0\" width=\"100\" height=\"100\" stroke=\"white\" stroke-width=\"5px\" fill=\"silver\"/><rect x=\"300\" y=\"0\" width=\"100\" height=\"100\" stroke=\"white\" stroke-width=\"5px\" fill=\"silver\"/><rect x=\"0\" y=\"100\" width=\"100\" height=\"100\" stroke=\"white\" stroke-width=\"5px\" fill=\"silver\"/><rect x=\"100\" y=\"100\" width=\"100\" height=\"100\" stroke=\"white\" stroke-width=\"5px\" fill=\"ivory\"/><text x=\"37.5%\" y=\"37.5%\" dominant-baseline=\"middle\" text-anchor=\"middle\" font-size=\"24\">2</text><rect x=\"200\" y=\"100\" width=\"100\" height=\"100\" stroke=\"white\" stroke-width=\"5px\" fill=\"silver\"/><rect x=\"300\" y=\"100\" width=\"100\" height=\"100\" stroke=\"white\" stroke-width=\"5px\" fill=\"antiquewhite\"/><text x=\"87.5%\" y=\"37.5%\" dominant-baseline=\"middle\" text-anchor=\"middle\" font-size=\"24\">4</text><rect x=\"0\" y=\"200\" width=\"100\" height=\"100\" stroke=\"white\" stroke-width=\"5px\" fill=\"silver\"/><rect x=\"100\" y=\"200\" width=\"100\" height=\"100\" stroke=\"white\" stroke-width=\"5px\" fill=\"silver\"/><rect x=\"200\" y=\"200\" width=\"100\" height=\"100\" stroke=\"white\" stroke-width=\"5px\" fill=\"silver\"/><rect x=\"300\" y=\"200\" width=\"100\" height=\"100\" stroke=\"white\" stroke-width=\"5px\" fill=\"lightsalmon\"/><text x=\"87.5%\" y=\"62.5%\" dominant-baseline=\"middle\" text-anchor=\"middle\" font-size=\"24\">8</text><rect x=\"0\" y=\"300\" width=\"100\" height=\"100\" stroke=\"white\" stroke-width=\"5px\" fill=\"silver\"/><rect x=\"100\" y=\"300\" width=\"100\" height=\"100\" stroke=\"white\" stroke-width=\"5px\" fill=\"ivory\"/><text x=\"37.5%\" y=\"87.5%\" dominant-baseline=\"middle\" text-anchor=\"middle\" font-size=\"24\">2</text><rect x=\"200\" y=\"300\" width=\"100\" height=\"100\" stroke=\"white\" stroke-width=\"5px\" fill=\"lightsalmon\"/><text x=\"62.5%\" y=\"87.5%\" dominant-baseline=\"middle\" text-anchor=\"middle\" font-size=\"24\">8</text><rect x=\"300\" y=\"300\" width=\"100\" height=\"100\" stroke=\"white\" stroke-width=\"5px\" fill=\"tomato\"/><text x=\"87.5%\" y=\"87.5%\" dominant-baseline=\"middle\" text-anchor=\"middle\" font-size=\"24\">32</text></svg>"
      ],
      "text/plain": [
       "<IPython.core.display.HTML object>"
      ]
     },
     "metadata": {},
     "output_type": "display_data"
    },
    {
     "name": "stdout",
     "output_type": "stream",
     "text": [
      "\n",
      "Movimiento: Derecha\n",
      "Puntuacion: 112\n",
      "Numero de movimientos: 24\n"
     ]
    },
    {
     "data": {
      "text/html": [
       "<svg height=\"400\" width=\"400\"><rect x=\"0\" y=\"0\" width=\"100\" height=\"100\" stroke=\"white\" stroke-width=\"5px\" fill=\"silver\"/><rect x=\"100\" y=\"0\" width=\"100\" height=\"100\" stroke=\"white\" stroke-width=\"5px\" fill=\"silver\"/><rect x=\"200\" y=\"0\" width=\"100\" height=\"100\" stroke=\"white\" stroke-width=\"5px\" fill=\"silver\"/><rect x=\"300\" y=\"0\" width=\"100\" height=\"100\" stroke=\"white\" stroke-width=\"5px\" fill=\"silver\"/><rect x=\"0\" y=\"100\" width=\"100\" height=\"100\" stroke=\"white\" stroke-width=\"5px\" fill=\"silver\"/><rect x=\"100\" y=\"100\" width=\"100\" height=\"100\" stroke=\"white\" stroke-width=\"5px\" fill=\"silver\"/><rect x=\"200\" y=\"100\" width=\"100\" height=\"100\" stroke=\"white\" stroke-width=\"5px\" fill=\"silver\"/><rect x=\"300\" y=\"100\" width=\"100\" height=\"100\" stroke=\"white\" stroke-width=\"5px\" fill=\"antiquewhite\"/><text x=\"87.5%\" y=\"37.5%\" dominant-baseline=\"middle\" text-anchor=\"middle\" font-size=\"24\">4</text><rect x=\"0\" y=\"200\" width=\"100\" height=\"100\" stroke=\"white\" stroke-width=\"5px\" fill=\"silver\"/><rect x=\"100\" y=\"200\" width=\"100\" height=\"100\" stroke=\"white\" stroke-width=\"5px\" fill=\"silver\"/><rect x=\"200\" y=\"200\" width=\"100\" height=\"100\" stroke=\"white\" stroke-width=\"5px\" fill=\"ivory\"/><text x=\"62.5%\" y=\"62.5%\" dominant-baseline=\"middle\" text-anchor=\"middle\" font-size=\"24\">2</text><rect x=\"300\" y=\"200\" width=\"100\" height=\"100\" stroke=\"white\" stroke-width=\"5px\" fill=\"lightsalmon\"/><text x=\"87.5%\" y=\"62.5%\" dominant-baseline=\"middle\" text-anchor=\"middle\" font-size=\"24\">8</text><rect x=\"0\" y=\"300\" width=\"100\" height=\"100\" stroke=\"white\" stroke-width=\"5px\" fill=\"silver\"/><rect x=\"100\" y=\"300\" width=\"100\" height=\"100\" stroke=\"white\" stroke-width=\"5px\" fill=\"antiquewhite\"/><text x=\"37.5%\" y=\"87.5%\" dominant-baseline=\"middle\" text-anchor=\"middle\" font-size=\"24\">4</text><rect x=\"200\" y=\"300\" width=\"100\" height=\"100\" stroke=\"white\" stroke-width=\"5px\" fill=\"lightsalmon\"/><text x=\"62.5%\" y=\"87.5%\" dominant-baseline=\"middle\" text-anchor=\"middle\" font-size=\"24\">8</text><rect x=\"300\" y=\"300\" width=\"100\" height=\"100\" stroke=\"white\" stroke-width=\"5px\" fill=\"tomato\"/><text x=\"87.5%\" y=\"87.5%\" dominant-baseline=\"middle\" text-anchor=\"middle\" font-size=\"24\">32</text></svg>"
      ],
      "text/plain": [
       "<IPython.core.display.HTML object>"
      ]
     },
     "metadata": {},
     "output_type": "display_data"
    },
    {
     "name": "stdout",
     "output_type": "stream",
     "text": [
      "\n",
      "Movimiento: Abajo\n",
      "Puntuacion: 112\n",
      "Numero de movimientos: 25\n"
     ]
    },
    {
     "data": {
      "text/html": [
       "<svg height=\"400\" width=\"400\"><rect x=\"0\" y=\"0\" width=\"100\" height=\"100\" stroke=\"white\" stroke-width=\"5px\" fill=\"silver\"/><rect x=\"100\" y=\"0\" width=\"100\" height=\"100\" stroke=\"white\" stroke-width=\"5px\" fill=\"silver\"/><rect x=\"200\" y=\"0\" width=\"100\" height=\"100\" stroke=\"white\" stroke-width=\"5px\" fill=\"silver\"/><rect x=\"300\" y=\"0\" width=\"100\" height=\"100\" stroke=\"white\" stroke-width=\"5px\" fill=\"silver\"/><rect x=\"0\" y=\"100\" width=\"100\" height=\"100\" stroke=\"white\" stroke-width=\"5px\" fill=\"ivory\"/><text x=\"12.5%\" y=\"37.5%\" dominant-baseline=\"middle\" text-anchor=\"middle\" font-size=\"24\">2</text><rect x=\"100\" y=\"100\" width=\"100\" height=\"100\" stroke=\"white\" stroke-width=\"5px\" fill=\"silver\"/><rect x=\"200\" y=\"100\" width=\"100\" height=\"100\" stroke=\"white\" stroke-width=\"5px\" fill=\"silver\"/><rect x=\"300\" y=\"100\" width=\"100\" height=\"100\" stroke=\"white\" stroke-width=\"5px\" fill=\"antiquewhite\"/><text x=\"87.5%\" y=\"37.5%\" dominant-baseline=\"middle\" text-anchor=\"middle\" font-size=\"24\">4</text><rect x=\"0\" y=\"200\" width=\"100\" height=\"100\" stroke=\"white\" stroke-width=\"5px\" fill=\"silver\"/><rect x=\"100\" y=\"200\" width=\"100\" height=\"100\" stroke=\"white\" stroke-width=\"5px\" fill=\"silver\"/><rect x=\"200\" y=\"200\" width=\"100\" height=\"100\" stroke=\"white\" stroke-width=\"5px\" fill=\"ivory\"/><text x=\"62.5%\" y=\"62.5%\" dominant-baseline=\"middle\" text-anchor=\"middle\" font-size=\"24\">2</text><rect x=\"300\" y=\"200\" width=\"100\" height=\"100\" stroke=\"white\" stroke-width=\"5px\" fill=\"lightsalmon\"/><text x=\"87.5%\" y=\"62.5%\" dominant-baseline=\"middle\" text-anchor=\"middle\" font-size=\"24\">8</text><rect x=\"0\" y=\"300\" width=\"100\" height=\"100\" stroke=\"white\" stroke-width=\"5px\" fill=\"silver\"/><rect x=\"100\" y=\"300\" width=\"100\" height=\"100\" stroke=\"white\" stroke-width=\"5px\" fill=\"antiquewhite\"/><text x=\"37.5%\" y=\"87.5%\" dominant-baseline=\"middle\" text-anchor=\"middle\" font-size=\"24\">4</text><rect x=\"200\" y=\"300\" width=\"100\" height=\"100\" stroke=\"white\" stroke-width=\"5px\" fill=\"lightsalmon\"/><text x=\"62.5%\" y=\"87.5%\" dominant-baseline=\"middle\" text-anchor=\"middle\" font-size=\"24\">8</text><rect x=\"300\" y=\"300\" width=\"100\" height=\"100\" stroke=\"white\" stroke-width=\"5px\" fill=\"tomato\"/><text x=\"87.5%\" y=\"87.5%\" dominant-baseline=\"middle\" text-anchor=\"middle\" font-size=\"24\">32</text></svg>"
      ],
      "text/plain": [
       "<IPython.core.display.HTML object>"
      ]
     },
     "metadata": {},
     "output_type": "display_data"
    },
    {
     "name": "stdout",
     "output_type": "stream",
     "text": [
      "\n",
      "Movimiento: Derecha\n",
      "Puntuacion: 112\n",
      "Numero de movimientos: 26\n"
     ]
    },
    {
     "data": {
      "text/html": [
       "<svg height=\"400\" width=\"400\"><rect x=\"0\" y=\"0\" width=\"100\" height=\"100\" stroke=\"white\" stroke-width=\"5px\" fill=\"silver\"/><rect x=\"100\" y=\"0\" width=\"100\" height=\"100\" stroke=\"white\" stroke-width=\"5px\" fill=\"silver\"/><rect x=\"200\" y=\"0\" width=\"100\" height=\"100\" stroke=\"white\" stroke-width=\"5px\" fill=\"silver\"/><rect x=\"300\" y=\"0\" width=\"100\" height=\"100\" stroke=\"white\" stroke-width=\"5px\" fill=\"silver\"/><rect x=\"0\" y=\"100\" width=\"100\" height=\"100\" stroke=\"white\" stroke-width=\"5px\" fill=\"ivory\"/><text x=\"12.5%\" y=\"37.5%\" dominant-baseline=\"middle\" text-anchor=\"middle\" font-size=\"24\">2</text><rect x=\"100\" y=\"100\" width=\"100\" height=\"100\" stroke=\"white\" stroke-width=\"5px\" fill=\"silver\"/><rect x=\"200\" y=\"100\" width=\"100\" height=\"100\" stroke=\"white\" stroke-width=\"5px\" fill=\"silver\"/><rect x=\"300\" y=\"100\" width=\"100\" height=\"100\" stroke=\"white\" stroke-width=\"5px\" fill=\"antiquewhite\"/><text x=\"87.5%\" y=\"37.5%\" dominant-baseline=\"middle\" text-anchor=\"middle\" font-size=\"24\">4</text><rect x=\"0\" y=\"200\" width=\"100\" height=\"100\" stroke=\"white\" stroke-width=\"5px\" fill=\"silver\"/><rect x=\"100\" y=\"200\" width=\"100\" height=\"100\" stroke=\"white\" stroke-width=\"5px\" fill=\"silver\"/><rect x=\"200\" y=\"200\" width=\"100\" height=\"100\" stroke=\"white\" stroke-width=\"5px\" fill=\"ivory\"/><text x=\"62.5%\" y=\"62.5%\" dominant-baseline=\"middle\" text-anchor=\"middle\" font-size=\"24\">2</text><rect x=\"300\" y=\"200\" width=\"100\" height=\"100\" stroke=\"white\" stroke-width=\"5px\" fill=\"lightsalmon\"/><text x=\"87.5%\" y=\"62.5%\" dominant-baseline=\"middle\" text-anchor=\"middle\" font-size=\"24\">8</text><rect x=\"0\" y=\"300\" width=\"100\" height=\"100\" stroke=\"white\" stroke-width=\"5px\" fill=\"ivory\"/><text x=\"12.5%\" y=\"87.5%\" dominant-baseline=\"middle\" text-anchor=\"middle\" font-size=\"24\">2</text><rect x=\"100\" y=\"300\" width=\"100\" height=\"100\" stroke=\"white\" stroke-width=\"5px\" fill=\"antiquewhite\"/><text x=\"37.5%\" y=\"87.5%\" dominant-baseline=\"middle\" text-anchor=\"middle\" font-size=\"24\">4</text><rect x=\"200\" y=\"300\" width=\"100\" height=\"100\" stroke=\"white\" stroke-width=\"5px\" fill=\"lightsalmon\"/><text x=\"62.5%\" y=\"87.5%\" dominant-baseline=\"middle\" text-anchor=\"middle\" font-size=\"24\">8</text><rect x=\"300\" y=\"300\" width=\"100\" height=\"100\" stroke=\"white\" stroke-width=\"5px\" fill=\"tomato\"/><text x=\"87.5%\" y=\"87.5%\" dominant-baseline=\"middle\" text-anchor=\"middle\" font-size=\"24\">32</text></svg>"
      ],
      "text/plain": [
       "<IPython.core.display.HTML object>"
      ]
     },
     "metadata": {},
     "output_type": "display_data"
    },
    {
     "name": "stdout",
     "output_type": "stream",
     "text": [
      "\n",
      "Movimiento: Derecha\n",
      "Puntuacion: 120\n",
      "Numero de movimientos: 27\n"
     ]
    },
    {
     "data": {
      "text/html": [
       "<svg height=\"400\" width=\"400\"><rect x=\"0\" y=\"0\" width=\"100\" height=\"100\" stroke=\"white\" stroke-width=\"5px\" fill=\"silver\"/><rect x=\"100\" y=\"0\" width=\"100\" height=\"100\" stroke=\"white\" stroke-width=\"5px\" fill=\"silver\"/><rect x=\"200\" y=\"0\" width=\"100\" height=\"100\" stroke=\"white\" stroke-width=\"5px\" fill=\"silver\"/><rect x=\"300\" y=\"0\" width=\"100\" height=\"100\" stroke=\"white\" stroke-width=\"5px\" fill=\"silver\"/><rect x=\"0\" y=\"100\" width=\"100\" height=\"100\" stroke=\"white\" stroke-width=\"5px\" fill=\"ivory\"/><text x=\"12.5%\" y=\"37.5%\" dominant-baseline=\"middle\" text-anchor=\"middle\" font-size=\"24\">2</text><rect x=\"100\" y=\"100\" width=\"100\" height=\"100\" stroke=\"white\" stroke-width=\"5px\" fill=\"silver\"/><rect x=\"200\" y=\"100\" width=\"100\" height=\"100\" stroke=\"white\" stroke-width=\"5px\" fill=\"silver\"/><rect x=\"300\" y=\"100\" width=\"100\" height=\"100\" stroke=\"white\" stroke-width=\"5px\" fill=\"antiquewhite\"/><text x=\"87.5%\" y=\"37.5%\" dominant-baseline=\"middle\" text-anchor=\"middle\" font-size=\"24\">4</text><rect x=\"0\" y=\"200\" width=\"100\" height=\"100\" stroke=\"white\" stroke-width=\"5px\" fill=\"silver\"/><rect x=\"100\" y=\"200\" width=\"100\" height=\"100\" stroke=\"white\" stroke-width=\"5px\" fill=\"silver\"/><rect x=\"200\" y=\"200\" width=\"100\" height=\"100\" stroke=\"white\" stroke-width=\"5px\" fill=\"ivory\"/><text x=\"62.5%\" y=\"62.5%\" dominant-baseline=\"middle\" text-anchor=\"middle\" font-size=\"24\">2</text><rect x=\"300\" y=\"200\" width=\"100\" height=\"100\" stroke=\"white\" stroke-width=\"5px\" fill=\"lightsalmon\"/><text x=\"87.5%\" y=\"62.5%\" dominant-baseline=\"middle\" text-anchor=\"middle\" font-size=\"24\">8</text><rect x=\"0\" y=\"300\" width=\"100\" height=\"100\" stroke=\"white\" stroke-width=\"5px\" fill=\"silver\"/><rect x=\"100\" y=\"300\" width=\"100\" height=\"100\" stroke=\"white\" stroke-width=\"5px\" fill=\"lightsalmon\"/><text x=\"37.5%\" y=\"87.5%\" dominant-baseline=\"middle\" text-anchor=\"middle\" font-size=\"24\">8</text><rect x=\"200\" y=\"300\" width=\"100\" height=\"100\" stroke=\"white\" stroke-width=\"5px\" fill=\"lightsalmon\"/><text x=\"62.5%\" y=\"87.5%\" dominant-baseline=\"middle\" text-anchor=\"middle\" font-size=\"24\">8</text><rect x=\"300\" y=\"300\" width=\"100\" height=\"100\" stroke=\"white\" stroke-width=\"5px\" fill=\"tomato\"/><text x=\"87.5%\" y=\"87.5%\" dominant-baseline=\"middle\" text-anchor=\"middle\" font-size=\"24\">32</text></svg>"
      ],
      "text/plain": [
       "<IPython.core.display.HTML object>"
      ]
     },
     "metadata": {},
     "output_type": "display_data"
    },
    {
     "name": "stdout",
     "output_type": "stream",
     "text": [
      "\n",
      "Movimiento: Derecha\n",
      "Puntuacion: 136\n",
      "Numero de movimientos: 28\n"
     ]
    },
    {
     "data": {
      "text/html": [
       "<svg height=\"400\" width=\"400\"><rect x=\"0\" y=\"0\" width=\"100\" height=\"100\" stroke=\"white\" stroke-width=\"5px\" fill=\"silver\"/><rect x=\"100\" y=\"0\" width=\"100\" height=\"100\" stroke=\"white\" stroke-width=\"5px\" fill=\"silver\"/><rect x=\"200\" y=\"0\" width=\"100\" height=\"100\" stroke=\"white\" stroke-width=\"5px\" fill=\"ivory\"/><text x=\"62.5%\" y=\"12.5%\" dominant-baseline=\"middle\" text-anchor=\"middle\" font-size=\"24\">2</text><rect x=\"300\" y=\"0\" width=\"100\" height=\"100\" stroke=\"white\" stroke-width=\"5px\" fill=\"silver\"/><rect x=\"0\" y=\"100\" width=\"100\" height=\"100\" stroke=\"white\" stroke-width=\"5px\" fill=\"silver\"/><rect x=\"100\" y=\"100\" width=\"100\" height=\"100\" stroke=\"white\" stroke-width=\"5px\" fill=\"silver\"/><rect x=\"200\" y=\"100\" width=\"100\" height=\"100\" stroke=\"white\" stroke-width=\"5px\" fill=\"silver\"/><rect x=\"300\" y=\"100\" width=\"100\" height=\"100\" stroke=\"white\" stroke-width=\"5px\" fill=\"antiquewhite\"/><text x=\"87.5%\" y=\"37.5%\" dominant-baseline=\"middle\" text-anchor=\"middle\" font-size=\"24\">4</text><rect x=\"0\" y=\"200\" width=\"100\" height=\"100\" stroke=\"white\" stroke-width=\"5px\" fill=\"silver\"/><rect x=\"100\" y=\"200\" width=\"100\" height=\"100\" stroke=\"white\" stroke-width=\"5px\" fill=\"silver\"/><rect x=\"200\" y=\"200\" width=\"100\" height=\"100\" stroke=\"white\" stroke-width=\"5px\" fill=\"ivory\"/><text x=\"62.5%\" y=\"62.5%\" dominant-baseline=\"middle\" text-anchor=\"middle\" font-size=\"24\">2</text><rect x=\"300\" y=\"200\" width=\"100\" height=\"100\" stroke=\"white\" stroke-width=\"5px\" fill=\"lightsalmon\"/><text x=\"87.5%\" y=\"62.5%\" dominant-baseline=\"middle\" text-anchor=\"middle\" font-size=\"24\">8</text><rect x=\"0\" y=\"300\" width=\"100\" height=\"100\" stroke=\"white\" stroke-width=\"5px\" fill=\"silver\"/><rect x=\"100\" y=\"300\" width=\"100\" height=\"100\" stroke=\"white\" stroke-width=\"5px\" fill=\"ivory\"/><text x=\"37.5%\" y=\"87.5%\" dominant-baseline=\"middle\" text-anchor=\"middle\" font-size=\"24\">2</text><rect x=\"200\" y=\"300\" width=\"100\" height=\"100\" stroke=\"white\" stroke-width=\"5px\" fill=\"darksalmon\"/><text x=\"62.5%\" y=\"87.5%\" dominant-baseline=\"middle\" text-anchor=\"middle\" font-size=\"24\">16</text><rect x=\"300\" y=\"300\" width=\"100\" height=\"100\" stroke=\"white\" stroke-width=\"5px\" fill=\"tomato\"/><text x=\"87.5%\" y=\"87.5%\" dominant-baseline=\"middle\" text-anchor=\"middle\" font-size=\"24\">32</text></svg>"
      ],
      "text/plain": [
       "<IPython.core.display.HTML object>"
      ]
     },
     "metadata": {},
     "output_type": "display_data"
    },
    {
     "name": "stdout",
     "output_type": "stream",
     "text": [
      "\n",
      "Movimiento: Derecha\n",
      "Puntuacion: 136\n",
      "Numero de movimientos: 29\n"
     ]
    },
    {
     "data": {
      "text/html": [
       "<svg height=\"400\" width=\"400\"><rect x=\"0\" y=\"0\" width=\"100\" height=\"100\" stroke=\"white\" stroke-width=\"5px\" fill=\"silver\"/><rect x=\"100\" y=\"0\" width=\"100\" height=\"100\" stroke=\"white\" stroke-width=\"5px\" fill=\"silver\"/><rect x=\"200\" y=\"0\" width=\"100\" height=\"100\" stroke=\"white\" stroke-width=\"5px\" fill=\"silver\"/><rect x=\"300\" y=\"0\" width=\"100\" height=\"100\" stroke=\"white\" stroke-width=\"5px\" fill=\"silver\"/><rect x=\"0\" y=\"100\" width=\"100\" height=\"100\" stroke=\"white\" stroke-width=\"5px\" fill=\"silver\"/><rect x=\"100\" y=\"100\" width=\"100\" height=\"100\" stroke=\"white\" stroke-width=\"5px\" fill=\"silver\"/><rect x=\"200\" y=\"100\" width=\"100\" height=\"100\" stroke=\"white\" stroke-width=\"5px\" fill=\"ivory\"/><text x=\"62.5%\" y=\"37.5%\" dominant-baseline=\"middle\" text-anchor=\"middle\" font-size=\"24\">2</text><rect x=\"300\" y=\"100\" width=\"100\" height=\"100\" stroke=\"white\" stroke-width=\"5px\" fill=\"antiquewhite\"/><text x=\"87.5%\" y=\"37.5%\" dominant-baseline=\"middle\" text-anchor=\"middle\" font-size=\"24\">4</text><rect x=\"0\" y=\"200\" width=\"100\" height=\"100\" stroke=\"white\" stroke-width=\"5px\" fill=\"silver\"/><rect x=\"100\" y=\"200\" width=\"100\" height=\"100\" stroke=\"white\" stroke-width=\"5px\" fill=\"silver\"/><rect x=\"200\" y=\"200\" width=\"100\" height=\"100\" stroke=\"white\" stroke-width=\"5px\" fill=\"antiquewhite\"/><text x=\"62.5%\" y=\"62.5%\" dominant-baseline=\"middle\" text-anchor=\"middle\" font-size=\"24\">4</text><rect x=\"300\" y=\"200\" width=\"100\" height=\"100\" stroke=\"white\" stroke-width=\"5px\" fill=\"lightsalmon\"/><text x=\"87.5%\" y=\"62.5%\" dominant-baseline=\"middle\" text-anchor=\"middle\" font-size=\"24\">8</text><rect x=\"0\" y=\"300\" width=\"100\" height=\"100\" stroke=\"white\" stroke-width=\"5px\" fill=\"silver\"/><rect x=\"100\" y=\"300\" width=\"100\" height=\"100\" stroke=\"white\" stroke-width=\"5px\" fill=\"ivory\"/><text x=\"37.5%\" y=\"87.5%\" dominant-baseline=\"middle\" text-anchor=\"middle\" font-size=\"24\">2</text><rect x=\"200\" y=\"300\" width=\"100\" height=\"100\" stroke=\"white\" stroke-width=\"5px\" fill=\"darksalmon\"/><text x=\"62.5%\" y=\"87.5%\" dominant-baseline=\"middle\" text-anchor=\"middle\" font-size=\"24\">16</text><rect x=\"300\" y=\"300\" width=\"100\" height=\"100\" stroke=\"white\" stroke-width=\"5px\" fill=\"tomato\"/><text x=\"87.5%\" y=\"87.5%\" dominant-baseline=\"middle\" text-anchor=\"middle\" font-size=\"24\">32</text></svg>"
      ],
      "text/plain": [
       "<IPython.core.display.HTML object>"
      ]
     },
     "metadata": {},
     "output_type": "display_data"
    },
    {
     "name": "stdout",
     "output_type": "stream",
     "text": [
      "\n",
      "Movimiento: Abajo\n",
      "Puntuacion: 136\n",
      "Numero de movimientos: 30\n"
     ]
    },
    {
     "data": {
      "text/html": [
       "<svg height=\"400\" width=\"400\"><rect x=\"0\" y=\"0\" width=\"100\" height=\"100\" stroke=\"white\" stroke-width=\"5px\" fill=\"silver\"/><rect x=\"100\" y=\"0\" width=\"100\" height=\"100\" stroke=\"white\" stroke-width=\"5px\" fill=\"silver\"/><rect x=\"200\" y=\"0\" width=\"100\" height=\"100\" stroke=\"white\" stroke-width=\"5px\" fill=\"silver\"/><rect x=\"300\" y=\"0\" width=\"100\" height=\"100\" stroke=\"white\" stroke-width=\"5px\" fill=\"silver\"/><rect x=\"0\" y=\"100\" width=\"100\" height=\"100\" stroke=\"white\" stroke-width=\"5px\" fill=\"silver\"/><rect x=\"100\" y=\"100\" width=\"100\" height=\"100\" stroke=\"white\" stroke-width=\"5px\" fill=\"ivory\"/><text x=\"37.5%\" y=\"37.5%\" dominant-baseline=\"middle\" text-anchor=\"middle\" font-size=\"24\">2</text><rect x=\"200\" y=\"100\" width=\"100\" height=\"100\" stroke=\"white\" stroke-width=\"5px\" fill=\"ivory\"/><text x=\"62.5%\" y=\"37.5%\" dominant-baseline=\"middle\" text-anchor=\"middle\" font-size=\"24\">2</text><rect x=\"300\" y=\"100\" width=\"100\" height=\"100\" stroke=\"white\" stroke-width=\"5px\" fill=\"antiquewhite\"/><text x=\"87.5%\" y=\"37.5%\" dominant-baseline=\"middle\" text-anchor=\"middle\" font-size=\"24\">4</text><rect x=\"0\" y=\"200\" width=\"100\" height=\"100\" stroke=\"white\" stroke-width=\"5px\" fill=\"silver\"/><rect x=\"100\" y=\"200\" width=\"100\" height=\"100\" stroke=\"white\" stroke-width=\"5px\" fill=\"silver\"/><rect x=\"200\" y=\"200\" width=\"100\" height=\"100\" stroke=\"white\" stroke-width=\"5px\" fill=\"antiquewhite\"/><text x=\"62.5%\" y=\"62.5%\" dominant-baseline=\"middle\" text-anchor=\"middle\" font-size=\"24\">4</text><rect x=\"300\" y=\"200\" width=\"100\" height=\"100\" stroke=\"white\" stroke-width=\"5px\" fill=\"lightsalmon\"/><text x=\"87.5%\" y=\"62.5%\" dominant-baseline=\"middle\" text-anchor=\"middle\" font-size=\"24\">8</text><rect x=\"0\" y=\"300\" width=\"100\" height=\"100\" stroke=\"white\" stroke-width=\"5px\" fill=\"silver\"/><rect x=\"100\" y=\"300\" width=\"100\" height=\"100\" stroke=\"white\" stroke-width=\"5px\" fill=\"ivory\"/><text x=\"37.5%\" y=\"87.5%\" dominant-baseline=\"middle\" text-anchor=\"middle\" font-size=\"24\">2</text><rect x=\"200\" y=\"300\" width=\"100\" height=\"100\" stroke=\"white\" stroke-width=\"5px\" fill=\"darksalmon\"/><text x=\"62.5%\" y=\"87.5%\" dominant-baseline=\"middle\" text-anchor=\"middle\" font-size=\"24\">16</text><rect x=\"300\" y=\"300\" width=\"100\" height=\"100\" stroke=\"white\" stroke-width=\"5px\" fill=\"tomato\"/><text x=\"87.5%\" y=\"87.5%\" dominant-baseline=\"middle\" text-anchor=\"middle\" font-size=\"24\">32</text></svg>"
      ],
      "text/plain": [
       "<IPython.core.display.HTML object>"
      ]
     },
     "metadata": {},
     "output_type": "display_data"
    },
    {
     "name": "stdout",
     "output_type": "stream",
     "text": [
      "\n",
      "Movimiento: Derecha\n",
      "Puntuacion: 136\n",
      "Numero de movimientos: 31\n"
     ]
    },
    {
     "data": {
      "text/html": [
       "<svg height=\"400\" width=\"400\"><rect x=\"0\" y=\"0\" width=\"100\" height=\"100\" stroke=\"white\" stroke-width=\"5px\" fill=\"silver\"/><rect x=\"100\" y=\"0\" width=\"100\" height=\"100\" stroke=\"white\" stroke-width=\"5px\" fill=\"silver\"/><rect x=\"200\" y=\"0\" width=\"100\" height=\"100\" stroke=\"white\" stroke-width=\"5px\" fill=\"silver\"/><rect x=\"300\" y=\"0\" width=\"100\" height=\"100\" stroke=\"white\" stroke-width=\"5px\" fill=\"silver\"/><rect x=\"0\" y=\"100\" width=\"100\" height=\"100\" stroke=\"white\" stroke-width=\"5px\" fill=\"silver\"/><rect x=\"100\" y=\"100\" width=\"100\" height=\"100\" stroke=\"white\" stroke-width=\"5px\" fill=\"silver\"/><rect x=\"200\" y=\"100\" width=\"100\" height=\"100\" stroke=\"white\" stroke-width=\"5px\" fill=\"ivory\"/><text x=\"62.5%\" y=\"37.5%\" dominant-baseline=\"middle\" text-anchor=\"middle\" font-size=\"24\">2</text><rect x=\"300\" y=\"100\" width=\"100\" height=\"100\" stroke=\"white\" stroke-width=\"5px\" fill=\"antiquewhite\"/><text x=\"87.5%\" y=\"37.5%\" dominant-baseline=\"middle\" text-anchor=\"middle\" font-size=\"24\">4</text><rect x=\"0\" y=\"200\" width=\"100\" height=\"100\" stroke=\"white\" stroke-width=\"5px\" fill=\"ivory\"/><text x=\"12.5%\" y=\"62.5%\" dominant-baseline=\"middle\" text-anchor=\"middle\" font-size=\"24\">2</text><rect x=\"100\" y=\"200\" width=\"100\" height=\"100\" stroke=\"white\" stroke-width=\"5px\" fill=\"silver\"/><rect x=\"200\" y=\"200\" width=\"100\" height=\"100\" stroke=\"white\" stroke-width=\"5px\" fill=\"antiquewhite\"/><text x=\"62.5%\" y=\"62.5%\" dominant-baseline=\"middle\" text-anchor=\"middle\" font-size=\"24\">4</text><rect x=\"300\" y=\"200\" width=\"100\" height=\"100\" stroke=\"white\" stroke-width=\"5px\" fill=\"lightsalmon\"/><text x=\"87.5%\" y=\"62.5%\" dominant-baseline=\"middle\" text-anchor=\"middle\" font-size=\"24\">8</text><rect x=\"0\" y=\"300\" width=\"100\" height=\"100\" stroke=\"white\" stroke-width=\"5px\" fill=\"silver\"/><rect x=\"100\" y=\"300\" width=\"100\" height=\"100\" stroke=\"white\" stroke-width=\"5px\" fill=\"antiquewhite\"/><text x=\"37.5%\" y=\"87.5%\" dominant-baseline=\"middle\" text-anchor=\"middle\" font-size=\"24\">4</text><rect x=\"200\" y=\"300\" width=\"100\" height=\"100\" stroke=\"white\" stroke-width=\"5px\" fill=\"darksalmon\"/><text x=\"62.5%\" y=\"87.5%\" dominant-baseline=\"middle\" text-anchor=\"middle\" font-size=\"24\">16</text><rect x=\"300\" y=\"300\" width=\"100\" height=\"100\" stroke=\"white\" stroke-width=\"5px\" fill=\"tomato\"/><text x=\"87.5%\" y=\"87.5%\" dominant-baseline=\"middle\" text-anchor=\"middle\" font-size=\"24\">32</text></svg>"
      ],
      "text/plain": [
       "<IPython.core.display.HTML object>"
      ]
     },
     "metadata": {},
     "output_type": "display_data"
    },
    {
     "name": "stdout",
     "output_type": "stream",
     "text": [
      "\n",
      "Movimiento: Derecha\n",
      "Puntuacion: 136\n",
      "Numero de movimientos: 32\n"
     ]
    },
    {
     "data": {
      "text/html": [
       "<svg height=\"400\" width=\"400\"><rect x=\"0\" y=\"0\" width=\"100\" height=\"100\" stroke=\"white\" stroke-width=\"5px\" fill=\"silver\"/><rect x=\"100\" y=\"0\" width=\"100\" height=\"100\" stroke=\"white\" stroke-width=\"5px\" fill=\"silver\"/><rect x=\"200\" y=\"0\" width=\"100\" height=\"100\" stroke=\"white\" stroke-width=\"5px\" fill=\"silver\"/><rect x=\"300\" y=\"0\" width=\"100\" height=\"100\" stroke=\"white\" stroke-width=\"5px\" fill=\"silver\"/><rect x=\"0\" y=\"100\" width=\"100\" height=\"100\" stroke=\"white\" stroke-width=\"5px\" fill=\"silver\"/><rect x=\"100\" y=\"100\" width=\"100\" height=\"100\" stroke=\"white\" stroke-width=\"5px\" fill=\"ivory\"/><text x=\"37.5%\" y=\"37.5%\" dominant-baseline=\"middle\" text-anchor=\"middle\" font-size=\"24\">2</text><rect x=\"200\" y=\"100\" width=\"100\" height=\"100\" stroke=\"white\" stroke-width=\"5px\" fill=\"ivory\"/><text x=\"62.5%\" y=\"37.5%\" dominant-baseline=\"middle\" text-anchor=\"middle\" font-size=\"24\">2</text><rect x=\"300\" y=\"100\" width=\"100\" height=\"100\" stroke=\"white\" stroke-width=\"5px\" fill=\"antiquewhite\"/><text x=\"87.5%\" y=\"37.5%\" dominant-baseline=\"middle\" text-anchor=\"middle\" font-size=\"24\">4</text><rect x=\"0\" y=\"200\" width=\"100\" height=\"100\" stroke=\"white\" stroke-width=\"5px\" fill=\"silver\"/><rect x=\"100\" y=\"200\" width=\"100\" height=\"100\" stroke=\"white\" stroke-width=\"5px\" fill=\"silver\"/><rect x=\"200\" y=\"200\" width=\"100\" height=\"100\" stroke=\"white\" stroke-width=\"5px\" fill=\"antiquewhite\"/><text x=\"62.5%\" y=\"62.5%\" dominant-baseline=\"middle\" text-anchor=\"middle\" font-size=\"24\">4</text><rect x=\"300\" y=\"200\" width=\"100\" height=\"100\" stroke=\"white\" stroke-width=\"5px\" fill=\"lightsalmon\"/><text x=\"87.5%\" y=\"62.5%\" dominant-baseline=\"middle\" text-anchor=\"middle\" font-size=\"24\">8</text><rect x=\"0\" y=\"300\" width=\"100\" height=\"100\" stroke=\"white\" stroke-width=\"5px\" fill=\"ivory\"/><text x=\"12.5%\" y=\"87.5%\" dominant-baseline=\"middle\" text-anchor=\"middle\" font-size=\"24\">2</text><rect x=\"100\" y=\"300\" width=\"100\" height=\"100\" stroke=\"white\" stroke-width=\"5px\" fill=\"antiquewhite\"/><text x=\"37.5%\" y=\"87.5%\" dominant-baseline=\"middle\" text-anchor=\"middle\" font-size=\"24\">4</text><rect x=\"200\" y=\"300\" width=\"100\" height=\"100\" stroke=\"white\" stroke-width=\"5px\" fill=\"darksalmon\"/><text x=\"62.5%\" y=\"87.5%\" dominant-baseline=\"middle\" text-anchor=\"middle\" font-size=\"24\">16</text><rect x=\"300\" y=\"300\" width=\"100\" height=\"100\" stroke=\"white\" stroke-width=\"5px\" fill=\"tomato\"/><text x=\"87.5%\" y=\"87.5%\" dominant-baseline=\"middle\" text-anchor=\"middle\" font-size=\"24\">32</text></svg>"
      ],
      "text/plain": [
       "<IPython.core.display.HTML object>"
      ]
     },
     "metadata": {},
     "output_type": "display_data"
    },
    {
     "name": "stdout",
     "output_type": "stream",
     "text": [
      "\n",
      "Movimiento: Derecha\n",
      "Puntuacion: 136\n",
      "Numero de movimientos: 33\n"
     ]
    },
    {
     "data": {
      "text/html": [
       "<svg height=\"400\" width=\"400\"><rect x=\"0\" y=\"0\" width=\"100\" height=\"100\" stroke=\"white\" stroke-width=\"5px\" fill=\"ivory\"/><text x=\"12.5%\" y=\"12.5%\" dominant-baseline=\"middle\" text-anchor=\"middle\" font-size=\"24\">2</text><rect x=\"100\" y=\"0\" width=\"100\" height=\"100\" stroke=\"white\" stroke-width=\"5px\" fill=\"silver\"/><rect x=\"200\" y=\"0\" width=\"100\" height=\"100\" stroke=\"white\" stroke-width=\"5px\" fill=\"silver\"/><rect x=\"300\" y=\"0\" width=\"100\" height=\"100\" stroke=\"white\" stroke-width=\"5px\" fill=\"silver\"/><rect x=\"0\" y=\"100\" width=\"100\" height=\"100\" stroke=\"white\" stroke-width=\"5px\" fill=\"silver\"/><rect x=\"100\" y=\"100\" width=\"100\" height=\"100\" stroke=\"white\" stroke-width=\"5px\" fill=\"silver\"/><rect x=\"200\" y=\"100\" width=\"100\" height=\"100\" stroke=\"white\" stroke-width=\"5px\" fill=\"ivory\"/><text x=\"62.5%\" y=\"37.5%\" dominant-baseline=\"middle\" text-anchor=\"middle\" font-size=\"24\">2</text><rect x=\"300\" y=\"100\" width=\"100\" height=\"100\" stroke=\"white\" stroke-width=\"5px\" fill=\"antiquewhite\"/><text x=\"87.5%\" y=\"37.5%\" dominant-baseline=\"middle\" text-anchor=\"middle\" font-size=\"24\">4</text><rect x=\"0\" y=\"200\" width=\"100\" height=\"100\" stroke=\"white\" stroke-width=\"5px\" fill=\"silver\"/><rect x=\"100\" y=\"200\" width=\"100\" height=\"100\" stroke=\"white\" stroke-width=\"5px\" fill=\"ivory\"/><text x=\"37.5%\" y=\"62.5%\" dominant-baseline=\"middle\" text-anchor=\"middle\" font-size=\"24\">2</text><rect x=\"200\" y=\"200\" width=\"100\" height=\"100\" stroke=\"white\" stroke-width=\"5px\" fill=\"antiquewhite\"/><text x=\"62.5%\" y=\"62.5%\" dominant-baseline=\"middle\" text-anchor=\"middle\" font-size=\"24\">4</text><rect x=\"300\" y=\"200\" width=\"100\" height=\"100\" stroke=\"white\" stroke-width=\"5px\" fill=\"lightsalmon\"/><text x=\"87.5%\" y=\"62.5%\" dominant-baseline=\"middle\" text-anchor=\"middle\" font-size=\"24\">8</text><rect x=\"0\" y=\"300\" width=\"100\" height=\"100\" stroke=\"white\" stroke-width=\"5px\" fill=\"ivory\"/><text x=\"12.5%\" y=\"87.5%\" dominant-baseline=\"middle\" text-anchor=\"middle\" font-size=\"24\">2</text><rect x=\"100\" y=\"300\" width=\"100\" height=\"100\" stroke=\"white\" stroke-width=\"5px\" fill=\"antiquewhite\"/><text x=\"37.5%\" y=\"87.5%\" dominant-baseline=\"middle\" text-anchor=\"middle\" font-size=\"24\">4</text><rect x=\"200\" y=\"300\" width=\"100\" height=\"100\" stroke=\"white\" stroke-width=\"5px\" fill=\"darksalmon\"/><text x=\"62.5%\" y=\"87.5%\" dominant-baseline=\"middle\" text-anchor=\"middle\" font-size=\"24\">16</text><rect x=\"300\" y=\"300\" width=\"100\" height=\"100\" stroke=\"white\" stroke-width=\"5px\" fill=\"tomato\"/><text x=\"87.5%\" y=\"87.5%\" dominant-baseline=\"middle\" text-anchor=\"middle\" font-size=\"24\">32</text></svg>"
      ],
      "text/plain": [
       "<IPython.core.display.HTML object>"
      ]
     },
     "metadata": {},
     "output_type": "display_data"
    },
    {
     "name": "stdout",
     "output_type": "stream",
     "text": [
      "\n",
      "Movimiento: Derecha\n",
      "Puntuacion: 144\n",
      "Numero de movimientos: 34\n"
     ]
    },
    {
     "data": {
      "text/html": [
       "<svg height=\"400\" width=\"400\"><rect x=\"0\" y=\"0\" width=\"100\" height=\"100\" stroke=\"white\" stroke-width=\"5px\" fill=\"silver\"/><rect x=\"100\" y=\"0\" width=\"100\" height=\"100\" stroke=\"white\" stroke-width=\"5px\" fill=\"silver\"/><rect x=\"200\" y=\"0\" width=\"100\" height=\"100\" stroke=\"white\" stroke-width=\"5px\" fill=\"silver\"/><rect x=\"300\" y=\"0\" width=\"100\" height=\"100\" stroke=\"white\" stroke-width=\"5px\" fill=\"silver\"/><rect x=\"0\" y=\"100\" width=\"100\" height=\"100\" stroke=\"white\" stroke-width=\"5px\" fill=\"silver\"/><rect x=\"100\" y=\"100\" width=\"100\" height=\"100\" stroke=\"white\" stroke-width=\"5px\" fill=\"silver\"/><rect x=\"200\" y=\"100\" width=\"100\" height=\"100\" stroke=\"white\" stroke-width=\"5px\" fill=\"ivory\"/><text x=\"62.5%\" y=\"37.5%\" dominant-baseline=\"middle\" text-anchor=\"middle\" font-size=\"24\">2</text><rect x=\"300\" y=\"100\" width=\"100\" height=\"100\" stroke=\"white\" stroke-width=\"5px\" fill=\"antiquewhite\"/><text x=\"87.5%\" y=\"37.5%\" dominant-baseline=\"middle\" text-anchor=\"middle\" font-size=\"24\">4</text><rect x=\"0\" y=\"200\" width=\"100\" height=\"100\" stroke=\"white\" stroke-width=\"5px\" fill=\"ivory\"/><text x=\"12.5%\" y=\"62.5%\" dominant-baseline=\"middle\" text-anchor=\"middle\" font-size=\"24\">2</text><rect x=\"100\" y=\"200\" width=\"100\" height=\"100\" stroke=\"white\" stroke-width=\"5px\" fill=\"ivory\"/><text x=\"37.5%\" y=\"62.5%\" dominant-baseline=\"middle\" text-anchor=\"middle\" font-size=\"24\">2</text><rect x=\"200\" y=\"200\" width=\"100\" height=\"100\" stroke=\"white\" stroke-width=\"5px\" fill=\"antiquewhite\"/><text x=\"62.5%\" y=\"62.5%\" dominant-baseline=\"middle\" text-anchor=\"middle\" font-size=\"24\">4</text><rect x=\"300\" y=\"200\" width=\"100\" height=\"100\" stroke=\"white\" stroke-width=\"5px\" fill=\"lightsalmon\"/><text x=\"87.5%\" y=\"62.5%\" dominant-baseline=\"middle\" text-anchor=\"middle\" font-size=\"24\">8</text><rect x=\"0\" y=\"300\" width=\"100\" height=\"100\" stroke=\"white\" stroke-width=\"5px\" fill=\"silver\"/><rect x=\"100\" y=\"300\" width=\"100\" height=\"100\" stroke=\"white\" stroke-width=\"5px\" fill=\"lightsalmon\"/><text x=\"37.5%\" y=\"87.5%\" dominant-baseline=\"middle\" text-anchor=\"middle\" font-size=\"24\">8</text><rect x=\"200\" y=\"300\" width=\"100\" height=\"100\" stroke=\"white\" stroke-width=\"5px\" fill=\"darksalmon\"/><text x=\"62.5%\" y=\"87.5%\" dominant-baseline=\"middle\" text-anchor=\"middle\" font-size=\"24\">16</text><rect x=\"300\" y=\"300\" width=\"100\" height=\"100\" stroke=\"white\" stroke-width=\"5px\" fill=\"tomato\"/><text x=\"87.5%\" y=\"87.5%\" dominant-baseline=\"middle\" text-anchor=\"middle\" font-size=\"24\">32</text></svg>"
      ],
      "text/plain": [
       "<IPython.core.display.HTML object>"
      ]
     },
     "metadata": {},
     "output_type": "display_data"
    },
    {
     "name": "stdout",
     "output_type": "stream",
     "text": [
      "\n",
      "Movimiento: Derecha\n",
      "Puntuacion: 144\n",
      "Numero de movimientos: 35\n"
     ]
    },
    {
     "data": {
      "text/html": [
       "<svg height=\"400\" width=\"400\"><rect x=\"0\" y=\"0\" width=\"100\" height=\"100\" stroke=\"white\" stroke-width=\"5px\" fill=\"silver\"/><rect x=\"100\" y=\"0\" width=\"100\" height=\"100\" stroke=\"white\" stroke-width=\"5px\" fill=\"silver\"/><rect x=\"200\" y=\"0\" width=\"100\" height=\"100\" stroke=\"white\" stroke-width=\"5px\" fill=\"silver\"/><rect x=\"300\" y=\"0\" width=\"100\" height=\"100\" stroke=\"white\" stroke-width=\"5px\" fill=\"silver\"/><rect x=\"0\" y=\"100\" width=\"100\" height=\"100\" stroke=\"white\" stroke-width=\"5px\" fill=\"silver\"/><rect x=\"100\" y=\"100\" width=\"100\" height=\"100\" stroke=\"white\" stroke-width=\"5px\" fill=\"ivory\"/><text x=\"37.5%\" y=\"37.5%\" dominant-baseline=\"middle\" text-anchor=\"middle\" font-size=\"24\">2</text><rect x=\"200\" y=\"100\" width=\"100\" height=\"100\" stroke=\"white\" stroke-width=\"5px\" fill=\"ivory\"/><text x=\"62.5%\" y=\"37.5%\" dominant-baseline=\"middle\" text-anchor=\"middle\" font-size=\"24\">2</text><rect x=\"300\" y=\"100\" width=\"100\" height=\"100\" stroke=\"white\" stroke-width=\"5px\" fill=\"antiquewhite\"/><text x=\"87.5%\" y=\"37.5%\" dominant-baseline=\"middle\" text-anchor=\"middle\" font-size=\"24\">4</text><rect x=\"0\" y=\"200\" width=\"100\" height=\"100\" stroke=\"white\" stroke-width=\"5px\" fill=\"silver\"/><rect x=\"100\" y=\"200\" width=\"100\" height=\"100\" stroke=\"white\" stroke-width=\"5px\" fill=\"ivory\"/><text x=\"37.5%\" y=\"62.5%\" dominant-baseline=\"middle\" text-anchor=\"middle\" font-size=\"24\">2</text><rect x=\"200\" y=\"200\" width=\"100\" height=\"100\" stroke=\"white\" stroke-width=\"5px\" fill=\"antiquewhite\"/><text x=\"62.5%\" y=\"62.5%\" dominant-baseline=\"middle\" text-anchor=\"middle\" font-size=\"24\">4</text><rect x=\"300\" y=\"200\" width=\"100\" height=\"100\" stroke=\"white\" stroke-width=\"5px\" fill=\"lightsalmon\"/><text x=\"87.5%\" y=\"62.5%\" dominant-baseline=\"middle\" text-anchor=\"middle\" font-size=\"24\">8</text><rect x=\"0\" y=\"300\" width=\"100\" height=\"100\" stroke=\"white\" stroke-width=\"5px\" fill=\"ivory\"/><text x=\"12.5%\" y=\"87.5%\" dominant-baseline=\"middle\" text-anchor=\"middle\" font-size=\"24\">2</text><rect x=\"100\" y=\"300\" width=\"100\" height=\"100\" stroke=\"white\" stroke-width=\"5px\" fill=\"lightsalmon\"/><text x=\"37.5%\" y=\"87.5%\" dominant-baseline=\"middle\" text-anchor=\"middle\" font-size=\"24\">8</text><rect x=\"200\" y=\"300\" width=\"100\" height=\"100\" stroke=\"white\" stroke-width=\"5px\" fill=\"darksalmon\"/><text x=\"62.5%\" y=\"87.5%\" dominant-baseline=\"middle\" text-anchor=\"middle\" font-size=\"24\">16</text><rect x=\"300\" y=\"300\" width=\"100\" height=\"100\" stroke=\"white\" stroke-width=\"5px\" fill=\"tomato\"/><text x=\"87.5%\" y=\"87.5%\" dominant-baseline=\"middle\" text-anchor=\"middle\" font-size=\"24\">32</text></svg>"
      ],
      "text/plain": [
       "<IPython.core.display.HTML object>"
      ]
     },
     "metadata": {},
     "output_type": "display_data"
    },
    {
     "name": "stdout",
     "output_type": "stream",
     "text": [
      "\n",
      "Movimiento: Derecha\n",
      "Puntuacion: 152\n",
      "Numero de movimientos: 36\n"
     ]
    },
    {
     "data": {
      "text/html": [
       "<svg height=\"400\" width=\"400\"><rect x=\"0\" y=\"0\" width=\"100\" height=\"100\" stroke=\"white\" stroke-width=\"5px\" fill=\"ivory\"/><text x=\"12.5%\" y=\"12.5%\" dominant-baseline=\"middle\" text-anchor=\"middle\" font-size=\"24\">2</text><rect x=\"100\" y=\"0\" width=\"100\" height=\"100\" stroke=\"white\" stroke-width=\"5px\" fill=\"silver\"/><rect x=\"200\" y=\"0\" width=\"100\" height=\"100\" stroke=\"white\" stroke-width=\"5px\" fill=\"silver\"/><rect x=\"300\" y=\"0\" width=\"100\" height=\"100\" stroke=\"white\" stroke-width=\"5px\" fill=\"silver\"/><rect x=\"0\" y=\"100\" width=\"100\" height=\"100\" stroke=\"white\" stroke-width=\"5px\" fill=\"silver\"/><rect x=\"100\" y=\"100\" width=\"100\" height=\"100\" stroke=\"white\" stroke-width=\"5px\" fill=\"silver\"/><rect x=\"200\" y=\"100\" width=\"100\" height=\"100\" stroke=\"white\" stroke-width=\"5px\" fill=\"ivory\"/><text x=\"62.5%\" y=\"37.5%\" dominant-baseline=\"middle\" text-anchor=\"middle\" font-size=\"24\">2</text><rect x=\"300\" y=\"100\" width=\"100\" height=\"100\" stroke=\"white\" stroke-width=\"5px\" fill=\"antiquewhite\"/><text x=\"87.5%\" y=\"37.5%\" dominant-baseline=\"middle\" text-anchor=\"middle\" font-size=\"24\">4</text><rect x=\"0\" y=\"200\" width=\"100\" height=\"100\" stroke=\"white\" stroke-width=\"5px\" fill=\"silver\"/><rect x=\"100\" y=\"200\" width=\"100\" height=\"100\" stroke=\"white\" stroke-width=\"5px\" fill=\"silver\"/><rect x=\"200\" y=\"200\" width=\"100\" height=\"100\" stroke=\"white\" stroke-width=\"5px\" fill=\"lightsalmon\"/><text x=\"62.5%\" y=\"62.5%\" dominant-baseline=\"middle\" text-anchor=\"middle\" font-size=\"24\">8</text><rect x=\"300\" y=\"200\" width=\"100\" height=\"100\" stroke=\"white\" stroke-width=\"5px\" fill=\"lightsalmon\"/><text x=\"87.5%\" y=\"62.5%\" dominant-baseline=\"middle\" text-anchor=\"middle\" font-size=\"24\">8</text><rect x=\"0\" y=\"300\" width=\"100\" height=\"100\" stroke=\"white\" stroke-width=\"5px\" fill=\"ivory\"/><text x=\"12.5%\" y=\"87.5%\" dominant-baseline=\"middle\" text-anchor=\"middle\" font-size=\"24\">2</text><rect x=\"100\" y=\"300\" width=\"100\" height=\"100\" stroke=\"white\" stroke-width=\"5px\" fill=\"lightsalmon\"/><text x=\"37.5%\" y=\"87.5%\" dominant-baseline=\"middle\" text-anchor=\"middle\" font-size=\"24\">8</text><rect x=\"200\" y=\"300\" width=\"100\" height=\"100\" stroke=\"white\" stroke-width=\"5px\" fill=\"darksalmon\"/><text x=\"62.5%\" y=\"87.5%\" dominant-baseline=\"middle\" text-anchor=\"middle\" font-size=\"24\">16</text><rect x=\"300\" y=\"300\" width=\"100\" height=\"100\" stroke=\"white\" stroke-width=\"5px\" fill=\"tomato\"/><text x=\"87.5%\" y=\"87.5%\" dominant-baseline=\"middle\" text-anchor=\"middle\" font-size=\"24\">32</text></svg>"
      ],
      "text/plain": [
       "<IPython.core.display.HTML object>"
      ]
     },
     "metadata": {},
     "output_type": "display_data"
    },
    {
     "name": "stdout",
     "output_type": "stream",
     "text": [
      "\n",
      "Movimiento: Derecha\n",
      "Puntuacion: 168\n",
      "Numero de movimientos: 37\n"
     ]
    },
    {
     "data": {
      "text/html": [
       "<svg height=\"400\" width=\"400\"><rect x=\"0\" y=\"0\" width=\"100\" height=\"100\" stroke=\"white\" stroke-width=\"5px\" fill=\"silver\"/><rect x=\"100\" y=\"0\" width=\"100\" height=\"100\" stroke=\"white\" stroke-width=\"5px\" fill=\"ivory\"/><text x=\"37.5%\" y=\"12.5%\" dominant-baseline=\"middle\" text-anchor=\"middle\" font-size=\"24\">2</text><rect x=\"200\" y=\"0\" width=\"100\" height=\"100\" stroke=\"white\" stroke-width=\"5px\" fill=\"silver\"/><rect x=\"300\" y=\"0\" width=\"100\" height=\"100\" stroke=\"white\" stroke-width=\"5px\" fill=\"silver\"/><rect x=\"0\" y=\"100\" width=\"100\" height=\"100\" stroke=\"white\" stroke-width=\"5px\" fill=\"silver\"/><rect x=\"100\" y=\"100\" width=\"100\" height=\"100\" stroke=\"white\" stroke-width=\"5px\" fill=\"silver\"/><rect x=\"200\" y=\"100\" width=\"100\" height=\"100\" stroke=\"white\" stroke-width=\"5px\" fill=\"ivory\"/><text x=\"62.5%\" y=\"37.5%\" dominant-baseline=\"middle\" text-anchor=\"middle\" font-size=\"24\">2</text><rect x=\"300\" y=\"100\" width=\"100\" height=\"100\" stroke=\"white\" stroke-width=\"5px\" fill=\"antiquewhite\"/><text x=\"87.5%\" y=\"37.5%\" dominant-baseline=\"middle\" text-anchor=\"middle\" font-size=\"24\">4</text><rect x=\"0\" y=\"200\" width=\"100\" height=\"100\" stroke=\"white\" stroke-width=\"5px\" fill=\"silver\"/><rect x=\"100\" y=\"200\" width=\"100\" height=\"100\" stroke=\"white\" stroke-width=\"5px\" fill=\"silver\"/><rect x=\"200\" y=\"200\" width=\"100\" height=\"100\" stroke=\"white\" stroke-width=\"5px\" fill=\"silver\"/><rect x=\"300\" y=\"200\" width=\"100\" height=\"100\" stroke=\"white\" stroke-width=\"5px\" fill=\"darksalmon\"/><text x=\"87.5%\" y=\"62.5%\" dominant-baseline=\"middle\" text-anchor=\"middle\" font-size=\"24\">16</text><rect x=\"0\" y=\"300\" width=\"100\" height=\"100\" stroke=\"white\" stroke-width=\"5px\" fill=\"antiquewhite\"/><text x=\"12.5%\" y=\"87.5%\" dominant-baseline=\"middle\" text-anchor=\"middle\" font-size=\"24\">4</text><rect x=\"100\" y=\"300\" width=\"100\" height=\"100\" stroke=\"white\" stroke-width=\"5px\" fill=\"lightsalmon\"/><text x=\"37.5%\" y=\"87.5%\" dominant-baseline=\"middle\" text-anchor=\"middle\" font-size=\"24\">8</text><rect x=\"200\" y=\"300\" width=\"100\" height=\"100\" stroke=\"white\" stroke-width=\"5px\" fill=\"darksalmon\"/><text x=\"62.5%\" y=\"87.5%\" dominant-baseline=\"middle\" text-anchor=\"middle\" font-size=\"24\">16</text><rect x=\"300\" y=\"300\" width=\"100\" height=\"100\" stroke=\"white\" stroke-width=\"5px\" fill=\"tomato\"/><text x=\"87.5%\" y=\"87.5%\" dominant-baseline=\"middle\" text-anchor=\"middle\" font-size=\"24\">32</text></svg>"
      ],
      "text/plain": [
       "<IPython.core.display.HTML object>"
      ]
     },
     "metadata": {},
     "output_type": "display_data"
    },
    {
     "name": "stdout",
     "output_type": "stream",
     "text": [
      "\n",
      "Movimiento: Derecha\n",
      "Puntuacion: 172\n",
      "Numero de movimientos: 38\n"
     ]
    },
    {
     "data": {
      "text/html": [
       "<svg height=\"400\" width=\"400\"><rect x=\"0\" y=\"0\" width=\"100\" height=\"100\" stroke=\"white\" stroke-width=\"5px\" fill=\"silver\"/><rect x=\"100\" y=\"0\" width=\"100\" height=\"100\" stroke=\"white\" stroke-width=\"5px\" fill=\"silver\"/><rect x=\"200\" y=\"0\" width=\"100\" height=\"100\" stroke=\"white\" stroke-width=\"5px\" fill=\"silver\"/><rect x=\"300\" y=\"0\" width=\"100\" height=\"100\" stroke=\"white\" stroke-width=\"5px\" fill=\"silver\"/><rect x=\"0\" y=\"100\" width=\"100\" height=\"100\" stroke=\"white\" stroke-width=\"5px\" fill=\"ivory\"/><text x=\"12.5%\" y=\"37.5%\" dominant-baseline=\"middle\" text-anchor=\"middle\" font-size=\"24\">2</text><rect x=\"100\" y=\"100\" width=\"100\" height=\"100\" stroke=\"white\" stroke-width=\"5px\" fill=\"silver\"/><rect x=\"200\" y=\"100\" width=\"100\" height=\"100\" stroke=\"white\" stroke-width=\"5px\" fill=\"silver\"/><rect x=\"300\" y=\"100\" width=\"100\" height=\"100\" stroke=\"white\" stroke-width=\"5px\" fill=\"antiquewhite\"/><text x=\"87.5%\" y=\"37.5%\" dominant-baseline=\"middle\" text-anchor=\"middle\" font-size=\"24\">4</text><rect x=\"0\" y=\"200\" width=\"100\" height=\"100\" stroke=\"white\" stroke-width=\"5px\" fill=\"silver\"/><rect x=\"100\" y=\"200\" width=\"100\" height=\"100\" stroke=\"white\" stroke-width=\"5px\" fill=\"silver\"/><rect x=\"200\" y=\"200\" width=\"100\" height=\"100\" stroke=\"white\" stroke-width=\"5px\" fill=\"antiquewhite\"/><text x=\"62.5%\" y=\"62.5%\" dominant-baseline=\"middle\" text-anchor=\"middle\" font-size=\"24\">4</text><rect x=\"300\" y=\"200\" width=\"100\" height=\"100\" stroke=\"white\" stroke-width=\"5px\" fill=\"darksalmon\"/><text x=\"87.5%\" y=\"62.5%\" dominant-baseline=\"middle\" text-anchor=\"middle\" font-size=\"24\">16</text><rect x=\"0\" y=\"300\" width=\"100\" height=\"100\" stroke=\"white\" stroke-width=\"5px\" fill=\"antiquewhite\"/><text x=\"12.5%\" y=\"87.5%\" dominant-baseline=\"middle\" text-anchor=\"middle\" font-size=\"24\">4</text><rect x=\"100\" y=\"300\" width=\"100\" height=\"100\" stroke=\"white\" stroke-width=\"5px\" fill=\"lightsalmon\"/><text x=\"37.5%\" y=\"87.5%\" dominant-baseline=\"middle\" text-anchor=\"middle\" font-size=\"24\">8</text><rect x=\"200\" y=\"300\" width=\"100\" height=\"100\" stroke=\"white\" stroke-width=\"5px\" fill=\"darksalmon\"/><text x=\"62.5%\" y=\"87.5%\" dominant-baseline=\"middle\" text-anchor=\"middle\" font-size=\"24\">16</text><rect x=\"300\" y=\"300\" width=\"100\" height=\"100\" stroke=\"white\" stroke-width=\"5px\" fill=\"tomato\"/><text x=\"87.5%\" y=\"87.5%\" dominant-baseline=\"middle\" text-anchor=\"middle\" font-size=\"24\">32</text></svg>"
      ],
      "text/plain": [
       "<IPython.core.display.HTML object>"
      ]
     },
     "metadata": {},
     "output_type": "display_data"
    },
    {
     "name": "stdout",
     "output_type": "stream",
     "text": [
      "\n",
      "Movimiento: Derecha\n",
      "Puntuacion: 172\n",
      "Numero de movimientos: 39\n"
     ]
    },
    {
     "data": {
      "text/html": [
       "<svg height=\"400\" width=\"400\"><rect x=\"0\" y=\"0\" width=\"100\" height=\"100\" stroke=\"white\" stroke-width=\"5px\" fill=\"silver\"/><rect x=\"100\" y=\"0\" width=\"100\" height=\"100\" stroke=\"white\" stroke-width=\"5px\" fill=\"ivory\"/><text x=\"37.5%\" y=\"12.5%\" dominant-baseline=\"middle\" text-anchor=\"middle\" font-size=\"24\">2</text><rect x=\"200\" y=\"0\" width=\"100\" height=\"100\" stroke=\"white\" stroke-width=\"5px\" fill=\"silver\"/><rect x=\"300\" y=\"0\" width=\"100\" height=\"100\" stroke=\"white\" stroke-width=\"5px\" fill=\"silver\"/><rect x=\"0\" y=\"100\" width=\"100\" height=\"100\" stroke=\"white\" stroke-width=\"5px\" fill=\"silver\"/><rect x=\"100\" y=\"100\" width=\"100\" height=\"100\" stroke=\"white\" stroke-width=\"5px\" fill=\"silver\"/><rect x=\"200\" y=\"100\" width=\"100\" height=\"100\" stroke=\"white\" stroke-width=\"5px\" fill=\"silver\"/><rect x=\"300\" y=\"100\" width=\"100\" height=\"100\" stroke=\"white\" stroke-width=\"5px\" fill=\"antiquewhite\"/><text x=\"87.5%\" y=\"37.5%\" dominant-baseline=\"middle\" text-anchor=\"middle\" font-size=\"24\">4</text><rect x=\"0\" y=\"200\" width=\"100\" height=\"100\" stroke=\"white\" stroke-width=\"5px\" fill=\"silver\"/><rect x=\"100\" y=\"200\" width=\"100\" height=\"100\" stroke=\"white\" stroke-width=\"5px\" fill=\"ivory\"/><text x=\"37.5%\" y=\"62.5%\" dominant-baseline=\"middle\" text-anchor=\"middle\" font-size=\"24\">2</text><rect x=\"200\" y=\"200\" width=\"100\" height=\"100\" stroke=\"white\" stroke-width=\"5px\" fill=\"antiquewhite\"/><text x=\"62.5%\" y=\"62.5%\" dominant-baseline=\"middle\" text-anchor=\"middle\" font-size=\"24\">4</text><rect x=\"300\" y=\"200\" width=\"100\" height=\"100\" stroke=\"white\" stroke-width=\"5px\" fill=\"darksalmon\"/><text x=\"87.5%\" y=\"62.5%\" dominant-baseline=\"middle\" text-anchor=\"middle\" font-size=\"24\">16</text><rect x=\"0\" y=\"300\" width=\"100\" height=\"100\" stroke=\"white\" stroke-width=\"5px\" fill=\"antiquewhite\"/><text x=\"12.5%\" y=\"87.5%\" dominant-baseline=\"middle\" text-anchor=\"middle\" font-size=\"24\">4</text><rect x=\"100\" y=\"300\" width=\"100\" height=\"100\" stroke=\"white\" stroke-width=\"5px\" fill=\"lightsalmon\"/><text x=\"37.5%\" y=\"87.5%\" dominant-baseline=\"middle\" text-anchor=\"middle\" font-size=\"24\">8</text><rect x=\"200\" y=\"300\" width=\"100\" height=\"100\" stroke=\"white\" stroke-width=\"5px\" fill=\"darksalmon\"/><text x=\"62.5%\" y=\"87.5%\" dominant-baseline=\"middle\" text-anchor=\"middle\" font-size=\"24\">16</text><rect x=\"300\" y=\"300\" width=\"100\" height=\"100\" stroke=\"white\" stroke-width=\"5px\" fill=\"tomato\"/><text x=\"87.5%\" y=\"87.5%\" dominant-baseline=\"middle\" text-anchor=\"middle\" font-size=\"24\">32</text></svg>"
      ],
      "text/plain": [
       "<IPython.core.display.HTML object>"
      ]
     },
     "metadata": {},
     "output_type": "display_data"
    },
    {
     "name": "stdout",
     "output_type": "stream",
     "text": [
      "\n",
      "Movimiento: Derecha\n",
      "Puntuacion: 180\n",
      "Numero de movimientos: 40\n"
     ]
    },
    {
     "data": {
      "text/html": [
       "<svg height=\"400\" width=\"400\"><rect x=\"0\" y=\"0\" width=\"100\" height=\"100\" stroke=\"white\" stroke-width=\"5px\" fill=\"silver\"/><rect x=\"100\" y=\"0\" width=\"100\" height=\"100\" stroke=\"white\" stroke-width=\"5px\" fill=\"silver\"/><rect x=\"200\" y=\"0\" width=\"100\" height=\"100\" stroke=\"white\" stroke-width=\"5px\" fill=\"silver\"/><rect x=\"300\" y=\"0\" width=\"100\" height=\"100\" stroke=\"white\" stroke-width=\"5px\" fill=\"silver\"/><rect x=\"0\" y=\"100\" width=\"100\" height=\"100\" stroke=\"white\" stroke-width=\"5px\" fill=\"silver\"/><rect x=\"100\" y=\"100\" width=\"100\" height=\"100\" stroke=\"white\" stroke-width=\"5px\" fill=\"silver\"/><rect x=\"200\" y=\"100\" width=\"100\" height=\"100\" stroke=\"white\" stroke-width=\"5px\" fill=\"silver\"/><rect x=\"300\" y=\"100\" width=\"100\" height=\"100\" stroke=\"white\" stroke-width=\"5px\" fill=\"antiquewhite\"/><text x=\"87.5%\" y=\"37.5%\" dominant-baseline=\"middle\" text-anchor=\"middle\" font-size=\"24\">4</text><rect x=\"0\" y=\"200\" width=\"100\" height=\"100\" stroke=\"white\" stroke-width=\"5px\" fill=\"ivory\"/><text x=\"12.5%\" y=\"62.5%\" dominant-baseline=\"middle\" text-anchor=\"middle\" font-size=\"24\">2</text><rect x=\"100\" y=\"200\" width=\"100\" height=\"100\" stroke=\"white\" stroke-width=\"5px\" fill=\"silver\"/><rect x=\"200\" y=\"200\" width=\"100\" height=\"100\" stroke=\"white\" stroke-width=\"5px\" fill=\"lightsalmon\"/><text x=\"62.5%\" y=\"62.5%\" dominant-baseline=\"middle\" text-anchor=\"middle\" font-size=\"24\">8</text><rect x=\"300\" y=\"200\" width=\"100\" height=\"100\" stroke=\"white\" stroke-width=\"5px\" fill=\"darksalmon\"/><text x=\"87.5%\" y=\"62.5%\" dominant-baseline=\"middle\" text-anchor=\"middle\" font-size=\"24\">16</text><rect x=\"0\" y=\"300\" width=\"100\" height=\"100\" stroke=\"white\" stroke-width=\"5px\" fill=\"antiquewhite\"/><text x=\"12.5%\" y=\"87.5%\" dominant-baseline=\"middle\" text-anchor=\"middle\" font-size=\"24\">4</text><rect x=\"100\" y=\"300\" width=\"100\" height=\"100\" stroke=\"white\" stroke-width=\"5px\" fill=\"lightsalmon\"/><text x=\"37.5%\" y=\"87.5%\" dominant-baseline=\"middle\" text-anchor=\"middle\" font-size=\"24\">8</text><rect x=\"200\" y=\"300\" width=\"100\" height=\"100\" stroke=\"white\" stroke-width=\"5px\" fill=\"darksalmon\"/><text x=\"62.5%\" y=\"87.5%\" dominant-baseline=\"middle\" text-anchor=\"middle\" font-size=\"24\">16</text><rect x=\"300\" y=\"300\" width=\"100\" height=\"100\" stroke=\"white\" stroke-width=\"5px\" fill=\"tomato\"/><text x=\"87.5%\" y=\"87.5%\" dominant-baseline=\"middle\" text-anchor=\"middle\" font-size=\"24\">32</text></svg>"
      ],
      "text/plain": [
       "<IPython.core.display.HTML object>"
      ]
     },
     "metadata": {},
     "output_type": "display_data"
    },
    {
     "name": "stdout",
     "output_type": "stream",
     "text": [
      "\n",
      "Movimiento: Abajo\n",
      "Puntuacion: 180\n",
      "Numero de movimientos: 41\n"
     ]
    },
    {
     "data": {
      "text/html": [
       "<svg height=\"400\" width=\"400\"><rect x=\"0\" y=\"0\" width=\"100\" height=\"100\" stroke=\"white\" stroke-width=\"5px\" fill=\"silver\"/><rect x=\"100\" y=\"0\" width=\"100\" height=\"100\" stroke=\"white\" stroke-width=\"5px\" fill=\"silver\"/><rect x=\"200\" y=\"0\" width=\"100\" height=\"100\" stroke=\"white\" stroke-width=\"5px\" fill=\"silver\"/><rect x=\"300\" y=\"0\" width=\"100\" height=\"100\" stroke=\"white\" stroke-width=\"5px\" fill=\"silver\"/><rect x=\"0\" y=\"100\" width=\"100\" height=\"100\" stroke=\"white\" stroke-width=\"5px\" fill=\"silver\"/><rect x=\"100\" y=\"100\" width=\"100\" height=\"100\" stroke=\"white\" stroke-width=\"5px\" fill=\"silver\"/><rect x=\"200\" y=\"100\" width=\"100\" height=\"100\" stroke=\"white\" stroke-width=\"5px\" fill=\"ivory\"/><text x=\"62.5%\" y=\"37.5%\" dominant-baseline=\"middle\" text-anchor=\"middle\" font-size=\"24\">2</text><rect x=\"300\" y=\"100\" width=\"100\" height=\"100\" stroke=\"white\" stroke-width=\"5px\" fill=\"antiquewhite\"/><text x=\"87.5%\" y=\"37.5%\" dominant-baseline=\"middle\" text-anchor=\"middle\" font-size=\"24\">4</text><rect x=\"0\" y=\"200\" width=\"100\" height=\"100\" stroke=\"white\" stroke-width=\"5px\" fill=\"ivory\"/><text x=\"12.5%\" y=\"62.5%\" dominant-baseline=\"middle\" text-anchor=\"middle\" font-size=\"24\">2</text><rect x=\"100\" y=\"200\" width=\"100\" height=\"100\" stroke=\"white\" stroke-width=\"5px\" fill=\"silver\"/><rect x=\"200\" y=\"200\" width=\"100\" height=\"100\" stroke=\"white\" stroke-width=\"5px\" fill=\"lightsalmon\"/><text x=\"62.5%\" y=\"62.5%\" dominant-baseline=\"middle\" text-anchor=\"middle\" font-size=\"24\">8</text><rect x=\"300\" y=\"200\" width=\"100\" height=\"100\" stroke=\"white\" stroke-width=\"5px\" fill=\"darksalmon\"/><text x=\"87.5%\" y=\"62.5%\" dominant-baseline=\"middle\" text-anchor=\"middle\" font-size=\"24\">16</text><rect x=\"0\" y=\"300\" width=\"100\" height=\"100\" stroke=\"white\" stroke-width=\"5px\" fill=\"antiquewhite\"/><text x=\"12.5%\" y=\"87.5%\" dominant-baseline=\"middle\" text-anchor=\"middle\" font-size=\"24\">4</text><rect x=\"100\" y=\"300\" width=\"100\" height=\"100\" stroke=\"white\" stroke-width=\"5px\" fill=\"lightsalmon\"/><text x=\"37.5%\" y=\"87.5%\" dominant-baseline=\"middle\" text-anchor=\"middle\" font-size=\"24\">8</text><rect x=\"200\" y=\"300\" width=\"100\" height=\"100\" stroke=\"white\" stroke-width=\"5px\" fill=\"darksalmon\"/><text x=\"62.5%\" y=\"87.5%\" dominant-baseline=\"middle\" text-anchor=\"middle\" font-size=\"24\">16</text><rect x=\"300\" y=\"300\" width=\"100\" height=\"100\" stroke=\"white\" stroke-width=\"5px\" fill=\"tomato\"/><text x=\"87.5%\" y=\"87.5%\" dominant-baseline=\"middle\" text-anchor=\"middle\" font-size=\"24\">32</text></svg>"
      ],
      "text/plain": [
       "<IPython.core.display.HTML object>"
      ]
     },
     "metadata": {},
     "output_type": "display_data"
    },
    {
     "name": "stdout",
     "output_type": "stream",
     "text": [
      "\n",
      "Movimiento: Abajo\n",
      "Puntuacion: 180\n",
      "Numero de movimientos: 42\n"
     ]
    },
    {
     "data": {
      "text/html": [
       "<svg height=\"400\" width=\"400\"><rect x=\"0\" y=\"0\" width=\"100\" height=\"100\" stroke=\"white\" stroke-width=\"5px\" fill=\"silver\"/><rect x=\"100\" y=\"0\" width=\"100\" height=\"100\" stroke=\"white\" stroke-width=\"5px\" fill=\"ivory\"/><text x=\"37.5%\" y=\"12.5%\" dominant-baseline=\"middle\" text-anchor=\"middle\" font-size=\"24\">2</text><rect x=\"200\" y=\"0\" width=\"100\" height=\"100\" stroke=\"white\" stroke-width=\"5px\" fill=\"silver\"/><rect x=\"300\" y=\"0\" width=\"100\" height=\"100\" stroke=\"white\" stroke-width=\"5px\" fill=\"silver\"/><rect x=\"0\" y=\"100\" width=\"100\" height=\"100\" stroke=\"white\" stroke-width=\"5px\" fill=\"silver\"/><rect x=\"100\" y=\"100\" width=\"100\" height=\"100\" stroke=\"white\" stroke-width=\"5px\" fill=\"silver\"/><rect x=\"200\" y=\"100\" width=\"100\" height=\"100\" stroke=\"white\" stroke-width=\"5px\" fill=\"ivory\"/><text x=\"62.5%\" y=\"37.5%\" dominant-baseline=\"middle\" text-anchor=\"middle\" font-size=\"24\">2</text><rect x=\"300\" y=\"100\" width=\"100\" height=\"100\" stroke=\"white\" stroke-width=\"5px\" fill=\"antiquewhite\"/><text x=\"87.5%\" y=\"37.5%\" dominant-baseline=\"middle\" text-anchor=\"middle\" font-size=\"24\">4</text><rect x=\"0\" y=\"200\" width=\"100\" height=\"100\" stroke=\"white\" stroke-width=\"5px\" fill=\"ivory\"/><text x=\"12.5%\" y=\"62.5%\" dominant-baseline=\"middle\" text-anchor=\"middle\" font-size=\"24\">2</text><rect x=\"100\" y=\"200\" width=\"100\" height=\"100\" stroke=\"white\" stroke-width=\"5px\" fill=\"silver\"/><rect x=\"200\" y=\"200\" width=\"100\" height=\"100\" stroke=\"white\" stroke-width=\"5px\" fill=\"lightsalmon\"/><text x=\"62.5%\" y=\"62.5%\" dominant-baseline=\"middle\" text-anchor=\"middle\" font-size=\"24\">8</text><rect x=\"300\" y=\"200\" width=\"100\" height=\"100\" stroke=\"white\" stroke-width=\"5px\" fill=\"darksalmon\"/><text x=\"87.5%\" y=\"62.5%\" dominant-baseline=\"middle\" text-anchor=\"middle\" font-size=\"24\">16</text><rect x=\"0\" y=\"300\" width=\"100\" height=\"100\" stroke=\"white\" stroke-width=\"5px\" fill=\"antiquewhite\"/><text x=\"12.5%\" y=\"87.5%\" dominant-baseline=\"middle\" text-anchor=\"middle\" font-size=\"24\">4</text><rect x=\"100\" y=\"300\" width=\"100\" height=\"100\" stroke=\"white\" stroke-width=\"5px\" fill=\"lightsalmon\"/><text x=\"37.5%\" y=\"87.5%\" dominant-baseline=\"middle\" text-anchor=\"middle\" font-size=\"24\">8</text><rect x=\"200\" y=\"300\" width=\"100\" height=\"100\" stroke=\"white\" stroke-width=\"5px\" fill=\"darksalmon\"/><text x=\"62.5%\" y=\"87.5%\" dominant-baseline=\"middle\" text-anchor=\"middle\" font-size=\"24\">16</text><rect x=\"300\" y=\"300\" width=\"100\" height=\"100\" stroke=\"white\" stroke-width=\"5px\" fill=\"tomato\"/><text x=\"87.5%\" y=\"87.5%\" dominant-baseline=\"middle\" text-anchor=\"middle\" font-size=\"24\">32</text></svg>"
      ],
      "text/plain": [
       "<IPython.core.display.HTML object>"
      ]
     },
     "metadata": {},
     "output_type": "display_data"
    },
    {
     "name": "stdout",
     "output_type": "stream",
     "text": [
      "\n",
      "Movimiento: Derecha\n",
      "Puntuacion: 184\n",
      "Numero de movimientos: 43\n"
     ]
    },
    {
     "data": {
      "text/html": [
       "<svg height=\"400\" width=\"400\"><rect x=\"0\" y=\"0\" width=\"100\" height=\"100\" stroke=\"white\" stroke-width=\"5px\" fill=\"silver\"/><rect x=\"100\" y=\"0\" width=\"100\" height=\"100\" stroke=\"white\" stroke-width=\"5px\" fill=\"silver\"/><rect x=\"200\" y=\"0\" width=\"100\" height=\"100\" stroke=\"white\" stroke-width=\"5px\" fill=\"silver\"/><rect x=\"300\" y=\"0\" width=\"100\" height=\"100\" stroke=\"white\" stroke-width=\"5px\" fill=\"silver\"/><rect x=\"0\" y=\"100\" width=\"100\" height=\"100\" stroke=\"white\" stroke-width=\"5px\" fill=\"ivory\"/><text x=\"12.5%\" y=\"37.5%\" dominant-baseline=\"middle\" text-anchor=\"middle\" font-size=\"24\">2</text><rect x=\"100\" y=\"100\" width=\"100\" height=\"100\" stroke=\"white\" stroke-width=\"5px\" fill=\"silver\"/><rect x=\"200\" y=\"100\" width=\"100\" height=\"100\" stroke=\"white\" stroke-width=\"5px\" fill=\"ivory\"/><text x=\"62.5%\" y=\"37.5%\" dominant-baseline=\"middle\" text-anchor=\"middle\" font-size=\"24\">2</text><rect x=\"300\" y=\"100\" width=\"100\" height=\"100\" stroke=\"white\" stroke-width=\"5px\" fill=\"antiquewhite\"/><text x=\"87.5%\" y=\"37.5%\" dominant-baseline=\"middle\" text-anchor=\"middle\" font-size=\"24\">4</text><rect x=\"0\" y=\"200\" width=\"100\" height=\"100\" stroke=\"white\" stroke-width=\"5px\" fill=\"silver\"/><rect x=\"100\" y=\"200\" width=\"100\" height=\"100\" stroke=\"white\" stroke-width=\"5px\" fill=\"antiquewhite\"/><text x=\"37.5%\" y=\"62.5%\" dominant-baseline=\"middle\" text-anchor=\"middle\" font-size=\"24\">4</text><rect x=\"200\" y=\"200\" width=\"100\" height=\"100\" stroke=\"white\" stroke-width=\"5px\" fill=\"lightsalmon\"/><text x=\"62.5%\" y=\"62.5%\" dominant-baseline=\"middle\" text-anchor=\"middle\" font-size=\"24\">8</text><rect x=\"300\" y=\"200\" width=\"100\" height=\"100\" stroke=\"white\" stroke-width=\"5px\" fill=\"darksalmon\"/><text x=\"87.5%\" y=\"62.5%\" dominant-baseline=\"middle\" text-anchor=\"middle\" font-size=\"24\">16</text><rect x=\"0\" y=\"300\" width=\"100\" height=\"100\" stroke=\"white\" stroke-width=\"5px\" fill=\"antiquewhite\"/><text x=\"12.5%\" y=\"87.5%\" dominant-baseline=\"middle\" text-anchor=\"middle\" font-size=\"24\">4</text><rect x=\"100\" y=\"300\" width=\"100\" height=\"100\" stroke=\"white\" stroke-width=\"5px\" fill=\"lightsalmon\"/><text x=\"37.5%\" y=\"87.5%\" dominant-baseline=\"middle\" text-anchor=\"middle\" font-size=\"24\">8</text><rect x=\"200\" y=\"300\" width=\"100\" height=\"100\" stroke=\"white\" stroke-width=\"5px\" fill=\"darksalmon\"/><text x=\"62.5%\" y=\"87.5%\" dominant-baseline=\"middle\" text-anchor=\"middle\" font-size=\"24\">16</text><rect x=\"300\" y=\"300\" width=\"100\" height=\"100\" stroke=\"white\" stroke-width=\"5px\" fill=\"tomato\"/><text x=\"87.5%\" y=\"87.5%\" dominant-baseline=\"middle\" text-anchor=\"middle\" font-size=\"24\">32</text></svg>"
      ],
      "text/plain": [
       "<IPython.core.display.HTML object>"
      ]
     },
     "metadata": {},
     "output_type": "display_data"
    },
    {
     "name": "stdout",
     "output_type": "stream",
     "text": [
      "\n",
      "Movimiento: Derecha\n",
      "Puntuacion: 184\n",
      "Numero de movimientos: 44\n"
     ]
    },
    {
     "data": {
      "text/html": [
       "<svg height=\"400\" width=\"400\"><rect x=\"0\" y=\"0\" width=\"100\" height=\"100\" stroke=\"white\" stroke-width=\"5px\" fill=\"antiquewhite\"/><text x=\"12.5%\" y=\"12.5%\" dominant-baseline=\"middle\" text-anchor=\"middle\" font-size=\"24\">4</text><rect x=\"100\" y=\"0\" width=\"100\" height=\"100\" stroke=\"white\" stroke-width=\"5px\" fill=\"silver\"/><rect x=\"200\" y=\"0\" width=\"100\" height=\"100\" stroke=\"white\" stroke-width=\"5px\" fill=\"silver\"/><rect x=\"300\" y=\"0\" width=\"100\" height=\"100\" stroke=\"white\" stroke-width=\"5px\" fill=\"silver\"/><rect x=\"0\" y=\"100\" width=\"100\" height=\"100\" stroke=\"white\" stroke-width=\"5px\" fill=\"silver\"/><rect x=\"100\" y=\"100\" width=\"100\" height=\"100\" stroke=\"white\" stroke-width=\"5px\" fill=\"silver\"/><rect x=\"200\" y=\"100\" width=\"100\" height=\"100\" stroke=\"white\" stroke-width=\"5px\" fill=\"ivory\"/><text x=\"62.5%\" y=\"37.5%\" dominant-baseline=\"middle\" text-anchor=\"middle\" font-size=\"24\">2</text><rect x=\"300\" y=\"100\" width=\"100\" height=\"100\" stroke=\"white\" stroke-width=\"5px\" fill=\"antiquewhite\"/><text x=\"87.5%\" y=\"37.5%\" dominant-baseline=\"middle\" text-anchor=\"middle\" font-size=\"24\">4</text><rect x=\"0\" y=\"200\" width=\"100\" height=\"100\" stroke=\"white\" stroke-width=\"5px\" fill=\"ivory\"/><text x=\"12.5%\" y=\"62.5%\" dominant-baseline=\"middle\" text-anchor=\"middle\" font-size=\"24\">2</text><rect x=\"100\" y=\"200\" width=\"100\" height=\"100\" stroke=\"white\" stroke-width=\"5px\" fill=\"antiquewhite\"/><text x=\"37.5%\" y=\"62.5%\" dominant-baseline=\"middle\" text-anchor=\"middle\" font-size=\"24\">4</text><rect x=\"200\" y=\"200\" width=\"100\" height=\"100\" stroke=\"white\" stroke-width=\"5px\" fill=\"lightsalmon\"/><text x=\"62.5%\" y=\"62.5%\" dominant-baseline=\"middle\" text-anchor=\"middle\" font-size=\"24\">8</text><rect x=\"300\" y=\"200\" width=\"100\" height=\"100\" stroke=\"white\" stroke-width=\"5px\" fill=\"darksalmon\"/><text x=\"87.5%\" y=\"62.5%\" dominant-baseline=\"middle\" text-anchor=\"middle\" font-size=\"24\">16</text><rect x=\"0\" y=\"300\" width=\"100\" height=\"100\" stroke=\"white\" stroke-width=\"5px\" fill=\"antiquewhite\"/><text x=\"12.5%\" y=\"87.5%\" dominant-baseline=\"middle\" text-anchor=\"middle\" font-size=\"24\">4</text><rect x=\"100\" y=\"300\" width=\"100\" height=\"100\" stroke=\"white\" stroke-width=\"5px\" fill=\"lightsalmon\"/><text x=\"37.5%\" y=\"87.5%\" dominant-baseline=\"middle\" text-anchor=\"middle\" font-size=\"24\">8</text><rect x=\"200\" y=\"300\" width=\"100\" height=\"100\" stroke=\"white\" stroke-width=\"5px\" fill=\"darksalmon\"/><text x=\"62.5%\" y=\"87.5%\" dominant-baseline=\"middle\" text-anchor=\"middle\" font-size=\"24\">16</text><rect x=\"300\" y=\"300\" width=\"100\" height=\"100\" stroke=\"white\" stroke-width=\"5px\" fill=\"tomato\"/><text x=\"87.5%\" y=\"87.5%\" dominant-baseline=\"middle\" text-anchor=\"middle\" font-size=\"24\">32</text></svg>"
      ],
      "text/plain": [
       "<IPython.core.display.HTML object>"
      ]
     },
     "metadata": {},
     "output_type": "display_data"
    },
    {
     "name": "stdout",
     "output_type": "stream",
     "text": [
      "\n",
      "Movimiento: Derecha\n",
      "Puntuacion: 184\n",
      "Numero de movimientos: 45\n"
     ]
    },
    {
     "data": {
      "text/html": [
       "<svg height=\"400\" width=\"400\"><rect x=\"0\" y=\"0\" width=\"100\" height=\"100\" stroke=\"white\" stroke-width=\"5px\" fill=\"silver\"/><rect x=\"100\" y=\"0\" width=\"100\" height=\"100\" stroke=\"white\" stroke-width=\"5px\" fill=\"silver\"/><rect x=\"200\" y=\"0\" width=\"100\" height=\"100\" stroke=\"white\" stroke-width=\"5px\" fill=\"antiquewhite\"/><text x=\"62.5%\" y=\"12.5%\" dominant-baseline=\"middle\" text-anchor=\"middle\" font-size=\"24\">4</text><rect x=\"300\" y=\"0\" width=\"100\" height=\"100\" stroke=\"white\" stroke-width=\"5px\" fill=\"silver\"/><rect x=\"0\" y=\"100\" width=\"100\" height=\"100\" stroke=\"white\" stroke-width=\"5px\" fill=\"silver\"/><rect x=\"100\" y=\"100\" width=\"100\" height=\"100\" stroke=\"white\" stroke-width=\"5px\" fill=\"antiquewhite\"/><text x=\"37.5%\" y=\"37.5%\" dominant-baseline=\"middle\" text-anchor=\"middle\" font-size=\"24\">4</text><rect x=\"200\" y=\"100\" width=\"100\" height=\"100\" stroke=\"white\" stroke-width=\"5px\" fill=\"ivory\"/><text x=\"62.5%\" y=\"37.5%\" dominant-baseline=\"middle\" text-anchor=\"middle\" font-size=\"24\">2</text><rect x=\"300\" y=\"100\" width=\"100\" height=\"100\" stroke=\"white\" stroke-width=\"5px\" fill=\"antiquewhite\"/><text x=\"87.5%\" y=\"37.5%\" dominant-baseline=\"middle\" text-anchor=\"middle\" font-size=\"24\">4</text><rect x=\"0\" y=\"200\" width=\"100\" height=\"100\" stroke=\"white\" stroke-width=\"5px\" fill=\"ivory\"/><text x=\"12.5%\" y=\"62.5%\" dominant-baseline=\"middle\" text-anchor=\"middle\" font-size=\"24\">2</text><rect x=\"100\" y=\"200\" width=\"100\" height=\"100\" stroke=\"white\" stroke-width=\"5px\" fill=\"antiquewhite\"/><text x=\"37.5%\" y=\"62.5%\" dominant-baseline=\"middle\" text-anchor=\"middle\" font-size=\"24\">4</text><rect x=\"200\" y=\"200\" width=\"100\" height=\"100\" stroke=\"white\" stroke-width=\"5px\" fill=\"lightsalmon\"/><text x=\"62.5%\" y=\"62.5%\" dominant-baseline=\"middle\" text-anchor=\"middle\" font-size=\"24\">8</text><rect x=\"300\" y=\"200\" width=\"100\" height=\"100\" stroke=\"white\" stroke-width=\"5px\" fill=\"darksalmon\"/><text x=\"87.5%\" y=\"62.5%\" dominant-baseline=\"middle\" text-anchor=\"middle\" font-size=\"24\">16</text><rect x=\"0\" y=\"300\" width=\"100\" height=\"100\" stroke=\"white\" stroke-width=\"5px\" fill=\"antiquewhite\"/><text x=\"12.5%\" y=\"87.5%\" dominant-baseline=\"middle\" text-anchor=\"middle\" font-size=\"24\">4</text><rect x=\"100\" y=\"300\" width=\"100\" height=\"100\" stroke=\"white\" stroke-width=\"5px\" fill=\"lightsalmon\"/><text x=\"37.5%\" y=\"87.5%\" dominant-baseline=\"middle\" text-anchor=\"middle\" font-size=\"24\">8</text><rect x=\"200\" y=\"300\" width=\"100\" height=\"100\" stroke=\"white\" stroke-width=\"5px\" fill=\"darksalmon\"/><text x=\"62.5%\" y=\"87.5%\" dominant-baseline=\"middle\" text-anchor=\"middle\" font-size=\"24\">16</text><rect x=\"300\" y=\"300\" width=\"100\" height=\"100\" stroke=\"white\" stroke-width=\"5px\" fill=\"tomato\"/><text x=\"87.5%\" y=\"87.5%\" dominant-baseline=\"middle\" text-anchor=\"middle\" font-size=\"24\">32</text></svg>"
      ],
      "text/plain": [
       "<IPython.core.display.HTML object>"
      ]
     },
     "metadata": {},
     "output_type": "display_data"
    },
    {
     "name": "stdout",
     "output_type": "stream",
     "text": [
      "\n",
      "Movimiento: Derecha\n",
      "Puntuacion: 200\n",
      "Numero de movimientos: 46\n"
     ]
    },
    {
     "data": {
      "text/html": [
       "<svg height=\"400\" width=\"400\"><rect x=\"0\" y=\"0\" width=\"100\" height=\"100\" stroke=\"white\" stroke-width=\"5px\" fill=\"silver\"/><rect x=\"100\" y=\"0\" width=\"100\" height=\"100\" stroke=\"white\" stroke-width=\"5px\" fill=\"silver\"/><rect x=\"200\" y=\"0\" width=\"100\" height=\"100\" stroke=\"white\" stroke-width=\"5px\" fill=\"silver\"/><rect x=\"300\" y=\"0\" width=\"100\" height=\"100\" stroke=\"white\" stroke-width=\"5px\" fill=\"antiquewhite\"/><text x=\"87.5%\" y=\"12.5%\" dominant-baseline=\"middle\" text-anchor=\"middle\" font-size=\"24\">4</text><rect x=\"0\" y=\"100\" width=\"100\" height=\"100\" stroke=\"white\" stroke-width=\"5px\" fill=\"silver\"/><rect x=\"100\" y=\"100\" width=\"100\" height=\"100\" stroke=\"white\" stroke-width=\"5px\" fill=\"silver\"/><rect x=\"200\" y=\"100\" width=\"100\" height=\"100\" stroke=\"white\" stroke-width=\"5px\" fill=\"ivory\"/><text x=\"62.5%\" y=\"37.5%\" dominant-baseline=\"middle\" text-anchor=\"middle\" font-size=\"24\">2</text><rect x=\"300\" y=\"100\" width=\"100\" height=\"100\" stroke=\"white\" stroke-width=\"5px\" fill=\"antiquewhite\"/><text x=\"87.5%\" y=\"37.5%\" dominant-baseline=\"middle\" text-anchor=\"middle\" font-size=\"24\">4</text><rect x=\"0\" y=\"200\" width=\"100\" height=\"100\" stroke=\"white\" stroke-width=\"5px\" fill=\"ivory\"/><text x=\"12.5%\" y=\"62.5%\" dominant-baseline=\"middle\" text-anchor=\"middle\" font-size=\"24\">2</text><rect x=\"100\" y=\"200\" width=\"100\" height=\"100\" stroke=\"white\" stroke-width=\"5px\" fill=\"ivory\"/><text x=\"37.5%\" y=\"62.5%\" dominant-baseline=\"middle\" text-anchor=\"middle\" font-size=\"24\">2</text><rect x=\"200\" y=\"200\" width=\"100\" height=\"100\" stroke=\"white\" stroke-width=\"5px\" fill=\"darksalmon\"/><text x=\"62.5%\" y=\"62.5%\" dominant-baseline=\"middle\" text-anchor=\"middle\" font-size=\"24\">16</text><rect x=\"300\" y=\"200\" width=\"100\" height=\"100\" stroke=\"white\" stroke-width=\"5px\" fill=\"darksalmon\"/><text x=\"87.5%\" y=\"62.5%\" dominant-baseline=\"middle\" text-anchor=\"middle\" font-size=\"24\">16</text><rect x=\"0\" y=\"300\" width=\"100\" height=\"100\" stroke=\"white\" stroke-width=\"5px\" fill=\"antiquewhite\"/><text x=\"12.5%\" y=\"87.5%\" dominant-baseline=\"middle\" text-anchor=\"middle\" font-size=\"24\">4</text><rect x=\"100\" y=\"300\" width=\"100\" height=\"100\" stroke=\"white\" stroke-width=\"5px\" fill=\"lightsalmon\"/><text x=\"37.5%\" y=\"87.5%\" dominant-baseline=\"middle\" text-anchor=\"middle\" font-size=\"24\">8</text><rect x=\"200\" y=\"300\" width=\"100\" height=\"100\" stroke=\"white\" stroke-width=\"5px\" fill=\"darksalmon\"/><text x=\"62.5%\" y=\"87.5%\" dominant-baseline=\"middle\" text-anchor=\"middle\" font-size=\"24\">16</text><rect x=\"300\" y=\"300\" width=\"100\" height=\"100\" stroke=\"white\" stroke-width=\"5px\" fill=\"tomato\"/><text x=\"87.5%\" y=\"87.5%\" dominant-baseline=\"middle\" text-anchor=\"middle\" font-size=\"24\">32</text></svg>"
      ],
      "text/plain": [
       "<IPython.core.display.HTML object>"
      ]
     },
     "metadata": {},
     "output_type": "display_data"
    },
    {
     "name": "stdout",
     "output_type": "stream",
     "text": [
      "\n",
      "Movimiento: Derecha\n",
      "Puntuacion: 268\n",
      "Numero de movimientos: 47\n"
     ]
    },
    {
     "data": {
      "text/html": [
       "<svg height=\"400\" width=\"400\"><rect x=\"0\" y=\"0\" width=\"100\" height=\"100\" stroke=\"white\" stroke-width=\"5px\" fill=\"silver\"/><rect x=\"100\" y=\"0\" width=\"100\" height=\"100\" stroke=\"white\" stroke-width=\"5px\" fill=\"silver\"/><rect x=\"200\" y=\"0\" width=\"100\" height=\"100\" stroke=\"white\" stroke-width=\"5px\" fill=\"ivory\"/><text x=\"62.5%\" y=\"12.5%\" dominant-baseline=\"middle\" text-anchor=\"middle\" font-size=\"24\">2</text><rect x=\"300\" y=\"0\" width=\"100\" height=\"100\" stroke=\"white\" stroke-width=\"5px\" fill=\"silver\"/><rect x=\"0\" y=\"100\" width=\"100\" height=\"100\" stroke=\"white\" stroke-width=\"5px\" fill=\"silver\"/><rect x=\"100\" y=\"100\" width=\"100\" height=\"100\" stroke=\"white\" stroke-width=\"5px\" fill=\"silver\"/><rect x=\"200\" y=\"100\" width=\"100\" height=\"100\" stroke=\"white\" stroke-width=\"5px\" fill=\"silver\"/><rect x=\"300\" y=\"100\" width=\"100\" height=\"100\" stroke=\"white\" stroke-width=\"5px\" fill=\"lightsalmon\"/><text x=\"87.5%\" y=\"37.5%\" dominant-baseline=\"middle\" text-anchor=\"middle\" font-size=\"24\">8</text><rect x=\"0\" y=\"200\" width=\"100\" height=\"100\" stroke=\"white\" stroke-width=\"5px\" fill=\"silver\"/><rect x=\"100\" y=\"200\" width=\"100\" height=\"100\" stroke=\"white\" stroke-width=\"5px\" fill=\"ivory\"/><text x=\"37.5%\" y=\"62.5%\" dominant-baseline=\"middle\" text-anchor=\"middle\" font-size=\"24\">2</text><rect x=\"200\" y=\"200\" width=\"100\" height=\"100\" stroke=\"white\" stroke-width=\"5px\" fill=\"antiquewhite\"/><text x=\"62.5%\" y=\"62.5%\" dominant-baseline=\"middle\" text-anchor=\"middle\" font-size=\"24\">4</text><rect x=\"300\" y=\"200\" width=\"100\" height=\"100\" stroke=\"white\" stroke-width=\"5px\" fill=\"darksalmon\"/><text x=\"87.5%\" y=\"62.5%\" dominant-baseline=\"middle\" text-anchor=\"middle\" font-size=\"24\">16</text><rect x=\"0\" y=\"300\" width=\"100\" height=\"100\" stroke=\"white\" stroke-width=\"5px\" fill=\"silver\"/><rect x=\"100\" y=\"300\" width=\"100\" height=\"100\" stroke=\"white\" stroke-width=\"5px\" fill=\"antiquewhite\"/><text x=\"37.5%\" y=\"87.5%\" dominant-baseline=\"middle\" text-anchor=\"middle\" font-size=\"24\">4</text><rect x=\"200\" y=\"300\" width=\"100\" height=\"100\" stroke=\"white\" stroke-width=\"5px\" fill=\"lightsalmon\"/><text x=\"62.5%\" y=\"87.5%\" dominant-baseline=\"middle\" text-anchor=\"middle\" font-size=\"24\">8</text><rect x=\"300\" y=\"300\" width=\"100\" height=\"100\" stroke=\"white\" stroke-width=\"5px\" fill=\"orangered\"/><text x=\"87.5%\" y=\"87.5%\" dominant-baseline=\"middle\" text-anchor=\"middle\" font-size=\"24\">64</text></svg>"
      ],
      "text/plain": [
       "<IPython.core.display.HTML object>"
      ]
     },
     "metadata": {},
     "output_type": "display_data"
    },
    {
     "name": "stdout",
     "output_type": "stream",
     "text": [
      "\n",
      "Movimiento: Derecha\n",
      "Puntuacion: 268\n",
      "Numero de movimientos: 48\n"
     ]
    },
    {
     "data": {
      "text/html": [
       "<svg height=\"400\" width=\"400\"><rect x=\"0\" y=\"0\" width=\"100\" height=\"100\" stroke=\"white\" stroke-width=\"5px\" fill=\"silver\"/><rect x=\"100\" y=\"0\" width=\"100\" height=\"100\" stroke=\"white\" stroke-width=\"5px\" fill=\"silver\"/><rect x=\"200\" y=\"0\" width=\"100\" height=\"100\" stroke=\"white\" stroke-width=\"5px\" fill=\"silver\"/><rect x=\"300\" y=\"0\" width=\"100\" height=\"100\" stroke=\"white\" stroke-width=\"5px\" fill=\"silver\"/><rect x=\"0\" y=\"100\" width=\"100\" height=\"100\" stroke=\"white\" stroke-width=\"5px\" fill=\"silver\"/><rect x=\"100\" y=\"100\" width=\"100\" height=\"100\" stroke=\"white\" stroke-width=\"5px\" fill=\"silver\"/><rect x=\"200\" y=\"100\" width=\"100\" height=\"100\" stroke=\"white\" stroke-width=\"5px\" fill=\"ivory\"/><text x=\"62.5%\" y=\"37.5%\" dominant-baseline=\"middle\" text-anchor=\"middle\" font-size=\"24\">2</text><rect x=\"300\" y=\"100\" width=\"100\" height=\"100\" stroke=\"white\" stroke-width=\"5px\" fill=\"lightsalmon\"/><text x=\"87.5%\" y=\"37.5%\" dominant-baseline=\"middle\" text-anchor=\"middle\" font-size=\"24\">8</text><rect x=\"0\" y=\"200\" width=\"100\" height=\"100\" stroke=\"white\" stroke-width=\"5px\" fill=\"ivory\"/><text x=\"12.5%\" y=\"62.5%\" dominant-baseline=\"middle\" text-anchor=\"middle\" font-size=\"24\">2</text><rect x=\"100\" y=\"200\" width=\"100\" height=\"100\" stroke=\"white\" stroke-width=\"5px\" fill=\"ivory\"/><text x=\"37.5%\" y=\"62.5%\" dominant-baseline=\"middle\" text-anchor=\"middle\" font-size=\"24\">2</text><rect x=\"200\" y=\"200\" width=\"100\" height=\"100\" stroke=\"white\" stroke-width=\"5px\" fill=\"antiquewhite\"/><text x=\"62.5%\" y=\"62.5%\" dominant-baseline=\"middle\" text-anchor=\"middle\" font-size=\"24\">4</text><rect x=\"300\" y=\"200\" width=\"100\" height=\"100\" stroke=\"white\" stroke-width=\"5px\" fill=\"darksalmon\"/><text x=\"87.5%\" y=\"62.5%\" dominant-baseline=\"middle\" text-anchor=\"middle\" font-size=\"24\">16</text><rect x=\"0\" y=\"300\" width=\"100\" height=\"100\" stroke=\"white\" stroke-width=\"5px\" fill=\"silver\"/><rect x=\"100\" y=\"300\" width=\"100\" height=\"100\" stroke=\"white\" stroke-width=\"5px\" fill=\"antiquewhite\"/><text x=\"37.5%\" y=\"87.5%\" dominant-baseline=\"middle\" text-anchor=\"middle\" font-size=\"24\">4</text><rect x=\"200\" y=\"300\" width=\"100\" height=\"100\" stroke=\"white\" stroke-width=\"5px\" fill=\"lightsalmon\"/><text x=\"62.5%\" y=\"87.5%\" dominant-baseline=\"middle\" text-anchor=\"middle\" font-size=\"24\">8</text><rect x=\"300\" y=\"300\" width=\"100\" height=\"100\" stroke=\"white\" stroke-width=\"5px\" fill=\"orangered\"/><text x=\"87.5%\" y=\"87.5%\" dominant-baseline=\"middle\" text-anchor=\"middle\" font-size=\"24\">64</text></svg>"
      ],
      "text/plain": [
       "<IPython.core.display.HTML object>"
      ]
     },
     "metadata": {},
     "output_type": "display_data"
    },
    {
     "name": "stdout",
     "output_type": "stream",
     "text": [
      "\n",
      "Movimiento: Derecha\n",
      "Puntuacion: 268\n",
      "Numero de movimientos: 49\n"
     ]
    },
    {
     "data": {
      "text/html": [
       "<svg height=\"400\" width=\"400\"><rect x=\"0\" y=\"0\" width=\"100\" height=\"100\" stroke=\"white\" stroke-width=\"5px\" fill=\"ivory\"/><text x=\"12.5%\" y=\"12.5%\" dominant-baseline=\"middle\" text-anchor=\"middle\" font-size=\"24\">2</text><rect x=\"100\" y=\"0\" width=\"100\" height=\"100\" stroke=\"white\" stroke-width=\"5px\" fill=\"silver\"/><rect x=\"200\" y=\"0\" width=\"100\" height=\"100\" stroke=\"white\" stroke-width=\"5px\" fill=\"silver\"/><rect x=\"300\" y=\"0\" width=\"100\" height=\"100\" stroke=\"white\" stroke-width=\"5px\" fill=\"silver\"/><rect x=\"0\" y=\"100\" width=\"100\" height=\"100\" stroke=\"white\" stroke-width=\"5px\" fill=\"silver\"/><rect x=\"100\" y=\"100\" width=\"100\" height=\"100\" stroke=\"white\" stroke-width=\"5px\" fill=\"silver\"/><rect x=\"200\" y=\"100\" width=\"100\" height=\"100\" stroke=\"white\" stroke-width=\"5px\" fill=\"ivory\"/><text x=\"62.5%\" y=\"37.5%\" dominant-baseline=\"middle\" text-anchor=\"middle\" font-size=\"24\">2</text><rect x=\"300\" y=\"100\" width=\"100\" height=\"100\" stroke=\"white\" stroke-width=\"5px\" fill=\"lightsalmon\"/><text x=\"87.5%\" y=\"37.5%\" dominant-baseline=\"middle\" text-anchor=\"middle\" font-size=\"24\">8</text><rect x=\"0\" y=\"200\" width=\"100\" height=\"100\" stroke=\"white\" stroke-width=\"5px\" fill=\"silver\"/><rect x=\"100\" y=\"200\" width=\"100\" height=\"100\" stroke=\"white\" stroke-width=\"5px\" fill=\"ivory\"/><text x=\"37.5%\" y=\"62.5%\" dominant-baseline=\"middle\" text-anchor=\"middle\" font-size=\"24\">2</text><rect x=\"200\" y=\"200\" width=\"100\" height=\"100\" stroke=\"white\" stroke-width=\"5px\" fill=\"antiquewhite\"/><text x=\"62.5%\" y=\"62.5%\" dominant-baseline=\"middle\" text-anchor=\"middle\" font-size=\"24\">4</text><rect x=\"300\" y=\"200\" width=\"100\" height=\"100\" stroke=\"white\" stroke-width=\"5px\" fill=\"darksalmon\"/><text x=\"87.5%\" y=\"62.5%\" dominant-baseline=\"middle\" text-anchor=\"middle\" font-size=\"24\">16</text><rect x=\"0\" y=\"300\" width=\"100\" height=\"100\" stroke=\"white\" stroke-width=\"5px\" fill=\"ivory\"/><text x=\"12.5%\" y=\"87.5%\" dominant-baseline=\"middle\" text-anchor=\"middle\" font-size=\"24\">2</text><rect x=\"100\" y=\"300\" width=\"100\" height=\"100\" stroke=\"white\" stroke-width=\"5px\" fill=\"antiquewhite\"/><text x=\"37.5%\" y=\"87.5%\" dominant-baseline=\"middle\" text-anchor=\"middle\" font-size=\"24\">4</text><rect x=\"200\" y=\"300\" width=\"100\" height=\"100\" stroke=\"white\" stroke-width=\"5px\" fill=\"lightsalmon\"/><text x=\"62.5%\" y=\"87.5%\" dominant-baseline=\"middle\" text-anchor=\"middle\" font-size=\"24\">8</text><rect x=\"300\" y=\"300\" width=\"100\" height=\"100\" stroke=\"white\" stroke-width=\"5px\" fill=\"orangered\"/><text x=\"87.5%\" y=\"87.5%\" dominant-baseline=\"middle\" text-anchor=\"middle\" font-size=\"24\">64</text></svg>"
      ],
      "text/plain": [
       "<IPython.core.display.HTML object>"
      ]
     },
     "metadata": {},
     "output_type": "display_data"
    },
    {
     "name": "stdout",
     "output_type": "stream",
     "text": [
      "\n",
      "Movimiento: Derecha\n",
      "Puntuacion: 276\n",
      "Numero de movimientos: 50\n"
     ]
    },
    {
     "data": {
      "text/html": [
       "<svg height=\"400\" width=\"400\"><rect x=\"0\" y=\"0\" width=\"100\" height=\"100\" stroke=\"white\" stroke-width=\"5px\" fill=\"silver\"/><rect x=\"100\" y=\"0\" width=\"100\" height=\"100\" stroke=\"white\" stroke-width=\"5px\" fill=\"silver\"/><rect x=\"200\" y=\"0\" width=\"100\" height=\"100\" stroke=\"white\" stroke-width=\"5px\" fill=\"silver\"/><rect x=\"300\" y=\"0\" width=\"100\" height=\"100\" stroke=\"white\" stroke-width=\"5px\" fill=\"silver\"/><rect x=\"0\" y=\"100\" width=\"100\" height=\"100\" stroke=\"white\" stroke-width=\"5px\" fill=\"silver\"/><rect x=\"100\" y=\"100\" width=\"100\" height=\"100\" stroke=\"white\" stroke-width=\"5px\" fill=\"silver\"/><rect x=\"200\" y=\"100\" width=\"100\" height=\"100\" stroke=\"white\" stroke-width=\"5px\" fill=\"ivory\"/><text x=\"62.5%\" y=\"37.5%\" dominant-baseline=\"middle\" text-anchor=\"middle\" font-size=\"24\">2</text><rect x=\"300\" y=\"100\" width=\"100\" height=\"100\" stroke=\"white\" stroke-width=\"5px\" fill=\"lightsalmon\"/><text x=\"87.5%\" y=\"37.5%\" dominant-baseline=\"middle\" text-anchor=\"middle\" font-size=\"24\">8</text><rect x=\"0\" y=\"200\" width=\"100\" height=\"100\" stroke=\"white\" stroke-width=\"5px\" fill=\"ivory\"/><text x=\"12.5%\" y=\"62.5%\" dominant-baseline=\"middle\" text-anchor=\"middle\" font-size=\"24\">2</text><rect x=\"100\" y=\"200\" width=\"100\" height=\"100\" stroke=\"white\" stroke-width=\"5px\" fill=\"ivory\"/><text x=\"37.5%\" y=\"62.5%\" dominant-baseline=\"middle\" text-anchor=\"middle\" font-size=\"24\">2</text><rect x=\"200\" y=\"200\" width=\"100\" height=\"100\" stroke=\"white\" stroke-width=\"5px\" fill=\"antiquewhite\"/><text x=\"62.5%\" y=\"62.5%\" dominant-baseline=\"middle\" text-anchor=\"middle\" font-size=\"24\">4</text><rect x=\"300\" y=\"200\" width=\"100\" height=\"100\" stroke=\"white\" stroke-width=\"5px\" fill=\"darksalmon\"/><text x=\"87.5%\" y=\"62.5%\" dominant-baseline=\"middle\" text-anchor=\"middle\" font-size=\"24\">16</text><rect x=\"0\" y=\"300\" width=\"100\" height=\"100\" stroke=\"white\" stroke-width=\"5px\" fill=\"silver\"/><rect x=\"100\" y=\"300\" width=\"100\" height=\"100\" stroke=\"white\" stroke-width=\"5px\" fill=\"lightsalmon\"/><text x=\"37.5%\" y=\"87.5%\" dominant-baseline=\"middle\" text-anchor=\"middle\" font-size=\"24\">8</text><rect x=\"200\" y=\"300\" width=\"100\" height=\"100\" stroke=\"white\" stroke-width=\"5px\" fill=\"lightsalmon\"/><text x=\"62.5%\" y=\"87.5%\" dominant-baseline=\"middle\" text-anchor=\"middle\" font-size=\"24\">8</text><rect x=\"300\" y=\"300\" width=\"100\" height=\"100\" stroke=\"white\" stroke-width=\"5px\" fill=\"orangered\"/><text x=\"87.5%\" y=\"87.5%\" dominant-baseline=\"middle\" text-anchor=\"middle\" font-size=\"24\">64</text></svg>"
      ],
      "text/plain": [
       "<IPython.core.display.HTML object>"
      ]
     },
     "metadata": {},
     "output_type": "display_data"
    },
    {
     "name": "stdout",
     "output_type": "stream",
     "text": [
      "\n",
      "Movimiento: Derecha\n",
      "Puntuacion: 292\n",
      "Numero de movimientos: 51\n"
     ]
    },
    {
     "data": {
      "text/html": [
       "<svg height=\"400\" width=\"400\"><rect x=\"0\" y=\"0\" width=\"100\" height=\"100\" stroke=\"white\" stroke-width=\"5px\" fill=\"silver\"/><rect x=\"100\" y=\"0\" width=\"100\" height=\"100\" stroke=\"white\" stroke-width=\"5px\" fill=\"silver\"/><rect x=\"200\" y=\"0\" width=\"100\" height=\"100\" stroke=\"white\" stroke-width=\"5px\" fill=\"silver\"/><rect x=\"300\" y=\"0\" width=\"100\" height=\"100\" stroke=\"white\" stroke-width=\"5px\" fill=\"silver\"/><rect x=\"0\" y=\"100\" width=\"100\" height=\"100\" stroke=\"white\" stroke-width=\"5px\" fill=\"silver\"/><rect x=\"100\" y=\"100\" width=\"100\" height=\"100\" stroke=\"white\" stroke-width=\"5px\" fill=\"silver\"/><rect x=\"200\" y=\"100\" width=\"100\" height=\"100\" stroke=\"white\" stroke-width=\"5px\" fill=\"ivory\"/><text x=\"62.5%\" y=\"37.5%\" dominant-baseline=\"middle\" text-anchor=\"middle\" font-size=\"24\">2</text><rect x=\"300\" y=\"100\" width=\"100\" height=\"100\" stroke=\"white\" stroke-width=\"5px\" fill=\"lightsalmon\"/><text x=\"87.5%\" y=\"37.5%\" dominant-baseline=\"middle\" text-anchor=\"middle\" font-size=\"24\">8</text><rect x=\"0\" y=\"200\" width=\"100\" height=\"100\" stroke=\"white\" stroke-width=\"5px\" fill=\"silver\"/><rect x=\"100\" y=\"200\" width=\"100\" height=\"100\" stroke=\"white\" stroke-width=\"5px\" fill=\"ivory\"/><text x=\"37.5%\" y=\"62.5%\" dominant-baseline=\"middle\" text-anchor=\"middle\" font-size=\"24\">2</text><rect x=\"200\" y=\"200\" width=\"100\" height=\"100\" stroke=\"white\" stroke-width=\"5px\" fill=\"antiquewhite\"/><text x=\"62.5%\" y=\"62.5%\" dominant-baseline=\"middle\" text-anchor=\"middle\" font-size=\"24\">4</text><rect x=\"300\" y=\"200\" width=\"100\" height=\"100\" stroke=\"white\" stroke-width=\"5px\" fill=\"darksalmon\"/><text x=\"87.5%\" y=\"62.5%\" dominant-baseline=\"middle\" text-anchor=\"middle\" font-size=\"24\">16</text><rect x=\"0\" y=\"300\" width=\"100\" height=\"100\" stroke=\"white\" stroke-width=\"5px\" fill=\"ivory\"/><text x=\"12.5%\" y=\"87.5%\" dominant-baseline=\"middle\" text-anchor=\"middle\" font-size=\"24\">2</text><rect x=\"100\" y=\"300\" width=\"100\" height=\"100\" stroke=\"white\" stroke-width=\"5px\" fill=\"ivory\"/><text x=\"37.5%\" y=\"87.5%\" dominant-baseline=\"middle\" text-anchor=\"middle\" font-size=\"24\">2</text><rect x=\"200\" y=\"300\" width=\"100\" height=\"100\" stroke=\"white\" stroke-width=\"5px\" fill=\"darksalmon\"/><text x=\"62.5%\" y=\"87.5%\" dominant-baseline=\"middle\" text-anchor=\"middle\" font-size=\"24\">16</text><rect x=\"300\" y=\"300\" width=\"100\" height=\"100\" stroke=\"white\" stroke-width=\"5px\" fill=\"orangered\"/><text x=\"87.5%\" y=\"87.5%\" dominant-baseline=\"middle\" text-anchor=\"middle\" font-size=\"24\">64</text></svg>"
      ],
      "text/plain": [
       "<IPython.core.display.HTML object>"
      ]
     },
     "metadata": {},
     "output_type": "display_data"
    },
    {
     "name": "stdout",
     "output_type": "stream",
     "text": [
      "\n",
      "Movimiento: Derecha\n",
      "Puntuacion: 292\n",
      "Numero de movimientos: 52\n"
     ]
    },
    {
     "data": {
      "text/html": [
       "<svg height=\"400\" width=\"400\"><rect x=\"0\" y=\"0\" width=\"100\" height=\"100\" stroke=\"white\" stroke-width=\"5px\" fill=\"silver\"/><rect x=\"100\" y=\"0\" width=\"100\" height=\"100\" stroke=\"white\" stroke-width=\"5px\" fill=\"silver\"/><rect x=\"200\" y=\"0\" width=\"100\" height=\"100\" stroke=\"white\" stroke-width=\"5px\" fill=\"silver\"/><rect x=\"300\" y=\"0\" width=\"100\" height=\"100\" stroke=\"white\" stroke-width=\"5px\" fill=\"silver\"/><rect x=\"0\" y=\"100\" width=\"100\" height=\"100\" stroke=\"white\" stroke-width=\"5px\" fill=\"silver\"/><rect x=\"100\" y=\"100\" width=\"100\" height=\"100\" stroke=\"white\" stroke-width=\"5px\" fill=\"silver\"/><rect x=\"200\" y=\"100\" width=\"100\" height=\"100\" stroke=\"white\" stroke-width=\"5px\" fill=\"ivory\"/><text x=\"62.5%\" y=\"37.5%\" dominant-baseline=\"middle\" text-anchor=\"middle\" font-size=\"24\">2</text><rect x=\"300\" y=\"100\" width=\"100\" height=\"100\" stroke=\"white\" stroke-width=\"5px\" fill=\"lightsalmon\"/><text x=\"87.5%\" y=\"37.5%\" dominant-baseline=\"middle\" text-anchor=\"middle\" font-size=\"24\">8</text><rect x=\"0\" y=\"200\" width=\"100\" height=\"100\" stroke=\"white\" stroke-width=\"5px\" fill=\"silver\"/><rect x=\"100\" y=\"200\" width=\"100\" height=\"100\" stroke=\"white\" stroke-width=\"5px\" fill=\"ivory\"/><text x=\"37.5%\" y=\"62.5%\" dominant-baseline=\"middle\" text-anchor=\"middle\" font-size=\"24\">2</text><rect x=\"200\" y=\"200\" width=\"100\" height=\"100\" stroke=\"white\" stroke-width=\"5px\" fill=\"antiquewhite\"/><text x=\"62.5%\" y=\"62.5%\" dominant-baseline=\"middle\" text-anchor=\"middle\" font-size=\"24\">4</text><rect x=\"300\" y=\"200\" width=\"100\" height=\"100\" stroke=\"white\" stroke-width=\"5px\" fill=\"darksalmon\"/><text x=\"87.5%\" y=\"62.5%\" dominant-baseline=\"middle\" text-anchor=\"middle\" font-size=\"24\">16</text><rect x=\"0\" y=\"300\" width=\"100\" height=\"100\" stroke=\"white\" stroke-width=\"5px\" fill=\"ivory\"/><text x=\"12.5%\" y=\"87.5%\" dominant-baseline=\"middle\" text-anchor=\"middle\" font-size=\"24\">2</text><rect x=\"100\" y=\"300\" width=\"100\" height=\"100\" stroke=\"white\" stroke-width=\"5px\" fill=\"antiquewhite\"/><text x=\"37.5%\" y=\"87.5%\" dominant-baseline=\"middle\" text-anchor=\"middle\" font-size=\"24\">4</text><rect x=\"200\" y=\"300\" width=\"100\" height=\"100\" stroke=\"white\" stroke-width=\"5px\" fill=\"darksalmon\"/><text x=\"62.5%\" y=\"87.5%\" dominant-baseline=\"middle\" text-anchor=\"middle\" font-size=\"24\">16</text><rect x=\"300\" y=\"300\" width=\"100\" height=\"100\" stroke=\"white\" stroke-width=\"5px\" fill=\"orangered\"/><text x=\"87.5%\" y=\"87.5%\" dominant-baseline=\"middle\" text-anchor=\"middle\" font-size=\"24\">64</text></svg>"
      ],
      "text/plain": [
       "<IPython.core.display.HTML object>"
      ]
     },
     "metadata": {},
     "output_type": "display_data"
    },
    {
     "name": "stdout",
     "output_type": "stream",
     "text": [
      "\n",
      "Movimiento: Abajo\n",
      "Puntuacion: 292\n",
      "Numero de movimientos: 53\n"
     ]
    },
    {
     "data": {
      "text/html": [
       "<svg height=\"400\" width=\"400\"><rect x=\"0\" y=\"0\" width=\"100\" height=\"100\" stroke=\"white\" stroke-width=\"5px\" fill=\"silver\"/><rect x=\"100\" y=\"0\" width=\"100\" height=\"100\" stroke=\"white\" stroke-width=\"5px\" fill=\"silver\"/><rect x=\"200\" y=\"0\" width=\"100\" height=\"100\" stroke=\"white\" stroke-width=\"5px\" fill=\"silver\"/><rect x=\"300\" y=\"0\" width=\"100\" height=\"100\" stroke=\"white\" stroke-width=\"5px\" fill=\"silver\"/><rect x=\"0\" y=\"100\" width=\"100\" height=\"100\" stroke=\"white\" stroke-width=\"5px\" fill=\"silver\"/><rect x=\"100\" y=\"100\" width=\"100\" height=\"100\" stroke=\"white\" stroke-width=\"5px\" fill=\"ivory\"/><text x=\"37.5%\" y=\"37.5%\" dominant-baseline=\"middle\" text-anchor=\"middle\" font-size=\"24\">2</text><rect x=\"200\" y=\"100\" width=\"100\" height=\"100\" stroke=\"white\" stroke-width=\"5px\" fill=\"ivory\"/><text x=\"62.5%\" y=\"37.5%\" dominant-baseline=\"middle\" text-anchor=\"middle\" font-size=\"24\">2</text><rect x=\"300\" y=\"100\" width=\"100\" height=\"100\" stroke=\"white\" stroke-width=\"5px\" fill=\"lightsalmon\"/><text x=\"87.5%\" y=\"37.5%\" dominant-baseline=\"middle\" text-anchor=\"middle\" font-size=\"24\">8</text><rect x=\"0\" y=\"200\" width=\"100\" height=\"100\" stroke=\"white\" stroke-width=\"5px\" fill=\"silver\"/><rect x=\"100\" y=\"200\" width=\"100\" height=\"100\" stroke=\"white\" stroke-width=\"5px\" fill=\"ivory\"/><text x=\"37.5%\" y=\"62.5%\" dominant-baseline=\"middle\" text-anchor=\"middle\" font-size=\"24\">2</text><rect x=\"200\" y=\"200\" width=\"100\" height=\"100\" stroke=\"white\" stroke-width=\"5px\" fill=\"antiquewhite\"/><text x=\"62.5%\" y=\"62.5%\" dominant-baseline=\"middle\" text-anchor=\"middle\" font-size=\"24\">4</text><rect x=\"300\" y=\"200\" width=\"100\" height=\"100\" stroke=\"white\" stroke-width=\"5px\" fill=\"darksalmon\"/><text x=\"87.5%\" y=\"62.5%\" dominant-baseline=\"middle\" text-anchor=\"middle\" font-size=\"24\">16</text><rect x=\"0\" y=\"300\" width=\"100\" height=\"100\" stroke=\"white\" stroke-width=\"5px\" fill=\"ivory\"/><text x=\"12.5%\" y=\"87.5%\" dominant-baseline=\"middle\" text-anchor=\"middle\" font-size=\"24\">2</text><rect x=\"100\" y=\"300\" width=\"100\" height=\"100\" stroke=\"white\" stroke-width=\"5px\" fill=\"antiquewhite\"/><text x=\"37.5%\" y=\"87.5%\" dominant-baseline=\"middle\" text-anchor=\"middle\" font-size=\"24\">4</text><rect x=\"200\" y=\"300\" width=\"100\" height=\"100\" stroke=\"white\" stroke-width=\"5px\" fill=\"darksalmon\"/><text x=\"62.5%\" y=\"87.5%\" dominant-baseline=\"middle\" text-anchor=\"middle\" font-size=\"24\">16</text><rect x=\"300\" y=\"300\" width=\"100\" height=\"100\" stroke=\"white\" stroke-width=\"5px\" fill=\"orangered\"/><text x=\"87.5%\" y=\"87.5%\" dominant-baseline=\"middle\" text-anchor=\"middle\" font-size=\"24\">64</text></svg>"
      ],
      "text/plain": [
       "<IPython.core.display.HTML object>"
      ]
     },
     "metadata": {},
     "output_type": "display_data"
    },
    {
     "name": "stdout",
     "output_type": "stream",
     "text": [
      "\n",
      "Movimiento: Derecha\n",
      "Puntuacion: 300\n",
      "Numero de movimientos: 54\n"
     ]
    },
    {
     "data": {
      "text/html": [
       "<svg height=\"400\" width=\"400\"><rect x=\"0\" y=\"0\" width=\"100\" height=\"100\" stroke=\"white\" stroke-width=\"5px\" fill=\"silver\"/><rect x=\"100\" y=\"0\" width=\"100\" height=\"100\" stroke=\"white\" stroke-width=\"5px\" fill=\"ivory\"/><text x=\"37.5%\" y=\"12.5%\" dominant-baseline=\"middle\" text-anchor=\"middle\" font-size=\"24\">2</text><rect x=\"200\" y=\"0\" width=\"100\" height=\"100\" stroke=\"white\" stroke-width=\"5px\" fill=\"silver\"/><rect x=\"300\" y=\"0\" width=\"100\" height=\"100\" stroke=\"white\" stroke-width=\"5px\" fill=\"silver\"/><rect x=\"0\" y=\"100\" width=\"100\" height=\"100\" stroke=\"white\" stroke-width=\"5px\" fill=\"silver\"/><rect x=\"100\" y=\"100\" width=\"100\" height=\"100\" stroke=\"white\" stroke-width=\"5px\" fill=\"silver\"/><rect x=\"200\" y=\"100\" width=\"100\" height=\"100\" stroke=\"white\" stroke-width=\"5px\" fill=\"ivory\"/><text x=\"62.5%\" y=\"37.5%\" dominant-baseline=\"middle\" text-anchor=\"middle\" font-size=\"24\">2</text><rect x=\"300\" y=\"100\" width=\"100\" height=\"100\" stroke=\"white\" stroke-width=\"5px\" fill=\"lightsalmon\"/><text x=\"87.5%\" y=\"37.5%\" dominant-baseline=\"middle\" text-anchor=\"middle\" font-size=\"24\">8</text><rect x=\"0\" y=\"200\" width=\"100\" height=\"100\" stroke=\"white\" stroke-width=\"5px\" fill=\"silver\"/><rect x=\"100\" y=\"200\" width=\"100\" height=\"100\" stroke=\"white\" stroke-width=\"5px\" fill=\"silver\"/><rect x=\"200\" y=\"200\" width=\"100\" height=\"100\" stroke=\"white\" stroke-width=\"5px\" fill=\"lightsalmon\"/><text x=\"62.5%\" y=\"62.5%\" dominant-baseline=\"middle\" text-anchor=\"middle\" font-size=\"24\">8</text><rect x=\"300\" y=\"200\" width=\"100\" height=\"100\" stroke=\"white\" stroke-width=\"5px\" fill=\"darksalmon\"/><text x=\"87.5%\" y=\"62.5%\" dominant-baseline=\"middle\" text-anchor=\"middle\" font-size=\"24\">16</text><rect x=\"0\" y=\"300\" width=\"100\" height=\"100\" stroke=\"white\" stroke-width=\"5px\" fill=\"ivory\"/><text x=\"12.5%\" y=\"87.5%\" dominant-baseline=\"middle\" text-anchor=\"middle\" font-size=\"24\">2</text><rect x=\"100\" y=\"300\" width=\"100\" height=\"100\" stroke=\"white\" stroke-width=\"5px\" fill=\"antiquewhite\"/><text x=\"37.5%\" y=\"87.5%\" dominant-baseline=\"middle\" text-anchor=\"middle\" font-size=\"24\">4</text><rect x=\"200\" y=\"300\" width=\"100\" height=\"100\" stroke=\"white\" stroke-width=\"5px\" fill=\"darksalmon\"/><text x=\"62.5%\" y=\"87.5%\" dominant-baseline=\"middle\" text-anchor=\"middle\" font-size=\"24\">16</text><rect x=\"300\" y=\"300\" width=\"100\" height=\"100\" stroke=\"white\" stroke-width=\"5px\" fill=\"orangered\"/><text x=\"87.5%\" y=\"87.5%\" dominant-baseline=\"middle\" text-anchor=\"middle\" font-size=\"24\">64</text></svg>"
      ],
      "text/plain": [
       "<IPython.core.display.HTML object>"
      ]
     },
     "metadata": {},
     "output_type": "display_data"
    },
    {
     "name": "stdout",
     "output_type": "stream",
     "text": [
      "\n",
      "Movimiento: Derecha\n",
      "Puntuacion: 300\n",
      "Numero de movimientos: 55\n"
     ]
    },
    {
     "data": {
      "text/html": [
       "<svg height=\"400\" width=\"400\"><rect x=\"0\" y=\"0\" width=\"100\" height=\"100\" stroke=\"white\" stroke-width=\"5px\" fill=\"silver\"/><rect x=\"100\" y=\"0\" width=\"100\" height=\"100\" stroke=\"white\" stroke-width=\"5px\" fill=\"silver\"/><rect x=\"200\" y=\"0\" width=\"100\" height=\"100\" stroke=\"white\" stroke-width=\"5px\" fill=\"silver\"/><rect x=\"300\" y=\"0\" width=\"100\" height=\"100\" stroke=\"white\" stroke-width=\"5px\" fill=\"ivory\"/><text x=\"87.5%\" y=\"12.5%\" dominant-baseline=\"middle\" text-anchor=\"middle\" font-size=\"24\">2</text><rect x=\"0\" y=\"100\" width=\"100\" height=\"100\" stroke=\"white\" stroke-width=\"5px\" fill=\"silver\"/><rect x=\"100\" y=\"100\" width=\"100\" height=\"100\" stroke=\"white\" stroke-width=\"5px\" fill=\"silver\"/><rect x=\"200\" y=\"100\" width=\"100\" height=\"100\" stroke=\"white\" stroke-width=\"5px\" fill=\"ivory\"/><text x=\"62.5%\" y=\"37.5%\" dominant-baseline=\"middle\" text-anchor=\"middle\" font-size=\"24\">2</text><rect x=\"300\" y=\"100\" width=\"100\" height=\"100\" stroke=\"white\" stroke-width=\"5px\" fill=\"lightsalmon\"/><text x=\"87.5%\" y=\"37.5%\" dominant-baseline=\"middle\" text-anchor=\"middle\" font-size=\"24\">8</text><rect x=\"0\" y=\"200\" width=\"100\" height=\"100\" stroke=\"white\" stroke-width=\"5px\" fill=\"silver\"/><rect x=\"100\" y=\"200\" width=\"100\" height=\"100\" stroke=\"white\" stroke-width=\"5px\" fill=\"ivory\"/><text x=\"37.5%\" y=\"62.5%\" dominant-baseline=\"middle\" text-anchor=\"middle\" font-size=\"24\">2</text><rect x=\"200\" y=\"200\" width=\"100\" height=\"100\" stroke=\"white\" stroke-width=\"5px\" fill=\"lightsalmon\"/><text x=\"62.5%\" y=\"62.5%\" dominant-baseline=\"middle\" text-anchor=\"middle\" font-size=\"24\">8</text><rect x=\"300\" y=\"200\" width=\"100\" height=\"100\" stroke=\"white\" stroke-width=\"5px\" fill=\"darksalmon\"/><text x=\"87.5%\" y=\"62.5%\" dominant-baseline=\"middle\" text-anchor=\"middle\" font-size=\"24\">16</text><rect x=\"0\" y=\"300\" width=\"100\" height=\"100\" stroke=\"white\" stroke-width=\"5px\" fill=\"ivory\"/><text x=\"12.5%\" y=\"87.5%\" dominant-baseline=\"middle\" text-anchor=\"middle\" font-size=\"24\">2</text><rect x=\"100\" y=\"300\" width=\"100\" height=\"100\" stroke=\"white\" stroke-width=\"5px\" fill=\"antiquewhite\"/><text x=\"37.5%\" y=\"87.5%\" dominant-baseline=\"middle\" text-anchor=\"middle\" font-size=\"24\">4</text><rect x=\"200\" y=\"300\" width=\"100\" height=\"100\" stroke=\"white\" stroke-width=\"5px\" fill=\"darksalmon\"/><text x=\"62.5%\" y=\"87.5%\" dominant-baseline=\"middle\" text-anchor=\"middle\" font-size=\"24\">16</text><rect x=\"300\" y=\"300\" width=\"100\" height=\"100\" stroke=\"white\" stroke-width=\"5px\" fill=\"orangered\"/><text x=\"87.5%\" y=\"87.5%\" dominant-baseline=\"middle\" text-anchor=\"middle\" font-size=\"24\">64</text></svg>"
      ],
      "text/plain": [
       "<IPython.core.display.HTML object>"
      ]
     },
     "metadata": {},
     "output_type": "display_data"
    },
    {
     "name": "stdout",
     "output_type": "stream",
     "text": [
      "\n",
      "Movimiento: Abajo\n",
      "Puntuacion: 300\n",
      "Numero de movimientos: 56\n"
     ]
    },
    {
     "data": {
      "text/html": [
       "<svg height=\"400\" width=\"400\"><rect x=\"0\" y=\"0\" width=\"100\" height=\"100\" stroke=\"white\" stroke-width=\"5px\" fill=\"silver\"/><rect x=\"100\" y=\"0\" width=\"100\" height=\"100\" stroke=\"white\" stroke-width=\"5px\" fill=\"silver\"/><rect x=\"200\" y=\"0\" width=\"100\" height=\"100\" stroke=\"white\" stroke-width=\"5px\" fill=\"ivory\"/><text x=\"62.5%\" y=\"12.5%\" dominant-baseline=\"middle\" text-anchor=\"middle\" font-size=\"24\">2</text><rect x=\"300\" y=\"0\" width=\"100\" height=\"100\" stroke=\"white\" stroke-width=\"5px\" fill=\"ivory\"/><text x=\"87.5%\" y=\"12.5%\" dominant-baseline=\"middle\" text-anchor=\"middle\" font-size=\"24\">2</text><rect x=\"0\" y=\"100\" width=\"100\" height=\"100\" stroke=\"white\" stroke-width=\"5px\" fill=\"silver\"/><rect x=\"100\" y=\"100\" width=\"100\" height=\"100\" stroke=\"white\" stroke-width=\"5px\" fill=\"silver\"/><rect x=\"200\" y=\"100\" width=\"100\" height=\"100\" stroke=\"white\" stroke-width=\"5px\" fill=\"ivory\"/><text x=\"62.5%\" y=\"37.5%\" dominant-baseline=\"middle\" text-anchor=\"middle\" font-size=\"24\">2</text><rect x=\"300\" y=\"100\" width=\"100\" height=\"100\" stroke=\"white\" stroke-width=\"5px\" fill=\"lightsalmon\"/><text x=\"87.5%\" y=\"37.5%\" dominant-baseline=\"middle\" text-anchor=\"middle\" font-size=\"24\">8</text><rect x=\"0\" y=\"200\" width=\"100\" height=\"100\" stroke=\"white\" stroke-width=\"5px\" fill=\"silver\"/><rect x=\"100\" y=\"200\" width=\"100\" height=\"100\" stroke=\"white\" stroke-width=\"5px\" fill=\"ivory\"/><text x=\"37.5%\" y=\"62.5%\" dominant-baseline=\"middle\" text-anchor=\"middle\" font-size=\"24\">2</text><rect x=\"200\" y=\"200\" width=\"100\" height=\"100\" stroke=\"white\" stroke-width=\"5px\" fill=\"lightsalmon\"/><text x=\"62.5%\" y=\"62.5%\" dominant-baseline=\"middle\" text-anchor=\"middle\" font-size=\"24\">8</text><rect x=\"300\" y=\"200\" width=\"100\" height=\"100\" stroke=\"white\" stroke-width=\"5px\" fill=\"darksalmon\"/><text x=\"87.5%\" y=\"62.5%\" dominant-baseline=\"middle\" text-anchor=\"middle\" font-size=\"24\">16</text><rect x=\"0\" y=\"300\" width=\"100\" height=\"100\" stroke=\"white\" stroke-width=\"5px\" fill=\"ivory\"/><text x=\"12.5%\" y=\"87.5%\" dominant-baseline=\"middle\" text-anchor=\"middle\" font-size=\"24\">2</text><rect x=\"100\" y=\"300\" width=\"100\" height=\"100\" stroke=\"white\" stroke-width=\"5px\" fill=\"antiquewhite\"/><text x=\"37.5%\" y=\"87.5%\" dominant-baseline=\"middle\" text-anchor=\"middle\" font-size=\"24\">4</text><rect x=\"200\" y=\"300\" width=\"100\" height=\"100\" stroke=\"white\" stroke-width=\"5px\" fill=\"darksalmon\"/><text x=\"62.5%\" y=\"87.5%\" dominant-baseline=\"middle\" text-anchor=\"middle\" font-size=\"24\">16</text><rect x=\"300\" y=\"300\" width=\"100\" height=\"100\" stroke=\"white\" stroke-width=\"5px\" fill=\"orangered\"/><text x=\"87.5%\" y=\"87.5%\" dominant-baseline=\"middle\" text-anchor=\"middle\" font-size=\"24\">64</text></svg>"
      ],
      "text/plain": [
       "<IPython.core.display.HTML object>"
      ]
     },
     "metadata": {},
     "output_type": "display_data"
    },
    {
     "name": "stdout",
     "output_type": "stream",
     "text": [
      "\n",
      "Movimiento: Derecha\n",
      "Puntuacion: 300\n",
      "Numero de movimientos: 57\n"
     ]
    },
    {
     "data": {
      "text/html": [
       "<svg height=\"400\" width=\"400\"><rect x=\"0\" y=\"0\" width=\"100\" height=\"100\" stroke=\"white\" stroke-width=\"5px\" fill=\"silver\"/><rect x=\"100\" y=\"0\" width=\"100\" height=\"100\" stroke=\"white\" stroke-width=\"5px\" fill=\"antiquewhite\"/><text x=\"37.5%\" y=\"12.5%\" dominant-baseline=\"middle\" text-anchor=\"middle\" font-size=\"24\">4</text><rect x=\"200\" y=\"0\" width=\"100\" height=\"100\" stroke=\"white\" stroke-width=\"5px\" fill=\"silver\"/><rect x=\"300\" y=\"0\" width=\"100\" height=\"100\" stroke=\"white\" stroke-width=\"5px\" fill=\"ivory\"/><text x=\"87.5%\" y=\"12.5%\" dominant-baseline=\"middle\" text-anchor=\"middle\" font-size=\"24\">2</text><rect x=\"0\" y=\"100\" width=\"100\" height=\"100\" stroke=\"white\" stroke-width=\"5px\" fill=\"silver\"/><rect x=\"100\" y=\"100\" width=\"100\" height=\"100\" stroke=\"white\" stroke-width=\"5px\" fill=\"silver\"/><rect x=\"200\" y=\"100\" width=\"100\" height=\"100\" stroke=\"white\" stroke-width=\"5px\" fill=\"antiquewhite\"/><text x=\"62.5%\" y=\"37.5%\" dominant-baseline=\"middle\" text-anchor=\"middle\" font-size=\"24\">4</text><rect x=\"300\" y=\"100\" width=\"100\" height=\"100\" stroke=\"white\" stroke-width=\"5px\" fill=\"lightsalmon\"/><text x=\"87.5%\" y=\"37.5%\" dominant-baseline=\"middle\" text-anchor=\"middle\" font-size=\"24\">8</text><rect x=\"0\" y=\"200\" width=\"100\" height=\"100\" stroke=\"white\" stroke-width=\"5px\" fill=\"silver\"/><rect x=\"100\" y=\"200\" width=\"100\" height=\"100\" stroke=\"white\" stroke-width=\"5px\" fill=\"ivory\"/><text x=\"37.5%\" y=\"62.5%\" dominant-baseline=\"middle\" text-anchor=\"middle\" font-size=\"24\">2</text><rect x=\"200\" y=\"200\" width=\"100\" height=\"100\" stroke=\"white\" stroke-width=\"5px\" fill=\"lightsalmon\"/><text x=\"62.5%\" y=\"62.5%\" dominant-baseline=\"middle\" text-anchor=\"middle\" font-size=\"24\">8</text><rect x=\"300\" y=\"200\" width=\"100\" height=\"100\" stroke=\"white\" stroke-width=\"5px\" fill=\"darksalmon\"/><text x=\"87.5%\" y=\"62.5%\" dominant-baseline=\"middle\" text-anchor=\"middle\" font-size=\"24\">16</text><rect x=\"0\" y=\"300\" width=\"100\" height=\"100\" stroke=\"white\" stroke-width=\"5px\" fill=\"ivory\"/><text x=\"12.5%\" y=\"87.5%\" dominant-baseline=\"middle\" text-anchor=\"middle\" font-size=\"24\">2</text><rect x=\"100\" y=\"300\" width=\"100\" height=\"100\" stroke=\"white\" stroke-width=\"5px\" fill=\"antiquewhite\"/><text x=\"37.5%\" y=\"87.5%\" dominant-baseline=\"middle\" text-anchor=\"middle\" font-size=\"24\">4</text><rect x=\"200\" y=\"300\" width=\"100\" height=\"100\" stroke=\"white\" stroke-width=\"5px\" fill=\"darksalmon\"/><text x=\"62.5%\" y=\"87.5%\" dominant-baseline=\"middle\" text-anchor=\"middle\" font-size=\"24\">16</text><rect x=\"300\" y=\"300\" width=\"100\" height=\"100\" stroke=\"white\" stroke-width=\"5px\" fill=\"orangered\"/><text x=\"87.5%\" y=\"87.5%\" dominant-baseline=\"middle\" text-anchor=\"middle\" font-size=\"24\">64</text></svg>"
      ],
      "text/plain": [
       "<IPython.core.display.HTML object>"
      ]
     },
     "metadata": {},
     "output_type": "display_data"
    },
    {
     "name": "stdout",
     "output_type": "stream",
     "text": [
      "\n",
      "Movimiento: Derecha\n",
      "Puntuacion: 308\n",
      "Numero de movimientos: 58\n"
     ]
    },
    {
     "data": {
      "text/html": [
       "<svg height=\"400\" width=\"400\"><rect x=\"0\" y=\"0\" width=\"100\" height=\"100\" stroke=\"white\" stroke-width=\"5px\" fill=\"silver\"/><rect x=\"100\" y=\"0\" width=\"100\" height=\"100\" stroke=\"white\" stroke-width=\"5px\" fill=\"silver\"/><rect x=\"200\" y=\"0\" width=\"100\" height=\"100\" stroke=\"white\" stroke-width=\"5px\" fill=\"silver\"/><rect x=\"300\" y=\"0\" width=\"100\" height=\"100\" stroke=\"white\" stroke-width=\"5px\" fill=\"ivory\"/><text x=\"87.5%\" y=\"12.5%\" dominant-baseline=\"middle\" text-anchor=\"middle\" font-size=\"24\">2</text><rect x=\"0\" y=\"100\" width=\"100\" height=\"100\" stroke=\"white\" stroke-width=\"5px\" fill=\"ivory\"/><text x=\"12.5%\" y=\"37.5%\" dominant-baseline=\"middle\" text-anchor=\"middle\" font-size=\"24\">2</text><rect x=\"100\" y=\"100\" width=\"100\" height=\"100\" stroke=\"white\" stroke-width=\"5px\" fill=\"silver\"/><rect x=\"200\" y=\"100\" width=\"100\" height=\"100\" stroke=\"white\" stroke-width=\"5px\" fill=\"lightsalmon\"/><text x=\"62.5%\" y=\"37.5%\" dominant-baseline=\"middle\" text-anchor=\"middle\" font-size=\"24\">8</text><rect x=\"300\" y=\"100\" width=\"100\" height=\"100\" stroke=\"white\" stroke-width=\"5px\" fill=\"lightsalmon\"/><text x=\"87.5%\" y=\"37.5%\" dominant-baseline=\"middle\" text-anchor=\"middle\" font-size=\"24\">8</text><rect x=\"0\" y=\"200\" width=\"100\" height=\"100\" stroke=\"white\" stroke-width=\"5px\" fill=\"silver\"/><rect x=\"100\" y=\"200\" width=\"100\" height=\"100\" stroke=\"white\" stroke-width=\"5px\" fill=\"ivory\"/><text x=\"37.5%\" y=\"62.5%\" dominant-baseline=\"middle\" text-anchor=\"middle\" font-size=\"24\">2</text><rect x=\"200\" y=\"200\" width=\"100\" height=\"100\" stroke=\"white\" stroke-width=\"5px\" fill=\"lightsalmon\"/><text x=\"62.5%\" y=\"62.5%\" dominant-baseline=\"middle\" text-anchor=\"middle\" font-size=\"24\">8</text><rect x=\"300\" y=\"200\" width=\"100\" height=\"100\" stroke=\"white\" stroke-width=\"5px\" fill=\"darksalmon\"/><text x=\"87.5%\" y=\"62.5%\" dominant-baseline=\"middle\" text-anchor=\"middle\" font-size=\"24\">16</text><rect x=\"0\" y=\"300\" width=\"100\" height=\"100\" stroke=\"white\" stroke-width=\"5px\" fill=\"ivory\"/><text x=\"12.5%\" y=\"87.5%\" dominant-baseline=\"middle\" text-anchor=\"middle\" font-size=\"24\">2</text><rect x=\"100\" y=\"300\" width=\"100\" height=\"100\" stroke=\"white\" stroke-width=\"5px\" fill=\"antiquewhite\"/><text x=\"37.5%\" y=\"87.5%\" dominant-baseline=\"middle\" text-anchor=\"middle\" font-size=\"24\">4</text><rect x=\"200\" y=\"300\" width=\"100\" height=\"100\" stroke=\"white\" stroke-width=\"5px\" fill=\"darksalmon\"/><text x=\"62.5%\" y=\"87.5%\" dominant-baseline=\"middle\" text-anchor=\"middle\" font-size=\"24\">16</text><rect x=\"300\" y=\"300\" width=\"100\" height=\"100\" stroke=\"white\" stroke-width=\"5px\" fill=\"orangered\"/><text x=\"87.5%\" y=\"87.5%\" dominant-baseline=\"middle\" text-anchor=\"middle\" font-size=\"24\">64</text></svg>"
      ],
      "text/plain": [
       "<IPython.core.display.HTML object>"
      ]
     },
     "metadata": {},
     "output_type": "display_data"
    },
    {
     "name": "stdout",
     "output_type": "stream",
     "text": [
      "\n",
      "Movimiento: Derecha\n",
      "Puntuacion: 348\n",
      "Numero de movimientos: 59\n"
     ]
    },
    {
     "data": {
      "text/html": [
       "<svg height=\"400\" width=\"400\"><rect x=\"0\" y=\"0\" width=\"100\" height=\"100\" stroke=\"white\" stroke-width=\"5px\" fill=\"ivory\"/><text x=\"12.5%\" y=\"12.5%\" dominant-baseline=\"middle\" text-anchor=\"middle\" font-size=\"24\">2</text><rect x=\"100\" y=\"0\" width=\"100\" height=\"100\" stroke=\"white\" stroke-width=\"5px\" fill=\"silver\"/><rect x=\"200\" y=\"0\" width=\"100\" height=\"100\" stroke=\"white\" stroke-width=\"5px\" fill=\"silver\"/><rect x=\"300\" y=\"0\" width=\"100\" height=\"100\" stroke=\"white\" stroke-width=\"5px\" fill=\"ivory\"/><text x=\"87.5%\" y=\"12.5%\" dominant-baseline=\"middle\" text-anchor=\"middle\" font-size=\"24\">2</text><rect x=\"0\" y=\"100\" width=\"100\" height=\"100\" stroke=\"white\" stroke-width=\"5px\" fill=\"silver\"/><rect x=\"100\" y=\"100\" width=\"100\" height=\"100\" stroke=\"white\" stroke-width=\"5px\" fill=\"silver\"/><rect x=\"200\" y=\"100\" width=\"100\" height=\"100\" stroke=\"white\" stroke-width=\"5px\" fill=\"silver\"/><rect x=\"300\" y=\"100\" width=\"100\" height=\"100\" stroke=\"white\" stroke-width=\"5px\" fill=\"lightsalmon\"/><text x=\"87.5%\" y=\"37.5%\" dominant-baseline=\"middle\" text-anchor=\"middle\" font-size=\"24\">8</text><rect x=\"0\" y=\"200\" width=\"100\" height=\"100\" stroke=\"white\" stroke-width=\"5px\" fill=\"silver\"/><rect x=\"100\" y=\"200\" width=\"100\" height=\"100\" stroke=\"white\" stroke-width=\"5px\" fill=\"silver\"/><rect x=\"200\" y=\"200\" width=\"100\" height=\"100\" stroke=\"white\" stroke-width=\"5px\" fill=\"ivory\"/><text x=\"62.5%\" y=\"62.5%\" dominant-baseline=\"middle\" text-anchor=\"middle\" font-size=\"24\">2</text><rect x=\"300\" y=\"200\" width=\"100\" height=\"100\" stroke=\"white\" stroke-width=\"5px\" fill=\"tomato\"/><text x=\"87.5%\" y=\"62.5%\" dominant-baseline=\"middle\" text-anchor=\"middle\" font-size=\"24\">32</text><rect x=\"0\" y=\"300\" width=\"100\" height=\"100\" stroke=\"white\" stroke-width=\"5px\" fill=\"silver\"/><rect x=\"100\" y=\"300\" width=\"100\" height=\"100\" stroke=\"white\" stroke-width=\"5px\" fill=\"lightsalmon\"/><text x=\"37.5%\" y=\"87.5%\" dominant-baseline=\"middle\" text-anchor=\"middle\" font-size=\"24\">8</text><rect x=\"200\" y=\"300\" width=\"100\" height=\"100\" stroke=\"white\" stroke-width=\"5px\" fill=\"darksalmon\"/><text x=\"62.5%\" y=\"87.5%\" dominant-baseline=\"middle\" text-anchor=\"middle\" font-size=\"24\">16</text><rect x=\"300\" y=\"300\" width=\"100\" height=\"100\" stroke=\"white\" stroke-width=\"5px\" fill=\"orangered\"/><text x=\"87.5%\" y=\"87.5%\" dominant-baseline=\"middle\" text-anchor=\"middle\" font-size=\"24\">64</text></svg>"
      ],
      "text/plain": [
       "<IPython.core.display.HTML object>"
      ]
     },
     "metadata": {},
     "output_type": "display_data"
    },
    {
     "name": "stdout",
     "output_type": "stream",
     "text": [
      "\n",
      "Movimiento: Derecha\n",
      "Puntuacion: 348\n",
      "Numero de movimientos: 60\n"
     ]
    },
    {
     "data": {
      "text/html": [
       "<svg height=\"400\" width=\"400\"><rect x=\"0\" y=\"0\" width=\"100\" height=\"100\" stroke=\"white\" stroke-width=\"5px\" fill=\"silver\"/><rect x=\"100\" y=\"0\" width=\"100\" height=\"100\" stroke=\"white\" stroke-width=\"5px\" fill=\"silver\"/><rect x=\"200\" y=\"0\" width=\"100\" height=\"100\" stroke=\"white\" stroke-width=\"5px\" fill=\"ivory\"/><text x=\"62.5%\" y=\"12.5%\" dominant-baseline=\"middle\" text-anchor=\"middle\" font-size=\"24\">2</text><rect x=\"300\" y=\"0\" width=\"100\" height=\"100\" stroke=\"white\" stroke-width=\"5px\" fill=\"ivory\"/><text x=\"87.5%\" y=\"12.5%\" dominant-baseline=\"middle\" text-anchor=\"middle\" font-size=\"24\">2</text><rect x=\"0\" y=\"100\" width=\"100\" height=\"100\" stroke=\"white\" stroke-width=\"5px\" fill=\"silver\"/><rect x=\"100\" y=\"100\" width=\"100\" height=\"100\" stroke=\"white\" stroke-width=\"5px\" fill=\"silver\"/><rect x=\"200\" y=\"100\" width=\"100\" height=\"100\" stroke=\"white\" stroke-width=\"5px\" fill=\"silver\"/><rect x=\"300\" y=\"100\" width=\"100\" height=\"100\" stroke=\"white\" stroke-width=\"5px\" fill=\"lightsalmon\"/><text x=\"87.5%\" y=\"37.5%\" dominant-baseline=\"middle\" text-anchor=\"middle\" font-size=\"24\">8</text><rect x=\"0\" y=\"200\" width=\"100\" height=\"100\" stroke=\"white\" stroke-width=\"5px\" fill=\"silver\"/><rect x=\"100\" y=\"200\" width=\"100\" height=\"100\" stroke=\"white\" stroke-width=\"5px\" fill=\"silver\"/><rect x=\"200\" y=\"200\" width=\"100\" height=\"100\" stroke=\"white\" stroke-width=\"5px\" fill=\"ivory\"/><text x=\"62.5%\" y=\"62.5%\" dominant-baseline=\"middle\" text-anchor=\"middle\" font-size=\"24\">2</text><rect x=\"300\" y=\"200\" width=\"100\" height=\"100\" stroke=\"white\" stroke-width=\"5px\" fill=\"tomato\"/><text x=\"87.5%\" y=\"62.5%\" dominant-baseline=\"middle\" text-anchor=\"middle\" font-size=\"24\">32</text><rect x=\"0\" y=\"300\" width=\"100\" height=\"100\" stroke=\"white\" stroke-width=\"5px\" fill=\"ivory\"/><text x=\"12.5%\" y=\"87.5%\" dominant-baseline=\"middle\" text-anchor=\"middle\" font-size=\"24\">2</text><rect x=\"100\" y=\"300\" width=\"100\" height=\"100\" stroke=\"white\" stroke-width=\"5px\" fill=\"lightsalmon\"/><text x=\"37.5%\" y=\"87.5%\" dominant-baseline=\"middle\" text-anchor=\"middle\" font-size=\"24\">8</text><rect x=\"200\" y=\"300\" width=\"100\" height=\"100\" stroke=\"white\" stroke-width=\"5px\" fill=\"darksalmon\"/><text x=\"62.5%\" y=\"87.5%\" dominant-baseline=\"middle\" text-anchor=\"middle\" font-size=\"24\">16</text><rect x=\"300\" y=\"300\" width=\"100\" height=\"100\" stroke=\"white\" stroke-width=\"5px\" fill=\"orangered\"/><text x=\"87.5%\" y=\"87.5%\" dominant-baseline=\"middle\" text-anchor=\"middle\" font-size=\"24\">64</text></svg>"
      ],
      "text/plain": [
       "<IPython.core.display.HTML object>"
      ]
     },
     "metadata": {},
     "output_type": "display_data"
    },
    {
     "name": "stdout",
     "output_type": "stream",
     "text": [
      "\n",
      "Movimiento: Derecha\n",
      "Puntuacion: 348\n",
      "Numero de movimientos: 61\n"
     ]
    },
    {
     "data": {
      "text/html": [
       "<svg height=\"400\" width=\"400\"><rect x=\"0\" y=\"0\" width=\"100\" height=\"100\" stroke=\"white\" stroke-width=\"5px\" fill=\"silver\"/><rect x=\"100\" y=\"0\" width=\"100\" height=\"100\" stroke=\"white\" stroke-width=\"5px\" fill=\"silver\"/><rect x=\"200\" y=\"0\" width=\"100\" height=\"100\" stroke=\"white\" stroke-width=\"5px\" fill=\"silver\"/><rect x=\"300\" y=\"0\" width=\"100\" height=\"100\" stroke=\"white\" stroke-width=\"5px\" fill=\"ivory\"/><text x=\"87.5%\" y=\"12.5%\" dominant-baseline=\"middle\" text-anchor=\"middle\" font-size=\"24\">2</text><rect x=\"0\" y=\"100\" width=\"100\" height=\"100\" stroke=\"white\" stroke-width=\"5px\" fill=\"silver\"/><rect x=\"100\" y=\"100\" width=\"100\" height=\"100\" stroke=\"white\" stroke-width=\"5px\" fill=\"silver\"/><rect x=\"200\" y=\"100\" width=\"100\" height=\"100\" stroke=\"white\" stroke-width=\"5px\" fill=\"silver\"/><rect x=\"300\" y=\"100\" width=\"100\" height=\"100\" stroke=\"white\" stroke-width=\"5px\" fill=\"lightsalmon\"/><text x=\"87.5%\" y=\"37.5%\" dominant-baseline=\"middle\" text-anchor=\"middle\" font-size=\"24\">8</text><rect x=\"0\" y=\"200\" width=\"100\" height=\"100\" stroke=\"white\" stroke-width=\"5px\" fill=\"ivory\"/><text x=\"12.5%\" y=\"62.5%\" dominant-baseline=\"middle\" text-anchor=\"middle\" font-size=\"24\">2</text><rect x=\"100\" y=\"200\" width=\"100\" height=\"100\" stroke=\"white\" stroke-width=\"5px\" fill=\"silver\"/><rect x=\"200\" y=\"200\" width=\"100\" height=\"100\" stroke=\"white\" stroke-width=\"5px\" fill=\"antiquewhite\"/><text x=\"62.5%\" y=\"62.5%\" dominant-baseline=\"middle\" text-anchor=\"middle\" font-size=\"24\">4</text><rect x=\"300\" y=\"200\" width=\"100\" height=\"100\" stroke=\"white\" stroke-width=\"5px\" fill=\"tomato\"/><text x=\"87.5%\" y=\"62.5%\" dominant-baseline=\"middle\" text-anchor=\"middle\" font-size=\"24\">32</text><rect x=\"0\" y=\"300\" width=\"100\" height=\"100\" stroke=\"white\" stroke-width=\"5px\" fill=\"ivory\"/><text x=\"12.5%\" y=\"87.5%\" dominant-baseline=\"middle\" text-anchor=\"middle\" font-size=\"24\">2</text><rect x=\"100\" y=\"300\" width=\"100\" height=\"100\" stroke=\"white\" stroke-width=\"5px\" fill=\"lightsalmon\"/><text x=\"37.5%\" y=\"87.5%\" dominant-baseline=\"middle\" text-anchor=\"middle\" font-size=\"24\">8</text><rect x=\"200\" y=\"300\" width=\"100\" height=\"100\" stroke=\"white\" stroke-width=\"5px\" fill=\"darksalmon\"/><text x=\"62.5%\" y=\"87.5%\" dominant-baseline=\"middle\" text-anchor=\"middle\" font-size=\"24\">16</text><rect x=\"300\" y=\"300\" width=\"100\" height=\"100\" stroke=\"white\" stroke-width=\"5px\" fill=\"orangered\"/><text x=\"87.5%\" y=\"87.5%\" dominant-baseline=\"middle\" text-anchor=\"middle\" font-size=\"24\">64</text></svg>"
      ],
      "text/plain": [
       "<IPython.core.display.HTML object>"
      ]
     },
     "metadata": {},
     "output_type": "display_data"
    },
    {
     "name": "stdout",
     "output_type": "stream",
     "text": [
      "\n",
      "Movimiento: Derecha\n",
      "Puntuacion: 348\n",
      "Numero de movimientos: 62\n"
     ]
    },
    {
     "data": {
      "text/html": [
       "<svg height=\"400\" width=\"400\"><rect x=\"0\" y=\"0\" width=\"100\" height=\"100\" stroke=\"white\" stroke-width=\"5px\" fill=\"silver\"/><rect x=\"100\" y=\"0\" width=\"100\" height=\"100\" stroke=\"white\" stroke-width=\"5px\" fill=\"silver\"/><rect x=\"200\" y=\"0\" width=\"100\" height=\"100\" stroke=\"white\" stroke-width=\"5px\" fill=\"silver\"/><rect x=\"300\" y=\"0\" width=\"100\" height=\"100\" stroke=\"white\" stroke-width=\"5px\" fill=\"ivory\"/><text x=\"87.5%\" y=\"12.5%\" dominant-baseline=\"middle\" text-anchor=\"middle\" font-size=\"24\">2</text><rect x=\"0\" y=\"100\" width=\"100\" height=\"100\" stroke=\"white\" stroke-width=\"5px\" fill=\"silver\"/><rect x=\"100\" y=\"100\" width=\"100\" height=\"100\" stroke=\"white\" stroke-width=\"5px\" fill=\"silver\"/><rect x=\"200\" y=\"100\" width=\"100\" height=\"100\" stroke=\"white\" stroke-width=\"5px\" fill=\"silver\"/><rect x=\"300\" y=\"100\" width=\"100\" height=\"100\" stroke=\"white\" stroke-width=\"5px\" fill=\"lightsalmon\"/><text x=\"87.5%\" y=\"37.5%\" dominant-baseline=\"middle\" text-anchor=\"middle\" font-size=\"24\">8</text><rect x=\"0\" y=\"200\" width=\"100\" height=\"100\" stroke=\"white\" stroke-width=\"5px\" fill=\"ivory\"/><text x=\"12.5%\" y=\"62.5%\" dominant-baseline=\"middle\" text-anchor=\"middle\" font-size=\"24\">2</text><rect x=\"100\" y=\"200\" width=\"100\" height=\"100\" stroke=\"white\" stroke-width=\"5px\" fill=\"silver\"/><rect x=\"200\" y=\"200\" width=\"100\" height=\"100\" stroke=\"white\" stroke-width=\"5px\" fill=\"antiquewhite\"/><text x=\"62.5%\" y=\"62.5%\" dominant-baseline=\"middle\" text-anchor=\"middle\" font-size=\"24\">4</text><rect x=\"300\" y=\"200\" width=\"100\" height=\"100\" stroke=\"white\" stroke-width=\"5px\" fill=\"tomato\"/><text x=\"87.5%\" y=\"62.5%\" dominant-baseline=\"middle\" text-anchor=\"middle\" font-size=\"24\">32</text><rect x=\"0\" y=\"300\" width=\"100\" height=\"100\" stroke=\"white\" stroke-width=\"5px\" fill=\"antiquewhite\"/><text x=\"12.5%\" y=\"87.5%\" dominant-baseline=\"middle\" text-anchor=\"middle\" font-size=\"24\">4</text><rect x=\"100\" y=\"300\" width=\"100\" height=\"100\" stroke=\"white\" stroke-width=\"5px\" fill=\"lightsalmon\"/><text x=\"37.5%\" y=\"87.5%\" dominant-baseline=\"middle\" text-anchor=\"middle\" font-size=\"24\">8</text><rect x=\"200\" y=\"300\" width=\"100\" height=\"100\" stroke=\"white\" stroke-width=\"5px\" fill=\"darksalmon\"/><text x=\"62.5%\" y=\"87.5%\" dominant-baseline=\"middle\" text-anchor=\"middle\" font-size=\"24\">16</text><rect x=\"300\" y=\"300\" width=\"100\" height=\"100\" stroke=\"white\" stroke-width=\"5px\" fill=\"orangered\"/><text x=\"87.5%\" y=\"87.5%\" dominant-baseline=\"middle\" text-anchor=\"middle\" font-size=\"24\">64</text></svg>"
      ],
      "text/plain": [
       "<IPython.core.display.HTML object>"
      ]
     },
     "metadata": {},
     "output_type": "display_data"
    },
    {
     "name": "stdout",
     "output_type": "stream",
     "text": [
      "\n",
      "Movimiento: Abajo\n",
      "Puntuacion: 348\n",
      "Numero de movimientos: 63\n"
     ]
    },
    {
     "data": {
      "text/html": [
       "<svg height=\"400\" width=\"400\"><rect x=\"0\" y=\"0\" width=\"100\" height=\"100\" stroke=\"white\" stroke-width=\"5px\" fill=\"antiquewhite\"/><text x=\"12.5%\" y=\"12.5%\" dominant-baseline=\"middle\" text-anchor=\"middle\" font-size=\"24\">4</text><rect x=\"100\" y=\"0\" width=\"100\" height=\"100\" stroke=\"white\" stroke-width=\"5px\" fill=\"silver\"/><rect x=\"200\" y=\"0\" width=\"100\" height=\"100\" stroke=\"white\" stroke-width=\"5px\" fill=\"silver\"/><rect x=\"300\" y=\"0\" width=\"100\" height=\"100\" stroke=\"white\" stroke-width=\"5px\" fill=\"ivory\"/><text x=\"87.5%\" y=\"12.5%\" dominant-baseline=\"middle\" text-anchor=\"middle\" font-size=\"24\">2</text><rect x=\"0\" y=\"100\" width=\"100\" height=\"100\" stroke=\"white\" stroke-width=\"5px\" fill=\"silver\"/><rect x=\"100\" y=\"100\" width=\"100\" height=\"100\" stroke=\"white\" stroke-width=\"5px\" fill=\"silver\"/><rect x=\"200\" y=\"100\" width=\"100\" height=\"100\" stroke=\"white\" stroke-width=\"5px\" fill=\"silver\"/><rect x=\"300\" y=\"100\" width=\"100\" height=\"100\" stroke=\"white\" stroke-width=\"5px\" fill=\"lightsalmon\"/><text x=\"87.5%\" y=\"37.5%\" dominant-baseline=\"middle\" text-anchor=\"middle\" font-size=\"24\">8</text><rect x=\"0\" y=\"200\" width=\"100\" height=\"100\" stroke=\"white\" stroke-width=\"5px\" fill=\"ivory\"/><text x=\"12.5%\" y=\"62.5%\" dominant-baseline=\"middle\" text-anchor=\"middle\" font-size=\"24\">2</text><rect x=\"100\" y=\"200\" width=\"100\" height=\"100\" stroke=\"white\" stroke-width=\"5px\" fill=\"silver\"/><rect x=\"200\" y=\"200\" width=\"100\" height=\"100\" stroke=\"white\" stroke-width=\"5px\" fill=\"antiquewhite\"/><text x=\"62.5%\" y=\"62.5%\" dominant-baseline=\"middle\" text-anchor=\"middle\" font-size=\"24\">4</text><rect x=\"300\" y=\"200\" width=\"100\" height=\"100\" stroke=\"white\" stroke-width=\"5px\" fill=\"tomato\"/><text x=\"87.5%\" y=\"62.5%\" dominant-baseline=\"middle\" text-anchor=\"middle\" font-size=\"24\">32</text><rect x=\"0\" y=\"300\" width=\"100\" height=\"100\" stroke=\"white\" stroke-width=\"5px\" fill=\"antiquewhite\"/><text x=\"12.5%\" y=\"87.5%\" dominant-baseline=\"middle\" text-anchor=\"middle\" font-size=\"24\">4</text><rect x=\"100\" y=\"300\" width=\"100\" height=\"100\" stroke=\"white\" stroke-width=\"5px\" fill=\"lightsalmon\"/><text x=\"37.5%\" y=\"87.5%\" dominant-baseline=\"middle\" text-anchor=\"middle\" font-size=\"24\">8</text><rect x=\"200\" y=\"300\" width=\"100\" height=\"100\" stroke=\"white\" stroke-width=\"5px\" fill=\"darksalmon\"/><text x=\"62.5%\" y=\"87.5%\" dominant-baseline=\"middle\" text-anchor=\"middle\" font-size=\"24\">16</text><rect x=\"300\" y=\"300\" width=\"100\" height=\"100\" stroke=\"white\" stroke-width=\"5px\" fill=\"orangered\"/><text x=\"87.5%\" y=\"87.5%\" dominant-baseline=\"middle\" text-anchor=\"middle\" font-size=\"24\">64</text></svg>"
      ],
      "text/plain": [
       "<IPython.core.display.HTML object>"
      ]
     },
     "metadata": {},
     "output_type": "display_data"
    },
    {
     "name": "stdout",
     "output_type": "stream",
     "text": [
      "\n",
      "Movimiento: Derecha\n",
      "Puntuacion: 348\n",
      "Numero de movimientos: 64\n"
     ]
    },
    {
     "data": {
      "text/html": [
       "<svg height=\"400\" width=\"400\"><rect x=\"0\" y=\"0\" width=\"100\" height=\"100\" stroke=\"white\" stroke-width=\"5px\" fill=\"silver\"/><rect x=\"100\" y=\"0\" width=\"100\" height=\"100\" stroke=\"white\" stroke-width=\"5px\" fill=\"silver\"/><rect x=\"200\" y=\"0\" width=\"100\" height=\"100\" stroke=\"white\" stroke-width=\"5px\" fill=\"silver\"/><rect x=\"300\" y=\"0\" width=\"100\" height=\"100\" stroke=\"white\" stroke-width=\"5px\" fill=\"ivory\"/><text x=\"87.5%\" y=\"12.5%\" dominant-baseline=\"middle\" text-anchor=\"middle\" font-size=\"24\">2</text><rect x=\"0\" y=\"100\" width=\"100\" height=\"100\" stroke=\"white\" stroke-width=\"5px\" fill=\"silver\"/><rect x=\"100\" y=\"100\" width=\"100\" height=\"100\" stroke=\"white\" stroke-width=\"5px\" fill=\"silver\"/><rect x=\"200\" y=\"100\" width=\"100\" height=\"100\" stroke=\"white\" stroke-width=\"5px\" fill=\"antiquewhite\"/><text x=\"62.5%\" y=\"37.5%\" dominant-baseline=\"middle\" text-anchor=\"middle\" font-size=\"24\">4</text><rect x=\"300\" y=\"100\" width=\"100\" height=\"100\" stroke=\"white\" stroke-width=\"5px\" fill=\"lightsalmon\"/><text x=\"87.5%\" y=\"37.5%\" dominant-baseline=\"middle\" text-anchor=\"middle\" font-size=\"24\">8</text><rect x=\"0\" y=\"200\" width=\"100\" height=\"100\" stroke=\"white\" stroke-width=\"5px\" fill=\"antiquewhite\"/><text x=\"12.5%\" y=\"62.5%\" dominant-baseline=\"middle\" text-anchor=\"middle\" font-size=\"24\">4</text><rect x=\"100\" y=\"200\" width=\"100\" height=\"100\" stroke=\"white\" stroke-width=\"5px\" fill=\"ivory\"/><text x=\"37.5%\" y=\"62.5%\" dominant-baseline=\"middle\" text-anchor=\"middle\" font-size=\"24\">2</text><rect x=\"200\" y=\"200\" width=\"100\" height=\"100\" stroke=\"white\" stroke-width=\"5px\" fill=\"antiquewhite\"/><text x=\"62.5%\" y=\"62.5%\" dominant-baseline=\"middle\" text-anchor=\"middle\" font-size=\"24\">4</text><rect x=\"300\" y=\"200\" width=\"100\" height=\"100\" stroke=\"white\" stroke-width=\"5px\" fill=\"tomato\"/><text x=\"87.5%\" y=\"62.5%\" dominant-baseline=\"middle\" text-anchor=\"middle\" font-size=\"24\">32</text><rect x=\"0\" y=\"300\" width=\"100\" height=\"100\" stroke=\"white\" stroke-width=\"5px\" fill=\"antiquewhite\"/><text x=\"12.5%\" y=\"87.5%\" dominant-baseline=\"middle\" text-anchor=\"middle\" font-size=\"24\">4</text><rect x=\"100\" y=\"300\" width=\"100\" height=\"100\" stroke=\"white\" stroke-width=\"5px\" fill=\"lightsalmon\"/><text x=\"37.5%\" y=\"87.5%\" dominant-baseline=\"middle\" text-anchor=\"middle\" font-size=\"24\">8</text><rect x=\"200\" y=\"300\" width=\"100\" height=\"100\" stroke=\"white\" stroke-width=\"5px\" fill=\"darksalmon\"/><text x=\"62.5%\" y=\"87.5%\" dominant-baseline=\"middle\" text-anchor=\"middle\" font-size=\"24\">16</text><rect x=\"300\" y=\"300\" width=\"100\" height=\"100\" stroke=\"white\" stroke-width=\"5px\" fill=\"orangered\"/><text x=\"87.5%\" y=\"87.5%\" dominant-baseline=\"middle\" text-anchor=\"middle\" font-size=\"24\">64</text></svg>"
      ],
      "text/plain": [
       "<IPython.core.display.HTML object>"
      ]
     },
     "metadata": {},
     "output_type": "display_data"
    },
    {
     "name": "stdout",
     "output_type": "stream",
     "text": [
      "\n",
      "Movimiento: Derecha\n",
      "Puntuacion: 364\n",
      "Numero de movimientos: 65\n"
     ]
    },
    {
     "data": {
      "text/html": [
       "<svg height=\"400\" width=\"400\"><rect x=\"0\" y=\"0\" width=\"100\" height=\"100\" stroke=\"white\" stroke-width=\"5px\" fill=\"silver\"/><rect x=\"100\" y=\"0\" width=\"100\" height=\"100\" stroke=\"white\" stroke-width=\"5px\" fill=\"silver\"/><rect x=\"200\" y=\"0\" width=\"100\" height=\"100\" stroke=\"white\" stroke-width=\"5px\" fill=\"silver\"/><rect x=\"300\" y=\"0\" width=\"100\" height=\"100\" stroke=\"white\" stroke-width=\"5px\" fill=\"ivory\"/><text x=\"87.5%\" y=\"12.5%\" dominant-baseline=\"middle\" text-anchor=\"middle\" font-size=\"24\">2</text><rect x=\"0\" y=\"100\" width=\"100\" height=\"100\" stroke=\"white\" stroke-width=\"5px\" fill=\"silver\"/><rect x=\"100\" y=\"100\" width=\"100\" height=\"100\" stroke=\"white\" stroke-width=\"5px\" fill=\"silver\"/><rect x=\"200\" y=\"100\" width=\"100\" height=\"100\" stroke=\"white\" stroke-width=\"5px\" fill=\"silver\"/><rect x=\"300\" y=\"100\" width=\"100\" height=\"100\" stroke=\"white\" stroke-width=\"5px\" fill=\"lightsalmon\"/><text x=\"87.5%\" y=\"37.5%\" dominant-baseline=\"middle\" text-anchor=\"middle\" font-size=\"24\">8</text><rect x=\"0\" y=\"200\" width=\"100\" height=\"100\" stroke=\"white\" stroke-width=\"5px\" fill=\"silver\"/><rect x=\"100\" y=\"200\" width=\"100\" height=\"100\" stroke=\"white\" stroke-width=\"5px\" fill=\"ivory\"/><text x=\"37.5%\" y=\"62.5%\" dominant-baseline=\"middle\" text-anchor=\"middle\" font-size=\"24\">2</text><rect x=\"200\" y=\"200\" width=\"100\" height=\"100\" stroke=\"white\" stroke-width=\"5px\" fill=\"lightsalmon\"/><text x=\"62.5%\" y=\"62.5%\" dominant-baseline=\"middle\" text-anchor=\"middle\" font-size=\"24\">8</text><rect x=\"300\" y=\"200\" width=\"100\" height=\"100\" stroke=\"white\" stroke-width=\"5px\" fill=\"tomato\"/><text x=\"87.5%\" y=\"62.5%\" dominant-baseline=\"middle\" text-anchor=\"middle\" font-size=\"24\">32</text><rect x=\"0\" y=\"300\" width=\"100\" height=\"100\" stroke=\"white\" stroke-width=\"5px\" fill=\"ivory\"/><text x=\"12.5%\" y=\"87.5%\" dominant-baseline=\"middle\" text-anchor=\"middle\" font-size=\"24\">2</text><rect x=\"100\" y=\"300\" width=\"100\" height=\"100\" stroke=\"white\" stroke-width=\"5px\" fill=\"darksalmon\"/><text x=\"37.5%\" y=\"87.5%\" dominant-baseline=\"middle\" text-anchor=\"middle\" font-size=\"24\">16</text><rect x=\"200\" y=\"300\" width=\"100\" height=\"100\" stroke=\"white\" stroke-width=\"5px\" fill=\"darksalmon\"/><text x=\"62.5%\" y=\"87.5%\" dominant-baseline=\"middle\" text-anchor=\"middle\" font-size=\"24\">16</text><rect x=\"300\" y=\"300\" width=\"100\" height=\"100\" stroke=\"white\" stroke-width=\"5px\" fill=\"orangered\"/><text x=\"87.5%\" y=\"87.5%\" dominant-baseline=\"middle\" text-anchor=\"middle\" font-size=\"24\">64</text></svg>"
      ],
      "text/plain": [
       "<IPython.core.display.HTML object>"
      ]
     },
     "metadata": {},
     "output_type": "display_data"
    },
    {
     "name": "stdout",
     "output_type": "stream",
     "text": [
      "\n",
      "Movimiento: Abajo\n",
      "Puntuacion: 364\n",
      "Numero de movimientos: 66\n"
     ]
    },
    {
     "data": {
      "text/html": [
       "<svg height=\"400\" width=\"400\"><rect x=\"0\" y=\"0\" width=\"100\" height=\"100\" stroke=\"white\" stroke-width=\"5px\" fill=\"silver\"/><rect x=\"100\" y=\"0\" width=\"100\" height=\"100\" stroke=\"white\" stroke-width=\"5px\" fill=\"ivory\"/><text x=\"37.5%\" y=\"12.5%\" dominant-baseline=\"middle\" text-anchor=\"middle\" font-size=\"24\">2</text><rect x=\"200\" y=\"0\" width=\"100\" height=\"100\" stroke=\"white\" stroke-width=\"5px\" fill=\"silver\"/><rect x=\"300\" y=\"0\" width=\"100\" height=\"100\" stroke=\"white\" stroke-width=\"5px\" fill=\"ivory\"/><text x=\"87.5%\" y=\"12.5%\" dominant-baseline=\"middle\" text-anchor=\"middle\" font-size=\"24\">2</text><rect x=\"0\" y=\"100\" width=\"100\" height=\"100\" stroke=\"white\" stroke-width=\"5px\" fill=\"silver\"/><rect x=\"100\" y=\"100\" width=\"100\" height=\"100\" stroke=\"white\" stroke-width=\"5px\" fill=\"silver\"/><rect x=\"200\" y=\"100\" width=\"100\" height=\"100\" stroke=\"white\" stroke-width=\"5px\" fill=\"silver\"/><rect x=\"300\" y=\"100\" width=\"100\" height=\"100\" stroke=\"white\" stroke-width=\"5px\" fill=\"lightsalmon\"/><text x=\"87.5%\" y=\"37.5%\" dominant-baseline=\"middle\" text-anchor=\"middle\" font-size=\"24\">8</text><rect x=\"0\" y=\"200\" width=\"100\" height=\"100\" stroke=\"white\" stroke-width=\"5px\" fill=\"silver\"/><rect x=\"100\" y=\"200\" width=\"100\" height=\"100\" stroke=\"white\" stroke-width=\"5px\" fill=\"ivory\"/><text x=\"37.5%\" y=\"62.5%\" dominant-baseline=\"middle\" text-anchor=\"middle\" font-size=\"24\">2</text><rect x=\"200\" y=\"200\" width=\"100\" height=\"100\" stroke=\"white\" stroke-width=\"5px\" fill=\"lightsalmon\"/><text x=\"62.5%\" y=\"62.5%\" dominant-baseline=\"middle\" text-anchor=\"middle\" font-size=\"24\">8</text><rect x=\"300\" y=\"200\" width=\"100\" height=\"100\" stroke=\"white\" stroke-width=\"5px\" fill=\"tomato\"/><text x=\"87.5%\" y=\"62.5%\" dominant-baseline=\"middle\" text-anchor=\"middle\" font-size=\"24\">32</text><rect x=\"0\" y=\"300\" width=\"100\" height=\"100\" stroke=\"white\" stroke-width=\"5px\" fill=\"ivory\"/><text x=\"12.5%\" y=\"87.5%\" dominant-baseline=\"middle\" text-anchor=\"middle\" font-size=\"24\">2</text><rect x=\"100\" y=\"300\" width=\"100\" height=\"100\" stroke=\"white\" stroke-width=\"5px\" fill=\"darksalmon\"/><text x=\"37.5%\" y=\"87.5%\" dominant-baseline=\"middle\" text-anchor=\"middle\" font-size=\"24\">16</text><rect x=\"200\" y=\"300\" width=\"100\" height=\"100\" stroke=\"white\" stroke-width=\"5px\" fill=\"darksalmon\"/><text x=\"62.5%\" y=\"87.5%\" dominant-baseline=\"middle\" text-anchor=\"middle\" font-size=\"24\">16</text><rect x=\"300\" y=\"300\" width=\"100\" height=\"100\" stroke=\"white\" stroke-width=\"5px\" fill=\"orangered\"/><text x=\"87.5%\" y=\"87.5%\" dominant-baseline=\"middle\" text-anchor=\"middle\" font-size=\"24\">64</text></svg>"
      ],
      "text/plain": [
       "<IPython.core.display.HTML object>"
      ]
     },
     "metadata": {},
     "output_type": "display_data"
    },
    {
     "name": "stdout",
     "output_type": "stream",
     "text": [
      "\n",
      "Movimiento: Derecha\n",
      "Puntuacion: 396\n",
      "Numero de movimientos: 67\n"
     ]
    },
    {
     "data": {
      "text/html": [
       "<svg height=\"400\" width=\"400\"><rect x=\"0\" y=\"0\" width=\"100\" height=\"100\" stroke=\"white\" stroke-width=\"5px\" fill=\"silver\"/><rect x=\"100\" y=\"0\" width=\"100\" height=\"100\" stroke=\"white\" stroke-width=\"5px\" fill=\"silver\"/><rect x=\"200\" y=\"0\" width=\"100\" height=\"100\" stroke=\"white\" stroke-width=\"5px\" fill=\"silver\"/><rect x=\"300\" y=\"0\" width=\"100\" height=\"100\" stroke=\"white\" stroke-width=\"5px\" fill=\"ivory\"/><text x=\"87.5%\" y=\"12.5%\" dominant-baseline=\"middle\" text-anchor=\"middle\" font-size=\"24\">2</text><rect x=\"0\" y=\"100\" width=\"100\" height=\"100\" stroke=\"white\" stroke-width=\"5px\" fill=\"silver\"/><rect x=\"100\" y=\"100\" width=\"100\" height=\"100\" stroke=\"white\" stroke-width=\"5px\" fill=\"silver\"/><rect x=\"200\" y=\"100\" width=\"100\" height=\"100\" stroke=\"white\" stroke-width=\"5px\" fill=\"silver\"/><rect x=\"300\" y=\"100\" width=\"100\" height=\"100\" stroke=\"white\" stroke-width=\"5px\" fill=\"lightsalmon\"/><text x=\"87.5%\" y=\"37.5%\" dominant-baseline=\"middle\" text-anchor=\"middle\" font-size=\"24\">8</text><rect x=\"0\" y=\"200\" width=\"100\" height=\"100\" stroke=\"white\" stroke-width=\"5px\" fill=\"ivory\"/><text x=\"12.5%\" y=\"62.5%\" dominant-baseline=\"middle\" text-anchor=\"middle\" font-size=\"24\">2</text><rect x=\"100\" y=\"200\" width=\"100\" height=\"100\" stroke=\"white\" stroke-width=\"5px\" fill=\"antiquewhite\"/><text x=\"37.5%\" y=\"62.5%\" dominant-baseline=\"middle\" text-anchor=\"middle\" font-size=\"24\">4</text><rect x=\"200\" y=\"200\" width=\"100\" height=\"100\" stroke=\"white\" stroke-width=\"5px\" fill=\"lightsalmon\"/><text x=\"62.5%\" y=\"62.5%\" dominant-baseline=\"middle\" text-anchor=\"middle\" font-size=\"24\">8</text><rect x=\"300\" y=\"200\" width=\"100\" height=\"100\" stroke=\"white\" stroke-width=\"5px\" fill=\"tomato\"/><text x=\"87.5%\" y=\"62.5%\" dominant-baseline=\"middle\" text-anchor=\"middle\" font-size=\"24\">32</text><rect x=\"0\" y=\"300\" width=\"100\" height=\"100\" stroke=\"white\" stroke-width=\"5px\" fill=\"silver\"/><rect x=\"100\" y=\"300\" width=\"100\" height=\"100\" stroke=\"white\" stroke-width=\"5px\" fill=\"ivory\"/><text x=\"37.5%\" y=\"87.5%\" dominant-baseline=\"middle\" text-anchor=\"middle\" font-size=\"24\">2</text><rect x=\"200\" y=\"300\" width=\"100\" height=\"100\" stroke=\"white\" stroke-width=\"5px\" fill=\"tomato\"/><text x=\"62.5%\" y=\"87.5%\" dominant-baseline=\"middle\" text-anchor=\"middle\" font-size=\"24\">32</text><rect x=\"300\" y=\"300\" width=\"100\" height=\"100\" stroke=\"white\" stroke-width=\"5px\" fill=\"orangered\"/><text x=\"87.5%\" y=\"87.5%\" dominant-baseline=\"middle\" text-anchor=\"middle\" font-size=\"24\">64</text></svg>"
      ],
      "text/plain": [
       "<IPython.core.display.HTML object>"
      ]
     },
     "metadata": {},
     "output_type": "display_data"
    },
    {
     "name": "stdout",
     "output_type": "stream",
     "text": [
      "\n",
      "Movimiento: Derecha\n",
      "Puntuacion: 400\n",
      "Numero de movimientos: 68\n"
     ]
    },
    {
     "data": {
      "text/html": [
       "<svg height=\"400\" width=\"400\"><rect x=\"0\" y=\"0\" width=\"100\" height=\"100\" stroke=\"white\" stroke-width=\"5px\" fill=\"silver\"/><rect x=\"100\" y=\"0\" width=\"100\" height=\"100\" stroke=\"white\" stroke-width=\"5px\" fill=\"silver\"/><rect x=\"200\" y=\"0\" width=\"100\" height=\"100\" stroke=\"white\" stroke-width=\"5px\" fill=\"silver\"/><rect x=\"300\" y=\"0\" width=\"100\" height=\"100\" stroke=\"white\" stroke-width=\"5px\" fill=\"ivory\"/><text x=\"87.5%\" y=\"12.5%\" dominant-baseline=\"middle\" text-anchor=\"middle\" font-size=\"24\">2</text><rect x=\"0\" y=\"100\" width=\"100\" height=\"100\" stroke=\"white\" stroke-width=\"5px\" fill=\"antiquewhite\"/><text x=\"12.5%\" y=\"37.5%\" dominant-baseline=\"middle\" text-anchor=\"middle\" font-size=\"24\">4</text><rect x=\"100\" y=\"100\" width=\"100\" height=\"100\" stroke=\"white\" stroke-width=\"5px\" fill=\"silver\"/><rect x=\"200\" y=\"100\" width=\"100\" height=\"100\" stroke=\"white\" stroke-width=\"5px\" fill=\"silver\"/><rect x=\"300\" y=\"100\" width=\"100\" height=\"100\" stroke=\"white\" stroke-width=\"5px\" fill=\"lightsalmon\"/><text x=\"87.5%\" y=\"37.5%\" dominant-baseline=\"middle\" text-anchor=\"middle\" font-size=\"24\">8</text><rect x=\"0\" y=\"200\" width=\"100\" height=\"100\" stroke=\"white\" stroke-width=\"5px\" fill=\"silver\"/><rect x=\"100\" y=\"200\" width=\"100\" height=\"100\" stroke=\"white\" stroke-width=\"5px\" fill=\"antiquewhite\"/><text x=\"37.5%\" y=\"62.5%\" dominant-baseline=\"middle\" text-anchor=\"middle\" font-size=\"24\">4</text><rect x=\"200\" y=\"200\" width=\"100\" height=\"100\" stroke=\"white\" stroke-width=\"5px\" fill=\"lightsalmon\"/><text x=\"62.5%\" y=\"62.5%\" dominant-baseline=\"middle\" text-anchor=\"middle\" font-size=\"24\">8</text><rect x=\"300\" y=\"200\" width=\"100\" height=\"100\" stroke=\"white\" stroke-width=\"5px\" fill=\"tomato\"/><text x=\"87.5%\" y=\"62.5%\" dominant-baseline=\"middle\" text-anchor=\"middle\" font-size=\"24\">32</text><rect x=\"0\" y=\"300\" width=\"100\" height=\"100\" stroke=\"white\" stroke-width=\"5px\" fill=\"silver\"/><rect x=\"100\" y=\"300\" width=\"100\" height=\"100\" stroke=\"white\" stroke-width=\"5px\" fill=\"antiquewhite\"/><text x=\"37.5%\" y=\"87.5%\" dominant-baseline=\"middle\" text-anchor=\"middle\" font-size=\"24\">4</text><rect x=\"200\" y=\"300\" width=\"100\" height=\"100\" stroke=\"white\" stroke-width=\"5px\" fill=\"tomato\"/><text x=\"62.5%\" y=\"87.5%\" dominant-baseline=\"middle\" text-anchor=\"middle\" font-size=\"24\">32</text><rect x=\"300\" y=\"300\" width=\"100\" height=\"100\" stroke=\"white\" stroke-width=\"5px\" fill=\"orangered\"/><text x=\"87.5%\" y=\"87.5%\" dominant-baseline=\"middle\" text-anchor=\"middle\" font-size=\"24\">64</text></svg>"
      ],
      "text/plain": [
       "<IPython.core.display.HTML object>"
      ]
     },
     "metadata": {},
     "output_type": "display_data"
    },
    {
     "name": "stdout",
     "output_type": "stream",
     "text": [
      "\n",
      "Movimiento: Derecha\n",
      "Puntuacion: 400\n",
      "Numero de movimientos: 69\n"
     ]
    },
    {
     "data": {
      "text/html": [
       "<svg height=\"400\" width=\"400\"><rect x=\"0\" y=\"0\" width=\"100\" height=\"100\" stroke=\"white\" stroke-width=\"5px\" fill=\"silver\"/><rect x=\"100\" y=\"0\" width=\"100\" height=\"100\" stroke=\"white\" stroke-width=\"5px\" fill=\"silver\"/><rect x=\"200\" y=\"0\" width=\"100\" height=\"100\" stroke=\"white\" stroke-width=\"5px\" fill=\"silver\"/><rect x=\"300\" y=\"0\" width=\"100\" height=\"100\" stroke=\"white\" stroke-width=\"5px\" fill=\"ivory\"/><text x=\"87.5%\" y=\"12.5%\" dominant-baseline=\"middle\" text-anchor=\"middle\" font-size=\"24\">2</text><rect x=\"0\" y=\"100\" width=\"100\" height=\"100\" stroke=\"white\" stroke-width=\"5px\" fill=\"silver\"/><rect x=\"100\" y=\"100\" width=\"100\" height=\"100\" stroke=\"white\" stroke-width=\"5px\" fill=\"silver\"/><rect x=\"200\" y=\"100\" width=\"100\" height=\"100\" stroke=\"white\" stroke-width=\"5px\" fill=\"silver\"/><rect x=\"300\" y=\"100\" width=\"100\" height=\"100\" stroke=\"white\" stroke-width=\"5px\" fill=\"lightsalmon\"/><text x=\"87.5%\" y=\"37.5%\" dominant-baseline=\"middle\" text-anchor=\"middle\" font-size=\"24\">8</text><rect x=\"0\" y=\"200\" width=\"100\" height=\"100\" stroke=\"white\" stroke-width=\"5px\" fill=\"silver\"/><rect x=\"100\" y=\"200\" width=\"100\" height=\"100\" stroke=\"white\" stroke-width=\"5px\" fill=\"ivory\"/><text x=\"37.5%\" y=\"62.5%\" dominant-baseline=\"middle\" text-anchor=\"middle\" font-size=\"24\">2</text><rect x=\"200\" y=\"200\" width=\"100\" height=\"100\" stroke=\"white\" stroke-width=\"5px\" fill=\"lightsalmon\"/><text x=\"62.5%\" y=\"62.5%\" dominant-baseline=\"middle\" text-anchor=\"middle\" font-size=\"24\">8</text><rect x=\"300\" y=\"200\" width=\"100\" height=\"100\" stroke=\"white\" stroke-width=\"5px\" fill=\"tomato\"/><text x=\"87.5%\" y=\"62.5%\" dominant-baseline=\"middle\" text-anchor=\"middle\" font-size=\"24\">32</text><rect x=\"0\" y=\"300\" width=\"100\" height=\"100\" stroke=\"white\" stroke-width=\"5px\" fill=\"antiquewhite\"/><text x=\"12.5%\" y=\"87.5%\" dominant-baseline=\"middle\" text-anchor=\"middle\" font-size=\"24\">4</text><rect x=\"100\" y=\"300\" width=\"100\" height=\"100\" stroke=\"white\" stroke-width=\"5px\" fill=\"lightsalmon\"/><text x=\"37.5%\" y=\"87.5%\" dominant-baseline=\"middle\" text-anchor=\"middle\" font-size=\"24\">8</text><rect x=\"200\" y=\"300\" width=\"100\" height=\"100\" stroke=\"white\" stroke-width=\"5px\" fill=\"tomato\"/><text x=\"62.5%\" y=\"87.5%\" dominant-baseline=\"middle\" text-anchor=\"middle\" font-size=\"24\">32</text><rect x=\"300\" y=\"300\" width=\"100\" height=\"100\" stroke=\"white\" stroke-width=\"5px\" fill=\"orangered\"/><text x=\"87.5%\" y=\"87.5%\" dominant-baseline=\"middle\" text-anchor=\"middle\" font-size=\"24\">64</text></svg>"
      ],
      "text/plain": [
       "<IPython.core.display.HTML object>"
      ]
     },
     "metadata": {},
     "output_type": "display_data"
    },
    {
     "name": "stdout",
     "output_type": "stream",
     "text": [
      "\n",
      "Movimiento: Abajo\n",
      "Puntuacion: 400\n",
      "Numero de movimientos: 70\n"
     ]
    },
    {
     "data": {
      "text/html": [
       "<svg height=\"400\" width=\"400\"><rect x=\"0\" y=\"0\" width=\"100\" height=\"100\" stroke=\"white\" stroke-width=\"5px\" fill=\"silver\"/><rect x=\"100\" y=\"0\" width=\"100\" height=\"100\" stroke=\"white\" stroke-width=\"5px\" fill=\"silver\"/><rect x=\"200\" y=\"0\" width=\"100\" height=\"100\" stroke=\"white\" stroke-width=\"5px\" fill=\"ivory\"/><text x=\"62.5%\" y=\"12.5%\" dominant-baseline=\"middle\" text-anchor=\"middle\" font-size=\"24\">2</text><rect x=\"300\" y=\"0\" width=\"100\" height=\"100\" stroke=\"white\" stroke-width=\"5px\" fill=\"ivory\"/><text x=\"87.5%\" y=\"12.5%\" dominant-baseline=\"middle\" text-anchor=\"middle\" font-size=\"24\">2</text><rect x=\"0\" y=\"100\" width=\"100\" height=\"100\" stroke=\"white\" stroke-width=\"5px\" fill=\"silver\"/><rect x=\"100\" y=\"100\" width=\"100\" height=\"100\" stroke=\"white\" stroke-width=\"5px\" fill=\"silver\"/><rect x=\"200\" y=\"100\" width=\"100\" height=\"100\" stroke=\"white\" stroke-width=\"5px\" fill=\"silver\"/><rect x=\"300\" y=\"100\" width=\"100\" height=\"100\" stroke=\"white\" stroke-width=\"5px\" fill=\"lightsalmon\"/><text x=\"87.5%\" y=\"37.5%\" dominant-baseline=\"middle\" text-anchor=\"middle\" font-size=\"24\">8</text><rect x=\"0\" y=\"200\" width=\"100\" height=\"100\" stroke=\"white\" stroke-width=\"5px\" fill=\"silver\"/><rect x=\"100\" y=\"200\" width=\"100\" height=\"100\" stroke=\"white\" stroke-width=\"5px\" fill=\"ivory\"/><text x=\"37.5%\" y=\"62.5%\" dominant-baseline=\"middle\" text-anchor=\"middle\" font-size=\"24\">2</text><rect x=\"200\" y=\"200\" width=\"100\" height=\"100\" stroke=\"white\" stroke-width=\"5px\" fill=\"lightsalmon\"/><text x=\"62.5%\" y=\"62.5%\" dominant-baseline=\"middle\" text-anchor=\"middle\" font-size=\"24\">8</text><rect x=\"300\" y=\"200\" width=\"100\" height=\"100\" stroke=\"white\" stroke-width=\"5px\" fill=\"tomato\"/><text x=\"87.5%\" y=\"62.5%\" dominant-baseline=\"middle\" text-anchor=\"middle\" font-size=\"24\">32</text><rect x=\"0\" y=\"300\" width=\"100\" height=\"100\" stroke=\"white\" stroke-width=\"5px\" fill=\"antiquewhite\"/><text x=\"12.5%\" y=\"87.5%\" dominant-baseline=\"middle\" text-anchor=\"middle\" font-size=\"24\">4</text><rect x=\"100\" y=\"300\" width=\"100\" height=\"100\" stroke=\"white\" stroke-width=\"5px\" fill=\"lightsalmon\"/><text x=\"37.5%\" y=\"87.5%\" dominant-baseline=\"middle\" text-anchor=\"middle\" font-size=\"24\">8</text><rect x=\"200\" y=\"300\" width=\"100\" height=\"100\" stroke=\"white\" stroke-width=\"5px\" fill=\"tomato\"/><text x=\"62.5%\" y=\"87.5%\" dominant-baseline=\"middle\" text-anchor=\"middle\" font-size=\"24\">32</text><rect x=\"300\" y=\"300\" width=\"100\" height=\"100\" stroke=\"white\" stroke-width=\"5px\" fill=\"orangered\"/><text x=\"87.5%\" y=\"87.5%\" dominant-baseline=\"middle\" text-anchor=\"middle\" font-size=\"24\">64</text></svg>"
      ],
      "text/plain": [
       "<IPython.core.display.HTML object>"
      ]
     },
     "metadata": {},
     "output_type": "display_data"
    },
    {
     "name": "stdout",
     "output_type": "stream",
     "text": [
      "\n",
      "Movimiento: Derecha\n",
      "Puntuacion: 400\n",
      "Numero de movimientos: 71\n"
     ]
    },
    {
     "data": {
      "text/html": [
       "<svg height=\"400\" width=\"400\"><rect x=\"0\" y=\"0\" width=\"100\" height=\"100\" stroke=\"white\" stroke-width=\"5px\" fill=\"silver\"/><rect x=\"100\" y=\"0\" width=\"100\" height=\"100\" stroke=\"white\" stroke-width=\"5px\" fill=\"silver\"/><rect x=\"200\" y=\"0\" width=\"100\" height=\"100\" stroke=\"white\" stroke-width=\"5px\" fill=\"silver\"/><rect x=\"300\" y=\"0\" width=\"100\" height=\"100\" stroke=\"white\" stroke-width=\"5px\" fill=\"ivory\"/><text x=\"87.5%\" y=\"12.5%\" dominant-baseline=\"middle\" text-anchor=\"middle\" font-size=\"24\">2</text><rect x=\"0\" y=\"100\" width=\"100\" height=\"100\" stroke=\"white\" stroke-width=\"5px\" fill=\"ivory\"/><text x=\"12.5%\" y=\"37.5%\" dominant-baseline=\"middle\" text-anchor=\"middle\" font-size=\"24\">2</text><rect x=\"100\" y=\"100\" width=\"100\" height=\"100\" stroke=\"white\" stroke-width=\"5px\" fill=\"silver\"/><rect x=\"200\" y=\"100\" width=\"100\" height=\"100\" stroke=\"white\" stroke-width=\"5px\" fill=\"ivory\"/><text x=\"62.5%\" y=\"37.5%\" dominant-baseline=\"middle\" text-anchor=\"middle\" font-size=\"24\">2</text><rect x=\"300\" y=\"100\" width=\"100\" height=\"100\" stroke=\"white\" stroke-width=\"5px\" fill=\"lightsalmon\"/><text x=\"87.5%\" y=\"37.5%\" dominant-baseline=\"middle\" text-anchor=\"middle\" font-size=\"24\">8</text><rect x=\"0\" y=\"200\" width=\"100\" height=\"100\" stroke=\"white\" stroke-width=\"5px\" fill=\"silver\"/><rect x=\"100\" y=\"200\" width=\"100\" height=\"100\" stroke=\"white\" stroke-width=\"5px\" fill=\"ivory\"/><text x=\"37.5%\" y=\"62.5%\" dominant-baseline=\"middle\" text-anchor=\"middle\" font-size=\"24\">2</text><rect x=\"200\" y=\"200\" width=\"100\" height=\"100\" stroke=\"white\" stroke-width=\"5px\" fill=\"lightsalmon\"/><text x=\"62.5%\" y=\"62.5%\" dominant-baseline=\"middle\" text-anchor=\"middle\" font-size=\"24\">8</text><rect x=\"300\" y=\"200\" width=\"100\" height=\"100\" stroke=\"white\" stroke-width=\"5px\" fill=\"tomato\"/><text x=\"87.5%\" y=\"62.5%\" dominant-baseline=\"middle\" text-anchor=\"middle\" font-size=\"24\">32</text><rect x=\"0\" y=\"300\" width=\"100\" height=\"100\" stroke=\"white\" stroke-width=\"5px\" fill=\"antiquewhite\"/><text x=\"12.5%\" y=\"87.5%\" dominant-baseline=\"middle\" text-anchor=\"middle\" font-size=\"24\">4</text><rect x=\"100\" y=\"300\" width=\"100\" height=\"100\" stroke=\"white\" stroke-width=\"5px\" fill=\"lightsalmon\"/><text x=\"37.5%\" y=\"87.5%\" dominant-baseline=\"middle\" text-anchor=\"middle\" font-size=\"24\">8</text><rect x=\"200\" y=\"300\" width=\"100\" height=\"100\" stroke=\"white\" stroke-width=\"5px\" fill=\"tomato\"/><text x=\"62.5%\" y=\"87.5%\" dominant-baseline=\"middle\" text-anchor=\"middle\" font-size=\"24\">32</text><rect x=\"300\" y=\"300\" width=\"100\" height=\"100\" stroke=\"white\" stroke-width=\"5px\" fill=\"orangered\"/><text x=\"87.5%\" y=\"87.5%\" dominant-baseline=\"middle\" text-anchor=\"middle\" font-size=\"24\">64</text></svg>"
      ],
      "text/plain": [
       "<IPython.core.display.HTML object>"
      ]
     },
     "metadata": {},
     "output_type": "display_data"
    },
    {
     "name": "stdout",
     "output_type": "stream",
     "text": [
      "\n",
      "Movimiento: Derecha\n",
      "Puntuacion: 404\n",
      "Numero de movimientos: 72\n"
     ]
    },
    {
     "data": {
      "text/html": [
       "<svg height=\"400\" width=\"400\"><rect x=\"0\" y=\"0\" width=\"100\" height=\"100\" stroke=\"white\" stroke-width=\"5px\" fill=\"silver\"/><rect x=\"100\" y=\"0\" width=\"100\" height=\"100\" stroke=\"white\" stroke-width=\"5px\" fill=\"silver\"/><rect x=\"200\" y=\"0\" width=\"100\" height=\"100\" stroke=\"white\" stroke-width=\"5px\" fill=\"silver\"/><rect x=\"300\" y=\"0\" width=\"100\" height=\"100\" stroke=\"white\" stroke-width=\"5px\" fill=\"ivory\"/><text x=\"87.5%\" y=\"12.5%\" dominant-baseline=\"middle\" text-anchor=\"middle\" font-size=\"24\">2</text><rect x=\"0\" y=\"100\" width=\"100\" height=\"100\" stroke=\"white\" stroke-width=\"5px\" fill=\"silver\"/><rect x=\"100\" y=\"100\" width=\"100\" height=\"100\" stroke=\"white\" stroke-width=\"5px\" fill=\"silver\"/><rect x=\"200\" y=\"100\" width=\"100\" height=\"100\" stroke=\"white\" stroke-width=\"5px\" fill=\"ivory\"/><text x=\"62.5%\" y=\"37.5%\" dominant-baseline=\"middle\" text-anchor=\"middle\" font-size=\"24\">2</text><rect x=\"300\" y=\"100\" width=\"100\" height=\"100\" stroke=\"white\" stroke-width=\"5px\" fill=\"lightsalmon\"/><text x=\"87.5%\" y=\"37.5%\" dominant-baseline=\"middle\" text-anchor=\"middle\" font-size=\"24\">8</text><rect x=\"0\" y=\"200\" width=\"100\" height=\"100\" stroke=\"white\" stroke-width=\"5px\" fill=\"ivory\"/><text x=\"12.5%\" y=\"62.5%\" dominant-baseline=\"middle\" text-anchor=\"middle\" font-size=\"24\">2</text><rect x=\"100\" y=\"200\" width=\"100\" height=\"100\" stroke=\"white\" stroke-width=\"5px\" fill=\"antiquewhite\"/><text x=\"37.5%\" y=\"62.5%\" dominant-baseline=\"middle\" text-anchor=\"middle\" font-size=\"24\">4</text><rect x=\"200\" y=\"200\" width=\"100\" height=\"100\" stroke=\"white\" stroke-width=\"5px\" fill=\"lightsalmon\"/><text x=\"62.5%\" y=\"62.5%\" dominant-baseline=\"middle\" text-anchor=\"middle\" font-size=\"24\">8</text><rect x=\"300\" y=\"200\" width=\"100\" height=\"100\" stroke=\"white\" stroke-width=\"5px\" fill=\"tomato\"/><text x=\"87.5%\" y=\"62.5%\" dominant-baseline=\"middle\" text-anchor=\"middle\" font-size=\"24\">32</text><rect x=\"0\" y=\"300\" width=\"100\" height=\"100\" stroke=\"white\" stroke-width=\"5px\" fill=\"antiquewhite\"/><text x=\"12.5%\" y=\"87.5%\" dominant-baseline=\"middle\" text-anchor=\"middle\" font-size=\"24\">4</text><rect x=\"100\" y=\"300\" width=\"100\" height=\"100\" stroke=\"white\" stroke-width=\"5px\" fill=\"lightsalmon\"/><text x=\"37.5%\" y=\"87.5%\" dominant-baseline=\"middle\" text-anchor=\"middle\" font-size=\"24\">8</text><rect x=\"200\" y=\"300\" width=\"100\" height=\"100\" stroke=\"white\" stroke-width=\"5px\" fill=\"tomato\"/><text x=\"62.5%\" y=\"87.5%\" dominant-baseline=\"middle\" text-anchor=\"middle\" font-size=\"24\">32</text><rect x=\"300\" y=\"300\" width=\"100\" height=\"100\" stroke=\"white\" stroke-width=\"5px\" fill=\"orangered\"/><text x=\"87.5%\" y=\"87.5%\" dominant-baseline=\"middle\" text-anchor=\"middle\" font-size=\"24\">64</text></svg>"
      ],
      "text/plain": [
       "<IPython.core.display.HTML object>"
      ]
     },
     "metadata": {},
     "output_type": "display_data"
    },
    {
     "name": "stdout",
     "output_type": "stream",
     "text": [
      "\n",
      "Movimiento: Abajo\n",
      "Puntuacion: 404\n",
      "Numero de movimientos: 73\n"
     ]
    },
    {
     "data": {
      "text/html": [
       "<svg height=\"400\" width=\"400\"><rect x=\"0\" y=\"0\" width=\"100\" height=\"100\" stroke=\"white\" stroke-width=\"5px\" fill=\"silver\"/><rect x=\"100\" y=\"0\" width=\"100\" height=\"100\" stroke=\"white\" stroke-width=\"5px\" fill=\"silver\"/><rect x=\"200\" y=\"0\" width=\"100\" height=\"100\" stroke=\"white\" stroke-width=\"5px\" fill=\"silver\"/><rect x=\"300\" y=\"0\" width=\"100\" height=\"100\" stroke=\"white\" stroke-width=\"5px\" fill=\"ivory\"/><text x=\"87.5%\" y=\"12.5%\" dominant-baseline=\"middle\" text-anchor=\"middle\" font-size=\"24\">2</text><rect x=\"0\" y=\"100\" width=\"100\" height=\"100\" stroke=\"white\" stroke-width=\"5px\" fill=\"ivory\"/><text x=\"12.5%\" y=\"37.5%\" dominant-baseline=\"middle\" text-anchor=\"middle\" font-size=\"24\">2</text><rect x=\"100\" y=\"100\" width=\"100\" height=\"100\" stroke=\"white\" stroke-width=\"5px\" fill=\"silver\"/><rect x=\"200\" y=\"100\" width=\"100\" height=\"100\" stroke=\"white\" stroke-width=\"5px\" fill=\"ivory\"/><text x=\"62.5%\" y=\"37.5%\" dominant-baseline=\"middle\" text-anchor=\"middle\" font-size=\"24\">2</text><rect x=\"300\" y=\"100\" width=\"100\" height=\"100\" stroke=\"white\" stroke-width=\"5px\" fill=\"lightsalmon\"/><text x=\"87.5%\" y=\"37.5%\" dominant-baseline=\"middle\" text-anchor=\"middle\" font-size=\"24\">8</text><rect x=\"0\" y=\"200\" width=\"100\" height=\"100\" stroke=\"white\" stroke-width=\"5px\" fill=\"ivory\"/><text x=\"12.5%\" y=\"62.5%\" dominant-baseline=\"middle\" text-anchor=\"middle\" font-size=\"24\">2</text><rect x=\"100\" y=\"200\" width=\"100\" height=\"100\" stroke=\"white\" stroke-width=\"5px\" fill=\"antiquewhite\"/><text x=\"37.5%\" y=\"62.5%\" dominant-baseline=\"middle\" text-anchor=\"middle\" font-size=\"24\">4</text><rect x=\"200\" y=\"200\" width=\"100\" height=\"100\" stroke=\"white\" stroke-width=\"5px\" fill=\"lightsalmon\"/><text x=\"62.5%\" y=\"62.5%\" dominant-baseline=\"middle\" text-anchor=\"middle\" font-size=\"24\">8</text><rect x=\"300\" y=\"200\" width=\"100\" height=\"100\" stroke=\"white\" stroke-width=\"5px\" fill=\"tomato\"/><text x=\"87.5%\" y=\"62.5%\" dominant-baseline=\"middle\" text-anchor=\"middle\" font-size=\"24\">32</text><rect x=\"0\" y=\"300\" width=\"100\" height=\"100\" stroke=\"white\" stroke-width=\"5px\" fill=\"antiquewhite\"/><text x=\"12.5%\" y=\"87.5%\" dominant-baseline=\"middle\" text-anchor=\"middle\" font-size=\"24\">4</text><rect x=\"100\" y=\"300\" width=\"100\" height=\"100\" stroke=\"white\" stroke-width=\"5px\" fill=\"lightsalmon\"/><text x=\"37.5%\" y=\"87.5%\" dominant-baseline=\"middle\" text-anchor=\"middle\" font-size=\"24\">8</text><rect x=\"200\" y=\"300\" width=\"100\" height=\"100\" stroke=\"white\" stroke-width=\"5px\" fill=\"tomato\"/><text x=\"62.5%\" y=\"87.5%\" dominant-baseline=\"middle\" text-anchor=\"middle\" font-size=\"24\">32</text><rect x=\"300\" y=\"300\" width=\"100\" height=\"100\" stroke=\"white\" stroke-width=\"5px\" fill=\"orangered\"/><text x=\"87.5%\" y=\"87.5%\" dominant-baseline=\"middle\" text-anchor=\"middle\" font-size=\"24\">64</text></svg>"
      ],
      "text/plain": [
       "<IPython.core.display.HTML object>"
      ]
     },
     "metadata": {},
     "output_type": "display_data"
    },
    {
     "name": "stdout",
     "output_type": "stream",
     "text": [
      "\n",
      "Movimiento: Derecha\n",
      "Puntuacion: 412\n",
      "Numero de movimientos: 74\n"
     ]
    },
    {
     "data": {
      "text/html": [
       "<svg height=\"400\" width=\"400\"><rect x=\"0\" y=\"0\" width=\"100\" height=\"100\" stroke=\"white\" stroke-width=\"5px\" fill=\"silver\"/><rect x=\"100\" y=\"0\" width=\"100\" height=\"100\" stroke=\"white\" stroke-width=\"5px\" fill=\"silver\"/><rect x=\"200\" y=\"0\" width=\"100\" height=\"100\" stroke=\"white\" stroke-width=\"5px\" fill=\"silver\"/><rect x=\"300\" y=\"0\" width=\"100\" height=\"100\" stroke=\"white\" stroke-width=\"5px\" fill=\"ivory\"/><text x=\"87.5%\" y=\"12.5%\" dominant-baseline=\"middle\" text-anchor=\"middle\" font-size=\"24\">2</text><rect x=\"0\" y=\"100\" width=\"100\" height=\"100\" stroke=\"white\" stroke-width=\"5px\" fill=\"silver\"/><rect x=\"100\" y=\"100\" width=\"100\" height=\"100\" stroke=\"white\" stroke-width=\"5px\" fill=\"ivory\"/><text x=\"37.5%\" y=\"37.5%\" dominant-baseline=\"middle\" text-anchor=\"middle\" font-size=\"24\">2</text><rect x=\"200\" y=\"100\" width=\"100\" height=\"100\" stroke=\"white\" stroke-width=\"5px\" fill=\"ivory\"/><text x=\"62.5%\" y=\"37.5%\" dominant-baseline=\"middle\" text-anchor=\"middle\" font-size=\"24\">2</text><rect x=\"300\" y=\"100\" width=\"100\" height=\"100\" stroke=\"white\" stroke-width=\"5px\" fill=\"lightsalmon\"/><text x=\"87.5%\" y=\"37.5%\" dominant-baseline=\"middle\" text-anchor=\"middle\" font-size=\"24\">8</text><rect x=\"0\" y=\"200\" width=\"100\" height=\"100\" stroke=\"white\" stroke-width=\"5px\" fill=\"silver\"/><rect x=\"100\" y=\"200\" width=\"100\" height=\"100\" stroke=\"white\" stroke-width=\"5px\" fill=\"lightsalmon\"/><text x=\"37.5%\" y=\"62.5%\" dominant-baseline=\"middle\" text-anchor=\"middle\" font-size=\"24\">8</text><rect x=\"200\" y=\"200\" width=\"100\" height=\"100\" stroke=\"white\" stroke-width=\"5px\" fill=\"lightsalmon\"/><text x=\"62.5%\" y=\"62.5%\" dominant-baseline=\"middle\" text-anchor=\"middle\" font-size=\"24\">8</text><rect x=\"300\" y=\"200\" width=\"100\" height=\"100\" stroke=\"white\" stroke-width=\"5px\" fill=\"tomato\"/><text x=\"87.5%\" y=\"62.5%\" dominant-baseline=\"middle\" text-anchor=\"middle\" font-size=\"24\">32</text><rect x=\"0\" y=\"300\" width=\"100\" height=\"100\" stroke=\"white\" stroke-width=\"5px\" fill=\"antiquewhite\"/><text x=\"12.5%\" y=\"87.5%\" dominant-baseline=\"middle\" text-anchor=\"middle\" font-size=\"24\">4</text><rect x=\"100\" y=\"300\" width=\"100\" height=\"100\" stroke=\"white\" stroke-width=\"5px\" fill=\"lightsalmon\"/><text x=\"37.5%\" y=\"87.5%\" dominant-baseline=\"middle\" text-anchor=\"middle\" font-size=\"24\">8</text><rect x=\"200\" y=\"300\" width=\"100\" height=\"100\" stroke=\"white\" stroke-width=\"5px\" fill=\"tomato\"/><text x=\"62.5%\" y=\"87.5%\" dominant-baseline=\"middle\" text-anchor=\"middle\" font-size=\"24\">32</text><rect x=\"300\" y=\"300\" width=\"100\" height=\"100\" stroke=\"white\" stroke-width=\"5px\" fill=\"orangered\"/><text x=\"87.5%\" y=\"87.5%\" dominant-baseline=\"middle\" text-anchor=\"middle\" font-size=\"24\">64</text></svg>"
      ],
      "text/plain": [
       "<IPython.core.display.HTML object>"
      ]
     },
     "metadata": {},
     "output_type": "display_data"
    },
    {
     "name": "stdout",
     "output_type": "stream",
     "text": [
      "\n",
      "Movimiento: Derecha\n",
      "Puntuacion: 412\n",
      "Numero de movimientos: 75\n"
     ]
    },
    {
     "data": {
      "text/html": [
       "<svg height=\"400\" width=\"400\"><rect x=\"0\" y=\"0\" width=\"100\" height=\"100\" stroke=\"white\" stroke-width=\"5px\" fill=\"silver\"/><rect x=\"100\" y=\"0\" width=\"100\" height=\"100\" stroke=\"white\" stroke-width=\"5px\" fill=\"ivory\"/><text x=\"37.5%\" y=\"12.5%\" dominant-baseline=\"middle\" text-anchor=\"middle\" font-size=\"24\">2</text><rect x=\"200\" y=\"0\" width=\"100\" height=\"100\" stroke=\"white\" stroke-width=\"5px\" fill=\"silver\"/><rect x=\"300\" y=\"0\" width=\"100\" height=\"100\" stroke=\"white\" stroke-width=\"5px\" fill=\"ivory\"/><text x=\"87.5%\" y=\"12.5%\" dominant-baseline=\"middle\" text-anchor=\"middle\" font-size=\"24\">2</text><rect x=\"0\" y=\"100\" width=\"100\" height=\"100\" stroke=\"white\" stroke-width=\"5px\" fill=\"silver\"/><rect x=\"100\" y=\"100\" width=\"100\" height=\"100\" stroke=\"white\" stroke-width=\"5px\" fill=\"silver\"/><rect x=\"200\" y=\"100\" width=\"100\" height=\"100\" stroke=\"white\" stroke-width=\"5px\" fill=\"ivory\"/><text x=\"62.5%\" y=\"37.5%\" dominant-baseline=\"middle\" text-anchor=\"middle\" font-size=\"24\">2</text><rect x=\"300\" y=\"100\" width=\"100\" height=\"100\" stroke=\"white\" stroke-width=\"5px\" fill=\"lightsalmon\"/><text x=\"87.5%\" y=\"37.5%\" dominant-baseline=\"middle\" text-anchor=\"middle\" font-size=\"24\">8</text><rect x=\"0\" y=\"200\" width=\"100\" height=\"100\" stroke=\"white\" stroke-width=\"5px\" fill=\"silver\"/><rect x=\"100\" y=\"200\" width=\"100\" height=\"100\" stroke=\"white\" stroke-width=\"5px\" fill=\"ivory\"/><text x=\"37.5%\" y=\"62.5%\" dominant-baseline=\"middle\" text-anchor=\"middle\" font-size=\"24\">2</text><rect x=\"200\" y=\"200\" width=\"100\" height=\"100\" stroke=\"white\" stroke-width=\"5px\" fill=\"lightsalmon\"/><text x=\"62.5%\" y=\"62.5%\" dominant-baseline=\"middle\" text-anchor=\"middle\" font-size=\"24\">8</text><rect x=\"300\" y=\"200\" width=\"100\" height=\"100\" stroke=\"white\" stroke-width=\"5px\" fill=\"tomato\"/><text x=\"87.5%\" y=\"62.5%\" dominant-baseline=\"middle\" text-anchor=\"middle\" font-size=\"24\">32</text><rect x=\"0\" y=\"300\" width=\"100\" height=\"100\" stroke=\"white\" stroke-width=\"5px\" fill=\"antiquewhite\"/><text x=\"12.5%\" y=\"87.5%\" dominant-baseline=\"middle\" text-anchor=\"middle\" font-size=\"24\">4</text><rect x=\"100\" y=\"300\" width=\"100\" height=\"100\" stroke=\"white\" stroke-width=\"5px\" fill=\"darksalmon\"/><text x=\"37.5%\" y=\"87.5%\" dominant-baseline=\"middle\" text-anchor=\"middle\" font-size=\"24\">16</text><rect x=\"200\" y=\"300\" width=\"100\" height=\"100\" stroke=\"white\" stroke-width=\"5px\" fill=\"tomato\"/><text x=\"62.5%\" y=\"87.5%\" dominant-baseline=\"middle\" text-anchor=\"middle\" font-size=\"24\">32</text><rect x=\"300\" y=\"300\" width=\"100\" height=\"100\" stroke=\"white\" stroke-width=\"5px\" fill=\"orangered\"/><text x=\"87.5%\" y=\"87.5%\" dominant-baseline=\"middle\" text-anchor=\"middle\" font-size=\"24\">64</text></svg>"
      ],
      "text/plain": [
       "<IPython.core.display.HTML object>"
      ]
     },
     "metadata": {},
     "output_type": "display_data"
    },
    {
     "name": "stdout",
     "output_type": "stream",
     "text": [
      "\n",
      "Movimiento: Derecha\n",
      "Puntuacion: 412\n",
      "Numero de movimientos: 76\n"
     ]
    },
    {
     "data": {
      "text/html": [
       "<svg height=\"400\" width=\"400\"><rect x=\"0\" y=\"0\" width=\"100\" height=\"100\" stroke=\"white\" stroke-width=\"5px\" fill=\"antiquewhite\"/><text x=\"12.5%\" y=\"12.5%\" dominant-baseline=\"middle\" text-anchor=\"middle\" font-size=\"24\">4</text><rect x=\"100\" y=\"0\" width=\"100\" height=\"100\" stroke=\"white\" stroke-width=\"5px\" fill=\"silver\"/><rect x=\"200\" y=\"0\" width=\"100\" height=\"100\" stroke=\"white\" stroke-width=\"5px\" fill=\"silver\"/><rect x=\"300\" y=\"0\" width=\"100\" height=\"100\" stroke=\"white\" stroke-width=\"5px\" fill=\"ivory\"/><text x=\"87.5%\" y=\"12.5%\" dominant-baseline=\"middle\" text-anchor=\"middle\" font-size=\"24\">2</text><rect x=\"0\" y=\"100\" width=\"100\" height=\"100\" stroke=\"white\" stroke-width=\"5px\" fill=\"silver\"/><rect x=\"100\" y=\"100\" width=\"100\" height=\"100\" stroke=\"white\" stroke-width=\"5px\" fill=\"silver\"/><rect x=\"200\" y=\"100\" width=\"100\" height=\"100\" stroke=\"white\" stroke-width=\"5px\" fill=\"ivory\"/><text x=\"62.5%\" y=\"37.5%\" dominant-baseline=\"middle\" text-anchor=\"middle\" font-size=\"24\">2</text><rect x=\"300\" y=\"100\" width=\"100\" height=\"100\" stroke=\"white\" stroke-width=\"5px\" fill=\"lightsalmon\"/><text x=\"87.5%\" y=\"37.5%\" dominant-baseline=\"middle\" text-anchor=\"middle\" font-size=\"24\">8</text><rect x=\"0\" y=\"200\" width=\"100\" height=\"100\" stroke=\"white\" stroke-width=\"5px\" fill=\"silver\"/><rect x=\"100\" y=\"200\" width=\"100\" height=\"100\" stroke=\"white\" stroke-width=\"5px\" fill=\"antiquewhite\"/><text x=\"37.5%\" y=\"62.5%\" dominant-baseline=\"middle\" text-anchor=\"middle\" font-size=\"24\">4</text><rect x=\"200\" y=\"200\" width=\"100\" height=\"100\" stroke=\"white\" stroke-width=\"5px\" fill=\"lightsalmon\"/><text x=\"62.5%\" y=\"62.5%\" dominant-baseline=\"middle\" text-anchor=\"middle\" font-size=\"24\">8</text><rect x=\"300\" y=\"200\" width=\"100\" height=\"100\" stroke=\"white\" stroke-width=\"5px\" fill=\"tomato\"/><text x=\"87.5%\" y=\"62.5%\" dominant-baseline=\"middle\" text-anchor=\"middle\" font-size=\"24\">32</text><rect x=\"0\" y=\"300\" width=\"100\" height=\"100\" stroke=\"white\" stroke-width=\"5px\" fill=\"antiquewhite\"/><text x=\"12.5%\" y=\"87.5%\" dominant-baseline=\"middle\" text-anchor=\"middle\" font-size=\"24\">4</text><rect x=\"100\" y=\"300\" width=\"100\" height=\"100\" stroke=\"white\" stroke-width=\"5px\" fill=\"darksalmon\"/><text x=\"37.5%\" y=\"87.5%\" dominant-baseline=\"middle\" text-anchor=\"middle\" font-size=\"24\">16</text><rect x=\"200\" y=\"300\" width=\"100\" height=\"100\" stroke=\"white\" stroke-width=\"5px\" fill=\"tomato\"/><text x=\"62.5%\" y=\"87.5%\" dominant-baseline=\"middle\" text-anchor=\"middle\" font-size=\"24\">32</text><rect x=\"300\" y=\"300\" width=\"100\" height=\"100\" stroke=\"white\" stroke-width=\"5px\" fill=\"orangered\"/><text x=\"87.5%\" y=\"87.5%\" dominant-baseline=\"middle\" text-anchor=\"middle\" font-size=\"24\">64</text></svg>"
      ],
      "text/plain": [
       "<IPython.core.display.HTML object>"
      ]
     },
     "metadata": {},
     "output_type": "display_data"
    },
    {
     "name": "stdout",
     "output_type": "stream",
     "text": [
      "\n",
      "Movimiento: Derecha\n",
      "Puntuacion: 412\n",
      "Numero de movimientos: 77\n"
     ]
    },
    {
     "data": {
      "text/html": [
       "<svg height=\"400\" width=\"400\"><rect x=\"0\" y=\"0\" width=\"100\" height=\"100\" stroke=\"white\" stroke-width=\"5px\" fill=\"silver\"/><rect x=\"100\" y=\"0\" width=\"100\" height=\"100\" stroke=\"white\" stroke-width=\"5px\" fill=\"ivory\"/><text x=\"37.5%\" y=\"12.5%\" dominant-baseline=\"middle\" text-anchor=\"middle\" font-size=\"24\">2</text><rect x=\"200\" y=\"0\" width=\"100\" height=\"100\" stroke=\"white\" stroke-width=\"5px\" fill=\"silver\"/><rect x=\"300\" y=\"0\" width=\"100\" height=\"100\" stroke=\"white\" stroke-width=\"5px\" fill=\"ivory\"/><text x=\"87.5%\" y=\"12.5%\" dominant-baseline=\"middle\" text-anchor=\"middle\" font-size=\"24\">2</text><rect x=\"0\" y=\"100\" width=\"100\" height=\"100\" stroke=\"white\" stroke-width=\"5px\" fill=\"silver\"/><rect x=\"100\" y=\"100\" width=\"100\" height=\"100\" stroke=\"white\" stroke-width=\"5px\" fill=\"silver\"/><rect x=\"200\" y=\"100\" width=\"100\" height=\"100\" stroke=\"white\" stroke-width=\"5px\" fill=\"ivory\"/><text x=\"62.5%\" y=\"37.5%\" dominant-baseline=\"middle\" text-anchor=\"middle\" font-size=\"24\">2</text><rect x=\"300\" y=\"100\" width=\"100\" height=\"100\" stroke=\"white\" stroke-width=\"5px\" fill=\"lightsalmon\"/><text x=\"87.5%\" y=\"37.5%\" dominant-baseline=\"middle\" text-anchor=\"middle\" font-size=\"24\">8</text><rect x=\"0\" y=\"200\" width=\"100\" height=\"100\" stroke=\"white\" stroke-width=\"5px\" fill=\"silver\"/><rect x=\"100\" y=\"200\" width=\"100\" height=\"100\" stroke=\"white\" stroke-width=\"5px\" fill=\"antiquewhite\"/><text x=\"37.5%\" y=\"62.5%\" dominant-baseline=\"middle\" text-anchor=\"middle\" font-size=\"24\">4</text><rect x=\"200\" y=\"200\" width=\"100\" height=\"100\" stroke=\"white\" stroke-width=\"5px\" fill=\"lightsalmon\"/><text x=\"62.5%\" y=\"62.5%\" dominant-baseline=\"middle\" text-anchor=\"middle\" font-size=\"24\">8</text><rect x=\"300\" y=\"200\" width=\"100\" height=\"100\" stroke=\"white\" stroke-width=\"5px\" fill=\"tomato\"/><text x=\"87.5%\" y=\"62.5%\" dominant-baseline=\"middle\" text-anchor=\"middle\" font-size=\"24\">32</text><rect x=\"0\" y=\"300\" width=\"100\" height=\"100\" stroke=\"white\" stroke-width=\"5px\" fill=\"lightsalmon\"/><text x=\"12.5%\" y=\"87.5%\" dominant-baseline=\"middle\" text-anchor=\"middle\" font-size=\"24\">8</text><rect x=\"100\" y=\"300\" width=\"100\" height=\"100\" stroke=\"white\" stroke-width=\"5px\" fill=\"darksalmon\"/><text x=\"37.5%\" y=\"87.5%\" dominant-baseline=\"middle\" text-anchor=\"middle\" font-size=\"24\">16</text><rect x=\"200\" y=\"300\" width=\"100\" height=\"100\" stroke=\"white\" stroke-width=\"5px\" fill=\"tomato\"/><text x=\"62.5%\" y=\"87.5%\" dominant-baseline=\"middle\" text-anchor=\"middle\" font-size=\"24\">32</text><rect x=\"300\" y=\"300\" width=\"100\" height=\"100\" stroke=\"white\" stroke-width=\"5px\" fill=\"orangered\"/><text x=\"87.5%\" y=\"87.5%\" dominant-baseline=\"middle\" text-anchor=\"middle\" font-size=\"24\">64</text></svg>"
      ],
      "text/plain": [
       "<IPython.core.display.HTML object>"
      ]
     },
     "metadata": {},
     "output_type": "display_data"
    },
    {
     "name": "stdout",
     "output_type": "stream",
     "text": [
      "\n",
      "Movimiento: Derecha\n",
      "Puntuacion: 416\n",
      "Numero de movimientos: 78\n"
     ]
    },
    {
     "data": {
      "text/html": [
       "<svg height=\"400\" width=\"400\"><rect x=\"0\" y=\"0\" width=\"100\" height=\"100\" stroke=\"white\" stroke-width=\"5px\" fill=\"silver\"/><rect x=\"100\" y=\"0\" width=\"100\" height=\"100\" stroke=\"white\" stroke-width=\"5px\" fill=\"silver\"/><rect x=\"200\" y=\"0\" width=\"100\" height=\"100\" stroke=\"white\" stroke-width=\"5px\" fill=\"ivory\"/><text x=\"62.5%\" y=\"12.5%\" dominant-baseline=\"middle\" text-anchor=\"middle\" font-size=\"24\">2</text><rect x=\"300\" y=\"0\" width=\"100\" height=\"100\" stroke=\"white\" stroke-width=\"5px\" fill=\"ivory\"/><text x=\"87.5%\" y=\"12.5%\" dominant-baseline=\"middle\" text-anchor=\"middle\" font-size=\"24\">2</text><rect x=\"0\" y=\"100\" width=\"100\" height=\"100\" stroke=\"white\" stroke-width=\"5px\" fill=\"silver\"/><rect x=\"100\" y=\"100\" width=\"100\" height=\"100\" stroke=\"white\" stroke-width=\"5px\" fill=\"silver\"/><rect x=\"200\" y=\"100\" width=\"100\" height=\"100\" stroke=\"white\" stroke-width=\"5px\" fill=\"antiquewhite\"/><text x=\"62.5%\" y=\"37.5%\" dominant-baseline=\"middle\" text-anchor=\"middle\" font-size=\"24\">4</text><rect x=\"300\" y=\"100\" width=\"100\" height=\"100\" stroke=\"white\" stroke-width=\"5px\" fill=\"lightsalmon\"/><text x=\"87.5%\" y=\"37.5%\" dominant-baseline=\"middle\" text-anchor=\"middle\" font-size=\"24\">8</text><rect x=\"0\" y=\"200\" width=\"100\" height=\"100\" stroke=\"white\" stroke-width=\"5px\" fill=\"silver\"/><rect x=\"100\" y=\"200\" width=\"100\" height=\"100\" stroke=\"white\" stroke-width=\"5px\" fill=\"antiquewhite\"/><text x=\"37.5%\" y=\"62.5%\" dominant-baseline=\"middle\" text-anchor=\"middle\" font-size=\"24\">4</text><rect x=\"200\" y=\"200\" width=\"100\" height=\"100\" stroke=\"white\" stroke-width=\"5px\" fill=\"lightsalmon\"/><text x=\"62.5%\" y=\"62.5%\" dominant-baseline=\"middle\" text-anchor=\"middle\" font-size=\"24\">8</text><rect x=\"300\" y=\"200\" width=\"100\" height=\"100\" stroke=\"white\" stroke-width=\"5px\" fill=\"tomato\"/><text x=\"87.5%\" y=\"62.5%\" dominant-baseline=\"middle\" text-anchor=\"middle\" font-size=\"24\">32</text><rect x=\"0\" y=\"300\" width=\"100\" height=\"100\" stroke=\"white\" stroke-width=\"5px\" fill=\"lightsalmon\"/><text x=\"12.5%\" y=\"87.5%\" dominant-baseline=\"middle\" text-anchor=\"middle\" font-size=\"24\">8</text><rect x=\"100\" y=\"300\" width=\"100\" height=\"100\" stroke=\"white\" stroke-width=\"5px\" fill=\"darksalmon\"/><text x=\"37.5%\" y=\"87.5%\" dominant-baseline=\"middle\" text-anchor=\"middle\" font-size=\"24\">16</text><rect x=\"200\" y=\"300\" width=\"100\" height=\"100\" stroke=\"white\" stroke-width=\"5px\" fill=\"tomato\"/><text x=\"62.5%\" y=\"87.5%\" dominant-baseline=\"middle\" text-anchor=\"middle\" font-size=\"24\">32</text><rect x=\"300\" y=\"300\" width=\"100\" height=\"100\" stroke=\"white\" stroke-width=\"5px\" fill=\"orangered\"/><text x=\"87.5%\" y=\"87.5%\" dominant-baseline=\"middle\" text-anchor=\"middle\" font-size=\"24\">64</text></svg>"
      ],
      "text/plain": [
       "<IPython.core.display.HTML object>"
      ]
     },
     "metadata": {},
     "output_type": "display_data"
    },
    {
     "name": "stdout",
     "output_type": "stream",
     "text": [
      "\n",
      "Movimiento: Abajo\n",
      "Puntuacion: 416\n",
      "Numero de movimientos: 79\n"
     ]
    },
    {
     "data": {
      "text/html": [
       "<svg height=\"400\" width=\"400\"><rect x=\"0\" y=\"0\" width=\"100\" height=\"100\" stroke=\"white\" stroke-width=\"5px\" fill=\"silver\"/><rect x=\"100\" y=\"0\" width=\"100\" height=\"100\" stroke=\"white\" stroke-width=\"5px\" fill=\"silver\"/><rect x=\"200\" y=\"0\" width=\"100\" height=\"100\" stroke=\"white\" stroke-width=\"5px\" fill=\"ivory\"/><text x=\"62.5%\" y=\"12.5%\" dominant-baseline=\"middle\" text-anchor=\"middle\" font-size=\"24\">2</text><rect x=\"300\" y=\"0\" width=\"100\" height=\"100\" stroke=\"white\" stroke-width=\"5px\" fill=\"ivory\"/><text x=\"87.5%\" y=\"12.5%\" dominant-baseline=\"middle\" text-anchor=\"middle\" font-size=\"24\">2</text><rect x=\"0\" y=\"100\" width=\"100\" height=\"100\" stroke=\"white\" stroke-width=\"5px\" fill=\"silver\"/><rect x=\"100\" y=\"100\" width=\"100\" height=\"100\" stroke=\"white\" stroke-width=\"5px\" fill=\"ivory\"/><text x=\"37.5%\" y=\"37.5%\" dominant-baseline=\"middle\" text-anchor=\"middle\" font-size=\"24\">2</text><rect x=\"200\" y=\"100\" width=\"100\" height=\"100\" stroke=\"white\" stroke-width=\"5px\" fill=\"antiquewhite\"/><text x=\"62.5%\" y=\"37.5%\" dominant-baseline=\"middle\" text-anchor=\"middle\" font-size=\"24\">4</text><rect x=\"300\" y=\"100\" width=\"100\" height=\"100\" stroke=\"white\" stroke-width=\"5px\" fill=\"lightsalmon\"/><text x=\"87.5%\" y=\"37.5%\" dominant-baseline=\"middle\" text-anchor=\"middle\" font-size=\"24\">8</text><rect x=\"0\" y=\"200\" width=\"100\" height=\"100\" stroke=\"white\" stroke-width=\"5px\" fill=\"silver\"/><rect x=\"100\" y=\"200\" width=\"100\" height=\"100\" stroke=\"white\" stroke-width=\"5px\" fill=\"antiquewhite\"/><text x=\"37.5%\" y=\"62.5%\" dominant-baseline=\"middle\" text-anchor=\"middle\" font-size=\"24\">4</text><rect x=\"200\" y=\"200\" width=\"100\" height=\"100\" stroke=\"white\" stroke-width=\"5px\" fill=\"lightsalmon\"/><text x=\"62.5%\" y=\"62.5%\" dominant-baseline=\"middle\" text-anchor=\"middle\" font-size=\"24\">8</text><rect x=\"300\" y=\"200\" width=\"100\" height=\"100\" stroke=\"white\" stroke-width=\"5px\" fill=\"tomato\"/><text x=\"87.5%\" y=\"62.5%\" dominant-baseline=\"middle\" text-anchor=\"middle\" font-size=\"24\">32</text><rect x=\"0\" y=\"300\" width=\"100\" height=\"100\" stroke=\"white\" stroke-width=\"5px\" fill=\"lightsalmon\"/><text x=\"12.5%\" y=\"87.5%\" dominant-baseline=\"middle\" text-anchor=\"middle\" font-size=\"24\">8</text><rect x=\"100\" y=\"300\" width=\"100\" height=\"100\" stroke=\"white\" stroke-width=\"5px\" fill=\"darksalmon\"/><text x=\"37.5%\" y=\"87.5%\" dominant-baseline=\"middle\" text-anchor=\"middle\" font-size=\"24\">16</text><rect x=\"200\" y=\"300\" width=\"100\" height=\"100\" stroke=\"white\" stroke-width=\"5px\" fill=\"tomato\"/><text x=\"62.5%\" y=\"87.5%\" dominant-baseline=\"middle\" text-anchor=\"middle\" font-size=\"24\">32</text><rect x=\"300\" y=\"300\" width=\"100\" height=\"100\" stroke=\"white\" stroke-width=\"5px\" fill=\"orangered\"/><text x=\"87.5%\" y=\"87.5%\" dominant-baseline=\"middle\" text-anchor=\"middle\" font-size=\"24\">64</text></svg>"
      ],
      "text/plain": [
       "<IPython.core.display.HTML object>"
      ]
     },
     "metadata": {},
     "output_type": "display_data"
    },
    {
     "name": "stdout",
     "output_type": "stream",
     "text": [
      "\n",
      "Movimiento: Abajo\n",
      "Puntuacion: 416\n",
      "Numero de movimientos: 80\n"
     ]
    },
    {
     "data": {
      "text/html": [
       "<svg height=\"400\" width=\"400\"><rect x=\"0\" y=\"0\" width=\"100\" height=\"100\" stroke=\"white\" stroke-width=\"5px\" fill=\"silver\"/><rect x=\"100\" y=\"0\" width=\"100\" height=\"100\" stroke=\"white\" stroke-width=\"5px\" fill=\"ivory\"/><text x=\"37.5%\" y=\"12.5%\" dominant-baseline=\"middle\" text-anchor=\"middle\" font-size=\"24\">2</text><rect x=\"200\" y=\"0\" width=\"100\" height=\"100\" stroke=\"white\" stroke-width=\"5px\" fill=\"ivory\"/><text x=\"62.5%\" y=\"12.5%\" dominant-baseline=\"middle\" text-anchor=\"middle\" font-size=\"24\">2</text><rect x=\"300\" y=\"0\" width=\"100\" height=\"100\" stroke=\"white\" stroke-width=\"5px\" fill=\"ivory\"/><text x=\"87.5%\" y=\"12.5%\" dominant-baseline=\"middle\" text-anchor=\"middle\" font-size=\"24\">2</text><rect x=\"0\" y=\"100\" width=\"100\" height=\"100\" stroke=\"white\" stroke-width=\"5px\" fill=\"silver\"/><rect x=\"100\" y=\"100\" width=\"100\" height=\"100\" stroke=\"white\" stroke-width=\"5px\" fill=\"ivory\"/><text x=\"37.5%\" y=\"37.5%\" dominant-baseline=\"middle\" text-anchor=\"middle\" font-size=\"24\">2</text><rect x=\"200\" y=\"100\" width=\"100\" height=\"100\" stroke=\"white\" stroke-width=\"5px\" fill=\"antiquewhite\"/><text x=\"62.5%\" y=\"37.5%\" dominant-baseline=\"middle\" text-anchor=\"middle\" font-size=\"24\">4</text><rect x=\"300\" y=\"100\" width=\"100\" height=\"100\" stroke=\"white\" stroke-width=\"5px\" fill=\"lightsalmon\"/><text x=\"87.5%\" y=\"37.5%\" dominant-baseline=\"middle\" text-anchor=\"middle\" font-size=\"24\">8</text><rect x=\"0\" y=\"200\" width=\"100\" height=\"100\" stroke=\"white\" stroke-width=\"5px\" fill=\"silver\"/><rect x=\"100\" y=\"200\" width=\"100\" height=\"100\" stroke=\"white\" stroke-width=\"5px\" fill=\"antiquewhite\"/><text x=\"37.5%\" y=\"62.5%\" dominant-baseline=\"middle\" text-anchor=\"middle\" font-size=\"24\">4</text><rect x=\"200\" y=\"200\" width=\"100\" height=\"100\" stroke=\"white\" stroke-width=\"5px\" fill=\"lightsalmon\"/><text x=\"62.5%\" y=\"62.5%\" dominant-baseline=\"middle\" text-anchor=\"middle\" font-size=\"24\">8</text><rect x=\"300\" y=\"200\" width=\"100\" height=\"100\" stroke=\"white\" stroke-width=\"5px\" fill=\"tomato\"/><text x=\"87.5%\" y=\"62.5%\" dominant-baseline=\"middle\" text-anchor=\"middle\" font-size=\"24\">32</text><rect x=\"0\" y=\"300\" width=\"100\" height=\"100\" stroke=\"white\" stroke-width=\"5px\" fill=\"lightsalmon\"/><text x=\"12.5%\" y=\"87.5%\" dominant-baseline=\"middle\" text-anchor=\"middle\" font-size=\"24\">8</text><rect x=\"100\" y=\"300\" width=\"100\" height=\"100\" stroke=\"white\" stroke-width=\"5px\" fill=\"darksalmon\"/><text x=\"37.5%\" y=\"87.5%\" dominant-baseline=\"middle\" text-anchor=\"middle\" font-size=\"24\">16</text><rect x=\"200\" y=\"300\" width=\"100\" height=\"100\" stroke=\"white\" stroke-width=\"5px\" fill=\"tomato\"/><text x=\"62.5%\" y=\"87.5%\" dominant-baseline=\"middle\" text-anchor=\"middle\" font-size=\"24\">32</text><rect x=\"300\" y=\"300\" width=\"100\" height=\"100\" stroke=\"white\" stroke-width=\"5px\" fill=\"orangered\"/><text x=\"87.5%\" y=\"87.5%\" dominant-baseline=\"middle\" text-anchor=\"middle\" font-size=\"24\">64</text></svg>"
      ],
      "text/plain": [
       "<IPython.core.display.HTML object>"
      ]
     },
     "metadata": {},
     "output_type": "display_data"
    },
    {
     "name": "stdout",
     "output_type": "stream",
     "text": [
      "\n",
      "Movimiento: Derecha\n",
      "Puntuacion: 428\n",
      "Numero de movimientos: 81\n"
     ]
    },
    {
     "data": {
      "text/html": [
       "<svg height=\"400\" width=\"400\"><rect x=\"0\" y=\"0\" width=\"100\" height=\"100\" stroke=\"white\" stroke-width=\"5px\" fill=\"ivory\"/><text x=\"12.5%\" y=\"12.5%\" dominant-baseline=\"middle\" text-anchor=\"middle\" font-size=\"24\">2</text><rect x=\"100\" y=\"0\" width=\"100\" height=\"100\" stroke=\"white\" stroke-width=\"5px\" fill=\"silver\"/><rect x=\"200\" y=\"0\" width=\"100\" height=\"100\" stroke=\"white\" stroke-width=\"5px\" fill=\"silver\"/><rect x=\"300\" y=\"0\" width=\"100\" height=\"100\" stroke=\"white\" stroke-width=\"5px\" fill=\"antiquewhite\"/><text x=\"87.5%\" y=\"12.5%\" dominant-baseline=\"middle\" text-anchor=\"middle\" font-size=\"24\">4</text><rect x=\"0\" y=\"100\" width=\"100\" height=\"100\" stroke=\"white\" stroke-width=\"5px\" fill=\"silver\"/><rect x=\"100\" y=\"100\" width=\"100\" height=\"100\" stroke=\"white\" stroke-width=\"5px\" fill=\"silver\"/><rect x=\"200\" y=\"100\" width=\"100\" height=\"100\" stroke=\"white\" stroke-width=\"5px\" fill=\"lightsalmon\"/><text x=\"62.5%\" y=\"37.5%\" dominant-baseline=\"middle\" text-anchor=\"middle\" font-size=\"24\">8</text><rect x=\"300\" y=\"100\" width=\"100\" height=\"100\" stroke=\"white\" stroke-width=\"5px\" fill=\"lightsalmon\"/><text x=\"87.5%\" y=\"37.5%\" dominant-baseline=\"middle\" text-anchor=\"middle\" font-size=\"24\">8</text><rect x=\"0\" y=\"200\" width=\"100\" height=\"100\" stroke=\"white\" stroke-width=\"5px\" fill=\"silver\"/><rect x=\"100\" y=\"200\" width=\"100\" height=\"100\" stroke=\"white\" stroke-width=\"5px\" fill=\"antiquewhite\"/><text x=\"37.5%\" y=\"62.5%\" dominant-baseline=\"middle\" text-anchor=\"middle\" font-size=\"24\">4</text><rect x=\"200\" y=\"200\" width=\"100\" height=\"100\" stroke=\"white\" stroke-width=\"5px\" fill=\"lightsalmon\"/><text x=\"62.5%\" y=\"62.5%\" dominant-baseline=\"middle\" text-anchor=\"middle\" font-size=\"24\">8</text><rect x=\"300\" y=\"200\" width=\"100\" height=\"100\" stroke=\"white\" stroke-width=\"5px\" fill=\"tomato\"/><text x=\"87.5%\" y=\"62.5%\" dominant-baseline=\"middle\" text-anchor=\"middle\" font-size=\"24\">32</text><rect x=\"0\" y=\"300\" width=\"100\" height=\"100\" stroke=\"white\" stroke-width=\"5px\" fill=\"lightsalmon\"/><text x=\"12.5%\" y=\"87.5%\" dominant-baseline=\"middle\" text-anchor=\"middle\" font-size=\"24\">8</text><rect x=\"100\" y=\"300\" width=\"100\" height=\"100\" stroke=\"white\" stroke-width=\"5px\" fill=\"darksalmon\"/><text x=\"37.5%\" y=\"87.5%\" dominant-baseline=\"middle\" text-anchor=\"middle\" font-size=\"24\">16</text><rect x=\"200\" y=\"300\" width=\"100\" height=\"100\" stroke=\"white\" stroke-width=\"5px\" fill=\"tomato\"/><text x=\"62.5%\" y=\"87.5%\" dominant-baseline=\"middle\" text-anchor=\"middle\" font-size=\"24\">32</text><rect x=\"300\" y=\"300\" width=\"100\" height=\"100\" stroke=\"white\" stroke-width=\"5px\" fill=\"orangered\"/><text x=\"87.5%\" y=\"87.5%\" dominant-baseline=\"middle\" text-anchor=\"middle\" font-size=\"24\">64</text></svg>"
      ],
      "text/plain": [
       "<IPython.core.display.HTML object>"
      ]
     },
     "metadata": {},
     "output_type": "display_data"
    },
    {
     "name": "stdout",
     "output_type": "stream",
     "text": [
      "\n",
      "Movimiento: Derecha\n",
      "Puntuacion: 428\n",
      "Numero de movimientos: 82\n"
     ]
    },
    {
     "data": {
      "text/html": [
       "<svg height=\"400\" width=\"400\"><rect x=\"0\" y=\"0\" width=\"100\" height=\"100\" stroke=\"white\" stroke-width=\"5px\" fill=\"ivory\"/><text x=\"12.5%\" y=\"12.5%\" dominant-baseline=\"middle\" text-anchor=\"middle\" font-size=\"24\">2</text><rect x=\"100\" y=\"0\" width=\"100\" height=\"100\" stroke=\"white\" stroke-width=\"5px\" fill=\"silver\"/><rect x=\"200\" y=\"0\" width=\"100\" height=\"100\" stroke=\"white\" stroke-width=\"5px\" fill=\"silver\"/><rect x=\"300\" y=\"0\" width=\"100\" height=\"100\" stroke=\"white\" stroke-width=\"5px\" fill=\"antiquewhite\"/><text x=\"87.5%\" y=\"12.5%\" dominant-baseline=\"middle\" text-anchor=\"middle\" font-size=\"24\">4</text><rect x=\"0\" y=\"100\" width=\"100\" height=\"100\" stroke=\"white\" stroke-width=\"5px\" fill=\"silver\"/><rect x=\"100\" y=\"100\" width=\"100\" height=\"100\" stroke=\"white\" stroke-width=\"5px\" fill=\"silver\"/><rect x=\"200\" y=\"100\" width=\"100\" height=\"100\" stroke=\"white\" stroke-width=\"5px\" fill=\"silver\"/><rect x=\"300\" y=\"100\" width=\"100\" height=\"100\" stroke=\"white\" stroke-width=\"5px\" fill=\"lightsalmon\"/><text x=\"87.5%\" y=\"37.5%\" dominant-baseline=\"middle\" text-anchor=\"middle\" font-size=\"24\">8</text><rect x=\"0\" y=\"200\" width=\"100\" height=\"100\" stroke=\"white\" stroke-width=\"5px\" fill=\"ivory\"/><text x=\"12.5%\" y=\"62.5%\" dominant-baseline=\"middle\" text-anchor=\"middle\" font-size=\"24\">2</text><rect x=\"100\" y=\"200\" width=\"100\" height=\"100\" stroke=\"white\" stroke-width=\"5px\" fill=\"antiquewhite\"/><text x=\"37.5%\" y=\"62.5%\" dominant-baseline=\"middle\" text-anchor=\"middle\" font-size=\"24\">4</text><rect x=\"200\" y=\"200\" width=\"100\" height=\"100\" stroke=\"white\" stroke-width=\"5px\" fill=\"darksalmon\"/><text x=\"62.5%\" y=\"62.5%\" dominant-baseline=\"middle\" text-anchor=\"middle\" font-size=\"24\">16</text><rect x=\"300\" y=\"200\" width=\"100\" height=\"100\" stroke=\"white\" stroke-width=\"5px\" fill=\"tomato\"/><text x=\"87.5%\" y=\"62.5%\" dominant-baseline=\"middle\" text-anchor=\"middle\" font-size=\"24\">32</text><rect x=\"0\" y=\"300\" width=\"100\" height=\"100\" stroke=\"white\" stroke-width=\"5px\" fill=\"lightsalmon\"/><text x=\"12.5%\" y=\"87.5%\" dominant-baseline=\"middle\" text-anchor=\"middle\" font-size=\"24\">8</text><rect x=\"100\" y=\"300\" width=\"100\" height=\"100\" stroke=\"white\" stroke-width=\"5px\" fill=\"darksalmon\"/><text x=\"37.5%\" y=\"87.5%\" dominant-baseline=\"middle\" text-anchor=\"middle\" font-size=\"24\">16</text><rect x=\"200\" y=\"300\" width=\"100\" height=\"100\" stroke=\"white\" stroke-width=\"5px\" fill=\"tomato\"/><text x=\"62.5%\" y=\"87.5%\" dominant-baseline=\"middle\" text-anchor=\"middle\" font-size=\"24\">32</text><rect x=\"300\" y=\"300\" width=\"100\" height=\"100\" stroke=\"white\" stroke-width=\"5px\" fill=\"orangered\"/><text x=\"87.5%\" y=\"87.5%\" dominant-baseline=\"middle\" text-anchor=\"middle\" font-size=\"24\">64</text></svg>"
      ],
      "text/plain": [
       "<IPython.core.display.HTML object>"
      ]
     },
     "metadata": {},
     "output_type": "display_data"
    },
    {
     "name": "stdout",
     "output_type": "stream",
     "text": [
      "\n",
      "Movimiento: Derecha\n",
      "Puntuacion: 436\n",
      "Numero de movimientos: 83\n"
     ]
    },
    {
     "data": {
      "text/html": [
       "<svg height=\"400\" width=\"400\"><rect x=\"0\" y=\"0\" width=\"100\" height=\"100\" stroke=\"white\" stroke-width=\"5px\" fill=\"ivory\"/><text x=\"12.5%\" y=\"12.5%\" dominant-baseline=\"middle\" text-anchor=\"middle\" font-size=\"24\">2</text><rect x=\"100\" y=\"0\" width=\"100\" height=\"100\" stroke=\"white\" stroke-width=\"5px\" fill=\"silver\"/><rect x=\"200\" y=\"0\" width=\"100\" height=\"100\" stroke=\"white\" stroke-width=\"5px\" fill=\"silver\"/><rect x=\"300\" y=\"0\" width=\"100\" height=\"100\" stroke=\"white\" stroke-width=\"5px\" fill=\"antiquewhite\"/><text x=\"87.5%\" y=\"12.5%\" dominant-baseline=\"middle\" text-anchor=\"middle\" font-size=\"24\">4</text><rect x=\"0\" y=\"100\" width=\"100\" height=\"100\" stroke=\"white\" stroke-width=\"5px\" fill=\"silver\"/><rect x=\"100\" y=\"100\" width=\"100\" height=\"100\" stroke=\"white\" stroke-width=\"5px\" fill=\"silver\"/><rect x=\"200\" y=\"100\" width=\"100\" height=\"100\" stroke=\"white\" stroke-width=\"5px\" fill=\"silver\"/><rect x=\"300\" y=\"100\" width=\"100\" height=\"100\" stroke=\"white\" stroke-width=\"5px\" fill=\"lightsalmon\"/><text x=\"87.5%\" y=\"37.5%\" dominant-baseline=\"middle\" text-anchor=\"middle\" font-size=\"24\">8</text><rect x=\"0\" y=\"200\" width=\"100\" height=\"100\" stroke=\"white\" stroke-width=\"5px\" fill=\"silver\"/><rect x=\"100\" y=\"200\" width=\"100\" height=\"100\" stroke=\"white\" stroke-width=\"5px\" fill=\"lightsalmon\"/><text x=\"37.5%\" y=\"62.5%\" dominant-baseline=\"middle\" text-anchor=\"middle\" font-size=\"24\">8</text><rect x=\"200\" y=\"200\" width=\"100\" height=\"100\" stroke=\"white\" stroke-width=\"5px\" fill=\"darksalmon\"/><text x=\"62.5%\" y=\"62.5%\" dominant-baseline=\"middle\" text-anchor=\"middle\" font-size=\"24\">16</text><rect x=\"300\" y=\"200\" width=\"100\" height=\"100\" stroke=\"white\" stroke-width=\"5px\" fill=\"tomato\"/><text x=\"87.5%\" y=\"62.5%\" dominant-baseline=\"middle\" text-anchor=\"middle\" font-size=\"24\">32</text><rect x=\"0\" y=\"300\" width=\"100\" height=\"100\" stroke=\"white\" stroke-width=\"5px\" fill=\"lightsalmon\"/><text x=\"12.5%\" y=\"87.5%\" dominant-baseline=\"middle\" text-anchor=\"middle\" font-size=\"24\">8</text><rect x=\"100\" y=\"300\" width=\"100\" height=\"100\" stroke=\"white\" stroke-width=\"5px\" fill=\"darksalmon\"/><text x=\"37.5%\" y=\"87.5%\" dominant-baseline=\"middle\" text-anchor=\"middle\" font-size=\"24\">16</text><rect x=\"200\" y=\"300\" width=\"100\" height=\"100\" stroke=\"white\" stroke-width=\"5px\" fill=\"tomato\"/><text x=\"62.5%\" y=\"87.5%\" dominant-baseline=\"middle\" text-anchor=\"middle\" font-size=\"24\">32</text><rect x=\"300\" y=\"300\" width=\"100\" height=\"100\" stroke=\"white\" stroke-width=\"5px\" fill=\"orangered\"/><text x=\"87.5%\" y=\"87.5%\" dominant-baseline=\"middle\" text-anchor=\"middle\" font-size=\"24\">64</text></svg>"
      ],
      "text/plain": [
       "<IPython.core.display.HTML object>"
      ]
     },
     "metadata": {},
     "output_type": "display_data"
    },
    {
     "name": "stdout",
     "output_type": "stream",
     "text": [
      "\n",
      "Movimiento: Derecha\n",
      "Puntuacion: 436\n",
      "Numero de movimientos: 84\n"
     ]
    },
    {
     "data": {
      "text/html": [
       "<svg height=\"400\" width=\"400\"><rect x=\"0\" y=\"0\" width=\"100\" height=\"100\" stroke=\"white\" stroke-width=\"5px\" fill=\"silver\"/><rect x=\"100\" y=\"0\" width=\"100\" height=\"100\" stroke=\"white\" stroke-width=\"5px\" fill=\"silver\"/><rect x=\"200\" y=\"0\" width=\"100\" height=\"100\" stroke=\"white\" stroke-width=\"5px\" fill=\"silver\"/><rect x=\"300\" y=\"0\" width=\"100\" height=\"100\" stroke=\"white\" stroke-width=\"5px\" fill=\"antiquewhite\"/><text x=\"87.5%\" y=\"12.5%\" dominant-baseline=\"middle\" text-anchor=\"middle\" font-size=\"24\">4</text><rect x=\"0\" y=\"100\" width=\"100\" height=\"100\" stroke=\"white\" stroke-width=\"5px\" fill=\"silver\"/><rect x=\"100\" y=\"100\" width=\"100\" height=\"100\" stroke=\"white\" stroke-width=\"5px\" fill=\"ivory\"/><text x=\"37.5%\" y=\"37.5%\" dominant-baseline=\"middle\" text-anchor=\"middle\" font-size=\"24\">2</text><rect x=\"200\" y=\"100\" width=\"100\" height=\"100\" stroke=\"white\" stroke-width=\"5px\" fill=\"silver\"/><rect x=\"300\" y=\"100\" width=\"100\" height=\"100\" stroke=\"white\" stroke-width=\"5px\" fill=\"lightsalmon\"/><text x=\"87.5%\" y=\"37.5%\" dominant-baseline=\"middle\" text-anchor=\"middle\" font-size=\"24\">8</text><rect x=\"0\" y=\"200\" width=\"100\" height=\"100\" stroke=\"white\" stroke-width=\"5px\" fill=\"ivory\"/><text x=\"12.5%\" y=\"62.5%\" dominant-baseline=\"middle\" text-anchor=\"middle\" font-size=\"24\">2</text><rect x=\"100\" y=\"200\" width=\"100\" height=\"100\" stroke=\"white\" stroke-width=\"5px\" fill=\"lightsalmon\"/><text x=\"37.5%\" y=\"62.5%\" dominant-baseline=\"middle\" text-anchor=\"middle\" font-size=\"24\">8</text><rect x=\"200\" y=\"200\" width=\"100\" height=\"100\" stroke=\"white\" stroke-width=\"5px\" fill=\"darksalmon\"/><text x=\"62.5%\" y=\"62.5%\" dominant-baseline=\"middle\" text-anchor=\"middle\" font-size=\"24\">16</text><rect x=\"300\" y=\"200\" width=\"100\" height=\"100\" stroke=\"white\" stroke-width=\"5px\" fill=\"tomato\"/><text x=\"87.5%\" y=\"62.5%\" dominant-baseline=\"middle\" text-anchor=\"middle\" font-size=\"24\">32</text><rect x=\"0\" y=\"300\" width=\"100\" height=\"100\" stroke=\"white\" stroke-width=\"5px\" fill=\"lightsalmon\"/><text x=\"12.5%\" y=\"87.5%\" dominant-baseline=\"middle\" text-anchor=\"middle\" font-size=\"24\">8</text><rect x=\"100\" y=\"300\" width=\"100\" height=\"100\" stroke=\"white\" stroke-width=\"5px\" fill=\"darksalmon\"/><text x=\"37.5%\" y=\"87.5%\" dominant-baseline=\"middle\" text-anchor=\"middle\" font-size=\"24\">16</text><rect x=\"200\" y=\"300\" width=\"100\" height=\"100\" stroke=\"white\" stroke-width=\"5px\" fill=\"tomato\"/><text x=\"62.5%\" y=\"87.5%\" dominant-baseline=\"middle\" text-anchor=\"middle\" font-size=\"24\">32</text><rect x=\"300\" y=\"300\" width=\"100\" height=\"100\" stroke=\"white\" stroke-width=\"5px\" fill=\"orangered\"/><text x=\"87.5%\" y=\"87.5%\" dominant-baseline=\"middle\" text-anchor=\"middle\" font-size=\"24\">64</text></svg>"
      ],
      "text/plain": [
       "<IPython.core.display.HTML object>"
      ]
     },
     "metadata": {},
     "output_type": "display_data"
    },
    {
     "name": "stdout",
     "output_type": "stream",
     "text": [
      "\n",
      "Movimiento: Abajo\n",
      "Puntuacion: 436\n",
      "Numero de movimientos: 85\n"
     ]
    },
    {
     "data": {
      "text/html": [
       "<svg height=\"400\" width=\"400\"><rect x=\"0\" y=\"0\" width=\"100\" height=\"100\" stroke=\"white\" stroke-width=\"5px\" fill=\"silver\"/><rect x=\"100\" y=\"0\" width=\"100\" height=\"100\" stroke=\"white\" stroke-width=\"5px\" fill=\"ivory\"/><text x=\"37.5%\" y=\"12.5%\" dominant-baseline=\"middle\" text-anchor=\"middle\" font-size=\"24\">2</text><rect x=\"200\" y=\"0\" width=\"100\" height=\"100\" stroke=\"white\" stroke-width=\"5px\" fill=\"silver\"/><rect x=\"300\" y=\"0\" width=\"100\" height=\"100\" stroke=\"white\" stroke-width=\"5px\" fill=\"antiquewhite\"/><text x=\"87.5%\" y=\"12.5%\" dominant-baseline=\"middle\" text-anchor=\"middle\" font-size=\"24\">4</text><rect x=\"0\" y=\"100\" width=\"100\" height=\"100\" stroke=\"white\" stroke-width=\"5px\" fill=\"silver\"/><rect x=\"100\" y=\"100\" width=\"100\" height=\"100\" stroke=\"white\" stroke-width=\"5px\" fill=\"ivory\"/><text x=\"37.5%\" y=\"37.5%\" dominant-baseline=\"middle\" text-anchor=\"middle\" font-size=\"24\">2</text><rect x=\"200\" y=\"100\" width=\"100\" height=\"100\" stroke=\"white\" stroke-width=\"5px\" fill=\"silver\"/><rect x=\"300\" y=\"100\" width=\"100\" height=\"100\" stroke=\"white\" stroke-width=\"5px\" fill=\"lightsalmon\"/><text x=\"87.5%\" y=\"37.5%\" dominant-baseline=\"middle\" text-anchor=\"middle\" font-size=\"24\">8</text><rect x=\"0\" y=\"200\" width=\"100\" height=\"100\" stroke=\"white\" stroke-width=\"5px\" fill=\"ivory\"/><text x=\"12.5%\" y=\"62.5%\" dominant-baseline=\"middle\" text-anchor=\"middle\" font-size=\"24\">2</text><rect x=\"100\" y=\"200\" width=\"100\" height=\"100\" stroke=\"white\" stroke-width=\"5px\" fill=\"lightsalmon\"/><text x=\"37.5%\" y=\"62.5%\" dominant-baseline=\"middle\" text-anchor=\"middle\" font-size=\"24\">8</text><rect x=\"200\" y=\"200\" width=\"100\" height=\"100\" stroke=\"white\" stroke-width=\"5px\" fill=\"darksalmon\"/><text x=\"62.5%\" y=\"62.5%\" dominant-baseline=\"middle\" text-anchor=\"middle\" font-size=\"24\">16</text><rect x=\"300\" y=\"200\" width=\"100\" height=\"100\" stroke=\"white\" stroke-width=\"5px\" fill=\"tomato\"/><text x=\"87.5%\" y=\"62.5%\" dominant-baseline=\"middle\" text-anchor=\"middle\" font-size=\"24\">32</text><rect x=\"0\" y=\"300\" width=\"100\" height=\"100\" stroke=\"white\" stroke-width=\"5px\" fill=\"lightsalmon\"/><text x=\"12.5%\" y=\"87.5%\" dominant-baseline=\"middle\" text-anchor=\"middle\" font-size=\"24\">8</text><rect x=\"100\" y=\"300\" width=\"100\" height=\"100\" stroke=\"white\" stroke-width=\"5px\" fill=\"darksalmon\"/><text x=\"37.5%\" y=\"87.5%\" dominant-baseline=\"middle\" text-anchor=\"middle\" font-size=\"24\">16</text><rect x=\"200\" y=\"300\" width=\"100\" height=\"100\" stroke=\"white\" stroke-width=\"5px\" fill=\"tomato\"/><text x=\"62.5%\" y=\"87.5%\" dominant-baseline=\"middle\" text-anchor=\"middle\" font-size=\"24\">32</text><rect x=\"300\" y=\"300\" width=\"100\" height=\"100\" stroke=\"white\" stroke-width=\"5px\" fill=\"orangered\"/><text x=\"87.5%\" y=\"87.5%\" dominant-baseline=\"middle\" text-anchor=\"middle\" font-size=\"24\">64</text></svg>"
      ],
      "text/plain": [
       "<IPython.core.display.HTML object>"
      ]
     },
     "metadata": {},
     "output_type": "display_data"
    },
    {
     "name": "stdout",
     "output_type": "stream",
     "text": [
      "\n",
      "Movimiento: Derecha\n",
      "Puntuacion: 436\n",
      "Numero de movimientos: 86\n"
     ]
    },
    {
     "data": {
      "text/html": [
       "<svg height=\"400\" width=\"400\"><rect x=\"0\" y=\"0\" width=\"100\" height=\"100\" stroke=\"white\" stroke-width=\"5px\" fill=\"silver\"/><rect x=\"100\" y=\"0\" width=\"100\" height=\"100\" stroke=\"white\" stroke-width=\"5px\" fill=\"ivory\"/><text x=\"37.5%\" y=\"12.5%\" dominant-baseline=\"middle\" text-anchor=\"middle\" font-size=\"24\">2</text><rect x=\"200\" y=\"0\" width=\"100\" height=\"100\" stroke=\"white\" stroke-width=\"5px\" fill=\"silver\"/><rect x=\"300\" y=\"0\" width=\"100\" height=\"100\" stroke=\"white\" stroke-width=\"5px\" fill=\"antiquewhite\"/><text x=\"87.5%\" y=\"12.5%\" dominant-baseline=\"middle\" text-anchor=\"middle\" font-size=\"24\">4</text><rect x=\"0\" y=\"100\" width=\"100\" height=\"100\" stroke=\"white\" stroke-width=\"5px\" fill=\"silver\"/><rect x=\"100\" y=\"100\" width=\"100\" height=\"100\" stroke=\"white\" stroke-width=\"5px\" fill=\"silver\"/><rect x=\"200\" y=\"100\" width=\"100\" height=\"100\" stroke=\"white\" stroke-width=\"5px\" fill=\"antiquewhite\"/><text x=\"62.5%\" y=\"37.5%\" dominant-baseline=\"middle\" text-anchor=\"middle\" font-size=\"24\">4</text><rect x=\"300\" y=\"100\" width=\"100\" height=\"100\" stroke=\"white\" stroke-width=\"5px\" fill=\"lightsalmon\"/><text x=\"87.5%\" y=\"37.5%\" dominant-baseline=\"middle\" text-anchor=\"middle\" font-size=\"24\">8</text><rect x=\"0\" y=\"200\" width=\"100\" height=\"100\" stroke=\"white\" stroke-width=\"5px\" fill=\"ivory\"/><text x=\"12.5%\" y=\"62.5%\" dominant-baseline=\"middle\" text-anchor=\"middle\" font-size=\"24\">2</text><rect x=\"100\" y=\"200\" width=\"100\" height=\"100\" stroke=\"white\" stroke-width=\"5px\" fill=\"lightsalmon\"/><text x=\"37.5%\" y=\"62.5%\" dominant-baseline=\"middle\" text-anchor=\"middle\" font-size=\"24\">8</text><rect x=\"200\" y=\"200\" width=\"100\" height=\"100\" stroke=\"white\" stroke-width=\"5px\" fill=\"darksalmon\"/><text x=\"62.5%\" y=\"62.5%\" dominant-baseline=\"middle\" text-anchor=\"middle\" font-size=\"24\">16</text><rect x=\"300\" y=\"200\" width=\"100\" height=\"100\" stroke=\"white\" stroke-width=\"5px\" fill=\"tomato\"/><text x=\"87.5%\" y=\"62.5%\" dominant-baseline=\"middle\" text-anchor=\"middle\" font-size=\"24\">32</text><rect x=\"0\" y=\"300\" width=\"100\" height=\"100\" stroke=\"white\" stroke-width=\"5px\" fill=\"lightsalmon\"/><text x=\"12.5%\" y=\"87.5%\" dominant-baseline=\"middle\" text-anchor=\"middle\" font-size=\"24\">8</text><rect x=\"100\" y=\"300\" width=\"100\" height=\"100\" stroke=\"white\" stroke-width=\"5px\" fill=\"darksalmon\"/><text x=\"37.5%\" y=\"87.5%\" dominant-baseline=\"middle\" text-anchor=\"middle\" font-size=\"24\">16</text><rect x=\"200\" y=\"300\" width=\"100\" height=\"100\" stroke=\"white\" stroke-width=\"5px\" fill=\"tomato\"/><text x=\"62.5%\" y=\"87.5%\" dominant-baseline=\"middle\" text-anchor=\"middle\" font-size=\"24\">32</text><rect x=\"300\" y=\"300\" width=\"100\" height=\"100\" stroke=\"white\" stroke-width=\"5px\" fill=\"orangered\"/><text x=\"87.5%\" y=\"87.5%\" dominant-baseline=\"middle\" text-anchor=\"middle\" font-size=\"24\">64</text></svg>"
      ],
      "text/plain": [
       "<IPython.core.display.HTML object>"
      ]
     },
     "metadata": {},
     "output_type": "display_data"
    },
    {
     "name": "stdout",
     "output_type": "stream",
     "text": [
      "\n",
      "Movimiento: Derecha\n",
      "Puntuacion: 436\n",
      "Numero de movimientos: 87\n"
     ]
    },
    {
     "data": {
      "text/html": [
       "<svg height=\"400\" width=\"400\"><rect x=\"0\" y=\"0\" width=\"100\" height=\"100\" stroke=\"white\" stroke-width=\"5px\" fill=\"silver\"/><rect x=\"100\" y=\"0\" width=\"100\" height=\"100\" stroke=\"white\" stroke-width=\"5px\" fill=\"silver\"/><rect x=\"200\" y=\"0\" width=\"100\" height=\"100\" stroke=\"white\" stroke-width=\"5px\" fill=\"silver\"/><rect x=\"300\" y=\"0\" width=\"100\" height=\"100\" stroke=\"white\" stroke-width=\"5px\" fill=\"antiquewhite\"/><text x=\"87.5%\" y=\"12.5%\" dominant-baseline=\"middle\" text-anchor=\"middle\" font-size=\"24\">4</text><rect x=\"0\" y=\"100\" width=\"100\" height=\"100\" stroke=\"white\" stroke-width=\"5px\" fill=\"ivory\"/><text x=\"12.5%\" y=\"37.5%\" dominant-baseline=\"middle\" text-anchor=\"middle\" font-size=\"24\">2</text><rect x=\"100\" y=\"100\" width=\"100\" height=\"100\" stroke=\"white\" stroke-width=\"5px\" fill=\"ivory\"/><text x=\"37.5%\" y=\"37.5%\" dominant-baseline=\"middle\" text-anchor=\"middle\" font-size=\"24\">2</text><rect x=\"200\" y=\"100\" width=\"100\" height=\"100\" stroke=\"white\" stroke-width=\"5px\" fill=\"antiquewhite\"/><text x=\"62.5%\" y=\"37.5%\" dominant-baseline=\"middle\" text-anchor=\"middle\" font-size=\"24\">4</text><rect x=\"300\" y=\"100\" width=\"100\" height=\"100\" stroke=\"white\" stroke-width=\"5px\" fill=\"lightsalmon\"/><text x=\"87.5%\" y=\"37.5%\" dominant-baseline=\"middle\" text-anchor=\"middle\" font-size=\"24\">8</text><rect x=\"0\" y=\"200\" width=\"100\" height=\"100\" stroke=\"white\" stroke-width=\"5px\" fill=\"ivory\"/><text x=\"12.5%\" y=\"62.5%\" dominant-baseline=\"middle\" text-anchor=\"middle\" font-size=\"24\">2</text><rect x=\"100\" y=\"200\" width=\"100\" height=\"100\" stroke=\"white\" stroke-width=\"5px\" fill=\"lightsalmon\"/><text x=\"37.5%\" y=\"62.5%\" dominant-baseline=\"middle\" text-anchor=\"middle\" font-size=\"24\">8</text><rect x=\"200\" y=\"200\" width=\"100\" height=\"100\" stroke=\"white\" stroke-width=\"5px\" fill=\"darksalmon\"/><text x=\"62.5%\" y=\"62.5%\" dominant-baseline=\"middle\" text-anchor=\"middle\" font-size=\"24\">16</text><rect x=\"300\" y=\"200\" width=\"100\" height=\"100\" stroke=\"white\" stroke-width=\"5px\" fill=\"tomato\"/><text x=\"87.5%\" y=\"62.5%\" dominant-baseline=\"middle\" text-anchor=\"middle\" font-size=\"24\">32</text><rect x=\"0\" y=\"300\" width=\"100\" height=\"100\" stroke=\"white\" stroke-width=\"5px\" fill=\"lightsalmon\"/><text x=\"12.5%\" y=\"87.5%\" dominant-baseline=\"middle\" text-anchor=\"middle\" font-size=\"24\">8</text><rect x=\"100\" y=\"300\" width=\"100\" height=\"100\" stroke=\"white\" stroke-width=\"5px\" fill=\"darksalmon\"/><text x=\"37.5%\" y=\"87.5%\" dominant-baseline=\"middle\" text-anchor=\"middle\" font-size=\"24\">16</text><rect x=\"200\" y=\"300\" width=\"100\" height=\"100\" stroke=\"white\" stroke-width=\"5px\" fill=\"tomato\"/><text x=\"62.5%\" y=\"87.5%\" dominant-baseline=\"middle\" text-anchor=\"middle\" font-size=\"24\">32</text><rect x=\"300\" y=\"300\" width=\"100\" height=\"100\" stroke=\"white\" stroke-width=\"5px\" fill=\"orangered\"/><text x=\"87.5%\" y=\"87.5%\" dominant-baseline=\"middle\" text-anchor=\"middle\" font-size=\"24\">64</text></svg>"
      ],
      "text/plain": [
       "<IPython.core.display.HTML object>"
      ]
     },
     "metadata": {},
     "output_type": "display_data"
    },
    {
     "name": "stdout",
     "output_type": "stream",
     "text": [
      "\n",
      "Movimiento: Derecha\n",
      "Puntuacion: 436\n",
      "Numero de movimientos: 88\n"
     ]
    },
    {
     "data": {
      "text/html": [
       "<svg height=\"400\" width=\"400\"><rect x=\"0\" y=\"0\" width=\"100\" height=\"100\" stroke=\"white\" stroke-width=\"5px\" fill=\"silver\"/><rect x=\"100\" y=\"0\" width=\"100\" height=\"100\" stroke=\"white\" stroke-width=\"5px\" fill=\"silver\"/><rect x=\"200\" y=\"0\" width=\"100\" height=\"100\" stroke=\"white\" stroke-width=\"5px\" fill=\"ivory\"/><text x=\"62.5%\" y=\"12.5%\" dominant-baseline=\"middle\" text-anchor=\"middle\" font-size=\"24\">2</text><rect x=\"300\" y=\"0\" width=\"100\" height=\"100\" stroke=\"white\" stroke-width=\"5px\" fill=\"antiquewhite\"/><text x=\"87.5%\" y=\"12.5%\" dominant-baseline=\"middle\" text-anchor=\"middle\" font-size=\"24\">4</text><rect x=\"0\" y=\"100\" width=\"100\" height=\"100\" stroke=\"white\" stroke-width=\"5px\" fill=\"silver\"/><rect x=\"100\" y=\"100\" width=\"100\" height=\"100\" stroke=\"white\" stroke-width=\"5px\" fill=\"ivory\"/><text x=\"37.5%\" y=\"37.5%\" dominant-baseline=\"middle\" text-anchor=\"middle\" font-size=\"24\">2</text><rect x=\"200\" y=\"100\" width=\"100\" height=\"100\" stroke=\"white\" stroke-width=\"5px\" fill=\"antiquewhite\"/><text x=\"62.5%\" y=\"37.5%\" dominant-baseline=\"middle\" text-anchor=\"middle\" font-size=\"24\">4</text><rect x=\"300\" y=\"100\" width=\"100\" height=\"100\" stroke=\"white\" stroke-width=\"5px\" fill=\"lightsalmon\"/><text x=\"87.5%\" y=\"37.5%\" dominant-baseline=\"middle\" text-anchor=\"middle\" font-size=\"24\">8</text><rect x=\"0\" y=\"200\" width=\"100\" height=\"100\" stroke=\"white\" stroke-width=\"5px\" fill=\"antiquewhite\"/><text x=\"12.5%\" y=\"62.5%\" dominant-baseline=\"middle\" text-anchor=\"middle\" font-size=\"24\">4</text><rect x=\"100\" y=\"200\" width=\"100\" height=\"100\" stroke=\"white\" stroke-width=\"5px\" fill=\"lightsalmon\"/><text x=\"37.5%\" y=\"62.5%\" dominant-baseline=\"middle\" text-anchor=\"middle\" font-size=\"24\">8</text><rect x=\"200\" y=\"200\" width=\"100\" height=\"100\" stroke=\"white\" stroke-width=\"5px\" fill=\"darksalmon\"/><text x=\"62.5%\" y=\"62.5%\" dominant-baseline=\"middle\" text-anchor=\"middle\" font-size=\"24\">16</text><rect x=\"300\" y=\"200\" width=\"100\" height=\"100\" stroke=\"white\" stroke-width=\"5px\" fill=\"tomato\"/><text x=\"87.5%\" y=\"62.5%\" dominant-baseline=\"middle\" text-anchor=\"middle\" font-size=\"24\">32</text><rect x=\"0\" y=\"300\" width=\"100\" height=\"100\" stroke=\"white\" stroke-width=\"5px\" fill=\"lightsalmon\"/><text x=\"12.5%\" y=\"87.5%\" dominant-baseline=\"middle\" text-anchor=\"middle\" font-size=\"24\">8</text><rect x=\"100\" y=\"300\" width=\"100\" height=\"100\" stroke=\"white\" stroke-width=\"5px\" fill=\"darksalmon\"/><text x=\"37.5%\" y=\"87.5%\" dominant-baseline=\"middle\" text-anchor=\"middle\" font-size=\"24\">16</text><rect x=\"200\" y=\"300\" width=\"100\" height=\"100\" stroke=\"white\" stroke-width=\"5px\" fill=\"tomato\"/><text x=\"62.5%\" y=\"87.5%\" dominant-baseline=\"middle\" text-anchor=\"middle\" font-size=\"24\">32</text><rect x=\"300\" y=\"300\" width=\"100\" height=\"100\" stroke=\"white\" stroke-width=\"5px\" fill=\"orangered\"/><text x=\"87.5%\" y=\"87.5%\" dominant-baseline=\"middle\" text-anchor=\"middle\" font-size=\"24\">64</text></svg>"
      ],
      "text/plain": [
       "<IPython.core.display.HTML object>"
      ]
     },
     "metadata": {},
     "output_type": "display_data"
    },
    {
     "name": "stdout",
     "output_type": "stream",
     "text": [
      "\n",
      "Movimiento: Abajo\n",
      "Puntuacion: 436\n",
      "Numero de movimientos: 89\n"
     ]
    },
    {
     "data": {
      "text/html": [
       "<svg height=\"400\" width=\"400\"><rect x=\"0\" y=\"0\" width=\"100\" height=\"100\" stroke=\"white\" stroke-width=\"5px\" fill=\"silver\"/><rect x=\"100\" y=\"0\" width=\"100\" height=\"100\" stroke=\"white\" stroke-width=\"5px\" fill=\"silver\"/><rect x=\"200\" y=\"0\" width=\"100\" height=\"100\" stroke=\"white\" stroke-width=\"5px\" fill=\"ivory\"/><text x=\"62.5%\" y=\"12.5%\" dominant-baseline=\"middle\" text-anchor=\"middle\" font-size=\"24\">2</text><rect x=\"300\" y=\"0\" width=\"100\" height=\"100\" stroke=\"white\" stroke-width=\"5px\" fill=\"antiquewhite\"/><text x=\"87.5%\" y=\"12.5%\" dominant-baseline=\"middle\" text-anchor=\"middle\" font-size=\"24\">4</text><rect x=\"0\" y=\"100\" width=\"100\" height=\"100\" stroke=\"white\" stroke-width=\"5px\" fill=\"ivory\"/><text x=\"12.5%\" y=\"37.5%\" dominant-baseline=\"middle\" text-anchor=\"middle\" font-size=\"24\">2</text><rect x=\"100\" y=\"100\" width=\"100\" height=\"100\" stroke=\"white\" stroke-width=\"5px\" fill=\"ivory\"/><text x=\"37.5%\" y=\"37.5%\" dominant-baseline=\"middle\" text-anchor=\"middle\" font-size=\"24\">2</text><rect x=\"200\" y=\"100\" width=\"100\" height=\"100\" stroke=\"white\" stroke-width=\"5px\" fill=\"antiquewhite\"/><text x=\"62.5%\" y=\"37.5%\" dominant-baseline=\"middle\" text-anchor=\"middle\" font-size=\"24\">4</text><rect x=\"300\" y=\"100\" width=\"100\" height=\"100\" stroke=\"white\" stroke-width=\"5px\" fill=\"lightsalmon\"/><text x=\"87.5%\" y=\"37.5%\" dominant-baseline=\"middle\" text-anchor=\"middle\" font-size=\"24\">8</text><rect x=\"0\" y=\"200\" width=\"100\" height=\"100\" stroke=\"white\" stroke-width=\"5px\" fill=\"antiquewhite\"/><text x=\"12.5%\" y=\"62.5%\" dominant-baseline=\"middle\" text-anchor=\"middle\" font-size=\"24\">4</text><rect x=\"100\" y=\"200\" width=\"100\" height=\"100\" stroke=\"white\" stroke-width=\"5px\" fill=\"lightsalmon\"/><text x=\"37.5%\" y=\"62.5%\" dominant-baseline=\"middle\" text-anchor=\"middle\" font-size=\"24\">8</text><rect x=\"200\" y=\"200\" width=\"100\" height=\"100\" stroke=\"white\" stroke-width=\"5px\" fill=\"darksalmon\"/><text x=\"62.5%\" y=\"62.5%\" dominant-baseline=\"middle\" text-anchor=\"middle\" font-size=\"24\">16</text><rect x=\"300\" y=\"200\" width=\"100\" height=\"100\" stroke=\"white\" stroke-width=\"5px\" fill=\"tomato\"/><text x=\"87.5%\" y=\"62.5%\" dominant-baseline=\"middle\" text-anchor=\"middle\" font-size=\"24\">32</text><rect x=\"0\" y=\"300\" width=\"100\" height=\"100\" stroke=\"white\" stroke-width=\"5px\" fill=\"lightsalmon\"/><text x=\"12.5%\" y=\"87.5%\" dominant-baseline=\"middle\" text-anchor=\"middle\" font-size=\"24\">8</text><rect x=\"100\" y=\"300\" width=\"100\" height=\"100\" stroke=\"white\" stroke-width=\"5px\" fill=\"darksalmon\"/><text x=\"37.5%\" y=\"87.5%\" dominant-baseline=\"middle\" text-anchor=\"middle\" font-size=\"24\">16</text><rect x=\"200\" y=\"300\" width=\"100\" height=\"100\" stroke=\"white\" stroke-width=\"5px\" fill=\"tomato\"/><text x=\"62.5%\" y=\"87.5%\" dominant-baseline=\"middle\" text-anchor=\"middle\" font-size=\"24\">32</text><rect x=\"300\" y=\"300\" width=\"100\" height=\"100\" stroke=\"white\" stroke-width=\"5px\" fill=\"orangered\"/><text x=\"87.5%\" y=\"87.5%\" dominant-baseline=\"middle\" text-anchor=\"middle\" font-size=\"24\">64</text></svg>"
      ],
      "text/plain": [
       "<IPython.core.display.HTML object>"
      ]
     },
     "metadata": {},
     "output_type": "display_data"
    },
    {
     "name": "stdout",
     "output_type": "stream",
     "text": [
      "\n",
      "Movimiento: Abajo\n",
      "Puntuacion: 436\n",
      "Numero de movimientos: 90\n"
     ]
    },
    {
     "data": {
      "text/html": [
       "<svg height=\"400\" width=\"400\"><rect x=\"0\" y=\"0\" width=\"100\" height=\"100\" stroke=\"white\" stroke-width=\"5px\" fill=\"silver\"/><rect x=\"100\" y=\"0\" width=\"100\" height=\"100\" stroke=\"white\" stroke-width=\"5px\" fill=\"ivory\"/><text x=\"37.5%\" y=\"12.5%\" dominant-baseline=\"middle\" text-anchor=\"middle\" font-size=\"24\">2</text><rect x=\"200\" y=\"0\" width=\"100\" height=\"100\" stroke=\"white\" stroke-width=\"5px\" fill=\"ivory\"/><text x=\"62.5%\" y=\"12.5%\" dominant-baseline=\"middle\" text-anchor=\"middle\" font-size=\"24\">2</text><rect x=\"300\" y=\"0\" width=\"100\" height=\"100\" stroke=\"white\" stroke-width=\"5px\" fill=\"antiquewhite\"/><text x=\"87.5%\" y=\"12.5%\" dominant-baseline=\"middle\" text-anchor=\"middle\" font-size=\"24\">4</text><rect x=\"0\" y=\"100\" width=\"100\" height=\"100\" stroke=\"white\" stroke-width=\"5px\" fill=\"ivory\"/><text x=\"12.5%\" y=\"37.5%\" dominant-baseline=\"middle\" text-anchor=\"middle\" font-size=\"24\">2</text><rect x=\"100\" y=\"100\" width=\"100\" height=\"100\" stroke=\"white\" stroke-width=\"5px\" fill=\"ivory\"/><text x=\"37.5%\" y=\"37.5%\" dominant-baseline=\"middle\" text-anchor=\"middle\" font-size=\"24\">2</text><rect x=\"200\" y=\"100\" width=\"100\" height=\"100\" stroke=\"white\" stroke-width=\"5px\" fill=\"antiquewhite\"/><text x=\"62.5%\" y=\"37.5%\" dominant-baseline=\"middle\" text-anchor=\"middle\" font-size=\"24\">4</text><rect x=\"300\" y=\"100\" width=\"100\" height=\"100\" stroke=\"white\" stroke-width=\"5px\" fill=\"lightsalmon\"/><text x=\"87.5%\" y=\"37.5%\" dominant-baseline=\"middle\" text-anchor=\"middle\" font-size=\"24\">8</text><rect x=\"0\" y=\"200\" width=\"100\" height=\"100\" stroke=\"white\" stroke-width=\"5px\" fill=\"antiquewhite\"/><text x=\"12.5%\" y=\"62.5%\" dominant-baseline=\"middle\" text-anchor=\"middle\" font-size=\"24\">4</text><rect x=\"100\" y=\"200\" width=\"100\" height=\"100\" stroke=\"white\" stroke-width=\"5px\" fill=\"lightsalmon\"/><text x=\"37.5%\" y=\"62.5%\" dominant-baseline=\"middle\" text-anchor=\"middle\" font-size=\"24\">8</text><rect x=\"200\" y=\"200\" width=\"100\" height=\"100\" stroke=\"white\" stroke-width=\"5px\" fill=\"darksalmon\"/><text x=\"62.5%\" y=\"62.5%\" dominant-baseline=\"middle\" text-anchor=\"middle\" font-size=\"24\">16</text><rect x=\"300\" y=\"200\" width=\"100\" height=\"100\" stroke=\"white\" stroke-width=\"5px\" fill=\"tomato\"/><text x=\"87.5%\" y=\"62.5%\" dominant-baseline=\"middle\" text-anchor=\"middle\" font-size=\"24\">32</text><rect x=\"0\" y=\"300\" width=\"100\" height=\"100\" stroke=\"white\" stroke-width=\"5px\" fill=\"lightsalmon\"/><text x=\"12.5%\" y=\"87.5%\" dominant-baseline=\"middle\" text-anchor=\"middle\" font-size=\"24\">8</text><rect x=\"100\" y=\"300\" width=\"100\" height=\"100\" stroke=\"white\" stroke-width=\"5px\" fill=\"darksalmon\"/><text x=\"37.5%\" y=\"87.5%\" dominant-baseline=\"middle\" text-anchor=\"middle\" font-size=\"24\">16</text><rect x=\"200\" y=\"300\" width=\"100\" height=\"100\" stroke=\"white\" stroke-width=\"5px\" fill=\"tomato\"/><text x=\"62.5%\" y=\"87.5%\" dominant-baseline=\"middle\" text-anchor=\"middle\" font-size=\"24\">32</text><rect x=\"300\" y=\"300\" width=\"100\" height=\"100\" stroke=\"white\" stroke-width=\"5px\" fill=\"orangered\"/><text x=\"87.5%\" y=\"87.5%\" dominant-baseline=\"middle\" text-anchor=\"middle\" font-size=\"24\">64</text></svg>"
      ],
      "text/plain": [
       "<IPython.core.display.HTML object>"
      ]
     },
     "metadata": {},
     "output_type": "display_data"
    },
    {
     "name": "stdout",
     "output_type": "stream",
     "text": [
      "\n",
      "Movimiento: Derecha\n",
      "Puntuacion: 444\n",
      "Numero de movimientos: 91\n"
     ]
    },
    {
     "data": {
      "text/html": [
       "<svg height=\"400\" width=\"400\"><rect x=\"0\" y=\"0\" width=\"100\" height=\"100\" stroke=\"white\" stroke-width=\"5px\" fill=\"ivory\"/><text x=\"12.5%\" y=\"12.5%\" dominant-baseline=\"middle\" text-anchor=\"middle\" font-size=\"24\">2</text><rect x=\"100\" y=\"0\" width=\"100\" height=\"100\" stroke=\"white\" stroke-width=\"5px\" fill=\"silver\"/><rect x=\"200\" y=\"0\" width=\"100\" height=\"100\" stroke=\"white\" stroke-width=\"5px\" fill=\"ivory\"/><text x=\"62.5%\" y=\"12.5%\" dominant-baseline=\"middle\" text-anchor=\"middle\" font-size=\"24\">2</text><rect x=\"300\" y=\"0\" width=\"100\" height=\"100\" stroke=\"white\" stroke-width=\"5px\" fill=\"antiquewhite\"/><text x=\"87.5%\" y=\"12.5%\" dominant-baseline=\"middle\" text-anchor=\"middle\" font-size=\"24\">4</text><rect x=\"0\" y=\"100\" width=\"100\" height=\"100\" stroke=\"white\" stroke-width=\"5px\" fill=\"silver\"/><rect x=\"100\" y=\"100\" width=\"100\" height=\"100\" stroke=\"white\" stroke-width=\"5px\" fill=\"ivory\"/><text x=\"37.5%\" y=\"37.5%\" dominant-baseline=\"middle\" text-anchor=\"middle\" font-size=\"24\">2</text><rect x=\"200\" y=\"100\" width=\"100\" height=\"100\" stroke=\"white\" stroke-width=\"5px\" fill=\"lightsalmon\"/><text x=\"62.5%\" y=\"37.5%\" dominant-baseline=\"middle\" text-anchor=\"middle\" font-size=\"24\">8</text><rect x=\"300\" y=\"100\" width=\"100\" height=\"100\" stroke=\"white\" stroke-width=\"5px\" fill=\"lightsalmon\"/><text x=\"87.5%\" y=\"37.5%\" dominant-baseline=\"middle\" text-anchor=\"middle\" font-size=\"24\">8</text><rect x=\"0\" y=\"200\" width=\"100\" height=\"100\" stroke=\"white\" stroke-width=\"5px\" fill=\"antiquewhite\"/><text x=\"12.5%\" y=\"62.5%\" dominant-baseline=\"middle\" text-anchor=\"middle\" font-size=\"24\">4</text><rect x=\"100\" y=\"200\" width=\"100\" height=\"100\" stroke=\"white\" stroke-width=\"5px\" fill=\"lightsalmon\"/><text x=\"37.5%\" y=\"62.5%\" dominant-baseline=\"middle\" text-anchor=\"middle\" font-size=\"24\">8</text><rect x=\"200\" y=\"200\" width=\"100\" height=\"100\" stroke=\"white\" stroke-width=\"5px\" fill=\"darksalmon\"/><text x=\"62.5%\" y=\"62.5%\" dominant-baseline=\"middle\" text-anchor=\"middle\" font-size=\"24\">16</text><rect x=\"300\" y=\"200\" width=\"100\" height=\"100\" stroke=\"white\" stroke-width=\"5px\" fill=\"tomato\"/><text x=\"87.5%\" y=\"62.5%\" dominant-baseline=\"middle\" text-anchor=\"middle\" font-size=\"24\">32</text><rect x=\"0\" y=\"300\" width=\"100\" height=\"100\" stroke=\"white\" stroke-width=\"5px\" fill=\"lightsalmon\"/><text x=\"12.5%\" y=\"87.5%\" dominant-baseline=\"middle\" text-anchor=\"middle\" font-size=\"24\">8</text><rect x=\"100\" y=\"300\" width=\"100\" height=\"100\" stroke=\"white\" stroke-width=\"5px\" fill=\"darksalmon\"/><text x=\"37.5%\" y=\"87.5%\" dominant-baseline=\"middle\" text-anchor=\"middle\" font-size=\"24\">16</text><rect x=\"200\" y=\"300\" width=\"100\" height=\"100\" stroke=\"white\" stroke-width=\"5px\" fill=\"tomato\"/><text x=\"62.5%\" y=\"87.5%\" dominant-baseline=\"middle\" text-anchor=\"middle\" font-size=\"24\">32</text><rect x=\"300\" y=\"300\" width=\"100\" height=\"100\" stroke=\"white\" stroke-width=\"5px\" fill=\"orangered\"/><text x=\"87.5%\" y=\"87.5%\" dominant-baseline=\"middle\" text-anchor=\"middle\" font-size=\"24\">64</text></svg>"
      ],
      "text/plain": [
       "<IPython.core.display.HTML object>"
      ]
     },
     "metadata": {},
     "output_type": "display_data"
    },
    {
     "name": "stdout",
     "output_type": "stream",
     "text": [
      "\n",
      "Movimiento: Derecha\n",
      "Puntuacion: 464\n",
      "Numero de movimientos: 92\n"
     ]
    },
    {
     "data": {
      "text/html": [
       "<svg height=\"400\" width=\"400\"><rect x=\"0\" y=\"0\" width=\"100\" height=\"100\" stroke=\"white\" stroke-width=\"5px\" fill=\"silver\"/><rect x=\"100\" y=\"0\" width=\"100\" height=\"100\" stroke=\"white\" stroke-width=\"5px\" fill=\"silver\"/><rect x=\"200\" y=\"0\" width=\"100\" height=\"100\" stroke=\"white\" stroke-width=\"5px\" fill=\"ivory\"/><text x=\"62.5%\" y=\"12.5%\" dominant-baseline=\"middle\" text-anchor=\"middle\" font-size=\"24\">2</text><rect x=\"300\" y=\"0\" width=\"100\" height=\"100\" stroke=\"white\" stroke-width=\"5px\" fill=\"antiquewhite\"/><text x=\"87.5%\" y=\"12.5%\" dominant-baseline=\"middle\" text-anchor=\"middle\" font-size=\"24\">4</text><rect x=\"0\" y=\"100\" width=\"100\" height=\"100\" stroke=\"white\" stroke-width=\"5px\" fill=\"ivory\"/><text x=\"12.5%\" y=\"37.5%\" dominant-baseline=\"middle\" text-anchor=\"middle\" font-size=\"24\">2</text><rect x=\"100\" y=\"100\" width=\"100\" height=\"100\" stroke=\"white\" stroke-width=\"5px\" fill=\"silver\"/><rect x=\"200\" y=\"100\" width=\"100\" height=\"100\" stroke=\"white\" stroke-width=\"5px\" fill=\"antiquewhite\"/><text x=\"62.5%\" y=\"37.5%\" dominant-baseline=\"middle\" text-anchor=\"middle\" font-size=\"24\">4</text><rect x=\"300\" y=\"100\" width=\"100\" height=\"100\" stroke=\"white\" stroke-width=\"5px\" fill=\"darksalmon\"/><text x=\"87.5%\" y=\"37.5%\" dominant-baseline=\"middle\" text-anchor=\"middle\" font-size=\"24\">16</text><rect x=\"0\" y=\"200\" width=\"100\" height=\"100\" stroke=\"white\" stroke-width=\"5px\" fill=\"antiquewhite\"/><text x=\"12.5%\" y=\"62.5%\" dominant-baseline=\"middle\" text-anchor=\"middle\" font-size=\"24\">4</text><rect x=\"100\" y=\"200\" width=\"100\" height=\"100\" stroke=\"white\" stroke-width=\"5px\" fill=\"lightsalmon\"/><text x=\"37.5%\" y=\"62.5%\" dominant-baseline=\"middle\" text-anchor=\"middle\" font-size=\"24\">8</text><rect x=\"200\" y=\"200\" width=\"100\" height=\"100\" stroke=\"white\" stroke-width=\"5px\" fill=\"darksalmon\"/><text x=\"62.5%\" y=\"62.5%\" dominant-baseline=\"middle\" text-anchor=\"middle\" font-size=\"24\">16</text><rect x=\"300\" y=\"200\" width=\"100\" height=\"100\" stroke=\"white\" stroke-width=\"5px\" fill=\"tomato\"/><text x=\"87.5%\" y=\"62.5%\" dominant-baseline=\"middle\" text-anchor=\"middle\" font-size=\"24\">32</text><rect x=\"0\" y=\"300\" width=\"100\" height=\"100\" stroke=\"white\" stroke-width=\"5px\" fill=\"lightsalmon\"/><text x=\"12.5%\" y=\"87.5%\" dominant-baseline=\"middle\" text-anchor=\"middle\" font-size=\"24\">8</text><rect x=\"100\" y=\"300\" width=\"100\" height=\"100\" stroke=\"white\" stroke-width=\"5px\" fill=\"darksalmon\"/><text x=\"37.5%\" y=\"87.5%\" dominant-baseline=\"middle\" text-anchor=\"middle\" font-size=\"24\">16</text><rect x=\"200\" y=\"300\" width=\"100\" height=\"100\" stroke=\"white\" stroke-width=\"5px\" fill=\"tomato\"/><text x=\"62.5%\" y=\"87.5%\" dominant-baseline=\"middle\" text-anchor=\"middle\" font-size=\"24\">32</text><rect x=\"300\" y=\"300\" width=\"100\" height=\"100\" stroke=\"white\" stroke-width=\"5px\" fill=\"orangered\"/><text x=\"87.5%\" y=\"87.5%\" dominant-baseline=\"middle\" text-anchor=\"middle\" font-size=\"24\">64</text></svg>"
      ],
      "text/plain": [
       "<IPython.core.display.HTML object>"
      ]
     },
     "metadata": {},
     "output_type": "display_data"
    },
    {
     "name": "stdout",
     "output_type": "stream",
     "text": [
      "\n",
      "Movimiento: Abajo\n",
      "Puntuacion: 464\n",
      "Numero de movimientos: 93\n"
     ]
    },
    {
     "data": {
      "text/html": [
       "<svg height=\"400\" width=\"400\"><rect x=\"0\" y=\"0\" width=\"100\" height=\"100\" stroke=\"white\" stroke-width=\"5px\" fill=\"silver\"/><rect x=\"100\" y=\"0\" width=\"100\" height=\"100\" stroke=\"white\" stroke-width=\"5px\" fill=\"antiquewhite\"/><text x=\"37.5%\" y=\"12.5%\" dominant-baseline=\"middle\" text-anchor=\"middle\" font-size=\"24\">4</text><rect x=\"200\" y=\"0\" width=\"100\" height=\"100\" stroke=\"white\" stroke-width=\"5px\" fill=\"ivory\"/><text x=\"62.5%\" y=\"12.5%\" dominant-baseline=\"middle\" text-anchor=\"middle\" font-size=\"24\">2</text><rect x=\"300\" y=\"0\" width=\"100\" height=\"100\" stroke=\"white\" stroke-width=\"5px\" fill=\"antiquewhite\"/><text x=\"87.5%\" y=\"12.5%\" dominant-baseline=\"middle\" text-anchor=\"middle\" font-size=\"24\">4</text><rect x=\"0\" y=\"100\" width=\"100\" height=\"100\" stroke=\"white\" stroke-width=\"5px\" fill=\"ivory\"/><text x=\"12.5%\" y=\"37.5%\" dominant-baseline=\"middle\" text-anchor=\"middle\" font-size=\"24\">2</text><rect x=\"100\" y=\"100\" width=\"100\" height=\"100\" stroke=\"white\" stroke-width=\"5px\" fill=\"silver\"/><rect x=\"200\" y=\"100\" width=\"100\" height=\"100\" stroke=\"white\" stroke-width=\"5px\" fill=\"antiquewhite\"/><text x=\"62.5%\" y=\"37.5%\" dominant-baseline=\"middle\" text-anchor=\"middle\" font-size=\"24\">4</text><rect x=\"300\" y=\"100\" width=\"100\" height=\"100\" stroke=\"white\" stroke-width=\"5px\" fill=\"darksalmon\"/><text x=\"87.5%\" y=\"37.5%\" dominant-baseline=\"middle\" text-anchor=\"middle\" font-size=\"24\">16</text><rect x=\"0\" y=\"200\" width=\"100\" height=\"100\" stroke=\"white\" stroke-width=\"5px\" fill=\"antiquewhite\"/><text x=\"12.5%\" y=\"62.5%\" dominant-baseline=\"middle\" text-anchor=\"middle\" font-size=\"24\">4</text><rect x=\"100\" y=\"200\" width=\"100\" height=\"100\" stroke=\"white\" stroke-width=\"5px\" fill=\"lightsalmon\"/><text x=\"37.5%\" y=\"62.5%\" dominant-baseline=\"middle\" text-anchor=\"middle\" font-size=\"24\">8</text><rect x=\"200\" y=\"200\" width=\"100\" height=\"100\" stroke=\"white\" stroke-width=\"5px\" fill=\"darksalmon\"/><text x=\"62.5%\" y=\"62.5%\" dominant-baseline=\"middle\" text-anchor=\"middle\" font-size=\"24\">16</text><rect x=\"300\" y=\"200\" width=\"100\" height=\"100\" stroke=\"white\" stroke-width=\"5px\" fill=\"tomato\"/><text x=\"87.5%\" y=\"62.5%\" dominant-baseline=\"middle\" text-anchor=\"middle\" font-size=\"24\">32</text><rect x=\"0\" y=\"300\" width=\"100\" height=\"100\" stroke=\"white\" stroke-width=\"5px\" fill=\"lightsalmon\"/><text x=\"12.5%\" y=\"87.5%\" dominant-baseline=\"middle\" text-anchor=\"middle\" font-size=\"24\">8</text><rect x=\"100\" y=\"300\" width=\"100\" height=\"100\" stroke=\"white\" stroke-width=\"5px\" fill=\"darksalmon\"/><text x=\"37.5%\" y=\"87.5%\" dominant-baseline=\"middle\" text-anchor=\"middle\" font-size=\"24\">16</text><rect x=\"200\" y=\"300\" width=\"100\" height=\"100\" stroke=\"white\" stroke-width=\"5px\" fill=\"tomato\"/><text x=\"62.5%\" y=\"87.5%\" dominant-baseline=\"middle\" text-anchor=\"middle\" font-size=\"24\">32</text><rect x=\"300\" y=\"300\" width=\"100\" height=\"100\" stroke=\"white\" stroke-width=\"5px\" fill=\"orangered\"/><text x=\"87.5%\" y=\"87.5%\" dominant-baseline=\"middle\" text-anchor=\"middle\" font-size=\"24\">64</text></svg>"
      ],
      "text/plain": [
       "<IPython.core.display.HTML object>"
      ]
     },
     "metadata": {},
     "output_type": "display_data"
    },
    {
     "name": "stdout",
     "output_type": "stream",
     "text": [
      "\n",
      "Movimiento: Derecha\n",
      "Puntuacion: 472\n",
      "Numero de movimientos: 94\n"
     ]
    },
    {
     "data": {
      "text/html": [
       "<svg height=\"400\" width=\"400\"><rect x=\"0\" y=\"0\" width=\"100\" height=\"100\" stroke=\"white\" stroke-width=\"5px\" fill=\"silver\"/><rect x=\"100\" y=\"0\" width=\"100\" height=\"100\" stroke=\"white\" stroke-width=\"5px\" fill=\"silver\"/><rect x=\"200\" y=\"0\" width=\"100\" height=\"100\" stroke=\"white\" stroke-width=\"5px\" fill=\"ivory\"/><text x=\"62.5%\" y=\"12.5%\" dominant-baseline=\"middle\" text-anchor=\"middle\" font-size=\"24\">2</text><rect x=\"300\" y=\"0\" width=\"100\" height=\"100\" stroke=\"white\" stroke-width=\"5px\" fill=\"antiquewhite\"/><text x=\"87.5%\" y=\"12.5%\" dominant-baseline=\"middle\" text-anchor=\"middle\" font-size=\"24\">4</text><rect x=\"0\" y=\"100\" width=\"100\" height=\"100\" stroke=\"white\" stroke-width=\"5px\" fill=\"ivory\"/><text x=\"12.5%\" y=\"37.5%\" dominant-baseline=\"middle\" text-anchor=\"middle\" font-size=\"24\">2</text><rect x=\"100\" y=\"100\" width=\"100\" height=\"100\" stroke=\"white\" stroke-width=\"5px\" fill=\"ivory\"/><text x=\"37.5%\" y=\"37.5%\" dominant-baseline=\"middle\" text-anchor=\"middle\" font-size=\"24\">2</text><rect x=\"200\" y=\"100\" width=\"100\" height=\"100\" stroke=\"white\" stroke-width=\"5px\" fill=\"lightsalmon\"/><text x=\"62.5%\" y=\"37.5%\" dominant-baseline=\"middle\" text-anchor=\"middle\" font-size=\"24\">8</text><rect x=\"300\" y=\"100\" width=\"100\" height=\"100\" stroke=\"white\" stroke-width=\"5px\" fill=\"darksalmon\"/><text x=\"87.5%\" y=\"37.5%\" dominant-baseline=\"middle\" text-anchor=\"middle\" font-size=\"24\">16</text><rect x=\"0\" y=\"200\" width=\"100\" height=\"100\" stroke=\"white\" stroke-width=\"5px\" fill=\"antiquewhite\"/><text x=\"12.5%\" y=\"62.5%\" dominant-baseline=\"middle\" text-anchor=\"middle\" font-size=\"24\">4</text><rect x=\"100\" y=\"200\" width=\"100\" height=\"100\" stroke=\"white\" stroke-width=\"5px\" fill=\"lightsalmon\"/><text x=\"37.5%\" y=\"62.5%\" dominant-baseline=\"middle\" text-anchor=\"middle\" font-size=\"24\">8</text><rect x=\"200\" y=\"200\" width=\"100\" height=\"100\" stroke=\"white\" stroke-width=\"5px\" fill=\"darksalmon\"/><text x=\"62.5%\" y=\"62.5%\" dominant-baseline=\"middle\" text-anchor=\"middle\" font-size=\"24\">16</text><rect x=\"300\" y=\"200\" width=\"100\" height=\"100\" stroke=\"white\" stroke-width=\"5px\" fill=\"tomato\"/><text x=\"87.5%\" y=\"62.5%\" dominant-baseline=\"middle\" text-anchor=\"middle\" font-size=\"24\">32</text><rect x=\"0\" y=\"300\" width=\"100\" height=\"100\" stroke=\"white\" stroke-width=\"5px\" fill=\"lightsalmon\"/><text x=\"12.5%\" y=\"87.5%\" dominant-baseline=\"middle\" text-anchor=\"middle\" font-size=\"24\">8</text><rect x=\"100\" y=\"300\" width=\"100\" height=\"100\" stroke=\"white\" stroke-width=\"5px\" fill=\"darksalmon\"/><text x=\"37.5%\" y=\"87.5%\" dominant-baseline=\"middle\" text-anchor=\"middle\" font-size=\"24\">16</text><rect x=\"200\" y=\"300\" width=\"100\" height=\"100\" stroke=\"white\" stroke-width=\"5px\" fill=\"tomato\"/><text x=\"62.5%\" y=\"87.5%\" dominant-baseline=\"middle\" text-anchor=\"middle\" font-size=\"24\">32</text><rect x=\"300\" y=\"300\" width=\"100\" height=\"100\" stroke=\"white\" stroke-width=\"5px\" fill=\"orangered\"/><text x=\"87.5%\" y=\"87.5%\" dominant-baseline=\"middle\" text-anchor=\"middle\" font-size=\"24\">64</text></svg>"
      ],
      "text/plain": [
       "<IPython.core.display.HTML object>"
      ]
     },
     "metadata": {},
     "output_type": "display_data"
    },
    {
     "name": "stdout",
     "output_type": "stream",
     "text": [
      "\n",
      "Movimiento: Abajo\n",
      "Puntuacion: 472\n",
      "Numero de movimientos: 95\n"
     ]
    },
    {
     "data": {
      "text/html": [
       "<svg height=\"400\" width=\"400\"><rect x=\"0\" y=\"0\" width=\"100\" height=\"100\" stroke=\"white\" stroke-width=\"5px\" fill=\"ivory\"/><text x=\"12.5%\" y=\"12.5%\" dominant-baseline=\"middle\" text-anchor=\"middle\" font-size=\"24\">2</text><rect x=\"100\" y=\"0\" width=\"100\" height=\"100\" stroke=\"white\" stroke-width=\"5px\" fill=\"silver\"/><rect x=\"200\" y=\"0\" width=\"100\" height=\"100\" stroke=\"white\" stroke-width=\"5px\" fill=\"ivory\"/><text x=\"62.5%\" y=\"12.5%\" dominant-baseline=\"middle\" text-anchor=\"middle\" font-size=\"24\">2</text><rect x=\"300\" y=\"0\" width=\"100\" height=\"100\" stroke=\"white\" stroke-width=\"5px\" fill=\"antiquewhite\"/><text x=\"87.5%\" y=\"12.5%\" dominant-baseline=\"middle\" text-anchor=\"middle\" font-size=\"24\">4</text><rect x=\"0\" y=\"100\" width=\"100\" height=\"100\" stroke=\"white\" stroke-width=\"5px\" fill=\"ivory\"/><text x=\"12.5%\" y=\"37.5%\" dominant-baseline=\"middle\" text-anchor=\"middle\" font-size=\"24\">2</text><rect x=\"100\" y=\"100\" width=\"100\" height=\"100\" stroke=\"white\" stroke-width=\"5px\" fill=\"ivory\"/><text x=\"37.5%\" y=\"37.5%\" dominant-baseline=\"middle\" text-anchor=\"middle\" font-size=\"24\">2</text><rect x=\"200\" y=\"100\" width=\"100\" height=\"100\" stroke=\"white\" stroke-width=\"5px\" fill=\"lightsalmon\"/><text x=\"62.5%\" y=\"37.5%\" dominant-baseline=\"middle\" text-anchor=\"middle\" font-size=\"24\">8</text><rect x=\"300\" y=\"100\" width=\"100\" height=\"100\" stroke=\"white\" stroke-width=\"5px\" fill=\"darksalmon\"/><text x=\"87.5%\" y=\"37.5%\" dominant-baseline=\"middle\" text-anchor=\"middle\" font-size=\"24\">16</text><rect x=\"0\" y=\"200\" width=\"100\" height=\"100\" stroke=\"white\" stroke-width=\"5px\" fill=\"antiquewhite\"/><text x=\"12.5%\" y=\"62.5%\" dominant-baseline=\"middle\" text-anchor=\"middle\" font-size=\"24\">4</text><rect x=\"100\" y=\"200\" width=\"100\" height=\"100\" stroke=\"white\" stroke-width=\"5px\" fill=\"lightsalmon\"/><text x=\"37.5%\" y=\"62.5%\" dominant-baseline=\"middle\" text-anchor=\"middle\" font-size=\"24\">8</text><rect x=\"200\" y=\"200\" width=\"100\" height=\"100\" stroke=\"white\" stroke-width=\"5px\" fill=\"darksalmon\"/><text x=\"62.5%\" y=\"62.5%\" dominant-baseline=\"middle\" text-anchor=\"middle\" font-size=\"24\">16</text><rect x=\"300\" y=\"200\" width=\"100\" height=\"100\" stroke=\"white\" stroke-width=\"5px\" fill=\"tomato\"/><text x=\"87.5%\" y=\"62.5%\" dominant-baseline=\"middle\" text-anchor=\"middle\" font-size=\"24\">32</text><rect x=\"0\" y=\"300\" width=\"100\" height=\"100\" stroke=\"white\" stroke-width=\"5px\" fill=\"lightsalmon\"/><text x=\"12.5%\" y=\"87.5%\" dominant-baseline=\"middle\" text-anchor=\"middle\" font-size=\"24\">8</text><rect x=\"100\" y=\"300\" width=\"100\" height=\"100\" stroke=\"white\" stroke-width=\"5px\" fill=\"darksalmon\"/><text x=\"37.5%\" y=\"87.5%\" dominant-baseline=\"middle\" text-anchor=\"middle\" font-size=\"24\">16</text><rect x=\"200\" y=\"300\" width=\"100\" height=\"100\" stroke=\"white\" stroke-width=\"5px\" fill=\"tomato\"/><text x=\"62.5%\" y=\"87.5%\" dominant-baseline=\"middle\" text-anchor=\"middle\" font-size=\"24\">32</text><rect x=\"300\" y=\"300\" width=\"100\" height=\"100\" stroke=\"white\" stroke-width=\"5px\" fill=\"orangered\"/><text x=\"87.5%\" y=\"87.5%\" dominant-baseline=\"middle\" text-anchor=\"middle\" font-size=\"24\">64</text></svg>"
      ],
      "text/plain": [
       "<IPython.core.display.HTML object>"
      ]
     },
     "metadata": {},
     "output_type": "display_data"
    },
    {
     "name": "stdout",
     "output_type": "stream",
     "text": [
      "\n",
      "Movimiento: Derecha\n",
      "Puntuacion: 472\n",
      "Numero de movimientos: 96\n"
     ]
    },
    {
     "data": {
      "text/html": [
       "<svg height=\"400\" width=\"400\"><rect x=\"0\" y=\"0\" width=\"100\" height=\"100\" stroke=\"white\" stroke-width=\"5px\" fill=\"ivory\"/><text x=\"12.5%\" y=\"12.5%\" dominant-baseline=\"middle\" text-anchor=\"middle\" font-size=\"24\">2</text><rect x=\"100\" y=\"0\" width=\"100\" height=\"100\" stroke=\"white\" stroke-width=\"5px\" fill=\"silver\"/><rect x=\"200\" y=\"0\" width=\"100\" height=\"100\" stroke=\"white\" stroke-width=\"5px\" fill=\"ivory\"/><text x=\"62.5%\" y=\"12.5%\" dominant-baseline=\"middle\" text-anchor=\"middle\" font-size=\"24\">2</text><rect x=\"300\" y=\"0\" width=\"100\" height=\"100\" stroke=\"white\" stroke-width=\"5px\" fill=\"antiquewhite\"/><text x=\"87.5%\" y=\"12.5%\" dominant-baseline=\"middle\" text-anchor=\"middle\" font-size=\"24\">4</text><rect x=\"0\" y=\"100\" width=\"100\" height=\"100\" stroke=\"white\" stroke-width=\"5px\" fill=\"antiquewhite\"/><text x=\"12.5%\" y=\"37.5%\" dominant-baseline=\"middle\" text-anchor=\"middle\" font-size=\"24\">4</text><rect x=\"100\" y=\"100\" width=\"100\" height=\"100\" stroke=\"white\" stroke-width=\"5px\" fill=\"ivory\"/><text x=\"37.5%\" y=\"37.5%\" dominant-baseline=\"middle\" text-anchor=\"middle\" font-size=\"24\">2</text><rect x=\"200\" y=\"100\" width=\"100\" height=\"100\" stroke=\"white\" stroke-width=\"5px\" fill=\"lightsalmon\"/><text x=\"62.5%\" y=\"37.5%\" dominant-baseline=\"middle\" text-anchor=\"middle\" font-size=\"24\">8</text><rect x=\"300\" y=\"100\" width=\"100\" height=\"100\" stroke=\"white\" stroke-width=\"5px\" fill=\"darksalmon\"/><text x=\"87.5%\" y=\"37.5%\" dominant-baseline=\"middle\" text-anchor=\"middle\" font-size=\"24\">16</text><rect x=\"0\" y=\"200\" width=\"100\" height=\"100\" stroke=\"white\" stroke-width=\"5px\" fill=\"antiquewhite\"/><text x=\"12.5%\" y=\"62.5%\" dominant-baseline=\"middle\" text-anchor=\"middle\" font-size=\"24\">4</text><rect x=\"100\" y=\"200\" width=\"100\" height=\"100\" stroke=\"white\" stroke-width=\"5px\" fill=\"lightsalmon\"/><text x=\"37.5%\" y=\"62.5%\" dominant-baseline=\"middle\" text-anchor=\"middle\" font-size=\"24\">8</text><rect x=\"200\" y=\"200\" width=\"100\" height=\"100\" stroke=\"white\" stroke-width=\"5px\" fill=\"darksalmon\"/><text x=\"62.5%\" y=\"62.5%\" dominant-baseline=\"middle\" text-anchor=\"middle\" font-size=\"24\">16</text><rect x=\"300\" y=\"200\" width=\"100\" height=\"100\" stroke=\"white\" stroke-width=\"5px\" fill=\"tomato\"/><text x=\"87.5%\" y=\"62.5%\" dominant-baseline=\"middle\" text-anchor=\"middle\" font-size=\"24\">32</text><rect x=\"0\" y=\"300\" width=\"100\" height=\"100\" stroke=\"white\" stroke-width=\"5px\" fill=\"lightsalmon\"/><text x=\"12.5%\" y=\"87.5%\" dominant-baseline=\"middle\" text-anchor=\"middle\" font-size=\"24\">8</text><rect x=\"100\" y=\"300\" width=\"100\" height=\"100\" stroke=\"white\" stroke-width=\"5px\" fill=\"darksalmon\"/><text x=\"37.5%\" y=\"87.5%\" dominant-baseline=\"middle\" text-anchor=\"middle\" font-size=\"24\">16</text><rect x=\"200\" y=\"300\" width=\"100\" height=\"100\" stroke=\"white\" stroke-width=\"5px\" fill=\"tomato\"/><text x=\"62.5%\" y=\"87.5%\" dominant-baseline=\"middle\" text-anchor=\"middle\" font-size=\"24\">32</text><rect x=\"300\" y=\"300\" width=\"100\" height=\"100\" stroke=\"white\" stroke-width=\"5px\" fill=\"orangered\"/><text x=\"87.5%\" y=\"87.5%\" dominant-baseline=\"middle\" text-anchor=\"middle\" font-size=\"24\">64</text></svg>"
      ],
      "text/plain": [
       "<IPython.core.display.HTML object>"
      ]
     },
     "metadata": {},
     "output_type": "display_data"
    },
    {
     "name": "stdout",
     "output_type": "stream",
     "text": [
      "\n",
      "Movimiento: Derecha\n",
      "Puntuacion: 492\n",
      "Numero de movimientos: 97\n"
     ]
    },
    {
     "data": {
      "text/html": [
       "<svg height=\"400\" width=\"400\"><rect x=\"0\" y=\"0\" width=\"100\" height=\"100\" stroke=\"white\" stroke-width=\"5px\" fill=\"silver\"/><rect x=\"100\" y=\"0\" width=\"100\" height=\"100\" stroke=\"white\" stroke-width=\"5px\" fill=\"silver\"/><rect x=\"200\" y=\"0\" width=\"100\" height=\"100\" stroke=\"white\" stroke-width=\"5px\" fill=\"ivory\"/><text x=\"62.5%\" y=\"12.5%\" dominant-baseline=\"middle\" text-anchor=\"middle\" font-size=\"24\">2</text><rect x=\"300\" y=\"0\" width=\"100\" height=\"100\" stroke=\"white\" stroke-width=\"5px\" fill=\"antiquewhite\"/><text x=\"87.5%\" y=\"12.5%\" dominant-baseline=\"middle\" text-anchor=\"middle\" font-size=\"24\">4</text><rect x=\"0\" y=\"100\" width=\"100\" height=\"100\" stroke=\"white\" stroke-width=\"5px\" fill=\"silver\"/><rect x=\"100\" y=\"100\" width=\"100\" height=\"100\" stroke=\"white\" stroke-width=\"5px\" fill=\"antiquewhite\"/><text x=\"37.5%\" y=\"37.5%\" dominant-baseline=\"middle\" text-anchor=\"middle\" font-size=\"24\">4</text><rect x=\"200\" y=\"100\" width=\"100\" height=\"100\" stroke=\"white\" stroke-width=\"5px\" fill=\"lightsalmon\"/><text x=\"62.5%\" y=\"37.5%\" dominant-baseline=\"middle\" text-anchor=\"middle\" font-size=\"24\">8</text><rect x=\"300\" y=\"100\" width=\"100\" height=\"100\" stroke=\"white\" stroke-width=\"5px\" fill=\"darksalmon\"/><text x=\"87.5%\" y=\"37.5%\" dominant-baseline=\"middle\" text-anchor=\"middle\" font-size=\"24\">16</text><rect x=\"0\" y=\"200\" width=\"100\" height=\"100\" stroke=\"white\" stroke-width=\"5px\" fill=\"ivory\"/><text x=\"12.5%\" y=\"62.5%\" dominant-baseline=\"middle\" text-anchor=\"middle\" font-size=\"24\">2</text><rect x=\"100\" y=\"200\" width=\"100\" height=\"100\" stroke=\"white\" stroke-width=\"5px\" fill=\"darksalmon\"/><text x=\"37.5%\" y=\"62.5%\" dominant-baseline=\"middle\" text-anchor=\"middle\" font-size=\"24\">16</text><rect x=\"200\" y=\"200\" width=\"100\" height=\"100\" stroke=\"white\" stroke-width=\"5px\" fill=\"darksalmon\"/><text x=\"62.5%\" y=\"62.5%\" dominant-baseline=\"middle\" text-anchor=\"middle\" font-size=\"24\">16</text><rect x=\"300\" y=\"200\" width=\"100\" height=\"100\" stroke=\"white\" stroke-width=\"5px\" fill=\"tomato\"/><text x=\"87.5%\" y=\"62.5%\" dominant-baseline=\"middle\" text-anchor=\"middle\" font-size=\"24\">32</text><rect x=\"0\" y=\"300\" width=\"100\" height=\"100\" stroke=\"white\" stroke-width=\"5px\" fill=\"lightsalmon\"/><text x=\"12.5%\" y=\"87.5%\" dominant-baseline=\"middle\" text-anchor=\"middle\" font-size=\"24\">8</text><rect x=\"100\" y=\"300\" width=\"100\" height=\"100\" stroke=\"white\" stroke-width=\"5px\" fill=\"darksalmon\"/><text x=\"37.5%\" y=\"87.5%\" dominant-baseline=\"middle\" text-anchor=\"middle\" font-size=\"24\">16</text><rect x=\"200\" y=\"300\" width=\"100\" height=\"100\" stroke=\"white\" stroke-width=\"5px\" fill=\"tomato\"/><text x=\"62.5%\" y=\"87.5%\" dominant-baseline=\"middle\" text-anchor=\"middle\" font-size=\"24\">32</text><rect x=\"300\" y=\"300\" width=\"100\" height=\"100\" stroke=\"white\" stroke-width=\"5px\" fill=\"orangered\"/><text x=\"87.5%\" y=\"87.5%\" dominant-baseline=\"middle\" text-anchor=\"middle\" font-size=\"24\">64</text></svg>"
      ],
      "text/plain": [
       "<IPython.core.display.HTML object>"
      ]
     },
     "metadata": {},
     "output_type": "display_data"
    },
    {
     "name": "stdout",
     "output_type": "stream",
     "text": [
      "\n",
      "Movimiento: Derecha\n",
      "Puntuacion: 556\n",
      "Numero de movimientos: 98\n"
     ]
    },
    {
     "data": {
      "text/html": [
       "<svg height=\"400\" width=\"400\"><rect x=\"0\" y=\"0\" width=\"100\" height=\"100\" stroke=\"white\" stroke-width=\"5px\" fill=\"silver\"/><rect x=\"100\" y=\"0\" width=\"100\" height=\"100\" stroke=\"white\" stroke-width=\"5px\" fill=\"ivory\"/><text x=\"37.5%\" y=\"12.5%\" dominant-baseline=\"middle\" text-anchor=\"middle\" font-size=\"24\">2</text><rect x=\"200\" y=\"0\" width=\"100\" height=\"100\" stroke=\"white\" stroke-width=\"5px\" fill=\"ivory\"/><text x=\"62.5%\" y=\"12.5%\" dominant-baseline=\"middle\" text-anchor=\"middle\" font-size=\"24\">2</text><rect x=\"300\" y=\"0\" width=\"100\" height=\"100\" stroke=\"white\" stroke-width=\"5px\" fill=\"antiquewhite\"/><text x=\"87.5%\" y=\"12.5%\" dominant-baseline=\"middle\" text-anchor=\"middle\" font-size=\"24\">4</text><rect x=\"0\" y=\"100\" width=\"100\" height=\"100\" stroke=\"white\" stroke-width=\"5px\" fill=\"silver\"/><rect x=\"100\" y=\"100\" width=\"100\" height=\"100\" stroke=\"white\" stroke-width=\"5px\" fill=\"silver\"/><rect x=\"200\" y=\"100\" width=\"100\" height=\"100\" stroke=\"white\" stroke-width=\"5px\" fill=\"lightsalmon\"/><text x=\"62.5%\" y=\"37.5%\" dominant-baseline=\"middle\" text-anchor=\"middle\" font-size=\"24\">8</text><rect x=\"300\" y=\"100\" width=\"100\" height=\"100\" stroke=\"white\" stroke-width=\"5px\" fill=\"darksalmon\"/><text x=\"87.5%\" y=\"37.5%\" dominant-baseline=\"middle\" text-anchor=\"middle\" font-size=\"24\">16</text><rect x=\"0\" y=\"200\" width=\"100\" height=\"100\" stroke=\"white\" stroke-width=\"5px\" fill=\"ivory\"/><text x=\"12.5%\" y=\"62.5%\" dominant-baseline=\"middle\" text-anchor=\"middle\" font-size=\"24\">2</text><rect x=\"100\" y=\"200\" width=\"100\" height=\"100\" stroke=\"white\" stroke-width=\"5px\" fill=\"antiquewhite\"/><text x=\"37.5%\" y=\"62.5%\" dominant-baseline=\"middle\" text-anchor=\"middle\" font-size=\"24\">4</text><rect x=\"200\" y=\"200\" width=\"100\" height=\"100\" stroke=\"white\" stroke-width=\"5px\" fill=\"darksalmon\"/><text x=\"62.5%\" y=\"62.5%\" dominant-baseline=\"middle\" text-anchor=\"middle\" font-size=\"24\">16</text><rect x=\"300\" y=\"200\" width=\"100\" height=\"100\" stroke=\"white\" stroke-width=\"5px\" fill=\"tomato\"/><text x=\"87.5%\" y=\"62.5%\" dominant-baseline=\"middle\" text-anchor=\"middle\" font-size=\"24\">32</text><rect x=\"0\" y=\"300\" width=\"100\" height=\"100\" stroke=\"white\" stroke-width=\"5px\" fill=\"silver\"/><rect x=\"100\" y=\"300\" width=\"100\" height=\"100\" stroke=\"white\" stroke-width=\"5px\" fill=\"lightsalmon\"/><text x=\"37.5%\" y=\"87.5%\" dominant-baseline=\"middle\" text-anchor=\"middle\" font-size=\"24\">8</text><rect x=\"200\" y=\"300\" width=\"100\" height=\"100\" stroke=\"white\" stroke-width=\"5px\" fill=\"orangered\"/><text x=\"62.5%\" y=\"87.5%\" dominant-baseline=\"middle\" text-anchor=\"middle\" font-size=\"24\">64</text><rect x=\"300\" y=\"300\" width=\"100\" height=\"100\" stroke=\"white\" stroke-width=\"5px\" fill=\"orangered\"/><text x=\"87.5%\" y=\"87.5%\" dominant-baseline=\"middle\" text-anchor=\"middle\" font-size=\"24\">64</text></svg>"
      ],
      "text/plain": [
       "<IPython.core.display.HTML object>"
      ]
     },
     "metadata": {},
     "output_type": "display_data"
    },
    {
     "name": "stdout",
     "output_type": "stream",
     "text": [
      "\n",
      "Movimiento: Derecha\n",
      "Puntuacion: 684\n",
      "Numero de movimientos: 99\n"
     ]
    },
    {
     "data": {
      "text/html": [
       "<svg height=\"400\" width=\"400\"><rect x=\"0\" y=\"0\" width=\"100\" height=\"100\" stroke=\"white\" stroke-width=\"5px\" fill=\"silver\"/><rect x=\"100\" y=\"0\" width=\"100\" height=\"100\" stroke=\"white\" stroke-width=\"5px\" fill=\"silver\"/><rect x=\"200\" y=\"0\" width=\"100\" height=\"100\" stroke=\"white\" stroke-width=\"5px\" fill=\"ivory\"/><text x=\"62.5%\" y=\"12.5%\" dominant-baseline=\"middle\" text-anchor=\"middle\" font-size=\"24\">2</text><rect x=\"300\" y=\"0\" width=\"100\" height=\"100\" stroke=\"white\" stroke-width=\"5px\" fill=\"antiquewhite\"/><text x=\"87.5%\" y=\"12.5%\" dominant-baseline=\"middle\" text-anchor=\"middle\" font-size=\"24\">4</text><rect x=\"0\" y=\"100\" width=\"100\" height=\"100\" stroke=\"white\" stroke-width=\"5px\" fill=\"silver\"/><rect x=\"100\" y=\"100\" width=\"100\" height=\"100\" stroke=\"white\" stroke-width=\"5px\" fill=\"ivory\"/><text x=\"37.5%\" y=\"37.5%\" dominant-baseline=\"middle\" text-anchor=\"middle\" font-size=\"24\">2</text><rect x=\"200\" y=\"100\" width=\"100\" height=\"100\" stroke=\"white\" stroke-width=\"5px\" fill=\"lightsalmon\"/><text x=\"62.5%\" y=\"37.5%\" dominant-baseline=\"middle\" text-anchor=\"middle\" font-size=\"24\">8</text><rect x=\"300\" y=\"100\" width=\"100\" height=\"100\" stroke=\"white\" stroke-width=\"5px\" fill=\"darksalmon\"/><text x=\"87.5%\" y=\"37.5%\" dominant-baseline=\"middle\" text-anchor=\"middle\" font-size=\"24\">16</text><rect x=\"0\" y=\"200\" width=\"100\" height=\"100\" stroke=\"white\" stroke-width=\"5px\" fill=\"ivory\"/><text x=\"12.5%\" y=\"62.5%\" dominant-baseline=\"middle\" text-anchor=\"middle\" font-size=\"24\">2</text><rect x=\"100\" y=\"200\" width=\"100\" height=\"100\" stroke=\"white\" stroke-width=\"5px\" fill=\"antiquewhite\"/><text x=\"37.5%\" y=\"62.5%\" dominant-baseline=\"middle\" text-anchor=\"middle\" font-size=\"24\">4</text><rect x=\"200\" y=\"200\" width=\"100\" height=\"100\" stroke=\"white\" stroke-width=\"5px\" fill=\"darksalmon\"/><text x=\"62.5%\" y=\"62.5%\" dominant-baseline=\"middle\" text-anchor=\"middle\" font-size=\"24\">16</text><rect x=\"300\" y=\"200\" width=\"100\" height=\"100\" stroke=\"white\" stroke-width=\"5px\" fill=\"tomato\"/><text x=\"87.5%\" y=\"62.5%\" dominant-baseline=\"middle\" text-anchor=\"middle\" font-size=\"24\">32</text><rect x=\"0\" y=\"300\" width=\"100\" height=\"100\" stroke=\"white\" stroke-width=\"5px\" fill=\"silver\"/><rect x=\"100\" y=\"300\" width=\"100\" height=\"100\" stroke=\"white\" stroke-width=\"5px\" fill=\"ivory\"/><text x=\"37.5%\" y=\"87.5%\" dominant-baseline=\"middle\" text-anchor=\"middle\" font-size=\"24\">2</text><rect x=\"200\" y=\"300\" width=\"100\" height=\"100\" stroke=\"white\" stroke-width=\"5px\" fill=\"lightsalmon\"/><text x=\"62.5%\" y=\"87.5%\" dominant-baseline=\"middle\" text-anchor=\"middle\" font-size=\"24\">8</text><rect x=\"300\" y=\"300\" width=\"100\" height=\"100\" stroke=\"white\" stroke-width=\"5px\" fill=\"wheat\"/><text x=\"87.5%\" y=\"87.5%\" dominant-baseline=\"middle\" text-anchor=\"middle\" font-size=\"24\">128</text></svg>"
      ],
      "text/plain": [
       "<IPython.core.display.HTML object>"
      ]
     },
     "metadata": {},
     "output_type": "display_data"
    },
    {
     "name": "stdout",
     "output_type": "stream",
     "text": [
      "\n",
      "Movimiento: Derecha\n",
      "Puntuacion: 688\n",
      "Numero de movimientos: 100\n"
     ]
    },
    {
     "data": {
      "text/html": [
       "<svg height=\"400\" width=\"400\"><rect x=\"0\" y=\"0\" width=\"100\" height=\"100\" stroke=\"white\" stroke-width=\"5px\" fill=\"silver\"/><rect x=\"100\" y=\"0\" width=\"100\" height=\"100\" stroke=\"white\" stroke-width=\"5px\" fill=\"silver\"/><rect x=\"200\" y=\"0\" width=\"100\" height=\"100\" stroke=\"white\" stroke-width=\"5px\" fill=\"ivory\"/><text x=\"62.5%\" y=\"12.5%\" dominant-baseline=\"middle\" text-anchor=\"middle\" font-size=\"24\">2</text><rect x=\"300\" y=\"0\" width=\"100\" height=\"100\" stroke=\"white\" stroke-width=\"5px\" fill=\"antiquewhite\"/><text x=\"87.5%\" y=\"12.5%\" dominant-baseline=\"middle\" text-anchor=\"middle\" font-size=\"24\">4</text><rect x=\"0\" y=\"100\" width=\"100\" height=\"100\" stroke=\"white\" stroke-width=\"5px\" fill=\"silver\"/><rect x=\"100\" y=\"100\" width=\"100\" height=\"100\" stroke=\"white\" stroke-width=\"5px\" fill=\"ivory\"/><text x=\"37.5%\" y=\"37.5%\" dominant-baseline=\"middle\" text-anchor=\"middle\" font-size=\"24\">2</text><rect x=\"200\" y=\"100\" width=\"100\" height=\"100\" stroke=\"white\" stroke-width=\"5px\" fill=\"lightsalmon\"/><text x=\"62.5%\" y=\"37.5%\" dominant-baseline=\"middle\" text-anchor=\"middle\" font-size=\"24\">8</text><rect x=\"300\" y=\"100\" width=\"100\" height=\"100\" stroke=\"white\" stroke-width=\"5px\" fill=\"darksalmon\"/><text x=\"87.5%\" y=\"37.5%\" dominant-baseline=\"middle\" text-anchor=\"middle\" font-size=\"24\">16</text><rect x=\"0\" y=\"200\" width=\"100\" height=\"100\" stroke=\"white\" stroke-width=\"5px\" fill=\"silver\"/><rect x=\"100\" y=\"200\" width=\"100\" height=\"100\" stroke=\"white\" stroke-width=\"5px\" fill=\"antiquewhite\"/><text x=\"37.5%\" y=\"62.5%\" dominant-baseline=\"middle\" text-anchor=\"middle\" font-size=\"24\">4</text><rect x=\"200\" y=\"200\" width=\"100\" height=\"100\" stroke=\"white\" stroke-width=\"5px\" fill=\"darksalmon\"/><text x=\"62.5%\" y=\"62.5%\" dominant-baseline=\"middle\" text-anchor=\"middle\" font-size=\"24\">16</text><rect x=\"300\" y=\"200\" width=\"100\" height=\"100\" stroke=\"white\" stroke-width=\"5px\" fill=\"tomato\"/><text x=\"87.5%\" y=\"62.5%\" dominant-baseline=\"middle\" text-anchor=\"middle\" font-size=\"24\">32</text><rect x=\"0\" y=\"300\" width=\"100\" height=\"100\" stroke=\"white\" stroke-width=\"5px\" fill=\"ivory\"/><text x=\"12.5%\" y=\"87.5%\" dominant-baseline=\"middle\" text-anchor=\"middle\" font-size=\"24\">2</text><rect x=\"100\" y=\"300\" width=\"100\" height=\"100\" stroke=\"white\" stroke-width=\"5px\" fill=\"antiquewhite\"/><text x=\"37.5%\" y=\"87.5%\" dominant-baseline=\"middle\" text-anchor=\"middle\" font-size=\"24\">4</text><rect x=\"200\" y=\"300\" width=\"100\" height=\"100\" stroke=\"white\" stroke-width=\"5px\" fill=\"lightsalmon\"/><text x=\"62.5%\" y=\"87.5%\" dominant-baseline=\"middle\" text-anchor=\"middle\" font-size=\"24\">8</text><rect x=\"300\" y=\"300\" width=\"100\" height=\"100\" stroke=\"white\" stroke-width=\"5px\" fill=\"wheat\"/><text x=\"87.5%\" y=\"87.5%\" dominant-baseline=\"middle\" text-anchor=\"middle\" font-size=\"24\">128</text></svg>"
      ],
      "text/plain": [
       "<IPython.core.display.HTML object>"
      ]
     },
     "metadata": {},
     "output_type": "display_data"
    },
    {
     "name": "stdout",
     "output_type": "stream",
     "text": [
      "\n",
      "Movimiento: Derecha\n",
      "Puntuacion: 704\n",
      "Numero de movimientos: 101\n"
     ]
    },
    {
     "data": {
      "text/html": [
       "<svg height=\"400\" width=\"400\"><rect x=\"0\" y=\"0\" width=\"100\" height=\"100\" stroke=\"white\" stroke-width=\"5px\" fill=\"ivory\"/><text x=\"12.5%\" y=\"12.5%\" dominant-baseline=\"middle\" text-anchor=\"middle\" font-size=\"24\">2</text><rect x=\"100\" y=\"0\" width=\"100\" height=\"100\" stroke=\"white\" stroke-width=\"5px\" fill=\"silver\"/><rect x=\"200\" y=\"0\" width=\"100\" height=\"100\" stroke=\"white\" stroke-width=\"5px\" fill=\"ivory\"/><text x=\"62.5%\" y=\"12.5%\" dominant-baseline=\"middle\" text-anchor=\"middle\" font-size=\"24\">2</text><rect x=\"300\" y=\"0\" width=\"100\" height=\"100\" stroke=\"white\" stroke-width=\"5px\" fill=\"antiquewhite\"/><text x=\"87.5%\" y=\"12.5%\" dominant-baseline=\"middle\" text-anchor=\"middle\" font-size=\"24\">4</text><rect x=\"0\" y=\"100\" width=\"100\" height=\"100\" stroke=\"white\" stroke-width=\"5px\" fill=\"silver\"/><rect x=\"100\" y=\"100\" width=\"100\" height=\"100\" stroke=\"white\" stroke-width=\"5px\" fill=\"silver\"/><rect x=\"200\" y=\"100\" width=\"100\" height=\"100\" stroke=\"white\" stroke-width=\"5px\" fill=\"lightsalmon\"/><text x=\"62.5%\" y=\"37.5%\" dominant-baseline=\"middle\" text-anchor=\"middle\" font-size=\"24\">8</text><rect x=\"300\" y=\"100\" width=\"100\" height=\"100\" stroke=\"white\" stroke-width=\"5px\" fill=\"darksalmon\"/><text x=\"87.5%\" y=\"37.5%\" dominant-baseline=\"middle\" text-anchor=\"middle\" font-size=\"24\">16</text><rect x=\"0\" y=\"200\" width=\"100\" height=\"100\" stroke=\"white\" stroke-width=\"5px\" fill=\"silver\"/><rect x=\"100\" y=\"200\" width=\"100\" height=\"100\" stroke=\"white\" stroke-width=\"5px\" fill=\"ivory\"/><text x=\"37.5%\" y=\"62.5%\" dominant-baseline=\"middle\" text-anchor=\"middle\" font-size=\"24\">2</text><rect x=\"200\" y=\"200\" width=\"100\" height=\"100\" stroke=\"white\" stroke-width=\"5px\" fill=\"darksalmon\"/><text x=\"62.5%\" y=\"62.5%\" dominant-baseline=\"middle\" text-anchor=\"middle\" font-size=\"24\">16</text><rect x=\"300\" y=\"200\" width=\"100\" height=\"100\" stroke=\"white\" stroke-width=\"5px\" fill=\"tomato\"/><text x=\"87.5%\" y=\"62.5%\" dominant-baseline=\"middle\" text-anchor=\"middle\" font-size=\"24\">32</text><rect x=\"0\" y=\"300\" width=\"100\" height=\"100\" stroke=\"white\" stroke-width=\"5px\" fill=\"silver\"/><rect x=\"100\" y=\"300\" width=\"100\" height=\"100\" stroke=\"white\" stroke-width=\"5px\" fill=\"ivory\"/><text x=\"37.5%\" y=\"87.5%\" dominant-baseline=\"middle\" text-anchor=\"middle\" font-size=\"24\">2</text><rect x=\"200\" y=\"300\" width=\"100\" height=\"100\" stroke=\"white\" stroke-width=\"5px\" fill=\"darksalmon\"/><text x=\"62.5%\" y=\"87.5%\" dominant-baseline=\"middle\" text-anchor=\"middle\" font-size=\"24\">16</text><rect x=\"300\" y=\"300\" width=\"100\" height=\"100\" stroke=\"white\" stroke-width=\"5px\" fill=\"wheat\"/><text x=\"87.5%\" y=\"87.5%\" dominant-baseline=\"middle\" text-anchor=\"middle\" font-size=\"24\">128</text></svg>"
      ],
      "text/plain": [
       "<IPython.core.display.HTML object>"
      ]
     },
     "metadata": {},
     "output_type": "display_data"
    },
    {
     "name": "stdout",
     "output_type": "stream",
     "text": [
      "\n",
      "Movimiento: Derecha\n",
      "Puntuacion: 704\n",
      "Numero de movimientos: 102\n"
     ]
    },
    {
     "data": {
      "text/html": [
       "<svg height=\"400\" width=\"400\"><rect x=\"0\" y=\"0\" width=\"100\" height=\"100\" stroke=\"white\" stroke-width=\"5px\" fill=\"ivory\"/><text x=\"12.5%\" y=\"12.5%\" dominant-baseline=\"middle\" text-anchor=\"middle\" font-size=\"24\">2</text><rect x=\"100\" y=\"0\" width=\"100\" height=\"100\" stroke=\"white\" stroke-width=\"5px\" fill=\"silver\"/><rect x=\"200\" y=\"0\" width=\"100\" height=\"100\" stroke=\"white\" stroke-width=\"5px\" fill=\"silver\"/><rect x=\"300\" y=\"0\" width=\"100\" height=\"100\" stroke=\"white\" stroke-width=\"5px\" fill=\"antiquewhite\"/><text x=\"87.5%\" y=\"12.5%\" dominant-baseline=\"middle\" text-anchor=\"middle\" font-size=\"24\">4</text><rect x=\"0\" y=\"100\" width=\"100\" height=\"100\" stroke=\"white\" stroke-width=\"5px\" fill=\"silver\"/><rect x=\"100\" y=\"100\" width=\"100\" height=\"100\" stroke=\"white\" stroke-width=\"5px\" fill=\"silver\"/><rect x=\"200\" y=\"100\" width=\"100\" height=\"100\" stroke=\"white\" stroke-width=\"5px\" fill=\"ivory\"/><text x=\"62.5%\" y=\"37.5%\" dominant-baseline=\"middle\" text-anchor=\"middle\" font-size=\"24\">2</text><rect x=\"300\" y=\"100\" width=\"100\" height=\"100\" stroke=\"white\" stroke-width=\"5px\" fill=\"darksalmon\"/><text x=\"87.5%\" y=\"37.5%\" dominant-baseline=\"middle\" text-anchor=\"middle\" font-size=\"24\">16</text><rect x=\"0\" y=\"200\" width=\"100\" height=\"100\" stroke=\"white\" stroke-width=\"5px\" fill=\"silver\"/><rect x=\"100\" y=\"200\" width=\"100\" height=\"100\" stroke=\"white\" stroke-width=\"5px\" fill=\"silver\"/><rect x=\"200\" y=\"200\" width=\"100\" height=\"100\" stroke=\"white\" stroke-width=\"5px\" fill=\"lightsalmon\"/><text x=\"62.5%\" y=\"62.5%\" dominant-baseline=\"middle\" text-anchor=\"middle\" font-size=\"24\">8</text><rect x=\"300\" y=\"200\" width=\"100\" height=\"100\" stroke=\"white\" stroke-width=\"5px\" fill=\"tomato\"/><text x=\"87.5%\" y=\"62.5%\" dominant-baseline=\"middle\" text-anchor=\"middle\" font-size=\"24\">32</text><rect x=\"0\" y=\"300\" width=\"100\" height=\"100\" stroke=\"white\" stroke-width=\"5px\" fill=\"ivory\"/><text x=\"12.5%\" y=\"87.5%\" dominant-baseline=\"middle\" text-anchor=\"middle\" font-size=\"24\">2</text><rect x=\"100\" y=\"300\" width=\"100\" height=\"100\" stroke=\"white\" stroke-width=\"5px\" fill=\"antiquewhite\"/><text x=\"37.5%\" y=\"87.5%\" dominant-baseline=\"middle\" text-anchor=\"middle\" font-size=\"24\">4</text><rect x=\"200\" y=\"300\" width=\"100\" height=\"100\" stroke=\"white\" stroke-width=\"5px\" fill=\"tomato\"/><text x=\"62.5%\" y=\"87.5%\" dominant-baseline=\"middle\" text-anchor=\"middle\" font-size=\"24\">32</text><rect x=\"300\" y=\"300\" width=\"100\" height=\"100\" stroke=\"white\" stroke-width=\"5px\" fill=\"wheat\"/><text x=\"87.5%\" y=\"87.5%\" dominant-baseline=\"middle\" text-anchor=\"middle\" font-size=\"24\">128</text></svg>"
      ],
      "text/plain": [
       "<IPython.core.display.HTML object>"
      ]
     },
     "metadata": {},
     "output_type": "display_data"
    },
    {
     "name": "stdout",
     "output_type": "stream",
     "text": [
      "\n",
      "Movimiento: Derecha\n",
      "Puntuacion: 712\n",
      "Numero de movimientos: 103\n"
     ]
    },
    {
     "data": {
      "text/html": [
       "<svg height=\"400\" width=\"400\"><rect x=\"0\" y=\"0\" width=\"100\" height=\"100\" stroke=\"white\" stroke-width=\"5px\" fill=\"silver\"/><rect x=\"100\" y=\"0\" width=\"100\" height=\"100\" stroke=\"white\" stroke-width=\"5px\" fill=\"silver\"/><rect x=\"200\" y=\"0\" width=\"100\" height=\"100\" stroke=\"white\" stroke-width=\"5px\" fill=\"silver\"/><rect x=\"300\" y=\"0\" width=\"100\" height=\"100\" stroke=\"white\" stroke-width=\"5px\" fill=\"antiquewhite\"/><text x=\"87.5%\" y=\"12.5%\" dominant-baseline=\"middle\" text-anchor=\"middle\" font-size=\"24\">4</text><rect x=\"0\" y=\"100\" width=\"100\" height=\"100\" stroke=\"white\" stroke-width=\"5px\" fill=\"silver\"/><rect x=\"100\" y=\"100\" width=\"100\" height=\"100\" stroke=\"white\" stroke-width=\"5px\" fill=\"ivory\"/><text x=\"37.5%\" y=\"37.5%\" dominant-baseline=\"middle\" text-anchor=\"middle\" font-size=\"24\">2</text><rect x=\"200\" y=\"100\" width=\"100\" height=\"100\" stroke=\"white\" stroke-width=\"5px\" fill=\"ivory\"/><text x=\"62.5%\" y=\"37.5%\" dominant-baseline=\"middle\" text-anchor=\"middle\" font-size=\"24\">2</text><rect x=\"300\" y=\"100\" width=\"100\" height=\"100\" stroke=\"white\" stroke-width=\"5px\" fill=\"darksalmon\"/><text x=\"87.5%\" y=\"37.5%\" dominant-baseline=\"middle\" text-anchor=\"middle\" font-size=\"24\">16</text><rect x=\"0\" y=\"200\" width=\"100\" height=\"100\" stroke=\"white\" stroke-width=\"5px\" fill=\"silver\"/><rect x=\"100\" y=\"200\" width=\"100\" height=\"100\" stroke=\"white\" stroke-width=\"5px\" fill=\"silver\"/><rect x=\"200\" y=\"200\" width=\"100\" height=\"100\" stroke=\"white\" stroke-width=\"5px\" fill=\"lightsalmon\"/><text x=\"62.5%\" y=\"62.5%\" dominant-baseline=\"middle\" text-anchor=\"middle\" font-size=\"24\">8</text><rect x=\"300\" y=\"200\" width=\"100\" height=\"100\" stroke=\"white\" stroke-width=\"5px\" fill=\"tomato\"/><text x=\"87.5%\" y=\"62.5%\" dominant-baseline=\"middle\" text-anchor=\"middle\" font-size=\"24\">32</text><rect x=\"0\" y=\"300\" width=\"100\" height=\"100\" stroke=\"white\" stroke-width=\"5px\" fill=\"silver\"/><rect x=\"100\" y=\"300\" width=\"100\" height=\"100\" stroke=\"white\" stroke-width=\"5px\" fill=\"lightsalmon\"/><text x=\"37.5%\" y=\"87.5%\" dominant-baseline=\"middle\" text-anchor=\"middle\" font-size=\"24\">8</text><rect x=\"200\" y=\"300\" width=\"100\" height=\"100\" stroke=\"white\" stroke-width=\"5px\" fill=\"tomato\"/><text x=\"62.5%\" y=\"87.5%\" dominant-baseline=\"middle\" text-anchor=\"middle\" font-size=\"24\">32</text><rect x=\"300\" y=\"300\" width=\"100\" height=\"100\" stroke=\"white\" stroke-width=\"5px\" fill=\"wheat\"/><text x=\"87.5%\" y=\"87.5%\" dominant-baseline=\"middle\" text-anchor=\"middle\" font-size=\"24\">128</text></svg>"
      ],
      "text/plain": [
       "<IPython.core.display.HTML object>"
      ]
     },
     "metadata": {},
     "output_type": "display_data"
    },
    {
     "name": "stdout",
     "output_type": "stream",
     "text": [
      "\n",
      "Movimiento: Derecha\n",
      "Puntuacion: 712\n",
      "Numero de movimientos: 104\n"
     ]
    },
    {
     "data": {
      "text/html": [
       "<svg height=\"400\" width=\"400\"><rect x=\"0\" y=\"0\" width=\"100\" height=\"100\" stroke=\"white\" stroke-width=\"5px\" fill=\"silver\"/><rect x=\"100\" y=\"0\" width=\"100\" height=\"100\" stroke=\"white\" stroke-width=\"5px\" fill=\"silver\"/><rect x=\"200\" y=\"0\" width=\"100\" height=\"100\" stroke=\"white\" stroke-width=\"5px\" fill=\"silver\"/><rect x=\"300\" y=\"0\" width=\"100\" height=\"100\" stroke=\"white\" stroke-width=\"5px\" fill=\"antiquewhite\"/><text x=\"87.5%\" y=\"12.5%\" dominant-baseline=\"middle\" text-anchor=\"middle\" font-size=\"24\">4</text><rect x=\"0\" y=\"100\" width=\"100\" height=\"100\" stroke=\"white\" stroke-width=\"5px\" fill=\"silver\"/><rect x=\"100\" y=\"100\" width=\"100\" height=\"100\" stroke=\"white\" stroke-width=\"5px\" fill=\"ivory\"/><text x=\"37.5%\" y=\"37.5%\" dominant-baseline=\"middle\" text-anchor=\"middle\" font-size=\"24\">2</text><rect x=\"200\" y=\"100\" width=\"100\" height=\"100\" stroke=\"white\" stroke-width=\"5px\" fill=\"ivory\"/><text x=\"62.5%\" y=\"37.5%\" dominant-baseline=\"middle\" text-anchor=\"middle\" font-size=\"24\">2</text><rect x=\"300\" y=\"100\" width=\"100\" height=\"100\" stroke=\"white\" stroke-width=\"5px\" fill=\"darksalmon\"/><text x=\"87.5%\" y=\"37.5%\" dominant-baseline=\"middle\" text-anchor=\"middle\" font-size=\"24\">16</text><rect x=\"0\" y=\"200\" width=\"100\" height=\"100\" stroke=\"white\" stroke-width=\"5px\" fill=\"silver\"/><rect x=\"100\" y=\"200\" width=\"100\" height=\"100\" stroke=\"white\" stroke-width=\"5px\" fill=\"ivory\"/><text x=\"37.5%\" y=\"62.5%\" dominant-baseline=\"middle\" text-anchor=\"middle\" font-size=\"24\">2</text><rect x=\"200\" y=\"200\" width=\"100\" height=\"100\" stroke=\"white\" stroke-width=\"5px\" fill=\"lightsalmon\"/><text x=\"62.5%\" y=\"62.5%\" dominant-baseline=\"middle\" text-anchor=\"middle\" font-size=\"24\">8</text><rect x=\"300\" y=\"200\" width=\"100\" height=\"100\" stroke=\"white\" stroke-width=\"5px\" fill=\"tomato\"/><text x=\"87.5%\" y=\"62.5%\" dominant-baseline=\"middle\" text-anchor=\"middle\" font-size=\"24\">32</text><rect x=\"0\" y=\"300\" width=\"100\" height=\"100\" stroke=\"white\" stroke-width=\"5px\" fill=\"silver\"/><rect x=\"100\" y=\"300\" width=\"100\" height=\"100\" stroke=\"white\" stroke-width=\"5px\" fill=\"lightsalmon\"/><text x=\"37.5%\" y=\"87.5%\" dominant-baseline=\"middle\" text-anchor=\"middle\" font-size=\"24\">8</text><rect x=\"200\" y=\"300\" width=\"100\" height=\"100\" stroke=\"white\" stroke-width=\"5px\" fill=\"tomato\"/><text x=\"62.5%\" y=\"87.5%\" dominant-baseline=\"middle\" text-anchor=\"middle\" font-size=\"24\">32</text><rect x=\"300\" y=\"300\" width=\"100\" height=\"100\" stroke=\"white\" stroke-width=\"5px\" fill=\"wheat\"/><text x=\"87.5%\" y=\"87.5%\" dominant-baseline=\"middle\" text-anchor=\"middle\" font-size=\"24\">128</text></svg>"
      ],
      "text/plain": [
       "<IPython.core.display.HTML object>"
      ]
     },
     "metadata": {},
     "output_type": "display_data"
    },
    {
     "name": "stdout",
     "output_type": "stream",
     "text": [
      "\n",
      "Movimiento: Derecha\n",
      "Puntuacion: 712\n",
      "Numero de movimientos: 105\n"
     ]
    },
    {
     "data": {
      "text/html": [
       "<svg height=\"400\" width=\"400\"><rect x=\"0\" y=\"0\" width=\"100\" height=\"100\" stroke=\"white\" stroke-width=\"5px\" fill=\"silver\"/><rect x=\"100\" y=\"0\" width=\"100\" height=\"100\" stroke=\"white\" stroke-width=\"5px\" fill=\"silver\"/><rect x=\"200\" y=\"0\" width=\"100\" height=\"100\" stroke=\"white\" stroke-width=\"5px\" fill=\"antiquewhite\"/><text x=\"62.5%\" y=\"12.5%\" dominant-baseline=\"middle\" text-anchor=\"middle\" font-size=\"24\">4</text><rect x=\"300\" y=\"0\" width=\"100\" height=\"100\" stroke=\"white\" stroke-width=\"5px\" fill=\"antiquewhite\"/><text x=\"87.5%\" y=\"12.5%\" dominant-baseline=\"middle\" text-anchor=\"middle\" font-size=\"24\">4</text><rect x=\"0\" y=\"100\" width=\"100\" height=\"100\" stroke=\"white\" stroke-width=\"5px\" fill=\"silver\"/><rect x=\"100\" y=\"100\" width=\"100\" height=\"100\" stroke=\"white\" stroke-width=\"5px\" fill=\"silver\"/><rect x=\"200\" y=\"100\" width=\"100\" height=\"100\" stroke=\"white\" stroke-width=\"5px\" fill=\"ivory\"/><text x=\"62.5%\" y=\"37.5%\" dominant-baseline=\"middle\" text-anchor=\"middle\" font-size=\"24\">2</text><rect x=\"300\" y=\"100\" width=\"100\" height=\"100\" stroke=\"white\" stroke-width=\"5px\" fill=\"darksalmon\"/><text x=\"87.5%\" y=\"37.5%\" dominant-baseline=\"middle\" text-anchor=\"middle\" font-size=\"24\">16</text><rect x=\"0\" y=\"200\" width=\"100\" height=\"100\" stroke=\"white\" stroke-width=\"5px\" fill=\"silver\"/><rect x=\"100\" y=\"200\" width=\"100\" height=\"100\" stroke=\"white\" stroke-width=\"5px\" fill=\"antiquewhite\"/><text x=\"37.5%\" y=\"62.5%\" dominant-baseline=\"middle\" text-anchor=\"middle\" font-size=\"24\">4</text><rect x=\"200\" y=\"200\" width=\"100\" height=\"100\" stroke=\"white\" stroke-width=\"5px\" fill=\"lightsalmon\"/><text x=\"62.5%\" y=\"62.5%\" dominant-baseline=\"middle\" text-anchor=\"middle\" font-size=\"24\">8</text><rect x=\"300\" y=\"200\" width=\"100\" height=\"100\" stroke=\"white\" stroke-width=\"5px\" fill=\"tomato\"/><text x=\"87.5%\" y=\"62.5%\" dominant-baseline=\"middle\" text-anchor=\"middle\" font-size=\"24\">32</text><rect x=\"0\" y=\"300\" width=\"100\" height=\"100\" stroke=\"white\" stroke-width=\"5px\" fill=\"silver\"/><rect x=\"100\" y=\"300\" width=\"100\" height=\"100\" stroke=\"white\" stroke-width=\"5px\" fill=\"lightsalmon\"/><text x=\"37.5%\" y=\"87.5%\" dominant-baseline=\"middle\" text-anchor=\"middle\" font-size=\"24\">8</text><rect x=\"200\" y=\"300\" width=\"100\" height=\"100\" stroke=\"white\" stroke-width=\"5px\" fill=\"tomato\"/><text x=\"62.5%\" y=\"87.5%\" dominant-baseline=\"middle\" text-anchor=\"middle\" font-size=\"24\">32</text><rect x=\"300\" y=\"300\" width=\"100\" height=\"100\" stroke=\"white\" stroke-width=\"5px\" fill=\"wheat\"/><text x=\"87.5%\" y=\"87.5%\" dominant-baseline=\"middle\" text-anchor=\"middle\" font-size=\"24\">128</text></svg>"
      ],
      "text/plain": [
       "<IPython.core.display.HTML object>"
      ]
     },
     "metadata": {},
     "output_type": "display_data"
    },
    {
     "name": "stdout",
     "output_type": "stream",
     "text": [
      "\n",
      "Movimiento: Abajo\n",
      "Puntuacion: 712\n",
      "Numero de movimientos: 106\n"
     ]
    },
    {
     "data": {
      "text/html": [
       "<svg height=\"400\" width=\"400\"><rect x=\"0\" y=\"0\" width=\"100\" height=\"100\" stroke=\"white\" stroke-width=\"5px\" fill=\"silver\"/><rect x=\"100\" y=\"0\" width=\"100\" height=\"100\" stroke=\"white\" stroke-width=\"5px\" fill=\"silver\"/><rect x=\"200\" y=\"0\" width=\"100\" height=\"100\" stroke=\"white\" stroke-width=\"5px\" fill=\"antiquewhite\"/><text x=\"62.5%\" y=\"12.5%\" dominant-baseline=\"middle\" text-anchor=\"middle\" font-size=\"24\">4</text><rect x=\"300\" y=\"0\" width=\"100\" height=\"100\" stroke=\"white\" stroke-width=\"5px\" fill=\"antiquewhite\"/><text x=\"87.5%\" y=\"12.5%\" dominant-baseline=\"middle\" text-anchor=\"middle\" font-size=\"24\">4</text><rect x=\"0\" y=\"100\" width=\"100\" height=\"100\" stroke=\"white\" stroke-width=\"5px\" fill=\"silver\"/><rect x=\"100\" y=\"100\" width=\"100\" height=\"100\" stroke=\"white\" stroke-width=\"5px\" fill=\"silver\"/><rect x=\"200\" y=\"100\" width=\"100\" height=\"100\" stroke=\"white\" stroke-width=\"5px\" fill=\"ivory\"/><text x=\"62.5%\" y=\"37.5%\" dominant-baseline=\"middle\" text-anchor=\"middle\" font-size=\"24\">2</text><rect x=\"300\" y=\"100\" width=\"100\" height=\"100\" stroke=\"white\" stroke-width=\"5px\" fill=\"darksalmon\"/><text x=\"87.5%\" y=\"37.5%\" dominant-baseline=\"middle\" text-anchor=\"middle\" font-size=\"24\">16</text><rect x=\"0\" y=\"200\" width=\"100\" height=\"100\" stroke=\"white\" stroke-width=\"5px\" fill=\"ivory\"/><text x=\"12.5%\" y=\"62.5%\" dominant-baseline=\"middle\" text-anchor=\"middle\" font-size=\"24\">2</text><rect x=\"100\" y=\"200\" width=\"100\" height=\"100\" stroke=\"white\" stroke-width=\"5px\" fill=\"antiquewhite\"/><text x=\"37.5%\" y=\"62.5%\" dominant-baseline=\"middle\" text-anchor=\"middle\" font-size=\"24\">4</text><rect x=\"200\" y=\"200\" width=\"100\" height=\"100\" stroke=\"white\" stroke-width=\"5px\" fill=\"lightsalmon\"/><text x=\"62.5%\" y=\"62.5%\" dominant-baseline=\"middle\" text-anchor=\"middle\" font-size=\"24\">8</text><rect x=\"300\" y=\"200\" width=\"100\" height=\"100\" stroke=\"white\" stroke-width=\"5px\" fill=\"tomato\"/><text x=\"87.5%\" y=\"62.5%\" dominant-baseline=\"middle\" text-anchor=\"middle\" font-size=\"24\">32</text><rect x=\"0\" y=\"300\" width=\"100\" height=\"100\" stroke=\"white\" stroke-width=\"5px\" fill=\"silver\"/><rect x=\"100\" y=\"300\" width=\"100\" height=\"100\" stroke=\"white\" stroke-width=\"5px\" fill=\"lightsalmon\"/><text x=\"37.5%\" y=\"87.5%\" dominant-baseline=\"middle\" text-anchor=\"middle\" font-size=\"24\">8</text><rect x=\"200\" y=\"300\" width=\"100\" height=\"100\" stroke=\"white\" stroke-width=\"5px\" fill=\"tomato\"/><text x=\"62.5%\" y=\"87.5%\" dominant-baseline=\"middle\" text-anchor=\"middle\" font-size=\"24\">32</text><rect x=\"300\" y=\"300\" width=\"100\" height=\"100\" stroke=\"white\" stroke-width=\"5px\" fill=\"wheat\"/><text x=\"87.5%\" y=\"87.5%\" dominant-baseline=\"middle\" text-anchor=\"middle\" font-size=\"24\">128</text></svg>"
      ],
      "text/plain": [
       "<IPython.core.display.HTML object>"
      ]
     },
     "metadata": {},
     "output_type": "display_data"
    },
    {
     "name": "stdout",
     "output_type": "stream",
     "text": [
      "\n",
      "Movimiento: Derecha\n",
      "Puntuacion: 720\n",
      "Numero de movimientos: 107\n"
     ]
    },
    {
     "data": {
      "text/html": [
       "<svg height=\"400\" width=\"400\"><rect x=\"0\" y=\"0\" width=\"100\" height=\"100\" stroke=\"white\" stroke-width=\"5px\" fill=\"silver\"/><rect x=\"100\" y=\"0\" width=\"100\" height=\"100\" stroke=\"white\" stroke-width=\"5px\" fill=\"silver\"/><rect x=\"200\" y=\"0\" width=\"100\" height=\"100\" stroke=\"white\" stroke-width=\"5px\" fill=\"silver\"/><rect x=\"300\" y=\"0\" width=\"100\" height=\"100\" stroke=\"white\" stroke-width=\"5px\" fill=\"lightsalmon\"/><text x=\"87.5%\" y=\"12.5%\" dominant-baseline=\"middle\" text-anchor=\"middle\" font-size=\"24\">8</text><rect x=\"0\" y=\"100\" width=\"100\" height=\"100\" stroke=\"white\" stroke-width=\"5px\" fill=\"ivory\"/><text x=\"12.5%\" y=\"37.5%\" dominant-baseline=\"middle\" text-anchor=\"middle\" font-size=\"24\">2</text><rect x=\"100\" y=\"100\" width=\"100\" height=\"100\" stroke=\"white\" stroke-width=\"5px\" fill=\"silver\"/><rect x=\"200\" y=\"100\" width=\"100\" height=\"100\" stroke=\"white\" stroke-width=\"5px\" fill=\"ivory\"/><text x=\"62.5%\" y=\"37.5%\" dominant-baseline=\"middle\" text-anchor=\"middle\" font-size=\"24\">2</text><rect x=\"300\" y=\"100\" width=\"100\" height=\"100\" stroke=\"white\" stroke-width=\"5px\" fill=\"darksalmon\"/><text x=\"87.5%\" y=\"37.5%\" dominant-baseline=\"middle\" text-anchor=\"middle\" font-size=\"24\">16</text><rect x=\"0\" y=\"200\" width=\"100\" height=\"100\" stroke=\"white\" stroke-width=\"5px\" fill=\"silver\"/><rect x=\"100\" y=\"200\" width=\"100\" height=\"100\" stroke=\"white\" stroke-width=\"5px\" fill=\"antiquewhite\"/><text x=\"37.5%\" y=\"62.5%\" dominant-baseline=\"middle\" text-anchor=\"middle\" font-size=\"24\">4</text><rect x=\"200\" y=\"200\" width=\"100\" height=\"100\" stroke=\"white\" stroke-width=\"5px\" fill=\"lightsalmon\"/><text x=\"62.5%\" y=\"62.5%\" dominant-baseline=\"middle\" text-anchor=\"middle\" font-size=\"24\">8</text><rect x=\"300\" y=\"200\" width=\"100\" height=\"100\" stroke=\"white\" stroke-width=\"5px\" fill=\"tomato\"/><text x=\"87.5%\" y=\"62.5%\" dominant-baseline=\"middle\" text-anchor=\"middle\" font-size=\"24\">32</text><rect x=\"0\" y=\"300\" width=\"100\" height=\"100\" stroke=\"white\" stroke-width=\"5px\" fill=\"ivory\"/><text x=\"12.5%\" y=\"87.5%\" dominant-baseline=\"middle\" text-anchor=\"middle\" font-size=\"24\">2</text><rect x=\"100\" y=\"300\" width=\"100\" height=\"100\" stroke=\"white\" stroke-width=\"5px\" fill=\"lightsalmon\"/><text x=\"37.5%\" y=\"87.5%\" dominant-baseline=\"middle\" text-anchor=\"middle\" font-size=\"24\">8</text><rect x=\"200\" y=\"300\" width=\"100\" height=\"100\" stroke=\"white\" stroke-width=\"5px\" fill=\"tomato\"/><text x=\"62.5%\" y=\"87.5%\" dominant-baseline=\"middle\" text-anchor=\"middle\" font-size=\"24\">32</text><rect x=\"300\" y=\"300\" width=\"100\" height=\"100\" stroke=\"white\" stroke-width=\"5px\" fill=\"wheat\"/><text x=\"87.5%\" y=\"87.5%\" dominant-baseline=\"middle\" text-anchor=\"middle\" font-size=\"24\">128</text></svg>"
      ],
      "text/plain": [
       "<IPython.core.display.HTML object>"
      ]
     },
     "metadata": {},
     "output_type": "display_data"
    },
    {
     "name": "stdout",
     "output_type": "stream",
     "text": [
      "\n",
      "Movimiento: Derecha\n",
      "Puntuacion: 720\n",
      "Numero de movimientos: 108\n"
     ]
    },
    {
     "data": {
      "text/html": [
       "<svg height=\"400\" width=\"400\"><rect x=\"0\" y=\"0\" width=\"100\" height=\"100\" stroke=\"white\" stroke-width=\"5px\" fill=\"silver\"/><rect x=\"100\" y=\"0\" width=\"100\" height=\"100\" stroke=\"white\" stroke-width=\"5px\" fill=\"silver\"/><rect x=\"200\" y=\"0\" width=\"100\" height=\"100\" stroke=\"white\" stroke-width=\"5px\" fill=\"silver\"/><rect x=\"300\" y=\"0\" width=\"100\" height=\"100\" stroke=\"white\" stroke-width=\"5px\" fill=\"lightsalmon\"/><text x=\"87.5%\" y=\"12.5%\" dominant-baseline=\"middle\" text-anchor=\"middle\" font-size=\"24\">8</text><rect x=\"0\" y=\"100\" width=\"100\" height=\"100\" stroke=\"white\" stroke-width=\"5px\" fill=\"ivory\"/><text x=\"12.5%\" y=\"37.5%\" dominant-baseline=\"middle\" text-anchor=\"middle\" font-size=\"24\">2</text><rect x=\"100\" y=\"100\" width=\"100\" height=\"100\" stroke=\"white\" stroke-width=\"5px\" fill=\"silver\"/><rect x=\"200\" y=\"100\" width=\"100\" height=\"100\" stroke=\"white\" stroke-width=\"5px\" fill=\"ivory\"/><text x=\"62.5%\" y=\"37.5%\" dominant-baseline=\"middle\" text-anchor=\"middle\" font-size=\"24\">2</text><rect x=\"300\" y=\"100\" width=\"100\" height=\"100\" stroke=\"white\" stroke-width=\"5px\" fill=\"darksalmon\"/><text x=\"87.5%\" y=\"37.5%\" dominant-baseline=\"middle\" text-anchor=\"middle\" font-size=\"24\">16</text><rect x=\"0\" y=\"200\" width=\"100\" height=\"100\" stroke=\"white\" stroke-width=\"5px\" fill=\"silver\"/><rect x=\"100\" y=\"200\" width=\"100\" height=\"100\" stroke=\"white\" stroke-width=\"5px\" fill=\"antiquewhite\"/><text x=\"37.5%\" y=\"62.5%\" dominant-baseline=\"middle\" text-anchor=\"middle\" font-size=\"24\">4</text><rect x=\"200\" y=\"200\" width=\"100\" height=\"100\" stroke=\"white\" stroke-width=\"5px\" fill=\"lightsalmon\"/><text x=\"62.5%\" y=\"62.5%\" dominant-baseline=\"middle\" text-anchor=\"middle\" font-size=\"24\">8</text><rect x=\"300\" y=\"200\" width=\"100\" height=\"100\" stroke=\"white\" stroke-width=\"5px\" fill=\"tomato\"/><text x=\"87.5%\" y=\"62.5%\" dominant-baseline=\"middle\" text-anchor=\"middle\" font-size=\"24\">32</text><rect x=\"0\" y=\"300\" width=\"100\" height=\"100\" stroke=\"white\" stroke-width=\"5px\" fill=\"antiquewhite\"/><text x=\"12.5%\" y=\"87.5%\" dominant-baseline=\"middle\" text-anchor=\"middle\" font-size=\"24\">4</text><rect x=\"100\" y=\"300\" width=\"100\" height=\"100\" stroke=\"white\" stroke-width=\"5px\" fill=\"lightsalmon\"/><text x=\"37.5%\" y=\"87.5%\" dominant-baseline=\"middle\" text-anchor=\"middle\" font-size=\"24\">8</text><rect x=\"200\" y=\"300\" width=\"100\" height=\"100\" stroke=\"white\" stroke-width=\"5px\" fill=\"tomato\"/><text x=\"62.5%\" y=\"87.5%\" dominant-baseline=\"middle\" text-anchor=\"middle\" font-size=\"24\">32</text><rect x=\"300\" y=\"300\" width=\"100\" height=\"100\" stroke=\"white\" stroke-width=\"5px\" fill=\"wheat\"/><text x=\"87.5%\" y=\"87.5%\" dominant-baseline=\"middle\" text-anchor=\"middle\" font-size=\"24\">128</text></svg>"
      ],
      "text/plain": [
       "<IPython.core.display.HTML object>"
      ]
     },
     "metadata": {},
     "output_type": "display_data"
    },
    {
     "name": "stdout",
     "output_type": "stream",
     "text": [
      "\n",
      "Movimiento: Derecha\n",
      "Puntuacion: 720\n",
      "Numero de movimientos: 109\n"
     ]
    },
    {
     "data": {
      "text/html": [
       "<svg height=\"400\" width=\"400\"><rect x=\"0\" y=\"0\" width=\"100\" height=\"100\" stroke=\"white\" stroke-width=\"5px\" fill=\"silver\"/><rect x=\"100\" y=\"0\" width=\"100\" height=\"100\" stroke=\"white\" stroke-width=\"5px\" fill=\"silver\"/><rect x=\"200\" y=\"0\" width=\"100\" height=\"100\" stroke=\"white\" stroke-width=\"5px\" fill=\"ivory\"/><text x=\"62.5%\" y=\"12.5%\" dominant-baseline=\"middle\" text-anchor=\"middle\" font-size=\"24\">2</text><rect x=\"300\" y=\"0\" width=\"100\" height=\"100\" stroke=\"white\" stroke-width=\"5px\" fill=\"lightsalmon\"/><text x=\"87.5%\" y=\"12.5%\" dominant-baseline=\"middle\" text-anchor=\"middle\" font-size=\"24\">8</text><rect x=\"0\" y=\"100\" width=\"100\" height=\"100\" stroke=\"white\" stroke-width=\"5px\" fill=\"silver\"/><rect x=\"100\" y=\"100\" width=\"100\" height=\"100\" stroke=\"white\" stroke-width=\"5px\" fill=\"silver\"/><rect x=\"200\" y=\"100\" width=\"100\" height=\"100\" stroke=\"white\" stroke-width=\"5px\" fill=\"ivory\"/><text x=\"62.5%\" y=\"37.5%\" dominant-baseline=\"middle\" text-anchor=\"middle\" font-size=\"24\">2</text><rect x=\"300\" y=\"100\" width=\"100\" height=\"100\" stroke=\"white\" stroke-width=\"5px\" fill=\"darksalmon\"/><text x=\"87.5%\" y=\"37.5%\" dominant-baseline=\"middle\" text-anchor=\"middle\" font-size=\"24\">16</text><rect x=\"0\" y=\"200\" width=\"100\" height=\"100\" stroke=\"white\" stroke-width=\"5px\" fill=\"ivory\"/><text x=\"12.5%\" y=\"62.5%\" dominant-baseline=\"middle\" text-anchor=\"middle\" font-size=\"24\">2</text><rect x=\"100\" y=\"200\" width=\"100\" height=\"100\" stroke=\"white\" stroke-width=\"5px\" fill=\"antiquewhite\"/><text x=\"37.5%\" y=\"62.5%\" dominant-baseline=\"middle\" text-anchor=\"middle\" font-size=\"24\">4</text><rect x=\"200\" y=\"200\" width=\"100\" height=\"100\" stroke=\"white\" stroke-width=\"5px\" fill=\"lightsalmon\"/><text x=\"62.5%\" y=\"62.5%\" dominant-baseline=\"middle\" text-anchor=\"middle\" font-size=\"24\">8</text><rect x=\"300\" y=\"200\" width=\"100\" height=\"100\" stroke=\"white\" stroke-width=\"5px\" fill=\"tomato\"/><text x=\"87.5%\" y=\"62.5%\" dominant-baseline=\"middle\" text-anchor=\"middle\" font-size=\"24\">32</text><rect x=\"0\" y=\"300\" width=\"100\" height=\"100\" stroke=\"white\" stroke-width=\"5px\" fill=\"antiquewhite\"/><text x=\"12.5%\" y=\"87.5%\" dominant-baseline=\"middle\" text-anchor=\"middle\" font-size=\"24\">4</text><rect x=\"100\" y=\"300\" width=\"100\" height=\"100\" stroke=\"white\" stroke-width=\"5px\" fill=\"lightsalmon\"/><text x=\"37.5%\" y=\"87.5%\" dominant-baseline=\"middle\" text-anchor=\"middle\" font-size=\"24\">8</text><rect x=\"200\" y=\"300\" width=\"100\" height=\"100\" stroke=\"white\" stroke-width=\"5px\" fill=\"tomato\"/><text x=\"62.5%\" y=\"87.5%\" dominant-baseline=\"middle\" text-anchor=\"middle\" font-size=\"24\">32</text><rect x=\"300\" y=\"300\" width=\"100\" height=\"100\" stroke=\"white\" stroke-width=\"5px\" fill=\"wheat\"/><text x=\"87.5%\" y=\"87.5%\" dominant-baseline=\"middle\" text-anchor=\"middle\" font-size=\"24\">128</text></svg>"
      ],
      "text/plain": [
       "<IPython.core.display.HTML object>"
      ]
     },
     "metadata": {},
     "output_type": "display_data"
    },
    {
     "name": "stdout",
     "output_type": "stream",
     "text": [
      "\n",
      "Movimiento: Derecha\n",
      "Puntuacion: 720\n",
      "Numero de movimientos: 110\n"
     ]
    },
    {
     "data": {
      "text/html": [
       "<svg height=\"400\" width=\"400\"><rect x=\"0\" y=\"0\" width=\"100\" height=\"100\" stroke=\"white\" stroke-width=\"5px\" fill=\"ivory\"/><text x=\"12.5%\" y=\"12.5%\" dominant-baseline=\"middle\" text-anchor=\"middle\" font-size=\"24\">2</text><rect x=\"100\" y=\"0\" width=\"100\" height=\"100\" stroke=\"white\" stroke-width=\"5px\" fill=\"silver\"/><rect x=\"200\" y=\"0\" width=\"100\" height=\"100\" stroke=\"white\" stroke-width=\"5px\" fill=\"silver\"/><rect x=\"300\" y=\"0\" width=\"100\" height=\"100\" stroke=\"white\" stroke-width=\"5px\" fill=\"lightsalmon\"/><text x=\"87.5%\" y=\"12.5%\" dominant-baseline=\"middle\" text-anchor=\"middle\" font-size=\"24\">8</text><rect x=\"0\" y=\"100\" width=\"100\" height=\"100\" stroke=\"white\" stroke-width=\"5px\" fill=\"silver\"/><rect x=\"100\" y=\"100\" width=\"100\" height=\"100\" stroke=\"white\" stroke-width=\"5px\" fill=\"silver\"/><rect x=\"200\" y=\"100\" width=\"100\" height=\"100\" stroke=\"white\" stroke-width=\"5px\" fill=\"antiquewhite\"/><text x=\"62.5%\" y=\"37.5%\" dominant-baseline=\"middle\" text-anchor=\"middle\" font-size=\"24\">4</text><rect x=\"300\" y=\"100\" width=\"100\" height=\"100\" stroke=\"white\" stroke-width=\"5px\" fill=\"darksalmon\"/><text x=\"87.5%\" y=\"37.5%\" dominant-baseline=\"middle\" text-anchor=\"middle\" font-size=\"24\">16</text><rect x=\"0\" y=\"200\" width=\"100\" height=\"100\" stroke=\"white\" stroke-width=\"5px\" fill=\"ivory\"/><text x=\"12.5%\" y=\"62.5%\" dominant-baseline=\"middle\" text-anchor=\"middle\" font-size=\"24\">2</text><rect x=\"100\" y=\"200\" width=\"100\" height=\"100\" stroke=\"white\" stroke-width=\"5px\" fill=\"antiquewhite\"/><text x=\"37.5%\" y=\"62.5%\" dominant-baseline=\"middle\" text-anchor=\"middle\" font-size=\"24\">4</text><rect x=\"200\" y=\"200\" width=\"100\" height=\"100\" stroke=\"white\" stroke-width=\"5px\" fill=\"lightsalmon\"/><text x=\"62.5%\" y=\"62.5%\" dominant-baseline=\"middle\" text-anchor=\"middle\" font-size=\"24\">8</text><rect x=\"300\" y=\"200\" width=\"100\" height=\"100\" stroke=\"white\" stroke-width=\"5px\" fill=\"tomato\"/><text x=\"87.5%\" y=\"62.5%\" dominant-baseline=\"middle\" text-anchor=\"middle\" font-size=\"24\">32</text><rect x=\"0\" y=\"300\" width=\"100\" height=\"100\" stroke=\"white\" stroke-width=\"5px\" fill=\"antiquewhite\"/><text x=\"12.5%\" y=\"87.5%\" dominant-baseline=\"middle\" text-anchor=\"middle\" font-size=\"24\">4</text><rect x=\"100\" y=\"300\" width=\"100\" height=\"100\" stroke=\"white\" stroke-width=\"5px\" fill=\"lightsalmon\"/><text x=\"37.5%\" y=\"87.5%\" dominant-baseline=\"middle\" text-anchor=\"middle\" font-size=\"24\">8</text><rect x=\"200\" y=\"300\" width=\"100\" height=\"100\" stroke=\"white\" stroke-width=\"5px\" fill=\"tomato\"/><text x=\"62.5%\" y=\"87.5%\" dominant-baseline=\"middle\" text-anchor=\"middle\" font-size=\"24\">32</text><rect x=\"300\" y=\"300\" width=\"100\" height=\"100\" stroke=\"white\" stroke-width=\"5px\" fill=\"wheat\"/><text x=\"87.5%\" y=\"87.5%\" dominant-baseline=\"middle\" text-anchor=\"middle\" font-size=\"24\">128</text></svg>"
      ],
      "text/plain": [
       "<IPython.core.display.HTML object>"
      ]
     },
     "metadata": {},
     "output_type": "display_data"
    },
    {
     "name": "stdout",
     "output_type": "stream",
     "text": [
      "\n",
      "Movimiento: Derecha\n",
      "Puntuacion: 728\n",
      "Numero de movimientos: 111\n"
     ]
    },
    {
     "data": {
      "text/html": [
       "<svg height=\"400\" width=\"400\"><rect x=\"0\" y=\"0\" width=\"100\" height=\"100\" stroke=\"white\" stroke-width=\"5px\" fill=\"silver\"/><rect x=\"100\" y=\"0\" width=\"100\" height=\"100\" stroke=\"white\" stroke-width=\"5px\" fill=\"silver\"/><rect x=\"200\" y=\"0\" width=\"100\" height=\"100\" stroke=\"white\" stroke-width=\"5px\" fill=\"silver\"/><rect x=\"300\" y=\"0\" width=\"100\" height=\"100\" stroke=\"white\" stroke-width=\"5px\" fill=\"lightsalmon\"/><text x=\"87.5%\" y=\"12.5%\" dominant-baseline=\"middle\" text-anchor=\"middle\" font-size=\"24\">8</text><rect x=\"0\" y=\"100\" width=\"100\" height=\"100\" stroke=\"white\" stroke-width=\"5px\" fill=\"ivory\"/><text x=\"12.5%\" y=\"37.5%\" dominant-baseline=\"middle\" text-anchor=\"middle\" font-size=\"24\">2</text><rect x=\"100\" y=\"100\" width=\"100\" height=\"100\" stroke=\"white\" stroke-width=\"5px\" fill=\"silver\"/><rect x=\"200\" y=\"100\" width=\"100\" height=\"100\" stroke=\"white\" stroke-width=\"5px\" fill=\"antiquewhite\"/><text x=\"62.5%\" y=\"37.5%\" dominant-baseline=\"middle\" text-anchor=\"middle\" font-size=\"24\">4</text><rect x=\"300\" y=\"100\" width=\"100\" height=\"100\" stroke=\"white\" stroke-width=\"5px\" fill=\"darksalmon\"/><text x=\"87.5%\" y=\"37.5%\" dominant-baseline=\"middle\" text-anchor=\"middle\" font-size=\"24\">16</text><rect x=\"0\" y=\"200\" width=\"100\" height=\"100\" stroke=\"white\" stroke-width=\"5px\" fill=\"silver\"/><rect x=\"100\" y=\"200\" width=\"100\" height=\"100\" stroke=\"white\" stroke-width=\"5px\" fill=\"lightsalmon\"/><text x=\"37.5%\" y=\"62.5%\" dominant-baseline=\"middle\" text-anchor=\"middle\" font-size=\"24\">8</text><rect x=\"200\" y=\"200\" width=\"100\" height=\"100\" stroke=\"white\" stroke-width=\"5px\" fill=\"lightsalmon\"/><text x=\"62.5%\" y=\"62.5%\" dominant-baseline=\"middle\" text-anchor=\"middle\" font-size=\"24\">8</text><rect x=\"300\" y=\"200\" width=\"100\" height=\"100\" stroke=\"white\" stroke-width=\"5px\" fill=\"tomato\"/><text x=\"87.5%\" y=\"62.5%\" dominant-baseline=\"middle\" text-anchor=\"middle\" font-size=\"24\">32</text><rect x=\"0\" y=\"300\" width=\"100\" height=\"100\" stroke=\"white\" stroke-width=\"5px\" fill=\"antiquewhite\"/><text x=\"12.5%\" y=\"87.5%\" dominant-baseline=\"middle\" text-anchor=\"middle\" font-size=\"24\">4</text><rect x=\"100\" y=\"300\" width=\"100\" height=\"100\" stroke=\"white\" stroke-width=\"5px\" fill=\"lightsalmon\"/><text x=\"37.5%\" y=\"87.5%\" dominant-baseline=\"middle\" text-anchor=\"middle\" font-size=\"24\">8</text><rect x=\"200\" y=\"300\" width=\"100\" height=\"100\" stroke=\"white\" stroke-width=\"5px\" fill=\"tomato\"/><text x=\"62.5%\" y=\"87.5%\" dominant-baseline=\"middle\" text-anchor=\"middle\" font-size=\"24\">32</text><rect x=\"300\" y=\"300\" width=\"100\" height=\"100\" stroke=\"white\" stroke-width=\"5px\" fill=\"wheat\"/><text x=\"87.5%\" y=\"87.5%\" dominant-baseline=\"middle\" text-anchor=\"middle\" font-size=\"24\">128</text></svg>"
      ],
      "text/plain": [
       "<IPython.core.display.HTML object>"
      ]
     },
     "metadata": {},
     "output_type": "display_data"
    },
    {
     "name": "stdout",
     "output_type": "stream",
     "text": [
      "\n",
      "Movimiento: Derecha\n",
      "Puntuacion: 728\n",
      "Numero de movimientos: 112\n"
     ]
    },
    {
     "data": {
      "text/html": [
       "<svg height=\"400\" width=\"400\"><rect x=\"0\" y=\"0\" width=\"100\" height=\"100\" stroke=\"white\" stroke-width=\"5px\" fill=\"silver\"/><rect x=\"100\" y=\"0\" width=\"100\" height=\"100\" stroke=\"white\" stroke-width=\"5px\" fill=\"silver\"/><rect x=\"200\" y=\"0\" width=\"100\" height=\"100\" stroke=\"white\" stroke-width=\"5px\" fill=\"silver\"/><rect x=\"300\" y=\"0\" width=\"100\" height=\"100\" stroke=\"white\" stroke-width=\"5px\" fill=\"lightsalmon\"/><text x=\"87.5%\" y=\"12.5%\" dominant-baseline=\"middle\" text-anchor=\"middle\" font-size=\"24\">8</text><rect x=\"0\" y=\"100\" width=\"100\" height=\"100\" stroke=\"white\" stroke-width=\"5px\" fill=\"silver\"/><rect x=\"100\" y=\"100\" width=\"100\" height=\"100\" stroke=\"white\" stroke-width=\"5px\" fill=\"silver\"/><rect x=\"200\" y=\"100\" width=\"100\" height=\"100\" stroke=\"white\" stroke-width=\"5px\" fill=\"antiquewhite\"/><text x=\"62.5%\" y=\"37.5%\" dominant-baseline=\"middle\" text-anchor=\"middle\" font-size=\"24\">4</text><rect x=\"300\" y=\"100\" width=\"100\" height=\"100\" stroke=\"white\" stroke-width=\"5px\" fill=\"darksalmon\"/><text x=\"87.5%\" y=\"37.5%\" dominant-baseline=\"middle\" text-anchor=\"middle\" font-size=\"24\">16</text><rect x=\"0\" y=\"200\" width=\"100\" height=\"100\" stroke=\"white\" stroke-width=\"5px\" fill=\"ivory\"/><text x=\"12.5%\" y=\"62.5%\" dominant-baseline=\"middle\" text-anchor=\"middle\" font-size=\"24\">2</text><rect x=\"100\" y=\"200\" width=\"100\" height=\"100\" stroke=\"white\" stroke-width=\"5px\" fill=\"ivory\"/><text x=\"37.5%\" y=\"62.5%\" dominant-baseline=\"middle\" text-anchor=\"middle\" font-size=\"24\">2</text><rect x=\"200\" y=\"200\" width=\"100\" height=\"100\" stroke=\"white\" stroke-width=\"5px\" fill=\"lightsalmon\"/><text x=\"62.5%\" y=\"62.5%\" dominant-baseline=\"middle\" text-anchor=\"middle\" font-size=\"24\">8</text><rect x=\"300\" y=\"200\" width=\"100\" height=\"100\" stroke=\"white\" stroke-width=\"5px\" fill=\"tomato\"/><text x=\"87.5%\" y=\"62.5%\" dominant-baseline=\"middle\" text-anchor=\"middle\" font-size=\"24\">32</text><rect x=\"0\" y=\"300\" width=\"100\" height=\"100\" stroke=\"white\" stroke-width=\"5px\" fill=\"antiquewhite\"/><text x=\"12.5%\" y=\"87.5%\" dominant-baseline=\"middle\" text-anchor=\"middle\" font-size=\"24\">4</text><rect x=\"100\" y=\"300\" width=\"100\" height=\"100\" stroke=\"white\" stroke-width=\"5px\" fill=\"darksalmon\"/><text x=\"37.5%\" y=\"87.5%\" dominant-baseline=\"middle\" text-anchor=\"middle\" font-size=\"24\">16</text><rect x=\"200\" y=\"300\" width=\"100\" height=\"100\" stroke=\"white\" stroke-width=\"5px\" fill=\"tomato\"/><text x=\"62.5%\" y=\"87.5%\" dominant-baseline=\"middle\" text-anchor=\"middle\" font-size=\"24\">32</text><rect x=\"300\" y=\"300\" width=\"100\" height=\"100\" stroke=\"white\" stroke-width=\"5px\" fill=\"wheat\"/><text x=\"87.5%\" y=\"87.5%\" dominant-baseline=\"middle\" text-anchor=\"middle\" font-size=\"24\">128</text></svg>"
      ],
      "text/plain": [
       "<IPython.core.display.HTML object>"
      ]
     },
     "metadata": {},
     "output_type": "display_data"
    },
    {
     "name": "stdout",
     "output_type": "stream",
     "text": [
      "\n",
      "Movimiento: Abajo\n",
      "Puntuacion: 728\n",
      "Numero de movimientos: 113\n"
     ]
    },
    {
     "data": {
      "text/html": [
       "<svg height=\"400\" width=\"400\"><rect x=\"0\" y=\"0\" width=\"100\" height=\"100\" stroke=\"white\" stroke-width=\"5px\" fill=\"silver\"/><rect x=\"100\" y=\"0\" width=\"100\" height=\"100\" stroke=\"white\" stroke-width=\"5px\" fill=\"ivory\"/><text x=\"37.5%\" y=\"12.5%\" dominant-baseline=\"middle\" text-anchor=\"middle\" font-size=\"24\">2</text><rect x=\"200\" y=\"0\" width=\"100\" height=\"100\" stroke=\"white\" stroke-width=\"5px\" fill=\"silver\"/><rect x=\"300\" y=\"0\" width=\"100\" height=\"100\" stroke=\"white\" stroke-width=\"5px\" fill=\"lightsalmon\"/><text x=\"87.5%\" y=\"12.5%\" dominant-baseline=\"middle\" text-anchor=\"middle\" font-size=\"24\">8</text><rect x=\"0\" y=\"100\" width=\"100\" height=\"100\" stroke=\"white\" stroke-width=\"5px\" fill=\"silver\"/><rect x=\"100\" y=\"100\" width=\"100\" height=\"100\" stroke=\"white\" stroke-width=\"5px\" fill=\"silver\"/><rect x=\"200\" y=\"100\" width=\"100\" height=\"100\" stroke=\"white\" stroke-width=\"5px\" fill=\"antiquewhite\"/><text x=\"62.5%\" y=\"37.5%\" dominant-baseline=\"middle\" text-anchor=\"middle\" font-size=\"24\">4</text><rect x=\"300\" y=\"100\" width=\"100\" height=\"100\" stroke=\"white\" stroke-width=\"5px\" fill=\"darksalmon\"/><text x=\"87.5%\" y=\"37.5%\" dominant-baseline=\"middle\" text-anchor=\"middle\" font-size=\"24\">16</text><rect x=\"0\" y=\"200\" width=\"100\" height=\"100\" stroke=\"white\" stroke-width=\"5px\" fill=\"ivory\"/><text x=\"12.5%\" y=\"62.5%\" dominant-baseline=\"middle\" text-anchor=\"middle\" font-size=\"24\">2</text><rect x=\"100\" y=\"200\" width=\"100\" height=\"100\" stroke=\"white\" stroke-width=\"5px\" fill=\"ivory\"/><text x=\"37.5%\" y=\"62.5%\" dominant-baseline=\"middle\" text-anchor=\"middle\" font-size=\"24\">2</text><rect x=\"200\" y=\"200\" width=\"100\" height=\"100\" stroke=\"white\" stroke-width=\"5px\" fill=\"lightsalmon\"/><text x=\"62.5%\" y=\"62.5%\" dominant-baseline=\"middle\" text-anchor=\"middle\" font-size=\"24\">8</text><rect x=\"300\" y=\"200\" width=\"100\" height=\"100\" stroke=\"white\" stroke-width=\"5px\" fill=\"tomato\"/><text x=\"87.5%\" y=\"62.5%\" dominant-baseline=\"middle\" text-anchor=\"middle\" font-size=\"24\">32</text><rect x=\"0\" y=\"300\" width=\"100\" height=\"100\" stroke=\"white\" stroke-width=\"5px\" fill=\"antiquewhite\"/><text x=\"12.5%\" y=\"87.5%\" dominant-baseline=\"middle\" text-anchor=\"middle\" font-size=\"24\">4</text><rect x=\"100\" y=\"300\" width=\"100\" height=\"100\" stroke=\"white\" stroke-width=\"5px\" fill=\"darksalmon\"/><text x=\"37.5%\" y=\"87.5%\" dominant-baseline=\"middle\" text-anchor=\"middle\" font-size=\"24\">16</text><rect x=\"200\" y=\"300\" width=\"100\" height=\"100\" stroke=\"white\" stroke-width=\"5px\" fill=\"tomato\"/><text x=\"62.5%\" y=\"87.5%\" dominant-baseline=\"middle\" text-anchor=\"middle\" font-size=\"24\">32</text><rect x=\"300\" y=\"300\" width=\"100\" height=\"100\" stroke=\"white\" stroke-width=\"5px\" fill=\"wheat\"/><text x=\"87.5%\" y=\"87.5%\" dominant-baseline=\"middle\" text-anchor=\"middle\" font-size=\"24\">128</text></svg>"
      ],
      "text/plain": [
       "<IPython.core.display.HTML object>"
      ]
     },
     "metadata": {},
     "output_type": "display_data"
    },
    {
     "name": "stdout",
     "output_type": "stream",
     "text": [
      "\n",
      "Movimiento: Derecha\n",
      "Puntuacion: 728\n",
      "Numero de movimientos: 114\n"
     ]
    },
    {
     "data": {
      "text/html": [
       "<svg height=\"400\" width=\"400\"><rect x=\"0\" y=\"0\" width=\"100\" height=\"100\" stroke=\"white\" stroke-width=\"5px\" fill=\"silver\"/><rect x=\"100\" y=\"0\" width=\"100\" height=\"100\" stroke=\"white\" stroke-width=\"5px\" fill=\"ivory\"/><text x=\"37.5%\" y=\"12.5%\" dominant-baseline=\"middle\" text-anchor=\"middle\" font-size=\"24\">2</text><rect x=\"200\" y=\"0\" width=\"100\" height=\"100\" stroke=\"white\" stroke-width=\"5px\" fill=\"silver\"/><rect x=\"300\" y=\"0\" width=\"100\" height=\"100\" stroke=\"white\" stroke-width=\"5px\" fill=\"lightsalmon\"/><text x=\"87.5%\" y=\"12.5%\" dominant-baseline=\"middle\" text-anchor=\"middle\" font-size=\"24\">8</text><rect x=\"0\" y=\"100\" width=\"100\" height=\"100\" stroke=\"white\" stroke-width=\"5px\" fill=\"silver\"/><rect x=\"100\" y=\"100\" width=\"100\" height=\"100\" stroke=\"white\" stroke-width=\"5px\" fill=\"silver\"/><rect x=\"200\" y=\"100\" width=\"100\" height=\"100\" stroke=\"white\" stroke-width=\"5px\" fill=\"antiquewhite\"/><text x=\"62.5%\" y=\"37.5%\" dominant-baseline=\"middle\" text-anchor=\"middle\" font-size=\"24\">4</text><rect x=\"300\" y=\"100\" width=\"100\" height=\"100\" stroke=\"white\" stroke-width=\"5px\" fill=\"darksalmon\"/><text x=\"87.5%\" y=\"37.5%\" dominant-baseline=\"middle\" text-anchor=\"middle\" font-size=\"24\">16</text><rect x=\"0\" y=\"200\" width=\"100\" height=\"100\" stroke=\"white\" stroke-width=\"5px\" fill=\"ivory\"/><text x=\"12.5%\" y=\"62.5%\" dominant-baseline=\"middle\" text-anchor=\"middle\" font-size=\"24\">2</text><rect x=\"100\" y=\"200\" width=\"100\" height=\"100\" stroke=\"white\" stroke-width=\"5px\" fill=\"antiquewhite\"/><text x=\"37.5%\" y=\"62.5%\" dominant-baseline=\"middle\" text-anchor=\"middle\" font-size=\"24\">4</text><rect x=\"200\" y=\"200\" width=\"100\" height=\"100\" stroke=\"white\" stroke-width=\"5px\" fill=\"lightsalmon\"/><text x=\"62.5%\" y=\"62.5%\" dominant-baseline=\"middle\" text-anchor=\"middle\" font-size=\"24\">8</text><rect x=\"300\" y=\"200\" width=\"100\" height=\"100\" stroke=\"white\" stroke-width=\"5px\" fill=\"tomato\"/><text x=\"87.5%\" y=\"62.5%\" dominant-baseline=\"middle\" text-anchor=\"middle\" font-size=\"24\">32</text><rect x=\"0\" y=\"300\" width=\"100\" height=\"100\" stroke=\"white\" stroke-width=\"5px\" fill=\"antiquewhite\"/><text x=\"12.5%\" y=\"87.5%\" dominant-baseline=\"middle\" text-anchor=\"middle\" font-size=\"24\">4</text><rect x=\"100\" y=\"300\" width=\"100\" height=\"100\" stroke=\"white\" stroke-width=\"5px\" fill=\"darksalmon\"/><text x=\"37.5%\" y=\"87.5%\" dominant-baseline=\"middle\" text-anchor=\"middle\" font-size=\"24\">16</text><rect x=\"200\" y=\"300\" width=\"100\" height=\"100\" stroke=\"white\" stroke-width=\"5px\" fill=\"tomato\"/><text x=\"62.5%\" y=\"87.5%\" dominant-baseline=\"middle\" text-anchor=\"middle\" font-size=\"24\">32</text><rect x=\"300\" y=\"300\" width=\"100\" height=\"100\" stroke=\"white\" stroke-width=\"5px\" fill=\"wheat\"/><text x=\"87.5%\" y=\"87.5%\" dominant-baseline=\"middle\" text-anchor=\"middle\" font-size=\"24\">128</text></svg>"
      ],
      "text/plain": [
       "<IPython.core.display.HTML object>"
      ]
     },
     "metadata": {},
     "output_type": "display_data"
    },
    {
     "name": "stdout",
     "output_type": "stream",
     "text": [
      "\n",
      "Movimiento: Derecha\n",
      "Puntuacion: 728\n",
      "Numero de movimientos: 115\n"
     ]
    },
    {
     "data": {
      "text/html": [
       "<svg height=\"400\" width=\"400\"><rect x=\"0\" y=\"0\" width=\"100\" height=\"100\" stroke=\"white\" stroke-width=\"5px\" fill=\"silver\"/><rect x=\"100\" y=\"0\" width=\"100\" height=\"100\" stroke=\"white\" stroke-width=\"5px\" fill=\"silver\"/><rect x=\"200\" y=\"0\" width=\"100\" height=\"100\" stroke=\"white\" stroke-width=\"5px\" fill=\"ivory\"/><text x=\"62.5%\" y=\"12.5%\" dominant-baseline=\"middle\" text-anchor=\"middle\" font-size=\"24\">2</text><rect x=\"300\" y=\"0\" width=\"100\" height=\"100\" stroke=\"white\" stroke-width=\"5px\" fill=\"lightsalmon\"/><text x=\"87.5%\" y=\"12.5%\" dominant-baseline=\"middle\" text-anchor=\"middle\" font-size=\"24\">8</text><rect x=\"0\" y=\"100\" width=\"100\" height=\"100\" stroke=\"white\" stroke-width=\"5px\" fill=\"silver\"/><rect x=\"100\" y=\"100\" width=\"100\" height=\"100\" stroke=\"white\" stroke-width=\"5px\" fill=\"ivory\"/><text x=\"37.5%\" y=\"37.5%\" dominant-baseline=\"middle\" text-anchor=\"middle\" font-size=\"24\">2</text><rect x=\"200\" y=\"100\" width=\"100\" height=\"100\" stroke=\"white\" stroke-width=\"5px\" fill=\"antiquewhite\"/><text x=\"62.5%\" y=\"37.5%\" dominant-baseline=\"middle\" text-anchor=\"middle\" font-size=\"24\">4</text><rect x=\"300\" y=\"100\" width=\"100\" height=\"100\" stroke=\"white\" stroke-width=\"5px\" fill=\"darksalmon\"/><text x=\"87.5%\" y=\"37.5%\" dominant-baseline=\"middle\" text-anchor=\"middle\" font-size=\"24\">16</text><rect x=\"0\" y=\"200\" width=\"100\" height=\"100\" stroke=\"white\" stroke-width=\"5px\" fill=\"ivory\"/><text x=\"12.5%\" y=\"62.5%\" dominant-baseline=\"middle\" text-anchor=\"middle\" font-size=\"24\">2</text><rect x=\"100\" y=\"200\" width=\"100\" height=\"100\" stroke=\"white\" stroke-width=\"5px\" fill=\"antiquewhite\"/><text x=\"37.5%\" y=\"62.5%\" dominant-baseline=\"middle\" text-anchor=\"middle\" font-size=\"24\">4</text><rect x=\"200\" y=\"200\" width=\"100\" height=\"100\" stroke=\"white\" stroke-width=\"5px\" fill=\"lightsalmon\"/><text x=\"62.5%\" y=\"62.5%\" dominant-baseline=\"middle\" text-anchor=\"middle\" font-size=\"24\">8</text><rect x=\"300\" y=\"200\" width=\"100\" height=\"100\" stroke=\"white\" stroke-width=\"5px\" fill=\"tomato\"/><text x=\"87.5%\" y=\"62.5%\" dominant-baseline=\"middle\" text-anchor=\"middle\" font-size=\"24\">32</text><rect x=\"0\" y=\"300\" width=\"100\" height=\"100\" stroke=\"white\" stroke-width=\"5px\" fill=\"antiquewhite\"/><text x=\"12.5%\" y=\"87.5%\" dominant-baseline=\"middle\" text-anchor=\"middle\" font-size=\"24\">4</text><rect x=\"100\" y=\"300\" width=\"100\" height=\"100\" stroke=\"white\" stroke-width=\"5px\" fill=\"darksalmon\"/><text x=\"37.5%\" y=\"87.5%\" dominant-baseline=\"middle\" text-anchor=\"middle\" font-size=\"24\">16</text><rect x=\"200\" y=\"300\" width=\"100\" height=\"100\" stroke=\"white\" stroke-width=\"5px\" fill=\"tomato\"/><text x=\"62.5%\" y=\"87.5%\" dominant-baseline=\"middle\" text-anchor=\"middle\" font-size=\"24\">32</text><rect x=\"300\" y=\"300\" width=\"100\" height=\"100\" stroke=\"white\" stroke-width=\"5px\" fill=\"wheat\"/><text x=\"87.5%\" y=\"87.5%\" dominant-baseline=\"middle\" text-anchor=\"middle\" font-size=\"24\">128</text></svg>"
      ],
      "text/plain": [
       "<IPython.core.display.HTML object>"
      ]
     },
     "metadata": {},
     "output_type": "display_data"
    },
    {
     "name": "stdout",
     "output_type": "stream",
     "text": [
      "\n",
      "Movimiento: Abajo\n",
      "Puntuacion: 728\n",
      "Numero de movimientos: 116\n"
     ]
    },
    {
     "data": {
      "text/html": [
       "<svg height=\"400\" width=\"400\"><rect x=\"0\" y=\"0\" width=\"100\" height=\"100\" stroke=\"white\" stroke-width=\"5px\" fill=\"ivory\"/><text x=\"12.5%\" y=\"12.5%\" dominant-baseline=\"middle\" text-anchor=\"middle\" font-size=\"24\">2</text><rect x=\"100\" y=\"0\" width=\"100\" height=\"100\" stroke=\"white\" stroke-width=\"5px\" fill=\"silver\"/><rect x=\"200\" y=\"0\" width=\"100\" height=\"100\" stroke=\"white\" stroke-width=\"5px\" fill=\"ivory\"/><text x=\"62.5%\" y=\"12.5%\" dominant-baseline=\"middle\" text-anchor=\"middle\" font-size=\"24\">2</text><rect x=\"300\" y=\"0\" width=\"100\" height=\"100\" stroke=\"white\" stroke-width=\"5px\" fill=\"lightsalmon\"/><text x=\"87.5%\" y=\"12.5%\" dominant-baseline=\"middle\" text-anchor=\"middle\" font-size=\"24\">8</text><rect x=\"0\" y=\"100\" width=\"100\" height=\"100\" stroke=\"white\" stroke-width=\"5px\" fill=\"silver\"/><rect x=\"100\" y=\"100\" width=\"100\" height=\"100\" stroke=\"white\" stroke-width=\"5px\" fill=\"ivory\"/><text x=\"37.5%\" y=\"37.5%\" dominant-baseline=\"middle\" text-anchor=\"middle\" font-size=\"24\">2</text><rect x=\"200\" y=\"100\" width=\"100\" height=\"100\" stroke=\"white\" stroke-width=\"5px\" fill=\"antiquewhite\"/><text x=\"62.5%\" y=\"37.5%\" dominant-baseline=\"middle\" text-anchor=\"middle\" font-size=\"24\">4</text><rect x=\"300\" y=\"100\" width=\"100\" height=\"100\" stroke=\"white\" stroke-width=\"5px\" fill=\"darksalmon\"/><text x=\"87.5%\" y=\"37.5%\" dominant-baseline=\"middle\" text-anchor=\"middle\" font-size=\"24\">16</text><rect x=\"0\" y=\"200\" width=\"100\" height=\"100\" stroke=\"white\" stroke-width=\"5px\" fill=\"ivory\"/><text x=\"12.5%\" y=\"62.5%\" dominant-baseline=\"middle\" text-anchor=\"middle\" font-size=\"24\">2</text><rect x=\"100\" y=\"200\" width=\"100\" height=\"100\" stroke=\"white\" stroke-width=\"5px\" fill=\"antiquewhite\"/><text x=\"37.5%\" y=\"62.5%\" dominant-baseline=\"middle\" text-anchor=\"middle\" font-size=\"24\">4</text><rect x=\"200\" y=\"200\" width=\"100\" height=\"100\" stroke=\"white\" stroke-width=\"5px\" fill=\"lightsalmon\"/><text x=\"62.5%\" y=\"62.5%\" dominant-baseline=\"middle\" text-anchor=\"middle\" font-size=\"24\">8</text><rect x=\"300\" y=\"200\" width=\"100\" height=\"100\" stroke=\"white\" stroke-width=\"5px\" fill=\"tomato\"/><text x=\"87.5%\" y=\"62.5%\" dominant-baseline=\"middle\" text-anchor=\"middle\" font-size=\"24\">32</text><rect x=\"0\" y=\"300\" width=\"100\" height=\"100\" stroke=\"white\" stroke-width=\"5px\" fill=\"antiquewhite\"/><text x=\"12.5%\" y=\"87.5%\" dominant-baseline=\"middle\" text-anchor=\"middle\" font-size=\"24\">4</text><rect x=\"100\" y=\"300\" width=\"100\" height=\"100\" stroke=\"white\" stroke-width=\"5px\" fill=\"darksalmon\"/><text x=\"37.5%\" y=\"87.5%\" dominant-baseline=\"middle\" text-anchor=\"middle\" font-size=\"24\">16</text><rect x=\"200\" y=\"300\" width=\"100\" height=\"100\" stroke=\"white\" stroke-width=\"5px\" fill=\"tomato\"/><text x=\"62.5%\" y=\"87.5%\" dominant-baseline=\"middle\" text-anchor=\"middle\" font-size=\"24\">32</text><rect x=\"300\" y=\"300\" width=\"100\" height=\"100\" stroke=\"white\" stroke-width=\"5px\" fill=\"wheat\"/><text x=\"87.5%\" y=\"87.5%\" dominant-baseline=\"middle\" text-anchor=\"middle\" font-size=\"24\">128</text></svg>"
      ],
      "text/plain": [
       "<IPython.core.display.HTML object>"
      ]
     },
     "metadata": {},
     "output_type": "display_data"
    },
    {
     "name": "stdout",
     "output_type": "stream",
     "text": [
      "\n",
      "Movimiento: Derecha\n",
      "Puntuacion: 736\n",
      "Numero de movimientos: 117\n"
     ]
    },
    {
     "data": {
      "text/html": [
       "<svg height=\"400\" width=\"400\"><rect x=\"0\" y=\"0\" width=\"100\" height=\"100\" stroke=\"white\" stroke-width=\"5px\" fill=\"silver\"/><rect x=\"100\" y=\"0\" width=\"100\" height=\"100\" stroke=\"white\" stroke-width=\"5px\" fill=\"ivory\"/><text x=\"37.5%\" y=\"12.5%\" dominant-baseline=\"middle\" text-anchor=\"middle\" font-size=\"24\">2</text><rect x=\"200\" y=\"0\" width=\"100\" height=\"100\" stroke=\"white\" stroke-width=\"5px\" fill=\"ivory\"/><text x=\"62.5%\" y=\"12.5%\" dominant-baseline=\"middle\" text-anchor=\"middle\" font-size=\"24\">2</text><rect x=\"300\" y=\"0\" width=\"100\" height=\"100\" stroke=\"white\" stroke-width=\"5px\" fill=\"lightsalmon\"/><text x=\"87.5%\" y=\"12.5%\" dominant-baseline=\"middle\" text-anchor=\"middle\" font-size=\"24\">8</text><rect x=\"0\" y=\"100\" width=\"100\" height=\"100\" stroke=\"white\" stroke-width=\"5px\" fill=\"silver\"/><rect x=\"100\" y=\"100\" width=\"100\" height=\"100\" stroke=\"white\" stroke-width=\"5px\" fill=\"ivory\"/><text x=\"37.5%\" y=\"37.5%\" dominant-baseline=\"middle\" text-anchor=\"middle\" font-size=\"24\">2</text><rect x=\"200\" y=\"100\" width=\"100\" height=\"100\" stroke=\"white\" stroke-width=\"5px\" fill=\"antiquewhite\"/><text x=\"62.5%\" y=\"37.5%\" dominant-baseline=\"middle\" text-anchor=\"middle\" font-size=\"24\">4</text><rect x=\"300\" y=\"100\" width=\"100\" height=\"100\" stroke=\"white\" stroke-width=\"5px\" fill=\"darksalmon\"/><text x=\"87.5%\" y=\"37.5%\" dominant-baseline=\"middle\" text-anchor=\"middle\" font-size=\"24\">16</text><rect x=\"0\" y=\"200\" width=\"100\" height=\"100\" stroke=\"white\" stroke-width=\"5px\" fill=\"silver\"/><rect x=\"100\" y=\"200\" width=\"100\" height=\"100\" stroke=\"white\" stroke-width=\"5px\" fill=\"lightsalmon\"/><text x=\"37.5%\" y=\"62.5%\" dominant-baseline=\"middle\" text-anchor=\"middle\" font-size=\"24\">8</text><rect x=\"200\" y=\"200\" width=\"100\" height=\"100\" stroke=\"white\" stroke-width=\"5px\" fill=\"lightsalmon\"/><text x=\"62.5%\" y=\"62.5%\" dominant-baseline=\"middle\" text-anchor=\"middle\" font-size=\"24\">8</text><rect x=\"300\" y=\"200\" width=\"100\" height=\"100\" stroke=\"white\" stroke-width=\"5px\" fill=\"tomato\"/><text x=\"87.5%\" y=\"62.5%\" dominant-baseline=\"middle\" text-anchor=\"middle\" font-size=\"24\">32</text><rect x=\"0\" y=\"300\" width=\"100\" height=\"100\" stroke=\"white\" stroke-width=\"5px\" fill=\"antiquewhite\"/><text x=\"12.5%\" y=\"87.5%\" dominant-baseline=\"middle\" text-anchor=\"middle\" font-size=\"24\">4</text><rect x=\"100\" y=\"300\" width=\"100\" height=\"100\" stroke=\"white\" stroke-width=\"5px\" fill=\"darksalmon\"/><text x=\"37.5%\" y=\"87.5%\" dominant-baseline=\"middle\" text-anchor=\"middle\" font-size=\"24\">16</text><rect x=\"200\" y=\"300\" width=\"100\" height=\"100\" stroke=\"white\" stroke-width=\"5px\" fill=\"tomato\"/><text x=\"62.5%\" y=\"87.5%\" dominant-baseline=\"middle\" text-anchor=\"middle\" font-size=\"24\">32</text><rect x=\"300\" y=\"300\" width=\"100\" height=\"100\" stroke=\"white\" stroke-width=\"5px\" fill=\"wheat\"/><text x=\"87.5%\" y=\"87.5%\" dominant-baseline=\"middle\" text-anchor=\"middle\" font-size=\"24\">128</text></svg>"
      ],
      "text/plain": [
       "<IPython.core.display.HTML object>"
      ]
     },
     "metadata": {},
     "output_type": "display_data"
    },
    {
     "name": "stdout",
     "output_type": "stream",
     "text": [
      "\n",
      "Movimiento: Derecha\n",
      "Puntuacion: 760\n",
      "Numero de movimientos: 118\n"
     ]
    },
    {
     "data": {
      "text/html": [
       "<svg height=\"400\" width=\"400\"><rect x=\"0\" y=\"0\" width=\"100\" height=\"100\" stroke=\"white\" stroke-width=\"5px\" fill=\"silver\"/><rect x=\"100\" y=\"0\" width=\"100\" height=\"100\" stroke=\"white\" stroke-width=\"5px\" fill=\"silver\"/><rect x=\"200\" y=\"0\" width=\"100\" height=\"100\" stroke=\"white\" stroke-width=\"5px\" fill=\"ivory\"/><text x=\"62.5%\" y=\"12.5%\" dominant-baseline=\"middle\" text-anchor=\"middle\" font-size=\"24\">2</text><rect x=\"300\" y=\"0\" width=\"100\" height=\"100\" stroke=\"white\" stroke-width=\"5px\" fill=\"lightsalmon\"/><text x=\"87.5%\" y=\"12.5%\" dominant-baseline=\"middle\" text-anchor=\"middle\" font-size=\"24\">8</text><rect x=\"0\" y=\"100\" width=\"100\" height=\"100\" stroke=\"white\" stroke-width=\"5px\" fill=\"ivory\"/><text x=\"12.5%\" y=\"37.5%\" dominant-baseline=\"middle\" text-anchor=\"middle\" font-size=\"24\">2</text><rect x=\"100\" y=\"100\" width=\"100\" height=\"100\" stroke=\"white\" stroke-width=\"5px\" fill=\"silver\"/><rect x=\"200\" y=\"100\" width=\"100\" height=\"100\" stroke=\"white\" stroke-width=\"5px\" fill=\"lightsalmon\"/><text x=\"62.5%\" y=\"37.5%\" dominant-baseline=\"middle\" text-anchor=\"middle\" font-size=\"24\">8</text><rect x=\"300\" y=\"100\" width=\"100\" height=\"100\" stroke=\"white\" stroke-width=\"5px\" fill=\"darksalmon\"/><text x=\"87.5%\" y=\"37.5%\" dominant-baseline=\"middle\" text-anchor=\"middle\" font-size=\"24\">16</text><rect x=\"0\" y=\"200\" width=\"100\" height=\"100\" stroke=\"white\" stroke-width=\"5px\" fill=\"silver\"/><rect x=\"100\" y=\"200\" width=\"100\" height=\"100\" stroke=\"white\" stroke-width=\"5px\" fill=\"silver\"/><rect x=\"200\" y=\"200\" width=\"100\" height=\"100\" stroke=\"white\" stroke-width=\"5px\" fill=\"darksalmon\"/><text x=\"62.5%\" y=\"62.5%\" dominant-baseline=\"middle\" text-anchor=\"middle\" font-size=\"24\">16</text><rect x=\"300\" y=\"200\" width=\"100\" height=\"100\" stroke=\"white\" stroke-width=\"5px\" fill=\"tomato\"/><text x=\"87.5%\" y=\"62.5%\" dominant-baseline=\"middle\" text-anchor=\"middle\" font-size=\"24\">32</text><rect x=\"0\" y=\"300\" width=\"100\" height=\"100\" stroke=\"white\" stroke-width=\"5px\" fill=\"antiquewhite\"/><text x=\"12.5%\" y=\"87.5%\" dominant-baseline=\"middle\" text-anchor=\"middle\" font-size=\"24\">4</text><rect x=\"100\" y=\"300\" width=\"100\" height=\"100\" stroke=\"white\" stroke-width=\"5px\" fill=\"darksalmon\"/><text x=\"37.5%\" y=\"87.5%\" dominant-baseline=\"middle\" text-anchor=\"middle\" font-size=\"24\">16</text><rect x=\"200\" y=\"300\" width=\"100\" height=\"100\" stroke=\"white\" stroke-width=\"5px\" fill=\"tomato\"/><text x=\"62.5%\" y=\"87.5%\" dominant-baseline=\"middle\" text-anchor=\"middle\" font-size=\"24\">32</text><rect x=\"300\" y=\"300\" width=\"100\" height=\"100\" stroke=\"white\" stroke-width=\"5px\" fill=\"wheat\"/><text x=\"87.5%\" y=\"87.5%\" dominant-baseline=\"middle\" text-anchor=\"middle\" font-size=\"24\">128</text></svg>"
      ],
      "text/plain": [
       "<IPython.core.display.HTML object>"
      ]
     },
     "metadata": {},
     "output_type": "display_data"
    },
    {
     "name": "stdout",
     "output_type": "stream",
     "text": [
      "\n",
      "Movimiento: Derecha\n",
      "Puntuacion: 760\n",
      "Numero de movimientos: 119\n"
     ]
    },
    {
     "data": {
      "text/html": [
       "<svg height=\"400\" width=\"400\"><rect x=\"0\" y=\"0\" width=\"100\" height=\"100\" stroke=\"white\" stroke-width=\"5px\" fill=\"silver\"/><rect x=\"100\" y=\"0\" width=\"100\" height=\"100\" stroke=\"white\" stroke-width=\"5px\" fill=\"ivory\"/><text x=\"37.5%\" y=\"12.5%\" dominant-baseline=\"middle\" text-anchor=\"middle\" font-size=\"24\">2</text><rect x=\"200\" y=\"0\" width=\"100\" height=\"100\" stroke=\"white\" stroke-width=\"5px\" fill=\"ivory\"/><text x=\"62.5%\" y=\"12.5%\" dominant-baseline=\"middle\" text-anchor=\"middle\" font-size=\"24\">2</text><rect x=\"300\" y=\"0\" width=\"100\" height=\"100\" stroke=\"white\" stroke-width=\"5px\" fill=\"lightsalmon\"/><text x=\"87.5%\" y=\"12.5%\" dominant-baseline=\"middle\" text-anchor=\"middle\" font-size=\"24\">8</text><rect x=\"0\" y=\"100\" width=\"100\" height=\"100\" stroke=\"white\" stroke-width=\"5px\" fill=\"silver\"/><rect x=\"100\" y=\"100\" width=\"100\" height=\"100\" stroke=\"white\" stroke-width=\"5px\" fill=\"silver\"/><rect x=\"200\" y=\"100\" width=\"100\" height=\"100\" stroke=\"white\" stroke-width=\"5px\" fill=\"lightsalmon\"/><text x=\"62.5%\" y=\"37.5%\" dominant-baseline=\"middle\" text-anchor=\"middle\" font-size=\"24\">8</text><rect x=\"300\" y=\"100\" width=\"100\" height=\"100\" stroke=\"white\" stroke-width=\"5px\" fill=\"darksalmon\"/><text x=\"87.5%\" y=\"37.5%\" dominant-baseline=\"middle\" text-anchor=\"middle\" font-size=\"24\">16</text><rect x=\"0\" y=\"200\" width=\"100\" height=\"100\" stroke=\"white\" stroke-width=\"5px\" fill=\"silver\"/><rect x=\"100\" y=\"200\" width=\"100\" height=\"100\" stroke=\"white\" stroke-width=\"5px\" fill=\"ivory\"/><text x=\"37.5%\" y=\"62.5%\" dominant-baseline=\"middle\" text-anchor=\"middle\" font-size=\"24\">2</text><rect x=\"200\" y=\"200\" width=\"100\" height=\"100\" stroke=\"white\" stroke-width=\"5px\" fill=\"darksalmon\"/><text x=\"62.5%\" y=\"62.5%\" dominant-baseline=\"middle\" text-anchor=\"middle\" font-size=\"24\">16</text><rect x=\"300\" y=\"200\" width=\"100\" height=\"100\" stroke=\"white\" stroke-width=\"5px\" fill=\"tomato\"/><text x=\"87.5%\" y=\"62.5%\" dominant-baseline=\"middle\" text-anchor=\"middle\" font-size=\"24\">32</text><rect x=\"0\" y=\"300\" width=\"100\" height=\"100\" stroke=\"white\" stroke-width=\"5px\" fill=\"antiquewhite\"/><text x=\"12.5%\" y=\"87.5%\" dominant-baseline=\"middle\" text-anchor=\"middle\" font-size=\"24\">4</text><rect x=\"100\" y=\"300\" width=\"100\" height=\"100\" stroke=\"white\" stroke-width=\"5px\" fill=\"darksalmon\"/><text x=\"37.5%\" y=\"87.5%\" dominant-baseline=\"middle\" text-anchor=\"middle\" font-size=\"24\">16</text><rect x=\"200\" y=\"300\" width=\"100\" height=\"100\" stroke=\"white\" stroke-width=\"5px\" fill=\"tomato\"/><text x=\"62.5%\" y=\"87.5%\" dominant-baseline=\"middle\" text-anchor=\"middle\" font-size=\"24\">32</text><rect x=\"300\" y=\"300\" width=\"100\" height=\"100\" stroke=\"white\" stroke-width=\"5px\" fill=\"wheat\"/><text x=\"87.5%\" y=\"87.5%\" dominant-baseline=\"middle\" text-anchor=\"middle\" font-size=\"24\">128</text></svg>"
      ],
      "text/plain": [
       "<IPython.core.display.HTML object>"
      ]
     },
     "metadata": {},
     "output_type": "display_data"
    },
    {
     "name": "stdout",
     "output_type": "stream",
     "text": [
      "\n",
      "Movimiento: Derecha\n",
      "Puntuacion: 760\n",
      "Numero de movimientos: 120\n"
     ]
    },
    {
     "data": {
      "text/html": [
       "<svg height=\"400\" width=\"400\"><rect x=\"0\" y=\"0\" width=\"100\" height=\"100\" stroke=\"white\" stroke-width=\"5px\" fill=\"silver\"/><rect x=\"100\" y=\"0\" width=\"100\" height=\"100\" stroke=\"white\" stroke-width=\"5px\" fill=\"ivory\"/><text x=\"37.5%\" y=\"12.5%\" dominant-baseline=\"middle\" text-anchor=\"middle\" font-size=\"24\">2</text><rect x=\"200\" y=\"0\" width=\"100\" height=\"100\" stroke=\"white\" stroke-width=\"5px\" fill=\"ivory\"/><text x=\"62.5%\" y=\"12.5%\" dominant-baseline=\"middle\" text-anchor=\"middle\" font-size=\"24\">2</text><rect x=\"300\" y=\"0\" width=\"100\" height=\"100\" stroke=\"white\" stroke-width=\"5px\" fill=\"lightsalmon\"/><text x=\"87.5%\" y=\"12.5%\" dominant-baseline=\"middle\" text-anchor=\"middle\" font-size=\"24\">8</text><rect x=\"0\" y=\"100\" width=\"100\" height=\"100\" stroke=\"white\" stroke-width=\"5px\" fill=\"silver\"/><rect x=\"100\" y=\"100\" width=\"100\" height=\"100\" stroke=\"white\" stroke-width=\"5px\" fill=\"silver\"/><rect x=\"200\" y=\"100\" width=\"100\" height=\"100\" stroke=\"white\" stroke-width=\"5px\" fill=\"lightsalmon\"/><text x=\"62.5%\" y=\"37.5%\" dominant-baseline=\"middle\" text-anchor=\"middle\" font-size=\"24\">8</text><rect x=\"300\" y=\"100\" width=\"100\" height=\"100\" stroke=\"white\" stroke-width=\"5px\" fill=\"darksalmon\"/><text x=\"87.5%\" y=\"37.5%\" dominant-baseline=\"middle\" text-anchor=\"middle\" font-size=\"24\">16</text><rect x=\"0\" y=\"200\" width=\"100\" height=\"100\" stroke=\"white\" stroke-width=\"5px\" fill=\"silver\"/><rect x=\"100\" y=\"200\" width=\"100\" height=\"100\" stroke=\"white\" stroke-width=\"5px\" fill=\"antiquewhite\"/><text x=\"37.5%\" y=\"62.5%\" dominant-baseline=\"middle\" text-anchor=\"middle\" font-size=\"24\">4</text><rect x=\"200\" y=\"200\" width=\"100\" height=\"100\" stroke=\"white\" stroke-width=\"5px\" fill=\"darksalmon\"/><text x=\"62.5%\" y=\"62.5%\" dominant-baseline=\"middle\" text-anchor=\"middle\" font-size=\"24\">16</text><rect x=\"300\" y=\"200\" width=\"100\" height=\"100\" stroke=\"white\" stroke-width=\"5px\" fill=\"tomato\"/><text x=\"87.5%\" y=\"62.5%\" dominant-baseline=\"middle\" text-anchor=\"middle\" font-size=\"24\">32</text><rect x=\"0\" y=\"300\" width=\"100\" height=\"100\" stroke=\"white\" stroke-width=\"5px\" fill=\"antiquewhite\"/><text x=\"12.5%\" y=\"87.5%\" dominant-baseline=\"middle\" text-anchor=\"middle\" font-size=\"24\">4</text><rect x=\"100\" y=\"300\" width=\"100\" height=\"100\" stroke=\"white\" stroke-width=\"5px\" fill=\"darksalmon\"/><text x=\"37.5%\" y=\"87.5%\" dominant-baseline=\"middle\" text-anchor=\"middle\" font-size=\"24\">16</text><rect x=\"200\" y=\"300\" width=\"100\" height=\"100\" stroke=\"white\" stroke-width=\"5px\" fill=\"tomato\"/><text x=\"62.5%\" y=\"87.5%\" dominant-baseline=\"middle\" text-anchor=\"middle\" font-size=\"24\">32</text><rect x=\"300\" y=\"300\" width=\"100\" height=\"100\" stroke=\"white\" stroke-width=\"5px\" fill=\"wheat\"/><text x=\"87.5%\" y=\"87.5%\" dominant-baseline=\"middle\" text-anchor=\"middle\" font-size=\"24\">128</text></svg>"
      ],
      "text/plain": [
       "<IPython.core.display.HTML object>"
      ]
     },
     "metadata": {},
     "output_type": "display_data"
    },
    {
     "name": "stdout",
     "output_type": "stream",
     "text": [
      "\n",
      "Movimiento: Derecha\n",
      "Puntuacion: 760\n",
      "Numero de movimientos: 121\n"
     ]
    },
    {
     "data": {
      "text/html": [
       "<svg height=\"400\" width=\"400\"><rect x=\"0\" y=\"0\" width=\"100\" height=\"100\" stroke=\"white\" stroke-width=\"5px\" fill=\"ivory\"/><text x=\"12.5%\" y=\"12.5%\" dominant-baseline=\"middle\" text-anchor=\"middle\" font-size=\"24\">2</text><rect x=\"100\" y=\"0\" width=\"100\" height=\"100\" stroke=\"white\" stroke-width=\"5px\" fill=\"silver\"/><rect x=\"200\" y=\"0\" width=\"100\" height=\"100\" stroke=\"white\" stroke-width=\"5px\" fill=\"ivory\"/><text x=\"62.5%\" y=\"12.5%\" dominant-baseline=\"middle\" text-anchor=\"middle\" font-size=\"24\">2</text><rect x=\"300\" y=\"0\" width=\"100\" height=\"100\" stroke=\"white\" stroke-width=\"5px\" fill=\"lightsalmon\"/><text x=\"87.5%\" y=\"12.5%\" dominant-baseline=\"middle\" text-anchor=\"middle\" font-size=\"24\">8</text><rect x=\"0\" y=\"100\" width=\"100\" height=\"100\" stroke=\"white\" stroke-width=\"5px\" fill=\"silver\"/><rect x=\"100\" y=\"100\" width=\"100\" height=\"100\" stroke=\"white\" stroke-width=\"5px\" fill=\"ivory\"/><text x=\"37.5%\" y=\"37.5%\" dominant-baseline=\"middle\" text-anchor=\"middle\" font-size=\"24\">2</text><rect x=\"200\" y=\"100\" width=\"100\" height=\"100\" stroke=\"white\" stroke-width=\"5px\" fill=\"lightsalmon\"/><text x=\"62.5%\" y=\"37.5%\" dominant-baseline=\"middle\" text-anchor=\"middle\" font-size=\"24\">8</text><rect x=\"300\" y=\"100\" width=\"100\" height=\"100\" stroke=\"white\" stroke-width=\"5px\" fill=\"darksalmon\"/><text x=\"87.5%\" y=\"37.5%\" dominant-baseline=\"middle\" text-anchor=\"middle\" font-size=\"24\">16</text><rect x=\"0\" y=\"200\" width=\"100\" height=\"100\" stroke=\"white\" stroke-width=\"5px\" fill=\"silver\"/><rect x=\"100\" y=\"200\" width=\"100\" height=\"100\" stroke=\"white\" stroke-width=\"5px\" fill=\"antiquewhite\"/><text x=\"37.5%\" y=\"62.5%\" dominant-baseline=\"middle\" text-anchor=\"middle\" font-size=\"24\">4</text><rect x=\"200\" y=\"200\" width=\"100\" height=\"100\" stroke=\"white\" stroke-width=\"5px\" fill=\"darksalmon\"/><text x=\"62.5%\" y=\"62.5%\" dominant-baseline=\"middle\" text-anchor=\"middle\" font-size=\"24\">16</text><rect x=\"300\" y=\"200\" width=\"100\" height=\"100\" stroke=\"white\" stroke-width=\"5px\" fill=\"tomato\"/><text x=\"87.5%\" y=\"62.5%\" dominant-baseline=\"middle\" text-anchor=\"middle\" font-size=\"24\">32</text><rect x=\"0\" y=\"300\" width=\"100\" height=\"100\" stroke=\"white\" stroke-width=\"5px\" fill=\"antiquewhite\"/><text x=\"12.5%\" y=\"87.5%\" dominant-baseline=\"middle\" text-anchor=\"middle\" font-size=\"24\">4</text><rect x=\"100\" y=\"300\" width=\"100\" height=\"100\" stroke=\"white\" stroke-width=\"5px\" fill=\"darksalmon\"/><text x=\"37.5%\" y=\"87.5%\" dominant-baseline=\"middle\" text-anchor=\"middle\" font-size=\"24\">16</text><rect x=\"200\" y=\"300\" width=\"100\" height=\"100\" stroke=\"white\" stroke-width=\"5px\" fill=\"tomato\"/><text x=\"62.5%\" y=\"87.5%\" dominant-baseline=\"middle\" text-anchor=\"middle\" font-size=\"24\">32</text><rect x=\"300\" y=\"300\" width=\"100\" height=\"100\" stroke=\"white\" stroke-width=\"5px\" fill=\"wheat\"/><text x=\"87.5%\" y=\"87.5%\" dominant-baseline=\"middle\" text-anchor=\"middle\" font-size=\"24\">128</text></svg>"
      ],
      "text/plain": [
       "<IPython.core.display.HTML object>"
      ]
     },
     "metadata": {},
     "output_type": "display_data"
    },
    {
     "name": "stdout",
     "output_type": "stream",
     "text": [
      "\n",
      "Movimiento: Derecha\n",
      "Puntuacion: 760\n",
      "Numero de movimientos: 122\n"
     ]
    },
    {
     "data": {
      "text/html": [
       "<svg height=\"400\" width=\"400\"><rect x=\"0\" y=\"0\" width=\"100\" height=\"100\" stroke=\"white\" stroke-width=\"5px\" fill=\"ivory\"/><text x=\"12.5%\" y=\"12.5%\" dominant-baseline=\"middle\" text-anchor=\"middle\" font-size=\"24\">2</text><rect x=\"100\" y=\"0\" width=\"100\" height=\"100\" stroke=\"white\" stroke-width=\"5px\" fill=\"silver\"/><rect x=\"200\" y=\"0\" width=\"100\" height=\"100\" stroke=\"white\" stroke-width=\"5px\" fill=\"ivory\"/><text x=\"62.5%\" y=\"12.5%\" dominant-baseline=\"middle\" text-anchor=\"middle\" font-size=\"24\">2</text><rect x=\"300\" y=\"0\" width=\"100\" height=\"100\" stroke=\"white\" stroke-width=\"5px\" fill=\"lightsalmon\"/><text x=\"87.5%\" y=\"12.5%\" dominant-baseline=\"middle\" text-anchor=\"middle\" font-size=\"24\">8</text><rect x=\"0\" y=\"100\" width=\"100\" height=\"100\" stroke=\"white\" stroke-width=\"5px\" fill=\"silver\"/><rect x=\"100\" y=\"100\" width=\"100\" height=\"100\" stroke=\"white\" stroke-width=\"5px\" fill=\"ivory\"/><text x=\"37.5%\" y=\"37.5%\" dominant-baseline=\"middle\" text-anchor=\"middle\" font-size=\"24\">2</text><rect x=\"200\" y=\"100\" width=\"100\" height=\"100\" stroke=\"white\" stroke-width=\"5px\" fill=\"lightsalmon\"/><text x=\"62.5%\" y=\"37.5%\" dominant-baseline=\"middle\" text-anchor=\"middle\" font-size=\"24\">8</text><rect x=\"300\" y=\"100\" width=\"100\" height=\"100\" stroke=\"white\" stroke-width=\"5px\" fill=\"darksalmon\"/><text x=\"87.5%\" y=\"37.5%\" dominant-baseline=\"middle\" text-anchor=\"middle\" font-size=\"24\">16</text><rect x=\"0\" y=\"200\" width=\"100\" height=\"100\" stroke=\"white\" stroke-width=\"5px\" fill=\"ivory\"/><text x=\"12.5%\" y=\"62.5%\" dominant-baseline=\"middle\" text-anchor=\"middle\" font-size=\"24\">2</text><rect x=\"100\" y=\"200\" width=\"100\" height=\"100\" stroke=\"white\" stroke-width=\"5px\" fill=\"antiquewhite\"/><text x=\"37.5%\" y=\"62.5%\" dominant-baseline=\"middle\" text-anchor=\"middle\" font-size=\"24\">4</text><rect x=\"200\" y=\"200\" width=\"100\" height=\"100\" stroke=\"white\" stroke-width=\"5px\" fill=\"darksalmon\"/><text x=\"62.5%\" y=\"62.5%\" dominant-baseline=\"middle\" text-anchor=\"middle\" font-size=\"24\">16</text><rect x=\"300\" y=\"200\" width=\"100\" height=\"100\" stroke=\"white\" stroke-width=\"5px\" fill=\"tomato\"/><text x=\"87.5%\" y=\"62.5%\" dominant-baseline=\"middle\" text-anchor=\"middle\" font-size=\"24\">32</text><rect x=\"0\" y=\"300\" width=\"100\" height=\"100\" stroke=\"white\" stroke-width=\"5px\" fill=\"antiquewhite\"/><text x=\"12.5%\" y=\"87.5%\" dominant-baseline=\"middle\" text-anchor=\"middle\" font-size=\"24\">4</text><rect x=\"100\" y=\"300\" width=\"100\" height=\"100\" stroke=\"white\" stroke-width=\"5px\" fill=\"darksalmon\"/><text x=\"37.5%\" y=\"87.5%\" dominant-baseline=\"middle\" text-anchor=\"middle\" font-size=\"24\">16</text><rect x=\"200\" y=\"300\" width=\"100\" height=\"100\" stroke=\"white\" stroke-width=\"5px\" fill=\"tomato\"/><text x=\"62.5%\" y=\"87.5%\" dominant-baseline=\"middle\" text-anchor=\"middle\" font-size=\"24\">32</text><rect x=\"300\" y=\"300\" width=\"100\" height=\"100\" stroke=\"white\" stroke-width=\"5px\" fill=\"wheat\"/><text x=\"87.5%\" y=\"87.5%\" dominant-baseline=\"middle\" text-anchor=\"middle\" font-size=\"24\">128</text></svg>"
      ],
      "text/plain": [
       "<IPython.core.display.HTML object>"
      ]
     },
     "metadata": {},
     "output_type": "display_data"
    },
    {
     "name": "stdout",
     "output_type": "stream",
     "text": [
      "\n",
      "Movimiento: Derecha\n",
      "Puntuacion: 768\n",
      "Numero de movimientos: 123\n"
     ]
    },
    {
     "data": {
      "text/html": [
       "<svg height=\"400\" width=\"400\"><rect x=\"0\" y=\"0\" width=\"100\" height=\"100\" stroke=\"white\" stroke-width=\"5px\" fill=\"silver\"/><rect x=\"100\" y=\"0\" width=\"100\" height=\"100\" stroke=\"white\" stroke-width=\"5px\" fill=\"silver\"/><rect x=\"200\" y=\"0\" width=\"100\" height=\"100\" stroke=\"white\" stroke-width=\"5px\" fill=\"ivory\"/><text x=\"62.5%\" y=\"12.5%\" dominant-baseline=\"middle\" text-anchor=\"middle\" font-size=\"24\">2</text><rect x=\"300\" y=\"0\" width=\"100\" height=\"100\" stroke=\"white\" stroke-width=\"5px\" fill=\"lightsalmon\"/><text x=\"87.5%\" y=\"12.5%\" dominant-baseline=\"middle\" text-anchor=\"middle\" font-size=\"24\">8</text><rect x=\"0\" y=\"100\" width=\"100\" height=\"100\" stroke=\"white\" stroke-width=\"5px\" fill=\"ivory\"/><text x=\"12.5%\" y=\"37.5%\" dominant-baseline=\"middle\" text-anchor=\"middle\" font-size=\"24\">2</text><rect x=\"100\" y=\"100\" width=\"100\" height=\"100\" stroke=\"white\" stroke-width=\"5px\" fill=\"ivory\"/><text x=\"37.5%\" y=\"37.5%\" dominant-baseline=\"middle\" text-anchor=\"middle\" font-size=\"24\">2</text><rect x=\"200\" y=\"100\" width=\"100\" height=\"100\" stroke=\"white\" stroke-width=\"5px\" fill=\"lightsalmon\"/><text x=\"62.5%\" y=\"37.5%\" dominant-baseline=\"middle\" text-anchor=\"middle\" font-size=\"24\">8</text><rect x=\"300\" y=\"100\" width=\"100\" height=\"100\" stroke=\"white\" stroke-width=\"5px\" fill=\"darksalmon\"/><text x=\"87.5%\" y=\"37.5%\" dominant-baseline=\"middle\" text-anchor=\"middle\" font-size=\"24\">16</text><rect x=\"0\" y=\"200\" width=\"100\" height=\"100\" stroke=\"white\" stroke-width=\"5px\" fill=\"silver\"/><rect x=\"100\" y=\"200\" width=\"100\" height=\"100\" stroke=\"white\" stroke-width=\"5px\" fill=\"lightsalmon\"/><text x=\"37.5%\" y=\"62.5%\" dominant-baseline=\"middle\" text-anchor=\"middle\" font-size=\"24\">8</text><rect x=\"200\" y=\"200\" width=\"100\" height=\"100\" stroke=\"white\" stroke-width=\"5px\" fill=\"darksalmon\"/><text x=\"62.5%\" y=\"62.5%\" dominant-baseline=\"middle\" text-anchor=\"middle\" font-size=\"24\">16</text><rect x=\"300\" y=\"200\" width=\"100\" height=\"100\" stroke=\"white\" stroke-width=\"5px\" fill=\"tomato\"/><text x=\"87.5%\" y=\"62.5%\" dominant-baseline=\"middle\" text-anchor=\"middle\" font-size=\"24\">32</text><rect x=\"0\" y=\"300\" width=\"100\" height=\"100\" stroke=\"white\" stroke-width=\"5px\" fill=\"antiquewhite\"/><text x=\"12.5%\" y=\"87.5%\" dominant-baseline=\"middle\" text-anchor=\"middle\" font-size=\"24\">4</text><rect x=\"100\" y=\"300\" width=\"100\" height=\"100\" stroke=\"white\" stroke-width=\"5px\" fill=\"darksalmon\"/><text x=\"37.5%\" y=\"87.5%\" dominant-baseline=\"middle\" text-anchor=\"middle\" font-size=\"24\">16</text><rect x=\"200\" y=\"300\" width=\"100\" height=\"100\" stroke=\"white\" stroke-width=\"5px\" fill=\"tomato\"/><text x=\"62.5%\" y=\"87.5%\" dominant-baseline=\"middle\" text-anchor=\"middle\" font-size=\"24\">32</text><rect x=\"300\" y=\"300\" width=\"100\" height=\"100\" stroke=\"white\" stroke-width=\"5px\" fill=\"wheat\"/><text x=\"87.5%\" y=\"87.5%\" dominant-baseline=\"middle\" text-anchor=\"middle\" font-size=\"24\">128</text></svg>"
      ],
      "text/plain": [
       "<IPython.core.display.HTML object>"
      ]
     },
     "metadata": {},
     "output_type": "display_data"
    },
    {
     "name": "stdout",
     "output_type": "stream",
     "text": [
      "\n",
      "Movimiento: Derecha\n",
      "Puntuacion: 768\n",
      "Numero de movimientos: 124\n"
     ]
    },
    {
     "data": {
      "text/html": [
       "<svg height=\"400\" width=\"400\"><rect x=\"0\" y=\"0\" width=\"100\" height=\"100\" stroke=\"white\" stroke-width=\"5px\" fill=\"silver\"/><rect x=\"100\" y=\"0\" width=\"100\" height=\"100\" stroke=\"white\" stroke-width=\"5px\" fill=\"ivory\"/><text x=\"37.5%\" y=\"12.5%\" dominant-baseline=\"middle\" text-anchor=\"middle\" font-size=\"24\">2</text><rect x=\"200\" y=\"0\" width=\"100\" height=\"100\" stroke=\"white\" stroke-width=\"5px\" fill=\"ivory\"/><text x=\"62.5%\" y=\"12.5%\" dominant-baseline=\"middle\" text-anchor=\"middle\" font-size=\"24\">2</text><rect x=\"300\" y=\"0\" width=\"100\" height=\"100\" stroke=\"white\" stroke-width=\"5px\" fill=\"lightsalmon\"/><text x=\"87.5%\" y=\"12.5%\" dominant-baseline=\"middle\" text-anchor=\"middle\" font-size=\"24\">8</text><rect x=\"0\" y=\"100\" width=\"100\" height=\"100\" stroke=\"white\" stroke-width=\"5px\" fill=\"silver\"/><rect x=\"100\" y=\"100\" width=\"100\" height=\"100\" stroke=\"white\" stroke-width=\"5px\" fill=\"ivory\"/><text x=\"37.5%\" y=\"37.5%\" dominant-baseline=\"middle\" text-anchor=\"middle\" font-size=\"24\">2</text><rect x=\"200\" y=\"100\" width=\"100\" height=\"100\" stroke=\"white\" stroke-width=\"5px\" fill=\"lightsalmon\"/><text x=\"62.5%\" y=\"37.5%\" dominant-baseline=\"middle\" text-anchor=\"middle\" font-size=\"24\">8</text><rect x=\"300\" y=\"100\" width=\"100\" height=\"100\" stroke=\"white\" stroke-width=\"5px\" fill=\"darksalmon\"/><text x=\"87.5%\" y=\"37.5%\" dominant-baseline=\"middle\" text-anchor=\"middle\" font-size=\"24\">16</text><rect x=\"0\" y=\"200\" width=\"100\" height=\"100\" stroke=\"white\" stroke-width=\"5px\" fill=\"ivory\"/><text x=\"12.5%\" y=\"62.5%\" dominant-baseline=\"middle\" text-anchor=\"middle\" font-size=\"24\">2</text><rect x=\"100\" y=\"200\" width=\"100\" height=\"100\" stroke=\"white\" stroke-width=\"5px\" fill=\"lightsalmon\"/><text x=\"37.5%\" y=\"62.5%\" dominant-baseline=\"middle\" text-anchor=\"middle\" font-size=\"24\">8</text><rect x=\"200\" y=\"200\" width=\"100\" height=\"100\" stroke=\"white\" stroke-width=\"5px\" fill=\"darksalmon\"/><text x=\"62.5%\" y=\"62.5%\" dominant-baseline=\"middle\" text-anchor=\"middle\" font-size=\"24\">16</text><rect x=\"300\" y=\"200\" width=\"100\" height=\"100\" stroke=\"white\" stroke-width=\"5px\" fill=\"tomato\"/><text x=\"87.5%\" y=\"62.5%\" dominant-baseline=\"middle\" text-anchor=\"middle\" font-size=\"24\">32</text><rect x=\"0\" y=\"300\" width=\"100\" height=\"100\" stroke=\"white\" stroke-width=\"5px\" fill=\"antiquewhite\"/><text x=\"12.5%\" y=\"87.5%\" dominant-baseline=\"middle\" text-anchor=\"middle\" font-size=\"24\">4</text><rect x=\"100\" y=\"300\" width=\"100\" height=\"100\" stroke=\"white\" stroke-width=\"5px\" fill=\"darksalmon\"/><text x=\"37.5%\" y=\"87.5%\" dominant-baseline=\"middle\" text-anchor=\"middle\" font-size=\"24\">16</text><rect x=\"200\" y=\"300\" width=\"100\" height=\"100\" stroke=\"white\" stroke-width=\"5px\" fill=\"tomato\"/><text x=\"62.5%\" y=\"87.5%\" dominant-baseline=\"middle\" text-anchor=\"middle\" font-size=\"24\">32</text><rect x=\"300\" y=\"300\" width=\"100\" height=\"100\" stroke=\"white\" stroke-width=\"5px\" fill=\"wheat\"/><text x=\"87.5%\" y=\"87.5%\" dominant-baseline=\"middle\" text-anchor=\"middle\" font-size=\"24\">128</text></svg>"
      ],
      "text/plain": [
       "<IPython.core.display.HTML object>"
      ]
     },
     "metadata": {},
     "output_type": "display_data"
    },
    {
     "name": "stdout",
     "output_type": "stream",
     "text": [
      "\n",
      "Movimiento: Derecha\n",
      "Puntuacion: 768\n",
      "Numero de movimientos: 125\n"
     ]
    },
    {
     "data": {
      "text/html": [
       "<svg height=\"400\" width=\"400\"><rect x=\"0\" y=\"0\" width=\"100\" height=\"100\" stroke=\"white\" stroke-width=\"5px\" fill=\"silver\"/><rect x=\"100\" y=\"0\" width=\"100\" height=\"100\" stroke=\"white\" stroke-width=\"5px\" fill=\"ivory\"/><text x=\"37.5%\" y=\"12.5%\" dominant-baseline=\"middle\" text-anchor=\"middle\" font-size=\"24\">2</text><rect x=\"200\" y=\"0\" width=\"100\" height=\"100\" stroke=\"white\" stroke-width=\"5px\" fill=\"ivory\"/><text x=\"62.5%\" y=\"12.5%\" dominant-baseline=\"middle\" text-anchor=\"middle\" font-size=\"24\">2</text><rect x=\"300\" y=\"0\" width=\"100\" height=\"100\" stroke=\"white\" stroke-width=\"5px\" fill=\"lightsalmon\"/><text x=\"87.5%\" y=\"12.5%\" dominant-baseline=\"middle\" text-anchor=\"middle\" font-size=\"24\">8</text><rect x=\"0\" y=\"100\" width=\"100\" height=\"100\" stroke=\"white\" stroke-width=\"5px\" fill=\"silver\"/><rect x=\"100\" y=\"100\" width=\"100\" height=\"100\" stroke=\"white\" stroke-width=\"5px\" fill=\"antiquewhite\"/><text x=\"37.5%\" y=\"37.5%\" dominant-baseline=\"middle\" text-anchor=\"middle\" font-size=\"24\">4</text><rect x=\"200\" y=\"100\" width=\"100\" height=\"100\" stroke=\"white\" stroke-width=\"5px\" fill=\"lightsalmon\"/><text x=\"62.5%\" y=\"37.5%\" dominant-baseline=\"middle\" text-anchor=\"middle\" font-size=\"24\">8</text><rect x=\"300\" y=\"100\" width=\"100\" height=\"100\" stroke=\"white\" stroke-width=\"5px\" fill=\"darksalmon\"/><text x=\"87.5%\" y=\"37.5%\" dominant-baseline=\"middle\" text-anchor=\"middle\" font-size=\"24\">16</text><rect x=\"0\" y=\"200\" width=\"100\" height=\"100\" stroke=\"white\" stroke-width=\"5px\" fill=\"ivory\"/><text x=\"12.5%\" y=\"62.5%\" dominant-baseline=\"middle\" text-anchor=\"middle\" font-size=\"24\">2</text><rect x=\"100\" y=\"200\" width=\"100\" height=\"100\" stroke=\"white\" stroke-width=\"5px\" fill=\"lightsalmon\"/><text x=\"37.5%\" y=\"62.5%\" dominant-baseline=\"middle\" text-anchor=\"middle\" font-size=\"24\">8</text><rect x=\"200\" y=\"200\" width=\"100\" height=\"100\" stroke=\"white\" stroke-width=\"5px\" fill=\"darksalmon\"/><text x=\"62.5%\" y=\"62.5%\" dominant-baseline=\"middle\" text-anchor=\"middle\" font-size=\"24\">16</text><rect x=\"300\" y=\"200\" width=\"100\" height=\"100\" stroke=\"white\" stroke-width=\"5px\" fill=\"tomato\"/><text x=\"87.5%\" y=\"62.5%\" dominant-baseline=\"middle\" text-anchor=\"middle\" font-size=\"24\">32</text><rect x=\"0\" y=\"300\" width=\"100\" height=\"100\" stroke=\"white\" stroke-width=\"5px\" fill=\"antiquewhite\"/><text x=\"12.5%\" y=\"87.5%\" dominant-baseline=\"middle\" text-anchor=\"middle\" font-size=\"24\">4</text><rect x=\"100\" y=\"300\" width=\"100\" height=\"100\" stroke=\"white\" stroke-width=\"5px\" fill=\"darksalmon\"/><text x=\"37.5%\" y=\"87.5%\" dominant-baseline=\"middle\" text-anchor=\"middle\" font-size=\"24\">16</text><rect x=\"200\" y=\"300\" width=\"100\" height=\"100\" stroke=\"white\" stroke-width=\"5px\" fill=\"tomato\"/><text x=\"62.5%\" y=\"87.5%\" dominant-baseline=\"middle\" text-anchor=\"middle\" font-size=\"24\">32</text><rect x=\"300\" y=\"300\" width=\"100\" height=\"100\" stroke=\"white\" stroke-width=\"5px\" fill=\"wheat\"/><text x=\"87.5%\" y=\"87.5%\" dominant-baseline=\"middle\" text-anchor=\"middle\" font-size=\"24\">128</text></svg>"
      ],
      "text/plain": [
       "<IPython.core.display.HTML object>"
      ]
     },
     "metadata": {},
     "output_type": "display_data"
    },
    {
     "name": "stdout",
     "output_type": "stream",
     "text": [
      "\n",
      "Movimiento: Abajo\n",
      "Puntuacion: 768\n",
      "Numero de movimientos: 126\n"
     ]
    },
    {
     "data": {
      "text/html": [
       "<svg height=\"400\" width=\"400\"><rect x=\"0\" y=\"0\" width=\"100\" height=\"100\" stroke=\"white\" stroke-width=\"5px\" fill=\"silver\"/><rect x=\"100\" y=\"0\" width=\"100\" height=\"100\" stroke=\"white\" stroke-width=\"5px\" fill=\"ivory\"/><text x=\"37.5%\" y=\"12.5%\" dominant-baseline=\"middle\" text-anchor=\"middle\" font-size=\"24\">2</text><rect x=\"200\" y=\"0\" width=\"100\" height=\"100\" stroke=\"white\" stroke-width=\"5px\" fill=\"ivory\"/><text x=\"62.5%\" y=\"12.5%\" dominant-baseline=\"middle\" text-anchor=\"middle\" font-size=\"24\">2</text><rect x=\"300\" y=\"0\" width=\"100\" height=\"100\" stroke=\"white\" stroke-width=\"5px\" fill=\"lightsalmon\"/><text x=\"87.5%\" y=\"12.5%\" dominant-baseline=\"middle\" text-anchor=\"middle\" font-size=\"24\">8</text><rect x=\"0\" y=\"100\" width=\"100\" height=\"100\" stroke=\"white\" stroke-width=\"5px\" fill=\"ivory\"/><text x=\"12.5%\" y=\"37.5%\" dominant-baseline=\"middle\" text-anchor=\"middle\" font-size=\"24\">2</text><rect x=\"100\" y=\"100\" width=\"100\" height=\"100\" stroke=\"white\" stroke-width=\"5px\" fill=\"antiquewhite\"/><text x=\"37.5%\" y=\"37.5%\" dominant-baseline=\"middle\" text-anchor=\"middle\" font-size=\"24\">4</text><rect x=\"200\" y=\"100\" width=\"100\" height=\"100\" stroke=\"white\" stroke-width=\"5px\" fill=\"lightsalmon\"/><text x=\"62.5%\" y=\"37.5%\" dominant-baseline=\"middle\" text-anchor=\"middle\" font-size=\"24\">8</text><rect x=\"300\" y=\"100\" width=\"100\" height=\"100\" stroke=\"white\" stroke-width=\"5px\" fill=\"darksalmon\"/><text x=\"87.5%\" y=\"37.5%\" dominant-baseline=\"middle\" text-anchor=\"middle\" font-size=\"24\">16</text><rect x=\"0\" y=\"200\" width=\"100\" height=\"100\" stroke=\"white\" stroke-width=\"5px\" fill=\"ivory\"/><text x=\"12.5%\" y=\"62.5%\" dominant-baseline=\"middle\" text-anchor=\"middle\" font-size=\"24\">2</text><rect x=\"100\" y=\"200\" width=\"100\" height=\"100\" stroke=\"white\" stroke-width=\"5px\" fill=\"lightsalmon\"/><text x=\"37.5%\" y=\"62.5%\" dominant-baseline=\"middle\" text-anchor=\"middle\" font-size=\"24\">8</text><rect x=\"200\" y=\"200\" width=\"100\" height=\"100\" stroke=\"white\" stroke-width=\"5px\" fill=\"darksalmon\"/><text x=\"62.5%\" y=\"62.5%\" dominant-baseline=\"middle\" text-anchor=\"middle\" font-size=\"24\">16</text><rect x=\"300\" y=\"200\" width=\"100\" height=\"100\" stroke=\"white\" stroke-width=\"5px\" fill=\"tomato\"/><text x=\"87.5%\" y=\"62.5%\" dominant-baseline=\"middle\" text-anchor=\"middle\" font-size=\"24\">32</text><rect x=\"0\" y=\"300\" width=\"100\" height=\"100\" stroke=\"white\" stroke-width=\"5px\" fill=\"antiquewhite\"/><text x=\"12.5%\" y=\"87.5%\" dominant-baseline=\"middle\" text-anchor=\"middle\" font-size=\"24\">4</text><rect x=\"100\" y=\"300\" width=\"100\" height=\"100\" stroke=\"white\" stroke-width=\"5px\" fill=\"darksalmon\"/><text x=\"37.5%\" y=\"87.5%\" dominant-baseline=\"middle\" text-anchor=\"middle\" font-size=\"24\">16</text><rect x=\"200\" y=\"300\" width=\"100\" height=\"100\" stroke=\"white\" stroke-width=\"5px\" fill=\"tomato\"/><text x=\"62.5%\" y=\"87.5%\" dominant-baseline=\"middle\" text-anchor=\"middle\" font-size=\"24\">32</text><rect x=\"300\" y=\"300\" width=\"100\" height=\"100\" stroke=\"white\" stroke-width=\"5px\" fill=\"wheat\"/><text x=\"87.5%\" y=\"87.5%\" dominant-baseline=\"middle\" text-anchor=\"middle\" font-size=\"24\">128</text></svg>"
      ],
      "text/plain": [
       "<IPython.core.display.HTML object>"
      ]
     },
     "metadata": {},
     "output_type": "display_data"
    },
    {
     "name": "stdout",
     "output_type": "stream",
     "text": [
      "\n",
      "Movimiento: Derecha\n",
      "Puntuacion: 772\n",
      "Numero de movimientos: 127\n"
     ]
    },
    {
     "data": {
      "text/html": [
       "<svg height=\"400\" width=\"400\"><rect x=\"0\" y=\"0\" width=\"100\" height=\"100\" stroke=\"white\" stroke-width=\"5px\" fill=\"silver\"/><rect x=\"100\" y=\"0\" width=\"100\" height=\"100\" stroke=\"white\" stroke-width=\"5px\" fill=\"ivory\"/><text x=\"37.5%\" y=\"12.5%\" dominant-baseline=\"middle\" text-anchor=\"middle\" font-size=\"24\">2</text><rect x=\"200\" y=\"0\" width=\"100\" height=\"100\" stroke=\"white\" stroke-width=\"5px\" fill=\"antiquewhite\"/><text x=\"62.5%\" y=\"12.5%\" dominant-baseline=\"middle\" text-anchor=\"middle\" font-size=\"24\">4</text><rect x=\"300\" y=\"0\" width=\"100\" height=\"100\" stroke=\"white\" stroke-width=\"5px\" fill=\"lightsalmon\"/><text x=\"87.5%\" y=\"12.5%\" dominant-baseline=\"middle\" text-anchor=\"middle\" font-size=\"24\">8</text><rect x=\"0\" y=\"100\" width=\"100\" height=\"100\" stroke=\"white\" stroke-width=\"5px\" fill=\"silver\"/><rect x=\"100\" y=\"100\" width=\"100\" height=\"100\" stroke=\"white\" stroke-width=\"5px\" fill=\"antiquewhite\"/><text x=\"37.5%\" y=\"37.5%\" dominant-baseline=\"middle\" text-anchor=\"middle\" font-size=\"24\">4</text><rect x=\"200\" y=\"100\" width=\"100\" height=\"100\" stroke=\"white\" stroke-width=\"5px\" fill=\"lightsalmon\"/><text x=\"62.5%\" y=\"37.5%\" dominant-baseline=\"middle\" text-anchor=\"middle\" font-size=\"24\">8</text><rect x=\"300\" y=\"100\" width=\"100\" height=\"100\" stroke=\"white\" stroke-width=\"5px\" fill=\"darksalmon\"/><text x=\"87.5%\" y=\"37.5%\" dominant-baseline=\"middle\" text-anchor=\"middle\" font-size=\"24\">16</text><rect x=\"0\" y=\"200\" width=\"100\" height=\"100\" stroke=\"white\" stroke-width=\"5px\" fill=\"antiquewhite\"/><text x=\"12.5%\" y=\"62.5%\" dominant-baseline=\"middle\" text-anchor=\"middle\" font-size=\"24\">4</text><rect x=\"100\" y=\"200\" width=\"100\" height=\"100\" stroke=\"white\" stroke-width=\"5px\" fill=\"lightsalmon\"/><text x=\"37.5%\" y=\"62.5%\" dominant-baseline=\"middle\" text-anchor=\"middle\" font-size=\"24\">8</text><rect x=\"200\" y=\"200\" width=\"100\" height=\"100\" stroke=\"white\" stroke-width=\"5px\" fill=\"darksalmon\"/><text x=\"62.5%\" y=\"62.5%\" dominant-baseline=\"middle\" text-anchor=\"middle\" font-size=\"24\">16</text><rect x=\"300\" y=\"200\" width=\"100\" height=\"100\" stroke=\"white\" stroke-width=\"5px\" fill=\"tomato\"/><text x=\"87.5%\" y=\"62.5%\" dominant-baseline=\"middle\" text-anchor=\"middle\" font-size=\"24\">32</text><rect x=\"0\" y=\"300\" width=\"100\" height=\"100\" stroke=\"white\" stroke-width=\"5px\" fill=\"antiquewhite\"/><text x=\"12.5%\" y=\"87.5%\" dominant-baseline=\"middle\" text-anchor=\"middle\" font-size=\"24\">4</text><rect x=\"100\" y=\"300\" width=\"100\" height=\"100\" stroke=\"white\" stroke-width=\"5px\" fill=\"darksalmon\"/><text x=\"37.5%\" y=\"87.5%\" dominant-baseline=\"middle\" text-anchor=\"middle\" font-size=\"24\">16</text><rect x=\"200\" y=\"300\" width=\"100\" height=\"100\" stroke=\"white\" stroke-width=\"5px\" fill=\"tomato\"/><text x=\"62.5%\" y=\"87.5%\" dominant-baseline=\"middle\" text-anchor=\"middle\" font-size=\"24\">32</text><rect x=\"300\" y=\"300\" width=\"100\" height=\"100\" stroke=\"white\" stroke-width=\"5px\" fill=\"wheat\"/><text x=\"87.5%\" y=\"87.5%\" dominant-baseline=\"middle\" text-anchor=\"middle\" font-size=\"24\">128</text></svg>"
      ],
      "text/plain": [
       "<IPython.core.display.HTML object>"
      ]
     },
     "metadata": {},
     "output_type": "display_data"
    },
    {
     "name": "stdout",
     "output_type": "stream",
     "text": [
      "\n",
      "Movimiento: Derecha\n",
      "Puntuacion: 772\n",
      "Numero de movimientos: 128\n"
     ]
    },
    {
     "data": {
      "text/html": [
       "<svg height=\"400\" width=\"400\"><rect x=\"0\" y=\"0\" width=\"100\" height=\"100\" stroke=\"white\" stroke-width=\"5px\" fill=\"ivory\"/><text x=\"12.5%\" y=\"12.5%\" dominant-baseline=\"middle\" text-anchor=\"middle\" font-size=\"24\">2</text><rect x=\"100\" y=\"0\" width=\"100\" height=\"100\" stroke=\"white\" stroke-width=\"5px\" fill=\"ivory\"/><text x=\"37.5%\" y=\"12.5%\" dominant-baseline=\"middle\" text-anchor=\"middle\" font-size=\"24\">2</text><rect x=\"200\" y=\"0\" width=\"100\" height=\"100\" stroke=\"white\" stroke-width=\"5px\" fill=\"antiquewhite\"/><text x=\"62.5%\" y=\"12.5%\" dominant-baseline=\"middle\" text-anchor=\"middle\" font-size=\"24\">4</text><rect x=\"300\" y=\"0\" width=\"100\" height=\"100\" stroke=\"white\" stroke-width=\"5px\" fill=\"lightsalmon\"/><text x=\"87.5%\" y=\"12.5%\" dominant-baseline=\"middle\" text-anchor=\"middle\" font-size=\"24\">8</text><rect x=\"0\" y=\"100\" width=\"100\" height=\"100\" stroke=\"white\" stroke-width=\"5px\" fill=\"silver\"/><rect x=\"100\" y=\"100\" width=\"100\" height=\"100\" stroke=\"white\" stroke-width=\"5px\" fill=\"antiquewhite\"/><text x=\"37.5%\" y=\"37.5%\" dominant-baseline=\"middle\" text-anchor=\"middle\" font-size=\"24\">4</text><rect x=\"200\" y=\"100\" width=\"100\" height=\"100\" stroke=\"white\" stroke-width=\"5px\" fill=\"lightsalmon\"/><text x=\"62.5%\" y=\"37.5%\" dominant-baseline=\"middle\" text-anchor=\"middle\" font-size=\"24\">8</text><rect x=\"300\" y=\"100\" width=\"100\" height=\"100\" stroke=\"white\" stroke-width=\"5px\" fill=\"darksalmon\"/><text x=\"87.5%\" y=\"37.5%\" dominant-baseline=\"middle\" text-anchor=\"middle\" font-size=\"24\">16</text><rect x=\"0\" y=\"200\" width=\"100\" height=\"100\" stroke=\"white\" stroke-width=\"5px\" fill=\"silver\"/><rect x=\"100\" y=\"200\" width=\"100\" height=\"100\" stroke=\"white\" stroke-width=\"5px\" fill=\"lightsalmon\"/><text x=\"37.5%\" y=\"62.5%\" dominant-baseline=\"middle\" text-anchor=\"middle\" font-size=\"24\">8</text><rect x=\"200\" y=\"200\" width=\"100\" height=\"100\" stroke=\"white\" stroke-width=\"5px\" fill=\"darksalmon\"/><text x=\"62.5%\" y=\"62.5%\" dominant-baseline=\"middle\" text-anchor=\"middle\" font-size=\"24\">16</text><rect x=\"300\" y=\"200\" width=\"100\" height=\"100\" stroke=\"white\" stroke-width=\"5px\" fill=\"tomato\"/><text x=\"87.5%\" y=\"62.5%\" dominant-baseline=\"middle\" text-anchor=\"middle\" font-size=\"24\">32</text><rect x=\"0\" y=\"300\" width=\"100\" height=\"100\" stroke=\"white\" stroke-width=\"5px\" fill=\"lightsalmon\"/><text x=\"12.5%\" y=\"87.5%\" dominant-baseline=\"middle\" text-anchor=\"middle\" font-size=\"24\">8</text><rect x=\"100\" y=\"300\" width=\"100\" height=\"100\" stroke=\"white\" stroke-width=\"5px\" fill=\"darksalmon\"/><text x=\"37.5%\" y=\"87.5%\" dominant-baseline=\"middle\" text-anchor=\"middle\" font-size=\"24\">16</text><rect x=\"200\" y=\"300\" width=\"100\" height=\"100\" stroke=\"white\" stroke-width=\"5px\" fill=\"tomato\"/><text x=\"62.5%\" y=\"87.5%\" dominant-baseline=\"middle\" text-anchor=\"middle\" font-size=\"24\">32</text><rect x=\"300\" y=\"300\" width=\"100\" height=\"100\" stroke=\"white\" stroke-width=\"5px\" fill=\"wheat\"/><text x=\"87.5%\" y=\"87.5%\" dominant-baseline=\"middle\" text-anchor=\"middle\" font-size=\"24\">128</text></svg>"
      ],
      "text/plain": [
       "<IPython.core.display.HTML object>"
      ]
     },
     "metadata": {},
     "output_type": "display_data"
    },
    {
     "name": "stdout",
     "output_type": "stream",
     "text": [
      "\n",
      "Movimiento: Derecha\n",
      "Puntuacion: 772\n",
      "Numero de movimientos: 129\n"
     ]
    },
    {
     "data": {
      "text/html": [
       "<svg height=\"400\" width=\"400\"><rect x=\"0\" y=\"0\" width=\"100\" height=\"100\" stroke=\"white\" stroke-width=\"5px\" fill=\"silver\"/><rect x=\"100\" y=\"0\" width=\"100\" height=\"100\" stroke=\"white\" stroke-width=\"5px\" fill=\"ivory\"/><text x=\"37.5%\" y=\"12.5%\" dominant-baseline=\"middle\" text-anchor=\"middle\" font-size=\"24\">2</text><rect x=\"200\" y=\"0\" width=\"100\" height=\"100\" stroke=\"white\" stroke-width=\"5px\" fill=\"antiquewhite\"/><text x=\"62.5%\" y=\"12.5%\" dominant-baseline=\"middle\" text-anchor=\"middle\" font-size=\"24\">4</text><rect x=\"300\" y=\"0\" width=\"100\" height=\"100\" stroke=\"white\" stroke-width=\"5px\" fill=\"lightsalmon\"/><text x=\"87.5%\" y=\"12.5%\" dominant-baseline=\"middle\" text-anchor=\"middle\" font-size=\"24\">8</text><rect x=\"0\" y=\"100\" width=\"100\" height=\"100\" stroke=\"white\" stroke-width=\"5px\" fill=\"ivory\"/><text x=\"12.5%\" y=\"37.5%\" dominant-baseline=\"middle\" text-anchor=\"middle\" font-size=\"24\">2</text><rect x=\"100\" y=\"100\" width=\"100\" height=\"100\" stroke=\"white\" stroke-width=\"5px\" fill=\"antiquewhite\"/><text x=\"37.5%\" y=\"37.5%\" dominant-baseline=\"middle\" text-anchor=\"middle\" font-size=\"24\">4</text><rect x=\"200\" y=\"100\" width=\"100\" height=\"100\" stroke=\"white\" stroke-width=\"5px\" fill=\"lightsalmon\"/><text x=\"62.5%\" y=\"37.5%\" dominant-baseline=\"middle\" text-anchor=\"middle\" font-size=\"24\">8</text><rect x=\"300\" y=\"100\" width=\"100\" height=\"100\" stroke=\"white\" stroke-width=\"5px\" fill=\"darksalmon\"/><text x=\"87.5%\" y=\"37.5%\" dominant-baseline=\"middle\" text-anchor=\"middle\" font-size=\"24\">16</text><rect x=\"0\" y=\"200\" width=\"100\" height=\"100\" stroke=\"white\" stroke-width=\"5px\" fill=\"ivory\"/><text x=\"12.5%\" y=\"62.5%\" dominant-baseline=\"middle\" text-anchor=\"middle\" font-size=\"24\">2</text><rect x=\"100\" y=\"200\" width=\"100\" height=\"100\" stroke=\"white\" stroke-width=\"5px\" fill=\"lightsalmon\"/><text x=\"37.5%\" y=\"62.5%\" dominant-baseline=\"middle\" text-anchor=\"middle\" font-size=\"24\">8</text><rect x=\"200\" y=\"200\" width=\"100\" height=\"100\" stroke=\"white\" stroke-width=\"5px\" fill=\"darksalmon\"/><text x=\"62.5%\" y=\"62.5%\" dominant-baseline=\"middle\" text-anchor=\"middle\" font-size=\"24\">16</text><rect x=\"300\" y=\"200\" width=\"100\" height=\"100\" stroke=\"white\" stroke-width=\"5px\" fill=\"tomato\"/><text x=\"87.5%\" y=\"62.5%\" dominant-baseline=\"middle\" text-anchor=\"middle\" font-size=\"24\">32</text><rect x=\"0\" y=\"300\" width=\"100\" height=\"100\" stroke=\"white\" stroke-width=\"5px\" fill=\"lightsalmon\"/><text x=\"12.5%\" y=\"87.5%\" dominant-baseline=\"middle\" text-anchor=\"middle\" font-size=\"24\">8</text><rect x=\"100\" y=\"300\" width=\"100\" height=\"100\" stroke=\"white\" stroke-width=\"5px\" fill=\"darksalmon\"/><text x=\"37.5%\" y=\"87.5%\" dominant-baseline=\"middle\" text-anchor=\"middle\" font-size=\"24\">16</text><rect x=\"200\" y=\"300\" width=\"100\" height=\"100\" stroke=\"white\" stroke-width=\"5px\" fill=\"tomato\"/><text x=\"62.5%\" y=\"87.5%\" dominant-baseline=\"middle\" text-anchor=\"middle\" font-size=\"24\">32</text><rect x=\"300\" y=\"300\" width=\"100\" height=\"100\" stroke=\"white\" stroke-width=\"5px\" fill=\"wheat\"/><text x=\"87.5%\" y=\"87.5%\" dominant-baseline=\"middle\" text-anchor=\"middle\" font-size=\"24\">128</text></svg>"
      ],
      "text/plain": [
       "<IPython.core.display.HTML object>"
      ]
     },
     "metadata": {},
     "output_type": "display_data"
    },
    {
     "name": "stdout",
     "output_type": "stream",
     "text": [
      "\n",
      "Movimiento: Derecha\n",
      "Puntuacion: 772\n",
      "Numero de movimientos: 130\n"
     ]
    },
    {
     "data": {
      "text/html": [
       "<svg height=\"400\" width=\"400\"><rect x=\"0\" y=\"0\" width=\"100\" height=\"100\" stroke=\"white\" stroke-width=\"5px\" fill=\"silver\"/><rect x=\"100\" y=\"0\" width=\"100\" height=\"100\" stroke=\"white\" stroke-width=\"5px\" fill=\"ivory\"/><text x=\"37.5%\" y=\"12.5%\" dominant-baseline=\"middle\" text-anchor=\"middle\" font-size=\"24\">2</text><rect x=\"200\" y=\"0\" width=\"100\" height=\"100\" stroke=\"white\" stroke-width=\"5px\" fill=\"antiquewhite\"/><text x=\"62.5%\" y=\"12.5%\" dominant-baseline=\"middle\" text-anchor=\"middle\" font-size=\"24\">4</text><rect x=\"300\" y=\"0\" width=\"100\" height=\"100\" stroke=\"white\" stroke-width=\"5px\" fill=\"lightsalmon\"/><text x=\"87.5%\" y=\"12.5%\" dominant-baseline=\"middle\" text-anchor=\"middle\" font-size=\"24\">8</text><rect x=\"0\" y=\"100\" width=\"100\" height=\"100\" stroke=\"white\" stroke-width=\"5px\" fill=\"ivory\"/><text x=\"12.5%\" y=\"37.5%\" dominant-baseline=\"middle\" text-anchor=\"middle\" font-size=\"24\">2</text><rect x=\"100\" y=\"100\" width=\"100\" height=\"100\" stroke=\"white\" stroke-width=\"5px\" fill=\"antiquewhite\"/><text x=\"37.5%\" y=\"37.5%\" dominant-baseline=\"middle\" text-anchor=\"middle\" font-size=\"24\">4</text><rect x=\"200\" y=\"100\" width=\"100\" height=\"100\" stroke=\"white\" stroke-width=\"5px\" fill=\"lightsalmon\"/><text x=\"62.5%\" y=\"37.5%\" dominant-baseline=\"middle\" text-anchor=\"middle\" font-size=\"24\">8</text><rect x=\"300\" y=\"100\" width=\"100\" height=\"100\" stroke=\"white\" stroke-width=\"5px\" fill=\"darksalmon\"/><text x=\"87.5%\" y=\"37.5%\" dominant-baseline=\"middle\" text-anchor=\"middle\" font-size=\"24\">16</text><rect x=\"0\" y=\"200\" width=\"100\" height=\"100\" stroke=\"white\" stroke-width=\"5px\" fill=\"antiquewhite\"/><text x=\"12.5%\" y=\"62.5%\" dominant-baseline=\"middle\" text-anchor=\"middle\" font-size=\"24\">4</text><rect x=\"100\" y=\"200\" width=\"100\" height=\"100\" stroke=\"white\" stroke-width=\"5px\" fill=\"lightsalmon\"/><text x=\"37.5%\" y=\"62.5%\" dominant-baseline=\"middle\" text-anchor=\"middle\" font-size=\"24\">8</text><rect x=\"200\" y=\"200\" width=\"100\" height=\"100\" stroke=\"white\" stroke-width=\"5px\" fill=\"darksalmon\"/><text x=\"62.5%\" y=\"62.5%\" dominant-baseline=\"middle\" text-anchor=\"middle\" font-size=\"24\">16</text><rect x=\"300\" y=\"200\" width=\"100\" height=\"100\" stroke=\"white\" stroke-width=\"5px\" fill=\"tomato\"/><text x=\"87.5%\" y=\"62.5%\" dominant-baseline=\"middle\" text-anchor=\"middle\" font-size=\"24\">32</text><rect x=\"0\" y=\"300\" width=\"100\" height=\"100\" stroke=\"white\" stroke-width=\"5px\" fill=\"lightsalmon\"/><text x=\"12.5%\" y=\"87.5%\" dominant-baseline=\"middle\" text-anchor=\"middle\" font-size=\"24\">8</text><rect x=\"100\" y=\"300\" width=\"100\" height=\"100\" stroke=\"white\" stroke-width=\"5px\" fill=\"darksalmon\"/><text x=\"37.5%\" y=\"87.5%\" dominant-baseline=\"middle\" text-anchor=\"middle\" font-size=\"24\">16</text><rect x=\"200\" y=\"300\" width=\"100\" height=\"100\" stroke=\"white\" stroke-width=\"5px\" fill=\"tomato\"/><text x=\"62.5%\" y=\"87.5%\" dominant-baseline=\"middle\" text-anchor=\"middle\" font-size=\"24\">32</text><rect x=\"300\" y=\"300\" width=\"100\" height=\"100\" stroke=\"white\" stroke-width=\"5px\" fill=\"wheat\"/><text x=\"87.5%\" y=\"87.5%\" dominant-baseline=\"middle\" text-anchor=\"middle\" font-size=\"24\">128</text></svg>"
      ],
      "text/plain": [
       "<IPython.core.display.HTML object>"
      ]
     },
     "metadata": {},
     "output_type": "display_data"
    },
    {
     "name": "stdout",
     "output_type": "stream",
     "text": [
      "\n",
      "Movimiento: Abajo\n",
      "Puntuacion: 772\n",
      "Numero de movimientos: 131\n"
     ]
    },
    {
     "data": {
      "text/html": [
       "<svg height=\"400\" width=\"400\"><rect x=\"0\" y=\"0\" width=\"100\" height=\"100\" stroke=\"white\" stroke-width=\"5px\" fill=\"ivory\"/><text x=\"12.5%\" y=\"12.5%\" dominant-baseline=\"middle\" text-anchor=\"middle\" font-size=\"24\">2</text><rect x=\"100\" y=\"0\" width=\"100\" height=\"100\" stroke=\"white\" stroke-width=\"5px\" fill=\"ivory\"/><text x=\"37.5%\" y=\"12.5%\" dominant-baseline=\"middle\" text-anchor=\"middle\" font-size=\"24\">2</text><rect x=\"200\" y=\"0\" width=\"100\" height=\"100\" stroke=\"white\" stroke-width=\"5px\" fill=\"antiquewhite\"/><text x=\"62.5%\" y=\"12.5%\" dominant-baseline=\"middle\" text-anchor=\"middle\" font-size=\"24\">4</text><rect x=\"300\" y=\"0\" width=\"100\" height=\"100\" stroke=\"white\" stroke-width=\"5px\" fill=\"lightsalmon\"/><text x=\"87.5%\" y=\"12.5%\" dominant-baseline=\"middle\" text-anchor=\"middle\" font-size=\"24\">8</text><rect x=\"0\" y=\"100\" width=\"100\" height=\"100\" stroke=\"white\" stroke-width=\"5px\" fill=\"ivory\"/><text x=\"12.5%\" y=\"37.5%\" dominant-baseline=\"middle\" text-anchor=\"middle\" font-size=\"24\">2</text><rect x=\"100\" y=\"100\" width=\"100\" height=\"100\" stroke=\"white\" stroke-width=\"5px\" fill=\"antiquewhite\"/><text x=\"37.5%\" y=\"37.5%\" dominant-baseline=\"middle\" text-anchor=\"middle\" font-size=\"24\">4</text><rect x=\"200\" y=\"100\" width=\"100\" height=\"100\" stroke=\"white\" stroke-width=\"5px\" fill=\"lightsalmon\"/><text x=\"62.5%\" y=\"37.5%\" dominant-baseline=\"middle\" text-anchor=\"middle\" font-size=\"24\">8</text><rect x=\"300\" y=\"100\" width=\"100\" height=\"100\" stroke=\"white\" stroke-width=\"5px\" fill=\"darksalmon\"/><text x=\"87.5%\" y=\"37.5%\" dominant-baseline=\"middle\" text-anchor=\"middle\" font-size=\"24\">16</text><rect x=\"0\" y=\"200\" width=\"100\" height=\"100\" stroke=\"white\" stroke-width=\"5px\" fill=\"antiquewhite\"/><text x=\"12.5%\" y=\"62.5%\" dominant-baseline=\"middle\" text-anchor=\"middle\" font-size=\"24\">4</text><rect x=\"100\" y=\"200\" width=\"100\" height=\"100\" stroke=\"white\" stroke-width=\"5px\" fill=\"lightsalmon\"/><text x=\"37.5%\" y=\"62.5%\" dominant-baseline=\"middle\" text-anchor=\"middle\" font-size=\"24\">8</text><rect x=\"200\" y=\"200\" width=\"100\" height=\"100\" stroke=\"white\" stroke-width=\"5px\" fill=\"darksalmon\"/><text x=\"62.5%\" y=\"62.5%\" dominant-baseline=\"middle\" text-anchor=\"middle\" font-size=\"24\">16</text><rect x=\"300\" y=\"200\" width=\"100\" height=\"100\" stroke=\"white\" stroke-width=\"5px\" fill=\"tomato\"/><text x=\"87.5%\" y=\"62.5%\" dominant-baseline=\"middle\" text-anchor=\"middle\" font-size=\"24\">32</text><rect x=\"0\" y=\"300\" width=\"100\" height=\"100\" stroke=\"white\" stroke-width=\"5px\" fill=\"lightsalmon\"/><text x=\"12.5%\" y=\"87.5%\" dominant-baseline=\"middle\" text-anchor=\"middle\" font-size=\"24\">8</text><rect x=\"100\" y=\"300\" width=\"100\" height=\"100\" stroke=\"white\" stroke-width=\"5px\" fill=\"darksalmon\"/><text x=\"37.5%\" y=\"87.5%\" dominant-baseline=\"middle\" text-anchor=\"middle\" font-size=\"24\">16</text><rect x=\"200\" y=\"300\" width=\"100\" height=\"100\" stroke=\"white\" stroke-width=\"5px\" fill=\"tomato\"/><text x=\"62.5%\" y=\"87.5%\" dominant-baseline=\"middle\" text-anchor=\"middle\" font-size=\"24\">32</text><rect x=\"300\" y=\"300\" width=\"100\" height=\"100\" stroke=\"white\" stroke-width=\"5px\" fill=\"wheat\"/><text x=\"87.5%\" y=\"87.5%\" dominant-baseline=\"middle\" text-anchor=\"middle\" font-size=\"24\">128</text></svg>"
      ],
      "text/plain": [
       "<IPython.core.display.HTML object>"
      ]
     },
     "metadata": {},
     "output_type": "display_data"
    },
    {
     "name": "stdout",
     "output_type": "stream",
     "text": [
      "\n",
      "Movimiento: Derecha\n",
      "Puntuacion: 780\n",
      "Numero de movimientos: 132\n"
     ]
    },
    {
     "data": {
      "text/html": [
       "<svg height=\"400\" width=\"400\"><rect x=\"0\" y=\"0\" width=\"100\" height=\"100\" stroke=\"white\" stroke-width=\"5px\" fill=\"silver\"/><rect x=\"100\" y=\"0\" width=\"100\" height=\"100\" stroke=\"white\" stroke-width=\"5px\" fill=\"ivory\"/><text x=\"37.5%\" y=\"12.5%\" dominant-baseline=\"middle\" text-anchor=\"middle\" font-size=\"24\">2</text><rect x=\"200\" y=\"0\" width=\"100\" height=\"100\" stroke=\"white\" stroke-width=\"5px\" fill=\"antiquewhite\"/><text x=\"62.5%\" y=\"12.5%\" dominant-baseline=\"middle\" text-anchor=\"middle\" font-size=\"24\">4</text><rect x=\"300\" y=\"0\" width=\"100\" height=\"100\" stroke=\"white\" stroke-width=\"5px\" fill=\"lightsalmon\"/><text x=\"87.5%\" y=\"12.5%\" dominant-baseline=\"middle\" text-anchor=\"middle\" font-size=\"24\">8</text><rect x=\"0\" y=\"100\" width=\"100\" height=\"100\" stroke=\"white\" stroke-width=\"5px\" fill=\"ivory\"/><text x=\"12.5%\" y=\"37.5%\" dominant-baseline=\"middle\" text-anchor=\"middle\" font-size=\"24\">2</text><rect x=\"100\" y=\"100\" width=\"100\" height=\"100\" stroke=\"white\" stroke-width=\"5px\" fill=\"lightsalmon\"/><text x=\"37.5%\" y=\"37.5%\" dominant-baseline=\"middle\" text-anchor=\"middle\" font-size=\"24\">8</text><rect x=\"200\" y=\"100\" width=\"100\" height=\"100\" stroke=\"white\" stroke-width=\"5px\" fill=\"lightsalmon\"/><text x=\"62.5%\" y=\"37.5%\" dominant-baseline=\"middle\" text-anchor=\"middle\" font-size=\"24\">8</text><rect x=\"300\" y=\"100\" width=\"100\" height=\"100\" stroke=\"white\" stroke-width=\"5px\" fill=\"darksalmon\"/><text x=\"87.5%\" y=\"37.5%\" dominant-baseline=\"middle\" text-anchor=\"middle\" font-size=\"24\">16</text><rect x=\"0\" y=\"200\" width=\"100\" height=\"100\" stroke=\"white\" stroke-width=\"5px\" fill=\"antiquewhite\"/><text x=\"12.5%\" y=\"62.5%\" dominant-baseline=\"middle\" text-anchor=\"middle\" font-size=\"24\">4</text><rect x=\"100\" y=\"200\" width=\"100\" height=\"100\" stroke=\"white\" stroke-width=\"5px\" fill=\"lightsalmon\"/><text x=\"37.5%\" y=\"62.5%\" dominant-baseline=\"middle\" text-anchor=\"middle\" font-size=\"24\">8</text><rect x=\"200\" y=\"200\" width=\"100\" height=\"100\" stroke=\"white\" stroke-width=\"5px\" fill=\"darksalmon\"/><text x=\"62.5%\" y=\"62.5%\" dominant-baseline=\"middle\" text-anchor=\"middle\" font-size=\"24\">16</text><rect x=\"300\" y=\"200\" width=\"100\" height=\"100\" stroke=\"white\" stroke-width=\"5px\" fill=\"tomato\"/><text x=\"87.5%\" y=\"62.5%\" dominant-baseline=\"middle\" text-anchor=\"middle\" font-size=\"24\">32</text><rect x=\"0\" y=\"300\" width=\"100\" height=\"100\" stroke=\"white\" stroke-width=\"5px\" fill=\"lightsalmon\"/><text x=\"12.5%\" y=\"87.5%\" dominant-baseline=\"middle\" text-anchor=\"middle\" font-size=\"24\">8</text><rect x=\"100\" y=\"300\" width=\"100\" height=\"100\" stroke=\"white\" stroke-width=\"5px\" fill=\"darksalmon\"/><text x=\"37.5%\" y=\"87.5%\" dominant-baseline=\"middle\" text-anchor=\"middle\" font-size=\"24\">16</text><rect x=\"200\" y=\"300\" width=\"100\" height=\"100\" stroke=\"white\" stroke-width=\"5px\" fill=\"tomato\"/><text x=\"62.5%\" y=\"87.5%\" dominant-baseline=\"middle\" text-anchor=\"middle\" font-size=\"24\">32</text><rect x=\"300\" y=\"300\" width=\"100\" height=\"100\" stroke=\"white\" stroke-width=\"5px\" fill=\"wheat\"/><text x=\"87.5%\" y=\"87.5%\" dominant-baseline=\"middle\" text-anchor=\"middle\" font-size=\"24\">128</text></svg>"
      ],
      "text/plain": [
       "<IPython.core.display.HTML object>"
      ]
     },
     "metadata": {},
     "output_type": "display_data"
    },
    {
     "name": "stdout",
     "output_type": "stream",
     "text": [
      "\n",
      "Movimiento: Derecha\n",
      "Puntuacion: 816\n",
      "Numero de movimientos: 133\n"
     ]
    },
    {
     "data": {
      "text/html": [
       "<svg height=\"400\" width=\"400\"><rect x=\"0\" y=\"0\" width=\"100\" height=\"100\" stroke=\"white\" stroke-width=\"5px\" fill=\"ivory\"/><text x=\"12.5%\" y=\"12.5%\" dominant-baseline=\"middle\" text-anchor=\"middle\" font-size=\"24\">2</text><rect x=\"100\" y=\"0\" width=\"100\" height=\"100\" stroke=\"white\" stroke-width=\"5px\" fill=\"silver\"/><rect x=\"200\" y=\"0\" width=\"100\" height=\"100\" stroke=\"white\" stroke-width=\"5px\" fill=\"antiquewhite\"/><text x=\"62.5%\" y=\"12.5%\" dominant-baseline=\"middle\" text-anchor=\"middle\" font-size=\"24\">4</text><rect x=\"300\" y=\"0\" width=\"100\" height=\"100\" stroke=\"white\" stroke-width=\"5px\" fill=\"lightsalmon\"/><text x=\"87.5%\" y=\"12.5%\" dominant-baseline=\"middle\" text-anchor=\"middle\" font-size=\"24\">8</text><rect x=\"0\" y=\"100\" width=\"100\" height=\"100\" stroke=\"white\" stroke-width=\"5px\" fill=\"silver\"/><rect x=\"100\" y=\"100\" width=\"100\" height=\"100\" stroke=\"white\" stroke-width=\"5px\" fill=\"antiquewhite\"/><text x=\"37.5%\" y=\"37.5%\" dominant-baseline=\"middle\" text-anchor=\"middle\" font-size=\"24\">4</text><rect x=\"200\" y=\"100\" width=\"100\" height=\"100\" stroke=\"white\" stroke-width=\"5px\" fill=\"lightsalmon\"/><text x=\"62.5%\" y=\"37.5%\" dominant-baseline=\"middle\" text-anchor=\"middle\" font-size=\"24\">8</text><rect x=\"300\" y=\"100\" width=\"100\" height=\"100\" stroke=\"white\" stroke-width=\"5px\" fill=\"darksalmon\"/><text x=\"87.5%\" y=\"37.5%\" dominant-baseline=\"middle\" text-anchor=\"middle\" font-size=\"24\">16</text><rect x=\"0\" y=\"200\" width=\"100\" height=\"100\" stroke=\"white\" stroke-width=\"5px\" fill=\"silver\"/><rect x=\"100\" y=\"200\" width=\"100\" height=\"100\" stroke=\"white\" stroke-width=\"5px\" fill=\"antiquewhite\"/><text x=\"37.5%\" y=\"62.5%\" dominant-baseline=\"middle\" text-anchor=\"middle\" font-size=\"24\">4</text><rect x=\"200\" y=\"200\" width=\"100\" height=\"100\" stroke=\"white\" stroke-width=\"5px\" fill=\"tomato\"/><text x=\"62.5%\" y=\"62.5%\" dominant-baseline=\"middle\" text-anchor=\"middle\" font-size=\"24\">32</text><rect x=\"300\" y=\"200\" width=\"100\" height=\"100\" stroke=\"white\" stroke-width=\"5px\" fill=\"tomato\"/><text x=\"87.5%\" y=\"62.5%\" dominant-baseline=\"middle\" text-anchor=\"middle\" font-size=\"24\">32</text><rect x=\"0\" y=\"300\" width=\"100\" height=\"100\" stroke=\"white\" stroke-width=\"5px\" fill=\"lightsalmon\"/><text x=\"12.5%\" y=\"87.5%\" dominant-baseline=\"middle\" text-anchor=\"middle\" font-size=\"24\">8</text><rect x=\"100\" y=\"300\" width=\"100\" height=\"100\" stroke=\"white\" stroke-width=\"5px\" fill=\"darksalmon\"/><text x=\"37.5%\" y=\"87.5%\" dominant-baseline=\"middle\" text-anchor=\"middle\" font-size=\"24\">16</text><rect x=\"200\" y=\"300\" width=\"100\" height=\"100\" stroke=\"white\" stroke-width=\"5px\" fill=\"tomato\"/><text x=\"62.5%\" y=\"87.5%\" dominant-baseline=\"middle\" text-anchor=\"middle\" font-size=\"24\">32</text><rect x=\"300\" y=\"300\" width=\"100\" height=\"100\" stroke=\"white\" stroke-width=\"5px\" fill=\"wheat\"/><text x=\"87.5%\" y=\"87.5%\" dominant-baseline=\"middle\" text-anchor=\"middle\" font-size=\"24\">128</text></svg>"
      ],
      "text/plain": [
       "<IPython.core.display.HTML object>"
      ]
     },
     "metadata": {},
     "output_type": "display_data"
    },
    {
     "name": "stdout",
     "output_type": "stream",
     "text": [
      "\n",
      "Movimiento: Derecha\n",
      "Puntuacion: 832\n",
      "Numero de movimientos: 134\n"
     ]
    },
    {
     "data": {
      "text/html": [
       "<svg height=\"400\" width=\"400\"><rect x=\"0\" y=\"0\" width=\"100\" height=\"100\" stroke=\"white\" stroke-width=\"5px\" fill=\"ivory\"/><text x=\"12.5%\" y=\"12.5%\" dominant-baseline=\"middle\" text-anchor=\"middle\" font-size=\"24\">2</text><rect x=\"100\" y=\"0\" width=\"100\" height=\"100\" stroke=\"white\" stroke-width=\"5px\" fill=\"silver\"/><rect x=\"200\" y=\"0\" width=\"100\" height=\"100\" stroke=\"white\" stroke-width=\"5px\" fill=\"silver\"/><rect x=\"300\" y=\"0\" width=\"100\" height=\"100\" stroke=\"white\" stroke-width=\"5px\" fill=\"lightsalmon\"/><text x=\"87.5%\" y=\"12.5%\" dominant-baseline=\"middle\" text-anchor=\"middle\" font-size=\"24\">8</text><rect x=\"0\" y=\"100\" width=\"100\" height=\"100\" stroke=\"white\" stroke-width=\"5px\" fill=\"silver\"/><rect x=\"100\" y=\"100\" width=\"100\" height=\"100\" stroke=\"white\" stroke-width=\"5px\" fill=\"silver\"/><rect x=\"200\" y=\"100\" width=\"100\" height=\"100\" stroke=\"white\" stroke-width=\"5px\" fill=\"antiquewhite\"/><text x=\"62.5%\" y=\"37.5%\" dominant-baseline=\"middle\" text-anchor=\"middle\" font-size=\"24\">4</text><rect x=\"300\" y=\"100\" width=\"100\" height=\"100\" stroke=\"white\" stroke-width=\"5px\" fill=\"darksalmon\"/><text x=\"87.5%\" y=\"37.5%\" dominant-baseline=\"middle\" text-anchor=\"middle\" font-size=\"24\">16</text><rect x=\"0\" y=\"200\" width=\"100\" height=\"100\" stroke=\"white\" stroke-width=\"5px\" fill=\"silver\"/><rect x=\"100\" y=\"200\" width=\"100\" height=\"100\" stroke=\"white\" stroke-width=\"5px\" fill=\"ivory\"/><text x=\"37.5%\" y=\"62.5%\" dominant-baseline=\"middle\" text-anchor=\"middle\" font-size=\"24\">2</text><rect x=\"200\" y=\"200\" width=\"100\" height=\"100\" stroke=\"white\" stroke-width=\"5px\" fill=\"darksalmon\"/><text x=\"62.5%\" y=\"62.5%\" dominant-baseline=\"middle\" text-anchor=\"middle\" font-size=\"24\">16</text><rect x=\"300\" y=\"200\" width=\"100\" height=\"100\" stroke=\"white\" stroke-width=\"5px\" fill=\"tomato\"/><text x=\"87.5%\" y=\"62.5%\" dominant-baseline=\"middle\" text-anchor=\"middle\" font-size=\"24\">32</text><rect x=\"0\" y=\"300\" width=\"100\" height=\"100\" stroke=\"white\" stroke-width=\"5px\" fill=\"lightsalmon\"/><text x=\"12.5%\" y=\"87.5%\" dominant-baseline=\"middle\" text-anchor=\"middle\" font-size=\"24\">8</text><rect x=\"100\" y=\"300\" width=\"100\" height=\"100\" stroke=\"white\" stroke-width=\"5px\" fill=\"darksalmon\"/><text x=\"37.5%\" y=\"87.5%\" dominant-baseline=\"middle\" text-anchor=\"middle\" font-size=\"24\">16</text><rect x=\"200\" y=\"300\" width=\"100\" height=\"100\" stroke=\"white\" stroke-width=\"5px\" fill=\"orangered\"/><text x=\"62.5%\" y=\"87.5%\" dominant-baseline=\"middle\" text-anchor=\"middle\" font-size=\"24\">64</text><rect x=\"300\" y=\"300\" width=\"100\" height=\"100\" stroke=\"white\" stroke-width=\"5px\" fill=\"wheat\"/><text x=\"87.5%\" y=\"87.5%\" dominant-baseline=\"middle\" text-anchor=\"middle\" font-size=\"24\">128</text></svg>"
      ],
      "text/plain": [
       "<IPython.core.display.HTML object>"
      ]
     },
     "metadata": {},
     "output_type": "display_data"
    },
    {
     "name": "stdout",
     "output_type": "stream",
     "text": [
      "\n",
      "Movimiento: Derecha\n",
      "Puntuacion: 836\n",
      "Numero de movimientos: 135\n"
     ]
    },
    {
     "data": {
      "text/html": [
       "<svg height=\"400\" width=\"400\"><rect x=\"0\" y=\"0\" width=\"100\" height=\"100\" stroke=\"white\" stroke-width=\"5px\" fill=\"silver\"/><rect x=\"100\" y=\"0\" width=\"100\" height=\"100\" stroke=\"white\" stroke-width=\"5px\" fill=\"silver\"/><rect x=\"200\" y=\"0\" width=\"100\" height=\"100\" stroke=\"white\" stroke-width=\"5px\" fill=\"ivory\"/><text x=\"62.5%\" y=\"12.5%\" dominant-baseline=\"middle\" text-anchor=\"middle\" font-size=\"24\">2</text><rect x=\"300\" y=\"0\" width=\"100\" height=\"100\" stroke=\"white\" stroke-width=\"5px\" fill=\"lightsalmon\"/><text x=\"87.5%\" y=\"12.5%\" dominant-baseline=\"middle\" text-anchor=\"middle\" font-size=\"24\">8</text><rect x=\"0\" y=\"100\" width=\"100\" height=\"100\" stroke=\"white\" stroke-width=\"5px\" fill=\"silver\"/><rect x=\"100\" y=\"100\" width=\"100\" height=\"100\" stroke=\"white\" stroke-width=\"5px\" fill=\"silver\"/><rect x=\"200\" y=\"100\" width=\"100\" height=\"100\" stroke=\"white\" stroke-width=\"5px\" fill=\"antiquewhite\"/><text x=\"62.5%\" y=\"37.5%\" dominant-baseline=\"middle\" text-anchor=\"middle\" font-size=\"24\">4</text><rect x=\"300\" y=\"100\" width=\"100\" height=\"100\" stroke=\"white\" stroke-width=\"5px\" fill=\"darksalmon\"/><text x=\"87.5%\" y=\"37.5%\" dominant-baseline=\"middle\" text-anchor=\"middle\" font-size=\"24\">16</text><rect x=\"0\" y=\"200\" width=\"100\" height=\"100\" stroke=\"white\" stroke-width=\"5px\" fill=\"silver\"/><rect x=\"100\" y=\"200\" width=\"100\" height=\"100\" stroke=\"white\" stroke-width=\"5px\" fill=\"antiquewhite\"/><text x=\"37.5%\" y=\"62.5%\" dominant-baseline=\"middle\" text-anchor=\"middle\" font-size=\"24\">4</text><rect x=\"200\" y=\"200\" width=\"100\" height=\"100\" stroke=\"white\" stroke-width=\"5px\" fill=\"darksalmon\"/><text x=\"62.5%\" y=\"62.5%\" dominant-baseline=\"middle\" text-anchor=\"middle\" font-size=\"24\">16</text><rect x=\"300\" y=\"200\" width=\"100\" height=\"100\" stroke=\"white\" stroke-width=\"5px\" fill=\"tomato\"/><text x=\"87.5%\" y=\"62.5%\" dominant-baseline=\"middle\" text-anchor=\"middle\" font-size=\"24\">32</text><rect x=\"0\" y=\"300\" width=\"100\" height=\"100\" stroke=\"white\" stroke-width=\"5px\" fill=\"lightsalmon\"/><text x=\"12.5%\" y=\"87.5%\" dominant-baseline=\"middle\" text-anchor=\"middle\" font-size=\"24\">8</text><rect x=\"100\" y=\"300\" width=\"100\" height=\"100\" stroke=\"white\" stroke-width=\"5px\" fill=\"darksalmon\"/><text x=\"37.5%\" y=\"87.5%\" dominant-baseline=\"middle\" text-anchor=\"middle\" font-size=\"24\">16</text><rect x=\"200\" y=\"300\" width=\"100\" height=\"100\" stroke=\"white\" stroke-width=\"5px\" fill=\"orangered\"/><text x=\"62.5%\" y=\"87.5%\" dominant-baseline=\"middle\" text-anchor=\"middle\" font-size=\"24\">64</text><rect x=\"300\" y=\"300\" width=\"100\" height=\"100\" stroke=\"white\" stroke-width=\"5px\" fill=\"wheat\"/><text x=\"87.5%\" y=\"87.5%\" dominant-baseline=\"middle\" text-anchor=\"middle\" font-size=\"24\">128</text></svg>"
      ],
      "text/plain": [
       "<IPython.core.display.HTML object>"
      ]
     },
     "metadata": {},
     "output_type": "display_data"
    },
    {
     "name": "stdout",
     "output_type": "stream",
     "text": [
      "\n",
      "Movimiento: Abajo\n",
      "Puntuacion: 836\n",
      "Numero de movimientos: 136\n"
     ]
    },
    {
     "data": {
      "text/html": [
       "<svg height=\"400\" width=\"400\"><rect x=\"0\" y=\"0\" width=\"100\" height=\"100\" stroke=\"white\" stroke-width=\"5px\" fill=\"silver\"/><rect x=\"100\" y=\"0\" width=\"100\" height=\"100\" stroke=\"white\" stroke-width=\"5px\" fill=\"silver\"/><rect x=\"200\" y=\"0\" width=\"100\" height=\"100\" stroke=\"white\" stroke-width=\"5px\" fill=\"ivory\"/><text x=\"62.5%\" y=\"12.5%\" dominant-baseline=\"middle\" text-anchor=\"middle\" font-size=\"24\">2</text><rect x=\"300\" y=\"0\" width=\"100\" height=\"100\" stroke=\"white\" stroke-width=\"5px\" fill=\"lightsalmon\"/><text x=\"87.5%\" y=\"12.5%\" dominant-baseline=\"middle\" text-anchor=\"middle\" font-size=\"24\">8</text><rect x=\"0\" y=\"100\" width=\"100\" height=\"100\" stroke=\"white\" stroke-width=\"5px\" fill=\"silver\"/><rect x=\"100\" y=\"100\" width=\"100\" height=\"100\" stroke=\"white\" stroke-width=\"5px\" fill=\"silver\"/><rect x=\"200\" y=\"100\" width=\"100\" height=\"100\" stroke=\"white\" stroke-width=\"5px\" fill=\"antiquewhite\"/><text x=\"62.5%\" y=\"37.5%\" dominant-baseline=\"middle\" text-anchor=\"middle\" font-size=\"24\">4</text><rect x=\"300\" y=\"100\" width=\"100\" height=\"100\" stroke=\"white\" stroke-width=\"5px\" fill=\"darksalmon\"/><text x=\"87.5%\" y=\"37.5%\" dominant-baseline=\"middle\" text-anchor=\"middle\" font-size=\"24\">16</text><rect x=\"0\" y=\"200\" width=\"100\" height=\"100\" stroke=\"white\" stroke-width=\"5px\" fill=\"ivory\"/><text x=\"12.5%\" y=\"62.5%\" dominant-baseline=\"middle\" text-anchor=\"middle\" font-size=\"24\">2</text><rect x=\"100\" y=\"200\" width=\"100\" height=\"100\" stroke=\"white\" stroke-width=\"5px\" fill=\"antiquewhite\"/><text x=\"37.5%\" y=\"62.5%\" dominant-baseline=\"middle\" text-anchor=\"middle\" font-size=\"24\">4</text><rect x=\"200\" y=\"200\" width=\"100\" height=\"100\" stroke=\"white\" stroke-width=\"5px\" fill=\"darksalmon\"/><text x=\"62.5%\" y=\"62.5%\" dominant-baseline=\"middle\" text-anchor=\"middle\" font-size=\"24\">16</text><rect x=\"300\" y=\"200\" width=\"100\" height=\"100\" stroke=\"white\" stroke-width=\"5px\" fill=\"tomato\"/><text x=\"87.5%\" y=\"62.5%\" dominant-baseline=\"middle\" text-anchor=\"middle\" font-size=\"24\">32</text><rect x=\"0\" y=\"300\" width=\"100\" height=\"100\" stroke=\"white\" stroke-width=\"5px\" fill=\"lightsalmon\"/><text x=\"12.5%\" y=\"87.5%\" dominant-baseline=\"middle\" text-anchor=\"middle\" font-size=\"24\">8</text><rect x=\"100\" y=\"300\" width=\"100\" height=\"100\" stroke=\"white\" stroke-width=\"5px\" fill=\"darksalmon\"/><text x=\"37.5%\" y=\"87.5%\" dominant-baseline=\"middle\" text-anchor=\"middle\" font-size=\"24\">16</text><rect x=\"200\" y=\"300\" width=\"100\" height=\"100\" stroke=\"white\" stroke-width=\"5px\" fill=\"orangered\"/><text x=\"62.5%\" y=\"87.5%\" dominant-baseline=\"middle\" text-anchor=\"middle\" font-size=\"24\">64</text><rect x=\"300\" y=\"300\" width=\"100\" height=\"100\" stroke=\"white\" stroke-width=\"5px\" fill=\"wheat\"/><text x=\"87.5%\" y=\"87.5%\" dominant-baseline=\"middle\" text-anchor=\"middle\" font-size=\"24\">128</text></svg>"
      ],
      "text/plain": [
       "<IPython.core.display.HTML object>"
      ]
     },
     "metadata": {},
     "output_type": "display_data"
    },
    {
     "name": "stdout",
     "output_type": "stream",
     "text": [
      "\n",
      "Movimiento: Abajo\n",
      "Puntuacion: 836\n",
      "Numero de movimientos: 137\n"
     ]
    },
    {
     "data": {
      "text/html": [
       "<svg height=\"400\" width=\"400\"><rect x=\"0\" y=\"0\" width=\"100\" height=\"100\" stroke=\"white\" stroke-width=\"5px\" fill=\"ivory\"/><text x=\"12.5%\" y=\"12.5%\" dominant-baseline=\"middle\" text-anchor=\"middle\" font-size=\"24\">2</text><rect x=\"100\" y=\"0\" width=\"100\" height=\"100\" stroke=\"white\" stroke-width=\"5px\" fill=\"silver\"/><rect x=\"200\" y=\"0\" width=\"100\" height=\"100\" stroke=\"white\" stroke-width=\"5px\" fill=\"ivory\"/><text x=\"62.5%\" y=\"12.5%\" dominant-baseline=\"middle\" text-anchor=\"middle\" font-size=\"24\">2</text><rect x=\"300\" y=\"0\" width=\"100\" height=\"100\" stroke=\"white\" stroke-width=\"5px\" fill=\"lightsalmon\"/><text x=\"87.5%\" y=\"12.5%\" dominant-baseline=\"middle\" text-anchor=\"middle\" font-size=\"24\">8</text><rect x=\"0\" y=\"100\" width=\"100\" height=\"100\" stroke=\"white\" stroke-width=\"5px\" fill=\"silver\"/><rect x=\"100\" y=\"100\" width=\"100\" height=\"100\" stroke=\"white\" stroke-width=\"5px\" fill=\"silver\"/><rect x=\"200\" y=\"100\" width=\"100\" height=\"100\" stroke=\"white\" stroke-width=\"5px\" fill=\"antiquewhite\"/><text x=\"62.5%\" y=\"37.5%\" dominant-baseline=\"middle\" text-anchor=\"middle\" font-size=\"24\">4</text><rect x=\"300\" y=\"100\" width=\"100\" height=\"100\" stroke=\"white\" stroke-width=\"5px\" fill=\"darksalmon\"/><text x=\"87.5%\" y=\"37.5%\" dominant-baseline=\"middle\" text-anchor=\"middle\" font-size=\"24\">16</text><rect x=\"0\" y=\"200\" width=\"100\" height=\"100\" stroke=\"white\" stroke-width=\"5px\" fill=\"ivory\"/><text x=\"12.5%\" y=\"62.5%\" dominant-baseline=\"middle\" text-anchor=\"middle\" font-size=\"24\">2</text><rect x=\"100\" y=\"200\" width=\"100\" height=\"100\" stroke=\"white\" stroke-width=\"5px\" fill=\"antiquewhite\"/><text x=\"37.5%\" y=\"62.5%\" dominant-baseline=\"middle\" text-anchor=\"middle\" font-size=\"24\">4</text><rect x=\"200\" y=\"200\" width=\"100\" height=\"100\" stroke=\"white\" stroke-width=\"5px\" fill=\"darksalmon\"/><text x=\"62.5%\" y=\"62.5%\" dominant-baseline=\"middle\" text-anchor=\"middle\" font-size=\"24\">16</text><rect x=\"300\" y=\"200\" width=\"100\" height=\"100\" stroke=\"white\" stroke-width=\"5px\" fill=\"tomato\"/><text x=\"87.5%\" y=\"62.5%\" dominant-baseline=\"middle\" text-anchor=\"middle\" font-size=\"24\">32</text><rect x=\"0\" y=\"300\" width=\"100\" height=\"100\" stroke=\"white\" stroke-width=\"5px\" fill=\"lightsalmon\"/><text x=\"12.5%\" y=\"87.5%\" dominant-baseline=\"middle\" text-anchor=\"middle\" font-size=\"24\">8</text><rect x=\"100\" y=\"300\" width=\"100\" height=\"100\" stroke=\"white\" stroke-width=\"5px\" fill=\"darksalmon\"/><text x=\"37.5%\" y=\"87.5%\" dominant-baseline=\"middle\" text-anchor=\"middle\" font-size=\"24\">16</text><rect x=\"200\" y=\"300\" width=\"100\" height=\"100\" stroke=\"white\" stroke-width=\"5px\" fill=\"orangered\"/><text x=\"62.5%\" y=\"87.5%\" dominant-baseline=\"middle\" text-anchor=\"middle\" font-size=\"24\">64</text><rect x=\"300\" y=\"300\" width=\"100\" height=\"100\" stroke=\"white\" stroke-width=\"5px\" fill=\"wheat\"/><text x=\"87.5%\" y=\"87.5%\" dominant-baseline=\"middle\" text-anchor=\"middle\" font-size=\"24\">128</text></svg>"
      ],
      "text/plain": [
       "<IPython.core.display.HTML object>"
      ]
     },
     "metadata": {},
     "output_type": "display_data"
    },
    {
     "name": "stdout",
     "output_type": "stream",
     "text": [
      "\n",
      "Movimiento: Derecha\n",
      "Puntuacion: 844\n",
      "Numero de movimientos: 138\n"
     ]
    },
    {
     "data": {
      "text/html": [
       "<svg height=\"400\" width=\"400\"><rect x=\"0\" y=\"0\" width=\"100\" height=\"100\" stroke=\"white\" stroke-width=\"5px\" fill=\"silver\"/><rect x=\"100\" y=\"0\" width=\"100\" height=\"100\" stroke=\"white\" stroke-width=\"5px\" fill=\"silver\"/><rect x=\"200\" y=\"0\" width=\"100\" height=\"100\" stroke=\"white\" stroke-width=\"5px\" fill=\"ivory\"/><text x=\"62.5%\" y=\"12.5%\" dominant-baseline=\"middle\" text-anchor=\"middle\" font-size=\"24\">2</text><rect x=\"300\" y=\"0\" width=\"100\" height=\"100\" stroke=\"white\" stroke-width=\"5px\" fill=\"lightsalmon\"/><text x=\"87.5%\" y=\"12.5%\" dominant-baseline=\"middle\" text-anchor=\"middle\" font-size=\"24\">8</text><rect x=\"0\" y=\"100\" width=\"100\" height=\"100\" stroke=\"white\" stroke-width=\"5px\" fill=\"silver\"/><rect x=\"100\" y=\"100\" width=\"100\" height=\"100\" stroke=\"white\" stroke-width=\"5px\" fill=\"ivory\"/><text x=\"37.5%\" y=\"37.5%\" dominant-baseline=\"middle\" text-anchor=\"middle\" font-size=\"24\">2</text><rect x=\"200\" y=\"100\" width=\"100\" height=\"100\" stroke=\"white\" stroke-width=\"5px\" fill=\"antiquewhite\"/><text x=\"62.5%\" y=\"37.5%\" dominant-baseline=\"middle\" text-anchor=\"middle\" font-size=\"24\">4</text><rect x=\"300\" y=\"100\" width=\"100\" height=\"100\" stroke=\"white\" stroke-width=\"5px\" fill=\"darksalmon\"/><text x=\"87.5%\" y=\"37.5%\" dominant-baseline=\"middle\" text-anchor=\"middle\" font-size=\"24\">16</text><rect x=\"0\" y=\"200\" width=\"100\" height=\"100\" stroke=\"white\" stroke-width=\"5px\" fill=\"silver\"/><rect x=\"100\" y=\"200\" width=\"100\" height=\"100\" stroke=\"white\" stroke-width=\"5px\" fill=\"lightsalmon\"/><text x=\"37.5%\" y=\"62.5%\" dominant-baseline=\"middle\" text-anchor=\"middle\" font-size=\"24\">8</text><rect x=\"200\" y=\"200\" width=\"100\" height=\"100\" stroke=\"white\" stroke-width=\"5px\" fill=\"darksalmon\"/><text x=\"62.5%\" y=\"62.5%\" dominant-baseline=\"middle\" text-anchor=\"middle\" font-size=\"24\">16</text><rect x=\"300\" y=\"200\" width=\"100\" height=\"100\" stroke=\"white\" stroke-width=\"5px\" fill=\"tomato\"/><text x=\"87.5%\" y=\"62.5%\" dominant-baseline=\"middle\" text-anchor=\"middle\" font-size=\"24\">32</text><rect x=\"0\" y=\"300\" width=\"100\" height=\"100\" stroke=\"white\" stroke-width=\"5px\" fill=\"lightsalmon\"/><text x=\"12.5%\" y=\"87.5%\" dominant-baseline=\"middle\" text-anchor=\"middle\" font-size=\"24\">8</text><rect x=\"100\" y=\"300\" width=\"100\" height=\"100\" stroke=\"white\" stroke-width=\"5px\" fill=\"darksalmon\"/><text x=\"37.5%\" y=\"87.5%\" dominant-baseline=\"middle\" text-anchor=\"middle\" font-size=\"24\">16</text><rect x=\"200\" y=\"300\" width=\"100\" height=\"100\" stroke=\"white\" stroke-width=\"5px\" fill=\"orangered\"/><text x=\"62.5%\" y=\"87.5%\" dominant-baseline=\"middle\" text-anchor=\"middle\" font-size=\"24\">64</text><rect x=\"300\" y=\"300\" width=\"100\" height=\"100\" stroke=\"white\" stroke-width=\"5px\" fill=\"wheat\"/><text x=\"87.5%\" y=\"87.5%\" dominant-baseline=\"middle\" text-anchor=\"middle\" font-size=\"24\">128</text></svg>"
      ],
      "text/plain": [
       "<IPython.core.display.HTML object>"
      ]
     },
     "metadata": {},
     "output_type": "display_data"
    },
    {
     "name": "stdout",
     "output_type": "stream",
     "text": [
      "\n",
      "Movimiento: Abajo\n",
      "Puntuacion: 844\n",
      "Numero de movimientos: 139\n"
     ]
    },
    {
     "data": {
      "text/html": [
       "<svg height=\"400\" width=\"400\"><rect x=\"0\" y=\"0\" width=\"100\" height=\"100\" stroke=\"white\" stroke-width=\"5px\" fill=\"silver\"/><rect x=\"100\" y=\"0\" width=\"100\" height=\"100\" stroke=\"white\" stroke-width=\"5px\" fill=\"ivory\"/><text x=\"37.5%\" y=\"12.5%\" dominant-baseline=\"middle\" text-anchor=\"middle\" font-size=\"24\">2</text><rect x=\"200\" y=\"0\" width=\"100\" height=\"100\" stroke=\"white\" stroke-width=\"5px\" fill=\"ivory\"/><text x=\"62.5%\" y=\"12.5%\" dominant-baseline=\"middle\" text-anchor=\"middle\" font-size=\"24\">2</text><rect x=\"300\" y=\"0\" width=\"100\" height=\"100\" stroke=\"white\" stroke-width=\"5px\" fill=\"lightsalmon\"/><text x=\"87.5%\" y=\"12.5%\" dominant-baseline=\"middle\" text-anchor=\"middle\" font-size=\"24\">8</text><rect x=\"0\" y=\"100\" width=\"100\" height=\"100\" stroke=\"white\" stroke-width=\"5px\" fill=\"silver\"/><rect x=\"100\" y=\"100\" width=\"100\" height=\"100\" stroke=\"white\" stroke-width=\"5px\" fill=\"ivory\"/><text x=\"37.5%\" y=\"37.5%\" dominant-baseline=\"middle\" text-anchor=\"middle\" font-size=\"24\">2</text><rect x=\"200\" y=\"100\" width=\"100\" height=\"100\" stroke=\"white\" stroke-width=\"5px\" fill=\"antiquewhite\"/><text x=\"62.5%\" y=\"37.5%\" dominant-baseline=\"middle\" text-anchor=\"middle\" font-size=\"24\">4</text><rect x=\"300\" y=\"100\" width=\"100\" height=\"100\" stroke=\"white\" stroke-width=\"5px\" fill=\"darksalmon\"/><text x=\"87.5%\" y=\"37.5%\" dominant-baseline=\"middle\" text-anchor=\"middle\" font-size=\"24\">16</text><rect x=\"0\" y=\"200\" width=\"100\" height=\"100\" stroke=\"white\" stroke-width=\"5px\" fill=\"silver\"/><rect x=\"100\" y=\"200\" width=\"100\" height=\"100\" stroke=\"white\" stroke-width=\"5px\" fill=\"lightsalmon\"/><text x=\"37.5%\" y=\"62.5%\" dominant-baseline=\"middle\" text-anchor=\"middle\" font-size=\"24\">8</text><rect x=\"200\" y=\"200\" width=\"100\" height=\"100\" stroke=\"white\" stroke-width=\"5px\" fill=\"darksalmon\"/><text x=\"62.5%\" y=\"62.5%\" dominant-baseline=\"middle\" text-anchor=\"middle\" font-size=\"24\">16</text><rect x=\"300\" y=\"200\" width=\"100\" height=\"100\" stroke=\"white\" stroke-width=\"5px\" fill=\"tomato\"/><text x=\"87.5%\" y=\"62.5%\" dominant-baseline=\"middle\" text-anchor=\"middle\" font-size=\"24\">32</text><rect x=\"0\" y=\"300\" width=\"100\" height=\"100\" stroke=\"white\" stroke-width=\"5px\" fill=\"lightsalmon\"/><text x=\"12.5%\" y=\"87.5%\" dominant-baseline=\"middle\" text-anchor=\"middle\" font-size=\"24\">8</text><rect x=\"100\" y=\"300\" width=\"100\" height=\"100\" stroke=\"white\" stroke-width=\"5px\" fill=\"darksalmon\"/><text x=\"37.5%\" y=\"87.5%\" dominant-baseline=\"middle\" text-anchor=\"middle\" font-size=\"24\">16</text><rect x=\"200\" y=\"300\" width=\"100\" height=\"100\" stroke=\"white\" stroke-width=\"5px\" fill=\"orangered\"/><text x=\"62.5%\" y=\"87.5%\" dominant-baseline=\"middle\" text-anchor=\"middle\" font-size=\"24\">64</text><rect x=\"300\" y=\"300\" width=\"100\" height=\"100\" stroke=\"white\" stroke-width=\"5px\" fill=\"wheat\"/><text x=\"87.5%\" y=\"87.5%\" dominant-baseline=\"middle\" text-anchor=\"middle\" font-size=\"24\">128</text></svg>"
      ],
      "text/plain": [
       "<IPython.core.display.HTML object>"
      ]
     },
     "metadata": {},
     "output_type": "display_data"
    },
    {
     "name": "stdout",
     "output_type": "stream",
     "text": [
      "\n",
      "Movimiento: Derecha\n",
      "Puntuacion: 852\n",
      "Numero de movimientos: 140\n"
     ]
    },
    {
     "data": {
      "text/html": [
       "<svg height=\"400\" width=\"400\"><rect x=\"0\" y=\"0\" width=\"100\" height=\"100\" stroke=\"white\" stroke-width=\"5px\" fill=\"silver\"/><rect x=\"100\" y=\"0\" width=\"100\" height=\"100\" stroke=\"white\" stroke-width=\"5px\" fill=\"ivory\"/><text x=\"37.5%\" y=\"12.5%\" dominant-baseline=\"middle\" text-anchor=\"middle\" font-size=\"24\">2</text><rect x=\"200\" y=\"0\" width=\"100\" height=\"100\" stroke=\"white\" stroke-width=\"5px\" fill=\"ivory\"/><text x=\"62.5%\" y=\"12.5%\" dominant-baseline=\"middle\" text-anchor=\"middle\" font-size=\"24\">2</text><rect x=\"300\" y=\"0\" width=\"100\" height=\"100\" stroke=\"white\" stroke-width=\"5px\" fill=\"lightsalmon\"/><text x=\"87.5%\" y=\"12.5%\" dominant-baseline=\"middle\" text-anchor=\"middle\" font-size=\"24\">8</text><rect x=\"0\" y=\"100\" width=\"100\" height=\"100\" stroke=\"white\" stroke-width=\"5px\" fill=\"silver\"/><rect x=\"100\" y=\"100\" width=\"100\" height=\"100\" stroke=\"white\" stroke-width=\"5px\" fill=\"silver\"/><rect x=\"200\" y=\"100\" width=\"100\" height=\"100\" stroke=\"white\" stroke-width=\"5px\" fill=\"lightsalmon\"/><text x=\"62.5%\" y=\"37.5%\" dominant-baseline=\"middle\" text-anchor=\"middle\" font-size=\"24\">8</text><rect x=\"300\" y=\"100\" width=\"100\" height=\"100\" stroke=\"white\" stroke-width=\"5px\" fill=\"darksalmon\"/><text x=\"87.5%\" y=\"37.5%\" dominant-baseline=\"middle\" text-anchor=\"middle\" font-size=\"24\">16</text><rect x=\"0\" y=\"200\" width=\"100\" height=\"100\" stroke=\"white\" stroke-width=\"5px\" fill=\"silver\"/><rect x=\"100\" y=\"200\" width=\"100\" height=\"100\" stroke=\"white\" stroke-width=\"5px\" fill=\"lightsalmon\"/><text x=\"37.5%\" y=\"62.5%\" dominant-baseline=\"middle\" text-anchor=\"middle\" font-size=\"24\">8</text><rect x=\"200\" y=\"200\" width=\"100\" height=\"100\" stroke=\"white\" stroke-width=\"5px\" fill=\"darksalmon\"/><text x=\"62.5%\" y=\"62.5%\" dominant-baseline=\"middle\" text-anchor=\"middle\" font-size=\"24\">16</text><rect x=\"300\" y=\"200\" width=\"100\" height=\"100\" stroke=\"white\" stroke-width=\"5px\" fill=\"tomato\"/><text x=\"87.5%\" y=\"62.5%\" dominant-baseline=\"middle\" text-anchor=\"middle\" font-size=\"24\">32</text><rect x=\"0\" y=\"300\" width=\"100\" height=\"100\" stroke=\"white\" stroke-width=\"5px\" fill=\"lightsalmon\"/><text x=\"12.5%\" y=\"87.5%\" dominant-baseline=\"middle\" text-anchor=\"middle\" font-size=\"24\">8</text><rect x=\"100\" y=\"300\" width=\"100\" height=\"100\" stroke=\"white\" stroke-width=\"5px\" fill=\"darksalmon\"/><text x=\"37.5%\" y=\"87.5%\" dominant-baseline=\"middle\" text-anchor=\"middle\" font-size=\"24\">16</text><rect x=\"200\" y=\"300\" width=\"100\" height=\"100\" stroke=\"white\" stroke-width=\"5px\" fill=\"orangered\"/><text x=\"62.5%\" y=\"87.5%\" dominant-baseline=\"middle\" text-anchor=\"middle\" font-size=\"24\">64</text><rect x=\"300\" y=\"300\" width=\"100\" height=\"100\" stroke=\"white\" stroke-width=\"5px\" fill=\"wheat\"/><text x=\"87.5%\" y=\"87.5%\" dominant-baseline=\"middle\" text-anchor=\"middle\" font-size=\"24\">128</text></svg>"
      ],
      "text/plain": [
       "<IPython.core.display.HTML object>"
      ]
     },
     "metadata": {},
     "output_type": "display_data"
    },
    {
     "name": "stdout",
     "output_type": "stream",
     "text": [
      "\n",
      "Movimiento: Derecha\n",
      "Puntuacion: 852\n",
      "Numero de movimientos: 141\n"
     ]
    },
    {
     "data": {
      "text/html": [
       "<svg height=\"400\" width=\"400\"><rect x=\"0\" y=\"0\" width=\"100\" height=\"100\" stroke=\"white\" stroke-width=\"5px\" fill=\"ivory\"/><text x=\"12.5%\" y=\"12.5%\" dominant-baseline=\"middle\" text-anchor=\"middle\" font-size=\"24\">2</text><rect x=\"100\" y=\"0\" width=\"100\" height=\"100\" stroke=\"white\" stroke-width=\"5px\" fill=\"silver\"/><rect x=\"200\" y=\"0\" width=\"100\" height=\"100\" stroke=\"white\" stroke-width=\"5px\" fill=\"ivory\"/><text x=\"62.5%\" y=\"12.5%\" dominant-baseline=\"middle\" text-anchor=\"middle\" font-size=\"24\">2</text><rect x=\"300\" y=\"0\" width=\"100\" height=\"100\" stroke=\"white\" stroke-width=\"5px\" fill=\"lightsalmon\"/><text x=\"87.5%\" y=\"12.5%\" dominant-baseline=\"middle\" text-anchor=\"middle\" font-size=\"24\">8</text><rect x=\"0\" y=\"100\" width=\"100\" height=\"100\" stroke=\"white\" stroke-width=\"5px\" fill=\"silver\"/><rect x=\"100\" y=\"100\" width=\"100\" height=\"100\" stroke=\"white\" stroke-width=\"5px\" fill=\"ivory\"/><text x=\"37.5%\" y=\"37.5%\" dominant-baseline=\"middle\" text-anchor=\"middle\" font-size=\"24\">2</text><rect x=\"200\" y=\"100\" width=\"100\" height=\"100\" stroke=\"white\" stroke-width=\"5px\" fill=\"lightsalmon\"/><text x=\"62.5%\" y=\"37.5%\" dominant-baseline=\"middle\" text-anchor=\"middle\" font-size=\"24\">8</text><rect x=\"300\" y=\"100\" width=\"100\" height=\"100\" stroke=\"white\" stroke-width=\"5px\" fill=\"darksalmon\"/><text x=\"87.5%\" y=\"37.5%\" dominant-baseline=\"middle\" text-anchor=\"middle\" font-size=\"24\">16</text><rect x=\"0\" y=\"200\" width=\"100\" height=\"100\" stroke=\"white\" stroke-width=\"5px\" fill=\"silver\"/><rect x=\"100\" y=\"200\" width=\"100\" height=\"100\" stroke=\"white\" stroke-width=\"5px\" fill=\"lightsalmon\"/><text x=\"37.5%\" y=\"62.5%\" dominant-baseline=\"middle\" text-anchor=\"middle\" font-size=\"24\">8</text><rect x=\"200\" y=\"200\" width=\"100\" height=\"100\" stroke=\"white\" stroke-width=\"5px\" fill=\"darksalmon\"/><text x=\"62.5%\" y=\"62.5%\" dominant-baseline=\"middle\" text-anchor=\"middle\" font-size=\"24\">16</text><rect x=\"300\" y=\"200\" width=\"100\" height=\"100\" stroke=\"white\" stroke-width=\"5px\" fill=\"tomato\"/><text x=\"87.5%\" y=\"62.5%\" dominant-baseline=\"middle\" text-anchor=\"middle\" font-size=\"24\">32</text><rect x=\"0\" y=\"300\" width=\"100\" height=\"100\" stroke=\"white\" stroke-width=\"5px\" fill=\"lightsalmon\"/><text x=\"12.5%\" y=\"87.5%\" dominant-baseline=\"middle\" text-anchor=\"middle\" font-size=\"24\">8</text><rect x=\"100\" y=\"300\" width=\"100\" height=\"100\" stroke=\"white\" stroke-width=\"5px\" fill=\"darksalmon\"/><text x=\"37.5%\" y=\"87.5%\" dominant-baseline=\"middle\" text-anchor=\"middle\" font-size=\"24\">16</text><rect x=\"200\" y=\"300\" width=\"100\" height=\"100\" stroke=\"white\" stroke-width=\"5px\" fill=\"orangered\"/><text x=\"62.5%\" y=\"87.5%\" dominant-baseline=\"middle\" text-anchor=\"middle\" font-size=\"24\">64</text><rect x=\"300\" y=\"300\" width=\"100\" height=\"100\" stroke=\"white\" stroke-width=\"5px\" fill=\"wheat\"/><text x=\"87.5%\" y=\"87.5%\" dominant-baseline=\"middle\" text-anchor=\"middle\" font-size=\"24\">128</text></svg>"
      ],
      "text/plain": [
       "<IPython.core.display.HTML object>"
      ]
     },
     "metadata": {},
     "output_type": "display_data"
    },
    {
     "name": "stdout",
     "output_type": "stream",
     "text": [
      "\n",
      "Movimiento: Derecha\n",
      "Puntuacion: 852\n",
      "Numero de movimientos: 142\n"
     ]
    },
    {
     "data": {
      "text/html": [
       "<svg height=\"400\" width=\"400\"><rect x=\"0\" y=\"0\" width=\"100\" height=\"100\" stroke=\"white\" stroke-width=\"5px\" fill=\"ivory\"/><text x=\"12.5%\" y=\"12.5%\" dominant-baseline=\"middle\" text-anchor=\"middle\" font-size=\"24\">2</text><rect x=\"100\" y=\"0\" width=\"100\" height=\"100\" stroke=\"white\" stroke-width=\"5px\" fill=\"silver\"/><rect x=\"200\" y=\"0\" width=\"100\" height=\"100\" stroke=\"white\" stroke-width=\"5px\" fill=\"ivory\"/><text x=\"62.5%\" y=\"12.5%\" dominant-baseline=\"middle\" text-anchor=\"middle\" font-size=\"24\">2</text><rect x=\"300\" y=\"0\" width=\"100\" height=\"100\" stroke=\"white\" stroke-width=\"5px\" fill=\"lightsalmon\"/><text x=\"87.5%\" y=\"12.5%\" dominant-baseline=\"middle\" text-anchor=\"middle\" font-size=\"24\">8</text><rect x=\"0\" y=\"100\" width=\"100\" height=\"100\" stroke=\"white\" stroke-width=\"5px\" fill=\"silver\"/><rect x=\"100\" y=\"100\" width=\"100\" height=\"100\" stroke=\"white\" stroke-width=\"5px\" fill=\"ivory\"/><text x=\"37.5%\" y=\"37.5%\" dominant-baseline=\"middle\" text-anchor=\"middle\" font-size=\"24\">2</text><rect x=\"200\" y=\"100\" width=\"100\" height=\"100\" stroke=\"white\" stroke-width=\"5px\" fill=\"lightsalmon\"/><text x=\"62.5%\" y=\"37.5%\" dominant-baseline=\"middle\" text-anchor=\"middle\" font-size=\"24\">8</text><rect x=\"300\" y=\"100\" width=\"100\" height=\"100\" stroke=\"white\" stroke-width=\"5px\" fill=\"darksalmon\"/><text x=\"87.5%\" y=\"37.5%\" dominant-baseline=\"middle\" text-anchor=\"middle\" font-size=\"24\">16</text><rect x=\"0\" y=\"200\" width=\"100\" height=\"100\" stroke=\"white\" stroke-width=\"5px\" fill=\"ivory\"/><text x=\"12.5%\" y=\"62.5%\" dominant-baseline=\"middle\" text-anchor=\"middle\" font-size=\"24\">2</text><rect x=\"100\" y=\"200\" width=\"100\" height=\"100\" stroke=\"white\" stroke-width=\"5px\" fill=\"lightsalmon\"/><text x=\"37.5%\" y=\"62.5%\" dominant-baseline=\"middle\" text-anchor=\"middle\" font-size=\"24\">8</text><rect x=\"200\" y=\"200\" width=\"100\" height=\"100\" stroke=\"white\" stroke-width=\"5px\" fill=\"darksalmon\"/><text x=\"62.5%\" y=\"62.5%\" dominant-baseline=\"middle\" text-anchor=\"middle\" font-size=\"24\">16</text><rect x=\"300\" y=\"200\" width=\"100\" height=\"100\" stroke=\"white\" stroke-width=\"5px\" fill=\"tomato\"/><text x=\"87.5%\" y=\"62.5%\" dominant-baseline=\"middle\" text-anchor=\"middle\" font-size=\"24\">32</text><rect x=\"0\" y=\"300\" width=\"100\" height=\"100\" stroke=\"white\" stroke-width=\"5px\" fill=\"lightsalmon\"/><text x=\"12.5%\" y=\"87.5%\" dominant-baseline=\"middle\" text-anchor=\"middle\" font-size=\"24\">8</text><rect x=\"100\" y=\"300\" width=\"100\" height=\"100\" stroke=\"white\" stroke-width=\"5px\" fill=\"darksalmon\"/><text x=\"37.5%\" y=\"87.5%\" dominant-baseline=\"middle\" text-anchor=\"middle\" font-size=\"24\">16</text><rect x=\"200\" y=\"300\" width=\"100\" height=\"100\" stroke=\"white\" stroke-width=\"5px\" fill=\"orangered\"/><text x=\"62.5%\" y=\"87.5%\" dominant-baseline=\"middle\" text-anchor=\"middle\" font-size=\"24\">64</text><rect x=\"300\" y=\"300\" width=\"100\" height=\"100\" stroke=\"white\" stroke-width=\"5px\" fill=\"wheat\"/><text x=\"87.5%\" y=\"87.5%\" dominant-baseline=\"middle\" text-anchor=\"middle\" font-size=\"24\">128</text></svg>"
      ],
      "text/plain": [
       "<IPython.core.display.HTML object>"
      ]
     },
     "metadata": {},
     "output_type": "display_data"
    },
    {
     "name": "stdout",
     "output_type": "stream",
     "text": [
      "\n",
      "Movimiento: Derecha\n",
      "Puntuacion: 852\n",
      "Numero de movimientos: 143\n"
     ]
    },
    {
     "data": {
      "text/html": [
       "<svg height=\"400\" width=\"400\"><rect x=\"0\" y=\"0\" width=\"100\" height=\"100\" stroke=\"white\" stroke-width=\"5px\" fill=\"silver\"/><rect x=\"100\" y=\"0\" width=\"100\" height=\"100\" stroke=\"white\" stroke-width=\"5px\" fill=\"silver\"/><rect x=\"200\" y=\"0\" width=\"100\" height=\"100\" stroke=\"white\" stroke-width=\"5px\" fill=\"ivory\"/><text x=\"62.5%\" y=\"12.5%\" dominant-baseline=\"middle\" text-anchor=\"middle\" font-size=\"24\">2</text><rect x=\"300\" y=\"0\" width=\"100\" height=\"100\" stroke=\"white\" stroke-width=\"5px\" fill=\"lightsalmon\"/><text x=\"87.5%\" y=\"12.5%\" dominant-baseline=\"middle\" text-anchor=\"middle\" font-size=\"24\">8</text><rect x=\"0\" y=\"100\" width=\"100\" height=\"100\" stroke=\"white\" stroke-width=\"5px\" fill=\"ivory\"/><text x=\"12.5%\" y=\"37.5%\" dominant-baseline=\"middle\" text-anchor=\"middle\" font-size=\"24\">2</text><rect x=\"100\" y=\"100\" width=\"100\" height=\"100\" stroke=\"white\" stroke-width=\"5px\" fill=\"ivory\"/><text x=\"37.5%\" y=\"37.5%\" dominant-baseline=\"middle\" text-anchor=\"middle\" font-size=\"24\">2</text><rect x=\"200\" y=\"100\" width=\"100\" height=\"100\" stroke=\"white\" stroke-width=\"5px\" fill=\"lightsalmon\"/><text x=\"62.5%\" y=\"37.5%\" dominant-baseline=\"middle\" text-anchor=\"middle\" font-size=\"24\">8</text><rect x=\"300\" y=\"100\" width=\"100\" height=\"100\" stroke=\"white\" stroke-width=\"5px\" fill=\"darksalmon\"/><text x=\"87.5%\" y=\"37.5%\" dominant-baseline=\"middle\" text-anchor=\"middle\" font-size=\"24\">16</text><rect x=\"0\" y=\"200\" width=\"100\" height=\"100\" stroke=\"white\" stroke-width=\"5px\" fill=\"antiquewhite\"/><text x=\"12.5%\" y=\"62.5%\" dominant-baseline=\"middle\" text-anchor=\"middle\" font-size=\"24\">4</text><rect x=\"100\" y=\"200\" width=\"100\" height=\"100\" stroke=\"white\" stroke-width=\"5px\" fill=\"lightsalmon\"/><text x=\"37.5%\" y=\"62.5%\" dominant-baseline=\"middle\" text-anchor=\"middle\" font-size=\"24\">8</text><rect x=\"200\" y=\"200\" width=\"100\" height=\"100\" stroke=\"white\" stroke-width=\"5px\" fill=\"darksalmon\"/><text x=\"62.5%\" y=\"62.5%\" dominant-baseline=\"middle\" text-anchor=\"middle\" font-size=\"24\">16</text><rect x=\"300\" y=\"200\" width=\"100\" height=\"100\" stroke=\"white\" stroke-width=\"5px\" fill=\"tomato\"/><text x=\"87.5%\" y=\"62.5%\" dominant-baseline=\"middle\" text-anchor=\"middle\" font-size=\"24\">32</text><rect x=\"0\" y=\"300\" width=\"100\" height=\"100\" stroke=\"white\" stroke-width=\"5px\" fill=\"lightsalmon\"/><text x=\"12.5%\" y=\"87.5%\" dominant-baseline=\"middle\" text-anchor=\"middle\" font-size=\"24\">8</text><rect x=\"100\" y=\"300\" width=\"100\" height=\"100\" stroke=\"white\" stroke-width=\"5px\" fill=\"darksalmon\"/><text x=\"37.5%\" y=\"87.5%\" dominant-baseline=\"middle\" text-anchor=\"middle\" font-size=\"24\">16</text><rect x=\"200\" y=\"300\" width=\"100\" height=\"100\" stroke=\"white\" stroke-width=\"5px\" fill=\"orangered\"/><text x=\"62.5%\" y=\"87.5%\" dominant-baseline=\"middle\" text-anchor=\"middle\" font-size=\"24\">64</text><rect x=\"300\" y=\"300\" width=\"100\" height=\"100\" stroke=\"white\" stroke-width=\"5px\" fill=\"wheat\"/><text x=\"87.5%\" y=\"87.5%\" dominant-baseline=\"middle\" text-anchor=\"middle\" font-size=\"24\">128</text></svg>"
      ],
      "text/plain": [
       "<IPython.core.display.HTML object>"
      ]
     },
     "metadata": {},
     "output_type": "display_data"
    },
    {
     "name": "stdout",
     "output_type": "stream",
     "text": [
      "\n",
      "Movimiento: Abajo\n",
      "Puntuacion: 852\n",
      "Numero de movimientos: 144\n"
     ]
    },
    {
     "data": {
      "text/html": [
       "<svg height=\"400\" width=\"400\"><rect x=\"0\" y=\"0\" width=\"100\" height=\"100\" stroke=\"white\" stroke-width=\"5px\" fill=\"ivory\"/><text x=\"12.5%\" y=\"12.5%\" dominant-baseline=\"middle\" text-anchor=\"middle\" font-size=\"24\">2</text><rect x=\"100\" y=\"0\" width=\"100\" height=\"100\" stroke=\"white\" stroke-width=\"5px\" fill=\"silver\"/><rect x=\"200\" y=\"0\" width=\"100\" height=\"100\" stroke=\"white\" stroke-width=\"5px\" fill=\"ivory\"/><text x=\"62.5%\" y=\"12.5%\" dominant-baseline=\"middle\" text-anchor=\"middle\" font-size=\"24\">2</text><rect x=\"300\" y=\"0\" width=\"100\" height=\"100\" stroke=\"white\" stroke-width=\"5px\" fill=\"lightsalmon\"/><text x=\"87.5%\" y=\"12.5%\" dominant-baseline=\"middle\" text-anchor=\"middle\" font-size=\"24\">8</text><rect x=\"0\" y=\"100\" width=\"100\" height=\"100\" stroke=\"white\" stroke-width=\"5px\" fill=\"ivory\"/><text x=\"12.5%\" y=\"37.5%\" dominant-baseline=\"middle\" text-anchor=\"middle\" font-size=\"24\">2</text><rect x=\"100\" y=\"100\" width=\"100\" height=\"100\" stroke=\"white\" stroke-width=\"5px\" fill=\"ivory\"/><text x=\"37.5%\" y=\"37.5%\" dominant-baseline=\"middle\" text-anchor=\"middle\" font-size=\"24\">2</text><rect x=\"200\" y=\"100\" width=\"100\" height=\"100\" stroke=\"white\" stroke-width=\"5px\" fill=\"lightsalmon\"/><text x=\"62.5%\" y=\"37.5%\" dominant-baseline=\"middle\" text-anchor=\"middle\" font-size=\"24\">8</text><rect x=\"300\" y=\"100\" width=\"100\" height=\"100\" stroke=\"white\" stroke-width=\"5px\" fill=\"darksalmon\"/><text x=\"87.5%\" y=\"37.5%\" dominant-baseline=\"middle\" text-anchor=\"middle\" font-size=\"24\">16</text><rect x=\"0\" y=\"200\" width=\"100\" height=\"100\" stroke=\"white\" stroke-width=\"5px\" fill=\"antiquewhite\"/><text x=\"12.5%\" y=\"62.5%\" dominant-baseline=\"middle\" text-anchor=\"middle\" font-size=\"24\">4</text><rect x=\"100\" y=\"200\" width=\"100\" height=\"100\" stroke=\"white\" stroke-width=\"5px\" fill=\"lightsalmon\"/><text x=\"37.5%\" y=\"62.5%\" dominant-baseline=\"middle\" text-anchor=\"middle\" font-size=\"24\">8</text><rect x=\"200\" y=\"200\" width=\"100\" height=\"100\" stroke=\"white\" stroke-width=\"5px\" fill=\"darksalmon\"/><text x=\"62.5%\" y=\"62.5%\" dominant-baseline=\"middle\" text-anchor=\"middle\" font-size=\"24\">16</text><rect x=\"300\" y=\"200\" width=\"100\" height=\"100\" stroke=\"white\" stroke-width=\"5px\" fill=\"tomato\"/><text x=\"87.5%\" y=\"62.5%\" dominant-baseline=\"middle\" text-anchor=\"middle\" font-size=\"24\">32</text><rect x=\"0\" y=\"300\" width=\"100\" height=\"100\" stroke=\"white\" stroke-width=\"5px\" fill=\"lightsalmon\"/><text x=\"12.5%\" y=\"87.5%\" dominant-baseline=\"middle\" text-anchor=\"middle\" font-size=\"24\">8</text><rect x=\"100\" y=\"300\" width=\"100\" height=\"100\" stroke=\"white\" stroke-width=\"5px\" fill=\"darksalmon\"/><text x=\"37.5%\" y=\"87.5%\" dominant-baseline=\"middle\" text-anchor=\"middle\" font-size=\"24\">16</text><rect x=\"200\" y=\"300\" width=\"100\" height=\"100\" stroke=\"white\" stroke-width=\"5px\" fill=\"orangered\"/><text x=\"62.5%\" y=\"87.5%\" dominant-baseline=\"middle\" text-anchor=\"middle\" font-size=\"24\">64</text><rect x=\"300\" y=\"300\" width=\"100\" height=\"100\" stroke=\"white\" stroke-width=\"5px\" fill=\"wheat\"/><text x=\"87.5%\" y=\"87.5%\" dominant-baseline=\"middle\" text-anchor=\"middle\" font-size=\"24\">128</text></svg>"
      ],
      "text/plain": [
       "<IPython.core.display.HTML object>"
      ]
     },
     "metadata": {},
     "output_type": "display_data"
    },
    {
     "name": "stdout",
     "output_type": "stream",
     "text": [
      "\n",
      "Movimiento: Derecha\n",
      "Puntuacion: 852\n",
      "Numero de movimientos: 145\n"
     ]
    },
    {
     "data": {
      "text/html": [
       "<svg height=\"400\" width=\"400\"><rect x=\"0\" y=\"0\" width=\"100\" height=\"100\" stroke=\"white\" stroke-width=\"5px\" fill=\"silver\"/><rect x=\"100\" y=\"0\" width=\"100\" height=\"100\" stroke=\"white\" stroke-width=\"5px\" fill=\"ivory\"/><text x=\"37.5%\" y=\"12.5%\" dominant-baseline=\"middle\" text-anchor=\"middle\" font-size=\"24\">2</text><rect x=\"200\" y=\"0\" width=\"100\" height=\"100\" stroke=\"white\" stroke-width=\"5px\" fill=\"ivory\"/><text x=\"62.5%\" y=\"12.5%\" dominant-baseline=\"middle\" text-anchor=\"middle\" font-size=\"24\">2</text><rect x=\"300\" y=\"0\" width=\"100\" height=\"100\" stroke=\"white\" stroke-width=\"5px\" fill=\"lightsalmon\"/><text x=\"87.5%\" y=\"12.5%\" dominant-baseline=\"middle\" text-anchor=\"middle\" font-size=\"24\">8</text><rect x=\"0\" y=\"100\" width=\"100\" height=\"100\" stroke=\"white\" stroke-width=\"5px\" fill=\"antiquewhite\"/><text x=\"12.5%\" y=\"37.5%\" dominant-baseline=\"middle\" text-anchor=\"middle\" font-size=\"24\">4</text><rect x=\"100\" y=\"100\" width=\"100\" height=\"100\" stroke=\"white\" stroke-width=\"5px\" fill=\"ivory\"/><text x=\"37.5%\" y=\"37.5%\" dominant-baseline=\"middle\" text-anchor=\"middle\" font-size=\"24\">2</text><rect x=\"200\" y=\"100\" width=\"100\" height=\"100\" stroke=\"white\" stroke-width=\"5px\" fill=\"lightsalmon\"/><text x=\"62.5%\" y=\"37.5%\" dominant-baseline=\"middle\" text-anchor=\"middle\" font-size=\"24\">8</text><rect x=\"300\" y=\"100\" width=\"100\" height=\"100\" stroke=\"white\" stroke-width=\"5px\" fill=\"darksalmon\"/><text x=\"87.5%\" y=\"37.5%\" dominant-baseline=\"middle\" text-anchor=\"middle\" font-size=\"24\">16</text><rect x=\"0\" y=\"200\" width=\"100\" height=\"100\" stroke=\"white\" stroke-width=\"5px\" fill=\"antiquewhite\"/><text x=\"12.5%\" y=\"62.5%\" dominant-baseline=\"middle\" text-anchor=\"middle\" font-size=\"24\">4</text><rect x=\"100\" y=\"200\" width=\"100\" height=\"100\" stroke=\"white\" stroke-width=\"5px\" fill=\"lightsalmon\"/><text x=\"37.5%\" y=\"62.5%\" dominant-baseline=\"middle\" text-anchor=\"middle\" font-size=\"24\">8</text><rect x=\"200\" y=\"200\" width=\"100\" height=\"100\" stroke=\"white\" stroke-width=\"5px\" fill=\"darksalmon\"/><text x=\"62.5%\" y=\"62.5%\" dominant-baseline=\"middle\" text-anchor=\"middle\" font-size=\"24\">16</text><rect x=\"300\" y=\"200\" width=\"100\" height=\"100\" stroke=\"white\" stroke-width=\"5px\" fill=\"tomato\"/><text x=\"87.5%\" y=\"62.5%\" dominant-baseline=\"middle\" text-anchor=\"middle\" font-size=\"24\">32</text><rect x=\"0\" y=\"300\" width=\"100\" height=\"100\" stroke=\"white\" stroke-width=\"5px\" fill=\"lightsalmon\"/><text x=\"12.5%\" y=\"87.5%\" dominant-baseline=\"middle\" text-anchor=\"middle\" font-size=\"24\">8</text><rect x=\"100\" y=\"300\" width=\"100\" height=\"100\" stroke=\"white\" stroke-width=\"5px\" fill=\"darksalmon\"/><text x=\"37.5%\" y=\"87.5%\" dominant-baseline=\"middle\" text-anchor=\"middle\" font-size=\"24\">16</text><rect x=\"200\" y=\"300\" width=\"100\" height=\"100\" stroke=\"white\" stroke-width=\"5px\" fill=\"orangered\"/><text x=\"62.5%\" y=\"87.5%\" dominant-baseline=\"middle\" text-anchor=\"middle\" font-size=\"24\">64</text><rect x=\"300\" y=\"300\" width=\"100\" height=\"100\" stroke=\"white\" stroke-width=\"5px\" fill=\"wheat\"/><text x=\"87.5%\" y=\"87.5%\" dominant-baseline=\"middle\" text-anchor=\"middle\" font-size=\"24\">128</text></svg>"
      ],
      "text/plain": [
       "<IPython.core.display.HTML object>"
      ]
     },
     "metadata": {},
     "output_type": "display_data"
    },
    {
     "name": "stdout",
     "output_type": "stream",
     "text": [
      "\n",
      "Movimiento: Derecha\n",
      "Puntuacion: 868\n",
      "Numero de movimientos: 146\n"
     ]
    },
    {
     "data": {
      "text/html": [
       "<svg height=\"400\" width=\"400\"><rect x=\"0\" y=\"0\" width=\"100\" height=\"100\" stroke=\"white\" stroke-width=\"5px\" fill=\"ivory\"/><text x=\"12.5%\" y=\"12.5%\" dominant-baseline=\"middle\" text-anchor=\"middle\" font-size=\"24\">2</text><rect x=\"100\" y=\"0\" width=\"100\" height=\"100\" stroke=\"white\" stroke-width=\"5px\" fill=\"silver\"/><rect x=\"200\" y=\"0\" width=\"100\" height=\"100\" stroke=\"white\" stroke-width=\"5px\" fill=\"ivory\"/><text x=\"62.5%\" y=\"12.5%\" dominant-baseline=\"middle\" text-anchor=\"middle\" font-size=\"24\">2</text><rect x=\"300\" y=\"0\" width=\"100\" height=\"100\" stroke=\"white\" stroke-width=\"5px\" fill=\"lightsalmon\"/><text x=\"87.5%\" y=\"12.5%\" dominant-baseline=\"middle\" text-anchor=\"middle\" font-size=\"24\">8</text><rect x=\"0\" y=\"100\" width=\"100\" height=\"100\" stroke=\"white\" stroke-width=\"5px\" fill=\"silver\"/><rect x=\"100\" y=\"100\" width=\"100\" height=\"100\" stroke=\"white\" stroke-width=\"5px\" fill=\"antiquewhite\"/><text x=\"37.5%\" y=\"37.5%\" dominant-baseline=\"middle\" text-anchor=\"middle\" font-size=\"24\">4</text><rect x=\"200\" y=\"100\" width=\"100\" height=\"100\" stroke=\"white\" stroke-width=\"5px\" fill=\"lightsalmon\"/><text x=\"62.5%\" y=\"37.5%\" dominant-baseline=\"middle\" text-anchor=\"middle\" font-size=\"24\">8</text><rect x=\"300\" y=\"100\" width=\"100\" height=\"100\" stroke=\"white\" stroke-width=\"5px\" fill=\"darksalmon\"/><text x=\"87.5%\" y=\"37.5%\" dominant-baseline=\"middle\" text-anchor=\"middle\" font-size=\"24\">16</text><rect x=\"0\" y=\"200\" width=\"100\" height=\"100\" stroke=\"white\" stroke-width=\"5px\" fill=\"silver\"/><rect x=\"100\" y=\"200\" width=\"100\" height=\"100\" stroke=\"white\" stroke-width=\"5px\" fill=\"darksalmon\"/><text x=\"37.5%\" y=\"62.5%\" dominant-baseline=\"middle\" text-anchor=\"middle\" font-size=\"24\">16</text><rect x=\"200\" y=\"200\" width=\"100\" height=\"100\" stroke=\"white\" stroke-width=\"5px\" fill=\"darksalmon\"/><text x=\"62.5%\" y=\"62.5%\" dominant-baseline=\"middle\" text-anchor=\"middle\" font-size=\"24\">16</text><rect x=\"300\" y=\"200\" width=\"100\" height=\"100\" stroke=\"white\" stroke-width=\"5px\" fill=\"tomato\"/><text x=\"87.5%\" y=\"62.5%\" dominant-baseline=\"middle\" text-anchor=\"middle\" font-size=\"24\">32</text><rect x=\"0\" y=\"300\" width=\"100\" height=\"100\" stroke=\"white\" stroke-width=\"5px\" fill=\"lightsalmon\"/><text x=\"12.5%\" y=\"87.5%\" dominant-baseline=\"middle\" text-anchor=\"middle\" font-size=\"24\">8</text><rect x=\"100\" y=\"300\" width=\"100\" height=\"100\" stroke=\"white\" stroke-width=\"5px\" fill=\"darksalmon\"/><text x=\"37.5%\" y=\"87.5%\" dominant-baseline=\"middle\" text-anchor=\"middle\" font-size=\"24\">16</text><rect x=\"200\" y=\"300\" width=\"100\" height=\"100\" stroke=\"white\" stroke-width=\"5px\" fill=\"orangered\"/><text x=\"62.5%\" y=\"87.5%\" dominant-baseline=\"middle\" text-anchor=\"middle\" font-size=\"24\">64</text><rect x=\"300\" y=\"300\" width=\"100\" height=\"100\" stroke=\"white\" stroke-width=\"5px\" fill=\"wheat\"/><text x=\"87.5%\" y=\"87.5%\" dominant-baseline=\"middle\" text-anchor=\"middle\" font-size=\"24\">128</text></svg>"
      ],
      "text/plain": [
       "<IPython.core.display.HTML object>"
      ]
     },
     "metadata": {},
     "output_type": "display_data"
    },
    {
     "name": "stdout",
     "output_type": "stream",
     "text": [
      "\n",
      "Movimiento: Derecha\n",
      "Puntuacion: 868\n",
      "Numero de movimientos: 147\n"
     ]
    },
    {
     "data": {
      "text/html": [
       "<svg height=\"400\" width=\"400\"><rect x=\"0\" y=\"0\" width=\"100\" height=\"100\" stroke=\"white\" stroke-width=\"5px\" fill=\"silver\"/><rect x=\"100\" y=\"0\" width=\"100\" height=\"100\" stroke=\"white\" stroke-width=\"5px\" fill=\"silver\"/><rect x=\"200\" y=\"0\" width=\"100\" height=\"100\" stroke=\"white\" stroke-width=\"5px\" fill=\"ivory\"/><text x=\"62.5%\" y=\"12.5%\" dominant-baseline=\"middle\" text-anchor=\"middle\" font-size=\"24\">2</text><rect x=\"300\" y=\"0\" width=\"100\" height=\"100\" stroke=\"white\" stroke-width=\"5px\" fill=\"lightsalmon\"/><text x=\"87.5%\" y=\"12.5%\" dominant-baseline=\"middle\" text-anchor=\"middle\" font-size=\"24\">8</text><rect x=\"0\" y=\"100\" width=\"100\" height=\"100\" stroke=\"white\" stroke-width=\"5px\" fill=\"ivory\"/><text x=\"12.5%\" y=\"37.5%\" dominant-baseline=\"middle\" text-anchor=\"middle\" font-size=\"24\">2</text><rect x=\"100\" y=\"100\" width=\"100\" height=\"100\" stroke=\"white\" stroke-width=\"5px\" fill=\"silver\"/><rect x=\"200\" y=\"100\" width=\"100\" height=\"100\" stroke=\"white\" stroke-width=\"5px\" fill=\"lightsalmon\"/><text x=\"62.5%\" y=\"37.5%\" dominant-baseline=\"middle\" text-anchor=\"middle\" font-size=\"24\">8</text><rect x=\"300\" y=\"100\" width=\"100\" height=\"100\" stroke=\"white\" stroke-width=\"5px\" fill=\"darksalmon\"/><text x=\"87.5%\" y=\"37.5%\" dominant-baseline=\"middle\" text-anchor=\"middle\" font-size=\"24\">16</text><rect x=\"0\" y=\"200\" width=\"100\" height=\"100\" stroke=\"white\" stroke-width=\"5px\" fill=\"ivory\"/><text x=\"12.5%\" y=\"62.5%\" dominant-baseline=\"middle\" text-anchor=\"middle\" font-size=\"24\">2</text><rect x=\"100\" y=\"200\" width=\"100\" height=\"100\" stroke=\"white\" stroke-width=\"5px\" fill=\"antiquewhite\"/><text x=\"37.5%\" y=\"62.5%\" dominant-baseline=\"middle\" text-anchor=\"middle\" font-size=\"24\">4</text><rect x=\"200\" y=\"200\" width=\"100\" height=\"100\" stroke=\"white\" stroke-width=\"5px\" fill=\"darksalmon\"/><text x=\"62.5%\" y=\"62.5%\" dominant-baseline=\"middle\" text-anchor=\"middle\" font-size=\"24\">16</text><rect x=\"300\" y=\"200\" width=\"100\" height=\"100\" stroke=\"white\" stroke-width=\"5px\" fill=\"tomato\"/><text x=\"87.5%\" y=\"62.5%\" dominant-baseline=\"middle\" text-anchor=\"middle\" font-size=\"24\">32</text><rect x=\"0\" y=\"300\" width=\"100\" height=\"100\" stroke=\"white\" stroke-width=\"5px\" fill=\"lightsalmon\"/><text x=\"12.5%\" y=\"87.5%\" dominant-baseline=\"middle\" text-anchor=\"middle\" font-size=\"24\">8</text><rect x=\"100\" y=\"300\" width=\"100\" height=\"100\" stroke=\"white\" stroke-width=\"5px\" fill=\"tomato\"/><text x=\"37.5%\" y=\"87.5%\" dominant-baseline=\"middle\" text-anchor=\"middle\" font-size=\"24\">32</text><rect x=\"200\" y=\"300\" width=\"100\" height=\"100\" stroke=\"white\" stroke-width=\"5px\" fill=\"orangered\"/><text x=\"62.5%\" y=\"87.5%\" dominant-baseline=\"middle\" text-anchor=\"middle\" font-size=\"24\">64</text><rect x=\"300\" y=\"300\" width=\"100\" height=\"100\" stroke=\"white\" stroke-width=\"5px\" fill=\"wheat\"/><text x=\"87.5%\" y=\"87.5%\" dominant-baseline=\"middle\" text-anchor=\"middle\" font-size=\"24\">128</text></svg>"
      ],
      "text/plain": [
       "<IPython.core.display.HTML object>"
      ]
     },
     "metadata": {},
     "output_type": "display_data"
    },
    {
     "name": "stdout",
     "output_type": "stream",
     "text": [
      "\n",
      "Movimiento: Derecha\n",
      "Puntuacion: 876\n",
      "Numero de movimientos: 148\n"
     ]
    },
    {
     "data": {
      "text/html": [
       "<svg height=\"400\" width=\"400\"><rect x=\"0\" y=\"0\" width=\"100\" height=\"100\" stroke=\"white\" stroke-width=\"5px\" fill=\"silver\"/><rect x=\"100\" y=\"0\" width=\"100\" height=\"100\" stroke=\"white\" stroke-width=\"5px\" fill=\"silver\"/><rect x=\"200\" y=\"0\" width=\"100\" height=\"100\" stroke=\"white\" stroke-width=\"5px\" fill=\"ivory\"/><text x=\"62.5%\" y=\"12.5%\" dominant-baseline=\"middle\" text-anchor=\"middle\" font-size=\"24\">2</text><rect x=\"300\" y=\"0\" width=\"100\" height=\"100\" stroke=\"white\" stroke-width=\"5px\" fill=\"lightsalmon\"/><text x=\"87.5%\" y=\"12.5%\" dominant-baseline=\"middle\" text-anchor=\"middle\" font-size=\"24\">8</text><rect x=\"0\" y=\"100\" width=\"100\" height=\"100\" stroke=\"white\" stroke-width=\"5px\" fill=\"silver\"/><rect x=\"100\" y=\"100\" width=\"100\" height=\"100\" stroke=\"white\" stroke-width=\"5px\" fill=\"ivory\"/><text x=\"37.5%\" y=\"37.5%\" dominant-baseline=\"middle\" text-anchor=\"middle\" font-size=\"24\">2</text><rect x=\"200\" y=\"100\" width=\"100\" height=\"100\" stroke=\"white\" stroke-width=\"5px\" fill=\"lightsalmon\"/><text x=\"62.5%\" y=\"37.5%\" dominant-baseline=\"middle\" text-anchor=\"middle\" font-size=\"24\">8</text><rect x=\"300\" y=\"100\" width=\"100\" height=\"100\" stroke=\"white\" stroke-width=\"5px\" fill=\"darksalmon\"/><text x=\"87.5%\" y=\"37.5%\" dominant-baseline=\"middle\" text-anchor=\"middle\" font-size=\"24\">16</text><rect x=\"0\" y=\"200\" width=\"100\" height=\"100\" stroke=\"white\" stroke-width=\"5px\" fill=\"silver\"/><rect x=\"100\" y=\"200\" width=\"100\" height=\"100\" stroke=\"white\" stroke-width=\"5px\" fill=\"lightsalmon\"/><text x=\"37.5%\" y=\"62.5%\" dominant-baseline=\"middle\" text-anchor=\"middle\" font-size=\"24\">8</text><rect x=\"200\" y=\"200\" width=\"100\" height=\"100\" stroke=\"white\" stroke-width=\"5px\" fill=\"darksalmon\"/><text x=\"62.5%\" y=\"62.5%\" dominant-baseline=\"middle\" text-anchor=\"middle\" font-size=\"24\">16</text><rect x=\"300\" y=\"200\" width=\"100\" height=\"100\" stroke=\"white\" stroke-width=\"5px\" fill=\"tomato\"/><text x=\"87.5%\" y=\"62.5%\" dominant-baseline=\"middle\" text-anchor=\"middle\" font-size=\"24\">32</text><rect x=\"0\" y=\"300\" width=\"100\" height=\"100\" stroke=\"white\" stroke-width=\"5px\" fill=\"lightsalmon\"/><text x=\"12.5%\" y=\"87.5%\" dominant-baseline=\"middle\" text-anchor=\"middle\" font-size=\"24\">8</text><rect x=\"100\" y=\"300\" width=\"100\" height=\"100\" stroke=\"white\" stroke-width=\"5px\" fill=\"tomato\"/><text x=\"37.5%\" y=\"87.5%\" dominant-baseline=\"middle\" text-anchor=\"middle\" font-size=\"24\">32</text><rect x=\"200\" y=\"300\" width=\"100\" height=\"100\" stroke=\"white\" stroke-width=\"5px\" fill=\"orangered\"/><text x=\"62.5%\" y=\"87.5%\" dominant-baseline=\"middle\" text-anchor=\"middle\" font-size=\"24\">64</text><rect x=\"300\" y=\"300\" width=\"100\" height=\"100\" stroke=\"white\" stroke-width=\"5px\" fill=\"wheat\"/><text x=\"87.5%\" y=\"87.5%\" dominant-baseline=\"middle\" text-anchor=\"middle\" font-size=\"24\">128</text></svg>"
      ],
      "text/plain": [
       "<IPython.core.display.HTML object>"
      ]
     },
     "metadata": {},
     "output_type": "display_data"
    },
    {
     "name": "stdout",
     "output_type": "stream",
     "text": [
      "\n",
      "Movimiento: Abajo\n",
      "Puntuacion: 876\n",
      "Numero de movimientos: 149\n"
     ]
    },
    {
     "data": {
      "text/html": [
       "<svg height=\"400\" width=\"400\"><rect x=\"0\" y=\"0\" width=\"100\" height=\"100\" stroke=\"white\" stroke-width=\"5px\" fill=\"silver\"/><rect x=\"100\" y=\"0\" width=\"100\" height=\"100\" stroke=\"white\" stroke-width=\"5px\" fill=\"ivory\"/><text x=\"37.5%\" y=\"12.5%\" dominant-baseline=\"middle\" text-anchor=\"middle\" font-size=\"24\">2</text><rect x=\"200\" y=\"0\" width=\"100\" height=\"100\" stroke=\"white\" stroke-width=\"5px\" fill=\"ivory\"/><text x=\"62.5%\" y=\"12.5%\" dominant-baseline=\"middle\" text-anchor=\"middle\" font-size=\"24\">2</text><rect x=\"300\" y=\"0\" width=\"100\" height=\"100\" stroke=\"white\" stroke-width=\"5px\" fill=\"lightsalmon\"/><text x=\"87.5%\" y=\"12.5%\" dominant-baseline=\"middle\" text-anchor=\"middle\" font-size=\"24\">8</text><rect x=\"0\" y=\"100\" width=\"100\" height=\"100\" stroke=\"white\" stroke-width=\"5px\" fill=\"silver\"/><rect x=\"100\" y=\"100\" width=\"100\" height=\"100\" stroke=\"white\" stroke-width=\"5px\" fill=\"ivory\"/><text x=\"37.5%\" y=\"37.5%\" dominant-baseline=\"middle\" text-anchor=\"middle\" font-size=\"24\">2</text><rect x=\"200\" y=\"100\" width=\"100\" height=\"100\" stroke=\"white\" stroke-width=\"5px\" fill=\"lightsalmon\"/><text x=\"62.5%\" y=\"37.5%\" dominant-baseline=\"middle\" text-anchor=\"middle\" font-size=\"24\">8</text><rect x=\"300\" y=\"100\" width=\"100\" height=\"100\" stroke=\"white\" stroke-width=\"5px\" fill=\"darksalmon\"/><text x=\"87.5%\" y=\"37.5%\" dominant-baseline=\"middle\" text-anchor=\"middle\" font-size=\"24\">16</text><rect x=\"0\" y=\"200\" width=\"100\" height=\"100\" stroke=\"white\" stroke-width=\"5px\" fill=\"silver\"/><rect x=\"100\" y=\"200\" width=\"100\" height=\"100\" stroke=\"white\" stroke-width=\"5px\" fill=\"lightsalmon\"/><text x=\"37.5%\" y=\"62.5%\" dominant-baseline=\"middle\" text-anchor=\"middle\" font-size=\"24\">8</text><rect x=\"200\" y=\"200\" width=\"100\" height=\"100\" stroke=\"white\" stroke-width=\"5px\" fill=\"darksalmon\"/><text x=\"62.5%\" y=\"62.5%\" dominant-baseline=\"middle\" text-anchor=\"middle\" font-size=\"24\">16</text><rect x=\"300\" y=\"200\" width=\"100\" height=\"100\" stroke=\"white\" stroke-width=\"5px\" fill=\"tomato\"/><text x=\"87.5%\" y=\"62.5%\" dominant-baseline=\"middle\" text-anchor=\"middle\" font-size=\"24\">32</text><rect x=\"0\" y=\"300\" width=\"100\" height=\"100\" stroke=\"white\" stroke-width=\"5px\" fill=\"lightsalmon\"/><text x=\"12.5%\" y=\"87.5%\" dominant-baseline=\"middle\" text-anchor=\"middle\" font-size=\"24\">8</text><rect x=\"100\" y=\"300\" width=\"100\" height=\"100\" stroke=\"white\" stroke-width=\"5px\" fill=\"tomato\"/><text x=\"37.5%\" y=\"87.5%\" dominant-baseline=\"middle\" text-anchor=\"middle\" font-size=\"24\">32</text><rect x=\"200\" y=\"300\" width=\"100\" height=\"100\" stroke=\"white\" stroke-width=\"5px\" fill=\"orangered\"/><text x=\"62.5%\" y=\"87.5%\" dominant-baseline=\"middle\" text-anchor=\"middle\" font-size=\"24\">64</text><rect x=\"300\" y=\"300\" width=\"100\" height=\"100\" stroke=\"white\" stroke-width=\"5px\" fill=\"wheat\"/><text x=\"87.5%\" y=\"87.5%\" dominant-baseline=\"middle\" text-anchor=\"middle\" font-size=\"24\">128</text></svg>"
      ],
      "text/plain": [
       "<IPython.core.display.HTML object>"
      ]
     },
     "metadata": {},
     "output_type": "display_data"
    },
    {
     "name": "stdout",
     "output_type": "stream",
     "text": [
      "\n",
      "Movimiento: Derecha\n",
      "Puntuacion: 876\n",
      "Numero de movimientos: 150\n"
     ]
    },
    {
     "data": {
      "text/html": [
       "<svg height=\"400\" width=\"400\"><rect x=\"0\" y=\"0\" width=\"100\" height=\"100\" stroke=\"white\" stroke-width=\"5px\" fill=\"silver\"/><rect x=\"100\" y=\"0\" width=\"100\" height=\"100\" stroke=\"white\" stroke-width=\"5px\" fill=\"silver\"/><rect x=\"200\" y=\"0\" width=\"100\" height=\"100\" stroke=\"white\" stroke-width=\"5px\" fill=\"ivory\"/><text x=\"62.5%\" y=\"12.5%\" dominant-baseline=\"middle\" text-anchor=\"middle\" font-size=\"24\">2</text><rect x=\"300\" y=\"0\" width=\"100\" height=\"100\" stroke=\"white\" stroke-width=\"5px\" fill=\"lightsalmon\"/><text x=\"87.5%\" y=\"12.5%\" dominant-baseline=\"middle\" text-anchor=\"middle\" font-size=\"24\">8</text><rect x=\"0\" y=\"100\" width=\"100\" height=\"100\" stroke=\"white\" stroke-width=\"5px\" fill=\"antiquewhite\"/><text x=\"12.5%\" y=\"37.5%\" dominant-baseline=\"middle\" text-anchor=\"middle\" font-size=\"24\">4</text><rect x=\"100\" y=\"100\" width=\"100\" height=\"100\" stroke=\"white\" stroke-width=\"5px\" fill=\"antiquewhite\"/><text x=\"37.5%\" y=\"37.5%\" dominant-baseline=\"middle\" text-anchor=\"middle\" font-size=\"24\">4</text><rect x=\"200\" y=\"100\" width=\"100\" height=\"100\" stroke=\"white\" stroke-width=\"5px\" fill=\"lightsalmon\"/><text x=\"62.5%\" y=\"37.5%\" dominant-baseline=\"middle\" text-anchor=\"middle\" font-size=\"24\">8</text><rect x=\"300\" y=\"100\" width=\"100\" height=\"100\" stroke=\"white\" stroke-width=\"5px\" fill=\"darksalmon\"/><text x=\"87.5%\" y=\"37.5%\" dominant-baseline=\"middle\" text-anchor=\"middle\" font-size=\"24\">16</text><rect x=\"0\" y=\"200\" width=\"100\" height=\"100\" stroke=\"white\" stroke-width=\"5px\" fill=\"silver\"/><rect x=\"100\" y=\"200\" width=\"100\" height=\"100\" stroke=\"white\" stroke-width=\"5px\" fill=\"lightsalmon\"/><text x=\"37.5%\" y=\"62.5%\" dominant-baseline=\"middle\" text-anchor=\"middle\" font-size=\"24\">8</text><rect x=\"200\" y=\"200\" width=\"100\" height=\"100\" stroke=\"white\" stroke-width=\"5px\" fill=\"darksalmon\"/><text x=\"62.5%\" y=\"62.5%\" dominant-baseline=\"middle\" text-anchor=\"middle\" font-size=\"24\">16</text><rect x=\"300\" y=\"200\" width=\"100\" height=\"100\" stroke=\"white\" stroke-width=\"5px\" fill=\"tomato\"/><text x=\"87.5%\" y=\"62.5%\" dominant-baseline=\"middle\" text-anchor=\"middle\" font-size=\"24\">32</text><rect x=\"0\" y=\"300\" width=\"100\" height=\"100\" stroke=\"white\" stroke-width=\"5px\" fill=\"lightsalmon\"/><text x=\"12.5%\" y=\"87.5%\" dominant-baseline=\"middle\" text-anchor=\"middle\" font-size=\"24\">8</text><rect x=\"100\" y=\"300\" width=\"100\" height=\"100\" stroke=\"white\" stroke-width=\"5px\" fill=\"tomato\"/><text x=\"37.5%\" y=\"87.5%\" dominant-baseline=\"middle\" text-anchor=\"middle\" font-size=\"24\">32</text><rect x=\"200\" y=\"300\" width=\"100\" height=\"100\" stroke=\"white\" stroke-width=\"5px\" fill=\"orangered\"/><text x=\"62.5%\" y=\"87.5%\" dominant-baseline=\"middle\" text-anchor=\"middle\" font-size=\"24\">64</text><rect x=\"300\" y=\"300\" width=\"100\" height=\"100\" stroke=\"white\" stroke-width=\"5px\" fill=\"wheat\"/><text x=\"87.5%\" y=\"87.5%\" dominant-baseline=\"middle\" text-anchor=\"middle\" font-size=\"24\">128</text></svg>"
      ],
      "text/plain": [
       "<IPython.core.display.HTML object>"
      ]
     },
     "metadata": {},
     "output_type": "display_data"
    },
    {
     "name": "stdout",
     "output_type": "stream",
     "text": [
      "\n",
      "Movimiento: Derecha\n",
      "Puntuacion: 876\n",
      "Numero de movimientos: 151\n"
     ]
    },
    {
     "data": {
      "text/html": [
       "<svg height=\"400\" width=\"400\"><rect x=\"0\" y=\"0\" width=\"100\" height=\"100\" stroke=\"white\" stroke-width=\"5px\" fill=\"antiquewhite\"/><text x=\"12.5%\" y=\"12.5%\" dominant-baseline=\"middle\" text-anchor=\"middle\" font-size=\"24\">4</text><rect x=\"100\" y=\"0\" width=\"100\" height=\"100\" stroke=\"white\" stroke-width=\"5px\" fill=\"silver\"/><rect x=\"200\" y=\"0\" width=\"100\" height=\"100\" stroke=\"white\" stroke-width=\"5px\" fill=\"ivory\"/><text x=\"62.5%\" y=\"12.5%\" dominant-baseline=\"middle\" text-anchor=\"middle\" font-size=\"24\">2</text><rect x=\"300\" y=\"0\" width=\"100\" height=\"100\" stroke=\"white\" stroke-width=\"5px\" fill=\"lightsalmon\"/><text x=\"87.5%\" y=\"12.5%\" dominant-baseline=\"middle\" text-anchor=\"middle\" font-size=\"24\">8</text><rect x=\"0\" y=\"100\" width=\"100\" height=\"100\" stroke=\"white\" stroke-width=\"5px\" fill=\"silver\"/><rect x=\"100\" y=\"100\" width=\"100\" height=\"100\" stroke=\"white\" stroke-width=\"5px\" fill=\"antiquewhite\"/><text x=\"37.5%\" y=\"37.5%\" dominant-baseline=\"middle\" text-anchor=\"middle\" font-size=\"24\">4</text><rect x=\"200\" y=\"100\" width=\"100\" height=\"100\" stroke=\"white\" stroke-width=\"5px\" fill=\"lightsalmon\"/><text x=\"62.5%\" y=\"37.5%\" dominant-baseline=\"middle\" text-anchor=\"middle\" font-size=\"24\">8</text><rect x=\"300\" y=\"100\" width=\"100\" height=\"100\" stroke=\"white\" stroke-width=\"5px\" fill=\"darksalmon\"/><text x=\"87.5%\" y=\"37.5%\" dominant-baseline=\"middle\" text-anchor=\"middle\" font-size=\"24\">16</text><rect x=\"0\" y=\"200\" width=\"100\" height=\"100\" stroke=\"white\" stroke-width=\"5px\" fill=\"antiquewhite\"/><text x=\"12.5%\" y=\"62.5%\" dominant-baseline=\"middle\" text-anchor=\"middle\" font-size=\"24\">4</text><rect x=\"100\" y=\"200\" width=\"100\" height=\"100\" stroke=\"white\" stroke-width=\"5px\" fill=\"lightsalmon\"/><text x=\"37.5%\" y=\"62.5%\" dominant-baseline=\"middle\" text-anchor=\"middle\" font-size=\"24\">8</text><rect x=\"200\" y=\"200\" width=\"100\" height=\"100\" stroke=\"white\" stroke-width=\"5px\" fill=\"darksalmon\"/><text x=\"62.5%\" y=\"62.5%\" dominant-baseline=\"middle\" text-anchor=\"middle\" font-size=\"24\">16</text><rect x=\"300\" y=\"200\" width=\"100\" height=\"100\" stroke=\"white\" stroke-width=\"5px\" fill=\"tomato\"/><text x=\"87.5%\" y=\"62.5%\" dominant-baseline=\"middle\" text-anchor=\"middle\" font-size=\"24\">32</text><rect x=\"0\" y=\"300\" width=\"100\" height=\"100\" stroke=\"white\" stroke-width=\"5px\" fill=\"lightsalmon\"/><text x=\"12.5%\" y=\"87.5%\" dominant-baseline=\"middle\" text-anchor=\"middle\" font-size=\"24\">8</text><rect x=\"100\" y=\"300\" width=\"100\" height=\"100\" stroke=\"white\" stroke-width=\"5px\" fill=\"tomato\"/><text x=\"37.5%\" y=\"87.5%\" dominant-baseline=\"middle\" text-anchor=\"middle\" font-size=\"24\">32</text><rect x=\"200\" y=\"300\" width=\"100\" height=\"100\" stroke=\"white\" stroke-width=\"5px\" fill=\"orangered\"/><text x=\"62.5%\" y=\"87.5%\" dominant-baseline=\"middle\" text-anchor=\"middle\" font-size=\"24\">64</text><rect x=\"300\" y=\"300\" width=\"100\" height=\"100\" stroke=\"white\" stroke-width=\"5px\" fill=\"wheat\"/><text x=\"87.5%\" y=\"87.5%\" dominant-baseline=\"middle\" text-anchor=\"middle\" font-size=\"24\">128</text></svg>"
      ],
      "text/plain": [
       "<IPython.core.display.HTML object>"
      ]
     },
     "metadata": {},
     "output_type": "display_data"
    },
    {
     "name": "stdout",
     "output_type": "stream",
     "text": [
      "\n",
      "Movimiento: Derecha\n",
      "Puntuacion: 892\n",
      "Numero de movimientos: 152\n"
     ]
    },
    {
     "data": {
      "text/html": [
       "<svg height=\"400\" width=\"400\"><rect x=\"0\" y=\"0\" width=\"100\" height=\"100\" stroke=\"white\" stroke-width=\"5px\" fill=\"silver\"/><rect x=\"100\" y=\"0\" width=\"100\" height=\"100\" stroke=\"white\" stroke-width=\"5px\" fill=\"ivory\"/><text x=\"37.5%\" y=\"12.5%\" dominant-baseline=\"middle\" text-anchor=\"middle\" font-size=\"24\">2</text><rect x=\"200\" y=\"0\" width=\"100\" height=\"100\" stroke=\"white\" stroke-width=\"5px\" fill=\"ivory\"/><text x=\"62.5%\" y=\"12.5%\" dominant-baseline=\"middle\" text-anchor=\"middle\" font-size=\"24\">2</text><rect x=\"300\" y=\"0\" width=\"100\" height=\"100\" stroke=\"white\" stroke-width=\"5px\" fill=\"lightsalmon\"/><text x=\"87.5%\" y=\"12.5%\" dominant-baseline=\"middle\" text-anchor=\"middle\" font-size=\"24\">8</text><rect x=\"0\" y=\"100\" width=\"100\" height=\"100\" stroke=\"white\" stroke-width=\"5px\" fill=\"silver\"/><rect x=\"100\" y=\"100\" width=\"100\" height=\"100\" stroke=\"white\" stroke-width=\"5px\" fill=\"antiquewhite\"/><text x=\"37.5%\" y=\"37.5%\" dominant-baseline=\"middle\" text-anchor=\"middle\" font-size=\"24\">4</text><rect x=\"200\" y=\"100\" width=\"100\" height=\"100\" stroke=\"white\" stroke-width=\"5px\" fill=\"lightsalmon\"/><text x=\"62.5%\" y=\"37.5%\" dominant-baseline=\"middle\" text-anchor=\"middle\" font-size=\"24\">8</text><rect x=\"300\" y=\"100\" width=\"100\" height=\"100\" stroke=\"white\" stroke-width=\"5px\" fill=\"darksalmon\"/><text x=\"87.5%\" y=\"37.5%\" dominant-baseline=\"middle\" text-anchor=\"middle\" font-size=\"24\">16</text><rect x=\"0\" y=\"200\" width=\"100\" height=\"100\" stroke=\"white\" stroke-width=\"5px\" fill=\"silver\"/><rect x=\"100\" y=\"200\" width=\"100\" height=\"100\" stroke=\"white\" stroke-width=\"5px\" fill=\"darksalmon\"/><text x=\"37.5%\" y=\"62.5%\" dominant-baseline=\"middle\" text-anchor=\"middle\" font-size=\"24\">16</text><rect x=\"200\" y=\"200\" width=\"100\" height=\"100\" stroke=\"white\" stroke-width=\"5px\" fill=\"darksalmon\"/><text x=\"62.5%\" y=\"62.5%\" dominant-baseline=\"middle\" text-anchor=\"middle\" font-size=\"24\">16</text><rect x=\"300\" y=\"200\" width=\"100\" height=\"100\" stroke=\"white\" stroke-width=\"5px\" fill=\"tomato\"/><text x=\"87.5%\" y=\"62.5%\" dominant-baseline=\"middle\" text-anchor=\"middle\" font-size=\"24\">32</text><rect x=\"0\" y=\"300\" width=\"100\" height=\"100\" stroke=\"white\" stroke-width=\"5px\" fill=\"lightsalmon\"/><text x=\"12.5%\" y=\"87.5%\" dominant-baseline=\"middle\" text-anchor=\"middle\" font-size=\"24\">8</text><rect x=\"100\" y=\"300\" width=\"100\" height=\"100\" stroke=\"white\" stroke-width=\"5px\" fill=\"tomato\"/><text x=\"37.5%\" y=\"87.5%\" dominant-baseline=\"middle\" text-anchor=\"middle\" font-size=\"24\">32</text><rect x=\"200\" y=\"300\" width=\"100\" height=\"100\" stroke=\"white\" stroke-width=\"5px\" fill=\"orangered\"/><text x=\"62.5%\" y=\"87.5%\" dominant-baseline=\"middle\" text-anchor=\"middle\" font-size=\"24\">64</text><rect x=\"300\" y=\"300\" width=\"100\" height=\"100\" stroke=\"white\" stroke-width=\"5px\" fill=\"wheat\"/><text x=\"87.5%\" y=\"87.5%\" dominant-baseline=\"middle\" text-anchor=\"middle\" font-size=\"24\">128</text></svg>"
      ],
      "text/plain": [
       "<IPython.core.display.HTML object>"
      ]
     },
     "metadata": {},
     "output_type": "display_data"
    },
    {
     "name": "stdout",
     "output_type": "stream",
     "text": [
      "\n",
      "Movimiento: Abajo\n",
      "Puntuacion: 892\n",
      "Numero de movimientos: 153\n"
     ]
    },
    {
     "data": {
      "text/html": [
       "<svg height=\"400\" width=\"400\"><rect x=\"0\" y=\"0\" width=\"100\" height=\"100\" stroke=\"white\" stroke-width=\"5px\" fill=\"silver\"/><rect x=\"100\" y=\"0\" width=\"100\" height=\"100\" stroke=\"white\" stroke-width=\"5px\" fill=\"ivory\"/><text x=\"37.5%\" y=\"12.5%\" dominant-baseline=\"middle\" text-anchor=\"middle\" font-size=\"24\">2</text><rect x=\"200\" y=\"0\" width=\"100\" height=\"100\" stroke=\"white\" stroke-width=\"5px\" fill=\"ivory\"/><text x=\"62.5%\" y=\"12.5%\" dominant-baseline=\"middle\" text-anchor=\"middle\" font-size=\"24\">2</text><rect x=\"300\" y=\"0\" width=\"100\" height=\"100\" stroke=\"white\" stroke-width=\"5px\" fill=\"lightsalmon\"/><text x=\"87.5%\" y=\"12.5%\" dominant-baseline=\"middle\" text-anchor=\"middle\" font-size=\"24\">8</text><rect x=\"0\" y=\"100\" width=\"100\" height=\"100\" stroke=\"white\" stroke-width=\"5px\" fill=\"ivory\"/><text x=\"12.5%\" y=\"37.5%\" dominant-baseline=\"middle\" text-anchor=\"middle\" font-size=\"24\">2</text><rect x=\"100\" y=\"100\" width=\"100\" height=\"100\" stroke=\"white\" stroke-width=\"5px\" fill=\"antiquewhite\"/><text x=\"37.5%\" y=\"37.5%\" dominant-baseline=\"middle\" text-anchor=\"middle\" font-size=\"24\">4</text><rect x=\"200\" y=\"100\" width=\"100\" height=\"100\" stroke=\"white\" stroke-width=\"5px\" fill=\"lightsalmon\"/><text x=\"62.5%\" y=\"37.5%\" dominant-baseline=\"middle\" text-anchor=\"middle\" font-size=\"24\">8</text><rect x=\"300\" y=\"100\" width=\"100\" height=\"100\" stroke=\"white\" stroke-width=\"5px\" fill=\"darksalmon\"/><text x=\"87.5%\" y=\"37.5%\" dominant-baseline=\"middle\" text-anchor=\"middle\" font-size=\"24\">16</text><rect x=\"0\" y=\"200\" width=\"100\" height=\"100\" stroke=\"white\" stroke-width=\"5px\" fill=\"silver\"/><rect x=\"100\" y=\"200\" width=\"100\" height=\"100\" stroke=\"white\" stroke-width=\"5px\" fill=\"darksalmon\"/><text x=\"37.5%\" y=\"62.5%\" dominant-baseline=\"middle\" text-anchor=\"middle\" font-size=\"24\">16</text><rect x=\"200\" y=\"200\" width=\"100\" height=\"100\" stroke=\"white\" stroke-width=\"5px\" fill=\"darksalmon\"/><text x=\"62.5%\" y=\"62.5%\" dominant-baseline=\"middle\" text-anchor=\"middle\" font-size=\"24\">16</text><rect x=\"300\" y=\"200\" width=\"100\" height=\"100\" stroke=\"white\" stroke-width=\"5px\" fill=\"tomato\"/><text x=\"87.5%\" y=\"62.5%\" dominant-baseline=\"middle\" text-anchor=\"middle\" font-size=\"24\">32</text><rect x=\"0\" y=\"300\" width=\"100\" height=\"100\" stroke=\"white\" stroke-width=\"5px\" fill=\"lightsalmon\"/><text x=\"12.5%\" y=\"87.5%\" dominant-baseline=\"middle\" text-anchor=\"middle\" font-size=\"24\">8</text><rect x=\"100\" y=\"300\" width=\"100\" height=\"100\" stroke=\"white\" stroke-width=\"5px\" fill=\"tomato\"/><text x=\"37.5%\" y=\"87.5%\" dominant-baseline=\"middle\" text-anchor=\"middle\" font-size=\"24\">32</text><rect x=\"200\" y=\"300\" width=\"100\" height=\"100\" stroke=\"white\" stroke-width=\"5px\" fill=\"orangered\"/><text x=\"62.5%\" y=\"87.5%\" dominant-baseline=\"middle\" text-anchor=\"middle\" font-size=\"24\">64</text><rect x=\"300\" y=\"300\" width=\"100\" height=\"100\" stroke=\"white\" stroke-width=\"5px\" fill=\"wheat\"/><text x=\"87.5%\" y=\"87.5%\" dominant-baseline=\"middle\" text-anchor=\"middle\" font-size=\"24\">128</text></svg>"
      ],
      "text/plain": [
       "<IPython.core.display.HTML object>"
      ]
     },
     "metadata": {},
     "output_type": "display_data"
    },
    {
     "name": "stdout",
     "output_type": "stream",
     "text": [
      "\n",
      "Movimiento: Derecha\n",
      "Puntuacion: 928\n",
      "Numero de movimientos: 154\n"
     ]
    },
    {
     "data": {
      "text/html": [
       "<svg height=\"400\" width=\"400\"><rect x=\"0\" y=\"0\" width=\"100\" height=\"100\" stroke=\"white\" stroke-width=\"5px\" fill=\"silver\"/><rect x=\"100\" y=\"0\" width=\"100\" height=\"100\" stroke=\"white\" stroke-width=\"5px\" fill=\"silver\"/><rect x=\"200\" y=\"0\" width=\"100\" height=\"100\" stroke=\"white\" stroke-width=\"5px\" fill=\"antiquewhite\"/><text x=\"62.5%\" y=\"12.5%\" dominant-baseline=\"middle\" text-anchor=\"middle\" font-size=\"24\">4</text><rect x=\"300\" y=\"0\" width=\"100\" height=\"100\" stroke=\"white\" stroke-width=\"5px\" fill=\"lightsalmon\"/><text x=\"87.5%\" y=\"12.5%\" dominant-baseline=\"middle\" text-anchor=\"middle\" font-size=\"24\">8</text><rect x=\"0\" y=\"100\" width=\"100\" height=\"100\" stroke=\"white\" stroke-width=\"5px\" fill=\"ivory\"/><text x=\"12.5%\" y=\"37.5%\" dominant-baseline=\"middle\" text-anchor=\"middle\" font-size=\"24\">2</text><rect x=\"100\" y=\"100\" width=\"100\" height=\"100\" stroke=\"white\" stroke-width=\"5px\" fill=\"antiquewhite\"/><text x=\"37.5%\" y=\"37.5%\" dominant-baseline=\"middle\" text-anchor=\"middle\" font-size=\"24\">4</text><rect x=\"200\" y=\"100\" width=\"100\" height=\"100\" stroke=\"white\" stroke-width=\"5px\" fill=\"lightsalmon\"/><text x=\"62.5%\" y=\"37.5%\" dominant-baseline=\"middle\" text-anchor=\"middle\" font-size=\"24\">8</text><rect x=\"300\" y=\"100\" width=\"100\" height=\"100\" stroke=\"white\" stroke-width=\"5px\" fill=\"darksalmon\"/><text x=\"87.5%\" y=\"37.5%\" dominant-baseline=\"middle\" text-anchor=\"middle\" font-size=\"24\">16</text><rect x=\"0\" y=\"200\" width=\"100\" height=\"100\" stroke=\"white\" stroke-width=\"5px\" fill=\"silver\"/><rect x=\"100\" y=\"200\" width=\"100\" height=\"100\" stroke=\"white\" stroke-width=\"5px\" fill=\"ivory\"/><text x=\"37.5%\" y=\"62.5%\" dominant-baseline=\"middle\" text-anchor=\"middle\" font-size=\"24\">2</text><rect x=\"200\" y=\"200\" width=\"100\" height=\"100\" stroke=\"white\" stroke-width=\"5px\" fill=\"tomato\"/><text x=\"62.5%\" y=\"62.5%\" dominant-baseline=\"middle\" text-anchor=\"middle\" font-size=\"24\">32</text><rect x=\"300\" y=\"200\" width=\"100\" height=\"100\" stroke=\"white\" stroke-width=\"5px\" fill=\"tomato\"/><text x=\"87.5%\" y=\"62.5%\" dominant-baseline=\"middle\" text-anchor=\"middle\" font-size=\"24\">32</text><rect x=\"0\" y=\"300\" width=\"100\" height=\"100\" stroke=\"white\" stroke-width=\"5px\" fill=\"lightsalmon\"/><text x=\"12.5%\" y=\"87.5%\" dominant-baseline=\"middle\" text-anchor=\"middle\" font-size=\"24\">8</text><rect x=\"100\" y=\"300\" width=\"100\" height=\"100\" stroke=\"white\" stroke-width=\"5px\" fill=\"tomato\"/><text x=\"37.5%\" y=\"87.5%\" dominant-baseline=\"middle\" text-anchor=\"middle\" font-size=\"24\">32</text><rect x=\"200\" y=\"300\" width=\"100\" height=\"100\" stroke=\"white\" stroke-width=\"5px\" fill=\"orangered\"/><text x=\"62.5%\" y=\"87.5%\" dominant-baseline=\"middle\" text-anchor=\"middle\" font-size=\"24\">64</text><rect x=\"300\" y=\"300\" width=\"100\" height=\"100\" stroke=\"white\" stroke-width=\"5px\" fill=\"wheat\"/><text x=\"87.5%\" y=\"87.5%\" dominant-baseline=\"middle\" text-anchor=\"middle\" font-size=\"24\">128</text></svg>"
      ],
      "text/plain": [
       "<IPython.core.display.HTML object>"
      ]
     },
     "metadata": {},
     "output_type": "display_data"
    },
    {
     "name": "stdout",
     "output_type": "stream",
     "text": [
      "\n",
      "Movimiento: Derecha\n",
      "Puntuacion: 996\n",
      "Numero de movimientos: 155\n"
     ]
    },
    {
     "data": {
      "text/html": [
       "<svg height=\"400\" width=\"400\"><rect x=\"0\" y=\"0\" width=\"100\" height=\"100\" stroke=\"white\" stroke-width=\"5px\" fill=\"silver\"/><rect x=\"100\" y=\"0\" width=\"100\" height=\"100\" stroke=\"white\" stroke-width=\"5px\" fill=\"silver\"/><rect x=\"200\" y=\"0\" width=\"100\" height=\"100\" stroke=\"white\" stroke-width=\"5px\" fill=\"antiquewhite\"/><text x=\"62.5%\" y=\"12.5%\" dominant-baseline=\"middle\" text-anchor=\"middle\" font-size=\"24\">4</text><rect x=\"300\" y=\"0\" width=\"100\" height=\"100\" stroke=\"white\" stroke-width=\"5px\" fill=\"lightsalmon\"/><text x=\"87.5%\" y=\"12.5%\" dominant-baseline=\"middle\" text-anchor=\"middle\" font-size=\"24\">8</text><rect x=\"0\" y=\"100\" width=\"100\" height=\"100\" stroke=\"white\" stroke-width=\"5px\" fill=\"ivory\"/><text x=\"12.5%\" y=\"37.5%\" dominant-baseline=\"middle\" text-anchor=\"middle\" font-size=\"24\">2</text><rect x=\"100\" y=\"100\" width=\"100\" height=\"100\" stroke=\"white\" stroke-width=\"5px\" fill=\"antiquewhite\"/><text x=\"37.5%\" y=\"37.5%\" dominant-baseline=\"middle\" text-anchor=\"middle\" font-size=\"24\">4</text><rect x=\"200\" y=\"100\" width=\"100\" height=\"100\" stroke=\"white\" stroke-width=\"5px\" fill=\"lightsalmon\"/><text x=\"62.5%\" y=\"37.5%\" dominant-baseline=\"middle\" text-anchor=\"middle\" font-size=\"24\">8</text><rect x=\"300\" y=\"100\" width=\"100\" height=\"100\" stroke=\"white\" stroke-width=\"5px\" fill=\"darksalmon\"/><text x=\"87.5%\" y=\"37.5%\" dominant-baseline=\"middle\" text-anchor=\"middle\" font-size=\"24\">16</text><rect x=\"0\" y=\"200\" width=\"100\" height=\"100\" stroke=\"white\" stroke-width=\"5px\" fill=\"silver\"/><rect x=\"100\" y=\"200\" width=\"100\" height=\"100\" stroke=\"white\" stroke-width=\"5px\" fill=\"silver\"/><rect x=\"200\" y=\"200\" width=\"100\" height=\"100\" stroke=\"white\" stroke-width=\"5px\" fill=\"antiquewhite\"/><text x=\"62.5%\" y=\"62.5%\" dominant-baseline=\"middle\" text-anchor=\"middle\" font-size=\"24\">4</text><rect x=\"300\" y=\"200\" width=\"100\" height=\"100\" stroke=\"white\" stroke-width=\"5px\" fill=\"orangered\"/><text x=\"87.5%\" y=\"62.5%\" dominant-baseline=\"middle\" text-anchor=\"middle\" font-size=\"24\">64</text><rect x=\"0\" y=\"300\" width=\"100\" height=\"100\" stroke=\"white\" stroke-width=\"5px\" fill=\"lightsalmon\"/><text x=\"12.5%\" y=\"87.5%\" dominant-baseline=\"middle\" text-anchor=\"middle\" font-size=\"24\">8</text><rect x=\"100\" y=\"300\" width=\"100\" height=\"100\" stroke=\"white\" stroke-width=\"5px\" fill=\"tomato\"/><text x=\"37.5%\" y=\"87.5%\" dominant-baseline=\"middle\" text-anchor=\"middle\" font-size=\"24\">32</text><rect x=\"200\" y=\"300\" width=\"100\" height=\"100\" stroke=\"white\" stroke-width=\"5px\" fill=\"orangered\"/><text x=\"62.5%\" y=\"87.5%\" dominant-baseline=\"middle\" text-anchor=\"middle\" font-size=\"24\">64</text><rect x=\"300\" y=\"300\" width=\"100\" height=\"100\" stroke=\"white\" stroke-width=\"5px\" fill=\"wheat\"/><text x=\"87.5%\" y=\"87.5%\" dominant-baseline=\"middle\" text-anchor=\"middle\" font-size=\"24\">128</text></svg>"
      ],
      "text/plain": [
       "<IPython.core.display.HTML object>"
      ]
     },
     "metadata": {},
     "output_type": "display_data"
    },
    {
     "name": "stdout",
     "output_type": "stream",
     "text": [
      "\n",
      "Movimiento: Derecha\n",
      "Puntuacion: 1004\n",
      "Numero de movimientos: 156\n"
     ]
    },
    {
     "data": {
      "text/html": [
       "<svg height=\"400\" width=\"400\"><rect x=\"0\" y=\"0\" width=\"100\" height=\"100\" stroke=\"white\" stroke-width=\"5px\" fill=\"silver\"/><rect x=\"100\" y=\"0\" width=\"100\" height=\"100\" stroke=\"white\" stroke-width=\"5px\" fill=\"silver\"/><rect x=\"200\" y=\"0\" width=\"100\" height=\"100\" stroke=\"white\" stroke-width=\"5px\" fill=\"antiquewhite\"/><text x=\"62.5%\" y=\"12.5%\" dominant-baseline=\"middle\" text-anchor=\"middle\" font-size=\"24\">4</text><rect x=\"300\" y=\"0\" width=\"100\" height=\"100\" stroke=\"white\" stroke-width=\"5px\" fill=\"lightsalmon\"/><text x=\"87.5%\" y=\"12.5%\" dominant-baseline=\"middle\" text-anchor=\"middle\" font-size=\"24\">8</text><rect x=\"0\" y=\"100\" width=\"100\" height=\"100\" stroke=\"white\" stroke-width=\"5px\" fill=\"silver\"/><rect x=\"100\" y=\"100\" width=\"100\" height=\"100\" stroke=\"white\" stroke-width=\"5px\" fill=\"ivory\"/><text x=\"37.5%\" y=\"37.5%\" dominant-baseline=\"middle\" text-anchor=\"middle\" font-size=\"24\">2</text><rect x=\"200\" y=\"100\" width=\"100\" height=\"100\" stroke=\"white\" stroke-width=\"5px\" fill=\"lightsalmon\"/><text x=\"62.5%\" y=\"37.5%\" dominant-baseline=\"middle\" text-anchor=\"middle\" font-size=\"24\">8</text><rect x=\"300\" y=\"100\" width=\"100\" height=\"100\" stroke=\"white\" stroke-width=\"5px\" fill=\"darksalmon\"/><text x=\"87.5%\" y=\"37.5%\" dominant-baseline=\"middle\" text-anchor=\"middle\" font-size=\"24\">16</text><rect x=\"0\" y=\"200\" width=\"100\" height=\"100\" stroke=\"white\" stroke-width=\"5px\" fill=\"silver\"/><rect x=\"100\" y=\"200\" width=\"100\" height=\"100\" stroke=\"white\" stroke-width=\"5px\" fill=\"ivory\"/><text x=\"37.5%\" y=\"62.5%\" dominant-baseline=\"middle\" text-anchor=\"middle\" font-size=\"24\">2</text><rect x=\"200\" y=\"200\" width=\"100\" height=\"100\" stroke=\"white\" stroke-width=\"5px\" fill=\"lightsalmon\"/><text x=\"62.5%\" y=\"62.5%\" dominant-baseline=\"middle\" text-anchor=\"middle\" font-size=\"24\">8</text><rect x=\"300\" y=\"200\" width=\"100\" height=\"100\" stroke=\"white\" stroke-width=\"5px\" fill=\"orangered\"/><text x=\"87.5%\" y=\"62.5%\" dominant-baseline=\"middle\" text-anchor=\"middle\" font-size=\"24\">64</text><rect x=\"0\" y=\"300\" width=\"100\" height=\"100\" stroke=\"white\" stroke-width=\"5px\" fill=\"lightsalmon\"/><text x=\"12.5%\" y=\"87.5%\" dominant-baseline=\"middle\" text-anchor=\"middle\" font-size=\"24\">8</text><rect x=\"100\" y=\"300\" width=\"100\" height=\"100\" stroke=\"white\" stroke-width=\"5px\" fill=\"tomato\"/><text x=\"37.5%\" y=\"87.5%\" dominant-baseline=\"middle\" text-anchor=\"middle\" font-size=\"24\">32</text><rect x=\"200\" y=\"300\" width=\"100\" height=\"100\" stroke=\"white\" stroke-width=\"5px\" fill=\"orangered\"/><text x=\"62.5%\" y=\"87.5%\" dominant-baseline=\"middle\" text-anchor=\"middle\" font-size=\"24\">64</text><rect x=\"300\" y=\"300\" width=\"100\" height=\"100\" stroke=\"white\" stroke-width=\"5px\" fill=\"wheat\"/><text x=\"87.5%\" y=\"87.5%\" dominant-baseline=\"middle\" text-anchor=\"middle\" font-size=\"24\">128</text></svg>"
      ],
      "text/plain": [
       "<IPython.core.display.HTML object>"
      ]
     },
     "metadata": {},
     "output_type": "display_data"
    },
    {
     "name": "stdout",
     "output_type": "stream",
     "text": [
      "\n",
      "Movimiento: Derecha\n",
      "Puntuacion: 1004\n",
      "Numero de movimientos: 157\n"
     ]
    },
    {
     "data": {
      "text/html": [
       "<svg height=\"400\" width=\"400\"><rect x=\"0\" y=\"0\" width=\"100\" height=\"100\" stroke=\"white\" stroke-width=\"5px\" fill=\"silver\"/><rect x=\"100\" y=\"0\" width=\"100\" height=\"100\" stroke=\"white\" stroke-width=\"5px\" fill=\"silver\"/><rect x=\"200\" y=\"0\" width=\"100\" height=\"100\" stroke=\"white\" stroke-width=\"5px\" fill=\"silver\"/><rect x=\"300\" y=\"0\" width=\"100\" height=\"100\" stroke=\"white\" stroke-width=\"5px\" fill=\"lightsalmon\"/><text x=\"87.5%\" y=\"12.5%\" dominant-baseline=\"middle\" text-anchor=\"middle\" font-size=\"24\">8</text><rect x=\"0\" y=\"100\" width=\"100\" height=\"100\" stroke=\"white\" stroke-width=\"5px\" fill=\"ivory\"/><text x=\"12.5%\" y=\"37.5%\" dominant-baseline=\"middle\" text-anchor=\"middle\" font-size=\"24\">2</text><rect x=\"100\" y=\"100\" width=\"100\" height=\"100\" stroke=\"white\" stroke-width=\"5px\" fill=\"silver\"/><rect x=\"200\" y=\"100\" width=\"100\" height=\"100\" stroke=\"white\" stroke-width=\"5px\" fill=\"antiquewhite\"/><text x=\"62.5%\" y=\"37.5%\" dominant-baseline=\"middle\" text-anchor=\"middle\" font-size=\"24\">4</text><rect x=\"300\" y=\"100\" width=\"100\" height=\"100\" stroke=\"white\" stroke-width=\"5px\" fill=\"darksalmon\"/><text x=\"87.5%\" y=\"37.5%\" dominant-baseline=\"middle\" text-anchor=\"middle\" font-size=\"24\">16</text><rect x=\"0\" y=\"200\" width=\"100\" height=\"100\" stroke=\"white\" stroke-width=\"5px\" fill=\"silver\"/><rect x=\"100\" y=\"200\" width=\"100\" height=\"100\" stroke=\"white\" stroke-width=\"5px\" fill=\"antiquewhite\"/><text x=\"37.5%\" y=\"62.5%\" dominant-baseline=\"middle\" text-anchor=\"middle\" font-size=\"24\">4</text><rect x=\"200\" y=\"200\" width=\"100\" height=\"100\" stroke=\"white\" stroke-width=\"5px\" fill=\"darksalmon\"/><text x=\"62.5%\" y=\"62.5%\" dominant-baseline=\"middle\" text-anchor=\"middle\" font-size=\"24\">16</text><rect x=\"300\" y=\"200\" width=\"100\" height=\"100\" stroke=\"white\" stroke-width=\"5px\" fill=\"orangered\"/><text x=\"87.5%\" y=\"62.5%\" dominant-baseline=\"middle\" text-anchor=\"middle\" font-size=\"24\">64</text><rect x=\"0\" y=\"300\" width=\"100\" height=\"100\" stroke=\"white\" stroke-width=\"5px\" fill=\"lightsalmon\"/><text x=\"12.5%\" y=\"87.5%\" dominant-baseline=\"middle\" text-anchor=\"middle\" font-size=\"24\">8</text><rect x=\"100\" y=\"300\" width=\"100\" height=\"100\" stroke=\"white\" stroke-width=\"5px\" fill=\"tomato\"/><text x=\"37.5%\" y=\"87.5%\" dominant-baseline=\"middle\" text-anchor=\"middle\" font-size=\"24\">32</text><rect x=\"200\" y=\"300\" width=\"100\" height=\"100\" stroke=\"white\" stroke-width=\"5px\" fill=\"orangered\"/><text x=\"62.5%\" y=\"87.5%\" dominant-baseline=\"middle\" text-anchor=\"middle\" font-size=\"24\">64</text><rect x=\"300\" y=\"300\" width=\"100\" height=\"100\" stroke=\"white\" stroke-width=\"5px\" fill=\"wheat\"/><text x=\"87.5%\" y=\"87.5%\" dominant-baseline=\"middle\" text-anchor=\"middle\" font-size=\"24\">128</text></svg>"
      ],
      "text/plain": [
       "<IPython.core.display.HTML object>"
      ]
     },
     "metadata": {},
     "output_type": "display_data"
    },
    {
     "name": "stdout",
     "output_type": "stream",
     "text": [
      "\n",
      "Movimiento: Derecha\n",
      "Puntuacion: 1004\n",
      "Numero de movimientos: 158\n"
     ]
    },
    {
     "data": {
      "text/html": [
       "<svg height=\"400\" width=\"400\"><rect x=\"0\" y=\"0\" width=\"100\" height=\"100\" stroke=\"white\" stroke-width=\"5px\" fill=\"silver\"/><rect x=\"100\" y=\"0\" width=\"100\" height=\"100\" stroke=\"white\" stroke-width=\"5px\" fill=\"ivory\"/><text x=\"37.5%\" y=\"12.5%\" dominant-baseline=\"middle\" text-anchor=\"middle\" font-size=\"24\">2</text><rect x=\"200\" y=\"0\" width=\"100\" height=\"100\" stroke=\"white\" stroke-width=\"5px\" fill=\"silver\"/><rect x=\"300\" y=\"0\" width=\"100\" height=\"100\" stroke=\"white\" stroke-width=\"5px\" fill=\"lightsalmon\"/><text x=\"87.5%\" y=\"12.5%\" dominant-baseline=\"middle\" text-anchor=\"middle\" font-size=\"24\">8</text><rect x=\"0\" y=\"100\" width=\"100\" height=\"100\" stroke=\"white\" stroke-width=\"5px\" fill=\"silver\"/><rect x=\"100\" y=\"100\" width=\"100\" height=\"100\" stroke=\"white\" stroke-width=\"5px\" fill=\"silver\"/><rect x=\"200\" y=\"100\" width=\"100\" height=\"100\" stroke=\"white\" stroke-width=\"5px\" fill=\"antiquewhite\"/><text x=\"62.5%\" y=\"37.5%\" dominant-baseline=\"middle\" text-anchor=\"middle\" font-size=\"24\">4</text><rect x=\"300\" y=\"100\" width=\"100\" height=\"100\" stroke=\"white\" stroke-width=\"5px\" fill=\"darksalmon\"/><text x=\"87.5%\" y=\"37.5%\" dominant-baseline=\"middle\" text-anchor=\"middle\" font-size=\"24\">16</text><rect x=\"0\" y=\"200\" width=\"100\" height=\"100\" stroke=\"white\" stroke-width=\"5px\" fill=\"ivory\"/><text x=\"12.5%\" y=\"62.5%\" dominant-baseline=\"middle\" text-anchor=\"middle\" font-size=\"24\">2</text><rect x=\"100\" y=\"200\" width=\"100\" height=\"100\" stroke=\"white\" stroke-width=\"5px\" fill=\"antiquewhite\"/><text x=\"37.5%\" y=\"62.5%\" dominant-baseline=\"middle\" text-anchor=\"middle\" font-size=\"24\">4</text><rect x=\"200\" y=\"200\" width=\"100\" height=\"100\" stroke=\"white\" stroke-width=\"5px\" fill=\"darksalmon\"/><text x=\"62.5%\" y=\"62.5%\" dominant-baseline=\"middle\" text-anchor=\"middle\" font-size=\"24\">16</text><rect x=\"300\" y=\"200\" width=\"100\" height=\"100\" stroke=\"white\" stroke-width=\"5px\" fill=\"orangered\"/><text x=\"87.5%\" y=\"62.5%\" dominant-baseline=\"middle\" text-anchor=\"middle\" font-size=\"24\">64</text><rect x=\"0\" y=\"300\" width=\"100\" height=\"100\" stroke=\"white\" stroke-width=\"5px\" fill=\"lightsalmon\"/><text x=\"12.5%\" y=\"87.5%\" dominant-baseline=\"middle\" text-anchor=\"middle\" font-size=\"24\">8</text><rect x=\"100\" y=\"300\" width=\"100\" height=\"100\" stroke=\"white\" stroke-width=\"5px\" fill=\"tomato\"/><text x=\"37.5%\" y=\"87.5%\" dominant-baseline=\"middle\" text-anchor=\"middle\" font-size=\"24\">32</text><rect x=\"200\" y=\"300\" width=\"100\" height=\"100\" stroke=\"white\" stroke-width=\"5px\" fill=\"orangered\"/><text x=\"62.5%\" y=\"87.5%\" dominant-baseline=\"middle\" text-anchor=\"middle\" font-size=\"24\">64</text><rect x=\"300\" y=\"300\" width=\"100\" height=\"100\" stroke=\"white\" stroke-width=\"5px\" fill=\"wheat\"/><text x=\"87.5%\" y=\"87.5%\" dominant-baseline=\"middle\" text-anchor=\"middle\" font-size=\"24\">128</text></svg>"
      ],
      "text/plain": [
       "<IPython.core.display.HTML object>"
      ]
     },
     "metadata": {},
     "output_type": "display_data"
    },
    {
     "name": "stdout",
     "output_type": "stream",
     "text": [
      "\n",
      "Movimiento: Derecha\n",
      "Puntuacion: 1004\n",
      "Numero de movimientos: 159\n"
     ]
    },
    {
     "data": {
      "text/html": [
       "<svg height=\"400\" width=\"400\"><rect x=\"0\" y=\"0\" width=\"100\" height=\"100\" stroke=\"white\" stroke-width=\"5px\" fill=\"silver\"/><rect x=\"100\" y=\"0\" width=\"100\" height=\"100\" stroke=\"white\" stroke-width=\"5px\" fill=\"silver\"/><rect x=\"200\" y=\"0\" width=\"100\" height=\"100\" stroke=\"white\" stroke-width=\"5px\" fill=\"antiquewhite\"/><text x=\"62.5%\" y=\"12.5%\" dominant-baseline=\"middle\" text-anchor=\"middle\" font-size=\"24\">4</text><rect x=\"300\" y=\"0\" width=\"100\" height=\"100\" stroke=\"white\" stroke-width=\"5px\" fill=\"lightsalmon\"/><text x=\"87.5%\" y=\"12.5%\" dominant-baseline=\"middle\" text-anchor=\"middle\" font-size=\"24\">8</text><rect x=\"0\" y=\"100\" width=\"100\" height=\"100\" stroke=\"white\" stroke-width=\"5px\" fill=\"silver\"/><rect x=\"100\" y=\"100\" width=\"100\" height=\"100\" stroke=\"white\" stroke-width=\"5px\" fill=\"ivory\"/><text x=\"37.5%\" y=\"37.5%\" dominant-baseline=\"middle\" text-anchor=\"middle\" font-size=\"24\">2</text><rect x=\"200\" y=\"100\" width=\"100\" height=\"100\" stroke=\"white\" stroke-width=\"5px\" fill=\"antiquewhite\"/><text x=\"62.5%\" y=\"37.5%\" dominant-baseline=\"middle\" text-anchor=\"middle\" font-size=\"24\">4</text><rect x=\"300\" y=\"100\" width=\"100\" height=\"100\" stroke=\"white\" stroke-width=\"5px\" fill=\"darksalmon\"/><text x=\"87.5%\" y=\"37.5%\" dominant-baseline=\"middle\" text-anchor=\"middle\" font-size=\"24\">16</text><rect x=\"0\" y=\"200\" width=\"100\" height=\"100\" stroke=\"white\" stroke-width=\"5px\" fill=\"ivory\"/><text x=\"12.5%\" y=\"62.5%\" dominant-baseline=\"middle\" text-anchor=\"middle\" font-size=\"24\">2</text><rect x=\"100\" y=\"200\" width=\"100\" height=\"100\" stroke=\"white\" stroke-width=\"5px\" fill=\"antiquewhite\"/><text x=\"37.5%\" y=\"62.5%\" dominant-baseline=\"middle\" text-anchor=\"middle\" font-size=\"24\">4</text><rect x=\"200\" y=\"200\" width=\"100\" height=\"100\" stroke=\"white\" stroke-width=\"5px\" fill=\"darksalmon\"/><text x=\"62.5%\" y=\"62.5%\" dominant-baseline=\"middle\" text-anchor=\"middle\" font-size=\"24\">16</text><rect x=\"300\" y=\"200\" width=\"100\" height=\"100\" stroke=\"white\" stroke-width=\"5px\" fill=\"orangered\"/><text x=\"87.5%\" y=\"62.5%\" dominant-baseline=\"middle\" text-anchor=\"middle\" font-size=\"24\">64</text><rect x=\"0\" y=\"300\" width=\"100\" height=\"100\" stroke=\"white\" stroke-width=\"5px\" fill=\"lightsalmon\"/><text x=\"12.5%\" y=\"87.5%\" dominant-baseline=\"middle\" text-anchor=\"middle\" font-size=\"24\">8</text><rect x=\"100\" y=\"300\" width=\"100\" height=\"100\" stroke=\"white\" stroke-width=\"5px\" fill=\"tomato\"/><text x=\"37.5%\" y=\"87.5%\" dominant-baseline=\"middle\" text-anchor=\"middle\" font-size=\"24\">32</text><rect x=\"200\" y=\"300\" width=\"100\" height=\"100\" stroke=\"white\" stroke-width=\"5px\" fill=\"orangered\"/><text x=\"62.5%\" y=\"87.5%\" dominant-baseline=\"middle\" text-anchor=\"middle\" font-size=\"24\">64</text><rect x=\"300\" y=\"300\" width=\"100\" height=\"100\" stroke=\"white\" stroke-width=\"5px\" fill=\"wheat\"/><text x=\"87.5%\" y=\"87.5%\" dominant-baseline=\"middle\" text-anchor=\"middle\" font-size=\"24\">128</text></svg>"
      ],
      "text/plain": [
       "<IPython.core.display.HTML object>"
      ]
     },
     "metadata": {},
     "output_type": "display_data"
    },
    {
     "name": "stdout",
     "output_type": "stream",
     "text": [
      "\n",
      "Movimiento: Derecha\n",
      "Puntuacion: 1004\n",
      "Numero de movimientos: 160\n"
     ]
    },
    {
     "data": {
      "text/html": [
       "<svg height=\"400\" width=\"400\"><rect x=\"0\" y=\"0\" width=\"100\" height=\"100\" stroke=\"white\" stroke-width=\"5px\" fill=\"silver\"/><rect x=\"100\" y=\"0\" width=\"100\" height=\"100\" stroke=\"white\" stroke-width=\"5px\" fill=\"silver\"/><rect x=\"200\" y=\"0\" width=\"100\" height=\"100\" stroke=\"white\" stroke-width=\"5px\" fill=\"ivory\"/><text x=\"62.5%\" y=\"12.5%\" dominant-baseline=\"middle\" text-anchor=\"middle\" font-size=\"24\">2</text><rect x=\"300\" y=\"0\" width=\"100\" height=\"100\" stroke=\"white\" stroke-width=\"5px\" fill=\"lightsalmon\"/><text x=\"87.5%\" y=\"12.5%\" dominant-baseline=\"middle\" text-anchor=\"middle\" font-size=\"24\">8</text><rect x=\"0\" y=\"100\" width=\"100\" height=\"100\" stroke=\"white\" stroke-width=\"5px\" fill=\"silver\"/><rect x=\"100\" y=\"100\" width=\"100\" height=\"100\" stroke=\"white\" stroke-width=\"5px\" fill=\"ivory\"/><text x=\"37.5%\" y=\"37.5%\" dominant-baseline=\"middle\" text-anchor=\"middle\" font-size=\"24\">2</text><rect x=\"200\" y=\"100\" width=\"100\" height=\"100\" stroke=\"white\" stroke-width=\"5px\" fill=\"lightsalmon\"/><text x=\"62.5%\" y=\"37.5%\" dominant-baseline=\"middle\" text-anchor=\"middle\" font-size=\"24\">8</text><rect x=\"300\" y=\"100\" width=\"100\" height=\"100\" stroke=\"white\" stroke-width=\"5px\" fill=\"darksalmon\"/><text x=\"87.5%\" y=\"37.5%\" dominant-baseline=\"middle\" text-anchor=\"middle\" font-size=\"24\">16</text><rect x=\"0\" y=\"200\" width=\"100\" height=\"100\" stroke=\"white\" stroke-width=\"5px\" fill=\"ivory\"/><text x=\"12.5%\" y=\"62.5%\" dominant-baseline=\"middle\" text-anchor=\"middle\" font-size=\"24\">2</text><rect x=\"100\" y=\"200\" width=\"100\" height=\"100\" stroke=\"white\" stroke-width=\"5px\" fill=\"antiquewhite\"/><text x=\"37.5%\" y=\"62.5%\" dominant-baseline=\"middle\" text-anchor=\"middle\" font-size=\"24\">4</text><rect x=\"200\" y=\"200\" width=\"100\" height=\"100\" stroke=\"white\" stroke-width=\"5px\" fill=\"darksalmon\"/><text x=\"62.5%\" y=\"62.5%\" dominant-baseline=\"middle\" text-anchor=\"middle\" font-size=\"24\">16</text><rect x=\"300\" y=\"200\" width=\"100\" height=\"100\" stroke=\"white\" stroke-width=\"5px\" fill=\"orangered\"/><text x=\"87.5%\" y=\"62.5%\" dominant-baseline=\"middle\" text-anchor=\"middle\" font-size=\"24\">64</text><rect x=\"0\" y=\"300\" width=\"100\" height=\"100\" stroke=\"white\" stroke-width=\"5px\" fill=\"lightsalmon\"/><text x=\"12.5%\" y=\"87.5%\" dominant-baseline=\"middle\" text-anchor=\"middle\" font-size=\"24\">8</text><rect x=\"100\" y=\"300\" width=\"100\" height=\"100\" stroke=\"white\" stroke-width=\"5px\" fill=\"tomato\"/><text x=\"37.5%\" y=\"87.5%\" dominant-baseline=\"middle\" text-anchor=\"middle\" font-size=\"24\">32</text><rect x=\"200\" y=\"300\" width=\"100\" height=\"100\" stroke=\"white\" stroke-width=\"5px\" fill=\"orangered\"/><text x=\"62.5%\" y=\"87.5%\" dominant-baseline=\"middle\" text-anchor=\"middle\" font-size=\"24\">64</text><rect x=\"300\" y=\"300\" width=\"100\" height=\"100\" stroke=\"white\" stroke-width=\"5px\" fill=\"wheat\"/><text x=\"87.5%\" y=\"87.5%\" dominant-baseline=\"middle\" text-anchor=\"middle\" font-size=\"24\">128</text></svg>"
      ],
      "text/plain": [
       "<IPython.core.display.HTML object>"
      ]
     },
     "metadata": {},
     "output_type": "display_data"
    },
    {
     "name": "stdout",
     "output_type": "stream",
     "text": [
      "\n",
      "Movimiento: Abajo\n",
      "Puntuacion: 1004\n",
      "Numero de movimientos: 161\n"
     ]
    },
    {
     "data": {
      "text/html": [
       "<svg height=\"400\" width=\"400\"><rect x=\"0\" y=\"0\" width=\"100\" height=\"100\" stroke=\"white\" stroke-width=\"5px\" fill=\"silver\"/><rect x=\"100\" y=\"0\" width=\"100\" height=\"100\" stroke=\"white\" stroke-width=\"5px\" fill=\"ivory\"/><text x=\"37.5%\" y=\"12.5%\" dominant-baseline=\"middle\" text-anchor=\"middle\" font-size=\"24\">2</text><rect x=\"200\" y=\"0\" width=\"100\" height=\"100\" stroke=\"white\" stroke-width=\"5px\" fill=\"ivory\"/><text x=\"62.5%\" y=\"12.5%\" dominant-baseline=\"middle\" text-anchor=\"middle\" font-size=\"24\">2</text><rect x=\"300\" y=\"0\" width=\"100\" height=\"100\" stroke=\"white\" stroke-width=\"5px\" fill=\"lightsalmon\"/><text x=\"87.5%\" y=\"12.5%\" dominant-baseline=\"middle\" text-anchor=\"middle\" font-size=\"24\">8</text><rect x=\"0\" y=\"100\" width=\"100\" height=\"100\" stroke=\"white\" stroke-width=\"5px\" fill=\"silver\"/><rect x=\"100\" y=\"100\" width=\"100\" height=\"100\" stroke=\"white\" stroke-width=\"5px\" fill=\"ivory\"/><text x=\"37.5%\" y=\"37.5%\" dominant-baseline=\"middle\" text-anchor=\"middle\" font-size=\"24\">2</text><rect x=\"200\" y=\"100\" width=\"100\" height=\"100\" stroke=\"white\" stroke-width=\"5px\" fill=\"lightsalmon\"/><text x=\"62.5%\" y=\"37.5%\" dominant-baseline=\"middle\" text-anchor=\"middle\" font-size=\"24\">8</text><rect x=\"300\" y=\"100\" width=\"100\" height=\"100\" stroke=\"white\" stroke-width=\"5px\" fill=\"darksalmon\"/><text x=\"87.5%\" y=\"37.5%\" dominant-baseline=\"middle\" text-anchor=\"middle\" font-size=\"24\">16</text><rect x=\"0\" y=\"200\" width=\"100\" height=\"100\" stroke=\"white\" stroke-width=\"5px\" fill=\"ivory\"/><text x=\"12.5%\" y=\"62.5%\" dominant-baseline=\"middle\" text-anchor=\"middle\" font-size=\"24\">2</text><rect x=\"100\" y=\"200\" width=\"100\" height=\"100\" stroke=\"white\" stroke-width=\"5px\" fill=\"antiquewhite\"/><text x=\"37.5%\" y=\"62.5%\" dominant-baseline=\"middle\" text-anchor=\"middle\" font-size=\"24\">4</text><rect x=\"200\" y=\"200\" width=\"100\" height=\"100\" stroke=\"white\" stroke-width=\"5px\" fill=\"darksalmon\"/><text x=\"62.5%\" y=\"62.5%\" dominant-baseline=\"middle\" text-anchor=\"middle\" font-size=\"24\">16</text><rect x=\"300\" y=\"200\" width=\"100\" height=\"100\" stroke=\"white\" stroke-width=\"5px\" fill=\"orangered\"/><text x=\"87.5%\" y=\"62.5%\" dominant-baseline=\"middle\" text-anchor=\"middle\" font-size=\"24\">64</text><rect x=\"0\" y=\"300\" width=\"100\" height=\"100\" stroke=\"white\" stroke-width=\"5px\" fill=\"lightsalmon\"/><text x=\"12.5%\" y=\"87.5%\" dominant-baseline=\"middle\" text-anchor=\"middle\" font-size=\"24\">8</text><rect x=\"100\" y=\"300\" width=\"100\" height=\"100\" stroke=\"white\" stroke-width=\"5px\" fill=\"tomato\"/><text x=\"37.5%\" y=\"87.5%\" dominant-baseline=\"middle\" text-anchor=\"middle\" font-size=\"24\">32</text><rect x=\"200\" y=\"300\" width=\"100\" height=\"100\" stroke=\"white\" stroke-width=\"5px\" fill=\"orangered\"/><text x=\"62.5%\" y=\"87.5%\" dominant-baseline=\"middle\" text-anchor=\"middle\" font-size=\"24\">64</text><rect x=\"300\" y=\"300\" width=\"100\" height=\"100\" stroke=\"white\" stroke-width=\"5px\" fill=\"wheat\"/><text x=\"87.5%\" y=\"87.5%\" dominant-baseline=\"middle\" text-anchor=\"middle\" font-size=\"24\">128</text></svg>"
      ],
      "text/plain": [
       "<IPython.core.display.HTML object>"
      ]
     },
     "metadata": {},
     "output_type": "display_data"
    },
    {
     "name": "stdout",
     "output_type": "stream",
     "text": [
      "\n",
      "Movimiento: Derecha\n",
      "Puntuacion: 1004\n",
      "Numero de movimientos: 162\n"
     ]
    },
    {
     "data": {
      "text/html": [
       "<svg height=\"400\" width=\"400\"><rect x=\"0\" y=\"0\" width=\"100\" height=\"100\" stroke=\"white\" stroke-width=\"5px\" fill=\"silver\"/><rect x=\"100\" y=\"0\" width=\"100\" height=\"100\" stroke=\"white\" stroke-width=\"5px\" fill=\"ivory\"/><text x=\"37.5%\" y=\"12.5%\" dominant-baseline=\"middle\" text-anchor=\"middle\" font-size=\"24\">2</text><rect x=\"200\" y=\"0\" width=\"100\" height=\"100\" stroke=\"white\" stroke-width=\"5px\" fill=\"ivory\"/><text x=\"62.5%\" y=\"12.5%\" dominant-baseline=\"middle\" text-anchor=\"middle\" font-size=\"24\">2</text><rect x=\"300\" y=\"0\" width=\"100\" height=\"100\" stroke=\"white\" stroke-width=\"5px\" fill=\"lightsalmon\"/><text x=\"87.5%\" y=\"12.5%\" dominant-baseline=\"middle\" text-anchor=\"middle\" font-size=\"24\">8</text><rect x=\"0\" y=\"100\" width=\"100\" height=\"100\" stroke=\"white\" stroke-width=\"5px\" fill=\"silver\"/><rect x=\"100\" y=\"100\" width=\"100\" height=\"100\" stroke=\"white\" stroke-width=\"5px\" fill=\"antiquewhite\"/><text x=\"37.5%\" y=\"37.5%\" dominant-baseline=\"middle\" text-anchor=\"middle\" font-size=\"24\">4</text><rect x=\"200\" y=\"100\" width=\"100\" height=\"100\" stroke=\"white\" stroke-width=\"5px\" fill=\"lightsalmon\"/><text x=\"62.5%\" y=\"37.5%\" dominant-baseline=\"middle\" text-anchor=\"middle\" font-size=\"24\">8</text><rect x=\"300\" y=\"100\" width=\"100\" height=\"100\" stroke=\"white\" stroke-width=\"5px\" fill=\"darksalmon\"/><text x=\"87.5%\" y=\"37.5%\" dominant-baseline=\"middle\" text-anchor=\"middle\" font-size=\"24\">16</text><rect x=\"0\" y=\"200\" width=\"100\" height=\"100\" stroke=\"white\" stroke-width=\"5px\" fill=\"ivory\"/><text x=\"12.5%\" y=\"62.5%\" dominant-baseline=\"middle\" text-anchor=\"middle\" font-size=\"24\">2</text><rect x=\"100\" y=\"200\" width=\"100\" height=\"100\" stroke=\"white\" stroke-width=\"5px\" fill=\"antiquewhite\"/><text x=\"37.5%\" y=\"62.5%\" dominant-baseline=\"middle\" text-anchor=\"middle\" font-size=\"24\">4</text><rect x=\"200\" y=\"200\" width=\"100\" height=\"100\" stroke=\"white\" stroke-width=\"5px\" fill=\"darksalmon\"/><text x=\"62.5%\" y=\"62.5%\" dominant-baseline=\"middle\" text-anchor=\"middle\" font-size=\"24\">16</text><rect x=\"300\" y=\"200\" width=\"100\" height=\"100\" stroke=\"white\" stroke-width=\"5px\" fill=\"orangered\"/><text x=\"87.5%\" y=\"62.5%\" dominant-baseline=\"middle\" text-anchor=\"middle\" font-size=\"24\">64</text><rect x=\"0\" y=\"300\" width=\"100\" height=\"100\" stroke=\"white\" stroke-width=\"5px\" fill=\"lightsalmon\"/><text x=\"12.5%\" y=\"87.5%\" dominant-baseline=\"middle\" text-anchor=\"middle\" font-size=\"24\">8</text><rect x=\"100\" y=\"300\" width=\"100\" height=\"100\" stroke=\"white\" stroke-width=\"5px\" fill=\"tomato\"/><text x=\"37.5%\" y=\"87.5%\" dominant-baseline=\"middle\" text-anchor=\"middle\" font-size=\"24\">32</text><rect x=\"200\" y=\"300\" width=\"100\" height=\"100\" stroke=\"white\" stroke-width=\"5px\" fill=\"orangered\"/><text x=\"62.5%\" y=\"87.5%\" dominant-baseline=\"middle\" text-anchor=\"middle\" font-size=\"24\">64</text><rect x=\"300\" y=\"300\" width=\"100\" height=\"100\" stroke=\"white\" stroke-width=\"5px\" fill=\"wheat\"/><text x=\"87.5%\" y=\"87.5%\" dominant-baseline=\"middle\" text-anchor=\"middle\" font-size=\"24\">128</text></svg>"
      ],
      "text/plain": [
       "<IPython.core.display.HTML object>"
      ]
     },
     "metadata": {},
     "output_type": "display_data"
    },
    {
     "name": "stdout",
     "output_type": "stream",
     "text": [
      "\n",
      "Movimiento: Derecha\n",
      "Puntuacion: 1004\n",
      "Numero de movimientos: 163\n"
     ]
    },
    {
     "data": {
      "text/html": [
       "<svg height=\"400\" width=\"400\"><rect x=\"0\" y=\"0\" width=\"100\" height=\"100\" stroke=\"white\" stroke-width=\"5px\" fill=\"silver\"/><rect x=\"100\" y=\"0\" width=\"100\" height=\"100\" stroke=\"white\" stroke-width=\"5px\" fill=\"ivory\"/><text x=\"37.5%\" y=\"12.5%\" dominant-baseline=\"middle\" text-anchor=\"middle\" font-size=\"24\">2</text><rect x=\"200\" y=\"0\" width=\"100\" height=\"100\" stroke=\"white\" stroke-width=\"5px\" fill=\"ivory\"/><text x=\"62.5%\" y=\"12.5%\" dominant-baseline=\"middle\" text-anchor=\"middle\" font-size=\"24\">2</text><rect x=\"300\" y=\"0\" width=\"100\" height=\"100\" stroke=\"white\" stroke-width=\"5px\" fill=\"lightsalmon\"/><text x=\"87.5%\" y=\"12.5%\" dominant-baseline=\"middle\" text-anchor=\"middle\" font-size=\"24\">8</text><rect x=\"0\" y=\"100\" width=\"100\" height=\"100\" stroke=\"white\" stroke-width=\"5px\" fill=\"silver\"/><rect x=\"100\" y=\"100\" width=\"100\" height=\"100\" stroke=\"white\" stroke-width=\"5px\" fill=\"ivory\"/><text x=\"37.5%\" y=\"37.5%\" dominant-baseline=\"middle\" text-anchor=\"middle\" font-size=\"24\">2</text><rect x=\"200\" y=\"100\" width=\"100\" height=\"100\" stroke=\"white\" stroke-width=\"5px\" fill=\"lightsalmon\"/><text x=\"62.5%\" y=\"37.5%\" dominant-baseline=\"middle\" text-anchor=\"middle\" font-size=\"24\">8</text><rect x=\"300\" y=\"100\" width=\"100\" height=\"100\" stroke=\"white\" stroke-width=\"5px\" fill=\"darksalmon\"/><text x=\"87.5%\" y=\"37.5%\" dominant-baseline=\"middle\" text-anchor=\"middle\" font-size=\"24\">16</text><rect x=\"0\" y=\"200\" width=\"100\" height=\"100\" stroke=\"white\" stroke-width=\"5px\" fill=\"ivory\"/><text x=\"12.5%\" y=\"62.5%\" dominant-baseline=\"middle\" text-anchor=\"middle\" font-size=\"24\">2</text><rect x=\"100\" y=\"200\" width=\"100\" height=\"100\" stroke=\"white\" stroke-width=\"5px\" fill=\"lightsalmon\"/><text x=\"37.5%\" y=\"62.5%\" dominant-baseline=\"middle\" text-anchor=\"middle\" font-size=\"24\">8</text><rect x=\"200\" y=\"200\" width=\"100\" height=\"100\" stroke=\"white\" stroke-width=\"5px\" fill=\"darksalmon\"/><text x=\"62.5%\" y=\"62.5%\" dominant-baseline=\"middle\" text-anchor=\"middle\" font-size=\"24\">16</text><rect x=\"300\" y=\"200\" width=\"100\" height=\"100\" stroke=\"white\" stroke-width=\"5px\" fill=\"orangered\"/><text x=\"87.5%\" y=\"62.5%\" dominant-baseline=\"middle\" text-anchor=\"middle\" font-size=\"24\">64</text><rect x=\"0\" y=\"300\" width=\"100\" height=\"100\" stroke=\"white\" stroke-width=\"5px\" fill=\"lightsalmon\"/><text x=\"12.5%\" y=\"87.5%\" dominant-baseline=\"middle\" text-anchor=\"middle\" font-size=\"24\">8</text><rect x=\"100\" y=\"300\" width=\"100\" height=\"100\" stroke=\"white\" stroke-width=\"5px\" fill=\"tomato\"/><text x=\"37.5%\" y=\"87.5%\" dominant-baseline=\"middle\" text-anchor=\"middle\" font-size=\"24\">32</text><rect x=\"200\" y=\"300\" width=\"100\" height=\"100\" stroke=\"white\" stroke-width=\"5px\" fill=\"orangered\"/><text x=\"62.5%\" y=\"87.5%\" dominant-baseline=\"middle\" text-anchor=\"middle\" font-size=\"24\">64</text><rect x=\"300\" y=\"300\" width=\"100\" height=\"100\" stroke=\"white\" stroke-width=\"5px\" fill=\"wheat\"/><text x=\"87.5%\" y=\"87.5%\" dominant-baseline=\"middle\" text-anchor=\"middle\" font-size=\"24\">128</text></svg>"
      ],
      "text/plain": [
       "<IPython.core.display.HTML object>"
      ]
     },
     "metadata": {},
     "output_type": "display_data"
    },
    {
     "name": "stdout",
     "output_type": "stream",
     "text": [
      "\n",
      "Movimiento: Derecha\n",
      "Puntuacion: 1004\n",
      "Numero de movimientos: 164\n"
     ]
    },
    {
     "data": {
      "text/html": [
       "<svg height=\"400\" width=\"400\"><rect x=\"0\" y=\"0\" width=\"100\" height=\"100\" stroke=\"white\" stroke-width=\"5px\" fill=\"ivory\"/><text x=\"12.5%\" y=\"12.5%\" dominant-baseline=\"middle\" text-anchor=\"middle\" font-size=\"24\">2</text><rect x=\"100\" y=\"0\" width=\"100\" height=\"100\" stroke=\"white\" stroke-width=\"5px\" fill=\"silver\"/><rect x=\"200\" y=\"0\" width=\"100\" height=\"100\" stroke=\"white\" stroke-width=\"5px\" fill=\"ivory\"/><text x=\"62.5%\" y=\"12.5%\" dominant-baseline=\"middle\" text-anchor=\"middle\" font-size=\"24\">2</text><rect x=\"300\" y=\"0\" width=\"100\" height=\"100\" stroke=\"white\" stroke-width=\"5px\" fill=\"lightsalmon\"/><text x=\"87.5%\" y=\"12.5%\" dominant-baseline=\"middle\" text-anchor=\"middle\" font-size=\"24\">8</text><rect x=\"0\" y=\"100\" width=\"100\" height=\"100\" stroke=\"white\" stroke-width=\"5px\" fill=\"silver\"/><rect x=\"100\" y=\"100\" width=\"100\" height=\"100\" stroke=\"white\" stroke-width=\"5px\" fill=\"antiquewhite\"/><text x=\"37.5%\" y=\"37.5%\" dominant-baseline=\"middle\" text-anchor=\"middle\" font-size=\"24\">4</text><rect x=\"200\" y=\"100\" width=\"100\" height=\"100\" stroke=\"white\" stroke-width=\"5px\" fill=\"lightsalmon\"/><text x=\"62.5%\" y=\"37.5%\" dominant-baseline=\"middle\" text-anchor=\"middle\" font-size=\"24\">8</text><rect x=\"300\" y=\"100\" width=\"100\" height=\"100\" stroke=\"white\" stroke-width=\"5px\" fill=\"darksalmon\"/><text x=\"87.5%\" y=\"37.5%\" dominant-baseline=\"middle\" text-anchor=\"middle\" font-size=\"24\">16</text><rect x=\"0\" y=\"200\" width=\"100\" height=\"100\" stroke=\"white\" stroke-width=\"5px\" fill=\"ivory\"/><text x=\"12.5%\" y=\"62.5%\" dominant-baseline=\"middle\" text-anchor=\"middle\" font-size=\"24\">2</text><rect x=\"100\" y=\"200\" width=\"100\" height=\"100\" stroke=\"white\" stroke-width=\"5px\" fill=\"lightsalmon\"/><text x=\"37.5%\" y=\"62.5%\" dominant-baseline=\"middle\" text-anchor=\"middle\" font-size=\"24\">8</text><rect x=\"200\" y=\"200\" width=\"100\" height=\"100\" stroke=\"white\" stroke-width=\"5px\" fill=\"darksalmon\"/><text x=\"62.5%\" y=\"62.5%\" dominant-baseline=\"middle\" text-anchor=\"middle\" font-size=\"24\">16</text><rect x=\"300\" y=\"200\" width=\"100\" height=\"100\" stroke=\"white\" stroke-width=\"5px\" fill=\"orangered\"/><text x=\"87.5%\" y=\"62.5%\" dominant-baseline=\"middle\" text-anchor=\"middle\" font-size=\"24\">64</text><rect x=\"0\" y=\"300\" width=\"100\" height=\"100\" stroke=\"white\" stroke-width=\"5px\" fill=\"lightsalmon\"/><text x=\"12.5%\" y=\"87.5%\" dominant-baseline=\"middle\" text-anchor=\"middle\" font-size=\"24\">8</text><rect x=\"100\" y=\"300\" width=\"100\" height=\"100\" stroke=\"white\" stroke-width=\"5px\" fill=\"tomato\"/><text x=\"37.5%\" y=\"87.5%\" dominant-baseline=\"middle\" text-anchor=\"middle\" font-size=\"24\">32</text><rect x=\"200\" y=\"300\" width=\"100\" height=\"100\" stroke=\"white\" stroke-width=\"5px\" fill=\"orangered\"/><text x=\"62.5%\" y=\"87.5%\" dominant-baseline=\"middle\" text-anchor=\"middle\" font-size=\"24\">64</text><rect x=\"300\" y=\"300\" width=\"100\" height=\"100\" stroke=\"white\" stroke-width=\"5px\" fill=\"wheat\"/><text x=\"87.5%\" y=\"87.5%\" dominant-baseline=\"middle\" text-anchor=\"middle\" font-size=\"24\">128</text></svg>"
      ],
      "text/plain": [
       "<IPython.core.display.HTML object>"
      ]
     },
     "metadata": {},
     "output_type": "display_data"
    },
    {
     "name": "stdout",
     "output_type": "stream",
     "text": [
      "\n",
      "Movimiento: Derecha\n",
      "Puntuacion: 1004\n",
      "Numero de movimientos: 165\n"
     ]
    },
    {
     "data": {
      "text/html": [
       "<svg height=\"400\" width=\"400\"><rect x=\"0\" y=\"0\" width=\"100\" height=\"100\" stroke=\"white\" stroke-width=\"5px\" fill=\"silver\"/><rect x=\"100\" y=\"0\" width=\"100\" height=\"100\" stroke=\"white\" stroke-width=\"5px\" fill=\"silver\"/><rect x=\"200\" y=\"0\" width=\"100\" height=\"100\" stroke=\"white\" stroke-width=\"5px\" fill=\"ivory\"/><text x=\"62.5%\" y=\"12.5%\" dominant-baseline=\"middle\" text-anchor=\"middle\" font-size=\"24\">2</text><rect x=\"300\" y=\"0\" width=\"100\" height=\"100\" stroke=\"white\" stroke-width=\"5px\" fill=\"lightsalmon\"/><text x=\"87.5%\" y=\"12.5%\" dominant-baseline=\"middle\" text-anchor=\"middle\" font-size=\"24\">8</text><rect x=\"0\" y=\"100\" width=\"100\" height=\"100\" stroke=\"white\" stroke-width=\"5px\" fill=\"ivory\"/><text x=\"12.5%\" y=\"37.5%\" dominant-baseline=\"middle\" text-anchor=\"middle\" font-size=\"24\">2</text><rect x=\"100\" y=\"100\" width=\"100\" height=\"100\" stroke=\"white\" stroke-width=\"5px\" fill=\"antiquewhite\"/><text x=\"37.5%\" y=\"37.5%\" dominant-baseline=\"middle\" text-anchor=\"middle\" font-size=\"24\">4</text><rect x=\"200\" y=\"100\" width=\"100\" height=\"100\" stroke=\"white\" stroke-width=\"5px\" fill=\"lightsalmon\"/><text x=\"62.5%\" y=\"37.5%\" dominant-baseline=\"middle\" text-anchor=\"middle\" font-size=\"24\">8</text><rect x=\"300\" y=\"100\" width=\"100\" height=\"100\" stroke=\"white\" stroke-width=\"5px\" fill=\"darksalmon\"/><text x=\"87.5%\" y=\"37.5%\" dominant-baseline=\"middle\" text-anchor=\"middle\" font-size=\"24\">16</text><rect x=\"0\" y=\"200\" width=\"100\" height=\"100\" stroke=\"white\" stroke-width=\"5px\" fill=\"antiquewhite\"/><text x=\"12.5%\" y=\"62.5%\" dominant-baseline=\"middle\" text-anchor=\"middle\" font-size=\"24\">4</text><rect x=\"100\" y=\"200\" width=\"100\" height=\"100\" stroke=\"white\" stroke-width=\"5px\" fill=\"lightsalmon\"/><text x=\"37.5%\" y=\"62.5%\" dominant-baseline=\"middle\" text-anchor=\"middle\" font-size=\"24\">8</text><rect x=\"200\" y=\"200\" width=\"100\" height=\"100\" stroke=\"white\" stroke-width=\"5px\" fill=\"darksalmon\"/><text x=\"62.5%\" y=\"62.5%\" dominant-baseline=\"middle\" text-anchor=\"middle\" font-size=\"24\">16</text><rect x=\"300\" y=\"200\" width=\"100\" height=\"100\" stroke=\"white\" stroke-width=\"5px\" fill=\"orangered\"/><text x=\"87.5%\" y=\"62.5%\" dominant-baseline=\"middle\" text-anchor=\"middle\" font-size=\"24\">64</text><rect x=\"0\" y=\"300\" width=\"100\" height=\"100\" stroke=\"white\" stroke-width=\"5px\" fill=\"lightsalmon\"/><text x=\"12.5%\" y=\"87.5%\" dominant-baseline=\"middle\" text-anchor=\"middle\" font-size=\"24\">8</text><rect x=\"100\" y=\"300\" width=\"100\" height=\"100\" stroke=\"white\" stroke-width=\"5px\" fill=\"tomato\"/><text x=\"37.5%\" y=\"87.5%\" dominant-baseline=\"middle\" text-anchor=\"middle\" font-size=\"24\">32</text><rect x=\"200\" y=\"300\" width=\"100\" height=\"100\" stroke=\"white\" stroke-width=\"5px\" fill=\"orangered\"/><text x=\"62.5%\" y=\"87.5%\" dominant-baseline=\"middle\" text-anchor=\"middle\" font-size=\"24\">64</text><rect x=\"300\" y=\"300\" width=\"100\" height=\"100\" stroke=\"white\" stroke-width=\"5px\" fill=\"wheat\"/><text x=\"87.5%\" y=\"87.5%\" dominant-baseline=\"middle\" text-anchor=\"middle\" font-size=\"24\">128</text></svg>"
      ],
      "text/plain": [
       "<IPython.core.display.HTML object>"
      ]
     },
     "metadata": {},
     "output_type": "display_data"
    },
    {
     "name": "stdout",
     "output_type": "stream",
     "text": [
      "\n",
      "Movimiento: Abajo\n",
      "Puntuacion: 1004\n",
      "Numero de movimientos: 166\n"
     ]
    },
    {
     "data": {
      "text/html": [
       "<svg height=\"400\" width=\"400\"><rect x=\"0\" y=\"0\" width=\"100\" height=\"100\" stroke=\"white\" stroke-width=\"5px\" fill=\"silver\"/><rect x=\"100\" y=\"0\" width=\"100\" height=\"100\" stroke=\"white\" stroke-width=\"5px\" fill=\"ivory\"/><text x=\"37.5%\" y=\"12.5%\" dominant-baseline=\"middle\" text-anchor=\"middle\" font-size=\"24\">2</text><rect x=\"200\" y=\"0\" width=\"100\" height=\"100\" stroke=\"white\" stroke-width=\"5px\" fill=\"ivory\"/><text x=\"62.5%\" y=\"12.5%\" dominant-baseline=\"middle\" text-anchor=\"middle\" font-size=\"24\">2</text><rect x=\"300\" y=\"0\" width=\"100\" height=\"100\" stroke=\"white\" stroke-width=\"5px\" fill=\"lightsalmon\"/><text x=\"87.5%\" y=\"12.5%\" dominant-baseline=\"middle\" text-anchor=\"middle\" font-size=\"24\">8</text><rect x=\"0\" y=\"100\" width=\"100\" height=\"100\" stroke=\"white\" stroke-width=\"5px\" fill=\"ivory\"/><text x=\"12.5%\" y=\"37.5%\" dominant-baseline=\"middle\" text-anchor=\"middle\" font-size=\"24\">2</text><rect x=\"100\" y=\"100\" width=\"100\" height=\"100\" stroke=\"white\" stroke-width=\"5px\" fill=\"antiquewhite\"/><text x=\"37.5%\" y=\"37.5%\" dominant-baseline=\"middle\" text-anchor=\"middle\" font-size=\"24\">4</text><rect x=\"200\" y=\"100\" width=\"100\" height=\"100\" stroke=\"white\" stroke-width=\"5px\" fill=\"lightsalmon\"/><text x=\"62.5%\" y=\"37.5%\" dominant-baseline=\"middle\" text-anchor=\"middle\" font-size=\"24\">8</text><rect x=\"300\" y=\"100\" width=\"100\" height=\"100\" stroke=\"white\" stroke-width=\"5px\" fill=\"darksalmon\"/><text x=\"87.5%\" y=\"37.5%\" dominant-baseline=\"middle\" text-anchor=\"middle\" font-size=\"24\">16</text><rect x=\"0\" y=\"200\" width=\"100\" height=\"100\" stroke=\"white\" stroke-width=\"5px\" fill=\"antiquewhite\"/><text x=\"12.5%\" y=\"62.5%\" dominant-baseline=\"middle\" text-anchor=\"middle\" font-size=\"24\">4</text><rect x=\"100\" y=\"200\" width=\"100\" height=\"100\" stroke=\"white\" stroke-width=\"5px\" fill=\"lightsalmon\"/><text x=\"37.5%\" y=\"62.5%\" dominant-baseline=\"middle\" text-anchor=\"middle\" font-size=\"24\">8</text><rect x=\"200\" y=\"200\" width=\"100\" height=\"100\" stroke=\"white\" stroke-width=\"5px\" fill=\"darksalmon\"/><text x=\"62.5%\" y=\"62.5%\" dominant-baseline=\"middle\" text-anchor=\"middle\" font-size=\"24\">16</text><rect x=\"300\" y=\"200\" width=\"100\" height=\"100\" stroke=\"white\" stroke-width=\"5px\" fill=\"orangered\"/><text x=\"87.5%\" y=\"62.5%\" dominant-baseline=\"middle\" text-anchor=\"middle\" font-size=\"24\">64</text><rect x=\"0\" y=\"300\" width=\"100\" height=\"100\" stroke=\"white\" stroke-width=\"5px\" fill=\"lightsalmon\"/><text x=\"12.5%\" y=\"87.5%\" dominant-baseline=\"middle\" text-anchor=\"middle\" font-size=\"24\">8</text><rect x=\"100\" y=\"300\" width=\"100\" height=\"100\" stroke=\"white\" stroke-width=\"5px\" fill=\"tomato\"/><text x=\"37.5%\" y=\"87.5%\" dominant-baseline=\"middle\" text-anchor=\"middle\" font-size=\"24\">32</text><rect x=\"200\" y=\"300\" width=\"100\" height=\"100\" stroke=\"white\" stroke-width=\"5px\" fill=\"orangered\"/><text x=\"62.5%\" y=\"87.5%\" dominant-baseline=\"middle\" text-anchor=\"middle\" font-size=\"24\">64</text><rect x=\"300\" y=\"300\" width=\"100\" height=\"100\" stroke=\"white\" stroke-width=\"5px\" fill=\"wheat\"/><text x=\"87.5%\" y=\"87.5%\" dominant-baseline=\"middle\" text-anchor=\"middle\" font-size=\"24\">128</text></svg>"
      ],
      "text/plain": [
       "<IPython.core.display.HTML object>"
      ]
     },
     "metadata": {},
     "output_type": "display_data"
    },
    {
     "name": "stdout",
     "output_type": "stream",
     "text": [
      "\n",
      "Movimiento: Abajo\n",
      "Puntuacion: 1004\n",
      "Numero de movimientos: 167\n"
     ]
    },
    {
     "data": {
      "text/html": [
       "<svg height=\"400\" width=\"400\"><rect x=\"0\" y=\"0\" width=\"100\" height=\"100\" stroke=\"white\" stroke-width=\"5px\" fill=\"ivory\"/><text x=\"12.5%\" y=\"12.5%\" dominant-baseline=\"middle\" text-anchor=\"middle\" font-size=\"24\">2</text><rect x=\"100\" y=\"0\" width=\"100\" height=\"100\" stroke=\"white\" stroke-width=\"5px\" fill=\"ivory\"/><text x=\"37.5%\" y=\"12.5%\" dominant-baseline=\"middle\" text-anchor=\"middle\" font-size=\"24\">2</text><rect x=\"200\" y=\"0\" width=\"100\" height=\"100\" stroke=\"white\" stroke-width=\"5px\" fill=\"ivory\"/><text x=\"62.5%\" y=\"12.5%\" dominant-baseline=\"middle\" text-anchor=\"middle\" font-size=\"24\">2</text><rect x=\"300\" y=\"0\" width=\"100\" height=\"100\" stroke=\"white\" stroke-width=\"5px\" fill=\"lightsalmon\"/><text x=\"87.5%\" y=\"12.5%\" dominant-baseline=\"middle\" text-anchor=\"middle\" font-size=\"24\">8</text><rect x=\"0\" y=\"100\" width=\"100\" height=\"100\" stroke=\"white\" stroke-width=\"5px\" fill=\"ivory\"/><text x=\"12.5%\" y=\"37.5%\" dominant-baseline=\"middle\" text-anchor=\"middle\" font-size=\"24\">2</text><rect x=\"100\" y=\"100\" width=\"100\" height=\"100\" stroke=\"white\" stroke-width=\"5px\" fill=\"antiquewhite\"/><text x=\"37.5%\" y=\"37.5%\" dominant-baseline=\"middle\" text-anchor=\"middle\" font-size=\"24\">4</text><rect x=\"200\" y=\"100\" width=\"100\" height=\"100\" stroke=\"white\" stroke-width=\"5px\" fill=\"lightsalmon\"/><text x=\"62.5%\" y=\"37.5%\" dominant-baseline=\"middle\" text-anchor=\"middle\" font-size=\"24\">8</text><rect x=\"300\" y=\"100\" width=\"100\" height=\"100\" stroke=\"white\" stroke-width=\"5px\" fill=\"darksalmon\"/><text x=\"87.5%\" y=\"37.5%\" dominant-baseline=\"middle\" text-anchor=\"middle\" font-size=\"24\">16</text><rect x=\"0\" y=\"200\" width=\"100\" height=\"100\" stroke=\"white\" stroke-width=\"5px\" fill=\"antiquewhite\"/><text x=\"12.5%\" y=\"62.5%\" dominant-baseline=\"middle\" text-anchor=\"middle\" font-size=\"24\">4</text><rect x=\"100\" y=\"200\" width=\"100\" height=\"100\" stroke=\"white\" stroke-width=\"5px\" fill=\"lightsalmon\"/><text x=\"37.5%\" y=\"62.5%\" dominant-baseline=\"middle\" text-anchor=\"middle\" font-size=\"24\">8</text><rect x=\"200\" y=\"200\" width=\"100\" height=\"100\" stroke=\"white\" stroke-width=\"5px\" fill=\"darksalmon\"/><text x=\"62.5%\" y=\"62.5%\" dominant-baseline=\"middle\" text-anchor=\"middle\" font-size=\"24\">16</text><rect x=\"300\" y=\"200\" width=\"100\" height=\"100\" stroke=\"white\" stroke-width=\"5px\" fill=\"orangered\"/><text x=\"87.5%\" y=\"62.5%\" dominant-baseline=\"middle\" text-anchor=\"middle\" font-size=\"24\">64</text><rect x=\"0\" y=\"300\" width=\"100\" height=\"100\" stroke=\"white\" stroke-width=\"5px\" fill=\"lightsalmon\"/><text x=\"12.5%\" y=\"87.5%\" dominant-baseline=\"middle\" text-anchor=\"middle\" font-size=\"24\">8</text><rect x=\"100\" y=\"300\" width=\"100\" height=\"100\" stroke=\"white\" stroke-width=\"5px\" fill=\"tomato\"/><text x=\"37.5%\" y=\"87.5%\" dominant-baseline=\"middle\" text-anchor=\"middle\" font-size=\"24\">32</text><rect x=\"200\" y=\"300\" width=\"100\" height=\"100\" stroke=\"white\" stroke-width=\"5px\" fill=\"orangered\"/><text x=\"62.5%\" y=\"87.5%\" dominant-baseline=\"middle\" text-anchor=\"middle\" font-size=\"24\">64</text><rect x=\"300\" y=\"300\" width=\"100\" height=\"100\" stroke=\"white\" stroke-width=\"5px\" fill=\"wheat\"/><text x=\"87.5%\" y=\"87.5%\" dominant-baseline=\"middle\" text-anchor=\"middle\" font-size=\"24\">128</text></svg>"
      ],
      "text/plain": [
       "<IPython.core.display.HTML object>"
      ]
     },
     "metadata": {},
     "output_type": "display_data"
    },
    {
     "name": "stdout",
     "output_type": "stream",
     "text": [
      "\n",
      "Movimiento: Derecha\n",
      "Puntuacion: 1016\n",
      "Numero de movimientos: 168\n"
     ]
    },
    {
     "data": {
      "text/html": [
       "<svg height=\"400\" width=\"400\"><rect x=\"0\" y=\"0\" width=\"100\" height=\"100\" stroke=\"white\" stroke-width=\"5px\" fill=\"silver\"/><rect x=\"100\" y=\"0\" width=\"100\" height=\"100\" stroke=\"white\" stroke-width=\"5px\" fill=\"silver\"/><rect x=\"200\" y=\"0\" width=\"100\" height=\"100\" stroke=\"white\" stroke-width=\"5px\" fill=\"antiquewhite\"/><text x=\"62.5%\" y=\"12.5%\" dominant-baseline=\"middle\" text-anchor=\"middle\" font-size=\"24\">4</text><rect x=\"300\" y=\"0\" width=\"100\" height=\"100\" stroke=\"white\" stroke-width=\"5px\" fill=\"lightsalmon\"/><text x=\"87.5%\" y=\"12.5%\" dominant-baseline=\"middle\" text-anchor=\"middle\" font-size=\"24\">8</text><rect x=\"0\" y=\"100\" width=\"100\" height=\"100\" stroke=\"white\" stroke-width=\"5px\" fill=\"ivory\"/><text x=\"12.5%\" y=\"37.5%\" dominant-baseline=\"middle\" text-anchor=\"middle\" font-size=\"24\">2</text><rect x=\"100\" y=\"100\" width=\"100\" height=\"100\" stroke=\"white\" stroke-width=\"5px\" fill=\"lightsalmon\"/><text x=\"37.5%\" y=\"37.5%\" dominant-baseline=\"middle\" text-anchor=\"middle\" font-size=\"24\">8</text><rect x=\"200\" y=\"100\" width=\"100\" height=\"100\" stroke=\"white\" stroke-width=\"5px\" fill=\"lightsalmon\"/><text x=\"62.5%\" y=\"37.5%\" dominant-baseline=\"middle\" text-anchor=\"middle\" font-size=\"24\">8</text><rect x=\"300\" y=\"100\" width=\"100\" height=\"100\" stroke=\"white\" stroke-width=\"5px\" fill=\"darksalmon\"/><text x=\"87.5%\" y=\"37.5%\" dominant-baseline=\"middle\" text-anchor=\"middle\" font-size=\"24\">16</text><rect x=\"0\" y=\"200\" width=\"100\" height=\"100\" stroke=\"white\" stroke-width=\"5px\" fill=\"antiquewhite\"/><text x=\"12.5%\" y=\"62.5%\" dominant-baseline=\"middle\" text-anchor=\"middle\" font-size=\"24\">4</text><rect x=\"100\" y=\"200\" width=\"100\" height=\"100\" stroke=\"white\" stroke-width=\"5px\" fill=\"lightsalmon\"/><text x=\"37.5%\" y=\"62.5%\" dominant-baseline=\"middle\" text-anchor=\"middle\" font-size=\"24\">8</text><rect x=\"200\" y=\"200\" width=\"100\" height=\"100\" stroke=\"white\" stroke-width=\"5px\" fill=\"darksalmon\"/><text x=\"62.5%\" y=\"62.5%\" dominant-baseline=\"middle\" text-anchor=\"middle\" font-size=\"24\">16</text><rect x=\"300\" y=\"200\" width=\"100\" height=\"100\" stroke=\"white\" stroke-width=\"5px\" fill=\"orangered\"/><text x=\"87.5%\" y=\"62.5%\" dominant-baseline=\"middle\" text-anchor=\"middle\" font-size=\"24\">64</text><rect x=\"0\" y=\"300\" width=\"100\" height=\"100\" stroke=\"white\" stroke-width=\"5px\" fill=\"lightsalmon\"/><text x=\"12.5%\" y=\"87.5%\" dominant-baseline=\"middle\" text-anchor=\"middle\" font-size=\"24\">8</text><rect x=\"100\" y=\"300\" width=\"100\" height=\"100\" stroke=\"white\" stroke-width=\"5px\" fill=\"tomato\"/><text x=\"37.5%\" y=\"87.5%\" dominant-baseline=\"middle\" text-anchor=\"middle\" font-size=\"24\">32</text><rect x=\"200\" y=\"300\" width=\"100\" height=\"100\" stroke=\"white\" stroke-width=\"5px\" fill=\"orangered\"/><text x=\"62.5%\" y=\"87.5%\" dominant-baseline=\"middle\" text-anchor=\"middle\" font-size=\"24\">64</text><rect x=\"300\" y=\"300\" width=\"100\" height=\"100\" stroke=\"white\" stroke-width=\"5px\" fill=\"wheat\"/><text x=\"87.5%\" y=\"87.5%\" dominant-baseline=\"middle\" text-anchor=\"middle\" font-size=\"24\">128</text></svg>"
      ],
      "text/plain": [
       "<IPython.core.display.HTML object>"
      ]
     },
     "metadata": {},
     "output_type": "display_data"
    },
    {
     "name": "stdout",
     "output_type": "stream",
     "text": [
      "\n",
      "Movimiento: Derecha\n",
      "Puntuacion: 1048\n",
      "Numero de movimientos: 169\n"
     ]
    },
    {
     "data": {
      "text/html": [
       "<svg height=\"400\" width=\"400\"><rect x=\"0\" y=\"0\" width=\"100\" height=\"100\" stroke=\"white\" stroke-width=\"5px\" fill=\"silver\"/><rect x=\"100\" y=\"0\" width=\"100\" height=\"100\" stroke=\"white\" stroke-width=\"5px\" fill=\"ivory\"/><text x=\"37.5%\" y=\"12.5%\" dominant-baseline=\"middle\" text-anchor=\"middle\" font-size=\"24\">2</text><rect x=\"200\" y=\"0\" width=\"100\" height=\"100\" stroke=\"white\" stroke-width=\"5px\" fill=\"antiquewhite\"/><text x=\"62.5%\" y=\"12.5%\" dominant-baseline=\"middle\" text-anchor=\"middle\" font-size=\"24\">4</text><rect x=\"300\" y=\"0\" width=\"100\" height=\"100\" stroke=\"white\" stroke-width=\"5px\" fill=\"lightsalmon\"/><text x=\"87.5%\" y=\"12.5%\" dominant-baseline=\"middle\" text-anchor=\"middle\" font-size=\"24\">8</text><rect x=\"0\" y=\"100\" width=\"100\" height=\"100\" stroke=\"white\" stroke-width=\"5px\" fill=\"silver\"/><rect x=\"100\" y=\"100\" width=\"100\" height=\"100\" stroke=\"white\" stroke-width=\"5px\" fill=\"ivory\"/><text x=\"37.5%\" y=\"37.5%\" dominant-baseline=\"middle\" text-anchor=\"middle\" font-size=\"24\">2</text><rect x=\"200\" y=\"100\" width=\"100\" height=\"100\" stroke=\"white\" stroke-width=\"5px\" fill=\"lightsalmon\"/><text x=\"62.5%\" y=\"37.5%\" dominant-baseline=\"middle\" text-anchor=\"middle\" font-size=\"24\">8</text><rect x=\"300\" y=\"100\" width=\"100\" height=\"100\" stroke=\"white\" stroke-width=\"5px\" fill=\"darksalmon\"/><text x=\"87.5%\" y=\"37.5%\" dominant-baseline=\"middle\" text-anchor=\"middle\" font-size=\"24\">16</text><rect x=\"0\" y=\"200\" width=\"100\" height=\"100\" stroke=\"white\" stroke-width=\"5px\" fill=\"silver\"/><rect x=\"100\" y=\"200\" width=\"100\" height=\"100\" stroke=\"white\" stroke-width=\"5px\" fill=\"antiquewhite\"/><text x=\"37.5%\" y=\"62.5%\" dominant-baseline=\"middle\" text-anchor=\"middle\" font-size=\"24\">4</text><rect x=\"200\" y=\"200\" width=\"100\" height=\"100\" stroke=\"white\" stroke-width=\"5px\" fill=\"tomato\"/><text x=\"62.5%\" y=\"62.5%\" dominant-baseline=\"middle\" text-anchor=\"middle\" font-size=\"24\">32</text><rect x=\"300\" y=\"200\" width=\"100\" height=\"100\" stroke=\"white\" stroke-width=\"5px\" fill=\"orangered\"/><text x=\"87.5%\" y=\"62.5%\" dominant-baseline=\"middle\" text-anchor=\"middle\" font-size=\"24\">64</text><rect x=\"0\" y=\"300\" width=\"100\" height=\"100\" stroke=\"white\" stroke-width=\"5px\" fill=\"lightsalmon\"/><text x=\"12.5%\" y=\"87.5%\" dominant-baseline=\"middle\" text-anchor=\"middle\" font-size=\"24\">8</text><rect x=\"100\" y=\"300\" width=\"100\" height=\"100\" stroke=\"white\" stroke-width=\"5px\" fill=\"tomato\"/><text x=\"37.5%\" y=\"87.5%\" dominant-baseline=\"middle\" text-anchor=\"middle\" font-size=\"24\">32</text><rect x=\"200\" y=\"300\" width=\"100\" height=\"100\" stroke=\"white\" stroke-width=\"5px\" fill=\"orangered\"/><text x=\"62.5%\" y=\"87.5%\" dominant-baseline=\"middle\" text-anchor=\"middle\" font-size=\"24\">64</text><rect x=\"300\" y=\"300\" width=\"100\" height=\"100\" stroke=\"white\" stroke-width=\"5px\" fill=\"wheat\"/><text x=\"87.5%\" y=\"87.5%\" dominant-baseline=\"middle\" text-anchor=\"middle\" font-size=\"24\">128</text></svg>"
      ],
      "text/plain": [
       "<IPython.core.display.HTML object>"
      ]
     },
     "metadata": {},
     "output_type": "display_data"
    },
    {
     "name": "stdout",
     "output_type": "stream",
     "text": [
      "\n",
      "Movimiento: Derecha\n",
      "Puntuacion: 1048\n",
      "Numero de movimientos: 170\n"
     ]
    },
    {
     "data": {
      "text/html": [
       "<svg height=\"400\" width=\"400\"><rect x=\"0\" y=\"0\" width=\"100\" height=\"100\" stroke=\"white\" stroke-width=\"5px\" fill=\"silver\"/><rect x=\"100\" y=\"0\" width=\"100\" height=\"100\" stroke=\"white\" stroke-width=\"5px\" fill=\"ivory\"/><text x=\"37.5%\" y=\"12.5%\" dominant-baseline=\"middle\" text-anchor=\"middle\" font-size=\"24\">2</text><rect x=\"200\" y=\"0\" width=\"100\" height=\"100\" stroke=\"white\" stroke-width=\"5px\" fill=\"antiquewhite\"/><text x=\"62.5%\" y=\"12.5%\" dominant-baseline=\"middle\" text-anchor=\"middle\" font-size=\"24\">4</text><rect x=\"300\" y=\"0\" width=\"100\" height=\"100\" stroke=\"white\" stroke-width=\"5px\" fill=\"lightsalmon\"/><text x=\"87.5%\" y=\"12.5%\" dominant-baseline=\"middle\" text-anchor=\"middle\" font-size=\"24\">8</text><rect x=\"0\" y=\"100\" width=\"100\" height=\"100\" stroke=\"white\" stroke-width=\"5px\" fill=\"silver\"/><rect x=\"100\" y=\"100\" width=\"100\" height=\"100\" stroke=\"white\" stroke-width=\"5px\" fill=\"antiquewhite\"/><text x=\"37.5%\" y=\"37.5%\" dominant-baseline=\"middle\" text-anchor=\"middle\" font-size=\"24\">4</text><rect x=\"200\" y=\"100\" width=\"100\" height=\"100\" stroke=\"white\" stroke-width=\"5px\" fill=\"lightsalmon\"/><text x=\"62.5%\" y=\"37.5%\" dominant-baseline=\"middle\" text-anchor=\"middle\" font-size=\"24\">8</text><rect x=\"300\" y=\"100\" width=\"100\" height=\"100\" stroke=\"white\" stroke-width=\"5px\" fill=\"darksalmon\"/><text x=\"87.5%\" y=\"37.5%\" dominant-baseline=\"middle\" text-anchor=\"middle\" font-size=\"24\">16</text><rect x=\"0\" y=\"200\" width=\"100\" height=\"100\" stroke=\"white\" stroke-width=\"5px\" fill=\"silver\"/><rect x=\"100\" y=\"200\" width=\"100\" height=\"100\" stroke=\"white\" stroke-width=\"5px\" fill=\"antiquewhite\"/><text x=\"37.5%\" y=\"62.5%\" dominant-baseline=\"middle\" text-anchor=\"middle\" font-size=\"24\">4</text><rect x=\"200\" y=\"200\" width=\"100\" height=\"100\" stroke=\"white\" stroke-width=\"5px\" fill=\"tomato\"/><text x=\"62.5%\" y=\"62.5%\" dominant-baseline=\"middle\" text-anchor=\"middle\" font-size=\"24\">32</text><rect x=\"300\" y=\"200\" width=\"100\" height=\"100\" stroke=\"white\" stroke-width=\"5px\" fill=\"orangered\"/><text x=\"87.5%\" y=\"62.5%\" dominant-baseline=\"middle\" text-anchor=\"middle\" font-size=\"24\">64</text><rect x=\"0\" y=\"300\" width=\"100\" height=\"100\" stroke=\"white\" stroke-width=\"5px\" fill=\"lightsalmon\"/><text x=\"12.5%\" y=\"87.5%\" dominant-baseline=\"middle\" text-anchor=\"middle\" font-size=\"24\">8</text><rect x=\"100\" y=\"300\" width=\"100\" height=\"100\" stroke=\"white\" stroke-width=\"5px\" fill=\"tomato\"/><text x=\"37.5%\" y=\"87.5%\" dominant-baseline=\"middle\" text-anchor=\"middle\" font-size=\"24\">32</text><rect x=\"200\" y=\"300\" width=\"100\" height=\"100\" stroke=\"white\" stroke-width=\"5px\" fill=\"orangered\"/><text x=\"62.5%\" y=\"87.5%\" dominant-baseline=\"middle\" text-anchor=\"middle\" font-size=\"24\">64</text><rect x=\"300\" y=\"300\" width=\"100\" height=\"100\" stroke=\"white\" stroke-width=\"5px\" fill=\"wheat\"/><text x=\"87.5%\" y=\"87.5%\" dominant-baseline=\"middle\" text-anchor=\"middle\" font-size=\"24\">128</text></svg>"
      ],
      "text/plain": [
       "<IPython.core.display.HTML object>"
      ]
     },
     "metadata": {},
     "output_type": "display_data"
    },
    {
     "name": "stdout",
     "output_type": "stream",
     "text": [
      "\n",
      "Movimiento: Derecha\n",
      "Puntuacion: 1048\n",
      "Numero de movimientos: 171\n"
     ]
    },
    {
     "data": {
      "text/html": [
       "<svg height=\"400\" width=\"400\"><rect x=\"0\" y=\"0\" width=\"100\" height=\"100\" stroke=\"white\" stroke-width=\"5px\" fill=\"silver\"/><rect x=\"100\" y=\"0\" width=\"100\" height=\"100\" stroke=\"white\" stroke-width=\"5px\" fill=\"silver\"/><rect x=\"200\" y=\"0\" width=\"100\" height=\"100\" stroke=\"white\" stroke-width=\"5px\" fill=\"antiquewhite\"/><text x=\"62.5%\" y=\"12.5%\" dominant-baseline=\"middle\" text-anchor=\"middle\" font-size=\"24\">4</text><rect x=\"300\" y=\"0\" width=\"100\" height=\"100\" stroke=\"white\" stroke-width=\"5px\" fill=\"lightsalmon\"/><text x=\"87.5%\" y=\"12.5%\" dominant-baseline=\"middle\" text-anchor=\"middle\" font-size=\"24\">8</text><rect x=\"0\" y=\"100\" width=\"100\" height=\"100\" stroke=\"white\" stroke-width=\"5px\" fill=\"silver\"/><rect x=\"100\" y=\"100\" width=\"100\" height=\"100\" stroke=\"white\" stroke-width=\"5px\" fill=\"ivory\"/><text x=\"37.5%\" y=\"37.5%\" dominant-baseline=\"middle\" text-anchor=\"middle\" font-size=\"24\">2</text><rect x=\"200\" y=\"100\" width=\"100\" height=\"100\" stroke=\"white\" stroke-width=\"5px\" fill=\"lightsalmon\"/><text x=\"62.5%\" y=\"37.5%\" dominant-baseline=\"middle\" text-anchor=\"middle\" font-size=\"24\">8</text><rect x=\"300\" y=\"100\" width=\"100\" height=\"100\" stroke=\"white\" stroke-width=\"5px\" fill=\"darksalmon\"/><text x=\"87.5%\" y=\"37.5%\" dominant-baseline=\"middle\" text-anchor=\"middle\" font-size=\"24\">16</text><rect x=\"0\" y=\"200\" width=\"100\" height=\"100\" stroke=\"white\" stroke-width=\"5px\" fill=\"ivory\"/><text x=\"12.5%\" y=\"62.5%\" dominant-baseline=\"middle\" text-anchor=\"middle\" font-size=\"24\">2</text><rect x=\"100\" y=\"200\" width=\"100\" height=\"100\" stroke=\"white\" stroke-width=\"5px\" fill=\"lightsalmon\"/><text x=\"37.5%\" y=\"62.5%\" dominant-baseline=\"middle\" text-anchor=\"middle\" font-size=\"24\">8</text><rect x=\"200\" y=\"200\" width=\"100\" height=\"100\" stroke=\"white\" stroke-width=\"5px\" fill=\"tomato\"/><text x=\"62.5%\" y=\"62.5%\" dominant-baseline=\"middle\" text-anchor=\"middle\" font-size=\"24\">32</text><rect x=\"300\" y=\"200\" width=\"100\" height=\"100\" stroke=\"white\" stroke-width=\"5px\" fill=\"orangered\"/><text x=\"87.5%\" y=\"62.5%\" dominant-baseline=\"middle\" text-anchor=\"middle\" font-size=\"24\">64</text><rect x=\"0\" y=\"300\" width=\"100\" height=\"100\" stroke=\"white\" stroke-width=\"5px\" fill=\"lightsalmon\"/><text x=\"12.5%\" y=\"87.5%\" dominant-baseline=\"middle\" text-anchor=\"middle\" font-size=\"24\">8</text><rect x=\"100\" y=\"300\" width=\"100\" height=\"100\" stroke=\"white\" stroke-width=\"5px\" fill=\"tomato\"/><text x=\"37.5%\" y=\"87.5%\" dominant-baseline=\"middle\" text-anchor=\"middle\" font-size=\"24\">32</text><rect x=\"200\" y=\"300\" width=\"100\" height=\"100\" stroke=\"white\" stroke-width=\"5px\" fill=\"orangered\"/><text x=\"62.5%\" y=\"87.5%\" dominant-baseline=\"middle\" text-anchor=\"middle\" font-size=\"24\">64</text><rect x=\"300\" y=\"300\" width=\"100\" height=\"100\" stroke=\"white\" stroke-width=\"5px\" fill=\"wheat\"/><text x=\"87.5%\" y=\"87.5%\" dominant-baseline=\"middle\" text-anchor=\"middle\" font-size=\"24\">128</text></svg>"
      ],
      "text/plain": [
       "<IPython.core.display.HTML object>"
      ]
     },
     "metadata": {},
     "output_type": "display_data"
    },
    {
     "name": "stdout",
     "output_type": "stream",
     "text": [
      "\n",
      "Movimiento: Abajo\n",
      "Puntuacion: 1048\n",
      "Numero de movimientos: 172\n"
     ]
    },
    {
     "data": {
      "text/html": [
       "<svg height=\"400\" width=\"400\"><rect x=\"0\" y=\"0\" width=\"100\" height=\"100\" stroke=\"white\" stroke-width=\"5px\" fill=\"ivory\"/><text x=\"12.5%\" y=\"12.5%\" dominant-baseline=\"middle\" text-anchor=\"middle\" font-size=\"24\">2</text><rect x=\"100\" y=\"0\" width=\"100\" height=\"100\" stroke=\"white\" stroke-width=\"5px\" fill=\"silver\"/><rect x=\"200\" y=\"0\" width=\"100\" height=\"100\" stroke=\"white\" stroke-width=\"5px\" fill=\"antiquewhite\"/><text x=\"62.5%\" y=\"12.5%\" dominant-baseline=\"middle\" text-anchor=\"middle\" font-size=\"24\">4</text><rect x=\"300\" y=\"0\" width=\"100\" height=\"100\" stroke=\"white\" stroke-width=\"5px\" fill=\"lightsalmon\"/><text x=\"87.5%\" y=\"12.5%\" dominant-baseline=\"middle\" text-anchor=\"middle\" font-size=\"24\">8</text><rect x=\"0\" y=\"100\" width=\"100\" height=\"100\" stroke=\"white\" stroke-width=\"5px\" fill=\"silver\"/><rect x=\"100\" y=\"100\" width=\"100\" height=\"100\" stroke=\"white\" stroke-width=\"5px\" fill=\"ivory\"/><text x=\"37.5%\" y=\"37.5%\" dominant-baseline=\"middle\" text-anchor=\"middle\" font-size=\"24\">2</text><rect x=\"200\" y=\"100\" width=\"100\" height=\"100\" stroke=\"white\" stroke-width=\"5px\" fill=\"lightsalmon\"/><text x=\"62.5%\" y=\"37.5%\" dominant-baseline=\"middle\" text-anchor=\"middle\" font-size=\"24\">8</text><rect x=\"300\" y=\"100\" width=\"100\" height=\"100\" stroke=\"white\" stroke-width=\"5px\" fill=\"darksalmon\"/><text x=\"87.5%\" y=\"37.5%\" dominant-baseline=\"middle\" text-anchor=\"middle\" font-size=\"24\">16</text><rect x=\"0\" y=\"200\" width=\"100\" height=\"100\" stroke=\"white\" stroke-width=\"5px\" fill=\"ivory\"/><text x=\"12.5%\" y=\"62.5%\" dominant-baseline=\"middle\" text-anchor=\"middle\" font-size=\"24\">2</text><rect x=\"100\" y=\"200\" width=\"100\" height=\"100\" stroke=\"white\" stroke-width=\"5px\" fill=\"lightsalmon\"/><text x=\"37.5%\" y=\"62.5%\" dominant-baseline=\"middle\" text-anchor=\"middle\" font-size=\"24\">8</text><rect x=\"200\" y=\"200\" width=\"100\" height=\"100\" stroke=\"white\" stroke-width=\"5px\" fill=\"tomato\"/><text x=\"62.5%\" y=\"62.5%\" dominant-baseline=\"middle\" text-anchor=\"middle\" font-size=\"24\">32</text><rect x=\"300\" y=\"200\" width=\"100\" height=\"100\" stroke=\"white\" stroke-width=\"5px\" fill=\"orangered\"/><text x=\"87.5%\" y=\"62.5%\" dominant-baseline=\"middle\" text-anchor=\"middle\" font-size=\"24\">64</text><rect x=\"0\" y=\"300\" width=\"100\" height=\"100\" stroke=\"white\" stroke-width=\"5px\" fill=\"lightsalmon\"/><text x=\"12.5%\" y=\"87.5%\" dominant-baseline=\"middle\" text-anchor=\"middle\" font-size=\"24\">8</text><rect x=\"100\" y=\"300\" width=\"100\" height=\"100\" stroke=\"white\" stroke-width=\"5px\" fill=\"tomato\"/><text x=\"37.5%\" y=\"87.5%\" dominant-baseline=\"middle\" text-anchor=\"middle\" font-size=\"24\">32</text><rect x=\"200\" y=\"300\" width=\"100\" height=\"100\" stroke=\"white\" stroke-width=\"5px\" fill=\"orangered\"/><text x=\"62.5%\" y=\"87.5%\" dominant-baseline=\"middle\" text-anchor=\"middle\" font-size=\"24\">64</text><rect x=\"300\" y=\"300\" width=\"100\" height=\"100\" stroke=\"white\" stroke-width=\"5px\" fill=\"wheat\"/><text x=\"87.5%\" y=\"87.5%\" dominant-baseline=\"middle\" text-anchor=\"middle\" font-size=\"24\">128</text></svg>"
      ],
      "text/plain": [
       "<IPython.core.display.HTML object>"
      ]
     },
     "metadata": {},
     "output_type": "display_data"
    },
    {
     "name": "stdout",
     "output_type": "stream",
     "text": [
      "\n",
      "Movimiento: Derecha\n",
      "Puntuacion: 1048\n",
      "Numero de movimientos: 173\n"
     ]
    },
    {
     "data": {
      "text/html": [
       "<svg height=\"400\" width=\"400\"><rect x=\"0\" y=\"0\" width=\"100\" height=\"100\" stroke=\"white\" stroke-width=\"5px\" fill=\"silver\"/><rect x=\"100\" y=\"0\" width=\"100\" height=\"100\" stroke=\"white\" stroke-width=\"5px\" fill=\"ivory\"/><text x=\"37.5%\" y=\"12.5%\" dominant-baseline=\"middle\" text-anchor=\"middle\" font-size=\"24\">2</text><rect x=\"200\" y=\"0\" width=\"100\" height=\"100\" stroke=\"white\" stroke-width=\"5px\" fill=\"antiquewhite\"/><text x=\"62.5%\" y=\"12.5%\" dominant-baseline=\"middle\" text-anchor=\"middle\" font-size=\"24\">4</text><rect x=\"300\" y=\"0\" width=\"100\" height=\"100\" stroke=\"white\" stroke-width=\"5px\" fill=\"lightsalmon\"/><text x=\"87.5%\" y=\"12.5%\" dominant-baseline=\"middle\" text-anchor=\"middle\" font-size=\"24\">8</text><rect x=\"0\" y=\"100\" width=\"100\" height=\"100\" stroke=\"white\" stroke-width=\"5px\" fill=\"silver\"/><rect x=\"100\" y=\"100\" width=\"100\" height=\"100\" stroke=\"white\" stroke-width=\"5px\" fill=\"ivory\"/><text x=\"37.5%\" y=\"37.5%\" dominant-baseline=\"middle\" text-anchor=\"middle\" font-size=\"24\">2</text><rect x=\"200\" y=\"100\" width=\"100\" height=\"100\" stroke=\"white\" stroke-width=\"5px\" fill=\"lightsalmon\"/><text x=\"62.5%\" y=\"37.5%\" dominant-baseline=\"middle\" text-anchor=\"middle\" font-size=\"24\">8</text><rect x=\"300\" y=\"100\" width=\"100\" height=\"100\" stroke=\"white\" stroke-width=\"5px\" fill=\"darksalmon\"/><text x=\"87.5%\" y=\"37.5%\" dominant-baseline=\"middle\" text-anchor=\"middle\" font-size=\"24\">16</text><rect x=\"0\" y=\"200\" width=\"100\" height=\"100\" stroke=\"white\" stroke-width=\"5px\" fill=\"antiquewhite\"/><text x=\"12.5%\" y=\"62.5%\" dominant-baseline=\"middle\" text-anchor=\"middle\" font-size=\"24\">4</text><rect x=\"100\" y=\"200\" width=\"100\" height=\"100\" stroke=\"white\" stroke-width=\"5px\" fill=\"lightsalmon\"/><text x=\"37.5%\" y=\"62.5%\" dominant-baseline=\"middle\" text-anchor=\"middle\" font-size=\"24\">8</text><rect x=\"200\" y=\"200\" width=\"100\" height=\"100\" stroke=\"white\" stroke-width=\"5px\" fill=\"tomato\"/><text x=\"62.5%\" y=\"62.5%\" dominant-baseline=\"middle\" text-anchor=\"middle\" font-size=\"24\">32</text><rect x=\"300\" y=\"200\" width=\"100\" height=\"100\" stroke=\"white\" stroke-width=\"5px\" fill=\"orangered\"/><text x=\"87.5%\" y=\"62.5%\" dominant-baseline=\"middle\" text-anchor=\"middle\" font-size=\"24\">64</text><rect x=\"0\" y=\"300\" width=\"100\" height=\"100\" stroke=\"white\" stroke-width=\"5px\" fill=\"lightsalmon\"/><text x=\"12.5%\" y=\"87.5%\" dominant-baseline=\"middle\" text-anchor=\"middle\" font-size=\"24\">8</text><rect x=\"100\" y=\"300\" width=\"100\" height=\"100\" stroke=\"white\" stroke-width=\"5px\" fill=\"tomato\"/><text x=\"37.5%\" y=\"87.5%\" dominant-baseline=\"middle\" text-anchor=\"middle\" font-size=\"24\">32</text><rect x=\"200\" y=\"300\" width=\"100\" height=\"100\" stroke=\"white\" stroke-width=\"5px\" fill=\"orangered\"/><text x=\"62.5%\" y=\"87.5%\" dominant-baseline=\"middle\" text-anchor=\"middle\" font-size=\"24\">64</text><rect x=\"300\" y=\"300\" width=\"100\" height=\"100\" stroke=\"white\" stroke-width=\"5px\" fill=\"wheat\"/><text x=\"87.5%\" y=\"87.5%\" dominant-baseline=\"middle\" text-anchor=\"middle\" font-size=\"24\">128</text></svg>"
      ],
      "text/plain": [
       "<IPython.core.display.HTML object>"
      ]
     },
     "metadata": {},
     "output_type": "display_data"
    },
    {
     "name": "stdout",
     "output_type": "stream",
     "text": [
      "\n",
      "Movimiento: Derecha\n",
      "Puntuacion: 1048\n",
      "Numero de movimientos: 174\n"
     ]
    },
    {
     "data": {
      "text/html": [
       "<svg height=\"400\" width=\"400\"><rect x=\"0\" y=\"0\" width=\"100\" height=\"100\" stroke=\"white\" stroke-width=\"5px\" fill=\"silver\"/><rect x=\"100\" y=\"0\" width=\"100\" height=\"100\" stroke=\"white\" stroke-width=\"5px\" fill=\"ivory\"/><text x=\"37.5%\" y=\"12.5%\" dominant-baseline=\"middle\" text-anchor=\"middle\" font-size=\"24\">2</text><rect x=\"200\" y=\"0\" width=\"100\" height=\"100\" stroke=\"white\" stroke-width=\"5px\" fill=\"antiquewhite\"/><text x=\"62.5%\" y=\"12.5%\" dominant-baseline=\"middle\" text-anchor=\"middle\" font-size=\"24\">4</text><rect x=\"300\" y=\"0\" width=\"100\" height=\"100\" stroke=\"white\" stroke-width=\"5px\" fill=\"lightsalmon\"/><text x=\"87.5%\" y=\"12.5%\" dominant-baseline=\"middle\" text-anchor=\"middle\" font-size=\"24\">8</text><rect x=\"0\" y=\"100\" width=\"100\" height=\"100\" stroke=\"white\" stroke-width=\"5px\" fill=\"silver\"/><rect x=\"100\" y=\"100\" width=\"100\" height=\"100\" stroke=\"white\" stroke-width=\"5px\" fill=\"antiquewhite\"/><text x=\"37.5%\" y=\"37.5%\" dominant-baseline=\"middle\" text-anchor=\"middle\" font-size=\"24\">4</text><rect x=\"200\" y=\"100\" width=\"100\" height=\"100\" stroke=\"white\" stroke-width=\"5px\" fill=\"lightsalmon\"/><text x=\"62.5%\" y=\"37.5%\" dominant-baseline=\"middle\" text-anchor=\"middle\" font-size=\"24\">8</text><rect x=\"300\" y=\"100\" width=\"100\" height=\"100\" stroke=\"white\" stroke-width=\"5px\" fill=\"darksalmon\"/><text x=\"87.5%\" y=\"37.5%\" dominant-baseline=\"middle\" text-anchor=\"middle\" font-size=\"24\">16</text><rect x=\"0\" y=\"200\" width=\"100\" height=\"100\" stroke=\"white\" stroke-width=\"5px\" fill=\"antiquewhite\"/><text x=\"12.5%\" y=\"62.5%\" dominant-baseline=\"middle\" text-anchor=\"middle\" font-size=\"24\">4</text><rect x=\"100\" y=\"200\" width=\"100\" height=\"100\" stroke=\"white\" stroke-width=\"5px\" fill=\"lightsalmon\"/><text x=\"37.5%\" y=\"62.5%\" dominant-baseline=\"middle\" text-anchor=\"middle\" font-size=\"24\">8</text><rect x=\"200\" y=\"200\" width=\"100\" height=\"100\" stroke=\"white\" stroke-width=\"5px\" fill=\"tomato\"/><text x=\"62.5%\" y=\"62.5%\" dominant-baseline=\"middle\" text-anchor=\"middle\" font-size=\"24\">32</text><rect x=\"300\" y=\"200\" width=\"100\" height=\"100\" stroke=\"white\" stroke-width=\"5px\" fill=\"orangered\"/><text x=\"87.5%\" y=\"62.5%\" dominant-baseline=\"middle\" text-anchor=\"middle\" font-size=\"24\">64</text><rect x=\"0\" y=\"300\" width=\"100\" height=\"100\" stroke=\"white\" stroke-width=\"5px\" fill=\"lightsalmon\"/><text x=\"12.5%\" y=\"87.5%\" dominant-baseline=\"middle\" text-anchor=\"middle\" font-size=\"24\">8</text><rect x=\"100\" y=\"300\" width=\"100\" height=\"100\" stroke=\"white\" stroke-width=\"5px\" fill=\"tomato\"/><text x=\"37.5%\" y=\"87.5%\" dominant-baseline=\"middle\" text-anchor=\"middle\" font-size=\"24\">32</text><rect x=\"200\" y=\"300\" width=\"100\" height=\"100\" stroke=\"white\" stroke-width=\"5px\" fill=\"orangered\"/><text x=\"62.5%\" y=\"87.5%\" dominant-baseline=\"middle\" text-anchor=\"middle\" font-size=\"24\">64</text><rect x=\"300\" y=\"300\" width=\"100\" height=\"100\" stroke=\"white\" stroke-width=\"5px\" fill=\"wheat\"/><text x=\"87.5%\" y=\"87.5%\" dominant-baseline=\"middle\" text-anchor=\"middle\" font-size=\"24\">128</text></svg>"
      ],
      "text/plain": [
       "<IPython.core.display.HTML object>"
      ]
     },
     "metadata": {},
     "output_type": "display_data"
    },
    {
     "name": "stdout",
     "output_type": "stream",
     "text": [
      "\n",
      "Movimiento: Abajo\n",
      "Puntuacion: 1048\n",
      "Numero de movimientos: 175\n"
     ]
    },
    {
     "data": {
      "text/html": [
       "<svg height=\"400\" width=\"400\"><rect x=\"0\" y=\"0\" width=\"100\" height=\"100\" stroke=\"white\" stroke-width=\"5px\" fill=\"ivory\"/><text x=\"12.5%\" y=\"12.5%\" dominant-baseline=\"middle\" text-anchor=\"middle\" font-size=\"24\">2</text><rect x=\"100\" y=\"0\" width=\"100\" height=\"100\" stroke=\"white\" stroke-width=\"5px\" fill=\"ivory\"/><text x=\"37.5%\" y=\"12.5%\" dominant-baseline=\"middle\" text-anchor=\"middle\" font-size=\"24\">2</text><rect x=\"200\" y=\"0\" width=\"100\" height=\"100\" stroke=\"white\" stroke-width=\"5px\" fill=\"antiquewhite\"/><text x=\"62.5%\" y=\"12.5%\" dominant-baseline=\"middle\" text-anchor=\"middle\" font-size=\"24\">4</text><rect x=\"300\" y=\"0\" width=\"100\" height=\"100\" stroke=\"white\" stroke-width=\"5px\" fill=\"lightsalmon\"/><text x=\"87.5%\" y=\"12.5%\" dominant-baseline=\"middle\" text-anchor=\"middle\" font-size=\"24\">8</text><rect x=\"0\" y=\"100\" width=\"100\" height=\"100\" stroke=\"white\" stroke-width=\"5px\" fill=\"silver\"/><rect x=\"100\" y=\"100\" width=\"100\" height=\"100\" stroke=\"white\" stroke-width=\"5px\" fill=\"antiquewhite\"/><text x=\"37.5%\" y=\"37.5%\" dominant-baseline=\"middle\" text-anchor=\"middle\" font-size=\"24\">4</text><rect x=\"200\" y=\"100\" width=\"100\" height=\"100\" stroke=\"white\" stroke-width=\"5px\" fill=\"lightsalmon\"/><text x=\"62.5%\" y=\"37.5%\" dominant-baseline=\"middle\" text-anchor=\"middle\" font-size=\"24\">8</text><rect x=\"300\" y=\"100\" width=\"100\" height=\"100\" stroke=\"white\" stroke-width=\"5px\" fill=\"darksalmon\"/><text x=\"87.5%\" y=\"37.5%\" dominant-baseline=\"middle\" text-anchor=\"middle\" font-size=\"24\">16</text><rect x=\"0\" y=\"200\" width=\"100\" height=\"100\" stroke=\"white\" stroke-width=\"5px\" fill=\"antiquewhite\"/><text x=\"12.5%\" y=\"62.5%\" dominant-baseline=\"middle\" text-anchor=\"middle\" font-size=\"24\">4</text><rect x=\"100\" y=\"200\" width=\"100\" height=\"100\" stroke=\"white\" stroke-width=\"5px\" fill=\"lightsalmon\"/><text x=\"37.5%\" y=\"62.5%\" dominant-baseline=\"middle\" text-anchor=\"middle\" font-size=\"24\">8</text><rect x=\"200\" y=\"200\" width=\"100\" height=\"100\" stroke=\"white\" stroke-width=\"5px\" fill=\"tomato\"/><text x=\"62.5%\" y=\"62.5%\" dominant-baseline=\"middle\" text-anchor=\"middle\" font-size=\"24\">32</text><rect x=\"300\" y=\"200\" width=\"100\" height=\"100\" stroke=\"white\" stroke-width=\"5px\" fill=\"orangered\"/><text x=\"87.5%\" y=\"62.5%\" dominant-baseline=\"middle\" text-anchor=\"middle\" font-size=\"24\">64</text><rect x=\"0\" y=\"300\" width=\"100\" height=\"100\" stroke=\"white\" stroke-width=\"5px\" fill=\"lightsalmon\"/><text x=\"12.5%\" y=\"87.5%\" dominant-baseline=\"middle\" text-anchor=\"middle\" font-size=\"24\">8</text><rect x=\"100\" y=\"300\" width=\"100\" height=\"100\" stroke=\"white\" stroke-width=\"5px\" fill=\"tomato\"/><text x=\"37.5%\" y=\"87.5%\" dominant-baseline=\"middle\" text-anchor=\"middle\" font-size=\"24\">32</text><rect x=\"200\" y=\"300\" width=\"100\" height=\"100\" stroke=\"white\" stroke-width=\"5px\" fill=\"orangered\"/><text x=\"62.5%\" y=\"87.5%\" dominant-baseline=\"middle\" text-anchor=\"middle\" font-size=\"24\">64</text><rect x=\"300\" y=\"300\" width=\"100\" height=\"100\" stroke=\"white\" stroke-width=\"5px\" fill=\"wheat\"/><text x=\"87.5%\" y=\"87.5%\" dominant-baseline=\"middle\" text-anchor=\"middle\" font-size=\"24\">128</text></svg>"
      ],
      "text/plain": [
       "<IPython.core.display.HTML object>"
      ]
     },
     "metadata": {},
     "output_type": "display_data"
    },
    {
     "name": "stdout",
     "output_type": "stream",
     "text": [
      "\n",
      "Movimiento: Derecha\n",
      "Puntuacion: 1048\n",
      "Numero de movimientos: 176\n"
     ]
    },
    {
     "data": {
      "text/html": [
       "<svg height=\"400\" width=\"400\"><rect x=\"0\" y=\"0\" width=\"100\" height=\"100\" stroke=\"white\" stroke-width=\"5px\" fill=\"antiquewhite\"/><text x=\"12.5%\" y=\"12.5%\" dominant-baseline=\"middle\" text-anchor=\"middle\" font-size=\"24\">4</text><rect x=\"100\" y=\"0\" width=\"100\" height=\"100\" stroke=\"white\" stroke-width=\"5px\" fill=\"ivory\"/><text x=\"37.5%\" y=\"12.5%\" dominant-baseline=\"middle\" text-anchor=\"middle\" font-size=\"24\">2</text><rect x=\"200\" y=\"0\" width=\"100\" height=\"100\" stroke=\"white\" stroke-width=\"5px\" fill=\"antiquewhite\"/><text x=\"62.5%\" y=\"12.5%\" dominant-baseline=\"middle\" text-anchor=\"middle\" font-size=\"24\">4</text><rect x=\"300\" y=\"0\" width=\"100\" height=\"100\" stroke=\"white\" stroke-width=\"5px\" fill=\"lightsalmon\"/><text x=\"87.5%\" y=\"12.5%\" dominant-baseline=\"middle\" text-anchor=\"middle\" font-size=\"24\">8</text><rect x=\"0\" y=\"100\" width=\"100\" height=\"100\" stroke=\"white\" stroke-width=\"5px\" fill=\"ivory\"/><text x=\"12.5%\" y=\"37.5%\" dominant-baseline=\"middle\" text-anchor=\"middle\" font-size=\"24\">2</text><rect x=\"100\" y=\"100\" width=\"100\" height=\"100\" stroke=\"white\" stroke-width=\"5px\" fill=\"antiquewhite\"/><text x=\"37.5%\" y=\"37.5%\" dominant-baseline=\"middle\" text-anchor=\"middle\" font-size=\"24\">4</text><rect x=\"200\" y=\"100\" width=\"100\" height=\"100\" stroke=\"white\" stroke-width=\"5px\" fill=\"lightsalmon\"/><text x=\"62.5%\" y=\"37.5%\" dominant-baseline=\"middle\" text-anchor=\"middle\" font-size=\"24\">8</text><rect x=\"300\" y=\"100\" width=\"100\" height=\"100\" stroke=\"white\" stroke-width=\"5px\" fill=\"darksalmon\"/><text x=\"87.5%\" y=\"37.5%\" dominant-baseline=\"middle\" text-anchor=\"middle\" font-size=\"24\">16</text><rect x=\"0\" y=\"200\" width=\"100\" height=\"100\" stroke=\"white\" stroke-width=\"5px\" fill=\"antiquewhite\"/><text x=\"12.5%\" y=\"62.5%\" dominant-baseline=\"middle\" text-anchor=\"middle\" font-size=\"24\">4</text><rect x=\"100\" y=\"200\" width=\"100\" height=\"100\" stroke=\"white\" stroke-width=\"5px\" fill=\"lightsalmon\"/><text x=\"37.5%\" y=\"62.5%\" dominant-baseline=\"middle\" text-anchor=\"middle\" font-size=\"24\">8</text><rect x=\"200\" y=\"200\" width=\"100\" height=\"100\" stroke=\"white\" stroke-width=\"5px\" fill=\"tomato\"/><text x=\"62.5%\" y=\"62.5%\" dominant-baseline=\"middle\" text-anchor=\"middle\" font-size=\"24\">32</text><rect x=\"300\" y=\"200\" width=\"100\" height=\"100\" stroke=\"white\" stroke-width=\"5px\" fill=\"orangered\"/><text x=\"87.5%\" y=\"62.5%\" dominant-baseline=\"middle\" text-anchor=\"middle\" font-size=\"24\">64</text><rect x=\"0\" y=\"300\" width=\"100\" height=\"100\" stroke=\"white\" stroke-width=\"5px\" fill=\"lightsalmon\"/><text x=\"12.5%\" y=\"87.5%\" dominant-baseline=\"middle\" text-anchor=\"middle\" font-size=\"24\">8</text><rect x=\"100\" y=\"300\" width=\"100\" height=\"100\" stroke=\"white\" stroke-width=\"5px\" fill=\"tomato\"/><text x=\"37.5%\" y=\"87.5%\" dominant-baseline=\"middle\" text-anchor=\"middle\" font-size=\"24\">32</text><rect x=\"200\" y=\"300\" width=\"100\" height=\"100\" stroke=\"white\" stroke-width=\"5px\" fill=\"orangered\"/><text x=\"62.5%\" y=\"87.5%\" dominant-baseline=\"middle\" text-anchor=\"middle\" font-size=\"24\">64</text><rect x=\"300\" y=\"300\" width=\"100\" height=\"100\" stroke=\"white\" stroke-width=\"5px\" fill=\"wheat\"/><text x=\"87.5%\" y=\"87.5%\" dominant-baseline=\"middle\" text-anchor=\"middle\" font-size=\"24\">128</text></svg>"
      ],
      "text/plain": [
       "<IPython.core.display.HTML object>"
      ]
     },
     "metadata": {},
     "output_type": "display_data"
    },
    {
     "name": "stdout",
     "output_type": "stream",
     "text": [
      "Puntuacion: 1048\n",
      "Numero de movimientos: 176\n"
     ]
    },
    {
     "data": {
      "text/html": [
       "<svg height=\"400\" width=\"400\"><rect x=\"0\" y=\"0\" width=\"100\" height=\"100\" stroke=\"white\" stroke-width=\"5px\" fill=\"antiquewhite\"/><text x=\"12.5%\" y=\"12.5%\" dominant-baseline=\"middle\" text-anchor=\"middle\" font-size=\"24\">4</text><rect x=\"100\" y=\"0\" width=\"100\" height=\"100\" stroke=\"white\" stroke-width=\"5px\" fill=\"ivory\"/><text x=\"37.5%\" y=\"12.5%\" dominant-baseline=\"middle\" text-anchor=\"middle\" font-size=\"24\">2</text><rect x=\"200\" y=\"0\" width=\"100\" height=\"100\" stroke=\"white\" stroke-width=\"5px\" fill=\"antiquewhite\"/><text x=\"62.5%\" y=\"12.5%\" dominant-baseline=\"middle\" text-anchor=\"middle\" font-size=\"24\">4</text><rect x=\"300\" y=\"0\" width=\"100\" height=\"100\" stroke=\"white\" stroke-width=\"5px\" fill=\"lightsalmon\"/><text x=\"87.5%\" y=\"12.5%\" dominant-baseline=\"middle\" text-anchor=\"middle\" font-size=\"24\">8</text><rect x=\"0\" y=\"100\" width=\"100\" height=\"100\" stroke=\"white\" stroke-width=\"5px\" fill=\"ivory\"/><text x=\"12.5%\" y=\"37.5%\" dominant-baseline=\"middle\" text-anchor=\"middle\" font-size=\"24\">2</text><rect x=\"100\" y=\"100\" width=\"100\" height=\"100\" stroke=\"white\" stroke-width=\"5px\" fill=\"antiquewhite\"/><text x=\"37.5%\" y=\"37.5%\" dominant-baseline=\"middle\" text-anchor=\"middle\" font-size=\"24\">4</text><rect x=\"200\" y=\"100\" width=\"100\" height=\"100\" stroke=\"white\" stroke-width=\"5px\" fill=\"lightsalmon\"/><text x=\"62.5%\" y=\"37.5%\" dominant-baseline=\"middle\" text-anchor=\"middle\" font-size=\"24\">8</text><rect x=\"300\" y=\"100\" width=\"100\" height=\"100\" stroke=\"white\" stroke-width=\"5px\" fill=\"darksalmon\"/><text x=\"87.5%\" y=\"37.5%\" dominant-baseline=\"middle\" text-anchor=\"middle\" font-size=\"24\">16</text><rect x=\"0\" y=\"200\" width=\"100\" height=\"100\" stroke=\"white\" stroke-width=\"5px\" fill=\"antiquewhite\"/><text x=\"12.5%\" y=\"62.5%\" dominant-baseline=\"middle\" text-anchor=\"middle\" font-size=\"24\">4</text><rect x=\"100\" y=\"200\" width=\"100\" height=\"100\" stroke=\"white\" stroke-width=\"5px\" fill=\"lightsalmon\"/><text x=\"37.5%\" y=\"62.5%\" dominant-baseline=\"middle\" text-anchor=\"middle\" font-size=\"24\">8</text><rect x=\"200\" y=\"200\" width=\"100\" height=\"100\" stroke=\"white\" stroke-width=\"5px\" fill=\"tomato\"/><text x=\"62.5%\" y=\"62.5%\" dominant-baseline=\"middle\" text-anchor=\"middle\" font-size=\"24\">32</text><rect x=\"300\" y=\"200\" width=\"100\" height=\"100\" stroke=\"white\" stroke-width=\"5px\" fill=\"orangered\"/><text x=\"87.5%\" y=\"62.5%\" dominant-baseline=\"middle\" text-anchor=\"middle\" font-size=\"24\">64</text><rect x=\"0\" y=\"300\" width=\"100\" height=\"100\" stroke=\"white\" stroke-width=\"5px\" fill=\"lightsalmon\"/><text x=\"12.5%\" y=\"87.5%\" dominant-baseline=\"middle\" text-anchor=\"middle\" font-size=\"24\">8</text><rect x=\"100\" y=\"300\" width=\"100\" height=\"100\" stroke=\"white\" stroke-width=\"5px\" fill=\"tomato\"/><text x=\"37.5%\" y=\"87.5%\" dominant-baseline=\"middle\" text-anchor=\"middle\" font-size=\"24\">32</text><rect x=\"200\" y=\"300\" width=\"100\" height=\"100\" stroke=\"white\" stroke-width=\"5px\" fill=\"orangered\"/><text x=\"62.5%\" y=\"87.5%\" dominant-baseline=\"middle\" text-anchor=\"middle\" font-size=\"24\">64</text><rect x=\"300\" y=\"300\" width=\"100\" height=\"100\" stroke=\"white\" stroke-width=\"5px\" fill=\"wheat\"/><text x=\"87.5%\" y=\"87.5%\" dominant-baseline=\"middle\" text-anchor=\"middle\" font-size=\"24\">128</text></svg>"
      ],
      "text/plain": [
       "<IPython.core.display.HTML object>"
      ]
     },
     "metadata": {},
     "output_type": "display_data"
    },
    {
     "name": "stdout",
     "output_type": "stream",
     "text": [
      "Perdiste!\n"
     ]
    }
   ],
   "source": [
    "def main():\n",
    "    print(\"Introduce una M para jugar en modo manual, o una A para el modo automático: \")\n",
    "    opcion = ''\n",
    "    matriz = [\n",
    "        [0,0,0,0],\n",
    "        [0,0,0,0],\n",
    "        [0,0,0,0],\n",
    "        [0,0,0,0]\n",
    "    ]\n",
    "    tab = Tablero(matriz)\n",
    "    c = Controlador(tab)\n",
    "    c.placeTileRandom()\n",
    "    c.placeTileRandom()\n",
    "\n",
    "    v = Visor(tab)\n",
    "    movs = 0\n",
    "    movimientos = {\n",
    "        0: \"Arriba\",\n",
    "        1: \"Abajo\",\n",
    "        2: \"Izquierda\",\n",
    "        3: \"Derecha\"\n",
    "    }\n",
    "\n",
    "    movimientosManual = {\n",
    "        'w': 0,\n",
    "        's': 1,\n",
    "        'a': 2,\n",
    "        'd': 3\n",
    "    }\n",
    "    \n",
    "    while(opcion != 'M' and opcion != 'm' and \n",
    "          opcion != 'A' and opcion != 'a'):\n",
    "          opcion = input()\n",
    "\n",
    "    if opcion == 'a' or opcion == 'A':\n",
    "        print(\"Selecciona heurística:\\n1) Clase6 1\\n2) Clase6 2\\n3) Clase6 3\\n4) Clase6 4\\n5) Snake (Por defecto)\\nHeurística: \")\n",
    "        validos = [\"1\", \"2\", \"3\", \"4\", \"5\", \"\"]\n",
    "        heur = input()\n",
    "        while heur not in validos:\n",
    "            heur = input()\n",
    "        if heur != \"\":\n",
    "            c.setUtil(int(heur))\n",
    "\n",
    "        v.draw()\n",
    "        while True:\n",
    "            if c.isGameOver():\n",
    "                print(\"Puntuacion: {:d}\".format(tab.punt))\n",
    "                print(\"Numero de movimientos: {:d}\".format(movs))\n",
    "                v.draw()\n",
    "                print(\"Perdiste!\")\n",
    "                break\n",
    "\n",
    "            mov = c.getBestMove(c.tablero)\n",
    "            c.move(mov)\n",
    "            movs += 1\n",
    "            print(\"\\nMovimiento: \" + movimientos[mov])\n",
    "\n",
    "            if c.isWin():\n",
    "                print(\"Puntuacion: {:d}\".format(tab.punt))\n",
    "                print(\"Numero de movimientos: {:d}\".format(movs))\n",
    "                v.draw()\n",
    "                print(\"¡Victoria!\")\n",
    "                break\n",
    "\n",
    "            c.placeTileRandom()\n",
    "            print(\"Puntuacion: {:d}\".format(tab.punt))\n",
    "            print(\"Numero de movimientos: {:d}\".format(movs))\n",
    "            v.draw()\n",
    "            #clear_output(wait=True)\n",
    "    else:\n",
    "        v.draw()\n",
    "        while True:\n",
    "            if c.isGameOver():\n",
    "                print(\"Puntuacion: {:d}\".format(tab.punt))\n",
    "                print(\"Numero de movimientos: {:d}\".format(movs))\n",
    "                v.draw()\n",
    "                break\n",
    "            \n",
    "            mov = input()\n",
    "            while mov not in movimientosManual.keys() or not c.canMove(movimientosManual[mov]):\n",
    "                mov = input()\n",
    "            mov = movimientosManual[mov]\n",
    "            c.move(mov)\n",
    "            movs += 1\n",
    "            print(\"\\nMovimiento: \" + movimientos[mov])\n",
    "\n",
    "            if c.isWin():\n",
    "                print(\"Puntuacion: {:d}\".format(tab.punt))\n",
    "                print(\"Numero de movimientos: {:d}\".format(movs))\n",
    "                print(\"¡Victoria!\")\n",
    "                v.draw()\n",
    "                break\n",
    "            \n",
    "            tab.placeTileRandom()\n",
    "            print(\"Puntuacion: {:d}\".format(tab.punt))\n",
    "            print(\"Numero de movimientos: {:d}\".format(movs))\n",
    "            v.draw()\n",
    "            clear_output(wait=True)\n",
    "\n",
    "\n",
    "if __name__ == \"__main__\":\n",
    "    main()"
   ]
  }
 ],
 "metadata": {
  "interpreter": {
   "hash": "89f28dc4781dab19edf63b5c71a1687fff9fce01d0e8a3b589ee0bb3a5a37f0a"
  },
  "kernelspec": {
   "display_name": "Python 3 (ipykernel)",
   "language": "python",
   "name": "python3"
  },
  "language_info": {
   "codemirror_mode": {
    "name": "ipython",
    "version": 3
   },
   "file_extension": ".py",
   "mimetype": "text/x-python",
   "name": "python",
   "nbconvert_exporter": "python",
   "pygments_lexer": "ipython3",
   "version": "3.8.8"
  }
 },
 "nbformat": 4,
 "nbformat_minor": 2
}
